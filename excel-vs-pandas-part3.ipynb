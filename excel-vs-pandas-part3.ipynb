{
 "cells": [
  {
   "cell_type": "code",
   "execution_count": 1,
   "metadata": {},
   "outputs": [],
   "source": [
    "import pandas as pd\n",
    "import numpy as np\n",
    "import matplotlib.pyplot as plt\n",
    "import seaborn as sns\n",
    "from io import BytesIO\n",
    "import base64\n",
    "from IPython.display import display, HTML"
   ]
  },
  {
   "cell_type": "markdown",
   "metadata": {},
   "source": [
    "В файле Cellphonedata.xlsx содержатся данные о численности населения и количестве мобильных телефонов для 20 стран с наибольшим количеством мобильных телефонов. На основе этих данных выполните задания 1—5.\n",
    "1. Создайте гистограмму, суммирующую количество телефонов по странам.\n",
    "2. Создайте точечную диаграмму, отображающую соотношение количества телефонов к численности населения.\n",
    "3. Настройте срез для фильтрации гистограммы с группировкой для количества мобильных телефонов по странам.\n",
    "4. Создайте правило фрагментирования для фильтрации гистограммы, суммирующей количество телефонов по странам.\n",
    "5. Отобразите данные о численности населения на карте."
   ]
  },
  {
   "cell_type": "code",
   "execution_count": 3,
   "metadata": {},
   "outputs": [],
   "source": [
    "cellphones = pd.read_excel('~/Study/excel/Ch46/Practice Files/Cellphonedata.xlsx')"
   ]
  },
  {
   "cell_type": "code",
   "execution_count": 4,
   "metadata": {},
   "outputs": [
    {
     "data": {
      "text/html": [
       "<div>\n",
       "<style scoped>\n",
       "    .dataframe tbody tr th:only-of-type {\n",
       "        vertical-align: middle;\n",
       "    }\n",
       "\n",
       "    .dataframe tbody tr th {\n",
       "        vertical-align: top;\n",
       "    }\n",
       "\n",
       "    .dataframe thead th {\n",
       "        text-align: right;\n",
       "    }\n",
       "</style>\n",
       "<table border=\"1\" class=\"dataframe\">\n",
       "  <thead>\n",
       "    <tr style=\"text-align: right;\">\n",
       "      <th></th>\n",
       "      <th>Rank</th>\n",
       "      <th>Country</th>\n",
       "      <th>Number of mobile phones</th>\n",
       "      <th>Population</th>\n",
       "    </tr>\n",
       "  </thead>\n",
       "  <tbody>\n",
       "    <tr>\n",
       "      <th>0</th>\n",
       "      <td>1</td>\n",
       "      <td>China</td>\n",
       "      <td>1150000000</td>\n",
       "      <td>1349585838</td>\n",
       "    </tr>\n",
       "    <tr>\n",
       "      <th>1</th>\n",
       "      <td>2</td>\n",
       "      <td>India</td>\n",
       "      <td>867800000</td>\n",
       "      <td>1220800359</td>\n",
       "    </tr>\n",
       "    <tr>\n",
       "      <th>2</th>\n",
       "      <td>3</td>\n",
       "      <td>United States</td>\n",
       "      <td>327577529</td>\n",
       "      <td>310866000</td>\n",
       "    </tr>\n",
       "    <tr>\n",
       "      <th>3</th>\n",
       "      <td>4</td>\n",
       "      <td>Brazil</td>\n",
       "      <td>265741000</td>\n",
       "      <td>192379287</td>\n",
       "    </tr>\n",
       "    <tr>\n",
       "      <th>4</th>\n",
       "      <td>5</td>\n",
       "      <td>Russia</td>\n",
       "      <td>256117000</td>\n",
       "      <td>142905200</td>\n",
       "    </tr>\n",
       "  </tbody>\n",
       "</table>\n",
       "</div>"
      ],
      "text/plain": [
       "   Rank        Country  Number of mobile phones  Population\n",
       "0     1          China               1150000000  1349585838\n",
       "1     2          India                867800000  1220800359\n",
       "2     3  United States                327577529   310866000\n",
       "3     4         Brazil                265741000   192379287\n",
       "4     5         Russia                256117000   142905200"
      ]
     },
     "execution_count": 4,
     "metadata": {},
     "output_type": "execute_result"
    }
   ],
   "source": [
    "cellphones.head()"
   ]
  },
  {
   "cell_type": "code",
   "execution_count": 20,
   "metadata": {},
   "outputs": [
    {
     "data": {
      "image/png": "[encoded data removed]",
      "text/plain": [
       "<Figure size 432x288 with 1 Axes>"
      ]
     },
     "metadata": {
      "needs_background": "light"
     },
     "output_type": "display_data"
    }
   ],
   "source": [
    "cellphones.groupby('Country')['Number of mobile phones'].sum().plot(kind='bar');"
   ]
  },
  {
   "cell_type": "code",
   "execution_count": 25,
   "metadata": {},
   "outputs": [
    {
     "data": {
      "image/png": "[encoded data removed]",
      "text/plain": [
       "<Figure size 432x288 with 1 Axes>"
      ]
     },
     "metadata": {
      "needs_background": "light"
     },
     "output_type": "display_data"
    }
   ],
   "source": [
    "sns.scatterplot(data=cellphones, x='Number of mobile phones', y='Population');"
   ]
  },
  {
   "cell_type": "markdown",
   "metadata": {},
   "source": [
    "***\n",
    "На основе данных о филиалах банка создайте спарклайны-графики с одним и тем же масштабом для каждого филиала."
   ]
  },
  {
   "cell_type": "code",
   "execution_count": 73,
   "metadata": {},
   "outputs": [
    {
     "name": "stderr",
     "output_type": "stream",
     "text": [
      "/Users/popov/anaconda3/lib/python3.8/site-packages/openpyxl/worksheet/_reader.py:312: UserWarning: Sparkline Group extension is not supported and will be removed\n",
      "  warn(msg)\n"
     ]
    }
   ],
   "source": [
    "sparklines = pd.read_excel('~/Study/excel/Ch47/Practice Files/sparklines.xlsx',\n",
    "                          usecols=range(2,9), skiprows=6).rename(columns={'Unnamed: 2': 'City'})"
   ]
  },
  {
   "cell_type": "code",
   "execution_count": 158,
   "metadata": {},
   "outputs": [],
   "source": [
    "def sparkline(data, figsize=(2, 0.25), **kwags):\n",
    "\n",
    "    data = np.array(data)\n",
    "    \n",
    "    fig, ax = plt.subplots(1, 1, figsize=figsize, **kwags)\n",
    "    ax.plot(data)\n",
    "    for k,v in ax.spines.items():\n",
    "        v.set_visible(False)\n",
    "    ax.set_xticks([])\n",
    "    ax.set_yticks([])    \n",
    "    \n",
    "    plt.plot(data.argmin(), data.min(), 'r.')\n",
    "    plt.plot(len(data) - 1, data[len(data) - 1], 'r.')\n",
    "\n",
    "    ax.fill_between(range(len(data)), data, len(data)*[min(data)], alpha=0.1)\n",
    "    \n",
    "    img = BytesIO()\n",
    "    plt.savefig(img)\n",
    "    img.seek(0)\n",
    "    plt.close()\n",
    "    return '<img src=\"data:image/png;base64,{}\"/>'.format(base64.b64encode(img.read()).decode())"
   ]
  },
  {
   "cell_type": "code",
   "execution_count": 159,
   "metadata": {},
   "outputs": [],
   "source": [
    "sparklines['Summary'] = sparklines.loc[:, 'Monday': 'Friday'].apply(sparkline, axis=1)"
   ]
  },
  {
   "cell_type": "code",
   "execution_count": 160,
   "metadata": {},
   "outputs": [
    {
     "data": {
      "text/html": [
       "<table border=\"1\" class=\"dataframe\">\n",
       "  <thead>\n",
       "    <tr style=\"text-align: right;\">\n",
       "      <th></th>\n",
       "      <th>City</th>\n",
       "      <th>Monday</th>\n",
       "      <th>Tuesday</th>\n",
       "      <th>Wednesday</th>\n",
       "      <th>Thursday</th>\n",
       "      <th>Friday</th>\n",
       "      <th>Summary</th>\n",
       "    </tr>\n",
       "  </thead>\n",
       "  <tbody>\n",
       "    <tr>\n",
       "      <th>0</th>\n",
       "      <td>New York</td>\n",
       "      <td>1176</td>\n",
       "      <td>768</td>\n",
       "      <td>808</td>\n",
       "      <td>864</td>\n",
       "      <td>1235</td>\n",
       "      <td><img src=\"data:image/png;base64,iVBORw0KGgoAAAANSUhEUgAAAJAAAAASCAYAAAC0PldrAAAAOXRFWHRTb2Z0d2FyZQBNYXRwbG90bGliIHZlcnNpb24zLjQuMiwgaHR0cHM6Ly9tYXRwbG90bGliLm9yZy8rg+JYAAAACXBIWXMAAAsTAAALEwEAmpwYAAAERUlEQVR4nO2Z329TVRzAP+390Z/QsQlsF9ZNCCEgtMGg0BkTDDwgzCY+mPgT9h/44puPvvnmg68mPphICyYalESjGYEwQu8WGWrMyMBxi3WMDbZ17V3vj+PD1rEhIG53Mrp+kpPenp57vt97zyfnnNvrE0JQp85i8T/pBOo83XgpkKiXlVmEEOLitVHxyUefi7ISEEKSBeGwoKdnfrtFIS/2xH/j7MAItuPyyvYN+P2+5QpT5xEMT5ic7M2T0Q2GRku8n+tGdW18rguVCnR3Qyq1pBjLJtBn569zdmCEeGOYY6k23tjbSiykLFe4OrNYjstPv98ikzPoHhjBcQV7Whvo6mjn8IH38PecmJFHVeHAgSXH83m4iV7QkeW4ZHSDTM7gcn6ckCLx+vObOJ5qZ3vzGq9i1pllcKRIJmdwqi/P7WKFZ6IqR3a38FpSI94YnmsX7csR6Tk/I8/C2WdRy8SyCQRwa9JECBgYniSjG3z/6zDTtsv+LY10dTzLoR0bkKX6Pn6xlCo2p/sLZHIG+tAdJJ+Pl7Y1kU5qpLY2Ifv/eW/DqsSa4ANXgpUrUJXxksXXl29yqvcmf02YaA1B3t3fxpsvxGmMqF7lUdMIIfjZuEtGN/jm8p9MTTvEG8OkkxpHdjfTFA088vynWqAqjis4f/U2J3SD3qE7BGQ/6aTG8Y52dm2KeZVPTTE2VeGrvjyZnMHArSJBxc/BHRtJJzWSm2P4fI83/jUh0HyujRTJ6nm++6WAabnsbVvH8Y52Du9qRlnly5vjCs5dHSGjG/zw2zCWI3hOW0s6qXFo50aigf/+DFRzAlWZNC1O9xfI6nlu3i2zcW2Ad/a18daLcdavefS0XGsYYyWyukG2N09h3CQWUnh1VzPppMbWDdEl9V2zAlVxheDC4ChZ3eDitTEUyUdnQuNYqo098XVe5bpicFxB0bSZnLbou3GXE7kbXBgcBQH7tjSSTmq8vG09quzNbFzzAs1naHSKk715vu0vMFVxSGyO0dXRztFECwFZWkqunmA7LpOmzaRpM2FaFKft2e/Wgs+JB9ZZFE2bqYqzoM+WWJDORAudCY3mWNDznFeVQFWK0zZnrhTI9uYZGi3RFFF5e1+cLl+BJr3nQf9pLMB1BabtUKo4lCsOZWv+sf2QeodSxaZccSlb9pwo90SwKVvOQ2NWCch+ogGZSEAmOlsiAYloUCaiztYFZ37f1BBiT7wB/2NuiBfDqhSoiisEl66PkdXzlM6e44svP0R1bBxF4eMPPuVKfOcCEUoVG9NyH2ug7ycg+wkqEiFFIqj4idwnwZwIswLcq5vXJiivuAcBrwVatlcZAE0R7ze/nQmNzoTG+B9nCLg2fuEiLIvW/kv0t+6kIaKiKRIhdWbwQ6pE+L7joFKtk+fazW8TUqSafX/n9VV5OQP9v/h8KeBHQAEs4CBC9DzZpFYfT69AdVYEfwP9JpR3naL+ewAAAABJRU5ErkJggg==\"/></td>\n",
       "    </tr>\n",
       "    <tr>\n",
       "      <th>1</th>\n",
       "      <td>Rochester</td>\n",
       "      <td>475</td>\n",
       "      <td>323</td>\n",
       "      <td>333</td>\n",
       "      <td>356</td>\n",
       "      <td>515</td>\n",
       "      <td><img src=\"data:image/png;base64,iVBORw0KGgoAAAANSUhEUgAAAJAAAAASCAYAAAC0PldrAAAAOXRFWHRTb2Z0d2FyZQBNYXRwbG90bGliIHZlcnNpb24zLjQuMiwgaHR0cHM6Ly9tYXRwbG90bGliLm9yZy8rg+JYAAAACXBIWXMAAAsTAAALEwEAmpwYAAAEMElEQVR4nO2a3U9bZRyAn9Nz2lNK+QYH7Zo5JZsyNunGjESjxEXNjFNwDq/8A3blrdFr70288MobE9CbZQqLOiOKzgSKG6Pdh9swUworDHRAy0d7vl4vWqBjRLE7bHz0SU5+79v39H1/6XnOr29OKwkhyJMnVxwPO4E8mxs7BRL5Y2MeQggxEJ0SH3/4mVhwqkLIisDjEfT2Zp+XE0qub8yz8Ukkdb4cjNHeN8y18QTv9v+IyzKQLAs0DXp6oKnpvtaQbNwD3TXRzzcmMS3B83uqkB2SXWvkWQOR0Wk6QlE6wzHmNZO9O4poCfp4fX4Y31vHkDQNXC7o7s4WKKeLtG4CvfNpiHNDf1Fd7Ob4IT9tjQF2VRTatVaeFcylDDrDMTpCw1y6FcftdPBS3Q5ag37qaoqRpLQf3oFfKez9BZqbV1afjSWQZlicvjjKV4Mx+m7+jSXgmcfKaWsMcLS+hgKXbNe625qrsTgd/cOcvniLuZRJbZWXlqCPo/U1eN337lA8Lpkit3O1qTaWQAATiSRCpOPXkXG6IjFGpxbwqgpvNPhoawxwYGfJ0t2RZ20saCZdkRgdoSiDI9OoioMjTz5Ca9DPfv+/f56bUqBFLCEYjE7TGY7xw7UJUobF3uoi3m4M0Br0U1bosiuXLcmN2wk6QlFODYySSBo8WuGhJejn1f01lBSsKsU9bGqBsplNGnx3dZzOcIzfxhI4ZYmX66ppOxzgudrK/MY7Q1I3+ebyGO19Uc4PT+GUJV58Il1tGgKl/7t6bxmBshmaSNAVHuPby+PMLOjUlLg5cWgnJxoDBMo9duW3qfh9YpbP+6OcujDK9IJOoLyAlgY/rx2oodSTe6XekgItohkW54Ym6QzHCN28gwCefbyCtsMBXtlXjdu5tTfeKcPk7JXbtPcNE/rjDopD4oU9Vbx50M/BXWU4bNgrbmmBshmfSXImEuNMZIyxmSTFboWWYPpxQL2/5H5zXXdMSzCbNIgndRJJg8RiTC32s8fS4+GRaabmdXyl7qVqU+FVbc1r2wi0iCUEF/6cojMco+f6JJppsc9XTFtjgOOpEbx9qz7TWNvclkC3LDTDQjdFJlqkMlHLirMpY4UI6XY8I8Bs5vV4Umc2aTCnmf+5vlOW8KoKXlWhUFXYWVbAsad8PL273JZqsxrbTqBs4gs6Z6+M0xUeo3Cgn/YvPsBlGZiKk4/e+4Tru+vRVlz45f6yIJqZjrqZe3Kq4li68IsSeFR5qe1VFbzuu8eXZZHxuhVU5cF/Jdst0Lr+FlZRaG/5rfSqnGyu5WRzLRPvf4/LMpAtC6HrVJ7v5aeKWlyyA6fswONSKCmQcCnp/lLMtNPnrTKeiarswKlIy/OpCkVuhSJVocjtxKVszj8y2F3X7KxADxZJagK6ASegA0cQovfhJrX92LwC5dkQ/ANpiY3Um+zWOgAAAABJRU5ErkJggg==\"/></td>\n",
       "    </tr>\n",
       "    <tr>\n",
       "      <th>2</th>\n",
       "      <td>Utica</td>\n",
       "      <td>360</td>\n",
       "      <td>250</td>\n",
       "      <td>228</td>\n",
       "      <td>275</td>\n",
       "      <td>378</td>\n",
       "      <td><img src=\"data:image/png;base64,iVBORw0KGgoAAAANSUhEUgAAAJAAAAASCAYAAAC0PldrAAAAOXRFWHRTb2Z0d2FyZQBNYXRwbG90bGliIHZlcnNpb24zLjQuMiwgaHR0cHM6Ly9tYXRwbG90bGliLm9yZy8rg+JYAAAACXBIWXMAAAsTAAALEwEAmpwYAAAEDUlEQVR4nO2ZXU8jVRyHn2k7QzvlpaVLWWgs6IVAYtay6yZyV+xeGDUuXhn3A3jj7V54541XJn4GE7+CYRdXYHE1Ie7qJi7l1WxJNG5Li7wtMx1mOj1e9IWBQBQoAUqf5GRmkjPn/DN58s9vZiQhBA0aHBfXWRfQ4GJTS4FEY5zPoe0UxHe/vxBfffGNyMtNQrg9AlUVTE875x0Lz3Fv/C9Gn6XZ3rF4940u2nzyaW3T4BB0s8DkQpZ7M2kmF7IYVpG7v/2EUiwgFYtgmjA1BUNDJ9pHqmEG2rPQp9/+yoO5FRSPi0R/mNuxCMP9HTR53LXar8E+dLPAw4Uc92bSTCysYFhF2v0K7/SHSfSHeSu9yJWR95BMExQFJiacAknH2fPUBBJCMLWY5X4yw/h8ljXNpNXr4f1rXYzEItzsbcflOlbNDRzkTZuHi1lGZ9JMzmfJWzbtfoXhvg5uDXTy5isB3I7n3Pz0Cf7pnyEe3999zpdAANmXBkJAoVjkyfI6Y7MZphZL7bQ74OV2LMJILELf1ZZa1XApyJs2U2VpJvZJkxjoJLZPGieq4qbFe2CkOL8COcmbNo/+yHE/meFxag1bCPqvtvDRYIQPY910tflqVU9dYVgVaTJMzK+gmzZBVWa4L0xiIMxgNHioNE4uvEBO1jST8bkVvp/NkHyxhSTB26+GGBnsboRvKtLkyp1mV5p4X5hbA2Fi0QAe19FepOtKICd/ruk8mM0wlszw13r+0oZvw7L5cSnH6LOSNJppE1Bl4q+XMs1gz9GlcVK3AlUXEYK59BZjyQw/zK2wrlt1G76FEOS2d0jlNFI5jV+W/2F8fgVtx6bNJxMvB+HrJ5TGSd0L5KQavpMZppYubvg2LJvlVa0syjapVY3nuW1SOY3tnUJ1XkWaxECYG9EgHnftfxRcKoGc6GaBR0urjM3uDd8fXOsiEvQR8CkEVJmAqhDwybT65P8VKmuFEILMllGV5HlOI7VaOv97I7/nOYRbmugJqUTbVXpDfqIhlZ6QSmerF5d0ujVfWoGc7A/fByFJ0OqVafPJBFSZoFoWzFeWTJX3CBdQFYKqTIv3APGmp0tfbeNxtOs3WXZ0kIoky6saumlXb/HJ7qoku0c/0XYVn3J2ea4h0D428xabusWmYbGZt9iqDKOwe21YbOXL14bFS6Nw6HoV8Sqy3XixyOdff4bbsrA8Mnc+/pKnkYHSXKCrzVsSI6TSU5ElpNLR3IR0yt3kONRaoFP7FwYQ8jed5vIAXGk++h52UbBlWGzoJhu6xUZZwnXdZDNvsaGXZFzXTXqTj3FZFm5RBLvAXSXN2id3eK3DT0/Ij1e+WG+HtVa6lh2oPpGkIWACkAELSCDE9NkWdX5oCNTgRPwLpqKl0DHPYJ0AAAAASUVORK5CYII=\"/></td>\n",
       "    </tr>\n",
       "    <tr>\n",
       "      <th>3</th>\n",
       "      <td>Syracuse</td>\n",
       "      <td>594</td>\n",
       "      <td>412</td>\n",
       "      <td>408</td>\n",
       "      <td>459</td>\n",
       "      <td>618</td>\n",
       "      <td><img src=\"data:image/png;base64,iVBORw0KGgoAAAANSUhEUgAAAJAAAAASCAYAAAC0PldrAAAAOXRFWHRTb2Z0d2FyZQBNYXRwbG90bGliIHZlcnNpb24zLjQuMiwgaHR0cHM6Ly9tYXRwbG90bGliLm9yZy8rg+JYAAAACXBIWXMAAAsTAAALEwEAmpwYAAAEcUlEQVR4nO2Z228UVRyAv5nZa7fdLm3ZS2vtcpMi3RghXLaSWK2CLQkJGqOJpBhejG+Y+BcYEx/9F3w06QU0JGKwCSiyGNgt1gICoVGYXdpS6LaFvc3OHB92t2mRi2mn0st+yck5OzmX35l8mXNZSQhBmTLzRX7eAZRZ3pgpkCinpZl0Q4gz1++Kr7/4RqStdiEUi6CiQhCJzK43LyzzbfgseqIqyVSO97c3Ul1hXaxhyjyFayPT9MVUjg3EGZvO8tmFM9iMPJJhQC4Hp09DOLygMSQT90BzOjr67QDHLyVwWGUOvtpAVzjIloDbrLHKPIHxB1m+v5SgL6YylJjCIkuEN9TSGQrw5sRNvAf3I+VyYLNBf/9sgaT5jLdoAgGcvXGX7qjKj0MjZPIGO4Jr+Lh1HXu3+rAq5e2XWWTzOv1Xx+iLqZy+dpe8IWj2V9EZCvD2yz5qXLaZupWxC7giZ6Gt7dGvz9ITaGw6gxAwmdY4MZigJ6qSSGbwue18tKuJD3c24q1ymDX+qkIIwcDtJL1RlRODd5hMa6yttPNOi5+OFj8bvJWPbVdhU6hyPHZLsXQFKqEbgsjNe3RHb3N++D5WRaIzFKArHGTbix4kaV5zWFWoEymOxeL0xlT+upfCbpFp27yWzlCAHcEaFPnp73BZCzSbW/dS9MRUTgwmeJjVaal309Ua5MAr9TisilkxrQgeZPP88McdemMq54fvA7DtRQ+doQBvNHuptP/3s9CKEahEKpfn5NAI3RdVhscf4nFa+WBnI4d2NdFYU2FWbMsO3RCcuzlOXyzOyaER0ppO4xonHaEAHS1+6j3OefW74gSaaSwEsVtJui/e5ufr4xgI2pt9HG5tYs/GulWzvN0YnaY3Fuf4QJyRqQxVDgtvbfGxPxSgpcG94PewYgWazehUhmOxOMcvxZlIaayvc3G4Nci72xqeNPllhRCCZEojnkyTSKZn8t+G7zMYn0SRSkdvP3s21WG3mLekrwqBSuTyBj9dHaUnqnI5MYXLpvDe9hfoCjex0Vu1kFgXFU03GJnMzIhRkiSezJCYSJOYTJPK6XPa2C0y69e62LfVz76t/jlHbzNZVQLN5nJikp6oyqkro2i64LUNtXS1Bmlv9mJZ7DulSKRwa9vWhti9m6lMviBFUYaCKBniEyniyTRj09l/zbvGZcPntuN3O/BXO/C5HQSKud/twFNh/V+W6VUrUImJhzm++71w0zo6laXGZaPaaUWRJGQJZFlCfqSsyIXfkiQV6skU6xSeK7KE9Ei51N+6G4N8+uUnKJqGZrFy5NBXnPO+NCcmqyLhdxdk8FU7CBRzf1EOr9u+ZE6WZgu0aP+FAdS67Kb3WVdp5/O9mznavon+P8c4dWWUXN7AEKKYwDBmlYvPdaOw98gbBnq+UDaEQBcCUaynG4WyLgRGsdz86y/ImoYiDNDzHNH+5vWOA9R7nDR4nNR7nNS6bMjPuH9ZKpgdpZlfoJWJJIWBfsAKaEA7QkSeb1BLh7JAZRbEP69Zk7dfKMpnAAAAAElFTkSuQmCC\"/></td>\n",
       "    </tr>\n",
       "    <tr>\n",
       "      <th>4</th>\n",
       "      <td>Buffalo</td>\n",
       "      <td>698</td>\n",
       "      <td>475</td>\n",
       "      <td>504</td>\n",
       "      <td>551</td>\n",
       "      <td>803</td>\n",
       "      <td><img src=\"data:image/png;base64,iVBORw0KGgoAAAANSUhEUgAAAJAAAAASCAYAAAC0PldrAAAAOXRFWHRTb2Z0d2FyZQBNYXRwbG90bGliIHZlcnNpb24zLjQuMiwgaHR0cHM6Ly9tYXRwbG90bGliLm9yZy8rg+JYAAAACXBIWXMAAAsTAAALEwEAmpwYAAAEA0lEQVR4nO2Zy08bRxyAv/U+sAFDi0HYRImUQNWGl3JqStNWiSICwpHyl0TtoYceeuqtt15676VqKoEiVbk0KijlURQIoICSoGKSthgK5lEbitfs7KOHNa4hUCvGNDz8SaPZGY9/M979NL+xLTmOQ5Ei+eJ53QsocrwppEBOsRzNYtmOMzCz7Hz1xTeOrpY4jqw4lJY6DA9nj8sLJd83Fjn6PF/+m57xKD3j8ywmUnwy+jOabSLZNhgGPHgAbW0HmqMo0AljPSW49/hPesajjP3+Fx4JLl8IcPtaA9ev+fAMf+/Ko2lw9eqB55MKeIjeESieNPB7VWSPVKj4RfbBsh2GIit0j0X58ckiW6bN+epSwq11dDYFqfGXZMaWj49SNjzoyrNz98nrQR2aQB/fmWAoskJnc5Cu5hDvnq9CkYtn9kISibkp6u74PIvrKSq8Cu2NtdxsreNiyI8kvexEqSbj96p7hTtaAv30dInvRv9gKLJCSthUlWl0NgcJt4S4XJQpbxK64N7kAt2PokzMxZEliffqqwi3hPjwrRo05b/v67ERCCC2kUI3LH6ZXaX32RJDkVV0YfFmqeruTC0h2i4EijLlwLIdBmaW6R6Lcv/pEoZpc6G6jHBriM7mINXlJbmDpDl2AmWHTwmL4dlV+qZjDEZWSBquTB1NaZnqA6hFmTJEYht0j81zdyLK0voWlT6VG421hFtDvBPcO0Xl4lgLlE1KWDx8vkbv9BKDMytsGhZv+FRuNNXS1RLiSkP1qZQpkRT8MLlA96M5HkcTyJLE+w0BulpCfNBQnTNF5eLECJTNlrktU4yBmWU2tywqfSrtjbWE0zId9MYdFQzTJqELErpBPCncogviSYOJuTj3nywiLIf6mjJuttbR0VRL4BVSVC5OpEDZGKbNwxer9D6L0Z+Wyf12ESTcGuRKQzUlilyoNeeF4zikhE08S4KMEPqudlKQ0AVx3SCRFGwa1r5xK30qHU1uinq7Nr8UlYsTL1A2hmkz8tsafWmZNlImfq9C+0U3zX20OoM2OLDXbxo7sGyHpGGiGxbJdNGF+e91pj89Rmz3mZnX11Mia8cwENb+H0zxSFT6VCp8Cn6v6l573XaFV8XvVajwvdxf7lXwHII02ZwqgbIRls3IizX6pmP0/7pMw+wU3975HM0WWIrKl59+zdS5RnRjlxjCwjDtV5pL8Uj4NBmfKuNV3brcq1Cx68Fvi7C736t6DmX3KASFFuhQ/8oIlBUudwPcunSGW5fOYJg2C5/1o9kC2bZxhODc5AhTZxsJlJdwVpXxaTKlmuLWmbaMT1N2tdO1qmTaJ/nwXmitC7kD/b9IUhvQC6iAAK7jOMOvd1Gnj+MrUJEjwT8SUYNdqe5+lQAAAABJRU5ErkJggg==\"/></td>\n",
       "    </tr>\n",
       "    <tr>\n",
       "      <th>5</th>\n",
       "      <td>Ossining</td>\n",
       "      <td>306</td>\n",
       "      <td>208</td>\n",
       "      <td>204</td>\n",
       "      <td>234</td>\n",
       "      <td>322</td>\n",
       "      <td><img src=\"data:image/png;base64,iVBORw0KGgoAAAANSUhEUgAAAJAAAAASCAYAAAC0PldrAAAAOXRFWHRTb2Z0d2FyZQBNYXRwbG90bGliIHZlcnNpb24zLjQuMiwgaHR0cHM6Ly9tYXRwbG90bGliLm9yZy8rg+JYAAAACXBIWXMAAAsTAAALEwEAmpwYAAAEW0lEQVR4nO2Z3U9bZRyAn3NOT+kpGy1jrC3QTt1H9lHnog5GFhfcJILRxGRRt3HlhYnxzj/BC+ON/g9651X34ZLF6LK5D+siabthdDgcm+sBx0cLjFLo+Xi9aBlFcQi0GbA+yZu+7fvxe/Pm6S+/nkpCCCpUWC7ykz5AhbVNKQUSlbY6m2nZ4uKtIfHFJ1+KrFolhOIQuN2CaLR43rJwLHfhYiTuj6EqEnsbPOUKUeExCCH4RZ8gEk9yNjHAaCbHx92Xcdomkm1DLgeXLkFr64rilE2gz7/t5WrfCPuDXk62hHhrXwOaUylXuAoF9LEsp+M6p2I6fcOTqIrEoe2beSMcoO1VN/KPX+flcTqhrW3F8aQSFtHzNhqfMvgq2k8kpnN3dIqNLgfHXmziZEuInb6NpYpZAXg4bXC+5y8i8STX+1MIAS80eegI+3ltt48aTX00d0PsZ6qjV/PyzM8+0nJil00ggKGH09i2IHF/jEhM52LvEIYlOPBMLV0tW+kI+3Gplay0HAzL5srtYSIxne9+fcCMaROs1egI++kMB2is1RZc53YqbHSpCw2tToGKt09ncpzrGeR0XCeZzlLrVnnn5SAnmkM8u7m6VOdYtwgh6NHHicR0zt4YIJXJ4dFU2vf46Aj7CTfUIEmP92BNCzSLLQTdd9NEYkmu3B7BtAWHttVxsmUr7Xt8OB2VpwvFzNY1kViSP4YzqIrEKzvq6Qz7ad1Wh6r8//taFwIVMzI5wzc3BjiTGGBwfJrNG5y8W8hKwU3uUp1tzTExbXC+Z5BITOd6fwqA/UEvnWE/R3dv+S8JFmXdCTSLZQt+ujPKqbjOtb4RBHB4Rz1dLSGO7NqCYwnfsrWKYdlc/n2YSFzn+0JdE9rkpjPspyPsp8G7cF2zFNatQMU8mJjmTGKAs4kBhidn8Ne4eO9AkOPNQQKelV/ik0QIwUTWJDk2RTKdJZnOoqezJNNTdN9Lk8rk8LpV2nf76Hzez57A4nXNUngqBJrFtG2u3R7N/zy9k0KS4MguH10tIQ7vrEeRS3expUIIwdiUkRejSJJkeq4/OWPOW6OpCgGvi231G3h9r4/W5+rKlnGfKoGK0dNZTid0zt0cJJXJ0ejVONEc5NhLTdRVV+GQJeRyCRWN5p/atrUhDh4klcnNZY9iSVJT6GNZMjlr3vLqKoWARyPgcRVavu/3uGjwaNRojpJmmcfx1Ao0i2HZ/NA7zKm4Tve99LwxWQJFlnDIMoosoSoSiiwV+nJh7N/vHbKMozA3Py4/Wru97yYfffohimFgOFTe7/qMqG/nvLg1Lgf+BcQIePPCLLfgLQelFqhsf2UA1FVXlWXf480hjjeH6B+Z5MJvQ8yYNpYtMKz8q2kLrEL752emZc/1i+bkzLl5pm1jWQJTCPZFryEbBoqwwTL5wP6T9jffpqlWo9Gr0VirrSpBFqPUea6UGWh9IkmtwAVABQzgKEJEn+yhVg8VgSqsiL8BNMKabADC8QwAAAAASUVORK5CYII=\"/></td>\n",
       "    </tr>\n",
       "    <tr>\n",
       "      <th>6</th>\n",
       "      <td>Ithaca</td>\n",
       "      <td>437</td>\n",
       "      <td>288</td>\n",
       "      <td>294</td>\n",
       "      <td>299</td>\n",
       "      <td>450</td>\n",
       "      <td><img src=\"data:image/png;base64,iVBORw0KGgoAAAANSUhEUgAAAJAAAAASCAYAAAC0PldrAAAAOXRFWHRTb2Z0d2FyZQBNYXRwbG90bGliIHZlcnNpb24zLjQuMiwgaHR0cHM6Ly9tYXRwbG90bGliLm9yZy8rg+JYAAAACXBIWXMAAAsTAAALEwEAmpwYAAAEPUlEQVR4nO2Y208cVRzHPzOzsyz3phQstG5ZrFWi2NoqlAYUL09E60M1FmlsjBj9G/rkoy990ReD9UFqi6YlxmhSldZgpd1yW6P2YpRu2YUi23ahxe0CuzPn+LC7sDRguSxy2f0kJ+f6+51f5nzPzC+jSClJkWKhqMsdQIrVTSIFJOPL6HhYmkLKe8dTZXlK3627svGDz+WYnialZpFkZEiczvg1C2LJ3kDvf32J5w+30eTsIxgylmqbFPfB5R3hvaM9PHe4jdHvT2MVBoowIRSCtrZF+1cSmANNc/Tdxb/56MdeLg2Osi5dp363nYOVxRTk2BK1X4pZMIXk9BUfn5x10+0ZIdtmYd/OzbzJII79r6CEQmC1wpkzUFkZM1MWsteSCQjANzrGr/13ON7h5ac/b2LRFPZu30RDtYPSwpxE7ZsiynjY5GTPAEd+dtPnD1KYa6Ou3M7L2wvJsFoAyHJ1kelsh5qaePHAShTQjX/GibnvHw7yZVc/3/w2yHhYULV1Aw3VDp7dlo+iLCj2FFH8gQmOXvDw2fk+RoJhSguzOVCxhZpH87Go07OUDKtGtk2fyc3KFlCMO2NhvvrlOie6+7kVCLGtIIuG6hL27ijCpmuJiiUpuHbrLp+2uznRPcCEEbmU9RV2nrSvm/VSrnoBxQibgtbLPo51eOm9ESAv08rBPcUc2L2F9ZnWRMW0JunxDNN41s0Pl31YVIXaskLqyu04NmTe13bNCGjSSEq6+0Y41unFedVPmkVl367NvF3l4KH8rETFtuoxhaT1so/Gs1dxeW+TE02MX3tqM3lZaXP2s+YEFI/7ZoAvuvo59fsQIVPwYmkBDdUlVDjWJ22eNBYyOemKJMYef5CidTbeKLfz0hNFpFvn/8lf0wKK4Q9M0OK6TotrgNvBMI8X5fDOMyXUlhWia8nx89wfmKDJ6aHJGUmMHyvKob7CTs0jBWjqwi9TUggoxnjY5NTFIZo7vXj8QTbm2nhrTzH7y+3kps/4EFY97psBjrRfo6UnkhhXPxxJjHc8OHtiPB+SSkAxhJSc7/VzvNNLj2eETKvG60/bedfq4wHXhZn+aSwKKSWGkJhCEjYFppjqG0JimhJDRMZNKTFMec8agRBMrplmKwSmAFOIqfGofVffMK1XfOiqSm3ZRurK7RTPITGeD0kpoHj+GBqluaMff2sbTc2HsJoGpq7z4aGP6S0pw4gejGFOHf5kLSSGOTVvCBGtp9qxg14OctN19u3cxKu75pcYz4dEC8iyuHD+m7zMxD+Eqq35VG3NJ/DXt6QJA1UKZDhMbsc53NkOLJqKpipYNAVdVdE1lXSrhh4d11UlOq+ia9G2qmLR4utIOzavqcqkvSVmryqok311cjx+zVQ/zjbqX1XifEV9p+vaovKbuZBo74l8A/2/KEolcAbQgTDwAlI6lzeo5GP1CijFiuBfWdmZ+E7duS8AAAAASUVORK5CYII=\"/></td>\n",
       "    </tr>\n",
       "  </tbody>\n",
       "</table>"
      ],
      "text/plain": [
       "<IPython.core.display.HTML object>"
      ]
     },
     "execution_count": 160,
     "metadata": {},
     "output_type": "execute_result"
    }
   ],
   "source": [
    "HTML(sparklines.to_html(escape=False))"
   ]
  },
  {
   "cell_type": "markdown",
   "metadata": {},
   "source": [
    "***\n",
    "Зафиксируйте взлеты и падения рынка с помощью спарклайнов выигрыша/проигрыша. Как и в предыдущем случае, данные находятся в файле Dow.xlsx."
   ]
  },
  {
   "cell_type": "code",
   "execution_count": 115,
   "metadata": {},
   "outputs": [],
   "source": [
    "dow = pd.read_excel('~/Study/excel/Ch47/Practice Files/Dow.xlsx')"
   ]
  },
  {
   "cell_type": "code",
   "execution_count": 116,
   "metadata": {},
   "outputs": [
    {
     "data": {
      "text/html": [
       "<div>\n",
       "<style scoped>\n",
       "    .dataframe tbody tr th:only-of-type {\n",
       "        vertical-align: middle;\n",
       "    }\n",
       "\n",
       "    .dataframe tbody tr th {\n",
       "        vertical-align: top;\n",
       "    }\n",
       "\n",
       "    .dataframe thead th {\n",
       "        text-align: right;\n",
       "    }\n",
       "</style>\n",
       "<table border=\"1\" class=\"dataframe\">\n",
       "  <thead>\n",
       "    <tr style=\"text-align: right;\">\n",
       "      <th></th>\n",
       "      <th>Date</th>\n",
       "      <th>Adj Close</th>\n",
       "    </tr>\n",
       "  </thead>\n",
       "  <tbody>\n",
       "    <tr>\n",
       "      <th>0</th>\n",
       "      <td>2010-01-04</td>\n",
       "      <td>10583.96</td>\n",
       "    </tr>\n",
       "    <tr>\n",
       "      <th>1</th>\n",
       "      <td>2010-01-05</td>\n",
       "      <td>10572.02</td>\n",
       "    </tr>\n",
       "    <tr>\n",
       "      <th>2</th>\n",
       "      <td>2010-01-06</td>\n",
       "      <td>10573.68</td>\n",
       "    </tr>\n",
       "    <tr>\n",
       "      <th>3</th>\n",
       "      <td>2010-01-07</td>\n",
       "      <td>10606.86</td>\n",
       "    </tr>\n",
       "    <tr>\n",
       "      <th>4</th>\n",
       "      <td>2010-01-08</td>\n",
       "      <td>10618.19</td>\n",
       "    </tr>\n",
       "  </tbody>\n",
       "</table>\n",
       "</div>"
      ],
      "text/plain": [
       "        Date  Adj Close\n",
       "0 2010-01-04   10583.96\n",
       "1 2010-01-05   10572.02\n",
       "2 2010-01-06   10573.68\n",
       "3 2010-01-07   10606.86\n",
       "4 2010-01-08   10618.19"
      ]
     },
     "execution_count": 116,
     "metadata": {},
     "output_type": "execute_result"
    }
   ],
   "source": [
    "dow.head()"
   ]
  },
  {
   "cell_type": "code",
   "execution_count": 171,
   "metadata": {},
   "outputs": [
    {
     "data": {
      "text/html": [
       "<style  type=\"text/css\" >\n",
       "#T_8d9f5_row0_col2{\n",
       "            text-align:  center;\n",
       "        }#T_8d9f5_row1_col2{\n",
       "            width:  10em;\n",
       "             height:  80%;\n",
       "            background:  linear-gradient(90deg, transparent 46.5%, red 46.5%, red 48.0%, transparent 48.0%);\n",
       "            text-align:  center;\n",
       "        }#T_8d9f5_row2_col2{\n",
       "            width:  10em;\n",
       "             height:  80%;\n",
       "            background:  linear-gradient(90deg, transparent 48.0%, green 48.0%, green 48.2%, transparent 48.2%);\n",
       "            text-align:  center;\n",
       "        }#T_8d9f5_row3_col2{\n",
       "            width:  10em;\n",
       "             height:  80%;\n",
       "            background:  linear-gradient(90deg, transparent 48.0%, green 48.0%, green 52.2%, transparent 52.2%);\n",
       "            text-align:  center;\n",
       "        }#T_8d9f5_row4_col2,#T_8d9f5_row44_col2{\n",
       "            width:  10em;\n",
       "             height:  80%;\n",
       "            background:  linear-gradient(90deg, transparent 48.0%, green 48.0%, green 49.5%, transparent 49.5%);\n",
       "            text-align:  center;\n",
       "        }#T_8d9f5_row5_col2{\n",
       "            width:  10em;\n",
       "             height:  80%;\n",
       "            background:  linear-gradient(90deg, transparent 48.0%, green 48.0%, green 53.8%, transparent 53.8%);\n",
       "            text-align:  center;\n",
       "        }#T_8d9f5_row6_col2,#T_8d9f5_row52_col2{\n",
       "            width:  10em;\n",
       "             height:  80%;\n",
       "            background:  linear-gradient(90deg, transparent 43.4%, red 43.4%, red 48.0%, transparent 48.0%);\n",
       "            text-align:  center;\n",
       "        }#T_8d9f5_row7_col2{\n",
       "            width:  10em;\n",
       "             height:  80%;\n",
       "            background:  linear-gradient(90deg, transparent 48.0%, green 48.0%, green 54.7%, transparent 54.7%);\n",
       "            text-align:  center;\n",
       "        }#T_8d9f5_row8_col2{\n",
       "            width:  10em;\n",
       "             height:  80%;\n",
       "            background:  linear-gradient(90deg, transparent 48.0%, green 48.0%, green 51.7%, transparent 51.7%);\n",
       "            text-align:  center;\n",
       "        }#T_8d9f5_row9_col2{\n",
       "            width:  10em;\n",
       "             height:  80%;\n",
       "            background:  linear-gradient(90deg, transparent 35.5%, red 35.5%, red 48.0%, transparent 48.0%);\n",
       "            text-align:  center;\n",
       "        }#T_8d9f5_row10_col2,#T_8d9f5_row20_col2{\n",
       "            width:  10em;\n",
       "             height:  80%;\n",
       "            background:  linear-gradient(90deg, transparent 48.0%, green 48.0%, green 62.6%, transparent 62.6%);\n",
       "            text-align:  center;\n",
       "        }#T_8d9f5_row11_col2{\n",
       "            width:  10em;\n",
       "             height:  80%;\n",
       "            background:  linear-gradient(90deg, transparent 32.8%, red 32.8%, red 48.0%, transparent 48.0%);\n",
       "            text-align:  center;\n",
       "        }#T_8d9f5_row12_col2{\n",
       "            width:  10em;\n",
       "             height:  80%;\n",
       "            background:  linear-gradient(90deg, transparent 21.2%, red 21.2%, red 48.0%, transparent 48.0%);\n",
       "            text-align:  center;\n",
       "        }#T_8d9f5_row13_col2{\n",
       "            width:  10em;\n",
       "             height:  80%;\n",
       "            background:  linear-gradient(90deg, transparent 20.2%, red 20.2%, red 48.0%, transparent 48.0%);\n",
       "            text-align:  center;\n",
       "        }#T_8d9f5_row14_col2,#T_8d9f5_row114_col2{\n",
       "            width:  10em;\n",
       "             height:  80%;\n",
       "            background:  linear-gradient(90deg, transparent 48.0%, green 48.0%, green 51.2%, transparent 51.2%);\n",
       "            text-align:  center;\n",
       "        }#T_8d9f5_row15_col2{\n",
       "            width:  10em;\n",
       "             height:  80%;\n",
       "            background:  linear-gradient(90deg, transparent 47.7%, red 47.7%, red 48.0%, transparent 48.0%);\n",
       "            text-align:  center;\n",
       "        }#T_8d9f5_row16_col2,#T_8d9f5_row49_col2,#T_8d9f5_row53_col2{\n",
       "            width:  10em;\n",
       "             height:  80%;\n",
       "            background:  linear-gradient(90deg, transparent 48.0%, green 48.0%, green 53.5%, transparent 53.5%);\n",
       "            text-align:  center;\n",
       "        }#T_8d9f5_row17_col2,#T_8d9f5_row71_col2{\n",
       "            width:  10em;\n",
       "             height:  80%;\n",
       "            background:  linear-gradient(90deg, transparent 33.0%, red 33.0%, red 48.0%, transparent 48.0%);\n",
       "            text-align:  center;\n",
       "        }#T_8d9f5_row18_col2{\n",
       "            width:  10em;\n",
       "             height:  80%;\n",
       "            background:  linear-gradient(90deg, transparent 41.0%, red 41.0%, red 48.0%, transparent 48.0%);\n",
       "            text-align:  center;\n",
       "        }#T_8d9f5_row19_col2{\n",
       "            width:  10em;\n",
       "             height:  80%;\n",
       "            background:  linear-gradient(90deg, transparent 48.0%, green 48.0%, green 63.7%, transparent 63.7%);\n",
       "            text-align:  center;\n",
       "        }#T_8d9f5_row21_col2{\n",
       "            width:  10em;\n",
       "             height:  80%;\n",
       "            background:  linear-gradient(90deg, transparent 44.6%, red 44.6%, red 48.0%, transparent 48.0%);\n",
       "            text-align:  center;\n",
       "        }#T_8d9f5_row22_col2{\n",
       "            width:  10em;\n",
       "             height:  80%;\n",
       "            background:  linear-gradient(90deg, transparent 13.2%, red 13.2%, red 48.0%, transparent 48.0%);\n",
       "            text-align:  center;\n",
       "        }#T_8d9f5_row23_col2,#T_8d9f5_row59_col2{\n",
       "            width:  10em;\n",
       "             height:  80%;\n",
       "            background:  linear-gradient(90deg, transparent 48.0%, green 48.0%, green 49.4%, transparent 49.4%);\n",
       "            text-align:  center;\n",
       "        }#T_8d9f5_row24_col2{\n",
       "            width:  10em;\n",
       "             height:  80%;\n",
       "            background:  linear-gradient(90deg, transparent 34.2%, red 34.2%, red 48.0%, transparent 48.0%);\n",
       "            text-align:  center;\n",
       "        }#T_8d9f5_row25_col2{\n",
       "            width:  10em;\n",
       "             height:  80%;\n",
       "            background:  linear-gradient(90deg, transparent 48.0%, green 48.0%, green 68.2%, transparent 68.2%);\n",
       "            text-align:  center;\n",
       "        }#T_8d9f5_row26_col2{\n",
       "            width:  10em;\n",
       "             height:  80%;\n",
       "            background:  linear-gradient(90deg, transparent 45.3%, red 45.3%, red 48.0%, transparent 48.0%);\n",
       "            text-align:  center;\n",
       "        }#T_8d9f5_row27_col2{\n",
       "            width:  10em;\n",
       "             height:  80%;\n",
       "            background:  linear-gradient(90deg, transparent 48.0%, green 48.0%, green 62.1%, transparent 62.1%);\n",
       "            text-align:  center;\n",
       "        }#T_8d9f5_row28_col2{\n",
       "            width:  10em;\n",
       "             height:  80%;\n",
       "            background:  linear-gradient(90deg, transparent 42.1%, red 42.1%, red 48.0%, transparent 48.0%);\n",
       "            text-align:  center;\n",
       "        }#T_8d9f5_row29_col2{\n",
       "            width:  10em;\n",
       "             height:  80%;\n",
       "            background:  linear-gradient(90deg, transparent 48.0%, green 48.0%, green 70.4%, transparent 70.4%);\n",
       "            text-align:  center;\n",
       "        }#T_8d9f5_row30_col2{\n",
       "            width:  10em;\n",
       "             height:  80%;\n",
       "            background:  linear-gradient(90deg, transparent 48.0%, green 48.0%, green 53.3%, transparent 53.3%);\n",
       "            text-align:  center;\n",
       "        }#T_8d9f5_row31_col2{\n",
       "            width:  10em;\n",
       "             height:  80%;\n",
       "            background:  linear-gradient(90deg, transparent 48.0%, green 48.0%, green 58.8%, transparent 58.8%);\n",
       "            text-align:  center;\n",
       "        }#T_8d9f5_row32_col2,#T_8d9f5_row57_col2,#T_8d9f5_row75_col2{\n",
       "            width:  10em;\n",
       "             height:  80%;\n",
       "            background:  linear-gradient(90deg, transparent 48.0%, green 48.0%, green 49.2%, transparent 49.2%);\n",
       "            text-align:  center;\n",
       "        }#T_8d9f5_row33_col2{\n",
       "            width:  10em;\n",
       "             height:  80%;\n",
       "            background:  linear-gradient(90deg, transparent 45.6%, red 45.6%, red 48.0%, transparent 48.0%);\n",
       "            text-align:  center;\n",
       "        }#T_8d9f5_row34_col2{\n",
       "            width:  10em;\n",
       "             height:  80%;\n",
       "            background:  linear-gradient(90deg, transparent 35.1%, red 35.1%, red 48.0%, transparent 48.0%);\n",
       "            text-align:  center;\n",
       "        }#T_8d9f5_row35_col2{\n",
       "            width:  10em;\n",
       "             height:  80%;\n",
       "            background:  linear-gradient(90deg, transparent 48.0%, green 48.0%, green 59.9%, transparent 59.9%);\n",
       "            text-align:  center;\n",
       "        }#T_8d9f5_row36_col2,#T_8d9f5_row151_col2{\n",
       "            width:  10em;\n",
       "             height:  80%;\n",
       "            background:  linear-gradient(90deg, transparent 41.2%, red 41.2%, red 48.0%, transparent 48.0%);\n",
       "            text-align:  center;\n",
       "        }#T_8d9f5_row37_col2,#T_8d9f5_row113_col2{\n",
       "            width:  10em;\n",
       "             height:  80%;\n",
       "            background:  linear-gradient(90deg, transparent 48.0%, green 48.0%, green 48.6%, transparent 48.6%);\n",
       "            text-align:  center;\n",
       "        }#T_8d9f5_row38_col2{\n",
       "            width:  10em;\n",
       "             height:  80%;\n",
       "            background:  linear-gradient(90deg, transparent 48.0%, green 48.0%, green 58.2%, transparent 58.2%);\n",
       "            text-align:  center;\n",
       "        }#T_8d9f5_row39_col2{\n",
       "            width:  10em;\n",
       "             height:  80%;\n",
       "            background:  linear-gradient(90deg, transparent 48.0%, green 48.0%, green 48.3%, transparent 48.3%);\n",
       "            text-align:  center;\n",
       "        }#T_8d9f5_row40_col2,#T_8d9f5_row120_col2{\n",
       "            width:  10em;\n",
       "             height:  80%;\n",
       "            background:  linear-gradient(90deg, transparent 46.9%, red 46.9%, red 48.0%, transparent 48.0%);\n",
       "            text-align:  center;\n",
       "        }#T_8d9f5_row41_col2{\n",
       "            width:  10em;\n",
       "             height:  80%;\n",
       "            background:  linear-gradient(90deg, transparent 48.0%, green 48.0%, green 54.1%, transparent 54.1%);\n",
       "            text-align:  center;\n",
       "        }#T_8d9f5_row42_col2{\n",
       "            width:  10em;\n",
       "             height:  80%;\n",
       "            background:  linear-gradient(90deg, transparent 48.0%, green 48.0%, green 63.6%, transparent 63.6%);\n",
       "            text-align:  center;\n",
       "        }#T_8d9f5_row43_col2{\n",
       "            width:  10em;\n",
       "             height:  80%;\n",
       "            background:  linear-gradient(90deg, transparent 46.3%, red 46.3%, red 48.0%, transparent 48.0%);\n",
       "            text-align:  center;\n",
       "        }#T_8d9f5_row45_col2{\n",
       "            width:  10em;\n",
       "             height:  80%;\n",
       "            background:  linear-gradient(90deg, transparent 48.0%, green 48.0%, green 48.4%, transparent 48.4%);\n",
       "            text-align:  center;\n",
       "        }#T_8d9f5_row46_col2,#T_8d9f5_row58_col2,#T_8d9f5_row147_col2{\n",
       "            width:  10em;\n",
       "             height:  80%;\n",
       "            background:  linear-gradient(90deg, transparent 48.0%, green 48.0%, green 53.6%, transparent 53.6%);\n",
       "            text-align:  center;\n",
       "        }#T_8d9f5_row47_col2,#T_8d9f5_row141_col2{\n",
       "            width:  10em;\n",
       "             height:  80%;\n",
       "            background:  linear-gradient(90deg, transparent 48.0%, green 48.0%, green 49.6%, transparent 49.6%);\n",
       "            text-align:  center;\n",
       "        }#T_8d9f5_row48_col2{\n",
       "            width:  10em;\n",
       "             height:  80%;\n",
       "            background:  linear-gradient(90deg, transparent 48.0%, green 48.0%, green 50.2%, transparent 50.2%);\n",
       "            text-align:  center;\n",
       "        }#T_8d9f5_row50_col2{\n",
       "            width:  10em;\n",
       "             height:  80%;\n",
       "            background:  linear-gradient(90deg, transparent 48.0%, green 48.0%, green 54.0%, transparent 54.0%);\n",
       "            text-align:  center;\n",
       "        }#T_8d9f5_row51_col2,#T_8d9f5_row62_col2,#T_8d9f5_row150_col2{\n",
       "            width:  10em;\n",
       "             height:  80%;\n",
       "            background:  linear-gradient(90deg, transparent 48.0%, green 48.0%, green 53.7%, transparent 53.7%);\n",
       "            text-align:  center;\n",
       "        }#T_8d9f5_row54_col2{\n",
       "            width:  10em;\n",
       "             height:  80%;\n",
       "            background:  linear-gradient(90deg, transparent 48.0%, green 48.0%, green 60.8%, transparent 60.8%);\n",
       "            text-align:  center;\n",
       "        }#T_8d9f5_row55_col2{\n",
       "            width:  10em;\n",
       "             height:  80%;\n",
       "            background:  linear-gradient(90deg, transparent 41.6%, red 41.6%, red 48.0%, transparent 48.0%);\n",
       "            text-align:  center;\n",
       "        }#T_8d9f5_row56_col2,#T_8d9f5_row92_col2,#T_8d9f5_row118_col2{\n",
       "            width:  10em;\n",
       "             height:  80%;\n",
       "            background:  linear-gradient(90deg, transparent 48.0%, green 48.0%, green 48.7%, transparent 48.7%);\n",
       "            text-align:  center;\n",
       "        }#T_8d9f5_row60_col2{\n",
       "            width:  10em;\n",
       "             height:  80%;\n",
       "            background:  linear-gradient(90deg, transparent 41.8%, red 41.8%, red 48.0%, transparent 48.0%);\n",
       "            text-align:  center;\n",
       "        }#T_8d9f5_row61_col2{\n",
       "            width:  10em;\n",
       "             height:  80%;\n",
       "            background:  linear-gradient(90deg, transparent 48.0%, green 48.0%, green 56.7%, transparent 56.7%);\n",
       "            text-align:  center;\n",
       "        }#T_8d9f5_row63_col2{\n",
       "            width:  10em;\n",
       "             height:  80%;\n",
       "            background:  linear-gradient(90deg, transparent 47.6%, red 47.6%, red 48.0%, transparent 48.0%);\n",
       "            text-align:  center;\n",
       "        }#T_8d9f5_row64_col2{\n",
       "            width:  10em;\n",
       "             height:  80%;\n",
       "            background:  linear-gradient(90deg, transparent 39.2%, red 39.2%, red 48.0%, transparent 48.0%);\n",
       "            text-align:  center;\n",
       "        }#T_8d9f5_row65_col2{\n",
       "            width:  10em;\n",
       "             height:  80%;\n",
       "            background:  linear-gradient(90deg, transparent 48.0%, green 48.0%, green 51.6%, transparent 51.6%);\n",
       "            text-align:  center;\n",
       "        }#T_8d9f5_row66_col2{\n",
       "            width:  10em;\n",
       "             height:  80%;\n",
       "            background:  linear-gradient(90deg, transparent 48.0%, green 48.0%, green 56.6%, transparent 56.6%);\n",
       "            text-align:  center;\n",
       "        }#T_8d9f5_row67_col2{\n",
       "            width:  10em;\n",
       "             height:  80%;\n",
       "            background:  linear-gradient(90deg, transparent 48.0%, green 48.0%, green 49.1%, transparent 49.1%);\n",
       "            text-align:  center;\n",
       "        }#T_8d9f5_row68_col2{\n",
       "            width:  10em;\n",
       "             height:  80%;\n",
       "            background:  linear-gradient(90deg, transparent 48.0%, green 48.0%, green 49.7%, transparent 49.7%);\n",
       "            text-align:  center;\n",
       "        }#T_8d9f5_row69_col2{\n",
       "            width:  10em;\n",
       "             height:  80%;\n",
       "            background:  linear-gradient(90deg, transparent 48.0%, green 48.0%, green 60.6%, transparent 60.6%);\n",
       "            text-align:  center;\n",
       "        }#T_8d9f5_row70_col2{\n",
       "            width:  10em;\n",
       "             height:  80%;\n",
       "            background:  linear-gradient(90deg, transparent 48.0%, green 48.0%, green 50.6%, transparent 50.6%);\n",
       "            text-align:  center;\n",
       "        }#T_8d9f5_row72_col2{\n",
       "            width:  10em;\n",
       "             height:  80%;\n",
       "            background:  linear-gradient(90deg, transparent 48.0%, green 48.0%, green 56.9%, transparent 56.9%);\n",
       "            text-align:  center;\n",
       "        }#T_8d9f5_row73_col2{\n",
       "            width:  10em;\n",
       "             height:  80%;\n",
       "            background:  linear-gradient(90deg, transparent 48.0%, green 48.0%, green 51.0%, transparent 51.0%);\n",
       "            text-align:  center;\n",
       "        }#T_8d9f5_row74_col2{\n",
       "            width:  10em;\n",
       "             height:  80%;\n",
       "            background:  linear-gradient(90deg, transparent 48.0%, green 48.0%, green 49.0%, transparent 49.0%);\n",
       "            text-align:  center;\n",
       "        }#T_8d9f5_row76_col2{\n",
       "            width:  10em;\n",
       "             height:  80%;\n",
       "            background:  linear-gradient(90deg, transparent 48.0%, green 48.0%, green 56.4%, transparent 56.4%);\n",
       "            text-align:  center;\n",
       "        }#T_8d9f5_row77_col2{\n",
       "            width:  10em;\n",
       "             height:  80%;\n",
       "            background:  linear-gradient(90deg, transparent 48.0%, green 48.0%, green 48.1%, transparent 48.1%);\n",
       "            text-align:  center;\n",
       "        }#T_8d9f5_row78_col2{\n",
       "            width:  10em;\n",
       "             height:  80%;\n",
       "            background:  linear-gradient(90deg, transparent 22.7%, red 22.7%, red 48.0%, transparent 48.0%);\n",
       "            text-align:  center;\n",
       "        }#T_8d9f5_row79_col2{\n",
       "            width:  10em;\n",
       "             height:  80%;\n",
       "            background:  linear-gradient(90deg, transparent 48.0%, green 48.0%, green 54.5%, transparent 54.5%);\n",
       "            text-align:  center;\n",
       "        }#T_8d9f5_row80_col2{\n",
       "            width:  10em;\n",
       "             height:  80%;\n",
       "            background:  linear-gradient(90deg, transparent 48.0%, green 48.0%, green 62.8%, transparent 62.8%);\n",
       "            text-align:  center;\n",
       "        }#T_8d9f5_row81_col2{\n",
       "            width:  10em;\n",
       "             height:  80%;\n",
       "            background:  linear-gradient(90deg, transparent 29.1%, red 29.1%, red 48.0%, transparent 48.0%);\n",
       "            text-align:  center;\n",
       "        }#T_8d9f5_row82_col2{\n",
       "            width:  10em;\n",
       "             height:  80%;\n",
       "            background:  linear-gradient(90deg, transparent 48.0%, green 48.0%, green 65.4%, transparent 65.4%);\n",
       "            text-align:  center;\n",
       "        }#T_8d9f5_row83_col2{\n",
       "            width:  10em;\n",
       "             height:  80%;\n",
       "            background:  linear-gradient(90deg, transparent 21.1%, red 21.1%, red 48.0%, transparent 48.0%);\n",
       "            text-align:  center;\n",
       "        }#T_8d9f5_row84_col2{\n",
       "            width:  10em;\n",
       "             height:  80%;\n",
       "            background:  linear-gradient(90deg, transparent 40.9%, red 40.9%, red 48.0%, transparent 48.0%);\n",
       "            text-align:  center;\n",
       "        }#T_8d9f5_row85_col2{\n",
       "            width:  10em;\n",
       "             height:  80%;\n",
       "            background:  linear-gradient(90deg, transparent 5.4%, red 5.4%, red 48.0%, transparent 48.0%);\n",
       "            text-align:  center;\n",
       "        }#T_8d9f5_row86_col2{\n",
       "            width:  10em;\n",
       "             height:  80%;\n",
       "            background:  linear-gradient(90deg, transparent 30.3%, red 30.3%, red 48.0%, transparent 48.0%);\n",
       "            text-align:  center;\n",
       "        }#T_8d9f5_row87_col2{\n",
       "            width:  10em;\n",
       "             height:  80%;\n",
       "            background:  linear-gradient(90deg, transparent 48.0%, green 48.0%, green 100.0%, transparent 100.0%);\n",
       "            text-align:  center;\n",
       "        }#T_8d9f5_row88_col2{\n",
       "            width:  10em;\n",
       "             height:  80%;\n",
       "            background:  linear-gradient(90deg, transparent 43.5%, red 43.5%, red 48.0%, transparent 48.0%);\n",
       "            text-align:  center;\n",
       "        }#T_8d9f5_row89_col2{\n",
       "            width:  10em;\n",
       "             height:  80%;\n",
       "            background:  linear-gradient(90deg, transparent 48.0%, green 48.0%, green 66.5%, transparent 66.5%);\n",
       "            text-align:  center;\n",
       "        }#T_8d9f5_row90_col2{\n",
       "            width:  10em;\n",
       "             height:  80%;\n",
       "            background:  linear-gradient(90deg, transparent 34.1%, red 34.1%, red 48.0%, transparent 48.0%);\n",
       "            text-align:  center;\n",
       "        }#T_8d9f5_row91_col2{\n",
       "            width:  10em;\n",
       "             height:  80%;\n",
       "            background:  linear-gradient(90deg, transparent 27.9%, red 27.9%, red 48.0%, transparent 48.0%);\n",
       "            text-align:  center;\n",
       "        }#T_8d9f5_row93_col2{\n",
       "            width:  10em;\n",
       "             height:  80%;\n",
       "            background:  linear-gradient(90deg, transparent 33.6%, red 33.6%, red 48.0%, transparent 48.0%);\n",
       "            text-align:  center;\n",
       "        }#T_8d9f5_row94_col2{\n",
       "            width:  10em;\n",
       "             height:  80%;\n",
       "            background:  linear-gradient(90deg, transparent 39.6%, red 39.6%, red 48.0%, transparent 48.0%);\n",
       "            text-align:  center;\n",
       "        }#T_8d9f5_row95_col2{\n",
       "            width:  10em;\n",
       "             height:  80%;\n",
       "            background:  linear-gradient(90deg,red 48.0%, transparent 48.0%);\n",
       "            text-align:  center;\n",
       "        }#T_8d9f5_row96_col2{\n",
       "            width:  10em;\n",
       "             height:  80%;\n",
       "            background:  linear-gradient(90deg, transparent 48.0%, green 48.0%, green 64.6%, transparent 64.6%);\n",
       "            text-align:  center;\n",
       "        }#T_8d9f5_row97_col2{\n",
       "            width:  10em;\n",
       "             height:  80%;\n",
       "            background:  linear-gradient(90deg, transparent 31.4%, red 31.4%, red 48.0%, transparent 48.0%);\n",
       "            text-align:  center;\n",
       "        }#T_8d9f5_row98_col2{\n",
       "            width:  10em;\n",
       "             height:  80%;\n",
       "            background:  linear-gradient(90deg, transparent 45.0%, red 45.0%, red 48.0%, transparent 48.0%);\n",
       "            text-align:  center;\n",
       "        }#T_8d9f5_row99_col2{\n",
       "            width:  10em;\n",
       "             height:  80%;\n",
       "            background:  linear-gradient(90deg, transparent 38.8%, red 38.8%, red 48.0%, transparent 48.0%);\n",
       "            text-align:  center;\n",
       "        }#T_8d9f5_row100_col2{\n",
       "            width:  10em;\n",
       "             height:  80%;\n",
       "            background:  linear-gradient(90deg, transparent 48.0%, green 48.0%, green 86.1%, transparent 86.1%);\n",
       "            text-align:  center;\n",
       "        }#T_8d9f5_row101_col2{\n",
       "            width:  10em;\n",
       "             height:  80%;\n",
       "            background:  linear-gradient(90deg, transparent 32.1%, red 32.1%, red 48.0%, transparent 48.0%);\n",
       "            text-align:  center;\n",
       "        }#T_8d9f5_row102_col2{\n",
       "            width:  10em;\n",
       "             height:  80%;\n",
       "            background:  linear-gradient(90deg, transparent 33.2%, red 33.2%, red 48.0%, transparent 48.0%);\n",
       "            text-align:  center;\n",
       "        }#T_8d9f5_row103_col2{\n",
       "            width:  10em;\n",
       "             height:  80%;\n",
       "            background:  linear-gradient(90deg, transparent 48.0%, green 48.0%, green 78.0%, transparent 78.0%);\n",
       "            text-align:  center;\n",
       "        }#T_8d9f5_row104_col2{\n",
       "            width:  10em;\n",
       "             height:  80%;\n",
       "            background:  linear-gradient(90deg, transparent 48.0%, green 48.0%, green 48.8%, transparent 48.8%);\n",
       "            text-align:  center;\n",
       "        }#T_8d9f5_row105_col2{\n",
       "            width:  10em;\n",
       "             height:  80%;\n",
       "            background:  linear-gradient(90deg, transparent 6.0%, red 6.0%, red 48.0%, transparent 48.0%);\n",
       "            text-align:  center;\n",
       "        }#T_8d9f5_row106_col2{\n",
       "            width:  10em;\n",
       "             height:  80%;\n",
       "            background:  linear-gradient(90deg, transparent 32.5%, red 32.5%, red 48.0%, transparent 48.0%);\n",
       "            text-align:  center;\n",
       "        }#T_8d9f5_row107_col2{\n",
       "            width:  10em;\n",
       "             height:  80%;\n",
       "            background:  linear-gradient(90deg, transparent 48.0%, green 48.0%, green 64.8%, transparent 64.8%);\n",
       "            text-align:  center;\n",
       "        }#T_8d9f5_row108_col2{\n",
       "            width:  10em;\n",
       "             height:  80%;\n",
       "            background:  linear-gradient(90deg, transparent 42.6%, red 42.6%, red 48.0%, transparent 48.0%);\n",
       "            text-align:  center;\n",
       "        }#T_8d9f5_row109_col2{\n",
       "            width:  10em;\n",
       "             height:  80%;\n",
       "            background:  linear-gradient(90deg, transparent 48.0%, green 48.0%, green 84.8%, transparent 84.8%);\n",
       "            text-align:  center;\n",
       "        }#T_8d9f5_row110_col2{\n",
       "            width:  10em;\n",
       "             height:  80%;\n",
       "            background:  linear-gradient(90deg, transparent 48.0%, green 48.0%, green 53.1%, transparent 53.1%);\n",
       "            text-align:  center;\n",
       "        }#T_8d9f5_row111_col2,#T_8d9f5_row149_col2{\n",
       "            width:  10em;\n",
       "             height:  80%;\n",
       "            background:  linear-gradient(90deg, transparent 45.4%, red 45.4%, red 48.0%, transparent 48.0%);\n",
       "            text-align:  center;\n",
       "        }#T_8d9f5_row112_col2{\n",
       "            width:  10em;\n",
       "             height:  80%;\n",
       "            background:  linear-gradient(90deg, transparent 48.0%, green 48.0%, green 76.0%, transparent 76.0%);\n",
       "            text-align:  center;\n",
       "        }#T_8d9f5_row115_col2{\n",
       "            width:  10em;\n",
       "             height:  80%;\n",
       "            background:  linear-gradient(90deg, transparent 48.0%, green 48.0%, green 50.1%, transparent 50.1%);\n",
       "            text-align:  center;\n",
       "        }#T_8d9f5_row116_col2{\n",
       "            width:  10em;\n",
       "             height:  80%;\n",
       "            background:  linear-gradient(90deg, transparent 47.0%, red 47.0%, red 48.0%, transparent 48.0%);\n",
       "            text-align:  center;\n",
       "        }#T_8d9f5_row117_col2{\n",
       "            width:  10em;\n",
       "             height:  80%;\n",
       "            background:  linear-gradient(90deg, transparent 29.0%, red 29.0%, red 48.0%, transparent 48.0%);\n",
       "            text-align:  center;\n",
       "        }#T_8d9f5_row119_col2{\n",
       "            width:  10em;\n",
       "             height:  80%;\n",
       "            background:  linear-gradient(90deg, transparent 29.2%, red 29.2%, red 48.0%, transparent 48.0%);\n",
       "            text-align:  center;\n",
       "        }#T_8d9f5_row121_col2{\n",
       "            width:  10em;\n",
       "             height:  80%;\n",
       "            background:  linear-gradient(90deg, transparent 47.3%, red 47.3%, red 48.0%, transparent 48.0%);\n",
       "            text-align:  center;\n",
       "        }#T_8d9f5_row122_col2{\n",
       "            width:  10em;\n",
       "             height:  80%;\n",
       "            background:  linear-gradient(90deg, transparent 12.8%, red 12.8%, red 48.0%, transparent 48.0%);\n",
       "            text-align:  center;\n",
       "        }#T_8d9f5_row123_col2{\n",
       "            width:  10em;\n",
       "             height:  80%;\n",
       "            background:  linear-gradient(90deg, transparent 35.0%, red 35.0%, red 48.0%, transparent 48.0%);\n",
       "            text-align:  center;\n",
       "        }#T_8d9f5_row124_col2{\n",
       "            width:  10em;\n",
       "             height:  80%;\n",
       "            background:  linear-gradient(90deg, transparent 42.4%, red 42.4%, red 48.0%, transparent 48.0%);\n",
       "            text-align:  center;\n",
       "        }#T_8d9f5_row125_col2{\n",
       "            width:  10em;\n",
       "             height:  80%;\n",
       "            background:  linear-gradient(90deg, transparent 41.7%, red 41.7%, red 48.0%, transparent 48.0%);\n",
       "            text-align:  center;\n",
       "        }#T_8d9f5_row126_col2{\n",
       "            width:  10em;\n",
       "             height:  80%;\n",
       "            background:  linear-gradient(90deg, transparent 48.0%, green 48.0%, green 55.9%, transparent 55.9%);\n",
       "            text-align:  center;\n",
       "        }#T_8d9f5_row127_col2{\n",
       "            width:  10em;\n",
       "             height:  80%;\n",
       "            background:  linear-gradient(90deg, transparent 48.0%, green 48.0%, green 85.6%, transparent 85.6%);\n",
       "            text-align:  center;\n",
       "        }#T_8d9f5_row128_col2{\n",
       "            width:  10em;\n",
       "             height:  80%;\n",
       "            background:  linear-gradient(90deg, transparent 48.0%, green 48.0%, green 64.1%, transparent 64.1%);\n",
       "            text-align:  center;\n",
       "        }#T_8d9f5_row129_col2{\n",
       "            width:  10em;\n",
       "             height:  80%;\n",
       "            background:  linear-gradient(90deg, transparent 48.0%, green 48.0%, green 55.8%, transparent 55.8%);\n",
       "            text-align:  center;\n",
       "        }#T_8d9f5_row130_col2{\n",
       "            width:  10em;\n",
       "             height:  80%;\n",
       "            background:  linear-gradient(90deg, transparent 48.0%, green 48.0%, green 50.4%, transparent 50.4%);\n",
       "            text-align:  center;\n",
       "        }#T_8d9f5_row131_col2{\n",
       "            width:  10em;\n",
       "             height:  80%;\n",
       "            background:  linear-gradient(90deg, transparent 48.0%, green 48.0%, green 67.2%, transparent 67.2%);\n",
       "            text-align:  center;\n",
       "        }#T_8d9f5_row132_col2{\n",
       "            width:  10em;\n",
       "             height:  80%;\n",
       "            background:  linear-gradient(90deg, transparent 48.0%, green 48.0%, green 48.5%, transparent 48.5%);\n",
       "            text-align:  center;\n",
       "        }#T_8d9f5_row133_col2{\n",
       "            width:  10em;\n",
       "             height:  80%;\n",
       "            background:  linear-gradient(90deg, transparent 47.1%, red 47.1%, red 48.0%, transparent 48.0%);\n",
       "            text-align:  center;\n",
       "        }#T_8d9f5_row134_col2{\n",
       "            width:  10em;\n",
       "             height:  80%;\n",
       "            background:  linear-gradient(90deg, transparent 14.4%, red 14.4%, red 48.0%, transparent 48.0%);\n",
       "            text-align:  center;\n",
       "        }#T_8d9f5_row135_col2{\n",
       "            width:  10em;\n",
       "             height:  80%;\n",
       "            background:  linear-gradient(90deg, transparent 48.0%, green 48.0%, green 55.5%, transparent 55.5%);\n",
       "            text-align:  center;\n",
       "        }#T_8d9f5_row136_col2{\n",
       "            width:  10em;\n",
       "             height:  80%;\n",
       "            background:  linear-gradient(90deg, transparent 48.0%, green 48.0%, green 57.9%, transparent 57.9%);\n",
       "            text-align:  center;\n",
       "        }#T_8d9f5_row137_col2{\n",
       "            width:  10em;\n",
       "             height:  80%;\n",
       "            background:  linear-gradient(90deg, transparent 33.8%, red 33.8%, red 48.0%, transparent 48.0%);\n",
       "            text-align:  center;\n",
       "        }#T_8d9f5_row138_col2,#T_8d9f5_row145_col2{\n",
       "            width:  10em;\n",
       "             height:  80%;\n",
       "            background:  linear-gradient(90deg, transparent 48.0%, green 48.0%, green 74.6%, transparent 74.6%);\n",
       "            text-align:  center;\n",
       "        }#T_8d9f5_row139_col2{\n",
       "            width:  10em;\n",
       "             height:  80%;\n",
       "            background:  linear-gradient(90deg, transparent 48.0%, green 48.0%, green 61.2%, transparent 61.2%);\n",
       "            text-align:  center;\n",
       "        }#T_8d9f5_row140_col2{\n",
       "            width:  10em;\n",
       "             height:  80%;\n",
       "            background:  linear-gradient(90deg, transparent 48.0%, green 48.0%, green 60.9%, transparent 60.9%);\n",
       "            text-align:  center;\n",
       "        }#T_8d9f5_row142_col2{\n",
       "            width:  10em;\n",
       "             height:  80%;\n",
       "            background:  linear-gradient(90deg, transparent 43.0%, red 43.0%, red 48.0%, transparent 48.0%);\n",
       "            text-align:  center;\n",
       "        }#T_8d9f5_row143_col2{\n",
       "            width:  10em;\n",
       "             height:  80%;\n",
       "            background:  linear-gradient(90deg, transparent 44.1%, red 44.1%, red 48.0%, transparent 48.0%);\n",
       "            text-align:  center;\n",
       "        }#T_8d9f5_row144_col2{\n",
       "            width:  10em;\n",
       "             height:  80%;\n",
       "            background:  linear-gradient(90deg, transparent 47.9%, red 47.9%, red 48.0%, transparent 48.0%);\n",
       "            text-align:  center;\n",
       "        }#T_8d9f5_row146_col2{\n",
       "            width:  10em;\n",
       "             height:  80%;\n",
       "            background:  linear-gradient(90deg, transparent 43.3%, red 43.3%, red 48.0%, transparent 48.0%);\n",
       "            text-align:  center;\n",
       "        }#T_8d9f5_row148_col2{\n",
       "            width:  10em;\n",
       "             height:  80%;\n",
       "            background:  linear-gradient(90deg, transparent 47.4%, red 47.4%, red 48.0%, transparent 48.0%);\n",
       "            text-align:  center;\n",
       "        }</style><table id=\"T_8d9f5_\" ><thead>    <tr>        <th class=\"blank level0\" ></th>        <th class=\"col_heading level0 col0\" >Date</th>        <th class=\"col_heading level0 col1\" >Adj Close</th>        <th class=\"col_heading level0 col2\" >Change</th>    </tr></thead><tbody>\n",
       "                <tr>\n",
       "                        <th id=\"T_8d9f5_level0_row0\" class=\"row_heading level0 row0\" >0</th>\n",
       "                        <td id=\"T_8d9f5_row0_col0\" class=\"data row0 col0\" >2010 01</td>\n",
       "                        <td id=\"T_8d9f5_row0_col1\" class=\"data row0 col1\" >10583.960000</td>\n",
       "                        <td id=\"T_8d9f5_row0_col2\" class=\"data row0 col2\" >nan</td>\n",
       "            </tr>\n",
       "            <tr>\n",
       "                        <th id=\"T_8d9f5_level0_row1\" class=\"row_heading level0 row1\" >1</th>\n",
       "                        <td id=\"T_8d9f5_row1_col0\" class=\"data row1 col0\" >2010 01</td>\n",
       "                        <td id=\"T_8d9f5_row1_col1\" class=\"data row1 col1\" >10572.020000</td>\n",
       "                        <td id=\"T_8d9f5_row1_col2\" class=\"data row1 col2\" >-0.001128</td>\n",
       "            </tr>\n",
       "            <tr>\n",
       "                        <th id=\"T_8d9f5_level0_row2\" class=\"row_heading level0 row2\" >2</th>\n",
       "                        <td id=\"T_8d9f5_row2_col0\" class=\"data row2 col0\" >2010 01</td>\n",
       "                        <td id=\"T_8d9f5_row2_col1\" class=\"data row2 col1\" >10573.680000</td>\n",
       "                        <td id=\"T_8d9f5_row2_col2\" class=\"data row2 col2\" >0.000157</td>\n",
       "            </tr>\n",
       "            <tr>\n",
       "                        <th id=\"T_8d9f5_level0_row3\" class=\"row_heading level0 row3\" >3</th>\n",
       "                        <td id=\"T_8d9f5_row3_col0\" class=\"data row3 col0\" >2010 01</td>\n",
       "                        <td id=\"T_8d9f5_row3_col1\" class=\"data row3 col1\" >10606.860000</td>\n",
       "                        <td id=\"T_8d9f5_row3_col2\" class=\"data row3 col2\" >0.003138</td>\n",
       "            </tr>\n",
       "            <tr>\n",
       "                        <th id=\"T_8d9f5_level0_row4\" class=\"row_heading level0 row4\" >4</th>\n",
       "                        <td id=\"T_8d9f5_row4_col0\" class=\"data row4 col0\" >2010 01</td>\n",
       "                        <td id=\"T_8d9f5_row4_col1\" class=\"data row4 col1\" >10618.190000</td>\n",
       "                        <td id=\"T_8d9f5_row4_col2\" class=\"data row4 col2\" >0.001068</td>\n",
       "            </tr>\n",
       "            <tr>\n",
       "                        <th id=\"T_8d9f5_level0_row5\" class=\"row_heading level0 row5\" >5</th>\n",
       "                        <td id=\"T_8d9f5_row5_col0\" class=\"data row5 col0\" >2010 01</td>\n",
       "                        <td id=\"T_8d9f5_row5_col1\" class=\"data row5 col1\" >10663.990000</td>\n",
       "                        <td id=\"T_8d9f5_row5_col2\" class=\"data row5 col2\" >0.004313</td>\n",
       "            </tr>\n",
       "            <tr>\n",
       "                        <th id=\"T_8d9f5_level0_row6\" class=\"row_heading level0 row6\" >6</th>\n",
       "                        <td id=\"T_8d9f5_row6_col0\" class=\"data row6 col0\" >2010 01</td>\n",
       "                        <td id=\"T_8d9f5_row6_col1\" class=\"data row6 col1\" >10627.260000</td>\n",
       "                        <td id=\"T_8d9f5_row6_col2\" class=\"data row6 col2\" >-0.003444</td>\n",
       "            </tr>\n",
       "            <tr>\n",
       "                        <th id=\"T_8d9f5_level0_row7\" class=\"row_heading level0 row7\" >7</th>\n",
       "                        <td id=\"T_8d9f5_row7_col0\" class=\"data row7 col0\" >2010 01</td>\n",
       "                        <td id=\"T_8d9f5_row7_col1\" class=\"data row7 col1\" >10680.770000</td>\n",
       "                        <td id=\"T_8d9f5_row7_col2\" class=\"data row7 col2\" >0.005035</td>\n",
       "            </tr>\n",
       "            <tr>\n",
       "                        <th id=\"T_8d9f5_level0_row8\" class=\"row_heading level0 row8\" >8</th>\n",
       "                        <td id=\"T_8d9f5_row8_col0\" class=\"data row8 col0\" >2010 01</td>\n",
       "                        <td id=\"T_8d9f5_row8_col1\" class=\"data row8 col1\" >10710.550000</td>\n",
       "                        <td id=\"T_8d9f5_row8_col2\" class=\"data row8 col2\" >0.002788</td>\n",
       "            </tr>\n",
       "            <tr>\n",
       "                        <th id=\"T_8d9f5_level0_row9\" class=\"row_heading level0 row9\" >9</th>\n",
       "                        <td id=\"T_8d9f5_row9_col0\" class=\"data row9 col0\" >2010 01</td>\n",
       "                        <td id=\"T_8d9f5_row9_col1\" class=\"data row9 col1\" >10609.650000</td>\n",
       "                        <td id=\"T_8d9f5_row9_col2\" class=\"data row9 col2\" >-0.009421</td>\n",
       "            </tr>\n",
       "            <tr>\n",
       "                        <th id=\"T_8d9f5_level0_row10\" class=\"row_heading level0 row10\" >10</th>\n",
       "                        <td id=\"T_8d9f5_row10_col0\" class=\"data row10 col0\" >2010 01</td>\n",
       "                        <td id=\"T_8d9f5_row10_col1\" class=\"data row10 col1\" >10725.430000</td>\n",
       "                        <td id=\"T_8d9f5_row10_col2\" class=\"data row10 col2\" >0.010913</td>\n",
       "            </tr>\n",
       "            <tr>\n",
       "                        <th id=\"T_8d9f5_level0_row11\" class=\"row_heading level0 row11\" >11</th>\n",
       "                        <td id=\"T_8d9f5_row11_col0\" class=\"data row11 col0\" >2010 01</td>\n",
       "                        <td id=\"T_8d9f5_row11_col1\" class=\"data row11 col1\" >10603.150000</td>\n",
       "                        <td id=\"T_8d9f5_row11_col2\" class=\"data row11 col2\" >-0.011401</td>\n",
       "            </tr>\n",
       "            <tr>\n",
       "                        <th id=\"T_8d9f5_level0_row12\" class=\"row_heading level0 row12\" >12</th>\n",
       "                        <td id=\"T_8d9f5_row12_col0\" class=\"data row12 col0\" >2010 01</td>\n",
       "                        <td id=\"T_8d9f5_row12_col1\" class=\"data row12 col1\" >10389.880000</td>\n",
       "                        <td id=\"T_8d9f5_row12_col2\" class=\"data row12 col2\" >-0.020114</td>\n",
       "            </tr>\n",
       "            <tr>\n",
       "                        <th id=\"T_8d9f5_level0_row13\" class=\"row_heading level0 row13\" >13</th>\n",
       "                        <td id=\"T_8d9f5_row13_col0\" class=\"data row13 col0\" >2010 01</td>\n",
       "                        <td id=\"T_8d9f5_row13_col1\" class=\"data row13 col1\" >10172.980000</td>\n",
       "                        <td id=\"T_8d9f5_row13_col2\" class=\"data row13 col2\" >-0.020876</td>\n",
       "            </tr>\n",
       "            <tr>\n",
       "                        <th id=\"T_8d9f5_level0_row14\" class=\"row_heading level0 row14\" >14</th>\n",
       "                        <td id=\"T_8d9f5_row14_col0\" class=\"data row14 col0\" >2010 01</td>\n",
       "                        <td id=\"T_8d9f5_row14_col1\" class=\"data row14 col1\" >10196.860000</td>\n",
       "                        <td id=\"T_8d9f5_row14_col2\" class=\"data row14 col2\" >0.002347</td>\n",
       "            </tr>\n",
       "            <tr>\n",
       "                        <th id=\"T_8d9f5_level0_row15\" class=\"row_heading level0 row15\" >15</th>\n",
       "                        <td id=\"T_8d9f5_row15_col0\" class=\"data row15 col0\" >2010 01</td>\n",
       "                        <td id=\"T_8d9f5_row15_col1\" class=\"data row15 col1\" >10194.290000</td>\n",
       "                        <td id=\"T_8d9f5_row15_col2\" class=\"data row15 col2\" >-0.000252</td>\n",
       "            </tr>\n",
       "            <tr>\n",
       "                        <th id=\"T_8d9f5_level0_row16\" class=\"row_heading level0 row16\" >16</th>\n",
       "                        <td id=\"T_8d9f5_row16_col0\" class=\"data row16 col0\" >2010 01</td>\n",
       "                        <td id=\"T_8d9f5_row16_col1\" class=\"data row16 col1\" >10236.160000</td>\n",
       "                        <td id=\"T_8d9f5_row16_col2\" class=\"data row16 col2\" >0.004107</td>\n",
       "            </tr>\n",
       "            <tr>\n",
       "                        <th id=\"T_8d9f5_level0_row17\" class=\"row_heading level0 row17\" >17</th>\n",
       "                        <td id=\"T_8d9f5_row17_col0\" class=\"data row17 col0\" >2010 01</td>\n",
       "                        <td id=\"T_8d9f5_row17_col1\" class=\"data row17 col1\" >10120.460000</td>\n",
       "                        <td id=\"T_8d9f5_row17_col2\" class=\"data row17 col2\" >-0.011303</td>\n",
       "            </tr>\n",
       "            <tr>\n",
       "                        <th id=\"T_8d9f5_level0_row18\" class=\"row_heading level0 row18\" >18</th>\n",
       "                        <td id=\"T_8d9f5_row18_col0\" class=\"data row18 col0\" >2010 01</td>\n",
       "                        <td id=\"T_8d9f5_row18_col1\" class=\"data row18 col1\" >10067.330000</td>\n",
       "                        <td id=\"T_8d9f5_row18_col2\" class=\"data row18 col2\" >-0.005250</td>\n",
       "            </tr>\n",
       "            <tr>\n",
       "                        <th id=\"T_8d9f5_level0_row19\" class=\"row_heading level0 row19\" >19</th>\n",
       "                        <td id=\"T_8d9f5_row19_col0\" class=\"data row19 col0\" >2010 02</td>\n",
       "                        <td id=\"T_8d9f5_row19_col1\" class=\"data row19 col1\" >10185.530000</td>\n",
       "                        <td id=\"T_8d9f5_row19_col2\" class=\"data row19 col2\" >0.011741</td>\n",
       "            </tr>\n",
       "            <tr>\n",
       "                        <th id=\"T_8d9f5_level0_row20\" class=\"row_heading level0 row20\" >20</th>\n",
       "                        <td id=\"T_8d9f5_row20_col0\" class=\"data row20 col0\" >2010 02</td>\n",
       "                        <td id=\"T_8d9f5_row20_col1\" class=\"data row20 col1\" >10296.850000</td>\n",
       "                        <td id=\"T_8d9f5_row20_col2\" class=\"data row20 col2\" >0.010929</td>\n",
       "            </tr>\n",
       "            <tr>\n",
       "                        <th id=\"T_8d9f5_level0_row21\" class=\"row_heading level0 row21\" >21</th>\n",
       "                        <td id=\"T_8d9f5_row21_col0\" class=\"data row21 col0\" >2010 02</td>\n",
       "                        <td id=\"T_8d9f5_row21_col1\" class=\"data row21 col1\" >10270.550000</td>\n",
       "                        <td id=\"T_8d9f5_row21_col2\" class=\"data row21 col2\" >-0.002554</td>\n",
       "            </tr>\n",
       "            <tr>\n",
       "                        <th id=\"T_8d9f5_level0_row22\" class=\"row_heading level0 row22\" >22</th>\n",
       "                        <td id=\"T_8d9f5_row22_col0\" class=\"data row22 col0\" >2010 02</td>\n",
       "                        <td id=\"T_8d9f5_row22_col1\" class=\"data row22 col1\" >10002.180000</td>\n",
       "                        <td id=\"T_8d9f5_row22_col2\" class=\"data row22 col2\" >-0.026130</td>\n",
       "            </tr>\n",
       "            <tr>\n",
       "                        <th id=\"T_8d9f5_level0_row23\" class=\"row_heading level0 row23\" >23</th>\n",
       "                        <td id=\"T_8d9f5_row23_col0\" class=\"data row23 col0\" >2010 02</td>\n",
       "                        <td id=\"T_8d9f5_row23_col1\" class=\"data row23 col1\" >10012.230000</td>\n",
       "                        <td id=\"T_8d9f5_row23_col2\" class=\"data row23 col2\" >0.001005</td>\n",
       "            </tr>\n",
       "            <tr>\n",
       "                        <th id=\"T_8d9f5_level0_row24\" class=\"row_heading level0 row24\" >24</th>\n",
       "                        <td id=\"T_8d9f5_row24_col0\" class=\"data row24 col0\" >2010 02</td>\n",
       "                        <td id=\"T_8d9f5_row24_col1\" class=\"data row24 col1\" >9908.390000</td>\n",
       "                        <td id=\"T_8d9f5_row24_col2\" class=\"data row24 col2\" >-0.010371</td>\n",
       "            </tr>\n",
       "            <tr>\n",
       "                        <th id=\"T_8d9f5_level0_row25\" class=\"row_heading level0 row25\" >25</th>\n",
       "                        <td id=\"T_8d9f5_row25_col0\" class=\"data row25 col0\" >2010 02</td>\n",
       "                        <td id=\"T_8d9f5_row25_col1\" class=\"data row25 col1\" >10058.640000</td>\n",
       "                        <td id=\"T_8d9f5_row25_col2\" class=\"data row25 col2\" >0.015164</td>\n",
       "            </tr>\n",
       "            <tr>\n",
       "                        <th id=\"T_8d9f5_level0_row26\" class=\"row_heading level0 row26\" >26</th>\n",
       "                        <td id=\"T_8d9f5_row26_col0\" class=\"data row26 col0\" >2010 02</td>\n",
       "                        <td id=\"T_8d9f5_row26_col1\" class=\"data row26 col1\" >10038.380000</td>\n",
       "                        <td id=\"T_8d9f5_row26_col2\" class=\"data row26 col2\" >-0.002014</td>\n",
       "            </tr>\n",
       "            <tr>\n",
       "                        <th id=\"T_8d9f5_level0_row27\" class=\"row_heading level0 row27\" >27</th>\n",
       "                        <td id=\"T_8d9f5_row27_col0\" class=\"data row27 col0\" >2010 02</td>\n",
       "                        <td id=\"T_8d9f5_row27_col1\" class=\"data row27 col1\" >10144.190000</td>\n",
       "                        <td id=\"T_8d9f5_row27_col2\" class=\"data row27 col2\" >0.010541</td>\n",
       "            </tr>\n",
       "            <tr>\n",
       "                        <th id=\"T_8d9f5_level0_row28\" class=\"row_heading level0 row28\" >28</th>\n",
       "                        <td id=\"T_8d9f5_row28_col0\" class=\"data row28 col0\" >2010 02</td>\n",
       "                        <td id=\"T_8d9f5_row28_col1\" class=\"data row28 col1\" >10099.140000</td>\n",
       "                        <td id=\"T_8d9f5_row28_col2\" class=\"data row28 col2\" >-0.004441</td>\n",
       "            </tr>\n",
       "            <tr>\n",
       "                        <th id=\"T_8d9f5_level0_row29\" class=\"row_heading level0 row29\" >29</th>\n",
       "                        <td id=\"T_8d9f5_row29_col0\" class=\"data row29 col0\" >2010 02</td>\n",
       "                        <td id=\"T_8d9f5_row29_col1\" class=\"data row29 col1\" >10268.810000</td>\n",
       "                        <td id=\"T_8d9f5_row29_col2\" class=\"data row29 col2\" >0.016800</td>\n",
       "            </tr>\n",
       "            <tr>\n",
       "                        <th id=\"T_8d9f5_level0_row30\" class=\"row_heading level0 row30\" >30</th>\n",
       "                        <td id=\"T_8d9f5_row30_col0\" class=\"data row30 col0\" >2010 02</td>\n",
       "                        <td id=\"T_8d9f5_row30_col1\" class=\"data row30 col1\" >10309.240000</td>\n",
       "                        <td id=\"T_8d9f5_row30_col2\" class=\"data row30 col2\" >0.003937</td>\n",
       "            </tr>\n",
       "            <tr>\n",
       "                        <th id=\"T_8d9f5_level0_row31\" class=\"row_heading level0 row31\" >31</th>\n",
       "                        <td id=\"T_8d9f5_row31_col0\" class=\"data row31 col0\" >2010 02</td>\n",
       "                        <td id=\"T_8d9f5_row31_col1\" class=\"data row31 col1\" >10392.900000</td>\n",
       "                        <td id=\"T_8d9f5_row31_col2\" class=\"data row31 col2\" >0.008115</td>\n",
       "            </tr>\n",
       "            <tr>\n",
       "                        <th id=\"T_8d9f5_level0_row32\" class=\"row_heading level0 row32\" >32</th>\n",
       "                        <td id=\"T_8d9f5_row32_col0\" class=\"data row32 col0\" >2010 02</td>\n",
       "                        <td id=\"T_8d9f5_row32_col1\" class=\"data row32 col1\" >10402.350000</td>\n",
       "                        <td id=\"T_8d9f5_row32_col2\" class=\"data row32 col2\" >0.000909</td>\n",
       "            </tr>\n",
       "            <tr>\n",
       "                        <th id=\"T_8d9f5_level0_row33\" class=\"row_heading level0 row33\" >33</th>\n",
       "                        <td id=\"T_8d9f5_row33_col0\" class=\"data row33 col0\" >2010 02</td>\n",
       "                        <td id=\"T_8d9f5_row33_col1\" class=\"data row33 col1\" >10383.380000</td>\n",
       "                        <td id=\"T_8d9f5_row33_col2\" class=\"data row33 col2\" >-0.001824</td>\n",
       "            </tr>\n",
       "            <tr>\n",
       "                        <th id=\"T_8d9f5_level0_row34\" class=\"row_heading level0 row34\" >34</th>\n",
       "                        <td id=\"T_8d9f5_row34_col0\" class=\"data row34 col0\" >2010 02</td>\n",
       "                        <td id=\"T_8d9f5_row34_col1\" class=\"data row34 col1\" >10282.410000</td>\n",
       "                        <td id=\"T_8d9f5_row34_col2\" class=\"data row34 col2\" >-0.009724</td>\n",
       "            </tr>\n",
       "            <tr>\n",
       "                        <th id=\"T_8d9f5_level0_row35\" class=\"row_heading level0 row35\" >35</th>\n",
       "                        <td id=\"T_8d9f5_row35_col0\" class=\"data row35 col0\" >2010 02</td>\n",
       "                        <td id=\"T_8d9f5_row35_col1\" class=\"data row35 col1\" >10374.160000</td>\n",
       "                        <td id=\"T_8d9f5_row35_col2\" class=\"data row35 col2\" >0.008923</td>\n",
       "            </tr>\n",
       "            <tr>\n",
       "                        <th id=\"T_8d9f5_level0_row36\" class=\"row_heading level0 row36\" >36</th>\n",
       "                        <td id=\"T_8d9f5_row36_col0\" class=\"data row36 col0\" >2010 02</td>\n",
       "                        <td id=\"T_8d9f5_row36_col1\" class=\"data row36 col1\" >10321.030000</td>\n",
       "                        <td id=\"T_8d9f5_row36_col2\" class=\"data row36 col2\" >-0.005121</td>\n",
       "            </tr>\n",
       "            <tr>\n",
       "                        <th id=\"T_8d9f5_level0_row37\" class=\"row_heading level0 row37\" >37</th>\n",
       "                        <td id=\"T_8d9f5_row37_col0\" class=\"data row37 col0\" >2010 02</td>\n",
       "                        <td id=\"T_8d9f5_row37_col1\" class=\"data row37 col1\" >10325.260000</td>\n",
       "                        <td id=\"T_8d9f5_row37_col2\" class=\"data row37 col2\" >0.000410</td>\n",
       "            </tr>\n",
       "            <tr>\n",
       "                        <th id=\"T_8d9f5_level0_row38\" class=\"row_heading level0 row38\" >38</th>\n",
       "                        <td id=\"T_8d9f5_row38_col0\" class=\"data row38 col0\" >2010 03</td>\n",
       "                        <td id=\"T_8d9f5_row38_col1\" class=\"data row38 col1\" >10403.790000</td>\n",
       "                        <td id=\"T_8d9f5_row38_col2\" class=\"data row38 col2\" >0.007606</td>\n",
       "            </tr>\n",
       "            <tr>\n",
       "                        <th id=\"T_8d9f5_level0_row39\" class=\"row_heading level0 row39\" >39</th>\n",
       "                        <td id=\"T_8d9f5_row39_col0\" class=\"data row39 col0\" >2010 03</td>\n",
       "                        <td id=\"T_8d9f5_row39_col1\" class=\"data row39 col1\" >10405.980000</td>\n",
       "                        <td id=\"T_8d9f5_row39_col2\" class=\"data row39 col2\" >0.000211</td>\n",
       "            </tr>\n",
       "            <tr>\n",
       "                        <th id=\"T_8d9f5_level0_row40\" class=\"row_heading level0 row40\" >40</th>\n",
       "                        <td id=\"T_8d9f5_row40_col0\" class=\"data row40 col0\" >2010 03</td>\n",
       "                        <td id=\"T_8d9f5_row40_col1\" class=\"data row40 col1\" >10396.760000</td>\n",
       "                        <td id=\"T_8d9f5_row40_col2\" class=\"data row40 col2\" >-0.000886</td>\n",
       "            </tr>\n",
       "            <tr>\n",
       "                        <th id=\"T_8d9f5_level0_row41\" class=\"row_heading level0 row41\" >41</th>\n",
       "                        <td id=\"T_8d9f5_row41_col0\" class=\"data row41 col0\" >2010 03</td>\n",
       "                        <td id=\"T_8d9f5_row41_col1\" class=\"data row41 col1\" >10444.140000</td>\n",
       "                        <td id=\"T_8d9f5_row41_col2\" class=\"data row41 col2\" >0.004557</td>\n",
       "            </tr>\n",
       "            <tr>\n",
       "                        <th id=\"T_8d9f5_level0_row42\" class=\"row_heading level0 row42\" >42</th>\n",
       "                        <td id=\"T_8d9f5_row42_col0\" class=\"data row42 col0\" >2010 03</td>\n",
       "                        <td id=\"T_8d9f5_row42_col1\" class=\"data row42 col1\" >10566.200000</td>\n",
       "                        <td id=\"T_8d9f5_row42_col2\" class=\"data row42 col2\" >0.011687</td>\n",
       "            </tr>\n",
       "            <tr>\n",
       "                        <th id=\"T_8d9f5_level0_row43\" class=\"row_heading level0 row43\" >43</th>\n",
       "                        <td id=\"T_8d9f5_row43_col0\" class=\"data row43 col0\" >2010 03</td>\n",
       "                        <td id=\"T_8d9f5_row43_col1\" class=\"data row43 col1\" >10552.520000</td>\n",
       "                        <td id=\"T_8d9f5_row43_col2\" class=\"data row43 col2\" >-0.001295</td>\n",
       "            </tr>\n",
       "            <tr>\n",
       "                        <th id=\"T_8d9f5_level0_row44\" class=\"row_heading level0 row44\" >44</th>\n",
       "                        <td id=\"T_8d9f5_row44_col0\" class=\"data row44 col0\" >2010 03</td>\n",
       "                        <td id=\"T_8d9f5_row44_col1\" class=\"data row44 col1\" >10564.380000</td>\n",
       "                        <td id=\"T_8d9f5_row44_col2\" class=\"data row44 col2\" >0.001124</td>\n",
       "            </tr>\n",
       "            <tr>\n",
       "                        <th id=\"T_8d9f5_level0_row45\" class=\"row_heading level0 row45\" >45</th>\n",
       "                        <td id=\"T_8d9f5_row45_col0\" class=\"data row45 col0\" >2010 03</td>\n",
       "                        <td id=\"T_8d9f5_row45_col1\" class=\"data row45 col1\" >10567.330000</td>\n",
       "                        <td id=\"T_8d9f5_row45_col2\" class=\"data row45 col2\" >0.000279</td>\n",
       "            </tr>\n",
       "            <tr>\n",
       "                        <th id=\"T_8d9f5_level0_row46\" class=\"row_heading level0 row46\" >46</th>\n",
       "                        <td id=\"T_8d9f5_row46_col0\" class=\"data row46 col0\" >2010 03</td>\n",
       "                        <td id=\"T_8d9f5_row46_col1\" class=\"data row46 col1\" >10611.840000</td>\n",
       "                        <td id=\"T_8d9f5_row46_col2\" class=\"data row46 col2\" >0.004212</td>\n",
       "            </tr>\n",
       "            <tr>\n",
       "                        <th id=\"T_8d9f5_level0_row47\" class=\"row_heading level0 row47\" >47</th>\n",
       "                        <td id=\"T_8d9f5_row47_col0\" class=\"data row47 col0\" >2010 03</td>\n",
       "                        <td id=\"T_8d9f5_row47_col1\" class=\"data row47 col1\" >10624.690000</td>\n",
       "                        <td id=\"T_8d9f5_row47_col2\" class=\"data row47 col2\" >0.001211</td>\n",
       "            </tr>\n",
       "            <tr>\n",
       "                        <th id=\"T_8d9f5_level0_row48\" class=\"row_heading level0 row48\" >48</th>\n",
       "                        <td id=\"T_8d9f5_row48_col0\" class=\"data row48 col0\" >2010 03</td>\n",
       "                        <td id=\"T_8d9f5_row48_col1\" class=\"data row48 col1\" >10642.150000</td>\n",
       "                        <td id=\"T_8d9f5_row48_col2\" class=\"data row48 col2\" >0.001643</td>\n",
       "            </tr>\n",
       "            <tr>\n",
       "                        <th id=\"T_8d9f5_level0_row49\" class=\"row_heading level0 row49\" >49</th>\n",
       "                        <td id=\"T_8d9f5_row49_col0\" class=\"data row49 col0\" >2010 03</td>\n",
       "                        <td id=\"T_8d9f5_row49_col1\" class=\"data row49 col1\" >10685.980000</td>\n",
       "                        <td id=\"T_8d9f5_row49_col2\" class=\"data row49 col2\" >0.004119</td>\n",
       "            </tr>\n",
       "            <tr>\n",
       "                        <th id=\"T_8d9f5_level0_row50\" class=\"row_heading level0 row50\" >50</th>\n",
       "                        <td id=\"T_8d9f5_row50_col0\" class=\"data row50 col0\" >2010 03</td>\n",
       "                        <td id=\"T_8d9f5_row50_col1\" class=\"data row50 col1\" >10733.670000</td>\n",
       "                        <td id=\"T_8d9f5_row50_col2\" class=\"data row50 col2\" >0.004463</td>\n",
       "            </tr>\n",
       "            <tr>\n",
       "                        <th id=\"T_8d9f5_level0_row51\" class=\"row_heading level0 row51\" >51</th>\n",
       "                        <td id=\"T_8d9f5_row51_col0\" class=\"data row51 col0\" >2010 03</td>\n",
       "                        <td id=\"T_8d9f5_row51_col1\" class=\"data row51 col1\" >10779.170000</td>\n",
       "                        <td id=\"T_8d9f5_row51_col2\" class=\"data row51 col2\" >0.004239</td>\n",
       "            </tr>\n",
       "            <tr>\n",
       "                        <th id=\"T_8d9f5_level0_row52\" class=\"row_heading level0 row52\" >52</th>\n",
       "                        <td id=\"T_8d9f5_row52_col0\" class=\"data row52 col0\" >2010 03</td>\n",
       "                        <td id=\"T_8d9f5_row52_col1\" class=\"data row52 col1\" >10741.980000</td>\n",
       "                        <td id=\"T_8d9f5_row52_col2\" class=\"data row52 col2\" >-0.003450</td>\n",
       "            </tr>\n",
       "            <tr>\n",
       "                        <th id=\"T_8d9f5_level0_row53\" class=\"row_heading level0 row53\" >53</th>\n",
       "                        <td id=\"T_8d9f5_row53_col0\" class=\"data row53 col0\" >2010 03</td>\n",
       "                        <td id=\"T_8d9f5_row53_col1\" class=\"data row53 col1\" >10785.890000</td>\n",
       "                        <td id=\"T_8d9f5_row53_col2\" class=\"data row53 col2\" >0.004088</td>\n",
       "            </tr>\n",
       "            <tr>\n",
       "                        <th id=\"T_8d9f5_level0_row54\" class=\"row_heading level0 row54\" >54</th>\n",
       "                        <td id=\"T_8d9f5_row54_col0\" class=\"data row54 col0\" >2010 03</td>\n",
       "                        <td id=\"T_8d9f5_row54_col1\" class=\"data row54 col1\" >10888.830000</td>\n",
       "                        <td id=\"T_8d9f5_row54_col2\" class=\"data row54 col2\" >0.009544</td>\n",
       "            </tr>\n",
       "            <tr>\n",
       "                        <th id=\"T_8d9f5_level0_row55\" class=\"row_heading level0 row55\" >55</th>\n",
       "                        <td id=\"T_8d9f5_row55_col0\" class=\"data row55 col0\" >2010 03</td>\n",
       "                        <td id=\"T_8d9f5_row55_col1\" class=\"data row55 col1\" >10836.150000</td>\n",
       "                        <td id=\"T_8d9f5_row55_col2\" class=\"data row55 col2\" >-0.004838</td>\n",
       "            </tr>\n",
       "            <tr>\n",
       "                        <th id=\"T_8d9f5_level0_row56\" class=\"row_heading level0 row56\" >56</th>\n",
       "                        <td id=\"T_8d9f5_row56_col0\" class=\"data row56 col0\" >2010 03</td>\n",
       "                        <td id=\"T_8d9f5_row56_col1\" class=\"data row56 col1\" >10841.210000</td>\n",
       "                        <td id=\"T_8d9f5_row56_col2\" class=\"data row56 col2\" >0.000467</td>\n",
       "            </tr>\n",
       "            <tr>\n",
       "                        <th id=\"T_8d9f5_level0_row57\" class=\"row_heading level0 row57\" >57</th>\n",
       "                        <td id=\"T_8d9f5_row57_col0\" class=\"data row57 col0\" >2010 03</td>\n",
       "                        <td id=\"T_8d9f5_row57_col1\" class=\"data row57 col1\" >10850.360000</td>\n",
       "                        <td id=\"T_8d9f5_row57_col2\" class=\"data row57 col2\" >0.000844</td>\n",
       "            </tr>\n",
       "            <tr>\n",
       "                        <th id=\"T_8d9f5_level0_row58\" class=\"row_heading level0 row58\" >58</th>\n",
       "                        <td id=\"T_8d9f5_row58_col0\" class=\"data row58 col0\" >2010 03</td>\n",
       "                        <td id=\"T_8d9f5_row58_col1\" class=\"data row58 col1\" >10895.860000</td>\n",
       "                        <td id=\"T_8d9f5_row58_col2\" class=\"data row58 col2\" >0.004193</td>\n",
       "            </tr>\n",
       "            <tr>\n",
       "                        <th id=\"T_8d9f5_level0_row59\" class=\"row_heading level0 row59\" >59</th>\n",
       "                        <td id=\"T_8d9f5_row59_col0\" class=\"data row59 col0\" >2010 03</td>\n",
       "                        <td id=\"T_8d9f5_row59_col1\" class=\"data row59 col1\" >10907.420000</td>\n",
       "                        <td id=\"T_8d9f5_row59_col2\" class=\"data row59 col2\" >0.001061</td>\n",
       "            </tr>\n",
       "            <tr>\n",
       "                        <th id=\"T_8d9f5_level0_row60\" class=\"row_heading level0 row60\" >60</th>\n",
       "                        <td id=\"T_8d9f5_row60_col0\" class=\"data row60 col0\" >2010 03</td>\n",
       "                        <td id=\"T_8d9f5_row60_col1\" class=\"data row60 col1\" >10856.630000</td>\n",
       "                        <td id=\"T_8d9f5_row60_col2\" class=\"data row60 col2\" >-0.004656</td>\n",
       "            </tr>\n",
       "            <tr>\n",
       "                        <th id=\"T_8d9f5_level0_row61\" class=\"row_heading level0 row61\" >61</th>\n",
       "                        <td id=\"T_8d9f5_row61_col0\" class=\"data row61 col0\" >2010 04</td>\n",
       "                        <td id=\"T_8d9f5_row61_col1\" class=\"data row61 col1\" >10927.070000</td>\n",
       "                        <td id=\"T_8d9f5_row61_col2\" class=\"data row61 col2\" >0.006488</td>\n",
       "            </tr>\n",
       "            <tr>\n",
       "                        <th id=\"T_8d9f5_level0_row62\" class=\"row_heading level0 row62\" >62</th>\n",
       "                        <td id=\"T_8d9f5_row62_col0\" class=\"data row62 col0\" >2010 04</td>\n",
       "                        <td id=\"T_8d9f5_row62_col1\" class=\"data row62 col1\" >10973.550000</td>\n",
       "                        <td id=\"T_8d9f5_row62_col2\" class=\"data row62 col2\" >0.004254</td>\n",
       "            </tr>\n",
       "            <tr>\n",
       "                        <th id=\"T_8d9f5_level0_row63\" class=\"row_heading level0 row63\" >63</th>\n",
       "                        <td id=\"T_8d9f5_row63_col0\" class=\"data row63 col0\" >2010 04</td>\n",
       "                        <td id=\"T_8d9f5_row63_col1\" class=\"data row63 col1\" >10969.990000</td>\n",
       "                        <td id=\"T_8d9f5_row63_col2\" class=\"data row63 col2\" >-0.000324</td>\n",
       "            </tr>\n",
       "            <tr>\n",
       "                        <th id=\"T_8d9f5_level0_row64\" class=\"row_heading level0 row64\" >64</th>\n",
       "                        <td id=\"T_8d9f5_row64_col0\" class=\"data row64 col0\" >2010 04</td>\n",
       "                        <td id=\"T_8d9f5_row64_col1\" class=\"data row64 col1\" >10897.520000</td>\n",
       "                        <td id=\"T_8d9f5_row64_col2\" class=\"data row64 col2\" >-0.006606</td>\n",
       "            </tr>\n",
       "            <tr>\n",
       "                        <th id=\"T_8d9f5_level0_row65\" class=\"row_heading level0 row65\" >65</th>\n",
       "                        <td id=\"T_8d9f5_row65_col0\" class=\"data row65 col0\" >2010 04</td>\n",
       "                        <td id=\"T_8d9f5_row65_col1\" class=\"data row65 col1\" >10927.070000</td>\n",
       "                        <td id=\"T_8d9f5_row65_col2\" class=\"data row65 col2\" >0.002712</td>\n",
       "            </tr>\n",
       "            <tr>\n",
       "                        <th id=\"T_8d9f5_level0_row66\" class=\"row_heading level0 row66\" >66</th>\n",
       "                        <td id=\"T_8d9f5_row66_col0\" class=\"data row66 col0\" >2010 04</td>\n",
       "                        <td id=\"T_8d9f5_row66_col1\" class=\"data row66 col1\" >10997.350000</td>\n",
       "                        <td id=\"T_8d9f5_row66_col2\" class=\"data row66 col2\" >0.006432</td>\n",
       "            </tr>\n",
       "            <tr>\n",
       "                        <th id=\"T_8d9f5_level0_row67\" class=\"row_heading level0 row67\" >67</th>\n",
       "                        <td id=\"T_8d9f5_row67_col0\" class=\"data row67 col0\" >2010 04</td>\n",
       "                        <td id=\"T_8d9f5_row67_col1\" class=\"data row67 col1\" >11005.970000</td>\n",
       "                        <td id=\"T_8d9f5_row67_col2\" class=\"data row67 col2\" >0.000784</td>\n",
       "            </tr>\n",
       "            <tr>\n",
       "                        <th id=\"T_8d9f5_level0_row68\" class=\"row_heading level0 row68\" >68</th>\n",
       "                        <td id=\"T_8d9f5_row68_col0\" class=\"data row68 col0\" >2010 04</td>\n",
       "                        <td id=\"T_8d9f5_row68_col1\" class=\"data row68 col1\" >11019.420000</td>\n",
       "                        <td id=\"T_8d9f5_row68_col2\" class=\"data row68 col2\" >0.001222</td>\n",
       "            </tr>\n",
       "            <tr>\n",
       "                        <th id=\"T_8d9f5_level0_row69\" class=\"row_heading level0 row69\" >69</th>\n",
       "                        <td id=\"T_8d9f5_row69_col0\" class=\"data row69 col0\" >2010 04</td>\n",
       "                        <td id=\"T_8d9f5_row69_col1\" class=\"data row69 col1\" >11123.110000</td>\n",
       "                        <td id=\"T_8d9f5_row69_col2\" class=\"data row69 col2\" >0.009410</td>\n",
       "            </tr>\n",
       "            <tr>\n",
       "                        <th id=\"T_8d9f5_level0_row70\" class=\"row_heading level0 row70\" >70</th>\n",
       "                        <td id=\"T_8d9f5_row70_col0\" class=\"data row70 col0\" >2010 04</td>\n",
       "                        <td id=\"T_8d9f5_row70_col1\" class=\"data row70 col1\" >11144.570000</td>\n",
       "                        <td id=\"T_8d9f5_row70_col2\" class=\"data row70 col2\" >0.001929</td>\n",
       "            </tr>\n",
       "            <tr>\n",
       "                        <th id=\"T_8d9f5_level0_row71\" class=\"row_heading level0 row71\" >71</th>\n",
       "                        <td id=\"T_8d9f5_row71_col0\" class=\"data row71 col0\" >2010 04</td>\n",
       "                        <td id=\"T_8d9f5_row71_col1\" class=\"data row71 col1\" >11018.660000</td>\n",
       "                        <td id=\"T_8d9f5_row71_col2\" class=\"data row71 col2\" >-0.011298</td>\n",
       "            </tr>\n",
       "            <tr>\n",
       "                        <th id=\"T_8d9f5_level0_row72\" class=\"row_heading level0 row72\" >72</th>\n",
       "                        <td id=\"T_8d9f5_row72_col0\" class=\"data row72 col0\" >2010 04</td>\n",
       "                        <td id=\"T_8d9f5_row72_col1\" class=\"data row72 col1\" >11092.050000</td>\n",
       "                        <td id=\"T_8d9f5_row72_col2\" class=\"data row72 col2\" >0.006661</td>\n",
       "            </tr>\n",
       "            <tr>\n",
       "                        <th id=\"T_8d9f5_level0_row73\" class=\"row_heading level0 row73\" >73</th>\n",
       "                        <td id=\"T_8d9f5_row73_col0\" class=\"data row73 col0\" >2010 04</td>\n",
       "                        <td id=\"T_8d9f5_row73_col1\" class=\"data row73 col1\" >11117.060000</td>\n",
       "                        <td id=\"T_8d9f5_row73_col2\" class=\"data row73 col2\" >0.002255</td>\n",
       "            </tr>\n",
       "            <tr>\n",
       "                        <th id=\"T_8d9f5_level0_row74\" class=\"row_heading level0 row74\" >74</th>\n",
       "                        <td id=\"T_8d9f5_row74_col0\" class=\"data row74 col0\" >2010 04</td>\n",
       "                        <td id=\"T_8d9f5_row74_col1\" class=\"data row74 col1\" >11124.920000</td>\n",
       "                        <td id=\"T_8d9f5_row74_col2\" class=\"data row74 col2\" >0.000707</td>\n",
       "            </tr>\n",
       "            <tr>\n",
       "                        <th id=\"T_8d9f5_level0_row75\" class=\"row_heading level0 row75\" >75</th>\n",
       "                        <td id=\"T_8d9f5_row75_col0\" class=\"data row75 col0\" >2010 04</td>\n",
       "                        <td id=\"T_8d9f5_row75_col1\" class=\"data row75 col1\" >11134.290000</td>\n",
       "                        <td id=\"T_8d9f5_row75_col2\" class=\"data row75 col2\" >0.000842</td>\n",
       "            </tr>\n",
       "            <tr>\n",
       "                        <th id=\"T_8d9f5_level0_row76\" class=\"row_heading level0 row76\" >76</th>\n",
       "                        <td id=\"T_8d9f5_row76_col0\" class=\"data row76 col0\" >2010 04</td>\n",
       "                        <td id=\"T_8d9f5_row76_col1\" class=\"data row76 col1\" >11204.280000</td>\n",
       "                        <td id=\"T_8d9f5_row76_col2\" class=\"data row76 col2\" >0.006286</td>\n",
       "            </tr>\n",
       "            <tr>\n",
       "                        <th id=\"T_8d9f5_level0_row77\" class=\"row_heading level0 row77\" >77</th>\n",
       "                        <td id=\"T_8d9f5_row77_col0\" class=\"data row77 col0\" >2010 04</td>\n",
       "                        <td id=\"T_8d9f5_row77_col1\" class=\"data row77 col1\" >11205.030000</td>\n",
       "                        <td id=\"T_8d9f5_row77_col2\" class=\"data row77 col2\" >0.000067</td>\n",
       "            </tr>\n",
       "            <tr>\n",
       "                        <th id=\"T_8d9f5_level0_row78\" class=\"row_heading level0 row78\" >78</th>\n",
       "                        <td id=\"T_8d9f5_row78_col0\" class=\"data row78 col0\" >2010 04</td>\n",
       "                        <td id=\"T_8d9f5_row78_col1\" class=\"data row78 col1\" >10991.990000</td>\n",
       "                        <td id=\"T_8d9f5_row78_col2\" class=\"data row78 col2\" >-0.019013</td>\n",
       "            </tr>\n",
       "            <tr>\n",
       "                        <th id=\"T_8d9f5_level0_row79\" class=\"row_heading level0 row79\" >79</th>\n",
       "                        <td id=\"T_8d9f5_row79_col0\" class=\"data row79 col0\" >2010 04</td>\n",
       "                        <td id=\"T_8d9f5_row79_col1\" class=\"data row79 col1\" >11045.270000</td>\n",
       "                        <td id=\"T_8d9f5_row79_col2\" class=\"data row79 col2\" >0.004847</td>\n",
       "            </tr>\n",
       "            <tr>\n",
       "                        <th id=\"T_8d9f5_level0_row80\" class=\"row_heading level0 row80\" >80</th>\n",
       "                        <td id=\"T_8d9f5_row80_col0\" class=\"data row80 col0\" >2010 04</td>\n",
       "                        <td id=\"T_8d9f5_row80_col1\" class=\"data row80 col1\" >11167.320000</td>\n",
       "                        <td id=\"T_8d9f5_row80_col2\" class=\"data row80 col2\" >0.011050</td>\n",
       "            </tr>\n",
       "            <tr>\n",
       "                        <th id=\"T_8d9f5_level0_row81\" class=\"row_heading level0 row81\" >81</th>\n",
       "                        <td id=\"T_8d9f5_row81_col0\" class=\"data row81 col0\" >2010 04</td>\n",
       "                        <td id=\"T_8d9f5_row81_col1\" class=\"data row81 col1\" >11008.610000</td>\n",
       "                        <td id=\"T_8d9f5_row81_col2\" class=\"data row81 col2\" >-0.014212</td>\n",
       "            </tr>\n",
       "            <tr>\n",
       "                        <th id=\"T_8d9f5_level0_row82\" class=\"row_heading level0 row82\" >82</th>\n",
       "                        <td id=\"T_8d9f5_row82_col0\" class=\"data row82 col0\" >2010 05</td>\n",
       "                        <td id=\"T_8d9f5_row82_col1\" class=\"data row82 col1\" >11151.830000</td>\n",
       "                        <td id=\"T_8d9f5_row82_col2\" class=\"data row82 col2\" >0.013010</td>\n",
       "            </tr>\n",
       "            <tr>\n",
       "                        <th id=\"T_8d9f5_level0_row83\" class=\"row_heading level0 row83\" >83</th>\n",
       "                        <td id=\"T_8d9f5_row83_col0\" class=\"data row83 col0\" >2010 05</td>\n",
       "                        <td id=\"T_8d9f5_row83_col1\" class=\"data row83 col1\" >10926.770000</td>\n",
       "                        <td id=\"T_8d9f5_row83_col2\" class=\"data row83 col2\" >-0.020181</td>\n",
       "            </tr>\n",
       "            <tr>\n",
       "                        <th id=\"T_8d9f5_level0_row84\" class=\"row_heading level0 row84\" >84</th>\n",
       "                        <td id=\"T_8d9f5_row84_col0\" class=\"data row84 col0\" >2010 05</td>\n",
       "                        <td id=\"T_8d9f5_row84_col1\" class=\"data row84 col1\" >10868.120000</td>\n",
       "                        <td id=\"T_8d9f5_row84_col2\" class=\"data row84 col2\" >-0.005368</td>\n",
       "            </tr>\n",
       "            <tr>\n",
       "                        <th id=\"T_8d9f5_level0_row85\" class=\"row_heading level0 row85\" >85</th>\n",
       "                        <td id=\"T_8d9f5_row85_col0\" class=\"data row85 col0\" >2010 05</td>\n",
       "                        <td id=\"T_8d9f5_row85_col1\" class=\"data row85 col1\" >10520.320000</td>\n",
       "                        <td id=\"T_8d9f5_row85_col2\" class=\"data row85 col2\" >-0.032002</td>\n",
       "            </tr>\n",
       "            <tr>\n",
       "                        <th id=\"T_8d9f5_level0_row86\" class=\"row_heading level0 row86\" >86</th>\n",
       "                        <td id=\"T_8d9f5_row86_col0\" class=\"data row86 col0\" >2010 05</td>\n",
       "                        <td id=\"T_8d9f5_row86_col1\" class=\"data row86 col1\" >10380.430000</td>\n",
       "                        <td id=\"T_8d9f5_row86_col2\" class=\"data row86 col2\" >-0.013297</td>\n",
       "            </tr>\n",
       "            <tr>\n",
       "                        <th id=\"T_8d9f5_level0_row87\" class=\"row_heading level0 row87\" >87</th>\n",
       "                        <td id=\"T_8d9f5_row87_col0\" class=\"data row87 col0\" >2010 05</td>\n",
       "                        <td id=\"T_8d9f5_row87_col1\" class=\"data row87 col1\" >10785.140000</td>\n",
       "                        <td id=\"T_8d9f5_row87_col2\" class=\"data row87 col2\" >0.038988</td>\n",
       "            </tr>\n",
       "            <tr>\n",
       "                        <th id=\"T_8d9f5_level0_row88\" class=\"row_heading level0 row88\" >88</th>\n",
       "                        <td id=\"T_8d9f5_row88_col0\" class=\"data row88 col0\" >2010 05</td>\n",
       "                        <td id=\"T_8d9f5_row88_col1\" class=\"data row88 col1\" >10748.260000</td>\n",
       "                        <td id=\"T_8d9f5_row88_col2\" class=\"data row88 col2\" >-0.003420</td>\n",
       "            </tr>\n",
       "            <tr>\n",
       "                        <th id=\"T_8d9f5_level0_row89\" class=\"row_heading level0 row89\" >89</th>\n",
       "                        <td id=\"T_8d9f5_row89_col0\" class=\"data row89 col0\" >2010 05</td>\n",
       "                        <td id=\"T_8d9f5_row89_col1\" class=\"data row89 col1\" >10896.910000</td>\n",
       "                        <td id=\"T_8d9f5_row89_col2\" class=\"data row89 col2\" >0.013830</td>\n",
       "            </tr>\n",
       "            <tr>\n",
       "                        <th id=\"T_8d9f5_level0_row90\" class=\"row_heading level0 row90\" >90</th>\n",
       "                        <td id=\"T_8d9f5_row90_col0\" class=\"data row90 col0\" >2010 05</td>\n",
       "                        <td id=\"T_8d9f5_row90_col1\" class=\"data row90 col1\" >10782.950000</td>\n",
       "                        <td id=\"T_8d9f5_row90_col2\" class=\"data row90 col2\" >-0.010458</td>\n",
       "            </tr>\n",
       "            <tr>\n",
       "                        <th id=\"T_8d9f5_level0_row91\" class=\"row_heading level0 row91\" >91</th>\n",
       "                        <td id=\"T_8d9f5_row91_col0\" class=\"data row91 col0\" >2010 05</td>\n",
       "                        <td id=\"T_8d9f5_row91_col1\" class=\"data row91 col1\" >10620.160000</td>\n",
       "                        <td id=\"T_8d9f5_row91_col2\" class=\"data row91 col2\" >-0.015097</td>\n",
       "            </tr>\n",
       "            <tr>\n",
       "                        <th id=\"T_8d9f5_level0_row92\" class=\"row_heading level0 row92\" >92</th>\n",
       "                        <td id=\"T_8d9f5_row92_col0\" class=\"data row92 col0\" >2010 05</td>\n",
       "                        <td id=\"T_8d9f5_row92_col1\" class=\"data row92 col1\" >10625.830000</td>\n",
       "                        <td id=\"T_8d9f5_row92_col2\" class=\"data row92 col2\" >0.000534</td>\n",
       "            </tr>\n",
       "            <tr>\n",
       "                        <th id=\"T_8d9f5_level0_row93\" class=\"row_heading level0 row93\" >93</th>\n",
       "                        <td id=\"T_8d9f5_row93_col0\" class=\"data row93 col0\" >2010 05</td>\n",
       "                        <td id=\"T_8d9f5_row93_col1\" class=\"data row93 col1\" >10510.950000</td>\n",
       "                        <td id=\"T_8d9f5_row93_col2\" class=\"data row93 col2\" >-0.010811</td>\n",
       "            </tr>\n",
       "            <tr>\n",
       "                        <th id=\"T_8d9f5_level0_row94\" class=\"row_heading level0 row94\" >94</th>\n",
       "                        <td id=\"T_8d9f5_row94_col0\" class=\"data row94 col0\" >2010 05</td>\n",
       "                        <td id=\"T_8d9f5_row94_col1\" class=\"data row94 col1\" >10444.370000</td>\n",
       "                        <td id=\"T_8d9f5_row94_col2\" class=\"data row94 col2\" >-0.006334</td>\n",
       "            </tr>\n",
       "            <tr>\n",
       "                        <th id=\"T_8d9f5_level0_row95\" class=\"row_heading level0 row95\" >95</th>\n",
       "                        <td id=\"T_8d9f5_row95_col0\" class=\"data row95 col0\" >2010 05</td>\n",
       "                        <td id=\"T_8d9f5_row95_col1\" class=\"data row95 col1\" >10068.010000</td>\n",
       "                        <td id=\"T_8d9f5_row95_col2\" class=\"data row95 col2\" >-0.036035</td>\n",
       "            </tr>\n",
       "            <tr>\n",
       "                        <th id=\"T_8d9f5_level0_row96\" class=\"row_heading level0 row96\" >96</th>\n",
       "                        <td id=\"T_8d9f5_row96_col0\" class=\"data row96 col0\" >2010 05</td>\n",
       "                        <td id=\"T_8d9f5_row96_col1\" class=\"data row96 col1\" >10193.390000</td>\n",
       "                        <td id=\"T_8d9f5_row96_col2\" class=\"data row96 col2\" >0.012453</td>\n",
       "            </tr>\n",
       "            <tr>\n",
       "                        <th id=\"T_8d9f5_level0_row97\" class=\"row_heading level0 row97\" >97</th>\n",
       "                        <td id=\"T_8d9f5_row97_col0\" class=\"data row97 col0\" >2010 05</td>\n",
       "                        <td id=\"T_8d9f5_row97_col1\" class=\"data row97 col1\" >10066.570000</td>\n",
       "                        <td id=\"T_8d9f5_row97_col2\" class=\"data row97 col2\" >-0.012441</td>\n",
       "            </tr>\n",
       "            <tr>\n",
       "                        <th id=\"T_8d9f5_level0_row98\" class=\"row_heading level0 row98\" >98</th>\n",
       "                        <td id=\"T_8d9f5_row98_col0\" class=\"data row98 col0\" >2010 05</td>\n",
       "                        <td id=\"T_8d9f5_row98_col1\" class=\"data row98 col1\" >10043.750000</td>\n",
       "                        <td id=\"T_8d9f5_row98_col2\" class=\"data row98 col2\" >-0.002267</td>\n",
       "            </tr>\n",
       "            <tr>\n",
       "                        <th id=\"T_8d9f5_level0_row99\" class=\"row_heading level0 row99\" >99</th>\n",
       "                        <td id=\"T_8d9f5_row99_col0\" class=\"data row99 col0\" >2010 05</td>\n",
       "                        <td id=\"T_8d9f5_row99_col1\" class=\"data row99 col1\" >9974.450000</td>\n",
       "                        <td id=\"T_8d9f5_row99_col2\" class=\"data row99 col2\" >-0.006900</td>\n",
       "            </tr>\n",
       "            <tr>\n",
       "                        <th id=\"T_8d9f5_level0_row100\" class=\"row_heading level0 row100\" >100</th>\n",
       "                        <td id=\"T_8d9f5_row100_col0\" class=\"data row100 col0\" >2010 05</td>\n",
       "                        <td id=\"T_8d9f5_row100_col1\" class=\"data row100 col1\" >10258.990000</td>\n",
       "                        <td id=\"T_8d9f5_row100_col2\" class=\"data row100 col2\" >0.028527</td>\n",
       "            </tr>\n",
       "            <tr>\n",
       "                        <th id=\"T_8d9f5_level0_row101\" class=\"row_heading level0 row101\" >101</th>\n",
       "                        <td id=\"T_8d9f5_row101_col0\" class=\"data row101 col0\" >2010 05</td>\n",
       "                        <td id=\"T_8d9f5_row101_col1\" class=\"data row101 col1\" >10136.630000</td>\n",
       "                        <td id=\"T_8d9f5_row101_col2\" class=\"data row101 col2\" >-0.011927</td>\n",
       "            </tr>\n",
       "            <tr>\n",
       "                        <th id=\"T_8d9f5_level0_row102\" class=\"row_heading level0 row102\" >102</th>\n",
       "                        <td id=\"T_8d9f5_row102_col0\" class=\"data row102 col0\" >2010 06</td>\n",
       "                        <td id=\"T_8d9f5_row102_col1\" class=\"data row102 col1\" >10024.020000</td>\n",
       "                        <td id=\"T_8d9f5_row102_col2\" class=\"data row102 col2\" >-0.011109</td>\n",
       "            </tr>\n",
       "            <tr>\n",
       "                        <th id=\"T_8d9f5_level0_row103\" class=\"row_heading level0 row103\" >103</th>\n",
       "                        <td id=\"T_8d9f5_row103_col0\" class=\"data row103 col0\" >2010 06</td>\n",
       "                        <td id=\"T_8d9f5_row103_col1\" class=\"data row103 col1\" >10249.540000</td>\n",
       "                        <td id=\"T_8d9f5_row103_col2\" class=\"data row103 col2\" >0.022498</td>\n",
       "            </tr>\n",
       "            <tr>\n",
       "                        <th id=\"T_8d9f5_level0_row104\" class=\"row_heading level0 row104\" >104</th>\n",
       "                        <td id=\"T_8d9f5_row104_col0\" class=\"data row104 col0\" >2010 06</td>\n",
       "                        <td id=\"T_8d9f5_row104_col1\" class=\"data row104 col1\" >10255.280000</td>\n",
       "                        <td id=\"T_8d9f5_row104_col2\" class=\"data row104 col2\" >0.000560</td>\n",
       "            </tr>\n",
       "            <tr>\n",
       "                        <th id=\"T_8d9f5_level0_row105\" class=\"row_heading level0 row105\" >105</th>\n",
       "                        <td id=\"T_8d9f5_row105_col0\" class=\"data row105 col0\" >2010 06</td>\n",
       "                        <td id=\"T_8d9f5_row105_col1\" class=\"data row105 col1\" >9931.970000</td>\n",
       "                        <td id=\"T_8d9f5_row105_col2\" class=\"data row105 col2\" >-0.031526</td>\n",
       "            </tr>\n",
       "            <tr>\n",
       "                        <th id=\"T_8d9f5_level0_row106\" class=\"row_heading level0 row106\" >106</th>\n",
       "                        <td id=\"T_8d9f5_row106_col0\" class=\"data row106 col0\" >2010 06</td>\n",
       "                        <td id=\"T_8d9f5_row106_col1\" class=\"data row106 col1\" >9816.490000</td>\n",
       "                        <td id=\"T_8d9f5_row106_col2\" class=\"data row106 col2\" >-0.011627</td>\n",
       "            </tr>\n",
       "            <tr>\n",
       "                        <th id=\"T_8d9f5_level0_row107\" class=\"row_heading level0 row107\" >107</th>\n",
       "                        <td id=\"T_8d9f5_row107_col0\" class=\"data row107 col0\" >2010 06</td>\n",
       "                        <td id=\"T_8d9f5_row107_col1\" class=\"data row107 col1\" >9939.980000</td>\n",
       "                        <td id=\"T_8d9f5_row107_col2\" class=\"data row107 col2\" >0.012580</td>\n",
       "            </tr>\n",
       "            <tr>\n",
       "                        <th id=\"T_8d9f5_level0_row108\" class=\"row_heading level0 row108\" >108</th>\n",
       "                        <td id=\"T_8d9f5_row108_col0\" class=\"data row108 col0\" >2010 06</td>\n",
       "                        <td id=\"T_8d9f5_row108_col1\" class=\"data row108 col1\" >9899.250000</td>\n",
       "                        <td id=\"T_8d9f5_row108_col2\" class=\"data row108 col2\" >-0.004098</td>\n",
       "            </tr>\n",
       "            <tr>\n",
       "                        <th id=\"T_8d9f5_level0_row109\" class=\"row_heading level0 row109\" >109</th>\n",
       "                        <td id=\"T_8d9f5_row109_col0\" class=\"data row109 col0\" >2010 06</td>\n",
       "                        <td id=\"T_8d9f5_row109_col1\" class=\"data row109 col1\" >10172.530000</td>\n",
       "                        <td id=\"T_8d9f5_row109_col2\" class=\"data row109 col2\" >0.027606</td>\n",
       "            </tr>\n",
       "            <tr>\n",
       "                        <th id=\"T_8d9f5_level0_row110\" class=\"row_heading level0 row110\" >110</th>\n",
       "                        <td id=\"T_8d9f5_row110_col0\" class=\"data row110 col0\" >2010 06</td>\n",
       "                        <td id=\"T_8d9f5_row110_col1\" class=\"data row110 col1\" >10211.070000</td>\n",
       "                        <td id=\"T_8d9f5_row110_col2\" class=\"data row110 col2\" >0.003789</td>\n",
       "            </tr>\n",
       "            <tr>\n",
       "                        <th id=\"T_8d9f5_level0_row111\" class=\"row_heading level0 row111\" >111</th>\n",
       "                        <td id=\"T_8d9f5_row111_col0\" class=\"data row111 col0\" >2010 06</td>\n",
       "                        <td id=\"T_8d9f5_row111_col1\" class=\"data row111 col1\" >10190.890000</td>\n",
       "                        <td id=\"T_8d9f5_row111_col2\" class=\"data row111 col2\" >-0.001976</td>\n",
       "            </tr>\n",
       "            <tr>\n",
       "                        <th id=\"T_8d9f5_level0_row112\" class=\"row_heading level0 row112\" >112</th>\n",
       "                        <td id=\"T_8d9f5_row112_col0\" class=\"data row112 col0\" >2010 06</td>\n",
       "                        <td id=\"T_8d9f5_row112_col1\" class=\"data row112 col1\" >10404.770000</td>\n",
       "                        <td id=\"T_8d9f5_row112_col2\" class=\"data row112 col2\" >0.020987</td>\n",
       "            </tr>\n",
       "            <tr>\n",
       "                        <th id=\"T_8d9f5_level0_row113\" class=\"row_heading level0 row113\" >113</th>\n",
       "                        <td id=\"T_8d9f5_row113_col0\" class=\"data row113 col0\" >2010 06</td>\n",
       "                        <td id=\"T_8d9f5_row113_col1\" class=\"data row113 col1\" >10409.460000</td>\n",
       "                        <td id=\"T_8d9f5_row113_col2\" class=\"data row113 col2\" >0.000451</td>\n",
       "            </tr>\n",
       "            <tr>\n",
       "                        <th id=\"T_8d9f5_level0_row114\" class=\"row_heading level0 row114\" >114</th>\n",
       "                        <td id=\"T_8d9f5_row114_col0\" class=\"data row114 col0\" >2010 06</td>\n",
       "                        <td id=\"T_8d9f5_row114_col1\" class=\"data row114 col1\" >10434.170000</td>\n",
       "                        <td id=\"T_8d9f5_row114_col2\" class=\"data row114 col2\" >0.002374</td>\n",
       "            </tr>\n",
       "            <tr>\n",
       "                        <th id=\"T_8d9f5_level0_row115\" class=\"row_heading level0 row115\" >115</th>\n",
       "                        <td id=\"T_8d9f5_row115_col0\" class=\"data row115 col0\" >2010 06</td>\n",
       "                        <td id=\"T_8d9f5_row115_col1\" class=\"data row115 col1\" >10450.640000</td>\n",
       "                        <td id=\"T_8d9f5_row115_col2\" class=\"data row115 col2\" >0.001578</td>\n",
       "            </tr>\n",
       "            <tr>\n",
       "                        <th id=\"T_8d9f5_level0_row116\" class=\"row_heading level0 row116\" >116</th>\n",
       "                        <td id=\"T_8d9f5_row116_col0\" class=\"data row116 col0\" >2010 06</td>\n",
       "                        <td id=\"T_8d9f5_row116_col1\" class=\"data row116 col1\" >10442.410000</td>\n",
       "                        <td id=\"T_8d9f5_row116_col2\" class=\"data row116 col2\" >-0.000788</td>\n",
       "            </tr>\n",
       "            <tr>\n",
       "                        <th id=\"T_8d9f5_level0_row117\" class=\"row_heading level0 row117\" >117</th>\n",
       "                        <td id=\"T_8d9f5_row117_col0\" class=\"data row117 col0\" >2010 06</td>\n",
       "                        <td id=\"T_8d9f5_row117_col1\" class=\"data row117 col1\" >10293.520000</td>\n",
       "                        <td id=\"T_8d9f5_row117_col2\" class=\"data row117 col2\" >-0.014258</td>\n",
       "            </tr>\n",
       "            <tr>\n",
       "                        <th id=\"T_8d9f5_level0_row118\" class=\"row_heading level0 row118\" >118</th>\n",
       "                        <td id=\"T_8d9f5_row118_col0\" class=\"data row118 col0\" >2010 06</td>\n",
       "                        <td id=\"T_8d9f5_row118_col1\" class=\"data row118 col1\" >10298.440000</td>\n",
       "                        <td id=\"T_8d9f5_row118_col2\" class=\"data row118 col2\" >0.000478</td>\n",
       "            </tr>\n",
       "            <tr>\n",
       "                        <th id=\"T_8d9f5_level0_row119\" class=\"row_heading level0 row119\" >119</th>\n",
       "                        <td id=\"T_8d9f5_row119_col0\" class=\"data row119 col0\" >2010 06</td>\n",
       "                        <td id=\"T_8d9f5_row119_col1\" class=\"data row119 col1\" >10152.800000</td>\n",
       "                        <td id=\"T_8d9f5_row119_col2\" class=\"data row119 col2\" >-0.014142</td>\n",
       "            </tr>\n",
       "            <tr>\n",
       "                        <th id=\"T_8d9f5_level0_row120\" class=\"row_heading level0 row120\" >120</th>\n",
       "                        <td id=\"T_8d9f5_row120_col0\" class=\"data row120 col0\" >2010 06</td>\n",
       "                        <td id=\"T_8d9f5_row120_col1\" class=\"data row120 col1\" >10143.810000</td>\n",
       "                        <td id=\"T_8d9f5_row120_col2\" class=\"data row120 col2\" >-0.000885</td>\n",
       "            </tr>\n",
       "            <tr>\n",
       "                        <th id=\"T_8d9f5_level0_row121\" class=\"row_heading level0 row121\" >121</th>\n",
       "                        <td id=\"T_8d9f5_row121_col0\" class=\"data row121 col0\" >2010 06</td>\n",
       "                        <td id=\"T_8d9f5_row121_col1\" class=\"data row121 col1\" >10138.520000</td>\n",
       "                        <td id=\"T_8d9f5_row121_col2\" class=\"data row121 col2\" >-0.000522</td>\n",
       "            </tr>\n",
       "            <tr>\n",
       "                        <th id=\"T_8d9f5_level0_row122\" class=\"row_heading level0 row122\" >122</th>\n",
       "                        <td id=\"T_8d9f5_row122_col0\" class=\"data row122 col0\" >2010 06</td>\n",
       "                        <td id=\"T_8d9f5_row122_col1\" class=\"data row122 col1\" >9870.300000</td>\n",
       "                        <td id=\"T_8d9f5_row122_col2\" class=\"data row122 col2\" >-0.026456</td>\n",
       "            </tr>\n",
       "            <tr>\n",
       "                        <th id=\"T_8d9f5_level0_row123\" class=\"row_heading level0 row123\" >123</th>\n",
       "                        <td id=\"T_8d9f5_row123_col0\" class=\"data row123 col0\" >2010 06</td>\n",
       "                        <td id=\"T_8d9f5_row123_col1\" class=\"data row123 col1\" >9774.020000</td>\n",
       "                        <td id=\"T_8d9f5_row123_col2\" class=\"data row123 col2\" >-0.009755</td>\n",
       "            </tr>\n",
       "            <tr>\n",
       "                        <th id=\"T_8d9f5_level0_row124\" class=\"row_heading level0 row124\" >124</th>\n",
       "                        <td id=\"T_8d9f5_row124_col0\" class=\"data row124 col0\" >2010 07</td>\n",
       "                        <td id=\"T_8d9f5_row124_col1\" class=\"data row124 col1\" >9732.530000</td>\n",
       "                        <td id=\"T_8d9f5_row124_col2\" class=\"data row124 col2\" >-0.004245</td>\n",
       "            </tr>\n",
       "            <tr>\n",
       "                        <th id=\"T_8d9f5_level0_row125\" class=\"row_heading level0 row125\" >125</th>\n",
       "                        <td id=\"T_8d9f5_row125_col0\" class=\"data row125 col0\" >2010 07</td>\n",
       "                        <td id=\"T_8d9f5_row125_col1\" class=\"data row125 col1\" >9686.480000</td>\n",
       "                        <td id=\"T_8d9f5_row125_col2\" class=\"data row125 col2\" >-0.004732</td>\n",
       "            </tr>\n",
       "            <tr>\n",
       "                        <th id=\"T_8d9f5_level0_row126\" class=\"row_heading level0 row126\" >126</th>\n",
       "                        <td id=\"T_8d9f5_row126_col0\" class=\"data row126 col0\" >2010 07</td>\n",
       "                        <td id=\"T_8d9f5_row126_col1\" class=\"data row126 col1\" >9743.620000</td>\n",
       "                        <td id=\"T_8d9f5_row126_col2\" class=\"data row126 col2\" >0.005899</td>\n",
       "            </tr>\n",
       "            <tr>\n",
       "                        <th id=\"T_8d9f5_level0_row127\" class=\"row_heading level0 row127\" >127</th>\n",
       "                        <td id=\"T_8d9f5_row127_col0\" class=\"data row127 col0\" >2010 07</td>\n",
       "                        <td id=\"T_8d9f5_row127_col1\" class=\"data row127 col1\" >10018.280000</td>\n",
       "                        <td id=\"T_8d9f5_row127_col2\" class=\"data row127 col2\" >0.028189</td>\n",
       "            </tr>\n",
       "            <tr>\n",
       "                        <th id=\"T_8d9f5_level0_row128\" class=\"row_heading level0 row128\" >128</th>\n",
       "                        <td id=\"T_8d9f5_row128_col0\" class=\"data row128 col0\" >2010 07</td>\n",
       "                        <td id=\"T_8d9f5_row128_col1\" class=\"data row128 col1\" >10138.990000</td>\n",
       "                        <td id=\"T_8d9f5_row128_col2\" class=\"data row128 col2\" >0.012049</td>\n",
       "            </tr>\n",
       "            <tr>\n",
       "                        <th id=\"T_8d9f5_level0_row129\" class=\"row_heading level0 row129\" >129</th>\n",
       "                        <td id=\"T_8d9f5_row129_col0\" class=\"data row129 col0\" >2010 07</td>\n",
       "                        <td id=\"T_8d9f5_row129_col1\" class=\"data row129 col1\" >10198.030000</td>\n",
       "                        <td id=\"T_8d9f5_row129_col2\" class=\"data row129 col2\" >0.005823</td>\n",
       "            </tr>\n",
       "            <tr>\n",
       "                        <th id=\"T_8d9f5_level0_row130\" class=\"row_heading level0 row130\" >130</th>\n",
       "                        <td id=\"T_8d9f5_row130_col0\" class=\"data row130 col0\" >2010 07</td>\n",
       "                        <td id=\"T_8d9f5_row130_col1\" class=\"data row130 col1\" >10216.270000</td>\n",
       "                        <td id=\"T_8d9f5_row130_col2\" class=\"data row130 col2\" >0.001789</td>\n",
       "            </tr>\n",
       "            <tr>\n",
       "                        <th id=\"T_8d9f5_level0_row131\" class=\"row_heading level0 row131\" >131</th>\n",
       "                        <td id=\"T_8d9f5_row131_col0\" class=\"data row131 col0\" >2010 07</td>\n",
       "                        <td id=\"T_8d9f5_row131_col1\" class=\"data row131 col1\" >10363.020000</td>\n",
       "                        <td id=\"T_8d9f5_row131_col2\" class=\"data row131 col2\" >0.014364</td>\n",
       "            </tr>\n",
       "            <tr>\n",
       "                        <th id=\"T_8d9f5_level0_row132\" class=\"row_heading level0 row132\" >132</th>\n",
       "                        <td id=\"T_8d9f5_row132_col0\" class=\"data row132 col0\" >2010 07</td>\n",
       "                        <td id=\"T_8d9f5_row132_col1\" class=\"data row132 col1\" >10366.720000</td>\n",
       "                        <td id=\"T_8d9f5_row132_col2\" class=\"data row132 col2\" >0.000357</td>\n",
       "            </tr>\n",
       "            <tr>\n",
       "                        <th id=\"T_8d9f5_level0_row133\" class=\"row_heading level0 row133\" >133</th>\n",
       "                        <td id=\"T_8d9f5_row133_col0\" class=\"data row133 col0\" >2010 07</td>\n",
       "                        <td id=\"T_8d9f5_row133_col1\" class=\"data row133 col1\" >10359.310000</td>\n",
       "                        <td id=\"T_8d9f5_row133_col2\" class=\"data row133 col2\" >-0.000715</td>\n",
       "            </tr>\n",
       "            <tr>\n",
       "                        <th id=\"T_8d9f5_level0_row134\" class=\"row_heading level0 row134\" >134</th>\n",
       "                        <td id=\"T_8d9f5_row134_col0\" class=\"data row134 col0\" >2010 07</td>\n",
       "                        <td id=\"T_8d9f5_row134_col1\" class=\"data row134 col1\" >10097.900000</td>\n",
       "                        <td id=\"T_8d9f5_row134_col2\" class=\"data row134 col2\" >-0.025234</td>\n",
       "            </tr>\n",
       "            <tr>\n",
       "                        <th id=\"T_8d9f5_level0_row135\" class=\"row_heading level0 row135\" >135</th>\n",
       "                        <td id=\"T_8d9f5_row135_col0\" class=\"data row135 col0\" >2010 07</td>\n",
       "                        <td id=\"T_8d9f5_row135_col1\" class=\"data row135 col1\" >10154.430000</td>\n",
       "                        <td id=\"T_8d9f5_row135_col2\" class=\"data row135 col2\" >0.005598</td>\n",
       "            </tr>\n",
       "            <tr>\n",
       "                        <th id=\"T_8d9f5_level0_row136\" class=\"row_heading level0 row136\" >136</th>\n",
       "                        <td id=\"T_8d9f5_row136_col0\" class=\"data row136 col0\" >2010 07</td>\n",
       "                        <td id=\"T_8d9f5_row136_col1\" class=\"data row136 col1\" >10229.960000</td>\n",
       "                        <td id=\"T_8d9f5_row136_col2\" class=\"data row136 col2\" >0.007438</td>\n",
       "            </tr>\n",
       "            <tr>\n",
       "                        <th id=\"T_8d9f5_level0_row137\" class=\"row_heading level0 row137\" >137</th>\n",
       "                        <td id=\"T_8d9f5_row137_col0\" class=\"data row137 col0\" >2010 07</td>\n",
       "                        <td id=\"T_8d9f5_row137_col1\" class=\"data row137 col1\" >10120.530000</td>\n",
       "                        <td id=\"T_8d9f5_row137_col2\" class=\"data row137 col2\" >-0.010697</td>\n",
       "            </tr>\n",
       "            <tr>\n",
       "                        <th id=\"T_8d9f5_level0_row138\" class=\"row_heading level0 row138\" >138</th>\n",
       "                        <td id=\"T_8d9f5_row138_col0\" class=\"data row138 col0\" >2010 07</td>\n",
       "                        <td id=\"T_8d9f5_row138_col1\" class=\"data row138 col1\" >10322.300000</td>\n",
       "                        <td id=\"T_8d9f5_row138_col2\" class=\"data row138 col2\" >0.019937</td>\n",
       "            </tr>\n",
       "            <tr>\n",
       "                        <th id=\"T_8d9f5_level0_row139\" class=\"row_heading level0 row139\" >139</th>\n",
       "                        <td id=\"T_8d9f5_row139_col0\" class=\"data row139 col0\" >2010 07</td>\n",
       "                        <td id=\"T_8d9f5_row139_col1\" class=\"data row139 col1\" >10424.620000</td>\n",
       "                        <td id=\"T_8d9f5_row139_col2\" class=\"data row139 col2\" >0.009913</td>\n",
       "            </tr>\n",
       "            <tr>\n",
       "                        <th id=\"T_8d9f5_level0_row140\" class=\"row_heading level0 row140\" >140</th>\n",
       "                        <td id=\"T_8d9f5_row140_col0\" class=\"data row140 col0\" >2010 07</td>\n",
       "                        <td id=\"T_8d9f5_row140_col1\" class=\"data row140 col1\" >10525.430000</td>\n",
       "                        <td id=\"T_8d9f5_row140_col2\" class=\"data row140 col2\" >0.009670</td>\n",
       "            </tr>\n",
       "            <tr>\n",
       "                        <th id=\"T_8d9f5_level0_row141\" class=\"row_heading level0 row141\" >141</th>\n",
       "                        <td id=\"T_8d9f5_row141_col0\" class=\"data row141 col0\" >2010 07</td>\n",
       "                        <td id=\"T_8d9f5_row141_col1\" class=\"data row141 col1\" >10537.690000</td>\n",
       "                        <td id=\"T_8d9f5_row141_col2\" class=\"data row141 col2\" >0.001165</td>\n",
       "            </tr>\n",
       "            <tr>\n",
       "                        <th id=\"T_8d9f5_level0_row142\" class=\"row_heading level0 row142\" >142</th>\n",
       "                        <td id=\"T_8d9f5_row142_col0\" class=\"data row142 col0\" >2010 07</td>\n",
       "                        <td id=\"T_8d9f5_row142_col1\" class=\"data row142 col1\" >10497.880000</td>\n",
       "                        <td id=\"T_8d9f5_row142_col2\" class=\"data row142 col2\" >-0.003778</td>\n",
       "            </tr>\n",
       "            <tr>\n",
       "                        <th id=\"T_8d9f5_level0_row143\" class=\"row_heading level0 row143\" >143</th>\n",
       "                        <td id=\"T_8d9f5_row143_col0\" class=\"data row143 col0\" >2010 07</td>\n",
       "                        <td id=\"T_8d9f5_row143_col1\" class=\"data row143 col1\" >10467.160000</td>\n",
       "                        <td id=\"T_8d9f5_row143_col2\" class=\"data row143 col2\" >-0.002926</td>\n",
       "            </tr>\n",
       "            <tr>\n",
       "                        <th id=\"T_8d9f5_level0_row144\" class=\"row_heading level0 row144\" >144</th>\n",
       "                        <td id=\"T_8d9f5_row144_col0\" class=\"data row144 col0\" >2010 07</td>\n",
       "                        <td id=\"T_8d9f5_row144_col1\" class=\"data row144 col1\" >10465.940000</td>\n",
       "                        <td id=\"T_8d9f5_row144_col2\" class=\"data row144 col2\" >-0.000117</td>\n",
       "            </tr>\n",
       "            <tr>\n",
       "                        <th id=\"T_8d9f5_level0_row145\" class=\"row_heading level0 row145\" >145</th>\n",
       "                        <td id=\"T_8d9f5_row145_col0\" class=\"data row145 col0\" >2010 08</td>\n",
       "                        <td id=\"T_8d9f5_row145_col1\" class=\"data row145 col1\" >10674.380000</td>\n",
       "                        <td id=\"T_8d9f5_row145_col2\" class=\"data row145 col2\" >0.019916</td>\n",
       "            </tr>\n",
       "            <tr>\n",
       "                        <th id=\"T_8d9f5_level0_row146\" class=\"row_heading level0 row146\" >146</th>\n",
       "                        <td id=\"T_8d9f5_row146_col0\" class=\"data row146 col0\" >2010 08</td>\n",
       "                        <td id=\"T_8d9f5_row146_col1\" class=\"data row146 col1\" >10636.380000</td>\n",
       "                        <td id=\"T_8d9f5_row146_col2\" class=\"data row146 col2\" >-0.003560</td>\n",
       "            </tr>\n",
       "            <tr>\n",
       "                        <th id=\"T_8d9f5_level0_row147\" class=\"row_heading level0 row147\" >147</th>\n",
       "                        <td id=\"T_8d9f5_row147_col0\" class=\"data row147 col0\" >2010 08</td>\n",
       "                        <td id=\"T_8d9f5_row147_col1\" class=\"data row147 col1\" >10680.430000</td>\n",
       "                        <td id=\"T_8d9f5_row147_col2\" class=\"data row147 col2\" >0.004141</td>\n",
       "            </tr>\n",
       "            <tr>\n",
       "                        <th id=\"T_8d9f5_level0_row148\" class=\"row_heading level0 row148\" >148</th>\n",
       "                        <td id=\"T_8d9f5_row148_col0\" class=\"data row148 col0\" >2010 08</td>\n",
       "                        <td id=\"T_8d9f5_row148_col1\" class=\"data row148 col1\" >10674.980000</td>\n",
       "                        <td id=\"T_8d9f5_row148_col2\" class=\"data row148 col2\" >-0.000510</td>\n",
       "            </tr>\n",
       "            <tr>\n",
       "                        <th id=\"T_8d9f5_level0_row149\" class=\"row_heading level0 row149\" >149</th>\n",
       "                        <td id=\"T_8d9f5_row149_col0\" class=\"data row149 col0\" >2010 08</td>\n",
       "                        <td id=\"T_8d9f5_row149_col1\" class=\"data row149 col1\" >10653.560000</td>\n",
       "                        <td id=\"T_8d9f5_row149_col2\" class=\"data row149 col2\" >-0.002007</td>\n",
       "            </tr>\n",
       "            <tr>\n",
       "                        <th id=\"T_8d9f5_level0_row150\" class=\"row_heading level0 row150\" >150</th>\n",
       "                        <td id=\"T_8d9f5_row150_col0\" class=\"data row150 col0\" >2010 08</td>\n",
       "                        <td id=\"T_8d9f5_row150_col1\" class=\"data row150 col1\" >10698.750000</td>\n",
       "                        <td id=\"T_8d9f5_row150_col2\" class=\"data row150 col2\" >0.004242</td>\n",
       "            </tr>\n",
       "            <tr>\n",
       "                        <th id=\"T_8d9f5_level0_row151\" class=\"row_heading level0 row151\" >151</th>\n",
       "                        <td id=\"T_8d9f5_row151_col0\" class=\"data row151 col0\" >2010 08</td>\n",
       "                        <td id=\"T_8d9f5_row151_col1\" class=\"data row151 col1\" >10644.250000</td>\n",
       "                        <td id=\"T_8d9f5_row151_col2\" class=\"data row151 col2\" >-0.005094</td>\n",
       "            </tr>\n",
       "    </tbody></table>"
      ],
      "text/plain": [
       "<IPython.core.display.HTML object>"
      ]
     },
     "execution_count": 171,
     "metadata": {},
     "output_type": "execute_result"
    }
   ],
   "source": [
    "HTML(dow.assign(Change=dow['Adj Close'].pct_change())\n",
    " .style\n",
    " .format({'Date': '{:%Y %m}'})\n",
    " .bar(subset=['Change'],\n",
    "      align='mid',\n",
    "      color=['red', 'green'],\n",
    "     )\n",
    " .set_properties(**{'text-align': 'center'}, subset='Change')\n",
    " .render()\n",
    ")"
   ]
  },
  {
   "cell_type": "markdown",
   "metadata": {},
   "source": [
    "***\n",
    "В файле Goals.xlsx для каждого месяца содержатся процентные отношения, касающиеся достижения целей филиалами банка. Обработайте эти данные с помощью спарклайнов выигрыша/проигрыша."
   ]
  },
  {
   "cell_type": "code",
   "execution_count": 137,
   "metadata": {},
   "outputs": [],
   "source": [
    "goals = pd.read_excel('~/Study/excel/Ch47/Practice Files/Goals.xlsx',\n",
    "                          usecols=range(3,16), skiprows=6)"
   ]
  },
  {
   "cell_type": "code",
   "execution_count": 138,
   "metadata": {},
   "outputs": [
    {
     "data": {
      "text/html": [
       "<div>\n",
       "<style scoped>\n",
       "    .dataframe tbody tr th:only-of-type {\n",
       "        vertical-align: middle;\n",
       "    }\n",
       "\n",
       "    .dataframe tbody tr th {\n",
       "        vertical-align: top;\n",
       "    }\n",
       "\n",
       "    .dataframe thead th {\n",
       "        text-align: right;\n",
       "    }\n",
       "</style>\n",
       "<table border=\"1\" class=\"dataframe\">\n",
       "  <thead>\n",
       "    <tr style=\"text-align: right;\">\n",
       "      <th></th>\n",
       "      <th>Branch</th>\n",
       "      <th>Jan</th>\n",
       "      <th>Feb</th>\n",
       "      <th>Mar</th>\n",
       "      <th>Apr</th>\n",
       "      <th>May</th>\n",
       "      <th>Jun</th>\n",
       "      <th>Jul</th>\n",
       "      <th>Aug</th>\n",
       "      <th>Sep</th>\n",
       "      <th>Oct</th>\n",
       "      <th>Nov</th>\n",
       "      <th>Dec</th>\n",
       "    </tr>\n",
       "  </thead>\n",
       "  <tbody>\n",
       "    <tr>\n",
       "      <th>0</th>\n",
       "      <td>New York</td>\n",
       "      <td>-0.11</td>\n",
       "      <td>-0.03</td>\n",
       "      <td>-0.12</td>\n",
       "      <td>0.32</td>\n",
       "      <td>0.33</td>\n",
       "      <td>0.57</td>\n",
       "      <td>0.03</td>\n",
       "      <td>0.07</td>\n",
       "      <td>0.47</td>\n",
       "      <td>0.01</td>\n",
       "      <td>0.11</td>\n",
       "      <td>0.70</td>\n",
       "    </tr>\n",
       "    <tr>\n",
       "      <th>1</th>\n",
       "      <td>Rochester</td>\n",
       "      <td>-0.27</td>\n",
       "      <td>-0.39</td>\n",
       "      <td>-0.37</td>\n",
       "      <td>-0.42</td>\n",
       "      <td>-0.38</td>\n",
       "      <td>-0.34</td>\n",
       "      <td>0.08</td>\n",
       "      <td>0.12</td>\n",
       "      <td>0.17</td>\n",
       "      <td>0.31</td>\n",
       "      <td>0.19</td>\n",
       "      <td>0.29</td>\n",
       "    </tr>\n",
       "    <tr>\n",
       "      <th>2</th>\n",
       "      <td>Utica</td>\n",
       "      <td>-0.37</td>\n",
       "      <td>-0.26</td>\n",
       "      <td>-0.37</td>\n",
       "      <td>-0.57</td>\n",
       "      <td>-0.30</td>\n",
       "      <td>-0.55</td>\n",
       "      <td>-0.24</td>\n",
       "      <td>-0.42</td>\n",
       "      <td>-0.30</td>\n",
       "      <td>-0.39</td>\n",
       "      <td>-0.21</td>\n",
       "      <td>-0.28</td>\n",
       "    </tr>\n",
       "    <tr>\n",
       "      <th>3</th>\n",
       "      <td>Syracuse</td>\n",
       "      <td>0.43</td>\n",
       "      <td>0.37</td>\n",
       "      <td>0.14</td>\n",
       "      <td>0.12</td>\n",
       "      <td>0.28</td>\n",
       "      <td>0.33</td>\n",
       "      <td>0.37</td>\n",
       "      <td>0.31</td>\n",
       "      <td>0.26</td>\n",
       "      <td>0.13</td>\n",
       "      <td>0.10</td>\n",
       "      <td>0.48</td>\n",
       "    </tr>\n",
       "  </tbody>\n",
       "</table>\n",
       "</div>"
      ],
      "text/plain": [
       "      Branch   Jan   Feb   Mar   Apr   May   Jun   Jul   Aug   Sep   Oct  \\\n",
       "0   New York -0.11 -0.03 -0.12  0.32  0.33  0.57  0.03  0.07  0.47  0.01   \n",
       "1  Rochester -0.27 -0.39 -0.37 -0.42 -0.38 -0.34  0.08  0.12  0.17  0.31   \n",
       "2      Utica -0.37 -0.26 -0.37 -0.57 -0.30 -0.55 -0.24 -0.42 -0.30 -0.39   \n",
       "3   Syracuse  0.43  0.37  0.14  0.12  0.28  0.33  0.37  0.31  0.26  0.13   \n",
       "\n",
       "    Nov   Dec  \n",
       "0  0.11  0.70  \n",
       "1  0.19  0.29  \n",
       "2 -0.21 -0.28  \n",
       "3  0.10  0.48  "
      ]
     },
     "execution_count": 138,
     "metadata": {},
     "output_type": "execute_result"
    }
   ],
   "source": [
    "goals"
   ]
  },
  {
   "cell_type": "code",
   "execution_count": 168,
   "metadata": {},
   "outputs": [],
   "source": [
    "def bar_sparkline(data, figsize=(2, 0.25), **kwags):\n",
    "\n",
    "    data = np.array(data)\n",
    "    \n",
    "    fig, ax = plt.subplots(1, 1, figsize=figsize, **kwags)\n",
    "    for k,v in ax.spines.items():\n",
    "        v.set_visible(False)\n",
    "    ax.set_xticks([])\n",
    "    ax.set_yticks([])    \n",
    "    colors = np.where(data < 0, 'red', 'blue')\n",
    "    plt.bar(range(len(data)), data, width=1, color=colors)\n",
    "    \n",
    "    img = BytesIO()\n",
    "    plt.savefig(img)\n",
    "    img.seek(0)\n",
    "    plt.close()\n",
    "    return '<img src=\"data:image/png;base64,{}\"/>'.format(base64.b64encode(img.read()).decode())"
   ]
  },
  {
   "cell_type": "code",
   "execution_count": 169,
   "metadata": {},
   "outputs": [
    {
     "data": {
      "text/html": [
       "<table border=\"1\" class=\"dataframe\">\n",
       "  <thead>\n",
       "    <tr style=\"text-align: right;\">\n",
       "      <th></th>\n",
       "      <th>Branch</th>\n",
       "      <th>Jan</th>\n",
       "      <th>Feb</th>\n",
       "      <th>Mar</th>\n",
       "      <th>Apr</th>\n",
       "      <th>May</th>\n",
       "      <th>Jun</th>\n",
       "      <th>Jul</th>\n",
       "      <th>Aug</th>\n",
       "      <th>Sep</th>\n",
       "      <th>Oct</th>\n",
       "      <th>Nov</th>\n",
       "      <th>Dec</th>\n",
       "      <th>Summary</th>\n",
       "    </tr>\n",
       "  </thead>\n",
       "  <tbody>\n",
       "    <tr>\n",
       "      <th>0</th>\n",
       "      <td>New York</td>\n",
       "      <td>-0.11</td>\n",
       "      <td>-0.03</td>\n",
       "      <td>-0.12</td>\n",
       "      <td>0.32</td>\n",
       "      <td>0.33</td>\n",
       "      <td>0.57</td>\n",
       "      <td>0.03</td>\n",
       "      <td>0.07</td>\n",
       "      <td>0.47</td>\n",
       "      <td>0.01</td>\n",
       "      <td>0.11</td>\n",
       "      <td>0.70</td>\n",
       "      <td><img src=\"data:image/png;base64,iVBORw0KGgoAAAANSUhEUgAAAJAAAAASCAYAAAC0PldrAAAAOXRFWHRTb2Z0d2FyZQBNYXRwbG90bGliIHZlcnNpb24zLjQuMiwgaHR0cHM6Ly9tYXRwbG90bGliLm9yZy8rg+JYAAAACXBIWXMAAAsTAAALEwEAmpwYAAAAlklEQVR4nO3ZQQ6AIAxEUWu8/5VxbVxAaC0d+W8v0WToSLDW2gHMOle/ALRdgWsxyrTZzEORAUIBNhCDyL8WKgwuTKAjf9f+CQFK1AuqYkipMLhsMYFGKgpz5ANEONaiwuBCgOAiX2FVZFVptcq2wMvU90IZX6t49q1J9CqjF4BqWw4P3wYoYjowYUqLDBCjYkOcwuByA7YSFjZAP6W5AAAAAElFTkSuQmCC\"/></td>\n",
       "    </tr>\n",
       "    <tr>\n",
       "      <th>1</th>\n",
       "      <td>Rochester</td>\n",
       "      <td>-0.27</td>\n",
       "      <td>-0.39</td>\n",
       "      <td>-0.37</td>\n",
       "      <td>-0.42</td>\n",
       "      <td>-0.38</td>\n",
       "      <td>-0.34</td>\n",
       "      <td>0.08</td>\n",
       "      <td>0.12</td>\n",
       "      <td>0.17</td>\n",
       "      <td>0.31</td>\n",
       "      <td>0.19</td>\n",
       "      <td>0.29</td>\n",
       "      <td><img src=\"data:image/png;base64,iVBORw0KGgoAAAANSUhEUgAAAJAAAAASCAYAAAC0PldrAAAAOXRFWHRTb2Z0d2FyZQBNYXRwbG90bGliIHZlcnNpb24zLjQuMiwgaHR0cHM6Ly9tYXRwbG90bGliLm9yZy8rg+JYAAAACXBIWXMAAAsTAAALEwEAmpwYAAAAkklEQVR4nO3Yyw6AIAxEUTH+/y/j2oSEyhTK4569jbGTUkk55wtodUe/ANb2ONZilK0ttTzkGSCIkqGFtY3Do8YfHGGQMIEGskyHETU8ESAnszV2FAJkdGpAavoGaKOvzn1ZGUs0JAQIEgIECQGCpO8SbVk8N1q0TzT/b/xsd/f4iA+Q2lzCEcozQJxFB2KJhuQFo3EVN9Afh9cAAAAASUVORK5CYII=\"/></td>\n",
       "    </tr>\n",
       "    <tr>\n",
       "      <th>2</th>\n",
       "      <td>Utica</td>\n",
       "      <td>-0.37</td>\n",
       "      <td>-0.26</td>\n",
       "      <td>-0.37</td>\n",
       "      <td>-0.57</td>\n",
       "      <td>-0.30</td>\n",
       "      <td>-0.55</td>\n",
       "      <td>-0.24</td>\n",
       "      <td>-0.42</td>\n",
       "      <td>-0.30</td>\n",
       "      <td>-0.39</td>\n",
       "      <td>-0.21</td>\n",
       "      <td>-0.28</td>\n",
       "      <td><img src=\"data:image/png;base64,iVBORw0KGgoAAAANSUhEUgAAAJAAAAASCAYAAAC0PldrAAAAOXRFWHRTb2Z0d2FyZQBNYXRwbG90bGliIHZlcnNpb24zLjQuMiwgaHR0cHM6Ly9tYXRwbG90bGliLm9yZy8rg+JYAAAACXBIWXMAAAsTAAALEwEAmpwYAAAAlUlEQVR4nO3ZgQ2AIAxEUTHuvzIOIETD1YPqfwMQImdbsdRaN2DUPnsDyO0IXOtaykoJXB5h2l1n6LCoQJAQIEgIECQECJLIIRoOd9cu5g+X+QFa7IF0Zdmn2fwAOaxy+I59mC+GmYEgebcCRbwNq1QPh4S/lf7RwhwSHn4EWhgkBAiS/C3MMWehKzJAH5pm8RQtDJITyogeJv2zntUAAAAASUVORK5CYII=\"/></td>\n",
       "    </tr>\n",
       "    <tr>\n",
       "      <th>3</th>\n",
       "      <td>Syracuse</td>\n",
       "      <td>0.43</td>\n",
       "      <td>0.37</td>\n",
       "      <td>0.14</td>\n",
       "      <td>0.12</td>\n",
       "      <td>0.28</td>\n",
       "      <td>0.33</td>\n",
       "      <td>0.37</td>\n",
       "      <td>0.31</td>\n",
       "      <td>0.26</td>\n",
       "      <td>0.13</td>\n",
       "      <td>0.10</td>\n",
       "      <td>0.48</td>\n",
       "      <td><img src=\"data:image/png;base64,iVBORw0KGgoAAAANSUhEUgAAAJAAAAASCAYAAAC0PldrAAAAOXRFWHRTb2Z0d2FyZQBNYXRwbG90bGliIHZlcnNpb24zLjQuMiwgaHR0cHM6Ly9tYXRwbG90bGliLm9yZy8rg+JYAAAACXBIWXMAAAsTAAALEwEAmpwYAAAAk0lEQVR4nO3aQQ6AIAxEUWu8/5XxAhIIU6GF//YSSCbtLLRSygWMuldfALk9jmcxynKzkY88A4QArCMGnq3l1wDNfgzmowNBsnyFtaZUlAmV5Z6zLQ9QBD2r1uOMHUN2RIA8AoJvRwQoih3XICUaEgIESfgVtuPYr8lYxMMHqOW0ghztvawwSAgQJMb/QFAwgSB5AVHfFzecbs4UAAAAAElFTkSuQmCC\"/></td>\n",
       "    </tr>\n",
       "  </tbody>\n",
       "</table>"
      ],
      "text/plain": [
       "<IPython.core.display.HTML object>"
      ]
     },
     "execution_count": 169,
     "metadata": {},
     "output_type": "execute_result"
    }
   ],
   "source": [
    "HTML(goals.assign(Summary=goals.loc[:, 'Jan': 'Dec']\n",
    "                  .apply(bar_sparkline, axis=1))\n",
    "                  .to_html(escape=False))"
   ]
  },
  {
   "cell_type": "markdown",
   "metadata": {},
   "source": [
    "***\n",
    "Эти задания относятся к данным в файлах Jancon.xlsx и Febcon.xlsx. Каждый файл содержит проданный продукт, показатели продаж в штуках и выручку в долларах для сделок за месяц.\n",
    "1. Создайте объединенный лист, на котором определен общий показатель продаж в штуках и общая выручка в долларах для каждого продукта по регионам.\n",
    "2. Создайте объединенный лист, на котором за первый квартал по регионам для каждого продукта определяется самая крупная сделка с точки зрения выручки и количества проданных единиц продукции."
   ]
  },
  {
   "cell_type": "code",
   "execution_count": 175,
   "metadata": {},
   "outputs": [],
   "source": [
    "jancon = pd.read_excel('~/Study/excel/Ch50/Practice Files/Jancon.xlsx',\n",
    "                          usecols=range(1,7), skiprows=5)\n",
    "febcon = pd.read_excel('~/Study/excel/Ch50/Practice Files/Febcon.xlsx',\n",
    "                          usecols=range(1,7), skiprows=5)"
   ]
  },
  {
   "cell_type": "code",
   "execution_count": 174,
   "metadata": {},
   "outputs": [
    {
     "data": {
      "text/html": [
       "<div>\n",
       "<style scoped>\n",
       "    .dataframe tbody tr th:only-of-type {\n",
       "        vertical-align: middle;\n",
       "    }\n",
       "\n",
       "    .dataframe tbody tr th {\n",
       "        vertical-align: top;\n",
       "    }\n",
       "\n",
       "    .dataframe thead th {\n",
       "        text-align: right;\n",
       "    }\n",
       "</style>\n",
       "<table border=\"1\" class=\"dataframe\">\n",
       "  <thead>\n",
       "    <tr style=\"text-align: right;\">\n",
       "      <th></th>\n",
       "      <th>Product</th>\n",
       "      <th>East revenue</th>\n",
       "      <th>East units sold</th>\n",
       "      <th>West revenue</th>\n",
       "      <th>West units sold</th>\n",
       "    </tr>\n",
       "  </thead>\n",
       "  <tbody>\n",
       "    <tr>\n",
       "      <th>0</th>\n",
       "      <td>A</td>\n",
       "      <td>188</td>\n",
       "      <td>47</td>\n",
       "      <td>136</td>\n",
       "      <td>34</td>\n",
       "    </tr>\n",
       "    <tr>\n",
       "      <th>1</th>\n",
       "      <td>B</td>\n",
       "      <td>40</td>\n",
       "      <td>10</td>\n",
       "      <td>22</td>\n",
       "      <td>11</td>\n",
       "    </tr>\n",
       "    <tr>\n",
       "      <th>2</th>\n",
       "      <td>C</td>\n",
       "      <td>184</td>\n",
       "      <td>46</td>\n",
       "      <td>66</td>\n",
       "      <td>33</td>\n",
       "    </tr>\n",
       "    <tr>\n",
       "      <th>3</th>\n",
       "      <td>B</td>\n",
       "      <td>45</td>\n",
       "      <td>15</td>\n",
       "      <td>156</td>\n",
       "      <td>39</td>\n",
       "    </tr>\n",
       "    <tr>\n",
       "      <th>4</th>\n",
       "      <td>B</td>\n",
       "      <td>36</td>\n",
       "      <td>18</td>\n",
       "      <td>138</td>\n",
       "      <td>46</td>\n",
       "    </tr>\n",
       "  </tbody>\n",
       "</table>\n",
       "</div>"
      ],
      "text/plain": [
       "  Product  East revenue  East units sold  West revenue  West units sold\n",
       "0       A           188               47           136               34\n",
       "1       B            40               10            22               11\n",
       "2       C           184               46            66               33\n",
       "3       B            45               15           156               39\n",
       "4       B            36               18           138               46"
      ]
     },
     "execution_count": 174,
     "metadata": {},
     "output_type": "execute_result"
    }
   ],
   "source": [
    "jancon.head()"
   ]
  },
  {
   "cell_type": "code",
   "execution_count": 176,
   "metadata": {},
   "outputs": [
    {
     "data": {
      "text/html": [
       "<div>\n",
       "<style scoped>\n",
       "    .dataframe tbody tr th:only-of-type {\n",
       "        vertical-align: middle;\n",
       "    }\n",
       "\n",
       "    .dataframe tbody tr th {\n",
       "        vertical-align: top;\n",
       "    }\n",
       "\n",
       "    .dataframe thead th {\n",
       "        text-align: right;\n",
       "    }\n",
       "</style>\n",
       "<table border=\"1\" class=\"dataframe\">\n",
       "  <thead>\n",
       "    <tr style=\"text-align: right;\">\n",
       "      <th></th>\n",
       "      <th>Product</th>\n",
       "      <th>East revenue</th>\n",
       "      <th>East units sold</th>\n",
       "      <th>West revenue</th>\n",
       "      <th>West units sold</th>\n",
       "    </tr>\n",
       "  </thead>\n",
       "  <tbody>\n",
       "    <tr>\n",
       "      <th>0</th>\n",
       "      <td>B</td>\n",
       "      <td>295</td>\n",
       "      <td>59</td>\n",
       "      <td>295</td>\n",
       "      <td>59</td>\n",
       "    </tr>\n",
       "    <tr>\n",
       "      <th>1</th>\n",
       "      <td>C</td>\n",
       "      <td>305</td>\n",
       "      <td>61</td>\n",
       "      <td>305</td>\n",
       "      <td>61</td>\n",
       "    </tr>\n",
       "    <tr>\n",
       "      <th>2</th>\n",
       "      <td>A</td>\n",
       "      <td>164</td>\n",
       "      <td>41</td>\n",
       "      <td>164</td>\n",
       "      <td>41</td>\n",
       "    </tr>\n",
       "    <tr>\n",
       "      <th>3</th>\n",
       "      <td>B</td>\n",
       "      <td>285</td>\n",
       "      <td>57</td>\n",
       "      <td>285</td>\n",
       "      <td>57</td>\n",
       "    </tr>\n",
       "    <tr>\n",
       "      <th>4</th>\n",
       "      <td>B</td>\n",
       "      <td>220</td>\n",
       "      <td>55</td>\n",
       "      <td>220</td>\n",
       "      <td>55</td>\n",
       "    </tr>\n",
       "  </tbody>\n",
       "</table>\n",
       "</div>"
      ],
      "text/plain": [
       "  Product  East revenue  East units sold  West revenue  West units sold\n",
       "0       B           295               59           295               59\n",
       "1       C           305               61           305               61\n",
       "2       A           164               41           164               41\n",
       "3       B           285               57           285               57\n",
       "4       B           220               55           220               55"
      ]
     },
     "execution_count": 176,
     "metadata": {},
     "output_type": "execute_result"
    }
   ],
   "source": [
    "febcon.head()"
   ]
  },
  {
   "cell_type": "code",
   "execution_count": 179,
   "metadata": {},
   "outputs": [
    {
     "data": {
      "text/html": [
       "<div>\n",
       "<style scoped>\n",
       "    .dataframe tbody tr th:only-of-type {\n",
       "        vertical-align: middle;\n",
       "    }\n",
       "\n",
       "    .dataframe tbody tr th {\n",
       "        vertical-align: top;\n",
       "    }\n",
       "\n",
       "    .dataframe thead th {\n",
       "        text-align: right;\n",
       "    }\n",
       "</style>\n",
       "<table border=\"1\" class=\"dataframe\">\n",
       "  <thead>\n",
       "    <tr style=\"text-align: right;\">\n",
       "      <th></th>\n",
       "      <th>East revenue</th>\n",
       "      <th>East units sold</th>\n",
       "    </tr>\n",
       "    <tr>\n",
       "      <th>Product</th>\n",
       "      <th></th>\n",
       "      <th></th>\n",
       "    </tr>\n",
       "  </thead>\n",
       "  <tbody>\n",
       "    <tr>\n",
       "      <th>A</th>\n",
       "      <td>1071</td>\n",
       "      <td>305</td>\n",
       "    </tr>\n",
       "    <tr>\n",
       "      <th>B</th>\n",
       "      <td>1429</td>\n",
       "      <td>366</td>\n",
       "    </tr>\n",
       "    <tr>\n",
       "      <th>C</th>\n",
       "      <td>1346</td>\n",
       "      <td>349</td>\n",
       "    </tr>\n",
       "  </tbody>\n",
       "</table>\n",
       "</div>"
      ],
      "text/plain": [
       "         East revenue  East units sold\n",
       "Product                               \n",
       "A                1071              305\n",
       "B                1429              366\n",
       "C                1346              349"
      ]
     },
     "execution_count": 179,
     "metadata": {},
     "output_type": "execute_result"
    }
   ],
   "source": [
    "pd.concat([jancon, febcon]).groupby('Product')[['East revenue', 'East units sold']].sum()"
   ]
  },
  {
   "cell_type": "code",
   "execution_count": 180,
   "metadata": {},
   "outputs": [
    {
     "data": {
      "text/html": [
       "<div>\n",
       "<style scoped>\n",
       "    .dataframe tbody tr th:only-of-type {\n",
       "        vertical-align: middle;\n",
       "    }\n",
       "\n",
       "    .dataframe tbody tr th {\n",
       "        vertical-align: top;\n",
       "    }\n",
       "\n",
       "    .dataframe thead th {\n",
       "        text-align: right;\n",
       "    }\n",
       "</style>\n",
       "<table border=\"1\" class=\"dataframe\">\n",
       "  <thead>\n",
       "    <tr style=\"text-align: right;\">\n",
       "      <th></th>\n",
       "      <th>East revenue</th>\n",
       "      <th>East units sold</th>\n",
       "      <th>West revenue</th>\n",
       "      <th>West units sold</th>\n",
       "    </tr>\n",
       "    <tr>\n",
       "      <th>Product</th>\n",
       "      <th></th>\n",
       "      <th></th>\n",
       "      <th></th>\n",
       "      <th></th>\n",
       "    </tr>\n",
       "  </thead>\n",
       "  <tbody>\n",
       "    <tr>\n",
       "      <th>A</th>\n",
       "      <td>220</td>\n",
       "      <td>59</td>\n",
       "      <td>220</td>\n",
       "      <td>59</td>\n",
       "    </tr>\n",
       "    <tr>\n",
       "      <th>B</th>\n",
       "      <td>295</td>\n",
       "      <td>59</td>\n",
       "      <td>295</td>\n",
       "      <td>59</td>\n",
       "    </tr>\n",
       "    <tr>\n",
       "      <th>C</th>\n",
       "      <td>305</td>\n",
       "      <td>61</td>\n",
       "      <td>305</td>\n",
       "      <td>61</td>\n",
       "    </tr>\n",
       "  </tbody>\n",
       "</table>\n",
       "</div>"
      ],
      "text/plain": [
       "         East revenue  East units sold  West revenue  West units sold\n",
       "Product                                                              \n",
       "A                 220               59           220               59\n",
       "B                 295               59           295               59\n",
       "C                 305               61           305               61"
      ]
     },
     "execution_count": 180,
     "metadata": {},
     "output_type": "execute_result"
    }
   ],
   "source": [
    "pd.concat([jancon, febcon]).groupby('Product').max()"
   ]
  },
  {
   "cell_type": "markdown",
   "metadata": {},
   "source": [
    "***\n",
    "В файле Cakes.xlsx содержится количество продавцов и выручка пекарни за каждый месяц. На основе этих данных выполните задания 1—2.\n",
    "1. Создайте комбинированную диаграмму со вспомогательной осью для количества продавцов и выручки за каждый месяц.\n",
    "2. Постройте диаграмму ежемесячной выручки и вставьте в диаграмму подписи данных."
   ]
  },
  {
   "cell_type": "code",
   "execution_count": 186,
   "metadata": {},
   "outputs": [],
   "source": [
    "cakes = pd.read_excel('~/Study/excel/Ch52/Practice Files/Cakes.xlsx',\n",
    "                          usecols=range(2,5), skiprows=4)"
   ]
  },
  {
   "cell_type": "code",
   "execution_count": 187,
   "metadata": {},
   "outputs": [
    {
     "data": {
      "text/html": [
       "<div>\n",
       "<style scoped>\n",
       "    .dataframe tbody tr th:only-of-type {\n",
       "        vertical-align: middle;\n",
       "    }\n",
       "\n",
       "    .dataframe tbody tr th {\n",
       "        vertical-align: top;\n",
       "    }\n",
       "\n",
       "    .dataframe thead th {\n",
       "        text-align: right;\n",
       "    }\n",
       "</style>\n",
       "<table border=\"1\" class=\"dataframe\">\n",
       "  <thead>\n",
       "    <tr style=\"text-align: right;\">\n",
       "      <th></th>\n",
       "      <th>Month</th>\n",
       "      <th>Salespeople</th>\n",
       "      <th>Revenue</th>\n",
       "    </tr>\n",
       "  </thead>\n",
       "  <tbody>\n",
       "    <tr>\n",
       "      <th>0</th>\n",
       "      <td>January</td>\n",
       "      <td>25</td>\n",
       "      <td>2735900</td>\n",
       "    </tr>\n",
       "    <tr>\n",
       "      <th>1</th>\n",
       "      <td>february</td>\n",
       "      <td>21</td>\n",
       "      <td>2210271</td>\n",
       "    </tr>\n",
       "    <tr>\n",
       "      <th>2</th>\n",
       "      <td>March</td>\n",
       "      <td>28</td>\n",
       "      <td>3004596</td>\n",
       "    </tr>\n",
       "    <tr>\n",
       "      <th>3</th>\n",
       "      <td>April</td>\n",
       "      <td>22</td>\n",
       "      <td>2825548</td>\n",
       "    </tr>\n",
       "    <tr>\n",
       "      <th>4</th>\n",
       "      <td>May</td>\n",
       "      <td>28</td>\n",
       "      <td>3576132</td>\n",
       "    </tr>\n",
       "    <tr>\n",
       "      <th>5</th>\n",
       "      <td>June</td>\n",
       "      <td>25</td>\n",
       "      <td>3128575</td>\n",
       "    </tr>\n",
       "    <tr>\n",
       "      <th>6</th>\n",
       "      <td>July</td>\n",
       "      <td>34</td>\n",
       "      <td>3874198</td>\n",
       "    </tr>\n",
       "    <tr>\n",
       "      <th>7</th>\n",
       "      <td>August</td>\n",
       "      <td>24</td>\n",
       "      <td>2665368</td>\n",
       "    </tr>\n",
       "    <tr>\n",
       "      <th>8</th>\n",
       "      <td>September</td>\n",
       "      <td>28</td>\n",
       "      <td>2833012</td>\n",
       "    </tr>\n",
       "    <tr>\n",
       "      <th>9</th>\n",
       "      <td>October</td>\n",
       "      <td>23</td>\n",
       "      <td>2424844</td>\n",
       "    </tr>\n",
       "    <tr>\n",
       "      <th>10</th>\n",
       "      <td>November</td>\n",
       "      <td>24</td>\n",
       "      <td>2549544</td>\n",
       "    </tr>\n",
       "    <tr>\n",
       "      <th>11</th>\n",
       "      <td>December</td>\n",
       "      <td>30</td>\n",
       "      <td>3150120</td>\n",
       "    </tr>\n",
       "  </tbody>\n",
       "</table>\n",
       "</div>"
      ],
      "text/plain": [
       "       Month   Salespeople  Revenue\n",
       "0     January           25  2735900\n",
       "1    february           21  2210271\n",
       "2      March            28  3004596\n",
       "3       April           22  2825548\n",
       "4         May           28  3576132\n",
       "5        June           25  3128575\n",
       "6        July           34  3874198\n",
       "7      August           24  2665368\n",
       "8   September           28  2833012\n",
       "9     October           23  2424844\n",
       "10   November           24  2549544\n",
       "11   December           30  3150120"
      ]
     },
     "execution_count": 187,
     "metadata": {},
     "output_type": "execute_result"
    }
   ],
   "source": [
    "cakes"
   ]
  },
  {
   "cell_type": "code",
   "execution_count": 270,
   "metadata": {},
   "outputs": [
    {
     "data": {
      "image/png": "[encoded data removed]",
      "text/plain": [
       "<Figure size 720x432 with 2 Axes>"
      ]
     },
     "metadata": {
      "needs_background": "light"
     },
     "output_type": "display_data"
    }
   ],
   "source": [
    "_, ax = plt.subplots(figsize=(10,6))\n",
    "\n",
    "cakes['Revenue'].plot(kind='bar', ax=ax, alpha=.5)\n",
    "cakes['Salespeople'].plot(ax=ax, secondary_y=True, color='darkorange', linewidth=2.5, label='Sales', alpha=.8)\n",
    "\n",
    "ax.set_xticklabels(cakes.Month, rotation=40, ha='right')\n",
    "\n",
    "plt.figlegend(ncol=2, frameon=False)\n",
    "plt.show()"
   ]
  },
  {
   "cell_type": "code",
   "execution_count": 284,
   "metadata": {},
   "outputs": [
    {
     "data": {
      "image/png": "[encoded data removed]",
      "text/plain": [
       "<Figure size 720x432 with 1 Axes>"
      ]
     },
     "metadata": {
      "needs_background": "light"
     },
     "output_type": "display_data"
    }
   ],
   "source": [
    "_, ax = plt.subplots(figsize=(10,6))\n",
    "\n",
    "ax = sns.barplot(x='Month', y='Revenue', data=cakes, color='g', alpha=.5)\n",
    "  \n",
    "# annotate\n",
    "for bar in ax.patches:\n",
    "    ax.annotate(format(bar.get_height(), '.0f'), \n",
    "                   (bar.get_x() + bar.get_width() / 2, \n",
    "                    bar.get_height()), ha='center', va='center',\n",
    "                    size=10, xytext=(0, 8),\n",
    "                    textcoords='offset points')\n",
    "# set bar width\n",
    "width = 0.5    \n",
    "for patch in ax.patches :\n",
    "    current_width = patch.get_width()\n",
    "    diff = current_width - width\n",
    "        \n",
    "    patch.set_width(width)\n",
    "    patch.set_x(patch.get_x() + diff * .5)\n",
    "\n",
    "ax.set_xticklabels(cakes.Month, rotation=40, ha='right')\n",
    "plt.show()"
   ]
  },
  {
   "cell_type": "markdown",
   "metadata": {},
   "source": [
    "***\n",
    "В табице содержатся отчеты о работе пяти сотрудников. Представьте эти данные на лепестковой диаграмме.\n",
    "\n",
    "| Сотрудник | Трудолюбие | Работа в команде | Выполнение заданий в срок | Пунктуальность |\n",
    "| --- | --- | --- | --- | --- |\n",
    "| Уэйн | 1 | 2 | 3 | 4 |\n",
    "| Вивиан | 5 | 6 | 7 | 8 |\n",
    "| Грег | 10 | 9.5 | 9 | 8.5 |\n",
    "| Джен | 9 | 2 | 9 | 4 |\n",
    "| Ванда | 1 | 1.5 | 2 | 2.5 |"
   ]
  },
  {
   "cell_type": "code",
   "execution_count": 487,
   "metadata": {},
   "outputs": [
    {
     "data": {
      "image/png": "[encoded data removed]",
      "text/plain": [
       "<Figure size 600x600 with 1 Axes>"
      ]
     },
     "metadata": {
      "needs_background": "light"
     },
     "output_type": "display_data"
    }
   ],
   "source": [
    "from matplotlib.patches import Circle, RegularPolygon\n",
    "from matplotlib.path import Path\n",
    "from matplotlib.projections.polar import PolarAxes\n",
    "from matplotlib.projections import register_projection\n",
    "from matplotlib.spines import Spine\n",
    "from matplotlib.transforms import Affine2D\n",
    "\n",
    "\n",
    "def radar_factory(num_vars, frame='circle'):\n",
    "    \"\"\"Create a radar chart with `num_vars` axes.\n",
    "\n",
    "    This function creates a RadarAxes projection and registers it.\n",
    "\n",
    "    Parameters\n",
    "    ----------\n",
    "    num_vars : int\n",
    "        Number of variables for radar chart.\n",
    "    frame : {'circle' | 'polygon'}\n",
    "        Shape of frame surrounding axes.\n",
    "\n",
    "    \"\"\"\n",
    "    # calculate evenly-spaced axis angles\n",
    "    theta = np.linspace(0, 2*np.pi, num_vars, endpoint=False)\n",
    "\n",
    "    class RadarAxes(PolarAxes):\n",
    "\n",
    "        name = 'radar'\n",
    "\n",
    "        def __init__(self, *args, **kwargs):\n",
    "            super().__init__(*args, **kwargs)\n",
    "            # rotate plot such that the first axis is at the top\n",
    "            self.set_theta_zero_location('N')\n",
    "\n",
    "        def fill(self, *args, closed=True, **kwargs):\n",
    "            \"\"\"Override fill so that line is closed by default\"\"\"\n",
    "            return super().fill(closed=closed, *args, **kwargs)\n",
    "\n",
    "        def plot(self, *args, **kwargs):\n",
    "            \"\"\"Override plot so that line is closed by default\"\"\"\n",
    "            lines = super().plot(*args, **kwargs)\n",
    "            for line in lines:\n",
    "                self._close_line(line)\n",
    "\n",
    "        def _close_line(self, line):\n",
    "            x, y = line.get_data()\n",
    "            # FIXME: markers at x[0], y[0] get doubled-up\n",
    "            if x[0] != x[-1]:\n",
    "                x = np.concatenate((x, [x[0]]))\n",
    "                y = np.concatenate((y, [y[0]]))\n",
    "                line.set_data(x, y)\n",
    "\n",
    "        def set_varlabels(self, labels):\n",
    "            self.set_thetagrids(np.degrees(theta), labels)\n",
    "\n",
    "        def _gen_axes_patch(self):\n",
    "            # The Axes patch must be centered at (0.5, 0.5) and of radius 0.5\n",
    "            # in axes coordinates.\n",
    "            if frame == 'circle':\n",
    "                return Circle((0.5, 0.5), 0.5)\n",
    "            elif frame == 'polygon':\n",
    "                return RegularPolygon((0.5, 0.5), num_vars,\n",
    "                                      radius=.5, edgecolor=\"k\")\n",
    "            else:\n",
    "                raise ValueError(\"unknown value for 'frame': %s\" % frame)\n",
    "\n",
    "        def draw(self, renderer):\n",
    "            \"\"\" Draw. If frame is polygon, make gridlines polygon-shaped \"\"\"\n",
    "            if frame == 'polygon':\n",
    "                gridlines = self.yaxis.get_gridlines()\n",
    "                for gl in gridlines:\n",
    "                    gl.get_path()._interpolation_steps = num_vars\n",
    "            super().draw(renderer)\n",
    "\n",
    "\n",
    "        def _gen_axes_spines(self):\n",
    "            if frame == 'circle':\n",
    "                return super()._gen_axes_spines()\n",
    "            elif frame == 'polygon':\n",
    "                # spine_type must be 'left'/'right'/'top'/'bottom'/'circle'.\n",
    "                spine = Spine(axes=self,\n",
    "                              spine_type='circle',\n",
    "                              path=Path.unit_regular_polygon(num_vars))\n",
    "                # unit_regular_polygon gives a polygon of radius 1 centered at\n",
    "                # (0, 0) but we want a polygon of radius 0.5 centered at (0.5,\n",
    "                # 0.5) in axes coordinates.\n",
    "                spine.set_transform(Affine2D().scale(.5).translate(.5, .5)\n",
    "                                    + self.transAxes)\n",
    "\n",
    "\n",
    "                return {'polar': spine}\n",
    "            else:\n",
    "                raise ValueError(\"unknown value for 'frame': %s\" % frame)\n",
    "\n",
    "    register_projection(RadarAxes)\n",
    "    return theta\n",
    "\n",
    "data = [['Hard working', 'Collegial', 'Completes task on time', 'Punctual'],\n",
    "        ('Skills', [\n",
    "            [1, 2, 3, 4],\n",
    "            [5, 6, 7, 8],\n",
    "            [10, 9.5, 9, 8.5],\n",
    "            [9, 2, 9, 4],\n",
    "            [1, 1.5, 2, 2.5]]),\n",
    "        ['Wayne', 'Vivian', 'Greg', 'Jen', 'Wanda']\n",
    "       ]\n",
    "\n",
    "N = len(data[0])\n",
    "theta = radar_factory(N, frame='polygon')\n",
    "\n",
    "spoke_labels = data.pop(0)\n",
    "title, case_data = data[0]\n",
    "\n",
    "fig, ax = plt.subplots(figsize=(6, 6), subplot_kw=dict(projection='radar'))\n",
    "fig.subplots_adjust(top=0.85, bottom=0.05)\n",
    "\n",
    "ax.set_rgrids([2, 4, 6, 8, 10])\n",
    "ax.set_title(title, position=(0.5, 1.1), ha='center')\n",
    "\n",
    "for d in case_data:\n",
    "    line = ax.plot(theta, d)\n",
    "    ax.fill(theta, d, alpha=0.25)\n",
    "ax.set_varlabels(spoke_labels)\n",
    "\n",
    "plt.figlegend(data[1], ncol=len(data[1]), frameon=False)\n",
    "plt.show()"
   ]
  },
  {
   "cell_type": "markdown",
   "metadata": {},
   "source": [
    "***\n",
    "Проект состоит из пяти задач. Задано время начала и продолжи- тельность выполнения каждой задачи. Представьте эти данные на диаграмме Ганта.\n",
    "\n",
    "| Задача | Время начала | Продолжительность |\n",
    "| --- | --- | --- |\n",
    "| A | 0 | 4 |\n",
    "| B | 3\t| 6 |\n",
    "| C | 5\t| 7 |\n",
    "| D | 6 | 8 |\n",
    "| E | 3\t| 6 |"
   ]
  },
  {
   "cell_type": "code",
   "execution_count": 328,
   "metadata": {},
   "outputs": [],
   "source": [
    "tasks = pd.DataFrame({'Task': ['A', 'B', 'C', 'D', 'E'],\n",
    "                      'Start' : [0, 3, 5, 6, 3],\n",
    "                      'Duration': [4, 6, 7, 8, 6],\n",
    "                      'Resource': ['In', 'Out', 'Out', 'Out', 'In']\n",
    "                     })"
   ]
  },
  {
   "cell_type": "code",
   "execution_count": 349,
   "metadata": {},
   "outputs": [
    {
     "data": {
      "image/png": "[encoded data removed]",
      "text/plain": [
       "<Figure size 576x360 with 1 Axes>"
      ]
     },
     "metadata": {
      "needs_background": "light"
     },
     "output_type": "display_data"
    }
   ],
   "source": [
    "color = {'In': 'turquoise', 'Out': 'crimson'}\n",
    "fig, ax = plt.subplots(figsize=(8,5))\n",
    "\n",
    "labels = []\n",
    "for i, task in enumerate(tasks.assign(Bar = tasks.Start + tasks.Duration).groupby('Task')):\n",
    "    labels.append(task[0])\n",
    "    for r in task[1].groupby('Resource'):\n",
    "        data = r[1][['Start', 'Bar']]\n",
    "        ax.broken_barh(data.values, (i-0.4,0.6), color=color[r[0]], alpha=.5)\n",
    "\n",
    "ax.set_yticks(range(len(labels)))\n",
    "ax.set_yticklabels(labels) \n",
    "ax.set_xlabel('Duration')\n",
    "plt.title('Gantt Chart')\n",
    "plt.gca().invert_yaxis()\n",
    "plt.tight_layout()       \n",
    "plt.show()"
   ]
  },
  {
   "cell_type": "markdown",
   "metadata": {},
   "source": [
    "***\n",
    "В таблице приведена прибыль, а также доходы и расходы в разбивке по годам. Представьте эти данные на диаграмме \"водопад\".\n",
    "\n",
    "\n",
    "| Статья | Сумма, $ |\n",
    "| --- | --- |\n",
    "| Доходы | 300000 |\n",
    "| Прибыль | 65000 |\n",
    "| Трудозатраты | 100000\t|\n",
    "| Затраты на материал | 80000 |\n",
    "| Накладные расходы | 55000\t|\n",
    "\n",
    "[Creating a waterfall chart using Bokeh](!https://github.com/chris1610/pbpython/blob/master/notebooks/Bokeh-Waterfall.ipynb)"
   ]
  },
  {
   "cell_type": "code",
   "execution_count": 350,
   "metadata": {},
   "outputs": [
    {
     "data": {
      "image/png": "[encoded data removed]",
      "text/plain": [
       "<Figure size 576x360 with 1 Axes>"
      ]
     },
     "metadata": {
      "needs_background": "light"
     },
     "output_type": "display_data"
    }
   ],
   "source": [
    "from matplotlib.ticker import FuncFormatter\n",
    "\n",
    "def money(x, pos):\n",
    "    'The two args are the value and tick position'\n",
    "    return \"${:,.0f}\".format(x)\n",
    "formatter = FuncFormatter(money)\n",
    "\n",
    "index = ['Доходы', 'Прибыль', 'Трудозатраты', 'Затраты на материал', 'Накладные расходы']\n",
    "data = {'amount': [300000, -65000, -100000, -80000, -55000]}\n",
    "\n",
    "#Store data and create a blank series to use for the waterfall\n",
    "trans = pd.DataFrame(data=data, index=index)\n",
    "blank = trans.amount.cumsum().shift(1).fillna(0)\n",
    "\n",
    "#Get the net total number for the final element in the waterfall\n",
    "total = trans.sum().amount\n",
    "#trans.loc[\"net\"]= total\n",
    "#blank.loc[\"net\"] = total\n",
    "\n",
    "#The steps graphically show the levels as well as used for label placement\n",
    "step = blank.reset_index(drop=True).repeat(3).shift(-1)\n",
    "step[1::3] = np.nan\n",
    "\n",
    "#When plotting the last element, we want to show the full bar,\n",
    "#Set the blank to 0\n",
    "\n",
    "#blank.loc[\"net\"] = 0\n",
    "\n",
    "#Plot and label\n",
    "my_plot = trans.plot(kind='bar', stacked=True, bottom=blank, \n",
    "                     legend=None, figsize=(8,5), alpha=.5, title=\"Waterfall\")\n",
    "my_plot.plot(step.index, step.values, 'k', alpha=.8)\n",
    "my_plot.set_xlabel(\"Transaction Types\")\n",
    "\n",
    "#Format the axis for dollars\n",
    "my_plot.yaxis.set_major_formatter(formatter)\n",
    "\n",
    "#Get the y-axis position for the labels\n",
    "y_height = trans.amount.cumsum().shift(1).fillna(0)\n",
    "\n",
    "#Get an offset so labels don't sit right on top of the bar\n",
    "max = trans.max()\n",
    "neg_offset = max / 25\n",
    "pos_offset = max / 50\n",
    "plot_offset = int(max / 15)\n",
    "\n",
    "#Start label loop\n",
    "loop = 0\n",
    "for index, row in trans.iterrows():\n",
    "    # For the last item in the list, we don't want to double count\n",
    "    if row['amount'] == total:\n",
    "        y = y_height[loop]\n",
    "    else:\n",
    "        y = y_height[loop] + row['amount']\n",
    "    # Determine if we want a neg or pos offset\n",
    "    if row['amount'] > 0:\n",
    "        y += pos_offset\n",
    "    else:\n",
    "        y -= neg_offset\n",
    "    my_plot.annotate(\"{:,.0f}\".format(row['amount']), (loop,y), ha=\"center\")\n",
    "    loop += 1\n",
    "\n",
    "#Scale up the y axis so there is room for the labels\n",
    "my_plot.set_ylim(0, blank.max() + int(plot_offset))\n",
    "#Rotate the labels\n",
    "my_plot.set_xticklabels(trans.index, rotation=40);"
   ]
  },
  {
   "cell_type": "code",
   "execution_count": 352,
   "metadata": {},
   "outputs": [],
   "source": [
    "index = ['Доходы', 'Прибыль', 'Трудозатраты', 'Затраты на материал', 'Накладные расходы']\n",
    "data = {'amount': [300000, -65000, -100000, -80000, -55000]}\n",
    "\n",
    "trans = pd.DataFrame(data=data, index=index)"
   ]
  },
  {
   "cell_type": "code",
   "execution_count": 353,
   "metadata": {},
   "outputs": [
    {
     "data": {
      "text/html": [
       "<div>\n",
       "<style scoped>\n",
       "    .dataframe tbody tr th:only-of-type {\n",
       "        vertical-align: middle;\n",
       "    }\n",
       "\n",
       "    .dataframe tbody tr th {\n",
       "        vertical-align: top;\n",
       "    }\n",
       "\n",
       "    .dataframe thead th {\n",
       "        text-align: right;\n",
       "    }\n",
       "</style>\n",
       "<table border=\"1\" class=\"dataframe\">\n",
       "  <thead>\n",
       "    <tr style=\"text-align: right;\">\n",
       "      <th></th>\n",
       "      <th>amount</th>\n",
       "    </tr>\n",
       "  </thead>\n",
       "  <tbody>\n",
       "    <tr>\n",
       "      <th>Доходы</th>\n",
       "      <td>300000</td>\n",
       "    </tr>\n",
       "    <tr>\n",
       "      <th>Прибыль</th>\n",
       "      <td>-65000</td>\n",
       "    </tr>\n",
       "    <tr>\n",
       "      <th>Трудозатраты</th>\n",
       "      <td>-100000</td>\n",
       "    </tr>\n",
       "    <tr>\n",
       "      <th>Затраты на материал</th>\n",
       "      <td>-80000</td>\n",
       "    </tr>\n",
       "    <tr>\n",
       "      <th>Накладные расходы</th>\n",
       "      <td>-55000</td>\n",
       "    </tr>\n",
       "  </tbody>\n",
       "</table>\n",
       "</div>"
      ],
      "text/plain": [
       "                     amount\n",
       "Доходы               300000\n",
       "Прибыль              -65000\n",
       "Трудозатраты        -100000\n",
       "Затраты на материал  -80000\n",
       "Накладные расходы    -55000"
      ]
     },
     "execution_count": 353,
     "metadata": {},
     "output_type": "execute_result"
    }
   ],
   "source": [
    "trans"
   ]
  },
  {
   "cell_type": "code",
   "execution_count": 411,
   "metadata": {},
   "outputs": [],
   "source": [
    "import waterfall_chart\n",
    "plt.rcParams.update({'figure.figsize': (8,5), 'font.size': 7.5})"
   ]
  },
  {
   "cell_type": "code",
   "execution_count": 460,
   "metadata": {},
   "outputs": [
    {
     "data": {
      "image/png": "[encoded data removed]",
      "text/plain": [
       "<Figure size 800x500 with 1 Axes>"
      ]
     },
     "metadata": {
      "needs_background": "light"
     },
     "output_type": "display_data"
    }
   ],
   "source": [
    "waterfall_chart.plot(trans.index, trans.amount, net_label='Баланс');"
   ]
  },
  {
   "cell_type": "markdown",
   "metadata": {},
   "source": [
    "***\n",
    "В файле Paretodata.xlsx находятся данные о продажах продукции в хозяйственном магазине. Создайте диаграмму Парето для выручки по продуктам. Соответствуют ли эти данные правилу 80/20?"
   ]
  },
  {
   "cell_type": "code",
   "execution_count": 365,
   "metadata": {},
   "outputs": [],
   "source": [
    "pareto = pd.read_excel('~/Study/excel/Ch52/Practice Files/Paretodata.xlsx',\n",
    "                          usecols=range(24,28), skiprows=6)"
   ]
  },
  {
   "cell_type": "code",
   "execution_count": 372,
   "metadata": {},
   "outputs": [],
   "source": [
    "pareto.columns = pareto.columns.str.replace(r'\\.\\d', '', regex=True)"
   ]
  },
  {
   "cell_type": "code",
   "execution_count": 373,
   "metadata": {},
   "outputs": [
    {
     "data": {
      "text/html": [
       "<div>\n",
       "<style scoped>\n",
       "    .dataframe tbody tr th:only-of-type {\n",
       "        vertical-align: middle;\n",
       "    }\n",
       "\n",
       "    .dataframe tbody tr th {\n",
       "        vertical-align: top;\n",
       "    }\n",
       "\n",
       "    .dataframe thead th {\n",
       "        text-align: right;\n",
       "    }\n",
       "</style>\n",
       "<table border=\"1\" class=\"dataframe\">\n",
       "  <thead>\n",
       "    <tr style=\"text-align: right;\">\n",
       "      <th></th>\n",
       "      <th>Product</th>\n",
       "      <th>Month</th>\n",
       "      <th>Store</th>\n",
       "      <th>Revenue</th>\n",
       "    </tr>\n",
       "  </thead>\n",
       "  <tbody>\n",
       "    <tr>\n",
       "      <th>0</th>\n",
       "      <td>Tape 10</td>\n",
       "      <td>April</td>\n",
       "      <td>downtown</td>\n",
       "      <td>2.5</td>\n",
       "    </tr>\n",
       "    <tr>\n",
       "      <th>1</th>\n",
       "      <td>Safety 8</td>\n",
       "      <td>August</td>\n",
       "      <td>uptown</td>\n",
       "      <td>10.0</td>\n",
       "    </tr>\n",
       "    <tr>\n",
       "      <th>2</th>\n",
       "      <td>Safety 2</td>\n",
       "      <td>February</td>\n",
       "      <td>uptown</td>\n",
       "      <td>10.0</td>\n",
       "    </tr>\n",
       "    <tr>\n",
       "      <th>3</th>\n",
       "      <td>Safety 8</td>\n",
       "      <td>November</td>\n",
       "      <td>uptown</td>\n",
       "      <td>10.0</td>\n",
       "    </tr>\n",
       "    <tr>\n",
       "      <th>4</th>\n",
       "      <td>Tape 10</td>\n",
       "      <td>October</td>\n",
       "      <td>uptown</td>\n",
       "      <td>2.5</td>\n",
       "    </tr>\n",
       "  </tbody>\n",
       "</table>\n",
       "</div>"
      ],
      "text/plain": [
       "    Product     Month     Store  Revenue\n",
       "0   Tape 10     April  downtown      2.5\n",
       "1  Safety 8    August    uptown     10.0\n",
       "2  Safety 2  February    uptown     10.0\n",
       "3  Safety 8  November    uptown     10.0\n",
       "4   Tape 10   October    uptown      2.5"
      ]
     },
     "execution_count": 373,
     "metadata": {},
     "output_type": "execute_result"
    }
   ],
   "source": [
    "pareto.head()"
   ]
  },
  {
   "cell_type": "code",
   "execution_count": 658,
   "metadata": {},
   "outputs": [],
   "source": [
    "import matplotlib.ticker as mticker\n",
    "\n",
    "def pareto_plot(df, x=None, y=None, title=None, show_pct_y=False, pct_format='{0:.0%}'):\n",
    "    xlabel = x\n",
    "    ylabel = y\n",
    "    tmp = df.sort_values(y, ascending=False)\n",
    "    x = tmp[x].values\n",
    "    y = tmp[y].values\n",
    "    weights = y / y.sum()\n",
    "    cumsum = weights.cumsum()\n",
    "    \n",
    "    fig, ax1 = plt.subplots(figsize=(8,5))\n",
    "    ax1.bar(x, y, alpha=0.5)\n",
    "    ax1.set_xlabel(xlabel)\n",
    "    ax1.set_ylabel(ylabel)\n",
    "    ticks_loc = ax1.get_xticks()\n",
    "    ax1.xaxis.set_major_locator(mticker.FixedLocator(ticks_loc))\n",
    "    ax1.set_xticklabels(ticks_loc, rotation=60)\n",
    "    \n",
    "    ax2 = ax1.twinx()\n",
    "    ax2.plot(x, cumsum, '-ro', alpha=0.5)\n",
    "    ax2.set_ylabel('', color='r')\n",
    "    ax2.tick_params('y', colors='r')\n",
    "    \n",
    "    ax2.axvline(np.argwhere(cumsum >= 0.8)[0][0], color='yellow', linestyle='--', alpha=.5)\n",
    "    \n",
    "    vals = ax2.get_yticks()\n",
    "    ax2.yaxis.set_major_locator(mticker.FixedLocator(vals))\n",
    "    ax2.set_yticklabels(['{:,.2%}'.format(x) for x in vals])\n",
    "\n",
    "    if not show_pct_y:\n",
    "        ax2.set_yticks([])\n",
    "    \n",
    "    formatted_weights = [pct_format.format(x) for x in cumsum]\n",
    "    for i, txt in enumerate(formatted_weights):\n",
    "        ax2.annotate(txt, (x[i], cumsum[i]), xytext=(2,8), fontsize=6, ha='center', textcoords='offset points')    \n",
    "    \n",
    "    if title:\n",
    "        plt.title(title)\n",
    "\n",
    "    #ax1.set_ylim([0, y.max() * 1.04])\n",
    "    plt.ylim(top=1.5)\n",
    "    plt.tight_layout()\n",
    "    plt.show()"
   ]
  },
  {
   "cell_type": "code",
   "execution_count": 659,
   "metadata": {},
   "outputs": [
    {
     "data": {
      "image/png": "[encoded data removed]",
      "text/plain": [
       "<Figure size 800x500 with 2 Axes>"
      ]
     },
     "metadata": {
      "needs_background": "light"
     },
     "output_type": "display_data"
    }
   ],
   "source": [
    "pareto_plot(pareto.groupby('Product')['Revenue'].sum().reset_index(), x='Product', y='Revenue');"
   ]
  },
  {
   "cell_type": "markdown",
   "metadata": {},
   "source": [
    "Файл Delldata.xlsx содержит ежемесячные доходы для фондового индекса Standard&Poor и акции Dell. Бета-коэффициент акции определяется как угловой коэффициент линии наименьших квадратов, используемой для прогнозирования ежемесячного дохода от акции по ежемесячному доходу от всех операций на рынке.\n",
    "1. Оцените бета-коэффициент акции Dell.\n",
    "2. Интерпретируйте смысл бета-коэффициента акции Dell.\n",
    "3. Если считать, что наступает рецессия, в какие акции следует инвестировать, с высоким или низким бета-коэффициентом?\n",
    "4. Для месяца, в котором рынок растет на 5%, определите диапазон, в котором цена акции Dell возрастет с вероятностью 95%."
   ]
  },
  {
   "cell_type": "code",
   "execution_count": 504,
   "metadata": {},
   "outputs": [],
   "source": [
    "dell = pd.read_excel('~/Study/excel/Ch53/Practice Files/Delldata.xlsx',\n",
    "                          usecols=range(1,4), skiprows=2)"
   ]
  },
  {
   "cell_type": "code",
   "execution_count": 505,
   "metadata": {},
   "outputs": [
    {
     "data": {
      "text/html": [
       "<div>\n",
       "<style scoped>\n",
       "    .dataframe tbody tr th:only-of-type {\n",
       "        vertical-align: middle;\n",
       "    }\n",
       "\n",
       "    .dataframe tbody tr th {\n",
       "        vertical-align: top;\n",
       "    }\n",
       "\n",
       "    .dataframe thead th {\n",
       "        text-align: right;\n",
       "    }\n",
       "</style>\n",
       "<table border=\"1\" class=\"dataframe\">\n",
       "  <thead>\n",
       "    <tr style=\"text-align: right;\">\n",
       "      <th></th>\n",
       "      <th>Date</th>\n",
       "      <th>S and P return</th>\n",
       "      <th>Dell return</th>\n",
       "    </tr>\n",
       "  </thead>\n",
       "  <tbody>\n",
       "    <tr>\n",
       "      <th>0</th>\n",
       "      <td>1988-09-01</td>\n",
       "      <td>0.042</td>\n",
       "      <td>0.282113</td>\n",
       "    </tr>\n",
       "    <tr>\n",
       "      <th>1</th>\n",
       "      <td>1988-10-01</td>\n",
       "      <td>0.027</td>\n",
       "      <td>0.158240</td>\n",
       "    </tr>\n",
       "    <tr>\n",
       "      <th>2</th>\n",
       "      <td>1988-11-01</td>\n",
       "      <td>-0.014</td>\n",
       "      <td>-0.084074</td>\n",
       "    </tr>\n",
       "    <tr>\n",
       "      <th>3</th>\n",
       "      <td>1988-12-01</td>\n",
       "      <td>0.018</td>\n",
       "      <td>-0.080318</td>\n",
       "    </tr>\n",
       "    <tr>\n",
       "      <th>4</th>\n",
       "      <td>1989-01-01</td>\n",
       "      <td>0.072</td>\n",
       "      <td>-0.049904</td>\n",
       "    </tr>\n",
       "  </tbody>\n",
       "</table>\n",
       "</div>"
      ],
      "text/plain": [
       "       Date   S and P return  Dell return\n",
       "0 1988-09-01           0.042     0.282113\n",
       "1 1988-10-01           0.027     0.158240\n",
       "2 1988-11-01          -0.014    -0.084074\n",
       "3 1988-12-01           0.018    -0.080318\n",
       "4 1989-01-01           0.072    -0.049904"
      ]
     },
     "execution_count": 505,
     "metadata": {},
     "output_type": "execute_result"
    }
   ],
   "source": [
    "dell.head()"
   ]
  },
  {
   "cell_type": "code",
   "execution_count": 137,
   "metadata": {},
   "outputs": [],
   "source": [
    "import scipy.stats as stats"
   ]
  },
  {
   "cell_type": "code",
   "execution_count": 507,
   "metadata": {},
   "outputs": [],
   "source": [
    "slope, intercept = np.polyfit(dell['S and P return'], dell['Dell return'], 1)"
   ]
  },
  {
   "cell_type": "markdown",
   "metadata": {},
   "source": [
    "Каждый 1% прирост рынка увеличивает цену акций Dell на 1,76%.\n",
    "\n",
    "Если надвигается рецессия — рынок упадет, поэтому нужен низкий `slope`, который будет менее чувствительным к изменениям на рынке."
   ]
  },
  {
   "cell_type": "code",
   "execution_count": 562,
   "metadata": {},
   "outputs": [],
   "source": [
    "# stats.linregress(dell['S and P return'], dell['Dell return'])"
   ]
  },
  {
   "cell_type": "markdown",
   "metadata": {},
   "source": [
    "Ручной расчет стандартной ошибки"
   ]
  },
  {
   "cell_type": "code",
   "execution_count": 544,
   "metadata": {},
   "outputs": [],
   "source": [
    "N = len(dell)\n",
    "X_with_intercept = np.c_[np.ones(shape=(N, 1), dtype=np.float), dell['S and P return'].values]"
   ]
  },
  {
   "cell_type": "code",
   "execution_count": 553,
   "metadata": {},
   "outputs": [
    {
     "name": "stdout",
     "output_type": "stream",
     "text": [
      "SE(beta_hat[0]): 0.013441754349923339\n",
      "SE(beta_hat[1]): 0.3244481595695797\n"
     ]
    }
   ],
   "source": [
    "residuals = (dell['Dell return'] - (intercept + dell['S and P return'] * slope)).values\n",
    "residual_sum_of_squares = residuals.T @ residuals\n",
    "sigma_squared_hat = residual_sum_of_squares / (N - 2)\n",
    "var_beta_hat = np.linalg.inv(X_with_intercept.T @ X_with_intercept) * sigma_squared_hat\n",
    "for p_ in range(2):\n",
    "    standard_error = var_beta_hat[p_, p_] ** 0.5\n",
    "    print(f\"SE(beta_hat[{p_}]): {standard_error}\")"
   ]
  },
  {
   "cell_type": "markdown",
   "metadata": {},
   "source": [
    "Диапазон, в котором цена акции Dell возрастет с вероятностью 95%, если рынок вырастет на 5%."
   ]
  },
  {
   "cell_type": "code",
   "execution_count": 554,
   "metadata": {},
   "outputs": [
    {
     "data": {
      "text/plain": [
       "(8.198647693767338, 9.496440332045658)"
      ]
     },
     "execution_count": 554,
     "metadata": {},
     "output_type": "execute_result"
    }
   ],
   "source": [
    "forecast = slope * 5 + intercept\n",
    "lower = forecast - 2 * standard_error # нижняя граница диапазона\n",
    "upper = forecast + 2 * standard_error # верхняя граница\n",
    "\n",
    "lower, upper"
   ]
  },
  {
   "cell_type": "markdown",
   "metadata": {},
   "source": [
    "***\n",
    "В файле Housedata.xlsx приведены данные о площади в квадратных футах и продажной цене нескольких домов в Белвью, штат Вашингтон."
   ]
  },
  {
   "cell_type": "code",
   "execution_count": 2,
   "metadata": {},
   "outputs": [],
   "source": [
    "house = pd.read_excel('~/Study/excel/Ch53/Practice Files/Housedata.xlsx',\n",
    "                          usecols=range(2,4), skiprows=2)"
   ]
  },
  {
   "cell_type": "code",
   "execution_count": 3,
   "metadata": {},
   "outputs": [
    {
     "data": {
      "text/html": [
       "<div>\n",
       "<style scoped>\n",
       "    .dataframe tbody tr th:only-of-type {\n",
       "        vertical-align: middle;\n",
       "    }\n",
       "\n",
       "    .dataframe tbody tr th {\n",
       "        vertical-align: top;\n",
       "    }\n",
       "\n",
       "    .dataframe thead th {\n",
       "        text-align: right;\n",
       "    }\n",
       "</style>\n",
       "<table border=\"1\" class=\"dataframe\">\n",
       "  <thead>\n",
       "    <tr style=\"text-align: right;\">\n",
       "      <th></th>\n",
       "      <th>Square Footage</th>\n",
       "      <th>Value</th>\n",
       "    </tr>\n",
       "  </thead>\n",
       "  <tbody>\n",
       "    <tr>\n",
       "      <th>0</th>\n",
       "      <td>2000</td>\n",
       "      <td>238139.369515</td>\n",
       "    </tr>\n",
       "    <tr>\n",
       "      <th>1</th>\n",
       "      <td>2200</td>\n",
       "      <td>259711.950793</td>\n",
       "    </tr>\n",
       "    <tr>\n",
       "      <th>2</th>\n",
       "      <td>2400</td>\n",
       "      <td>300953.668043</td>\n",
       "    </tr>\n",
       "    <tr>\n",
       "      <th>3</th>\n",
       "      <td>3000</td>\n",
       "      <td>369965.731273</td>\n",
       "    </tr>\n",
       "    <tr>\n",
       "      <th>4</th>\n",
       "      <td>3200</td>\n",
       "      <td>340091.295488</td>\n",
       "    </tr>\n",
       "    <tr>\n",
       "      <th>5</th>\n",
       "      <td>3600</td>\n",
       "      <td>405425.020969</td>\n",
       "    </tr>\n",
       "    <tr>\n",
       "      <th>6</th>\n",
       "      <td>2900</td>\n",
       "      <td>345131.033126</td>\n",
       "    </tr>\n",
       "  </tbody>\n",
       "</table>\n",
       "</div>"
      ],
      "text/plain": [
       "   Square Footage          Value\n",
       "0            2000  238139.369515\n",
       "1            2200  259711.950793\n",
       "2            2400  300953.668043\n",
       "3            3000  369965.731273\n",
       "4            3200  340091.295488\n",
       "5            3600  405425.020969\n",
       "6            2900  345131.033126"
      ]
     },
     "execution_count": 3,
     "metadata": {},
     "output_type": "execute_result"
    }
   ],
   "source": [
    "house"
   ]
  },
  {
   "cell_type": "markdown",
   "metadata": {},
   "source": [
    "Вы собираетесь возвести пристройку площадью 500 кв. футов к дому. Насколько в результате возрастет цена дома?"
   ]
  },
  {
   "cell_type": "code",
   "execution_count": 4,
   "metadata": {},
   "outputs": [],
   "source": [
    "slope, intercept = np.polyfit(house['Square Footage'], house['Value'], 1)"
   ]
  },
  {
   "cell_type": "code",
   "execution_count": 5,
   "metadata": {},
   "outputs": [
    {
     "data": {
      "text/plain": [
       "49819.88481354167"
      ]
     },
     "execution_count": 5,
     "metadata": {},
     "output_type": "execute_result"
    }
   ],
   "source": [
    "slope * 500"
   ]
  },
  {
   "cell_type": "markdown",
   "metadata": {},
   "source": [
    "Какой процент изменения цены дома можно объяснить изменением его размера?"
   ]
  },
  {
   "cell_type": "code",
   "execution_count": 6,
   "metadata": {},
   "outputs": [],
   "source": [
    "from sklearn.metrics import r2_score"
   ]
  },
  {
   "cell_type": "code",
   "execution_count": 7,
   "metadata": {},
   "outputs": [
    {
     "data": {
      "text/plain": [
       "0.9233422397917884"
      ]
     },
     "execution_count": 7,
     "metadata": {},
     "output_type": "execute_result"
    }
   ],
   "source": [
    "reg = lambda x: slope * x + intercept\n",
    "r2_score(house['Value'], reg(house['Square Footage'])) # показывает что линейная зависимость объясняет 92% данных"
   ]
  },
  {
   "cell_type": "markdown",
   "metadata": {},
   "source": [
    "Дом площадью 3000 кв. футов продается за 500 000 долларов. Соответствует ли такая цена типичной цене на недвижимость в Белвью? Чем вызвано такое несоответствие"
   ]
  },
  {
   "cell_type": "code",
   "execution_count": 12,
   "metadata": {},
   "outputs": [],
   "source": [
    "forecast = reg(3000) # предсказание цены\n",
    "*_, stderr = stats.linregress(house['Square Footage'], house['Value'])"
   ]
  },
  {
   "cell_type": "code",
   "execution_count": 22,
   "metadata": {},
   "outputs": [
    {
     "data": {
      "text/plain": [
       "346972.23965332384"
      ]
     },
     "execution_count": 22,
     "metadata": {},
     "output_type": "execute_result"
    }
   ],
   "source": [
    "forecast"
   ]
  },
  {
   "cell_type": "code",
   "execution_count": 25,
   "metadata": {},
   "outputs": [
    {
     "data": {
      "text/plain": [
       "11918.61519601473"
      ]
     },
     "execution_count": 25,
     "metadata": {},
     "output_type": "execute_result"
    }
   ],
   "source": [
    "(500000 - forecast) / stderr"
   ]
  },
  {
   "cell_type": "markdown",
   "metadata": {},
   "source": [
    "***\n",
    "Известно, что температура 32° по Фаренгейту эквивалента температуре 0° по Цельсию и что температура 212° по Фаренгейту эквивалентна температуре 100° по Цельсию. С помощью кривой тренда определите зависимость между градусами Фаренгейта и Цельсия."
   ]
  },
  {
   "cell_type": "code",
   "execution_count": 34,
   "metadata": {},
   "outputs": [
    {
     "data": {
      "text/html": [
       "<div>\n",
       "<style scoped>\n",
       "    .dataframe tbody tr th:only-of-type {\n",
       "        vertical-align: middle;\n",
       "    }\n",
       "\n",
       "    .dataframe tbody tr th {\n",
       "        vertical-align: top;\n",
       "    }\n",
       "\n",
       "    .dataframe thead th {\n",
       "        text-align: right;\n",
       "    }\n",
       "</style>\n",
       "<table border=\"1\" class=\"dataframe\">\n",
       "  <thead>\n",
       "    <tr style=\"text-align: right;\">\n",
       "      <th></th>\n",
       "      <th>C</th>\n",
       "      <th>F</th>\n",
       "    </tr>\n",
       "  </thead>\n",
       "  <tbody>\n",
       "    <tr>\n",
       "      <th>0</th>\n",
       "      <td>0</td>\n",
       "      <td>32</td>\n",
       "    </tr>\n",
       "    <tr>\n",
       "      <th>1</th>\n",
       "      <td>100</td>\n",
       "      <td>212</td>\n",
       "    </tr>\n",
       "  </tbody>\n",
       "</table>\n",
       "</div>"
      ],
      "text/plain": [
       "     C    F\n",
       "0    0   32\n",
       "1  100  212"
      ]
     },
     "execution_count": 34,
     "metadata": {},
     "output_type": "execute_result"
    }
   ],
   "source": [
    "degrees = pd.DataFrame({'C': [0, 100], 'F': [32, 212]})\n",
    "degrees"
   ]
  },
  {
   "cell_type": "code",
   "execution_count": 36,
   "metadata": {},
   "outputs": [
    {
     "data": {
      "text/plain": [
       "(1.7999999999999994, 31.999999999999996)"
      ]
     },
     "execution_count": 36,
     "metadata": {},
     "output_type": "execute_result"
    }
   ],
   "source": [
    "slope, intercept = np.polyfit(degrees['C'], degrees['F'], 1)\n",
    "slope, intercept"
   ]
  },
  {
   "cell_type": "code",
   "execution_count": 42,
   "metadata": {},
   "outputs": [
    {
     "data": {
      "image/png": "[encoded data removed]",
      "text/plain": [
       "<Figure size 432x288 with 1 Axes>"
      ]
     },
     "metadata": {
      "needs_background": "light"
     },
     "output_type": "display_data"
    }
   ],
   "source": [
    "plt.plot(np.arange(0, 100, 1) * slope + intercept)\n",
    "plt.xlabel('Celsius')\n",
    "plt.ylabel('Fahrenheit');"
   ]
  },
  {
   "cell_type": "markdown",
   "metadata": {},
   "source": [
    "***\n",
    "Файл Betadata.xlsx содержит ежемесячный доход для индекса Standard&Poor, а также ежемесячные доходы для акций Cinergy, Dell, Intel, Microsoft, Nortel и Pfizer. Вычислите коэффициент бета каждой акции."
   ]
  },
  {
   "cell_type": "code",
   "execution_count": 47,
   "metadata": {},
   "outputs": [],
   "source": [
    "beta = pd.read_excel('~/Study/excel/Ch53/Practice Files/Betadata.xlsx',\n",
    "                          usecols=range(2,10), skiprows=5)"
   ]
  },
  {
   "cell_type": "code",
   "execution_count": 48,
   "metadata": {},
   "outputs": [
    {
     "data": {
      "text/html": [
       "<div>\n",
       "<style scoped>\n",
       "    .dataframe tbody tr th:only-of-type {\n",
       "        vertical-align: middle;\n",
       "    }\n",
       "\n",
       "    .dataframe tbody tr th {\n",
       "        vertical-align: top;\n",
       "    }\n",
       "\n",
       "    .dataframe thead th {\n",
       "        text-align: right;\n",
       "    }\n",
       "</style>\n",
       "<table border=\"1\" class=\"dataframe\">\n",
       "  <thead>\n",
       "    <tr style=\"text-align: right;\">\n",
       "      <th></th>\n",
       "      <th>Cin</th>\n",
       "      <th>Dell</th>\n",
       "      <th>INTC</th>\n",
       "      <th>MSFT</th>\n",
       "      <th>NT</th>\n",
       "      <th>PFE</th>\n",
       "      <th>S and P</th>\n",
       "    </tr>\n",
       "  </thead>\n",
       "  <tbody>\n",
       "    <tr>\n",
       "      <th>0</th>\n",
       "      <td>0.009470</td>\n",
       "      <td>0.282113</td>\n",
       "      <td>-0.017829</td>\n",
       "      <td>0.045075</td>\n",
       "      <td>0.058011</td>\n",
       "      <td>0.071411</td>\n",
       "      <td>0.042</td>\n",
       "    </tr>\n",
       "    <tr>\n",
       "      <th>1</th>\n",
       "      <td>0.034973</td>\n",
       "      <td>0.158240</td>\n",
       "      <td>-0.100070</td>\n",
       "      <td>-0.062147</td>\n",
       "      <td>-0.027437</td>\n",
       "      <td>0.050589</td>\n",
       "      <td>0.027</td>\n",
       "    </tr>\n",
       "    <tr>\n",
       "      <th>2</th>\n",
       "      <td>-0.037033</td>\n",
       "      <td>-0.084074</td>\n",
       "      <td>-0.191880</td>\n",
       "      <td>-0.035851</td>\n",
       "      <td>-0.063339</td>\n",
       "      <td>0.002503</td>\n",
       "      <td>-0.014</td>\n",
       "    </tr>\n",
       "    <tr>\n",
       "      <th>3</th>\n",
       "      <td>0.009611</td>\n",
       "      <td>-0.080318</td>\n",
       "      <td>0.187520</td>\n",
       "      <td>0.127095</td>\n",
       "      <td>0.000000</td>\n",
       "      <td>0.022035</td>\n",
       "      <td>0.018</td>\n",
       "    </tr>\n",
       "    <tr>\n",
       "      <th>4</th>\n",
       "      <td>0.012383</td>\n",
       "      <td>-0.049904</td>\n",
       "      <td>0.094718</td>\n",
       "      <td>0.119659</td>\n",
       "      <td>-0.060189</td>\n",
       "      <td>0.003346</td>\n",
       "      <td>0.072</td>\n",
       "    </tr>\n",
       "  </tbody>\n",
       "</table>\n",
       "</div>"
      ],
      "text/plain": [
       "        Cin      Dell      INTC      MSFT        NT       PFE  S and P\n",
       "0  0.009470  0.282113 -0.017829  0.045075  0.058011  0.071411    0.042\n",
       "1  0.034973  0.158240 -0.100070 -0.062147 -0.027437  0.050589    0.027\n",
       "2 -0.037033 -0.084074 -0.191880 -0.035851 -0.063339  0.002503   -0.014\n",
       "3  0.009611 -0.080318  0.187520  0.127095  0.000000  0.022035    0.018\n",
       "4  0.012383 -0.049904  0.094718  0.119659 -0.060189  0.003346    0.072"
      ]
     },
     "execution_count": 48,
     "metadata": {},
     "output_type": "execute_result"
    }
   ],
   "source": [
    "beta.head()"
   ]
  },
  {
   "cell_type": "code",
   "execution_count": 59,
   "metadata": {},
   "outputs": [
    {
     "data": {
      "text/plain": [
       "Cin     0.079729\n",
       "Dell    0.096543\n",
       "INTC    0.158030\n",
       "MSFT    0.190308\n",
       "NT      0.168972\n",
       "PFE     0.253789\n",
       "Name: 0, dtype: float64"
      ]
     },
     "execution_count": 59,
     "metadata": {},
     "output_type": "execute_result"
    }
   ],
   "source": [
    "beta.loc[:, 'Cin':'PFE'].apply(lambda x: np.polyfit(x, beta['S and P'], 1), axis=0).loc[0]"
   ]
  },
  {
   "cell_type": "markdown",
   "metadata": {},
   "source": [
    "В файле Oldfaithful.xlsx хранятся данные о времени между извержениями гейзера Олд-Фейтфул и продолжительность следующего извержения. Предположим, что прошло 4 минуты после последнего извержения. С вероятностью 95% можно утверждать, что продолжительность следующего извержения составит от ______ до ______."
   ]
  },
  {
   "cell_type": "code",
   "execution_count": 60,
   "metadata": {},
   "outputs": [],
   "source": [
    "oldfaithful = pd.read_excel('~/Study/excel/Ch53/Practice Files/Oldfaithful.xlsx',\n",
    "                          usecols=range(6,9), skiprows=16)"
   ]
  },
  {
   "cell_type": "code",
   "execution_count": 61,
   "metadata": {},
   "outputs": [
    {
     "data": {
      "text/html": [
       "<div>\n",
       "<style scoped>\n",
       "    .dataframe tbody tr th:only-of-type {\n",
       "        vertical-align: middle;\n",
       "    }\n",
       "\n",
       "    .dataframe tbody tr th {\n",
       "        vertical-align: top;\n",
       "    }\n",
       "\n",
       "    .dataframe thead th {\n",
       "        text-align: right;\n",
       "    }\n",
       "</style>\n",
       "<table border=\"1\" class=\"dataframe\">\n",
       "  <thead>\n",
       "    <tr style=\"text-align: right;\">\n",
       "      <th></th>\n",
       "      <th>Minutes between eruptions</th>\n",
       "      <th>Duration of eruption</th>\n",
       "    </tr>\n",
       "  </thead>\n",
       "  <tbody>\n",
       "    <tr>\n",
       "      <th>0</th>\n",
       "      <td>3.600</td>\n",
       "      <td>79</td>\n",
       "    </tr>\n",
       "    <tr>\n",
       "      <th>1</th>\n",
       "      <td>1.800</td>\n",
       "      <td>54</td>\n",
       "    </tr>\n",
       "    <tr>\n",
       "      <th>2</th>\n",
       "      <td>3.333</td>\n",
       "      <td>74</td>\n",
       "    </tr>\n",
       "    <tr>\n",
       "      <th>3</th>\n",
       "      <td>2.283</td>\n",
       "      <td>62</td>\n",
       "    </tr>\n",
       "    <tr>\n",
       "      <th>4</th>\n",
       "      <td>4.533</td>\n",
       "      <td>85</td>\n",
       "    </tr>\n",
       "    <tr>\n",
       "      <th>...</th>\n",
       "      <td>...</td>\n",
       "      <td>...</td>\n",
       "    </tr>\n",
       "    <tr>\n",
       "      <th>267</th>\n",
       "      <td>4.117</td>\n",
       "      <td>81</td>\n",
       "    </tr>\n",
       "    <tr>\n",
       "      <th>268</th>\n",
       "      <td>2.150</td>\n",
       "      <td>46</td>\n",
       "    </tr>\n",
       "    <tr>\n",
       "      <th>269</th>\n",
       "      <td>4.417</td>\n",
       "      <td>90</td>\n",
       "    </tr>\n",
       "    <tr>\n",
       "      <th>270</th>\n",
       "      <td>1.817</td>\n",
       "      <td>46</td>\n",
       "    </tr>\n",
       "    <tr>\n",
       "      <th>271</th>\n",
       "      <td>4.467</td>\n",
       "      <td>74</td>\n",
       "    </tr>\n",
       "  </tbody>\n",
       "</table>\n",
       "<p>272 rows × 2 columns</p>\n",
       "</div>"
      ],
      "text/plain": [
       "     Minutes between eruptions  Duration of eruption\n",
       "0                        3.600                    79\n",
       "1                        1.800                    54\n",
       "2                        3.333                    74\n",
       "3                        2.283                    62\n",
       "4                        4.533                    85\n",
       "..                         ...                   ...\n",
       "267                      4.117                    81\n",
       "268                      2.150                    46\n",
       "269                      4.417                    90\n",
       "270                      1.817                    46\n",
       "271                      4.467                    74\n",
       "\n",
       "[272 rows x 2 columns]"
      ]
     },
     "execution_count": 61,
     "metadata": {},
     "output_type": "execute_result"
    }
   ],
   "source": [
    "oldfaithful"
   ]
  },
  {
   "cell_type": "code",
   "execution_count": 136,
   "metadata": {},
   "outputs": [
    {
     "data": {
      "image/png": "[encoded data removed]",
      "text/plain": [
       "<Figure size 576x360 with 1 Axes>"
      ]
     },
     "metadata": {
      "needs_background": "light"
     },
     "output_type": "display_data"
    }
   ],
   "source": [
    "sns.lmplot(data=oldfaithful, x='Minutes between eruptions', y='Duration of eruption', height=5, aspect=1.6);"
   ]
  },
  {
   "cell_type": "code",
   "execution_count": 64,
   "metadata": {},
   "outputs": [],
   "source": [
    "slope, intercept, _, _, stderr = stats.linregress(oldfaithful['Minutes between eruptions'],\n",
    "                                                  oldfaithful['Duration of eruption'])"
   ]
  },
  {
   "cell_type": "code",
   "execution_count": 66,
   "metadata": {},
   "outputs": [
    {
     "data": {
      "text/plain": [
       "76.39296260328746"
      ]
     },
     "execution_count": 66,
     "metadata": {},
     "output_type": "execute_result"
    }
   ],
   "source": [
    "prediction = slope * 4 + intercept\n",
    "prediction"
   ]
  },
  {
   "cell_type": "code",
   "execution_count": 67,
   "metadata": {},
   "outputs": [
    {
     "data": {
      "text/plain": [
       "(75.76345579159464, 77.02246941498028)"
      ]
     },
     "execution_count": 67,
     "metadata": {},
     "output_type": "execute_result"
    }
   ],
   "source": [
    "# 95% sure\n",
    "lower = prediction - 2 * stderr\n",
    "upper = prediction + 2 * stderr\n",
    "lower, upper"
   ]
  },
  {
   "cell_type": "markdown",
   "metadata": {},
   "source": [
    "С вероятностью 95% можно утверждать, что продолжительность следующего извержения составит от 75.76 до 77.02"
   ]
  },
  {
   "cell_type": "markdown",
   "metadata": {},
   "source": [
    "***\n",
    "В файле Dailydow.xlsx приведены ежедневные значения индекса Доу—Джонса с 1996 по 2010 гг. Каково значение $R^2$ для завтрашнего значения индекса Доу—Джонса, прогнозируемого по сегодняшнему значению? Означает ли такое высокое значение $R^2$, что движение рынка предсказать нетрудно?"
   ]
  },
  {
   "cell_type": "code",
   "execution_count": 78,
   "metadata": {},
   "outputs": [],
   "source": [
    "dow = pd.read_excel('~/Study/excel/Ch53/Practice Files/Dailydow.xlsx',\n",
    "                          usecols=range(2), skiprows=7).dropna()"
   ]
  },
  {
   "cell_type": "code",
   "execution_count": 80,
   "metadata": {},
   "outputs": [
    {
     "data": {
      "text/html": [
       "<div>\n",
       "<style scoped>\n",
       "    .dataframe tbody tr th:only-of-type {\n",
       "        vertical-align: middle;\n",
       "    }\n",
       "\n",
       "    .dataframe tbody tr th {\n",
       "        vertical-align: top;\n",
       "    }\n",
       "\n",
       "    .dataframe thead th {\n",
       "        text-align: right;\n",
       "    }\n",
       "</style>\n",
       "<table border=\"1\" class=\"dataframe\">\n",
       "  <thead>\n",
       "    <tr style=\"text-align: right;\">\n",
       "      <th></th>\n",
       "      <th>Date</th>\n",
       "      <th>Dow</th>\n",
       "    </tr>\n",
       "  </thead>\n",
       "  <tbody>\n",
       "    <tr>\n",
       "      <th>0</th>\n",
       "      <td>1996-01-02</td>\n",
       "      <td>5177.45</td>\n",
       "    </tr>\n",
       "    <tr>\n",
       "      <th>1</th>\n",
       "      <td>1996-01-03</td>\n",
       "      <td>5194.07</td>\n",
       "    </tr>\n",
       "    <tr>\n",
       "      <th>2</th>\n",
       "      <td>1996-01-04</td>\n",
       "      <td>5173.84</td>\n",
       "    </tr>\n",
       "    <tr>\n",
       "      <th>3</th>\n",
       "      <td>1996-01-05</td>\n",
       "      <td>5181.43</td>\n",
       "    </tr>\n",
       "    <tr>\n",
       "      <th>4</th>\n",
       "      <td>1996-01-08</td>\n",
       "      <td>5197.70</td>\n",
       "    </tr>\n",
       "  </tbody>\n",
       "</table>\n",
       "</div>"
      ],
      "text/plain": [
       "        Date      Dow\n",
       "0 1996-01-02  5177.45\n",
       "1 1996-01-03  5194.07\n",
       "2 1996-01-04  5173.84\n",
       "3 1996-01-05  5181.43\n",
       "4 1996-01-08  5197.70"
      ]
     },
     "execution_count": 80,
     "metadata": {},
     "output_type": "execute_result"
    }
   ],
   "source": [
    "dow.head()"
   ]
  },
  {
   "cell_type": "code",
   "execution_count": 94,
   "metadata": {},
   "outputs": [
    {
     "data": {
      "text/html": [
       "<div>\n",
       "<style scoped>\n",
       "    .dataframe tbody tr th:only-of-type {\n",
       "        vertical-align: middle;\n",
       "    }\n",
       "\n",
       "    .dataframe tbody tr th {\n",
       "        vertical-align: top;\n",
       "    }\n",
       "\n",
       "    .dataframe thead th {\n",
       "        text-align: right;\n",
       "    }\n",
       "</style>\n",
       "<table border=\"1\" class=\"dataframe\">\n",
       "  <thead>\n",
       "    <tr style=\"text-align: right;\">\n",
       "      <th></th>\n",
       "      <th>Today</th>\n",
       "      <th>Tomorrow</th>\n",
       "    </tr>\n",
       "  </thead>\n",
       "  <tbody>\n",
       "    <tr>\n",
       "      <th>0</th>\n",
       "      <td>5177.45</td>\n",
       "      <td>5194.07</td>\n",
       "    </tr>\n",
       "    <tr>\n",
       "      <th>1</th>\n",
       "      <td>5194.07</td>\n",
       "      <td>5173.84</td>\n",
       "    </tr>\n",
       "    <tr>\n",
       "      <th>2</th>\n",
       "      <td>5173.84</td>\n",
       "      <td>5181.43</td>\n",
       "    </tr>\n",
       "    <tr>\n",
       "      <th>3</th>\n",
       "      <td>5181.43</td>\n",
       "      <td>5197.70</td>\n",
       "    </tr>\n",
       "    <tr>\n",
       "      <th>4</th>\n",
       "      <td>5197.70</td>\n",
       "      <td>5130.13</td>\n",
       "    </tr>\n",
       "  </tbody>\n",
       "</table>\n",
       "</div>"
      ],
      "text/plain": [
       "     Today  Tomorrow\n",
       "0  5177.45   5194.07\n",
       "1  5194.07   5173.84\n",
       "2  5173.84   5181.43\n",
       "3  5181.43   5197.70\n",
       "4  5197.70   5130.13"
      ]
     },
     "execution_count": 94,
     "metadata": {},
     "output_type": "execute_result"
    }
   ],
   "source": [
    "tt = pd.DataFrame({'Today': dow.Dow[:-1].values, 'Tomorrow': dow.Dow[1:].values})\n",
    "tt.head()"
   ]
  },
  {
   "cell_type": "code",
   "execution_count": null,
   "metadata": {},
   "outputs": [],
   "source": [
    "# correlation_matrix = np.corrcoef(tt.Today, tt.Tomorrow)\n",
    "# correlation_xy = correlation_matrix[0,1]\n",
    "# r_squared = correlation_xy ** 2"
   ]
  },
  {
   "cell_type": "code",
   "execution_count": 108,
   "metadata": {},
   "outputs": [
    {
     "data": {
      "text/plain": [
       "0.9959863690790146"
      ]
     },
     "execution_count": 108,
     "metadata": {},
     "output_type": "execute_result"
    }
   ],
   "source": [
    "tt.corr().iloc[0, 1] ** 2"
   ]
  },
  {
   "cell_type": "markdown",
   "metadata": {},
   "source": [
    "$R^2 = 0.995$ означает, что завтрашний индекс Доу близок к сегодняшнему."
   ]
  },
  {
   "cell_type": "markdown",
   "metadata": {},
   "source": [
    "***\n",
    "Файл Exponentialdata.xlsx содержит годовой доход от продаж для компаний Staples, Walmart и Intel. На основе этих данных выполните первые пять заданий:\n",
    "1. Для каждой компании подберите экспоненциальную кривую тренда к данным продаж.\n",
    "2. Для какой компании экспоненциальный рост наиболее соответствует росту дохода?\n",
    "3. Для какой компании экспоненциальный рост менее всего соответствует росту дохода?"
   ]
  },
  {
   "cell_type": "code",
   "execution_count": 138,
   "metadata": {},
   "outputs": [],
   "source": [
    "import scipy"
   ]
  },
  {
   "cell_type": "code",
   "execution_count": 140,
   "metadata": {},
   "outputs": [],
   "source": [
    "expo = pd.read_excel('~/Study/excel/Ch54/Practice Files/Exponentialdata.xlsx',\n",
    "                          usecols=range(1, 5), skiprows=2)"
   ]
  },
  {
   "cell_type": "code",
   "execution_count": 141,
   "metadata": {},
   "outputs": [
    {
     "data": {
      "text/html": [
       "<div>\n",
       "<style scoped>\n",
       "    .dataframe tbody tr th:only-of-type {\n",
       "        vertical-align: middle;\n",
       "    }\n",
       "\n",
       "    .dataframe tbody tr th {\n",
       "        vertical-align: top;\n",
       "    }\n",
       "\n",
       "    .dataframe thead th {\n",
       "        text-align: right;\n",
       "    }\n",
       "</style>\n",
       "<table border=\"1\" class=\"dataframe\">\n",
       "  <thead>\n",
       "    <tr style=\"text-align: right;\">\n",
       "      <th></th>\n",
       "      <th>Year</th>\n",
       "      <th>Staples</th>\n",
       "      <th>Wal-Mart</th>\n",
       "      <th>Intel</th>\n",
       "    </tr>\n",
       "  </thead>\n",
       "  <tbody>\n",
       "    <tr>\n",
       "      <th>0</th>\n",
       "      <td>2001</td>\n",
       "      <td>10874</td>\n",
       "      <td>191329</td>\n",
       "      <td>33726</td>\n",
       "    </tr>\n",
       "    <tr>\n",
       "      <th>1</th>\n",
       "      <td>2000</td>\n",
       "      <td>8842</td>\n",
       "      <td>185013</td>\n",
       "      <td>29389</td>\n",
       "    </tr>\n",
       "    <tr>\n",
       "      <th>2</th>\n",
       "      <td>1999</td>\n",
       "      <td>7123</td>\n",
       "      <td>157634</td>\n",
       "      <td>28273</td>\n",
       "    </tr>\n",
       "    <tr>\n",
       "      <th>3</th>\n",
       "      <td>1998</td>\n",
       "      <td>5181</td>\n",
       "      <td>117958</td>\n",
       "      <td>25070</td>\n",
       "    </tr>\n",
       "    <tr>\n",
       "      <th>4</th>\n",
       "      <td>1997</td>\n",
       "      <td>3968</td>\n",
       "      <td>104859</td>\n",
       "      <td>20847</td>\n",
       "    </tr>\n",
       "  </tbody>\n",
       "</table>\n",
       "</div>"
      ],
      "text/plain": [
       "   Year  Staples  Wal-Mart  Intel\n",
       "0  2001    10874    191329  33726\n",
       "1  2000     8842    185013  29389\n",
       "2  1999     7123    157634  28273\n",
       "3  1998     5181    117958  25070\n",
       "4  1997     3968    104859  20847"
      ]
     },
     "execution_count": 141,
     "metadata": {},
     "output_type": "execute_result"
    }
   ],
   "source": [
    "expo"
   ]
  },
  {
   "cell_type": "code",
   "execution_count": 176,
   "metadata": {},
   "outputs": [],
   "source": [
    "x = [*range(len(expo), 0, -1)]\n",
    "# y = expo['Staples'].values"
   ]
  },
  {
   "cell_type": "code",
   "execution_count": 182,
   "metadata": {},
   "outputs": [],
   "source": [
    "ab = expo.loc[:, 'Staples': 'Intel'] \\\n",
    "                .apply(lambda y: scipy.optimize.curve_fit(lambda t, a, b: a * np.exp(b * t), x, y)[0])"
   ]
  },
  {
   "cell_type": "markdown",
   "metadata": {},
   "source": [
    "$y = ae^{bx}$"
   ]
  },
  {
   "cell_type": "code",
   "execution_count": 224,
   "metadata": {},
   "outputs": [
    {
     "data": {
      "image/png": "[encoded data removed]",
      "text/plain": [
       "<Figure size 1080x288 with 3 Axes>"
      ]
     },
     "metadata": {
      "needs_background": "light"
     },
     "output_type": "display_data"
    }
   ],
   "source": [
    "fig, ax = plt.subplots(1, 3, figsize=(15,4))\n",
    "colors = iter(('pink', 'lightblue', 'lightgreen'))\n",
    "for i, stock in enumerate(ab.columns):\n",
    "    a, b = ab[stock].values\n",
    "    sns.scatterplot(data=pd.DataFrame({'x': x, 'y': expo[stock]}), x='x', y='y', ax=ax[i])\n",
    "    ax[i].plot(x, a * np.exp(b * np.array(x)), color=next(colors),\n",
    "                                      label=\"$y = %s e^{%sx}$\" % (round(a,2), round(b,3)))\n",
    "    ax[i].set_title(f'{stock}')\n",
    "    ax[i].legend(frameon=False)\n",
    "\n",
    "plt.tight_layout()\n",
    "plt.show()"
   ]
  },
  {
   "cell_type": "markdown",
   "metadata": {},
   "source": [
    "Лучше всего кривая экспоненциального роста описывает данные Staples.\n",
    "Экспоненциальный рост менее всего соответствует росту дохода Wal-Mart, так как у нее самый низкий $R^2$"
   ]
  },
  {
   "cell_type": "markdown",
   "metadata": {},
   "source": [
    "4. Для каждой компании вычислите годовые темпы роста дохода в процентах."
   ]
  },
  {
   "cell_type": "code",
   "execution_count": 254,
   "metadata": {},
   "outputs": [
    {
     "name": "stdout",
     "output_type": "stream",
     "text": [
      "Staples is growing at 27.54%\n",
      "Wal-Mart is growing at 16.69%\n",
      "Intel is growing at 11.47%\n"
     ]
    }
   ],
   "source": [
    "for stock in ab.columns:\n",
    "    a, b = ab[stock].values\n",
    "    data = [a * np.exp(b * x) for x in range(5, 7)]\n",
    "    print(f'{stock} is growing at {100 * ((data[1] / data[0]) - 1):.2f}%') "
   ]
  },
  {
   "cell_type": "markdown",
   "metadata": {},
   "source": [
    "5. Для каждой компании спрогнозируйте по кривой тренда доход в 2003 г."
   ]
  },
  {
   "cell_type": "code",
   "execution_count": 253,
   "metadata": {},
   "outputs": [
    {
     "name": "stdout",
     "output_type": "stream",
     "text": [
      "Staples forecast is 17985.5957 billions of dollars\n",
      "Wal-Mart forecast is 274313.2514 billions of dollars\n",
      "Intel forecast is 41902.7549 billions of dollars\n"
     ]
    }
   ],
   "source": [
    "for stock in ab.columns:\n",
    "    a, b = ab[stock].values\n",
    "    year_2003 = a * np.exp(b * 7) # 2003 == 7\n",
    "    print(f'{stock} forecast is {year_2003:.4f} billions of dollars') "
   ]
  },
  {
   "cell_type": "markdown",
   "metadata": {},
   "source": [
    "***\n",
    "В файле Impalas.xlxs приведены цены Impalas 2009, 2008, 2007 и 2006 на 2010 гг. Исходя из этих данных, оцените снижение стоимости автомобиля по мере его старения?"
   ]
  },
  {
   "cell_type": "code",
   "execution_count": 255,
   "metadata": {},
   "outputs": [],
   "source": [
    "impala = pd.read_excel('~/Study/excel/Ch54/Practice Files/Impalas.xlsx',\n",
    "                          usecols=range(3), skiprows=2)"
   ]
  },
  {
   "cell_type": "code",
   "execution_count": 256,
   "metadata": {},
   "outputs": [
    {
     "data": {
      "text/html": [
       "<div>\n",
       "<style scoped>\n",
       "    .dataframe tbody tr th:only-of-type {\n",
       "        vertical-align: middle;\n",
       "    }\n",
       "\n",
       "    .dataframe tbody tr th {\n",
       "        vertical-align: top;\n",
       "    }\n",
       "\n",
       "    .dataframe thead th {\n",
       "        text-align: right;\n",
       "    }\n",
       "</style>\n",
       "<table border=\"1\" class=\"dataframe\">\n",
       "  <thead>\n",
       "    <tr style=\"text-align: right;\">\n",
       "      <th></th>\n",
       "      <th>Model year</th>\n",
       "      <th>Age</th>\n",
       "      <th>Price</th>\n",
       "    </tr>\n",
       "  </thead>\n",
       "  <tbody>\n",
       "    <tr>\n",
       "      <th>0</th>\n",
       "      <td>2009</td>\n",
       "      <td>1</td>\n",
       "      <td>13.650</td>\n",
       "    </tr>\n",
       "    <tr>\n",
       "      <th>1</th>\n",
       "      <td>2008</td>\n",
       "      <td>2</td>\n",
       "      <td>11.200</td>\n",
       "    </tr>\n",
       "    <tr>\n",
       "      <th>2</th>\n",
       "      <td>2007</td>\n",
       "      <td>3</td>\n",
       "      <td>9.725</td>\n",
       "    </tr>\n",
       "    <tr>\n",
       "      <th>3</th>\n",
       "      <td>2006</td>\n",
       "      <td>4</td>\n",
       "      <td>8.475</td>\n",
       "    </tr>\n",
       "  </tbody>\n",
       "</table>\n",
       "</div>"
      ],
      "text/plain": [
       "   Model year  Age   Price\n",
       "0        2009    1  13.650\n",
       "1        2008    2  11.200\n",
       "2        2007    3   9.725\n",
       "3        2006    4   8.475"
      ]
     },
     "execution_count": 256,
     "metadata": {},
     "output_type": "execute_result"
    }
   ],
   "source": [
    "impala"
   ]
  },
  {
   "cell_type": "code",
   "execution_count": 264,
   "metadata": {},
   "outputs": [],
   "source": [
    "x = impala['Age']\n",
    "y = impala['Price']\n",
    "a, b = scipy.optimize.curve_fit(lambda t, a, b: a * np.exp(b * t), x, y)[0]"
   ]
  },
  {
   "cell_type": "code",
   "execution_count": 271,
   "metadata": {},
   "outputs": [],
   "source": [
    "forecasts = impala['Age'].apply(lambda x: a * np.exp(b * x))"
   ]
  },
  {
   "cell_type": "code",
   "execution_count": 280,
   "metadata": {},
   "outputs": [
    {
     "data": {
      "image/png": "[encoded data removed]",
      "text/plain": [
       "<Figure size 432x288 with 1 Axes>"
      ]
     },
     "metadata": {
      "needs_background": "light"
     },
     "output_type": "display_data"
    }
   ],
   "source": [
    "impala['Price'].plot(label='Price')\n",
    "forecasts.plot(label=\"$y = %s e^{%sx}$\" % (round(a,2), round(b,3)))\n",
    "plt.legend();"
   ]
  },
  {
   "cell_type": "code",
   "execution_count": 288,
   "metadata": {},
   "outputs": [
    {
     "name": "stdout",
     "output_type": "stream",
     "text": [
      "Мы видим, что каждый год Импала теряет 14.88% от её стоимости\n"
     ]
    }
   ],
   "source": [
    "print(f'Мы видим, что каждый год Импала теряет {100 * (1 - np.exp(b)):.2f}% от её стоимости')"
   ]
  },
  {
   "cell_type": "markdown",
   "metadata": {},
   "source": [
    "***\n",
    "На основе данных о факсах смоделируйте зависимость между совокупным количеством произведенных факсов и общей себестоимостью произведенной продукции."
   ]
  },
  {
   "cell_type": "code",
   "execution_count": 301,
   "metadata": {},
   "outputs": [
    {
     "name": "stderr",
     "output_type": "stream",
     "text": [
      "/Users/popov/anaconda3/lib/python3.8/site-packages/openpyxl/worksheet/header_footer.py:48: UserWarning: Cannot parse header or footer so it will be ignored\n",
      "  warn(\"\"\"Cannot parse header or footer so it will be ignored\"\"\")\n"
     ]
    }
   ],
   "source": [
    "fax = pd.read_excel('~/Study/excel/Ch55/Practice Files/Fax.xlsx',\n",
    "                          usecols=range(5), skiprows=2, nrows=7)"
   ]
  },
  {
   "cell_type": "code",
   "execution_count": 308,
   "metadata": {},
   "outputs": [
    {
     "data": {
      "text/html": [
       "<div>\n",
       "<style scoped>\n",
       "    .dataframe tbody tr th:only-of-type {\n",
       "        vertical-align: middle;\n",
       "    }\n",
       "\n",
       "    .dataframe tbody tr th {\n",
       "        vertical-align: top;\n",
       "    }\n",
       "\n",
       "    .dataframe thead th {\n",
       "        text-align: right;\n",
       "    }\n",
       "</style>\n",
       "<table border=\"1\" class=\"dataframe\">\n",
       "  <thead>\n",
       "    <tr style=\"text-align: right;\">\n",
       "      <th></th>\n",
       "      <th>Year</th>\n",
       "      <th>Production</th>\n",
       "      <th>Cumulative Production</th>\n",
       "      <th>Unit Cost</th>\n",
       "      <th>Forecast</th>\n",
       "    </tr>\n",
       "  </thead>\n",
       "  <tbody>\n",
       "    <tr>\n",
       "      <th>0</th>\n",
       "      <td>1982</td>\n",
       "      <td>64000</td>\n",
       "      <td>64000</td>\n",
       "      <td>3700</td>\n",
       "      <td>3955.806385</td>\n",
       "    </tr>\n",
       "    <tr>\n",
       "      <th>1</th>\n",
       "      <td>1983</td>\n",
       "      <td>70000</td>\n",
       "      <td>134000</td>\n",
       "      <td>3416</td>\n",
       "      <td>3280.535707</td>\n",
       "    </tr>\n",
       "    <tr>\n",
       "      <th>2</th>\n",
       "      <td>1984</td>\n",
       "      <td>100000</td>\n",
       "      <td>234000</td>\n",
       "      <td>3125</td>\n",
       "      <td>2848.511898</td>\n",
       "    </tr>\n",
       "    <tr>\n",
       "      <th>3</th>\n",
       "      <td>1985</td>\n",
       "      <td>150000</td>\n",
       "      <td>384000</td>\n",
       "      <td>2583</td>\n",
       "      <td>2512.634482</td>\n",
       "    </tr>\n",
       "    <tr>\n",
       "      <th>4</th>\n",
       "      <td>1986</td>\n",
       "      <td>175000</td>\n",
       "      <td>559000</td>\n",
       "      <td>2166</td>\n",
       "      <td>2284.656978</td>\n",
       "    </tr>\n",
       "    <tr>\n",
       "      <th>5</th>\n",
       "      <td>1987</td>\n",
       "      <td>400000</td>\n",
       "      <td>959000</td>\n",
       "      <td>1833</td>\n",
       "      <td>1992.717622</td>\n",
       "    </tr>\n",
       "    <tr>\n",
       "      <th>6</th>\n",
       "      <td>1988</td>\n",
       "      <td>785000</td>\n",
       "      <td>1744000</td>\n",
       "      <td>1788</td>\n",
       "      <td>1712.602963</td>\n",
       "    </tr>\n",
       "  </tbody>\n",
       "</table>\n",
       "</div>"
      ],
      "text/plain": [
       "   Year  Production  Cumulative Production  Unit Cost     Forecast\n",
       "0  1982       64000                  64000       3700  3955.806385\n",
       "1  1983       70000                 134000       3416  3280.535707\n",
       "2  1984      100000                 234000       3125  2848.511898\n",
       "3  1985      150000                 384000       2583  2512.634482\n",
       "4  1986      175000                 559000       2166  2284.656978\n",
       "5  1987      400000                 959000       1833  1992.717622\n",
       "6  1988      785000                1744000       1788  1712.602963"
      ]
     },
     "execution_count": 308,
     "metadata": {},
     "output_type": "execute_result"
    }
   ],
   "source": [
    "fax"
   ]
  },
  {
   "cell_type": "code",
   "execution_count": 356,
   "metadata": {},
   "outputs": [],
   "source": [
    "func = lambda t, a, b: a * t ** b\n",
    "x = fax['Cumulative Production']\n",
    "y = fax['Unit Cost']\n",
    "a, b = scipy.optimize.curve_fit(func, x, y)[0]"
   ]
  },
  {
   "cell_type": "code",
   "execution_count": 357,
   "metadata": {},
   "outputs": [],
   "source": [
    "forecasts = fax['Cumulative Production'].apply(lambda x: func(x, a, b))"
   ]
  },
  {
   "cell_type": "markdown",
   "metadata": {},
   "source": [
    "**Оценка кривой обучения**"
   ]
  },
  {
   "cell_type": "code",
   "execution_count": 358,
   "metadata": {},
   "outputs": [
    {
     "data": {
      "text/plain": [
       "6    0.846469\n",
       "Name: Cumulative Production, dtype: float64"
      ]
     },
     "execution_count": 358,
     "metadata": {},
     "output_type": "execute_result"
    }
   ],
   "source": [
    "double_cp = (fax['Cumulative Production'].tail(1) * 2).iloc[0] # double cumulative production\n",
    "func(double_cp, a, b) / forecasts.tail(1) # learning percentage"
   ]
  },
  {
   "cell_type": "code",
   "execution_count": 359,
   "metadata": {},
   "outputs": [
    {
     "data": {
      "image/png": "[encoded data removed]",
      "text/plain": [
       "<Figure size 432x288 with 1 Axes>"
      ]
     },
     "metadata": {
      "needs_background": "light"
     },
     "output_type": "display_data"
    }
   ],
   "source": [
    "sns.scatterplot(data=fax, x='Cumulative Production', y='Unit Cost', label='Cost')\n",
    "plt.plot(fax['Cumulative Production'], forecasts,\n",
    "         label=\"$y = %s e^{%sx}$\" % (round(a,2), round(b,3)), color='orange', linestyle='dotted')\n",
    "plt.title('Learning Curve')\n",
    "plt.legend();"
   ]
  },
  {
   "cell_type": "markdown",
   "metadata": {},
   "source": [
    "На основе данных о факсах смоделируйте зависимость между совокупным количеством произведенных факсов и средней себестоимостью одного факса."
   ]
  },
  {
   "cell_type": "code",
   "execution_count": 369,
   "metadata": {},
   "outputs": [
    {
     "data": {
      "text/html": [
       "<div>\n",
       "<style scoped>\n",
       "    .dataframe tbody tr th:only-of-type {\n",
       "        vertical-align: middle;\n",
       "    }\n",
       "\n",
       "    .dataframe tbody tr th {\n",
       "        vertical-align: top;\n",
       "    }\n",
       "\n",
       "    .dataframe thead th {\n",
       "        text-align: right;\n",
       "    }\n",
       "</style>\n",
       "<table border=\"1\" class=\"dataframe\">\n",
       "  <thead>\n",
       "    <tr style=\"text-align: right;\">\n",
       "      <th></th>\n",
       "      <th>unit</th>\n",
       "      <th>cost</th>\n",
       "      <th>cum cost</th>\n",
       "      <th>avg cost</th>\n",
       "    </tr>\n",
       "  </thead>\n",
       "  <tbody>\n",
       "    <tr>\n",
       "      <th>0</th>\n",
       "      <td>1</td>\n",
       "      <td>60931.998716</td>\n",
       "      <td>60931.998716</td>\n",
       "      <td>60931.998716</td>\n",
       "    </tr>\n",
       "    <tr>\n",
       "      <th>1</th>\n",
       "      <td>2</td>\n",
       "      <td>53333.887558</td>\n",
       "      <td>114265.886274</td>\n",
       "      <td>26666.943779</td>\n",
       "    </tr>\n",
       "    <tr>\n",
       "      <th>2</th>\n",
       "      <td>3</td>\n",
       "      <td>49336.431386</td>\n",
       "      <td>163602.317660</td>\n",
       "      <td>16445.477129</td>\n",
       "    </tr>\n",
       "    <tr>\n",
       "      <th>3</th>\n",
       "      <td>4</td>\n",
       "      <td>46683.247260</td>\n",
       "      <td>210285.564919</td>\n",
       "      <td>11670.811815</td>\n",
       "    </tr>\n",
       "    <tr>\n",
       "      <th>4</th>\n",
       "      <td>5</td>\n",
       "      <td>44723.937699</td>\n",
       "      <td>255009.502619</td>\n",
       "      <td>8944.787540</td>\n",
       "    </tr>\n",
       "  </tbody>\n",
       "</table>\n",
       "</div>"
      ],
      "text/plain": [
       "   unit          cost       cum cost      avg cost\n",
       "0     1  60931.998716   60931.998716  60931.998716\n",
       "1     2  53333.887558  114265.886274  26666.943779\n",
       "2     3  49336.431386  163602.317660  16445.477129\n",
       "3     4  46683.247260  210285.564919  11670.811815\n",
       "4     5  44723.937699  255009.502619   8944.787540"
      ]
     },
     "execution_count": 369,
     "metadata": {},
     "output_type": "execute_result"
    }
   ],
   "source": [
    "cum_cost = pd.DataFrame({'unit': (units:=list(range(1, 21))),\n",
    "                         'cost': (cost:=[func(x, a, b) for x in units]),\n",
    "                         'cum cost': (cum:=np.cumsum(cost)),\n",
    "                         'avg cost': [x / y for x, y in zip(cost, units)]\n",
    "             })\n",
    "cum_cost.head()"
   ]
  },
  {
   "cell_type": "code",
   "execution_count": 361,
   "metadata": {},
   "outputs": [
    {
     "data": {
      "text/plain": [
       "(60931.99871607247, 0.8078524262833358)"
      ]
     },
     "execution_count": 361,
     "metadata": {},
     "output_type": "execute_result"
    }
   ],
   "source": [
    "x = cum_cost['unit']\n",
    "y = cum_cost['cum cost']\n",
    "a, b = scipy.optimize.curve_fit(func, x, y)[0]\n",
    "a, b"
   ]
  },
  {
   "cell_type": "code",
   "execution_count": 362,
   "metadata": {},
   "outputs": [
    {
     "data": {
      "image/png": "[encoded data removed]",
      "text/plain": [
       "<Figure size 432x288 with 1 Axes>"
      ]
     },
     "metadata": {
      "needs_background": "light"
     },
     "output_type": "display_data"
    }
   ],
   "source": [
    "forecasts = cum_cost['unit'].apply(lambda x: func(x, a, b)) # Cost of making x units = 60931*(x)^0.8\n",
    "\n",
    "sns.scatterplot(data=cum_cost, x='unit', y='cum cost', label='Cum Cost')\n",
    "plt.plot(cum_cost['unit'], forecasts,\n",
    "         label=\"$y = %s e^{%sx}$\" % (round(a,2), round(b,3)), color='orange', linestyle='dotted')\n",
    "plt.title('Predicting Cumulative Cost')\n",
    "plt.legend();"
   ]
  },
  {
   "cell_type": "code",
   "execution_count": 364,
   "metadata": {},
   "outputs": [
    {
     "data": {
      "text/plain": [
       "(60931.99871607246, -0.19214757371666422)"
      ]
     },
     "execution_count": 364,
     "metadata": {},
     "output_type": "execute_result"
    }
   ],
   "source": [
    "x = cum_cost['unit']\n",
    "y = cum_cost['avg cost']\n",
    "a, b = scipy.optimize.curve_fit(func, x, y)[0]\n",
    "a, b"
   ]
  },
  {
   "cell_type": "code",
   "execution_count": 366,
   "metadata": {},
   "outputs": [
    {
     "data": {
      "image/png": "[encoded data removed]",
      "text/plain": [
       "<Figure size 432x288 with 1 Axes>"
      ]
     },
     "metadata": {
      "needs_background": "light"
     },
     "output_type": "display_data"
    }
   ],
   "source": [
    "forecasts = cum_cost['unit'].apply(lambda x: func(x, a, b)) # Average cost of first x units = 60932x^-.19\n",
    "\n",
    "sns.scatterplot(data=cum_cost, x='unit', y='avg cost', label='Avg. Cost')\n",
    "plt.plot(cum_cost['unit'], forecasts,\n",
    "         label=\"$y = %s e^{%sx}$\" % (round(a,2), round(b,3)), color='green', linestyle='dotted')\n",
    "plt.title('Predicting average cost')\n",
    "plt.legend();"
   ]
  },
  {
   "cell_type": "markdown",
   "metadata": {},
   "source": [
    "Коммерческий директор считает, что общий объем продаж продукта зависит от цены так, как показано в таблице. Определите зависимость между ценой и спросом, а также прогнозируемым спросом для цены 46 долларов. На какое количество процентов уменьшается спрос при увеличении цены на 1%?\n",
    "\n",
    "| Цена, $ | Спрос |\n",
    "| --- | --- |\n",
    "| 30.00 | 300 |\n",
    "| 40.00 | 200 |\n",
    "| 50.00 | 110 |\n",
    "| 60.00 | 60 |"
   ]
  },
  {
   "cell_type": "code",
   "execution_count": 372,
   "metadata": {},
   "outputs": [],
   "source": [
    "sales = pd.DataFrame({'price': [30, 40, 50, 60],\n",
    "                      'demand': [300, 200, 110, 60]\n",
    "                     })"
   ]
  },
  {
   "cell_type": "code",
   "execution_count": 373,
   "metadata": {},
   "outputs": [
    {
     "data": {
      "text/html": [
       "<div>\n",
       "<style scoped>\n",
       "    .dataframe tbody tr th:only-of-type {\n",
       "        vertical-align: middle;\n",
       "    }\n",
       "\n",
       "    .dataframe tbody tr th {\n",
       "        vertical-align: top;\n",
       "    }\n",
       "\n",
       "    .dataframe thead th {\n",
       "        text-align: right;\n",
       "    }\n",
       "</style>\n",
       "<table border=\"1\" class=\"dataframe\">\n",
       "  <thead>\n",
       "    <tr style=\"text-align: right;\">\n",
       "      <th></th>\n",
       "      <th>price</th>\n",
       "      <th>demand</th>\n",
       "    </tr>\n",
       "  </thead>\n",
       "  <tbody>\n",
       "    <tr>\n",
       "      <th>0</th>\n",
       "      <td>30</td>\n",
       "      <td>300</td>\n",
       "    </tr>\n",
       "    <tr>\n",
       "      <th>1</th>\n",
       "      <td>40</td>\n",
       "      <td>200</td>\n",
       "    </tr>\n",
       "    <tr>\n",
       "      <th>2</th>\n",
       "      <td>50</td>\n",
       "      <td>110</td>\n",
       "    </tr>\n",
       "    <tr>\n",
       "      <th>3</th>\n",
       "      <td>60</td>\n",
       "      <td>60</td>\n",
       "    </tr>\n",
       "  </tbody>\n",
       "</table>\n",
       "</div>"
      ],
      "text/plain": [
       "   price  demand\n",
       "0     30     300\n",
       "1     40     200\n",
       "2     50     110\n",
       "3     60      60"
      ]
     },
     "execution_count": 373,
     "metadata": {},
     "output_type": "execute_result"
    }
   ],
   "source": [
    "sales"
   ]
  },
  {
   "cell_type": "code",
   "execution_count": 376,
   "metadata": {},
   "outputs": [
    {
     "data": {
      "text/plain": [
       "(240249.77071248475, -1.958023901481229)"
      ]
     },
     "execution_count": 376,
     "metadata": {},
     "output_type": "execute_result"
    }
   ],
   "source": [
    "x = sales['price']\n",
    "y = sales['demand']\n",
    "a, b = scipy.optimize.curve_fit(func, x, y)[0]\n",
    "a, b"
   ]
  },
  {
   "cell_type": "code",
   "execution_count": 381,
   "metadata": {},
   "outputs": [
    {
     "data": {
      "text/plain": [
       "133.33476660711432"
      ]
     },
     "execution_count": 381,
     "metadata": {},
     "output_type": "execute_result"
    }
   ],
   "source": [
    "func(46, a, b)"
   ]
  },
  {
   "cell_type": "markdown",
   "metadata": {},
   "source": [
    "При цене 46 $, мы прогнозируем спрос 133.33 шт. Повышение цены на 1% снижает спрос"
   ]
  },
  {
   "cell_type": "code",
   "execution_count": 383,
   "metadata": {},
   "outputs": [
    {
     "data": {
      "image/png": "[encoded data removed]",
      "text/plain": [
       "<Figure size 432x288 with 1 Axes>"
      ]
     },
     "metadata": {
      "needs_background": "light"
     },
     "output_type": "display_data"
    }
   ],
   "source": [
    "forecasts = sales['price'].apply(lambda x: func(x, a, b)) # Demand = 240249x^-1.96\n",
    "\n",
    "sns.scatterplot(data=sales, x='price', y='demand', label='Avg. Cost')\n",
    "plt.plot(sales['price'], forecasts,\n",
    "         label=\"$y = %s x^{%s}$\" % (round(a,2), round(b,3)), color='purple', linestyle='dotted')\n",
    "plt.title('Demand curve')\n",
    "plt.legend();"
   ]
  },
  {
   "cell_type": "markdown",
   "metadata": {},
   "source": [
    "Бренд-менеджер нового лекарственного препарата считает, что годовой объем продаж препарата является функцией количества коммерческих предложений, сделанных врачам по телефону. Определите объем продаж препарата, если врачам сделано 80 000 коммерческих звонков.\n",
    "\n",
    "| Коммерческие звонки| Количество проданного препарата |\n",
    "| --- | --- |\n",
    "| 50 000 | 25 000 |\n",
    "| 100 000 | 52 000 |\n",
    "| 150 000 | 68 000 |\n",
    "| 200 000 | 77 000 |"
   ]
  },
  {
   "cell_type": "code",
   "execution_count": 385,
   "metadata": {},
   "outputs": [
    {
     "data": {
      "text/html": [
       "<div>\n",
       "<style scoped>\n",
       "    .dataframe tbody tr th:only-of-type {\n",
       "        vertical-align: middle;\n",
       "    }\n",
       "\n",
       "    .dataframe tbody tr th {\n",
       "        vertical-align: top;\n",
       "    }\n",
       "\n",
       "    .dataframe thead th {\n",
       "        text-align: right;\n",
       "    }\n",
       "</style>\n",
       "<table border=\"1\" class=\"dataframe\">\n",
       "  <thead>\n",
       "    <tr style=\"text-align: right;\">\n",
       "      <th></th>\n",
       "      <th>Sales call</th>\n",
       "      <th>Units sold</th>\n",
       "    </tr>\n",
       "  </thead>\n",
       "  <tbody>\n",
       "    <tr>\n",
       "      <th>0</th>\n",
       "      <td>50000</td>\n",
       "      <td>25000</td>\n",
       "    </tr>\n",
       "    <tr>\n",
       "      <th>1</th>\n",
       "      <td>100000</td>\n",
       "      <td>52000</td>\n",
       "    </tr>\n",
       "    <tr>\n",
       "      <th>2</th>\n",
       "      <td>150000</td>\n",
       "      <td>68000</td>\n",
       "    </tr>\n",
       "    <tr>\n",
       "      <th>3</th>\n",
       "      <td>200000</td>\n",
       "      <td>77000</td>\n",
       "    </tr>\n",
       "  </tbody>\n",
       "</table>\n",
       "</div>"
      ],
      "text/plain": [
       "   Sales call  Units sold\n",
       "0       50000       25000\n",
       "1      100000       52000\n",
       "2      150000       68000\n",
       "3      200000       77000"
      ]
     },
     "execution_count": 385,
     "metadata": {},
     "output_type": "execute_result"
    }
   ],
   "source": [
    "sales = pd.DataFrame({'Sales call': [50000, 100000, 150000, 200000],\n",
    "                      'Units sold': [25000, 52000, 68000, 77000]\n",
    "                     })\n",
    "sales"
   ]
  },
  {
   "cell_type": "code",
   "execution_count": 386,
   "metadata": {},
   "outputs": [
    {
     "data": {
      "text/plain": [
       "(11.610487056219641, 0.7240785856638703)"
      ]
     },
     "execution_count": 386,
     "metadata": {},
     "output_type": "execute_result"
    }
   ],
   "source": [
    "x = sales['Sales call']\n",
    "y = sales['Units sold']\n",
    "a, b = scipy.optimize.curve_fit(func, x, y)[0]\n",
    "a, b"
   ]
  },
  {
   "cell_type": "code",
   "execution_count": 387,
   "metadata": {},
   "outputs": [
    {
     "data": {
      "text/plain": [
       "41216.670066304454"
      ]
     },
     "execution_count": 387,
     "metadata": {},
     "output_type": "execute_result"
    }
   ],
   "source": [
    "func(80000, a, b)"
   ]
  },
  {
   "cell_type": "markdown",
   "metadata": {},
   "source": [
    "Если будет сделано 80000 звонков, мы предсказываем продажу 41217 единиц."
   ]
  },
  {
   "cell_type": "code",
   "execution_count": 389,
   "metadata": {},
   "outputs": [
    {
     "data": {
      "image/png": "[encoded data removed]",
      "text/plain": [
       "<Figure size 432x288 with 1 Axes>"
      ]
     },
     "metadata": {
      "needs_background": "light"
     },
     "output_type": "display_data"
    }
   ],
   "source": [
    "forecasts = sales['Sales call'].apply(lambda x: func(x, a, b)) #  Volume of sales = 11.61x^.72\n",
    "\n",
    "sns.scatterplot(data=sales, x='Sales call', y='Units sold', label='Avg. Cost')\n",
    "plt.plot(sales['Sales call'], forecasts,\n",
    "         label=\"$y = %s x^{%s}$\" % (round(a,2), round(b,3)), color='limegreen', linestyle='dotted')\n",
    "plt.title('Sales calls')\n",
    "plt.legend();"
   ]
  },
  {
   "cell_type": "markdown",
   "metadata": {},
   "source": [
    "Время, необходимое для производства каждого из первых десяти самолетов, приведено в таблице.\n",
    "\n",
    "| Самолет| Часы |\n",
    "| --- | --- |\n",
    "| 1 | 1000 |\n",
    "| 2 | 800 |\n",
    "| 3 | 730 |\n",
    "| 4 | 630 |\n",
    "| 5 | 600 |\n",
    "| 6 | 560 |\n",
    "| 7 | 560 |\n",
    "| 8 | 500 |\n",
    "| 9 | 510 |\n",
    "| 10 | 450 |\n",
    "\n",
    "Определите общее количество часов, необходимое для производства следующих десяти самолетов."
   ]
  },
  {
   "cell_type": "code",
   "execution_count": 408,
   "metadata": {},
   "outputs": [
    {
     "data": {
      "text/html": [
       "<div>\n",
       "<style scoped>\n",
       "    .dataframe tbody tr th:only-of-type {\n",
       "        vertical-align: middle;\n",
       "    }\n",
       "\n",
       "    .dataframe tbody tr th {\n",
       "        vertical-align: top;\n",
       "    }\n",
       "\n",
       "    .dataframe thead th {\n",
       "        text-align: right;\n",
       "    }\n",
       "</style>\n",
       "<table border=\"1\" class=\"dataframe\">\n",
       "  <thead>\n",
       "    <tr style=\"text-align: right;\">\n",
       "      <th></th>\n",
       "      <th>unit</th>\n",
       "      <th>hours</th>\n",
       "    </tr>\n",
       "  </thead>\n",
       "  <tbody>\n",
       "    <tr>\n",
       "      <th>0</th>\n",
       "      <td>1</td>\n",
       "      <td>1000</td>\n",
       "    </tr>\n",
       "    <tr>\n",
       "      <th>1</th>\n",
       "      <td>2</td>\n",
       "      <td>800</td>\n",
       "    </tr>\n",
       "    <tr>\n",
       "      <th>2</th>\n",
       "      <td>3</td>\n",
       "      <td>730</td>\n",
       "    </tr>\n",
       "    <tr>\n",
       "      <th>3</th>\n",
       "      <td>4</td>\n",
       "      <td>630</td>\n",
       "    </tr>\n",
       "    <tr>\n",
       "      <th>4</th>\n",
       "      <td>5</td>\n",
       "      <td>600</td>\n",
       "    </tr>\n",
       "    <tr>\n",
       "      <th>5</th>\n",
       "      <td>6</td>\n",
       "      <td>560</td>\n",
       "    </tr>\n",
       "    <tr>\n",
       "      <th>6</th>\n",
       "      <td>7</td>\n",
       "      <td>560</td>\n",
       "    </tr>\n",
       "    <tr>\n",
       "      <th>7</th>\n",
       "      <td>8</td>\n",
       "      <td>500</td>\n",
       "    </tr>\n",
       "    <tr>\n",
       "      <th>8</th>\n",
       "      <td>9</td>\n",
       "      <td>510</td>\n",
       "    </tr>\n",
       "    <tr>\n",
       "      <th>9</th>\n",
       "      <td>10</td>\n",
       "      <td>450</td>\n",
       "    </tr>\n",
       "  </tbody>\n",
       "</table>\n",
       "</div>"
      ],
      "text/plain": [
       "   unit  hours\n",
       "0     1   1000\n",
       "1     2    800\n",
       "2     3    730\n",
       "3     4    630\n",
       "4     5    600\n",
       "5     6    560\n",
       "6     7    560\n",
       "7     8    500\n",
       "8     9    510\n",
       "9    10    450"
      ]
     },
     "execution_count": 408,
     "metadata": {},
     "output_type": "execute_result"
    }
   ],
   "source": [
    "aero = pd.DataFrame({'unit': [*range(1, 11)],\n",
    "                     'hours': [1000, 800, 730, 630, 600, 560, 560, 500, 510, 450]\n",
    "       })\n",
    "aero"
   ]
  },
  {
   "cell_type": "code",
   "execution_count": 409,
   "metadata": {},
   "outputs": [
    {
     "name": "stderr",
     "output_type": "stream",
     "text": [
      "/Users/popov/anaconda3/lib/python3.8/site-packages/scipy/optimize/minpack.py:828: OptimizeWarning: Covariance of the parameters could not be estimated\n",
      "  warnings.warn('Covariance of the parameters could not be estimated',\n"
     ]
    },
    {
     "data": {
      "text/plain": [
       "(999.9999987172243, -59.12843190165848)"
      ]
     },
     "execution_count": 409,
     "metadata": {},
     "output_type": "execute_result"
    }
   ],
   "source": [
    "x = aero['unit']\n",
    "y = aero['hours']\n",
    "a, b = scipy.optimize.curve_fit(func, x, y)[0]\n",
    "a, b"
   ]
  },
  {
   "cell_type": "code",
   "execution_count": 415,
   "metadata": {},
   "outputs": [
    {
     "data": {
      "image/png": "[encoded data removed]",
      "text/plain": [
       "<Figure size 432x288 with 1 Axes>"
      ]
     },
     "metadata": {
      "needs_background": "light"
     },
     "output_type": "display_data"
    }
   ],
   "source": [
    "a, b = 1012, -0.328\n",
    "forecasts = aero['unit'].apply(lambda x: func(x, a, b)) #  Estimated hours = 1012x^-.328\n",
    "\n",
    "sns.scatterplot(data=aero, x='unit', y='hours', label='Hours')\n",
    "plt.plot(aero['unit'], forecasts,\n",
    "         label=\"$y = %s x^{%s}$\" % (round(a,2), round(b,3)), color='pink', linestyle='dotted')\n",
    "plt.title('Hours')\n",
    "plt.legend();"
   ]
  },
  {
   "cell_type": "code",
   "execution_count": 433,
   "metadata": {},
   "outputs": [
    {
     "name": "stdout",
     "output_type": "stream",
     "text": [
      "hours for units 1-10: 6340\n",
      "esitmated hours for units 11-20: 4151\n"
     ]
    }
   ],
   "source": [
    "print(f'hours for units 1-10: {aero[\"hours\"].sum()}')\n",
    "print(f'esitmated hours for units 11-20: {sum(func(x, a, b) for x in range(11, 21)):.0f}')"
   ]
  }
 ],
 "metadata": {
  "kernelspec": {
   "display_name": "Python 3",
   "language": "python",
   "name": "python3"
  },
  "language_info": {
   "codemirror_mode": {
    "name": "ipython",
    "version": 3
   },
   "file_extension": ".py",
   "mimetype": "text/x-python",
   "name": "python",
   "nbconvert_exporter": "python",
   "pygments_lexer": "ipython3",
   "version": "3.8.3"
  }
 },
 "nbformat": 4,
 "nbformat_minor": 4
}
