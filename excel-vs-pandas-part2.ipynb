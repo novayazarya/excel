{
 "cells": [
  {
   "cell_type": "code",
   "execution_count": 1,
   "metadata": {},
   "outputs": [],
   "source": [
    "import pandas as pd\n",
    "import numpy as np\n",
    "import matplotlib.pyplot as plt"
   ]
  },
  {
   "cell_type": "markdown",
   "metadata": {},
   "source": [
    "В файле Singers.xlsx находится список песен в исполнении различных певцов, а также продолжительность звучания каждой песни. Вычислите общее количество песен в исполнении Эминема и среднюю продолжительность звучания его песен. При добавлении новых данных все формулы должны обновляться автоматически."
   ]
  },
  {
   "cell_type": "code",
   "execution_count": 7,
   "metadata": {},
   "outputs": [],
   "source": [
    "singers = pd.read_excel('~/Study/excel/Ch25/Practice Files/Singers.xlsx',\n",
    "                        skiprows=3, usecols=range(5,7), names=['singer', 'play'])"
   ]
  },
  {
   "cell_type": "code",
   "execution_count": 14,
   "metadata": {},
   "outputs": [
    {
     "data": {
      "text/html": [
       "<div>\n",
       "<style scoped>\n",
       "    .dataframe tbody tr th:only-of-type {\n",
       "        vertical-align: middle;\n",
       "    }\n",
       "\n",
       "    .dataframe tbody tr th {\n",
       "        vertical-align: top;\n",
       "    }\n",
       "\n",
       "    .dataframe thead th {\n",
       "        text-align: right;\n",
       "    }\n",
       "</style>\n",
       "<table border=\"1\" class=\"dataframe\">\n",
       "  <thead>\n",
       "    <tr style=\"text-align: right;\">\n",
       "      <th></th>\n",
       "      <th>singer</th>\n",
       "      <th>play</th>\n",
       "    </tr>\n",
       "  </thead>\n",
       "  <tbody>\n",
       "    <tr>\n",
       "      <th>0</th>\n",
       "      <td>Eminem</td>\n",
       "      <td>2</td>\n",
       "    </tr>\n",
       "    <tr>\n",
       "      <th>1</th>\n",
       "      <td>Eminem</td>\n",
       "      <td>5</td>\n",
       "    </tr>\n",
       "    <tr>\n",
       "      <th>2</th>\n",
       "      <td>Cher</td>\n",
       "      <td>4</td>\n",
       "    </tr>\n",
       "    <tr>\n",
       "      <th>3</th>\n",
       "      <td>Eminem</td>\n",
       "      <td>4</td>\n",
       "    </tr>\n",
       "    <tr>\n",
       "      <th>4</th>\n",
       "      <td>Moore</td>\n",
       "      <td>4</td>\n",
       "    </tr>\n",
       "  </tbody>\n",
       "</table>\n",
       "</div>"
      ],
      "text/plain": [
       "   singer  play\n",
       "0  Eminem     2\n",
       "1  Eminem     5\n",
       "2    Cher     4\n",
       "3  Eminem     4\n",
       "4   Moore     4"
      ]
     },
     "execution_count": 14,
     "metadata": {},
     "output_type": "execute_result"
    }
   ],
   "source": [
    "singers.head()"
   ]
  },
  {
   "cell_type": "code",
   "execution_count": 13,
   "metadata": {},
   "outputs": [
    {
     "data": {
      "text/plain": [
       "play  count    5.0\n",
       "      mean     3.8\n",
       "Name: Eminem, dtype: float64"
      ]
     },
     "execution_count": 13,
     "metadata": {},
     "output_type": "execute_result"
    }
   ],
   "source": [
    "singers.groupby('singer').agg(['count', 'mean']).loc['Eminem']"
   ]
  },
  {
   "cell_type": "markdown",
   "metadata": {},
   "source": [
    "В файле Tableexample.xlsx включите в лист ранг для каждого продавца согласно общей выручке и количеству проданных единиц товара. При добавлении новых данных ранги должны обновляться автоматически. Вероятно, стоит воспользоваться функцией РАНГ. Ее синтаксис в данном случае: РАНГ(число;массив;0). Эта функция возвращает ранг числа в массиве. У самого большого числа ранг равен 1."
   ]
  },
  {
   "cell_type": "code",
   "execution_count": 21,
   "metadata": {},
   "outputs": [],
   "source": [
    "table = pd.read_excel('~/Study/excel/Ch25/Practice Files/Tableexample.xlsx',\n",
    "                        skiprows=4, usecols=range(4,8)).dropna()"
   ]
  },
  {
   "cell_type": "code",
   "execution_count": 38,
   "metadata": {},
   "outputs": [
    {
     "data": {
      "text/html": [
       "<div>\n",
       "<style scoped>\n",
       "    .dataframe tbody tr th:only-of-type {\n",
       "        vertical-align: middle;\n",
       "    }\n",
       "\n",
       "    .dataframe tbody tr th {\n",
       "        vertical-align: top;\n",
       "    }\n",
       "\n",
       "    .dataframe thead th {\n",
       "        text-align: right;\n",
       "    }\n",
       "</style>\n",
       "<table border=\"1\" class=\"dataframe\">\n",
       "  <thead>\n",
       "    <tr style=\"text-align: right;\">\n",
       "      <th></th>\n",
       "      <th>Name</th>\n",
       "      <th>Units</th>\n",
       "      <th>Revenue</th>\n",
       "      <th>Unit price</th>\n",
       "      <th>Rank</th>\n",
       "    </tr>\n",
       "  </thead>\n",
       "  <tbody>\n",
       "    <tr>\n",
       "      <th>0</th>\n",
       "      <td>John</td>\n",
       "      <td>814.0</td>\n",
       "      <td>39886.0</td>\n",
       "      <td>49.0</td>\n",
       "      <td>1</td>\n",
       "    </tr>\n",
       "    <tr>\n",
       "      <th>1</th>\n",
       "      <td>Adam</td>\n",
       "      <td>594.0</td>\n",
       "      <td>26136.0</td>\n",
       "      <td>44.0</td>\n",
       "      <td>4</td>\n",
       "    </tr>\n",
       "    <tr>\n",
       "      <th>2</th>\n",
       "      <td>Dixie</td>\n",
       "      <td>528.0</td>\n",
       "      <td>13200.0</td>\n",
       "      <td>25.0</td>\n",
       "      <td>6</td>\n",
       "    </tr>\n",
       "    <tr>\n",
       "      <th>3</th>\n",
       "      <td>Tad</td>\n",
       "      <td>806.0</td>\n",
       "      <td>20956.0</td>\n",
       "      <td>26.0</td>\n",
       "      <td>5</td>\n",
       "    </tr>\n",
       "    <tr>\n",
       "      <th>4</th>\n",
       "      <td>Erica</td>\n",
       "      <td>826.0</td>\n",
       "      <td>27258.0</td>\n",
       "      <td>33.0</td>\n",
       "      <td>3</td>\n",
       "    </tr>\n",
       "    <tr>\n",
       "      <th>5</th>\n",
       "      <td>Gabrielle</td>\n",
       "      <td>779.0</td>\n",
       "      <td>28044.0</td>\n",
       "      <td>36.0</td>\n",
       "      <td>2</td>\n",
       "    </tr>\n",
       "    <tr>\n",
       "      <th>6</th>\n",
       "      <td>Amanda</td>\n",
       "      <td>400.0</td>\n",
       "      <td>5000.0</td>\n",
       "      <td>12.5</td>\n",
       "      <td>7</td>\n",
       "    </tr>\n",
       "  </tbody>\n",
       "</table>\n",
       "</div>"
      ],
      "text/plain": [
       "        Name  Units  Revenue  Unit price  Rank\n",
       "0       John  814.0  39886.0        49.0     1\n",
       "1       Adam  594.0  26136.0        44.0     4\n",
       "2      Dixie  528.0  13200.0        25.0     6\n",
       "3        Tad  806.0  20956.0        26.0     5\n",
       "4      Erica  826.0  27258.0        33.0     3\n",
       "5  Gabrielle  779.0  28044.0        36.0     2\n",
       "6     Amanda  400.0   5000.0        12.5     7"
      ]
     },
     "execution_count": 38,
     "metadata": {},
     "output_type": "execute_result"
    }
   ],
   "source": [
    "table.assign(Rank=lambda x: x[['Revenue', 'Units']].apply(tuple, axis=1)\n",
    "                                                   .rank(method='dense', ascending=False).astype(int))"
   ]
  },
  {
   "cell_type": "markdown",
   "metadata": {},
   "source": [
    "На основе данных в файле Stock.xlsx создайте гистограммы для ежемесячных доходов от акций GE и Intel."
   ]
  },
  {
   "cell_type": "code",
   "execution_count": 2,
   "metadata": {},
   "outputs": [],
   "source": [
    "stocks = pd.read_excel('~/Study/excel/Ch41/Practice Files/Stock.xlsx',\n",
    "                        sheet_name='stockprices', skiprows=50, usecols=range(6))"
   ]
  },
  {
   "cell_type": "code",
   "execution_count": 49,
   "metadata": {},
   "outputs": [
    {
     "data": {
      "text/html": [
       "<div>\n",
       "<style scoped>\n",
       "    .dataframe tbody tr th:only-of-type {\n",
       "        vertical-align: middle;\n",
       "    }\n",
       "\n",
       "    .dataframe tbody tr th {\n",
       "        vertical-align: top;\n",
       "    }\n",
       "\n",
       "    .dataframe thead th {\n",
       "        text-align: right;\n",
       "    }\n",
       "</style>\n",
       "<table border=\"1\" class=\"dataframe\">\n",
       "  <thead>\n",
       "    <tr style=\"text-align: right;\">\n",
       "      <th></th>\n",
       "      <th>Date</th>\n",
       "      <th>Microsoft</th>\n",
       "      <th>GE</th>\n",
       "      <th>Intel</th>\n",
       "      <th>GM</th>\n",
       "      <th>CSCO</th>\n",
       "    </tr>\n",
       "  </thead>\n",
       "  <tbody>\n",
       "    <tr>\n",
       "      <th>0</th>\n",
       "      <td>1990-03-30</td>\n",
       "      <td>0.121519</td>\n",
       "      <td>0.040486</td>\n",
       "      <td>0.037267</td>\n",
       "      <td>0.022284</td>\n",
       "      <td>0.010753</td>\n",
       "    </tr>\n",
       "    <tr>\n",
       "      <th>1</th>\n",
       "      <td>1990-04-30</td>\n",
       "      <td>0.047404</td>\n",
       "      <td>-0.003891</td>\n",
       "      <td>-0.053892</td>\n",
       "      <td>-0.035422</td>\n",
       "      <td>0.010638</td>\n",
       "    </tr>\n",
       "    <tr>\n",
       "      <th>2</th>\n",
       "      <td>1990-05-31</td>\n",
       "      <td>0.258621</td>\n",
       "      <td>0.083516</td>\n",
       "      <td>0.221519</td>\n",
       "      <td>0.115819</td>\n",
       "      <td>0.042105</td>\n",
       "    </tr>\n",
       "    <tr>\n",
       "      <th>3</th>\n",
       "      <td>1990-06-29</td>\n",
       "      <td>0.041096</td>\n",
       "      <td>0.005445</td>\n",
       "      <td>-0.025907</td>\n",
       "      <td>-0.020566</td>\n",
       "      <td>0.070707</td>\n",
       "    </tr>\n",
       "    <tr>\n",
       "      <th>4</th>\n",
       "      <td>1990-07-31</td>\n",
       "      <td>-0.125000</td>\n",
       "      <td>0.034296</td>\n",
       "      <td>-0.053191</td>\n",
       "      <td>-0.020997</td>\n",
       "      <td>-0.037736</td>\n",
       "    </tr>\n",
       "    <tr>\n",
       "      <th>...</th>\n",
       "      <td>...</td>\n",
       "      <td>...</td>\n",
       "      <td>...</td>\n",
       "      <td>...</td>\n",
       "      <td>...</td>\n",
       "      <td>...</td>\n",
       "    </tr>\n",
       "    <tr>\n",
       "      <th>125</th>\n",
       "      <td>2000-08-31</td>\n",
       "      <td>0.000000</td>\n",
       "      <td>0.140948</td>\n",
       "      <td>0.121948</td>\n",
       "      <td>0.276619</td>\n",
       "      <td>0.048711</td>\n",
       "    </tr>\n",
       "    <tr>\n",
       "      <th>126</th>\n",
       "      <td>2000-09-29</td>\n",
       "      <td>-0.136079</td>\n",
       "      <td>-0.014711</td>\n",
       "      <td>-0.444908</td>\n",
       "      <td>-0.099567</td>\n",
       "      <td>-0.194900</td>\n",
       "    </tr>\n",
       "    <tr>\n",
       "      <th>127</th>\n",
       "      <td>2000-10-31</td>\n",
       "      <td>0.141969</td>\n",
       "      <td>-0.049837</td>\n",
       "      <td>0.082707</td>\n",
       "      <td>-0.044231</td>\n",
       "      <td>-0.024887</td>\n",
       "    </tr>\n",
       "    <tr>\n",
       "      <th>128</th>\n",
       "      <td>2000-11-30</td>\n",
       "      <td>-0.166969</td>\n",
       "      <td>-0.095781</td>\n",
       "      <td>-0.153722</td>\n",
       "      <td>-0.195171</td>\n",
       "      <td>-0.111369</td>\n",
       "    </tr>\n",
       "    <tr>\n",
       "      <th>129</th>\n",
       "      <td>2000-12-29</td>\n",
       "      <td>-0.244009</td>\n",
       "      <td>-0.029559</td>\n",
       "      <td>-0.210181</td>\n",
       "      <td>0.029040</td>\n",
       "      <td>-0.201044</td>\n",
       "    </tr>\n",
       "  </tbody>\n",
       "</table>\n",
       "<p>130 rows × 6 columns</p>\n",
       "</div>"
      ],
      "text/plain": [
       "          Date  Microsoft        GE     Intel        GM      CSCO\n",
       "0   1990-03-30   0.121519  0.040486  0.037267  0.022284  0.010753\n",
       "1   1990-04-30   0.047404 -0.003891 -0.053892 -0.035422  0.010638\n",
       "2   1990-05-31   0.258621  0.083516  0.221519  0.115819  0.042105\n",
       "3   1990-06-29   0.041096  0.005445 -0.025907 -0.020566  0.070707\n",
       "4   1990-07-31  -0.125000  0.034296 -0.053191 -0.020997 -0.037736\n",
       "..         ...        ...       ...       ...       ...       ...\n",
       "125 2000-08-31   0.000000  0.140948  0.121948  0.276619  0.048711\n",
       "126 2000-09-29  -0.136079 -0.014711 -0.444908 -0.099567 -0.194900\n",
       "127 2000-10-31   0.141969 -0.049837  0.082707 -0.044231 -0.024887\n",
       "128 2000-11-30  -0.166969 -0.095781 -0.153722 -0.195171 -0.111369\n",
       "129 2000-12-29  -0.244009 -0.029559 -0.210181  0.029040 -0.201044\n",
       "\n",
       "[130 rows x 6 columns]"
      ]
     },
     "execution_count": 49,
     "metadata": {},
     "output_type": "execute_result"
    }
   ],
   "source": [
    "stocks"
   ]
  },
  {
   "cell_type": "code",
   "execution_count": 58,
   "metadata": {},
   "outputs": [
    {
     "data": {
      "image/png": "[encoded data removed]",
      "text/plain": [
       "<Figure size 432x288 with 1 Axes>"
      ]
     },
     "metadata": {
      "needs_background": "light"
     },
     "output_type": "display_data"
    }
   ],
   "source": [
    "plt.hist(stocks[\"GE\"], color='limegreen', alpha=0.5, \n",
    "         edgecolor=\"black\", bins=10) \n",
    "plt.hist(stocks[\"Intel\"], color='indianred', alpha=0.5, \n",
    "         edgecolor=\"black\", bins=20)\n",
    "plt.legend([\"GE\", 'Intel']);"
   ]
  },
  {
   "cell_type": "markdown",
   "metadata": {},
   "source": [
    "В файле Deming.xlsx содержатся измерения диаметра (в дюймах) для 500 стержней, произведенных компанией Rodco, согласно отчету руководителя производства. Допустимый размер диаметра стержня составляет не менее 1дюйма. Раньше диаметрам стержней, производимых компанией Rodco, соответствовала симметричная гистограмма.\n",
    "- Постройте гистограмму для этих измерений.\n",
    "- Прокомментируйте любые необычные аспекты этой гистограммы.\n",
    "Можно ли догадаться, что вызвало необычный вид гистограммы? (Подсказка: один из 14 принципов управления качеством Эдварда Деминга гласит: \"Искорените страх\".)"
   ]
  },
  {
   "cell_type": "code",
   "execution_count": 62,
   "metadata": {},
   "outputs": [],
   "source": [
    "deming = pd.read_excel('~/Study/excel/Ch41/Practice Files/Deming.xlsx',\n",
    "                       usecols=[1], names=['diameter'])"
   ]
  },
  {
   "cell_type": "code",
   "execution_count": 64,
   "metadata": {},
   "outputs": [
    {
     "data": {
      "text/html": [
       "<div>\n",
       "<style scoped>\n",
       "    .dataframe tbody tr th:only-of-type {\n",
       "        vertical-align: middle;\n",
       "    }\n",
       "\n",
       "    .dataframe tbody tr th {\n",
       "        vertical-align: top;\n",
       "    }\n",
       "\n",
       "    .dataframe thead th {\n",
       "        text-align: right;\n",
       "    }\n",
       "</style>\n",
       "<table border=\"1\" class=\"dataframe\">\n",
       "  <thead>\n",
       "    <tr style=\"text-align: right;\">\n",
       "      <th></th>\n",
       "      <th>diameter</th>\n",
       "    </tr>\n",
       "  </thead>\n",
       "  <tbody>\n",
       "    <tr>\n",
       "      <th>0</th>\n",
       "      <td>1.005872</td>\n",
       "    </tr>\n",
       "    <tr>\n",
       "      <th>1</th>\n",
       "      <td>1.004461</td>\n",
       "    </tr>\n",
       "    <tr>\n",
       "      <th>2</th>\n",
       "      <td>1.011128</td>\n",
       "    </tr>\n",
       "    <tr>\n",
       "      <th>3</th>\n",
       "      <td>1.012668</td>\n",
       "    </tr>\n",
       "    <tr>\n",
       "      <th>4</th>\n",
       "      <td>1.018356</td>\n",
       "    </tr>\n",
       "  </tbody>\n",
       "</table>\n",
       "</div>"
      ],
      "text/plain": [
       "   diameter\n",
       "0  1.005872\n",
       "1  1.004461\n",
       "2  1.011128\n",
       "3  1.012668\n",
       "4  1.018356"
      ]
     },
     "execution_count": 64,
     "metadata": {},
     "output_type": "execute_result"
    }
   ],
   "source": [
    "deming.head()"
   ]
  },
  {
   "cell_type": "markdown",
   "metadata": {},
   "source": [
    "Правило Стёрджеса — эмпирическое правило определения оптимального количества интервалов, на которые разбивается наблюдаемый диапазон изменения случайной величины при построении гистограммы плотности её распределения. \n",
    "\n",
    "$${\\displaystyle n=1+\\lfloor \\log _{2}N\\rfloor }$$"
   ]
  },
  {
   "cell_type": "code",
   "execution_count": 94,
   "metadata": {},
   "outputs": [],
   "source": [
    "n = 1 + int(3.321 * np.log10(len(deming))) # Формула Стерджеса через десятичный логарифм"
   ]
  },
  {
   "cell_type": "code",
   "execution_count": 9,
   "metadata": {},
   "outputs": [],
   "source": [
    "get_nbins = lambda x: 1 + int(3.321 * np.log10(len(x)))"
   ]
  },
  {
   "cell_type": "code",
   "execution_count": 95,
   "metadata": {},
   "outputs": [
    {
     "data": {
      "image/png": "[encoded data removed]",
      "text/plain": [
       "<Figure size 432x288 with 1 Axes>"
      ]
     },
     "metadata": {
      "needs_background": "light"
     },
     "output_type": "display_data"
    }
   ],
   "source": [
    "deming.diameter.hist(bins=n, color='limegreen', alpha=0.5, edgecolor='black');"
   ]
  },
  {
   "cell_type": "markdown",
   "metadata": {},
   "source": [
    "В файле Unemployment.xlsx file находятся данные об уровне безработицы в США. Создайте на их основе гистограмму. Гистограмма уровня безработицы симметричная или асимметричная?"
   ]
  },
  {
   "cell_type": "code",
   "execution_count": 98,
   "metadata": {},
   "outputs": [],
   "source": [
    "unemployment = pd.read_excel('~/Study/excel/Ch41/Practice Files/Unemployment.xlsx',\n",
    "                             skiprows=3, usecols=range(2,6))"
   ]
  },
  {
   "cell_type": "code",
   "execution_count": 100,
   "metadata": {},
   "outputs": [
    {
     "data": {
      "text/html": [
       "<div>\n",
       "<style scoped>\n",
       "    .dataframe tbody tr th:only-of-type {\n",
       "        vertical-align: middle;\n",
       "    }\n",
       "\n",
       "    .dataframe tbody tr th {\n",
       "        vertical-align: top;\n",
       "    }\n",
       "\n",
       "    .dataframe thead th {\n",
       "        text-align: right;\n",
       "    }\n",
       "</style>\n",
       "<table border=\"1\" class=\"dataframe\">\n",
       "  <thead>\n",
       "    <tr style=\"text-align: right;\">\n",
       "      <th></th>\n",
       "      <th>Year</th>\n",
       "      <th>Month</th>\n",
       "      <th>Rate</th>\n",
       "    </tr>\n",
       "  </thead>\n",
       "  <tbody>\n",
       "    <tr>\n",
       "      <th>0</th>\n",
       "      <td>1948</td>\n",
       "      <td>1</td>\n",
       "      <td>3.4</td>\n",
       "    </tr>\n",
       "    <tr>\n",
       "      <th>1</th>\n",
       "      <td>1948</td>\n",
       "      <td>2</td>\n",
       "      <td>3.8</td>\n",
       "    </tr>\n",
       "    <tr>\n",
       "      <th>2</th>\n",
       "      <td>1948</td>\n",
       "      <td>3</td>\n",
       "      <td>4.0</td>\n",
       "    </tr>\n",
       "    <tr>\n",
       "      <th>3</th>\n",
       "      <td>1948</td>\n",
       "      <td>4</td>\n",
       "      <td>3.9</td>\n",
       "    </tr>\n",
       "    <tr>\n",
       "      <th>4</th>\n",
       "      <td>1948</td>\n",
       "      <td>5</td>\n",
       "      <td>3.5</td>\n",
       "    </tr>\n",
       "  </tbody>\n",
       "</table>\n",
       "</div>"
      ],
      "text/plain": [
       "   Year  Month  Rate\n",
       "0  1948      1   3.4\n",
       "1  1948      2   3.8\n",
       "2  1948      3   4.0\n",
       "3  1948      4   3.9\n",
       "4  1948      5   3.5"
      ]
     },
     "execution_count": 100,
     "metadata": {},
     "output_type": "execute_result"
    }
   ],
   "source": [
    "unemployment.head()"
   ]
  },
  {
   "cell_type": "code",
   "execution_count": 107,
   "metadata": {},
   "outputs": [],
   "source": [
    "get_nbins = lambda x: 1 + int(3.321 * np.log10(len(x)))\n",
    "n = get_nbins(unemployment)"
   ]
  },
  {
   "cell_type": "code",
   "execution_count": 102,
   "metadata": {},
   "outputs": [
    {
     "data": {
      "image/png": "[encoded data removed]",
      "text/plain": [
       "<Figure size 432x288 with 1 Axes>"
      ]
     },
     "metadata": {
      "needs_background": "light"
     },
     "output_type": "display_data"
    }
   ],
   "source": [
    "unemployment.Rate.hist(bins=n, color='indianred', alpha=0.5, edgecolor='black');"
   ]
  },
  {
   "cell_type": "code",
   "execution_count": 121,
   "metadata": {},
   "outputs": [
    {
     "data": {
      "text/plain": [
       "0.5854259517217653"
      ]
     },
     "execution_count": 121,
     "metadata": {},
     "output_type": "execute_result"
    }
   ],
   "source": [
    "stats.skew(unemployment.Rate) # небольшая положительная асимметрия"
   ]
  },
  {
   "cell_type": "markdown",
   "metadata": {},
   "source": [
    "В файле Teams.xlsx содержатся данные о засчитанных пробежках в высшей баскетбольной лиге за сезон. Создайте на их основе гистограмму. Гистограмма, представляющая засчитанные пробежки, симметричная или асимметричная?"
   ]
  },
  {
   "cell_type": "code",
   "execution_count": 103,
   "metadata": {},
   "outputs": [],
   "source": [
    "teams = pd.read_excel('~/Study/excel/Ch41/Practice Files/teams.xlsx',\n",
    "                             skiprows=3, usecols=range(2,5))"
   ]
  },
  {
   "cell_type": "code",
   "execution_count": 105,
   "metadata": {},
   "outputs": [
    {
     "data": {
      "text/html": [
       "<div>\n",
       "<style scoped>\n",
       "    .dataframe tbody tr th:only-of-type {\n",
       "        vertical-align: middle;\n",
       "    }\n",
       "\n",
       "    .dataframe tbody tr th {\n",
       "        vertical-align: top;\n",
       "    }\n",
       "\n",
       "    .dataframe thead th {\n",
       "        text-align: right;\n",
       "    }\n",
       "</style>\n",
       "<table border=\"1\" class=\"dataframe\">\n",
       "  <thead>\n",
       "    <tr style=\"text-align: right;\">\n",
       "      <th></th>\n",
       "      <th>Year</th>\n",
       "      <th>Runs</th>\n",
       "    </tr>\n",
       "  </thead>\n",
       "  <tbody>\n",
       "    <tr>\n",
       "      <th>0</th>\n",
       "      <td>2000</td>\n",
       "      <td>864</td>\n",
       "    </tr>\n",
       "    <tr>\n",
       "      <th>1</th>\n",
       "      <td>2000</td>\n",
       "      <td>794</td>\n",
       "    </tr>\n",
       "    <tr>\n",
       "      <th>2</th>\n",
       "      <td>2000</td>\n",
       "      <td>792</td>\n",
       "    </tr>\n",
       "    <tr>\n",
       "      <th>3</th>\n",
       "      <td>2000</td>\n",
       "      <td>978</td>\n",
       "    </tr>\n",
       "    <tr>\n",
       "      <th>4</th>\n",
       "      <td>2000</td>\n",
       "      <td>950</td>\n",
       "    </tr>\n",
       "  </tbody>\n",
       "</table>\n",
       "</div>"
      ],
      "text/plain": [
       "   Year  Runs\n",
       "0  2000   864\n",
       "1  2000   794\n",
       "2  2000   792\n",
       "3  2000   978\n",
       "4  2000   950"
      ]
     },
     "execution_count": 105,
     "metadata": {},
     "output_type": "execute_result"
    }
   ],
   "source": [
    "teams.head()"
   ]
  },
  {
   "cell_type": "markdown",
   "metadata": {},
   "source": [
    "Цвета для графиков https://www.colorhexa.com/add8e6"
   ]
  },
  {
   "cell_type": "code",
   "execution_count": 111,
   "metadata": {},
   "outputs": [
    {
     "data": {
      "image/png": "[encoded data removed]",
      "text/plain": [
       "<Figure size 432x288 with 1 Axes>"
      ]
     },
     "metadata": {
      "needs_background": "light"
     },
     "output_type": "display_data"
    }
   ],
   "source": [
    "n = get_nbins(teams)\n",
    "teams.Runs.hist(bins=n, color='#72bcd4', alpha=0.5, edgecolor='black');"
   ]
  },
  {
   "cell_type": "code",
   "execution_count": 117,
   "metadata": {},
   "outputs": [],
   "source": [
    "import scipy.stats as stats"
   ]
  },
  {
   "cell_type": "code",
   "execution_count": 119,
   "metadata": {},
   "outputs": [
    {
     "data": {
      "text/plain": [
       "0.17261131893063947"
      ]
     },
     "execution_count": 119,
     "metadata": {},
     "output_type": "execute_result"
    }
   ],
   "source": [
    "stats.skew(teams.Runs) # асимметрия отсутствует"
   ]
  },
  {
   "cell_type": "markdown",
   "metadata": {},
   "source": [
    "В файле NFLpoints.xlsx содержатся данные об очках, заработанных командами Национальной футбольной лиги за сезон. Создайте на их основе гистограмму. Гистограмма, представляющая заработанные очки, симметричная или асимметричная?"
   ]
  },
  {
   "cell_type": "code",
   "execution_count": 112,
   "metadata": {},
   "outputs": [],
   "source": [
    "NFLpoints = pd.read_excel('~/Study/excel/Ch41/Practice Files/NFLpoints.xlsx',\n",
    "                             skiprows=4, usecols=range(2,5))"
   ]
  },
  {
   "cell_type": "code",
   "execution_count": 115,
   "metadata": {},
   "outputs": [
    {
     "data": {
      "text/html": [
       "<div>\n",
       "<style scoped>\n",
       "    .dataframe tbody tr th:only-of-type {\n",
       "        vertical-align: middle;\n",
       "    }\n",
       "\n",
       "    .dataframe tbody tr th {\n",
       "        vertical-align: top;\n",
       "    }\n",
       "\n",
       "    .dataframe thead th {\n",
       "        text-align: right;\n",
       "    }\n",
       "</style>\n",
       "<table border=\"1\" class=\"dataframe\">\n",
       "  <thead>\n",
       "    <tr style=\"text-align: right;\">\n",
       "      <th></th>\n",
       "      <th>Rk</th>\n",
       "      <th>Tm</th>\n",
       "      <th>Pts</th>\n",
       "    </tr>\n",
       "  </thead>\n",
       "  <tbody>\n",
       "    <tr>\n",
       "      <th>0</th>\n",
       "      <td>2003</td>\n",
       "      <td>Kansas City Chiefs</td>\n",
       "      <td>484</td>\n",
       "    </tr>\n",
       "    <tr>\n",
       "      <th>1</th>\n",
       "      <td>2003</td>\n",
       "      <td>Indianapolis Colts</td>\n",
       "      <td>447</td>\n",
       "    </tr>\n",
       "    <tr>\n",
       "      <th>2</th>\n",
       "      <td>2003</td>\n",
       "      <td>St. Louis Rams</td>\n",
       "      <td>447</td>\n",
       "    </tr>\n",
       "    <tr>\n",
       "      <th>3</th>\n",
       "      <td>2003</td>\n",
       "      <td>Green Bay Packers</td>\n",
       "      <td>442</td>\n",
       "    </tr>\n",
       "    <tr>\n",
       "      <th>4</th>\n",
       "      <td>2003</td>\n",
       "      <td>Tennessee Titans</td>\n",
       "      <td>435</td>\n",
       "    </tr>\n",
       "  </tbody>\n",
       "</table>\n",
       "</div>"
      ],
      "text/plain": [
       "     Rk                  Tm  Pts\n",
       "0  2003  Kansas City Chiefs  484\n",
       "1  2003  Indianapolis Colts  447\n",
       "2  2003      St. Louis Rams  447\n",
       "3  2003   Green Bay Packers  442\n",
       "4  2003    Tennessee Titans  435"
      ]
     },
     "execution_count": 115,
     "metadata": {},
     "output_type": "execute_result"
    }
   ],
   "source": [
    "NFLpoints.head()"
   ]
  },
  {
   "cell_type": "code",
   "execution_count": 116,
   "metadata": {},
   "outputs": [
    {
     "data": {
      "image/png": "[encoded data removed]",
      "text/plain": [
       "<Figure size 432x288 with 1 Axes>"
      ]
     },
     "metadata": {
      "needs_background": "light"
     },
     "output_type": "display_data"
    }
   ],
   "source": [
    "n = get_nbins(NFLpoints)\n",
    "NFLpoints.Pts.hist(bins=n, color='#d472bc', alpha=0.5, edgecolor='black');"
   ]
  },
  {
   "cell_type": "code",
   "execution_count": 120,
   "metadata": {},
   "outputs": [
    {
     "data": {
      "text/plain": [
       "0.4280836273050147"
      ]
     },
     "execution_count": 120,
     "metadata": {},
     "output_type": "execute_result"
    }
   ],
   "source": [
    "stats.skew(NFLpoints.Pts) # асимметрия со смещением вправо"
   ]
  },
  {
   "cell_type": "markdown",
   "metadata": {},
   "source": [
    "Получите описательную статистику для данных о доходности акций Intel и GE в файле Stock.xlsx."
   ]
  },
  {
   "cell_type": "code",
   "execution_count": 4,
   "metadata": {},
   "outputs": [
    {
     "data": {
      "text/html": [
       "<div>\n",
       "<style scoped>\n",
       "    .dataframe tbody tr th:only-of-type {\n",
       "        vertical-align: middle;\n",
       "    }\n",
       "\n",
       "    .dataframe tbody tr th {\n",
       "        vertical-align: top;\n",
       "    }\n",
       "\n",
       "    .dataframe thead th {\n",
       "        text-align: right;\n",
       "    }\n",
       "</style>\n",
       "<table border=\"1\" class=\"dataframe\">\n",
       "  <thead>\n",
       "    <tr style=\"text-align: right;\">\n",
       "      <th></th>\n",
       "      <th>Intel</th>\n",
       "      <th>GE</th>\n",
       "    </tr>\n",
       "  </thead>\n",
       "  <tbody>\n",
       "    <tr>\n",
       "      <th>count</th>\n",
       "      <td>130.000000</td>\n",
       "      <td>130.000000</td>\n",
       "    </tr>\n",
       "    <tr>\n",
       "      <th>mean</th>\n",
       "      <td>0.032085</td>\n",
       "      <td>0.021175</td>\n",
       "    </tr>\n",
       "    <tr>\n",
       "      <th>std</th>\n",
       "      <td>0.118607</td>\n",
       "      <td>0.063657</td>\n",
       "    </tr>\n",
       "    <tr>\n",
       "      <th>min</th>\n",
       "      <td>-0.444908</td>\n",
       "      <td>-0.136511</td>\n",
       "    </tr>\n",
       "    <tr>\n",
       "      <th>25%</th>\n",
       "      <td>-0.031078</td>\n",
       "      <td>-0.020504</td>\n",
       "    </tr>\n",
       "    <tr>\n",
       "      <th>50%</th>\n",
       "      <td>0.027711</td>\n",
       "      <td>0.012955</td>\n",
       "    </tr>\n",
       "    <tr>\n",
       "      <th>75%</th>\n",
       "      <td>0.118150</td>\n",
       "      <td>0.064851</td>\n",
       "    </tr>\n",
       "    <tr>\n",
       "      <th>max</th>\n",
       "      <td>0.295267</td>\n",
       "      <td>0.192392</td>\n",
       "    </tr>\n",
       "  </tbody>\n",
       "</table>\n",
       "</div>"
      ],
      "text/plain": [
       "            Intel          GE\n",
       "count  130.000000  130.000000\n",
       "mean     0.032085    0.021175\n",
       "std      0.118607    0.063657\n",
       "min     -0.444908   -0.136511\n",
       "25%     -0.031078   -0.020504\n",
       "50%      0.027711    0.012955\n",
       "75%      0.118150    0.064851\n",
       "max      0.295267    0.192392"
      ]
     },
     "execution_count": 4,
     "metadata": {},
     "output_type": "execute_result"
    }
   ],
   "source": [
    "stocks[['Intel', 'GE']].describe()"
   ]
  },
  {
   "cell_type": "markdown",
   "metadata": {},
   "source": [
    "Компания City Power&Light производит оборудование для регулировки напряжения в Нью-Йорке и отправляет его в Чикаго. Регулятор напряжения считается годным, если он поддерживает напряжение от 25 до 75 вольт. Напряжение, поддерживаемое каждым устройством, измеряется в Нью-Йорке перед отправкой. После доставки оборудования в Чикаго напряжение измеряется снова. Результаты замеров напряжения в каждом городе приведены в файле Citypower.xlsx.\n",
    "- С помощью описательной статистики прокомментируйте то, что вы узнали о поддерживаемом регуляторами напряжении до и после доставки.\n",
    "- Каков процент годных устройств до и после доставки?\n",
    "- Выскажите предложения по повышению качества регуляторов напряжения, производимых компанией City Power&Light.\n",
    "- Какое значение напряжения было превышено десятью процентами регуляторов при измерении в Нью-Йорке?\n",
    "- Какое значение напряжения не было превышено пятью процентами регуляторов при измерении в Нью-Йорке?"
   ]
  },
  {
   "cell_type": "code",
   "execution_count": 5,
   "metadata": {},
   "outputs": [],
   "source": [
    "power = pd.read_excel('~/Study/excel/Ch42/Practice Files/Citypower.xlsx', skiprows=2, usecols=range(1,3))"
   ]
  },
  {
   "cell_type": "code",
   "execution_count": 7,
   "metadata": {},
   "outputs": [
    {
     "data": {
      "text/html": [
       "<div>\n",
       "<style scoped>\n",
       "    .dataframe tbody tr th:only-of-type {\n",
       "        vertical-align: middle;\n",
       "    }\n",
       "\n",
       "    .dataframe tbody tr th {\n",
       "        vertical-align: top;\n",
       "    }\n",
       "\n",
       "    .dataframe thead th {\n",
       "        text-align: right;\n",
       "    }\n",
       "</style>\n",
       "<table border=\"1\" class=\"dataframe\">\n",
       "  <thead>\n",
       "    <tr style=\"text-align: right;\">\n",
       "      <th></th>\n",
       "      <th>NY</th>\n",
       "      <th>CHICAGO</th>\n",
       "    </tr>\n",
       "  </thead>\n",
       "  <tbody>\n",
       "    <tr>\n",
       "      <th>count</th>\n",
       "      <td>217.000000</td>\n",
       "      <td>217.000000</td>\n",
       "    </tr>\n",
       "    <tr>\n",
       "      <th>mean</th>\n",
       "      <td>50.179493</td>\n",
       "      <td>28.826590</td>\n",
       "    </tr>\n",
       "    <tr>\n",
       "      <th>std</th>\n",
       "      <td>8.051620</td>\n",
       "      <td>17.358888</td>\n",
       "    </tr>\n",
       "    <tr>\n",
       "      <th>min</th>\n",
       "      <td>30.050000</td>\n",
       "      <td>0.910000</td>\n",
       "    </tr>\n",
       "    <tr>\n",
       "      <th>25%</th>\n",
       "      <td>45.500000</td>\n",
       "      <td>15.590000</td>\n",
       "    </tr>\n",
       "    <tr>\n",
       "      <th>50%</th>\n",
       "      <td>50.000000</td>\n",
       "      <td>26.490000</td>\n",
       "    </tr>\n",
       "    <tr>\n",
       "      <th>75%</th>\n",
       "      <td>55.500000</td>\n",
       "      <td>37.440000</td>\n",
       "    </tr>\n",
       "    <tr>\n",
       "      <th>max</th>\n",
       "      <td>71.090000</td>\n",
       "      <td>87.800000</td>\n",
       "    </tr>\n",
       "  </tbody>\n",
       "</table>\n",
       "</div>"
      ],
      "text/plain": [
       "               NY     CHICAGO\n",
       "count  217.000000  217.000000\n",
       "mean    50.179493   28.826590\n",
       "std      8.051620   17.358888\n",
       "min     30.050000    0.910000\n",
       "25%     45.500000   15.590000\n",
       "50%     50.000000   26.490000\n",
       "75%     55.500000   37.440000\n",
       "max     71.090000   87.800000"
      ]
     },
     "execution_count": 7,
     "metadata": {},
     "output_type": "execute_result"
    }
   ],
   "source": [
    "power.describe()"
   ]
  },
  {
   "cell_type": "code",
   "execution_count": 11,
   "metadata": {},
   "outputs": [
    {
     "data": {
      "image/png": "[encoded data removed]",
      "text/plain": [
       "<Figure size 432x288 with 1 Axes>"
      ]
     },
     "metadata": {
      "needs_background": "light"
     },
     "output_type": "display_data"
    }
   ],
   "source": [
    "power['CHICAGO'].hist(bins=get_nbins(power['CHICAGO']));"
   ]
  },
  {
   "cell_type": "code",
   "execution_count": 27,
   "metadata": {},
   "outputs": [
    {
     "data": {
      "text/plain": [
       "53.91705069124424"
      ]
     },
     "execution_count": 27,
     "metadata": {},
     "output_type": "execute_result"
    }
   ],
   "source": [
    "power['CHICAGO'].apply(lambda x: 25 <= x <= 75).sum() / len(power) * 100 # % исправных изделий"
   ]
  },
  {
   "cell_type": "code",
   "execution_count": 104,
   "metadata": {},
   "outputs": [
    {
     "data": {
      "text/plain": [
       "(61.02, 35.81)"
      ]
     },
     "execution_count": 104,
     "metadata": {},
     "output_type": "execute_result"
    }
   ],
   "source": [
    "# 90-й и 5-й процентили\n",
    "power['NY'].quantile(.9), power['NY'].quantile(.05)"
   ]
  },
  {
   "cell_type": "markdown",
   "metadata": {},
   "source": [
    "В файле Decadeincome.xlsx приведены примеры доходов (в тысячах долларов 1980 г.) для нескольких семей в 1980 и 1990 гг. Предположим, что эти семьи являются репрезентативными для США. Республиканцы утверждают, что в 1990 г. страна стала богаче, чем в 1980 г., поскольку средний доход семьи увеличился. Согласны ли вы с этим утверждением?"
   ]
  },
  {
   "cell_type": "code",
   "execution_count": 30,
   "metadata": {},
   "outputs": [],
   "source": [
    "incomes = pd.read_excel('~/Study/excel/Ch42/Practice Files/Decadeincome.xlsx', skiprows=1, usecols=range(1,3))"
   ]
  },
  {
   "cell_type": "code",
   "execution_count": 32,
   "metadata": {},
   "outputs": [
    {
     "data": {
      "text/html": [
       "<div>\n",
       "<style scoped>\n",
       "    .dataframe tbody tr th:only-of-type {\n",
       "        vertical-align: middle;\n",
       "    }\n",
       "\n",
       "    .dataframe tbody tr th {\n",
       "        vertical-align: top;\n",
       "    }\n",
       "\n",
       "    .dataframe thead th {\n",
       "        text-align: right;\n",
       "    }\n",
       "</style>\n",
       "<table border=\"1\" class=\"dataframe\">\n",
       "  <thead>\n",
       "    <tr style=\"text-align: right;\">\n",
       "      <th></th>\n",
       "      <th>Income 1980</th>\n",
       "      <th>Income 1990</th>\n",
       "    </tr>\n",
       "  </thead>\n",
       "  <tbody>\n",
       "    <tr>\n",
       "      <th>count</th>\n",
       "      <td>102.000000</td>\n",
       "      <td>102.000000</td>\n",
       "    </tr>\n",
       "    <tr>\n",
       "      <th>mean</th>\n",
       "      <td>46.666667</td>\n",
       "      <td>48.382353</td>\n",
       "    </tr>\n",
       "    <tr>\n",
       "      <th>std</th>\n",
       "      <td>38.178666</td>\n",
       "      <td>46.113086</td>\n",
       "    </tr>\n",
       "    <tr>\n",
       "      <th>min</th>\n",
       "      <td>1.000000</td>\n",
       "      <td>-3.000000</td>\n",
       "    </tr>\n",
       "    <tr>\n",
       "      <th>25%</th>\n",
       "      <td>17.750000</td>\n",
       "      <td>16.250000</td>\n",
       "    </tr>\n",
       "    <tr>\n",
       "      <th>50%</th>\n",
       "      <td>34.000000</td>\n",
       "      <td>32.500000</td>\n",
       "    </tr>\n",
       "    <tr>\n",
       "      <th>75%</th>\n",
       "      <td>70.750000</td>\n",
       "      <td>68.750000</td>\n",
       "    </tr>\n",
       "    <tr>\n",
       "      <th>max</th>\n",
       "      <td>165.000000</td>\n",
       "      <td>190.000000</td>\n",
       "    </tr>\n",
       "  </tbody>\n",
       "</table>\n",
       "</div>"
      ],
      "text/plain": [
       "       Income 1980  Income 1990\n",
       "count   102.000000   102.000000\n",
       "mean     46.666667    48.382353\n",
       "std      38.178666    46.113086\n",
       "min       1.000000    -3.000000\n",
       "25%      17.750000    16.250000\n",
       "50%      34.000000    32.500000\n",
       "75%      70.750000    68.750000\n",
       "max     165.000000   190.000000"
      ]
     },
     "execution_count": 32,
     "metadata": {},
     "output_type": "execute_result"
    }
   ],
   "source": [
    "incomes.describe() # средний доход увеличился, но медианный уменьшился"
   ]
  },
  {
   "cell_type": "markdown",
   "metadata": {},
   "source": [
    "С помощью описательной статистики сравните годовые доходы по акциям, казначейским векселям и корпоративным облигациям. Данные см.в файле Historicalinvest.xlsx."
   ]
  },
  {
   "cell_type": "code",
   "execution_count": 42,
   "metadata": {},
   "outputs": [],
   "source": [
    "invest = pd.read_excel('~/Study/excel/Ch42/Practice Files/Historicalinvest.xlsx', skiprows=6, usecols=range(4)) \\\n",
    "           .dropna()"
   ]
  },
  {
   "cell_type": "markdown",
   "metadata": {},
   "source": [
    "### Среднее геометрическое\n",
    "\n",
    "$$G(x_{1},x_{2},\\ldots ,x_{n})={\\sqrt[ {n}]{x_{1}x_{2}\\cdots x_{n}}}=\\left(\\prod _{{i=1}}^{n}x_{i}\\right)^{{1/n}}$$\n",
    "\n",
    "Для использования среднего геометрического при вычислении среднего годового дохода от инвестиций, необходимо добавить 1 к каждому годовому доходу и взять среднее геометрическое от получившихся в результате чисел. Затем вычесть 1 из результата и получить оценку среднего годового дохода по акции."
   ]
  },
  {
   "cell_type": "code",
   "execution_count": 102,
   "metadata": {},
   "outputs": [
    {
     "data": {
      "text/plain": [
       "Stocks     0.101489\n",
       "T.Bills    0.039142\n",
       "T.Bonds    0.049596\n",
       "dtype: float64"
      ]
     },
     "execution_count": 102,
     "metadata": {},
     "output_type": "execute_result"
    }
   ],
   "source": [
    "# среднее геометрическое доходностей\n",
    "invest.loc[:, ['Stocks', 'T.Bills', 'T.Bonds']].apply(lambda x: (x + 1).prod() ** (1 / len(x)) - 1)"
   ]
  },
  {
   "cell_type": "markdown",
   "metadata": {},
   "source": [
    "Сравните среднее, медиану и урезанное среднее (с урезанием 10% данных) для акций, казначейских векселей и корпоративных облигаций в файле Historicalinvest.xlsx."
   ]
  },
  {
   "cell_type": "code",
   "execution_count": 105,
   "metadata": {},
   "outputs": [],
   "source": [
    "from scipy import stats"
   ]
  },
  {
   "cell_type": "code",
   "execution_count": 107,
   "metadata": {},
   "outputs": [
    {
     "data": {
      "text/html": [
       "<div>\n",
       "<style scoped>\n",
       "    .dataframe tbody tr th:only-of-type {\n",
       "        vertical-align: middle;\n",
       "    }\n",
       "\n",
       "    .dataframe tbody tr th {\n",
       "        vertical-align: top;\n",
       "    }\n",
       "\n",
       "    .dataframe thead th {\n",
       "        text-align: right;\n",
       "    }\n",
       "</style>\n",
       "<table border=\"1\" class=\"dataframe\">\n",
       "  <thead>\n",
       "    <tr style=\"text-align: right;\">\n",
       "      <th></th>\n",
       "      <th>Stocks</th>\n",
       "      <th>T.Bills</th>\n",
       "      <th>T.Bonds</th>\n",
       "    </tr>\n",
       "  </thead>\n",
       "  <tbody>\n",
       "    <tr>\n",
       "      <th>mean</th>\n",
       "      <td>0.120526</td>\n",
       "      <td>0.039603</td>\n",
       "      <td>0.052149</td>\n",
       "    </tr>\n",
       "    <tr>\n",
       "      <th>median</th>\n",
       "      <td>0.142200</td>\n",
       "      <td>0.038400</td>\n",
       "      <td>0.036100</td>\n",
       "    </tr>\n",
       "    <tr>\n",
       "      <th>trim_mean</th>\n",
       "      <td>0.124928</td>\n",
       "      <td>0.036677</td>\n",
       "      <td>0.043966</td>\n",
       "    </tr>\n",
       "  </tbody>\n",
       "</table>\n",
       "</div>"
      ],
      "text/plain": [
       "             Stocks   T.Bills   T.Bonds\n",
       "mean       0.120526  0.039603  0.052149\n",
       "median     0.142200  0.038400  0.036100\n",
       "trim_mean  0.124928  0.036677  0.043966"
      ]
     },
     "execution_count": 107,
     "metadata": {},
     "output_type": "execute_result"
    }
   ],
   "source": [
    "invest[['Stocks', 'T.Bills', 'T.Bonds']].apply(lambda x: pd.Series([np.mean(x),\n",
    "                                                                    np.median(x),\n",
    "                                                                    stats.trim_mean(x, 0.1)],\n",
    "                                                                    ['mean', 'median', 'trim_mean']\n",
    "                                                                  ))"
   ]
  },
  {
   "cell_type": "markdown",
   "metadata": {},
   "source": [
    "В файле Dow.xlsx содержатся данные о ежемесячных доходах по 30 акциям крупнейших корпораций США за последние 20 лет. С помощью этих данных определите три акции с наибольшим средним ежемесячным доходом."
   ]
  },
  {
   "cell_type": "code",
   "execution_count": 110,
   "metadata": {},
   "outputs": [],
   "source": [
    "dow = pd.read_excel('~/Study/excel/Ch42/Practice Files/Dow.xlsx', skiprows=2).dropna()"
   ]
  },
  {
   "cell_type": "code",
   "execution_count": 112,
   "metadata": {},
   "outputs": [
    {
     "data": {
      "text/html": [
       "<div>\n",
       "<style scoped>\n",
       "    .dataframe tbody tr th:only-of-type {\n",
       "        vertical-align: middle;\n",
       "    }\n",
       "\n",
       "    .dataframe tbody tr th {\n",
       "        vertical-align: top;\n",
       "    }\n",
       "\n",
       "    .dataframe thead th {\n",
       "        text-align: right;\n",
       "    }\n",
       "</style>\n",
       "<table border=\"1\" class=\"dataframe\">\n",
       "  <thead>\n",
       "    <tr style=\"text-align: right;\">\n",
       "      <th></th>\n",
       "      <th>Date</th>\n",
       "      <th>AA</th>\n",
       "      <th>AIG</th>\n",
       "      <th>AXP</th>\n",
       "      <th>BA</th>\n",
       "      <th>C</th>\n",
       "      <th>CAT</th>\n",
       "      <th>DD</th>\n",
       "      <th>DIS</th>\n",
       "      <th>GE</th>\n",
       "      <th>...</th>\n",
       "      <th>MO</th>\n",
       "      <th>MRK</th>\n",
       "      <th>MSFT</th>\n",
       "      <th>PFE</th>\n",
       "      <th>PG</th>\n",
       "      <th>T</th>\n",
       "      <th>UTX</th>\n",
       "      <th>VZ</th>\n",
       "      <th>WMT</th>\n",
       "      <th>XOM</th>\n",
       "    </tr>\n",
       "  </thead>\n",
       "  <tbody>\n",
       "    <tr>\n",
       "      <th>1</th>\n",
       "      <td>1986-08-01</td>\n",
       "      <td>0.096296</td>\n",
       "      <td>0.050093</td>\n",
       "      <td>0.098028</td>\n",
       "      <td>0.029596</td>\n",
       "      <td>0.096273</td>\n",
       "      <td>0.117634</td>\n",
       "      <td>0.083816</td>\n",
       "      <td>-0.056842</td>\n",
       "      <td>0.076986</td>\n",
       "      <td>...</td>\n",
       "      <td>0.055556</td>\n",
       "      <td>0.085634</td>\n",
       "      <td>0.000000</td>\n",
       "      <td>0.018727</td>\n",
       "      <td>0.033993</td>\n",
       "      <td>0.108804</td>\n",
       "      <td>0.115487</td>\n",
       "      <td>0.027211</td>\n",
       "      <td>0.010753</td>\n",
       "      <td>0.133663</td>\n",
       "    </tr>\n",
       "    <tr>\n",
       "      <th>2</th>\n",
       "      <td>1986-09-02</td>\n",
       "      <td>0.000000</td>\n",
       "      <td>-0.128975</td>\n",
       "      <td>-0.140898</td>\n",
       "      <td>-0.123193</td>\n",
       "      <td>-0.075127</td>\n",
       "      <td>-0.240577</td>\n",
       "      <td>-0.027316</td>\n",
       "      <td>-0.134341</td>\n",
       "      <td>-0.085856</td>\n",
       "      <td>...</td>\n",
       "      <td>-0.128289</td>\n",
       "      <td>-0.148071</td>\n",
       "      <td>-0.008772</td>\n",
       "      <td>-0.147059</td>\n",
       "      <td>-0.153125</td>\n",
       "      <td>-0.085182</td>\n",
       "      <td>-0.079119</td>\n",
       "      <td>-0.147417</td>\n",
       "      <td>-0.106383</td>\n",
       "      <td>-0.023523</td>\n",
       "    </tr>\n",
       "    <tr>\n",
       "      <th>3</th>\n",
       "      <td>1986-10-01</td>\n",
       "      <td>-0.016757</td>\n",
       "      <td>-0.008114</td>\n",
       "      <td>0.042380</td>\n",
       "      <td>-0.009367</td>\n",
       "      <td>0.073511</td>\n",
       "      <td>0.052798</td>\n",
       "      <td>0.073390</td>\n",
       "      <td>0.110886</td>\n",
       "      <td>0.060943</td>\n",
       "      <td>...</td>\n",
       "      <td>0.109434</td>\n",
       "      <td>0.102741</td>\n",
       "      <td>0.371681</td>\n",
       "      <td>0.030172</td>\n",
       "      <td>0.107011</td>\n",
       "      <td>0.011792</td>\n",
       "      <td>0.014911</td>\n",
       "      <td>0.038838</td>\n",
       "      <td>0.068571</td>\n",
       "      <td>0.011152</td>\n",
       "    </tr>\n",
       "    <tr>\n",
       "      <th>4</th>\n",
       "      <td>1986-11-03</td>\n",
       "      <td>-0.048103</td>\n",
       "      <td>-0.509202</td>\n",
       "      <td>-0.019215</td>\n",
       "      <td>-0.035552</td>\n",
       "      <td>-0.031386</td>\n",
       "      <td>-0.006269</td>\n",
       "      <td>0.039186</td>\n",
       "      <td>-0.017092</td>\n",
       "      <td>0.088525</td>\n",
       "      <td>...</td>\n",
       "      <td>0.010204</td>\n",
       "      <td>0.017308</td>\n",
       "      <td>0.283871</td>\n",
       "      <td>0.020921</td>\n",
       "      <td>0.036667</td>\n",
       "      <td>0.043077</td>\n",
       "      <td>0.040812</td>\n",
       "      <td>0.033647</td>\n",
       "      <td>0.061275</td>\n",
       "      <td>0.018382</td>\n",
       "    </tr>\n",
       "    <tr>\n",
       "      <th>5</th>\n",
       "      <td>1986-12-01</td>\n",
       "      <td>-0.021658</td>\n",
       "      <td>0.018833</td>\n",
       "      <td>-0.009370</td>\n",
       "      <td>0.002549</td>\n",
       "      <td>-0.008837</td>\n",
       "      <td>0.012617</td>\n",
       "      <td>-0.060087</td>\n",
       "      <td>0.000000</td>\n",
       "      <td>0.036145</td>\n",
       "      <td>...</td>\n",
       "      <td>-0.032054</td>\n",
       "      <td>0.120995</td>\n",
       "      <td>-0.030151</td>\n",
       "      <td>0.000000</td>\n",
       "      <td>-0.017749</td>\n",
       "      <td>0.003397</td>\n",
       "      <td>0.030697</td>\n",
       "      <td>-0.023438</td>\n",
       "      <td>-0.023725</td>\n",
       "      <td>0.012563</td>\n",
       "    </tr>\n",
       "  </tbody>\n",
       "</table>\n",
       "<p>5 rows × 31 columns</p>\n",
       "</div>"
      ],
      "text/plain": [
       "        Date        AA       AIG       AXP        BA         C       CAT  \\\n",
       "1 1986-08-01  0.096296  0.050093  0.098028  0.029596  0.096273  0.117634   \n",
       "2 1986-09-02  0.000000 -0.128975 -0.140898 -0.123193 -0.075127 -0.240577   \n",
       "3 1986-10-01 -0.016757 -0.008114  0.042380 -0.009367  0.073511  0.052798   \n",
       "4 1986-11-03 -0.048103 -0.509202 -0.019215 -0.035552 -0.031386 -0.006269   \n",
       "5 1986-12-01 -0.021658  0.018833 -0.009370  0.002549 -0.008837  0.012617   \n",
       "\n",
       "         DD       DIS        GE  ...        MO       MRK      MSFT       PFE  \\\n",
       "1  0.083816 -0.056842  0.076986  ...  0.055556  0.085634  0.000000  0.018727   \n",
       "2 -0.027316 -0.134341 -0.085856  ... -0.128289 -0.148071 -0.008772 -0.147059   \n",
       "3  0.073390  0.110886  0.060943  ...  0.109434  0.102741  0.371681  0.030172   \n",
       "4  0.039186 -0.017092  0.088525  ...  0.010204  0.017308  0.283871  0.020921   \n",
       "5 -0.060087  0.000000  0.036145  ... -0.032054  0.120995 -0.030151  0.000000   \n",
       "\n",
       "         PG         T       UTX        VZ       WMT       XOM  \n",
       "1  0.033993  0.108804  0.115487  0.027211  0.010753  0.133663  \n",
       "2 -0.153125 -0.085182 -0.079119 -0.147417 -0.106383 -0.023523  \n",
       "3  0.107011  0.011792  0.014911  0.038838  0.068571  0.011152  \n",
       "4  0.036667  0.043077  0.040812  0.033647  0.061275  0.018382  \n",
       "5 -0.017749  0.003397  0.030697 -0.023438 -0.023725  0.012563  \n",
       "\n",
       "[5 rows x 31 columns]"
      ]
     },
     "execution_count": 112,
     "metadata": {},
     "output_type": "execute_result"
    }
   ],
   "source": [
    "dow.head()"
   ]
  },
  {
   "cell_type": "code",
   "execution_count": 122,
   "metadata": {},
   "outputs": [
    {
     "data": {
      "text/plain": [
       "INTC    1.0\n",
       "MSFT    2.0\n",
       "HD      3.0\n",
       "dtype: float64"
      ]
     },
     "execution_count": 122,
     "metadata": {},
     "output_type": "execute_result"
    }
   ],
   "source": [
    "dow.mean(axis=0).rank(ascending=False).nsmallest(3)"
   ]
  },
  {
   "cell_type": "markdown",
   "metadata": {},
   "source": [
    "Для данных в файле Dow.xlsx определите три акции с самым высоким риском или изменчивостью."
   ]
  },
  {
   "cell_type": "code",
   "execution_count": 123,
   "metadata": {},
   "outputs": [
    {
     "data": {
      "text/plain": [
       "INTC    1.0\n",
       "MSFT    2.0\n",
       "HPQ     3.0\n",
       "dtype: float64"
      ]
     },
     "execution_count": 123,
     "metadata": {},
     "output_type": "execute_result"
    }
   ],
   "source": [
    "dow.std(axis=0).rank(ascending=False).nsmallest(3)"
   ]
  },
  {
   "cell_type": "markdown",
   "metadata": {},
   "source": [
    "Для данных в файле Dow.xlsx определите три акции с самой большой асимметрией."
   ]
  },
  {
   "cell_type": "code",
   "execution_count": 131,
   "metadata": {},
   "outputs": [
    {
     "data": {
      "text/plain": [
       "IBM    1.0\n",
       "GM     2.0\n",
       "JPM    3.0\n",
       "dtype: float64"
      ]
     },
     "execution_count": 131,
     "metadata": {},
     "output_type": "execute_result"
    }
   ],
   "source": [
    "dow.drop(['Date'], axis=1).apply(stats.skew).abs().rank().nsmallest(3)"
   ]
  },
  {
   "cell_type": "markdown",
   "metadata": {},
   "source": [
    "Для данных в файле Dow.xlsx определите, насколько урезанные средние доходы (с урезанием 10% доходов) отличаются от общих средних доходов?"
   ]
  },
  {
   "cell_type": "code",
   "execution_count": 140,
   "metadata": {},
   "outputs": [
    {
     "data": {
      "text/plain": [
       "AA      0.003507\n",
       "AIG     0.006971\n",
       "AXP     0.008306\n",
       "BA      0.006359\n",
       "C       0.004482\n",
       "CAT     0.005175\n",
       "DD      0.003233\n",
       "DIS     0.005281\n",
       "GE      0.007143\n",
       "GM      0.002151\n",
       "HD      0.007105\n",
       "HON     0.004748\n",
       "HPQ     0.003222\n",
       "IBM     0.000126\n",
       "INTC    0.008890\n",
       "JNJ     0.006722\n",
       "JPM     0.003010\n",
       "KO      0.005964\n",
       "MCD     0.007185\n",
       "MMM     0.005028\n",
       "MO      0.006778\n",
       "MRK     0.006095\n",
       "MSFT    0.004540\n",
       "PFE     0.007099\n",
       "PG      0.008708\n",
       "T       0.004690\n",
       "UTX     0.008691\n",
       "VZ      0.001676\n",
       "WMT     0.006689\n",
       "XOM     0.004050\n",
       "dtype: float64"
      ]
     },
     "execution_count": 140,
     "metadata": {},
     "output_type": "execute_result"
    }
   ],
   "source": [
    "dow.drop(['Date'], axis=1).apply(lambda x: stats.trim_mean(x, 0.1) - np.mean(x))"
   ]
  }
 ],
 "metadata": {
  "kernelspec": {
   "display_name": "Python 3",
   "language": "python",
   "name": "python3"
  },
  "language_info": {
   "codemirror_mode": {
    "name": "ipython",
    "version": 3
   },
   "file_extension": ".py",
   "mimetype": "text/x-python",
   "name": "python",
   "nbconvert_exporter": "python",
   "pygments_lexer": "ipython3",
   "version": "3.8.3"
  }
 },
 "nbformat": 4,
 "nbformat_minor": 4
}
