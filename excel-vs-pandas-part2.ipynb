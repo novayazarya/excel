{
 "cells": [
  {
   "cell_type": "code",
   "execution_count": 1,
   "metadata": {},
   "outputs": [],
   "source": [
    "import pandas as pd\n",
    "import numpy as np\n",
    "import matplotlib.pyplot as plt"
   ]
  },
  {
   "cell_type": "markdown",
   "metadata": {},
   "source": [
    "В файле Singers.xlsx находится список песен в исполнении различных певцов, а также продолжительность звучания каждой песни. Вычислите общее количество песен в исполнении Эминема и среднюю продолжительность звучания его песен. При добавлении новых данных все формулы должны обновляться автоматически."
   ]
  },
  {
   "cell_type": "code",
   "execution_count": 7,
   "metadata": {},
   "outputs": [],
   "source": [
    "singers = pd.read_excel('~/Study/excel/Ch25/Practice Files/Singers.xlsx',\n",
    "                        skiprows=3, usecols=range(5,7), names=['singer', 'play'])"
   ]
  },
  {
   "cell_type": "code",
   "execution_count": 14,
   "metadata": {},
   "outputs": [
    {
     "data": {
      "text/html": [
       "<div>\n",
       "<style scoped>\n",
       "    .dataframe tbody tr th:only-of-type {\n",
       "        vertical-align: middle;\n",
       "    }\n",
       "\n",
       "    .dataframe tbody tr th {\n",
       "        vertical-align: top;\n",
       "    }\n",
       "\n",
       "    .dataframe thead th {\n",
       "        text-align: right;\n",
       "    }\n",
       "</style>\n",
       "<table border=\"1\" class=\"dataframe\">\n",
       "  <thead>\n",
       "    <tr style=\"text-align: right;\">\n",
       "      <th></th>\n",
       "      <th>singer</th>\n",
       "      <th>play</th>\n",
       "    </tr>\n",
       "  </thead>\n",
       "  <tbody>\n",
       "    <tr>\n",
       "      <th>0</th>\n",
       "      <td>Eminem</td>\n",
       "      <td>2</td>\n",
       "    </tr>\n",
       "    <tr>\n",
       "      <th>1</th>\n",
       "      <td>Eminem</td>\n",
       "      <td>5</td>\n",
       "    </tr>\n",
       "    <tr>\n",
       "      <th>2</th>\n",
       "      <td>Cher</td>\n",
       "      <td>4</td>\n",
       "    </tr>\n",
       "    <tr>\n",
       "      <th>3</th>\n",
       "      <td>Eminem</td>\n",
       "      <td>4</td>\n",
       "    </tr>\n",
       "    <tr>\n",
       "      <th>4</th>\n",
       "      <td>Moore</td>\n",
       "      <td>4</td>\n",
       "    </tr>\n",
       "  </tbody>\n",
       "</table>\n",
       "</div>"
      ],
      "text/plain": [
       "   singer  play\n",
       "0  Eminem     2\n",
       "1  Eminem     5\n",
       "2    Cher     4\n",
       "3  Eminem     4\n",
       "4   Moore     4"
      ]
     },
     "execution_count": 14,
     "metadata": {},
     "output_type": "execute_result"
    }
   ],
   "source": [
    "singers.head()"
   ]
  },
  {
   "cell_type": "code",
   "execution_count": 13,
   "metadata": {},
   "outputs": [
    {
     "data": {
      "text/plain": [
       "play  count    5.0\n",
       "      mean     3.8\n",
       "Name: Eminem, dtype: float64"
      ]
     },
     "execution_count": 13,
     "metadata": {},
     "output_type": "execute_result"
    }
   ],
   "source": [
    "singers.groupby('singer').agg(['count', 'mean']).loc['Eminem']"
   ]
  },
  {
   "cell_type": "markdown",
   "metadata": {},
   "source": [
    "***\n",
    "В файле Tableexample.xlsx включите в лист ранг для каждого продавца согласно общей выручке и количеству проданных единиц товара. При добавлении новых данных ранги должны обновляться автоматически. Вероятно, стоит воспользоваться функцией РАНГ. Ее синтаксис в данном случае: РАНГ(число;массив;0). Эта функция возвращает ранг числа в массиве. У самого большого числа ранг равен 1."
   ]
  },
  {
   "cell_type": "code",
   "execution_count": 21,
   "metadata": {},
   "outputs": [],
   "source": [
    "table = pd.read_excel('~/Study/excel/Ch25/Practice Files/Tableexample.xlsx',\n",
    "                        skiprows=4, usecols=range(4,8)).dropna()"
   ]
  },
  {
   "cell_type": "code",
   "execution_count": 38,
   "metadata": {},
   "outputs": [
    {
     "data": {
      "text/html": [
       "<div>\n",
       "<style scoped>\n",
       "    .dataframe tbody tr th:only-of-type {\n",
       "        vertical-align: middle;\n",
       "    }\n",
       "\n",
       "    .dataframe tbody tr th {\n",
       "        vertical-align: top;\n",
       "    }\n",
       "\n",
       "    .dataframe thead th {\n",
       "        text-align: right;\n",
       "    }\n",
       "</style>\n",
       "<table border=\"1\" class=\"dataframe\">\n",
       "  <thead>\n",
       "    <tr style=\"text-align: right;\">\n",
       "      <th></th>\n",
       "      <th>Name</th>\n",
       "      <th>Units</th>\n",
       "      <th>Revenue</th>\n",
       "      <th>Unit price</th>\n",
       "      <th>Rank</th>\n",
       "    </tr>\n",
       "  </thead>\n",
       "  <tbody>\n",
       "    <tr>\n",
       "      <th>0</th>\n",
       "      <td>John</td>\n",
       "      <td>814.0</td>\n",
       "      <td>39886.0</td>\n",
       "      <td>49.0</td>\n",
       "      <td>1</td>\n",
       "    </tr>\n",
       "    <tr>\n",
       "      <th>1</th>\n",
       "      <td>Adam</td>\n",
       "      <td>594.0</td>\n",
       "      <td>26136.0</td>\n",
       "      <td>44.0</td>\n",
       "      <td>4</td>\n",
       "    </tr>\n",
       "    <tr>\n",
       "      <th>2</th>\n",
       "      <td>Dixie</td>\n",
       "      <td>528.0</td>\n",
       "      <td>13200.0</td>\n",
       "      <td>25.0</td>\n",
       "      <td>6</td>\n",
       "    </tr>\n",
       "    <tr>\n",
       "      <th>3</th>\n",
       "      <td>Tad</td>\n",
       "      <td>806.0</td>\n",
       "      <td>20956.0</td>\n",
       "      <td>26.0</td>\n",
       "      <td>5</td>\n",
       "    </tr>\n",
       "    <tr>\n",
       "      <th>4</th>\n",
       "      <td>Erica</td>\n",
       "      <td>826.0</td>\n",
       "      <td>27258.0</td>\n",
       "      <td>33.0</td>\n",
       "      <td>3</td>\n",
       "    </tr>\n",
       "    <tr>\n",
       "      <th>5</th>\n",
       "      <td>Gabrielle</td>\n",
       "      <td>779.0</td>\n",
       "      <td>28044.0</td>\n",
       "      <td>36.0</td>\n",
       "      <td>2</td>\n",
       "    </tr>\n",
       "    <tr>\n",
       "      <th>6</th>\n",
       "      <td>Amanda</td>\n",
       "      <td>400.0</td>\n",
       "      <td>5000.0</td>\n",
       "      <td>12.5</td>\n",
       "      <td>7</td>\n",
       "    </tr>\n",
       "  </tbody>\n",
       "</table>\n",
       "</div>"
      ],
      "text/plain": [
       "        Name  Units  Revenue  Unit price  Rank\n",
       "0       John  814.0  39886.0        49.0     1\n",
       "1       Adam  594.0  26136.0        44.0     4\n",
       "2      Dixie  528.0  13200.0        25.0     6\n",
       "3        Tad  806.0  20956.0        26.0     5\n",
       "4      Erica  826.0  27258.0        33.0     3\n",
       "5  Gabrielle  779.0  28044.0        36.0     2\n",
       "6     Amanda  400.0   5000.0        12.5     7"
      ]
     },
     "execution_count": 38,
     "metadata": {},
     "output_type": "execute_result"
    }
   ],
   "source": [
    "table.assign(Rank=lambda x: x[['Revenue', 'Units']].apply(tuple, axis=1)\n",
    "                                                   .rank(method='dense', ascending=False).astype(int))"
   ]
  },
  {
   "cell_type": "markdown",
   "metadata": {},
   "source": [
    "***\n",
    "На основе данных в файле Stock.xlsx создайте гистограммы для ежемесячных доходов от акций GE и Intel."
   ]
  },
  {
   "cell_type": "code",
   "execution_count": 2,
   "metadata": {},
   "outputs": [],
   "source": [
    "stocks = pd.read_excel('~/Study/excel/Ch41/Practice Files/Stock.xlsx',\n",
    "                        sheet_name='stockprices', skiprows=50, usecols=range(6))"
   ]
  },
  {
   "cell_type": "code",
   "execution_count": 49,
   "metadata": {},
   "outputs": [
    {
     "data": {
      "text/html": [
       "<div>\n",
       "<style scoped>\n",
       "    .dataframe tbody tr th:only-of-type {\n",
       "        vertical-align: middle;\n",
       "    }\n",
       "\n",
       "    .dataframe tbody tr th {\n",
       "        vertical-align: top;\n",
       "    }\n",
       "\n",
       "    .dataframe thead th {\n",
       "        text-align: right;\n",
       "    }\n",
       "</style>\n",
       "<table border=\"1\" class=\"dataframe\">\n",
       "  <thead>\n",
       "    <tr style=\"text-align: right;\">\n",
       "      <th></th>\n",
       "      <th>Date</th>\n",
       "      <th>Microsoft</th>\n",
       "      <th>GE</th>\n",
       "      <th>Intel</th>\n",
       "      <th>GM</th>\n",
       "      <th>CSCO</th>\n",
       "    </tr>\n",
       "  </thead>\n",
       "  <tbody>\n",
       "    <tr>\n",
       "      <th>0</th>\n",
       "      <td>1990-03-30</td>\n",
       "      <td>0.121519</td>\n",
       "      <td>0.040486</td>\n",
       "      <td>0.037267</td>\n",
       "      <td>0.022284</td>\n",
       "      <td>0.010753</td>\n",
       "    </tr>\n",
       "    <tr>\n",
       "      <th>1</th>\n",
       "      <td>1990-04-30</td>\n",
       "      <td>0.047404</td>\n",
       "      <td>-0.003891</td>\n",
       "      <td>-0.053892</td>\n",
       "      <td>-0.035422</td>\n",
       "      <td>0.010638</td>\n",
       "    </tr>\n",
       "    <tr>\n",
       "      <th>2</th>\n",
       "      <td>1990-05-31</td>\n",
       "      <td>0.258621</td>\n",
       "      <td>0.083516</td>\n",
       "      <td>0.221519</td>\n",
       "      <td>0.115819</td>\n",
       "      <td>0.042105</td>\n",
       "    </tr>\n",
       "    <tr>\n",
       "      <th>3</th>\n",
       "      <td>1990-06-29</td>\n",
       "      <td>0.041096</td>\n",
       "      <td>0.005445</td>\n",
       "      <td>-0.025907</td>\n",
       "      <td>-0.020566</td>\n",
       "      <td>0.070707</td>\n",
       "    </tr>\n",
       "    <tr>\n",
       "      <th>4</th>\n",
       "      <td>1990-07-31</td>\n",
       "      <td>-0.125000</td>\n",
       "      <td>0.034296</td>\n",
       "      <td>-0.053191</td>\n",
       "      <td>-0.020997</td>\n",
       "      <td>-0.037736</td>\n",
       "    </tr>\n",
       "    <tr>\n",
       "      <th>...</th>\n",
       "      <td>...</td>\n",
       "      <td>...</td>\n",
       "      <td>...</td>\n",
       "      <td>...</td>\n",
       "      <td>...</td>\n",
       "      <td>...</td>\n",
       "    </tr>\n",
       "    <tr>\n",
       "      <th>125</th>\n",
       "      <td>2000-08-31</td>\n",
       "      <td>0.000000</td>\n",
       "      <td>0.140948</td>\n",
       "      <td>0.121948</td>\n",
       "      <td>0.276619</td>\n",
       "      <td>0.048711</td>\n",
       "    </tr>\n",
       "    <tr>\n",
       "      <th>126</th>\n",
       "      <td>2000-09-29</td>\n",
       "      <td>-0.136079</td>\n",
       "      <td>-0.014711</td>\n",
       "      <td>-0.444908</td>\n",
       "      <td>-0.099567</td>\n",
       "      <td>-0.194900</td>\n",
       "    </tr>\n",
       "    <tr>\n",
       "      <th>127</th>\n",
       "      <td>2000-10-31</td>\n",
       "      <td>0.141969</td>\n",
       "      <td>-0.049837</td>\n",
       "      <td>0.082707</td>\n",
       "      <td>-0.044231</td>\n",
       "      <td>-0.024887</td>\n",
       "    </tr>\n",
       "    <tr>\n",
       "      <th>128</th>\n",
       "      <td>2000-11-30</td>\n",
       "      <td>-0.166969</td>\n",
       "      <td>-0.095781</td>\n",
       "      <td>-0.153722</td>\n",
       "      <td>-0.195171</td>\n",
       "      <td>-0.111369</td>\n",
       "    </tr>\n",
       "    <tr>\n",
       "      <th>129</th>\n",
       "      <td>2000-12-29</td>\n",
       "      <td>-0.244009</td>\n",
       "      <td>-0.029559</td>\n",
       "      <td>-0.210181</td>\n",
       "      <td>0.029040</td>\n",
       "      <td>-0.201044</td>\n",
       "    </tr>\n",
       "  </tbody>\n",
       "</table>\n",
       "<p>130 rows × 6 columns</p>\n",
       "</div>"
      ],
      "text/plain": [
       "          Date  Microsoft        GE     Intel        GM      CSCO\n",
       "0   1990-03-30   0.121519  0.040486  0.037267  0.022284  0.010753\n",
       "1   1990-04-30   0.047404 -0.003891 -0.053892 -0.035422  0.010638\n",
       "2   1990-05-31   0.258621  0.083516  0.221519  0.115819  0.042105\n",
       "3   1990-06-29   0.041096  0.005445 -0.025907 -0.020566  0.070707\n",
       "4   1990-07-31  -0.125000  0.034296 -0.053191 -0.020997 -0.037736\n",
       "..         ...        ...       ...       ...       ...       ...\n",
       "125 2000-08-31   0.000000  0.140948  0.121948  0.276619  0.048711\n",
       "126 2000-09-29  -0.136079 -0.014711 -0.444908 -0.099567 -0.194900\n",
       "127 2000-10-31   0.141969 -0.049837  0.082707 -0.044231 -0.024887\n",
       "128 2000-11-30  -0.166969 -0.095781 -0.153722 -0.195171 -0.111369\n",
       "129 2000-12-29  -0.244009 -0.029559 -0.210181  0.029040 -0.201044\n",
       "\n",
       "[130 rows x 6 columns]"
      ]
     },
     "execution_count": 49,
     "metadata": {},
     "output_type": "execute_result"
    }
   ],
   "source": [
    "stocks"
   ]
  },
  {
   "cell_type": "code",
   "execution_count": 58,
   "metadata": {},
   "outputs": [
    {
     "data": {
      "image/png": "[encoded data removed]",
      "text/plain": [
       "<Figure size 432x288 with 1 Axes>"
      ]
     },
     "metadata": {
      "needs_background": "light"
     },
     "output_type": "display_data"
    }
   ],
   "source": [
    "plt.hist(stocks[\"GE\"], color='limegreen', alpha=0.5, \n",
    "         edgecolor=\"black\", bins=10) \n",
    "plt.hist(stocks[\"Intel\"], color='indianred', alpha=0.5, \n",
    "         edgecolor=\"black\", bins=20)\n",
    "plt.legend([\"GE\", 'Intel']);"
   ]
  },
  {
   "cell_type": "markdown",
   "metadata": {},
   "source": [
    "***\n",
    "В файле Deming.xlsx содержатся измерения диаметра (в дюймах) для 500 стержней, произведенных компанией Rodco, согласно отчету руководителя производства. Допустимый размер диаметра стержня составляет не менее 1дюйма. Раньше диаметрам стержней, производимых компанией Rodco, соответствовала симметричная гистограмма.\n",
    "- Постройте гистограмму для этих измерений.\n",
    "- Прокомментируйте любые необычные аспекты этой гистограммы.\n",
    "Можно ли догадаться, что вызвало необычный вид гистограммы? (Подсказка: один из 14 принципов управления качеством Эдварда Деминга гласит: \"Искорените страх\".)"
   ]
  },
  {
   "cell_type": "code",
   "execution_count": 62,
   "metadata": {},
   "outputs": [],
   "source": [
    "deming = pd.read_excel('~/Study/excel/Ch41/Practice Files/Deming.xlsx',\n",
    "                       usecols=[1], names=['diameter'])"
   ]
  },
  {
   "cell_type": "code",
   "execution_count": 64,
   "metadata": {},
   "outputs": [
    {
     "data": {
      "text/html": [
       "<div>\n",
       "<style scoped>\n",
       "    .dataframe tbody tr th:only-of-type {\n",
       "        vertical-align: middle;\n",
       "    }\n",
       "\n",
       "    .dataframe tbody tr th {\n",
       "        vertical-align: top;\n",
       "    }\n",
       "\n",
       "    .dataframe thead th {\n",
       "        text-align: right;\n",
       "    }\n",
       "</style>\n",
       "<table border=\"1\" class=\"dataframe\">\n",
       "  <thead>\n",
       "    <tr style=\"text-align: right;\">\n",
       "      <th></th>\n",
       "      <th>diameter</th>\n",
       "    </tr>\n",
       "  </thead>\n",
       "  <tbody>\n",
       "    <tr>\n",
       "      <th>0</th>\n",
       "      <td>1.005872</td>\n",
       "    </tr>\n",
       "    <tr>\n",
       "      <th>1</th>\n",
       "      <td>1.004461</td>\n",
       "    </tr>\n",
       "    <tr>\n",
       "      <th>2</th>\n",
       "      <td>1.011128</td>\n",
       "    </tr>\n",
       "    <tr>\n",
       "      <th>3</th>\n",
       "      <td>1.012668</td>\n",
       "    </tr>\n",
       "    <tr>\n",
       "      <th>4</th>\n",
       "      <td>1.018356</td>\n",
       "    </tr>\n",
       "  </tbody>\n",
       "</table>\n",
       "</div>"
      ],
      "text/plain": [
       "   diameter\n",
       "0  1.005872\n",
       "1  1.004461\n",
       "2  1.011128\n",
       "3  1.012668\n",
       "4  1.018356"
      ]
     },
     "execution_count": 64,
     "metadata": {},
     "output_type": "execute_result"
    }
   ],
   "source": [
    "deming.head()"
   ]
  },
  {
   "cell_type": "markdown",
   "metadata": {},
   "source": [
    "Правило Стёрджеса — эмпирическое правило определения оптимального количества интервалов, на которые разбивается наблюдаемый диапазон изменения случайной величины при построении гистограммы плотности её распределения. \n",
    "\n",
    "$${\\displaystyle n=1+\\lfloor \\log _{2}N\\rfloor }$$"
   ]
  },
  {
   "cell_type": "code",
   "execution_count": 94,
   "metadata": {},
   "outputs": [],
   "source": [
    "n = 1 + int(3.321 * np.log10(len(deming))) # Формула Стерджеса через десятичный логарифм"
   ]
  },
  {
   "cell_type": "code",
   "execution_count": 9,
   "metadata": {},
   "outputs": [],
   "source": [
    "get_nbins = lambda x: 1 + int(3.321 * np.log10(len(x)))"
   ]
  },
  {
   "cell_type": "code",
   "execution_count": 95,
   "metadata": {},
   "outputs": [
    {
     "data": {
      "image/png": "[encoded data removed]",
      "text/plain": [
       "<Figure size 432x288 with 1 Axes>"
      ]
     },
     "metadata": {
      "needs_background": "light"
     },
     "output_type": "display_data"
    }
   ],
   "source": [
    "deming.diameter.hist(bins=n, color='limegreen', alpha=0.5, edgecolor='black');"
   ]
  },
  {
   "cell_type": "markdown",
   "metadata": {},
   "source": [
    "***\n",
    "В файле Unemployment.xlsx file находятся данные об уровне безработицы в США. Создайте на их основе гистограмму. Гистограмма уровня безработицы симметричная или асимметричная?"
   ]
  },
  {
   "cell_type": "code",
   "execution_count": 98,
   "metadata": {},
   "outputs": [],
   "source": [
    "unemployment = pd.read_excel('~/Study/excel/Ch41/Practice Files/Unemployment.xlsx',\n",
    "                             skiprows=3, usecols=range(2,6))"
   ]
  },
  {
   "cell_type": "code",
   "execution_count": 100,
   "metadata": {},
   "outputs": [
    {
     "data": {
      "text/html": [
       "<div>\n",
       "<style scoped>\n",
       "    .dataframe tbody tr th:only-of-type {\n",
       "        vertical-align: middle;\n",
       "    }\n",
       "\n",
       "    .dataframe tbody tr th {\n",
       "        vertical-align: top;\n",
       "    }\n",
       "\n",
       "    .dataframe thead th {\n",
       "        text-align: right;\n",
       "    }\n",
       "</style>\n",
       "<table border=\"1\" class=\"dataframe\">\n",
       "  <thead>\n",
       "    <tr style=\"text-align: right;\">\n",
       "      <th></th>\n",
       "      <th>Year</th>\n",
       "      <th>Month</th>\n",
       "      <th>Rate</th>\n",
       "    </tr>\n",
       "  </thead>\n",
       "  <tbody>\n",
       "    <tr>\n",
       "      <th>0</th>\n",
       "      <td>1948</td>\n",
       "      <td>1</td>\n",
       "      <td>3.4</td>\n",
       "    </tr>\n",
       "    <tr>\n",
       "      <th>1</th>\n",
       "      <td>1948</td>\n",
       "      <td>2</td>\n",
       "      <td>3.8</td>\n",
       "    </tr>\n",
       "    <tr>\n",
       "      <th>2</th>\n",
       "      <td>1948</td>\n",
       "      <td>3</td>\n",
       "      <td>4.0</td>\n",
       "    </tr>\n",
       "    <tr>\n",
       "      <th>3</th>\n",
       "      <td>1948</td>\n",
       "      <td>4</td>\n",
       "      <td>3.9</td>\n",
       "    </tr>\n",
       "    <tr>\n",
       "      <th>4</th>\n",
       "      <td>1948</td>\n",
       "      <td>5</td>\n",
       "      <td>3.5</td>\n",
       "    </tr>\n",
       "  </tbody>\n",
       "</table>\n",
       "</div>"
      ],
      "text/plain": [
       "   Year  Month  Rate\n",
       "0  1948      1   3.4\n",
       "1  1948      2   3.8\n",
       "2  1948      3   4.0\n",
       "3  1948      4   3.9\n",
       "4  1948      5   3.5"
      ]
     },
     "execution_count": 100,
     "metadata": {},
     "output_type": "execute_result"
    }
   ],
   "source": [
    "unemployment.head()"
   ]
  },
  {
   "cell_type": "code",
   "execution_count": 107,
   "metadata": {},
   "outputs": [],
   "source": [
    "get_nbins = lambda x: 1 + int(3.321 * np.log10(len(x)))\n",
    "n = get_nbins(unemployment)"
   ]
  },
  {
   "cell_type": "code",
   "execution_count": 102,
   "metadata": {},
   "outputs": [
    {
     "data": {
      "image/png": "[encoded data removed]",
      "text/plain": [
       "<Figure size 432x288 with 1 Axes>"
      ]
     },
     "metadata": {
      "needs_background": "light"
     },
     "output_type": "display_data"
    }
   ],
   "source": [
    "unemployment.Rate.hist(bins=n, color='indianred', alpha=0.5, edgecolor='black');"
   ]
  },
  {
   "cell_type": "code",
   "execution_count": 121,
   "metadata": {},
   "outputs": [
    {
     "data": {
      "text/plain": [
       "0.5854259517217653"
      ]
     },
     "execution_count": 121,
     "metadata": {},
     "output_type": "execute_result"
    }
   ],
   "source": [
    "stats.skew(unemployment.Rate) # небольшая положительная асимметрия"
   ]
  },
  {
   "cell_type": "markdown",
   "metadata": {},
   "source": [
    "***\n",
    "В файле Teams.xlsx содержатся данные о засчитанных пробежках в высшей баскетбольной лиге за сезон. Создайте на их основе гистограмму. Гистограмма, представляющая засчитанные пробежки, симметричная или асимметричная?"
   ]
  },
  {
   "cell_type": "code",
   "execution_count": 103,
   "metadata": {},
   "outputs": [],
   "source": [
    "teams = pd.read_excel('~/Study/excel/Ch41/Practice Files/teams.xlsx',\n",
    "                             skiprows=3, usecols=range(2,5))"
   ]
  },
  {
   "cell_type": "code",
   "execution_count": 105,
   "metadata": {},
   "outputs": [
    {
     "data": {
      "text/html": [
       "<div>\n",
       "<style scoped>\n",
       "    .dataframe tbody tr th:only-of-type {\n",
       "        vertical-align: middle;\n",
       "    }\n",
       "\n",
       "    .dataframe tbody tr th {\n",
       "        vertical-align: top;\n",
       "    }\n",
       "\n",
       "    .dataframe thead th {\n",
       "        text-align: right;\n",
       "    }\n",
       "</style>\n",
       "<table border=\"1\" class=\"dataframe\">\n",
       "  <thead>\n",
       "    <tr style=\"text-align: right;\">\n",
       "      <th></th>\n",
       "      <th>Year</th>\n",
       "      <th>Runs</th>\n",
       "    </tr>\n",
       "  </thead>\n",
       "  <tbody>\n",
       "    <tr>\n",
       "      <th>0</th>\n",
       "      <td>2000</td>\n",
       "      <td>864</td>\n",
       "    </tr>\n",
       "    <tr>\n",
       "      <th>1</th>\n",
       "      <td>2000</td>\n",
       "      <td>794</td>\n",
       "    </tr>\n",
       "    <tr>\n",
       "      <th>2</th>\n",
       "      <td>2000</td>\n",
       "      <td>792</td>\n",
       "    </tr>\n",
       "    <tr>\n",
       "      <th>3</th>\n",
       "      <td>2000</td>\n",
       "      <td>978</td>\n",
       "    </tr>\n",
       "    <tr>\n",
       "      <th>4</th>\n",
       "      <td>2000</td>\n",
       "      <td>950</td>\n",
       "    </tr>\n",
       "  </tbody>\n",
       "</table>\n",
       "</div>"
      ],
      "text/plain": [
       "   Year  Runs\n",
       "0  2000   864\n",
       "1  2000   794\n",
       "2  2000   792\n",
       "3  2000   978\n",
       "4  2000   950"
      ]
     },
     "execution_count": 105,
     "metadata": {},
     "output_type": "execute_result"
    }
   ],
   "source": [
    "teams.head()"
   ]
  },
  {
   "cell_type": "markdown",
   "metadata": {},
   "source": [
    "Цвета для графиков https://www.colorhexa.com/add8e6"
   ]
  },
  {
   "cell_type": "code",
   "execution_count": 111,
   "metadata": {},
   "outputs": [
    {
     "data": {
      "image/png": "[encoded data removed]",
      "text/plain": [
       "<Figure size 432x288 with 1 Axes>"
      ]
     },
     "metadata": {
      "needs_background": "light"
     },
     "output_type": "display_data"
    }
   ],
   "source": [
    "n = get_nbins(teams)\n",
    "teams.Runs.hist(bins=n, color='#72bcd4', alpha=0.5, edgecolor='black');"
   ]
  },
  {
   "cell_type": "code",
   "execution_count": 117,
   "metadata": {},
   "outputs": [],
   "source": [
    "import scipy.stats as stats"
   ]
  },
  {
   "cell_type": "code",
   "execution_count": 119,
   "metadata": {},
   "outputs": [
    {
     "data": {
      "text/plain": [
       "0.17261131893063947"
      ]
     },
     "execution_count": 119,
     "metadata": {},
     "output_type": "execute_result"
    }
   ],
   "source": [
    "stats.skew(teams.Runs) # асимметрия отсутствует"
   ]
  },
  {
   "cell_type": "markdown",
   "metadata": {},
   "source": [
    "***\n",
    "В файле NFLpoints.xlsx содержатся данные об очках, заработанных командами Национальной футбольной лиги за сезон. Создайте на их основе гистограмму. Гистограмма, представляющая заработанные очки, симметричная или асимметричная?"
   ]
  },
  {
   "cell_type": "code",
   "execution_count": 112,
   "metadata": {},
   "outputs": [],
   "source": [
    "NFLpoints = pd.read_excel('~/Study/excel/Ch41/Practice Files/NFLpoints.xlsx',\n",
    "                             skiprows=4, usecols=range(2,5))"
   ]
  },
  {
   "cell_type": "code",
   "execution_count": 115,
   "metadata": {},
   "outputs": [
    {
     "data": {
      "text/html": [
       "<div>\n",
       "<style scoped>\n",
       "    .dataframe tbody tr th:only-of-type {\n",
       "        vertical-align: middle;\n",
       "    }\n",
       "\n",
       "    .dataframe tbody tr th {\n",
       "        vertical-align: top;\n",
       "    }\n",
       "\n",
       "    .dataframe thead th {\n",
       "        text-align: right;\n",
       "    }\n",
       "</style>\n",
       "<table border=\"1\" class=\"dataframe\">\n",
       "  <thead>\n",
       "    <tr style=\"text-align: right;\">\n",
       "      <th></th>\n",
       "      <th>Rk</th>\n",
       "      <th>Tm</th>\n",
       "      <th>Pts</th>\n",
       "    </tr>\n",
       "  </thead>\n",
       "  <tbody>\n",
       "    <tr>\n",
       "      <th>0</th>\n",
       "      <td>2003</td>\n",
       "      <td>Kansas City Chiefs</td>\n",
       "      <td>484</td>\n",
       "    </tr>\n",
       "    <tr>\n",
       "      <th>1</th>\n",
       "      <td>2003</td>\n",
       "      <td>Indianapolis Colts</td>\n",
       "      <td>447</td>\n",
       "    </tr>\n",
       "    <tr>\n",
       "      <th>2</th>\n",
       "      <td>2003</td>\n",
       "      <td>St. Louis Rams</td>\n",
       "      <td>447</td>\n",
       "    </tr>\n",
       "    <tr>\n",
       "      <th>3</th>\n",
       "      <td>2003</td>\n",
       "      <td>Green Bay Packers</td>\n",
       "      <td>442</td>\n",
       "    </tr>\n",
       "    <tr>\n",
       "      <th>4</th>\n",
       "      <td>2003</td>\n",
       "      <td>Tennessee Titans</td>\n",
       "      <td>435</td>\n",
       "    </tr>\n",
       "  </tbody>\n",
       "</table>\n",
       "</div>"
      ],
      "text/plain": [
       "     Rk                  Tm  Pts\n",
       "0  2003  Kansas City Chiefs  484\n",
       "1  2003  Indianapolis Colts  447\n",
       "2  2003      St. Louis Rams  447\n",
       "3  2003   Green Bay Packers  442\n",
       "4  2003    Tennessee Titans  435"
      ]
     },
     "execution_count": 115,
     "metadata": {},
     "output_type": "execute_result"
    }
   ],
   "source": [
    "NFLpoints.head()"
   ]
  },
  {
   "cell_type": "code",
   "execution_count": 116,
   "metadata": {},
   "outputs": [
    {
     "data": {
      "image/png": "[encoded data removed]",
      "text/plain": [
       "<Figure size 432x288 with 1 Axes>"
      ]
     },
     "metadata": {
      "needs_background": "light"
     },
     "output_type": "display_data"
    }
   ],
   "source": [
    "n = get_nbins(NFLpoints)\n",
    "NFLpoints.Pts.hist(bins=n, color='#d472bc', alpha=0.5, edgecolor='black');"
   ]
  },
  {
   "cell_type": "code",
   "execution_count": 120,
   "metadata": {},
   "outputs": [
    {
     "data": {
      "text/plain": [
       "0.4280836273050147"
      ]
     },
     "execution_count": 120,
     "metadata": {},
     "output_type": "execute_result"
    }
   ],
   "source": [
    "stats.skew(NFLpoints.Pts) # асимметрия со смещением вправо"
   ]
  },
  {
   "cell_type": "markdown",
   "metadata": {},
   "source": [
    "***\n",
    "Получите описательную статистику для данных о доходности акций Intel и GE в файле Stock.xlsx."
   ]
  },
  {
   "cell_type": "code",
   "execution_count": 4,
   "metadata": {},
   "outputs": [
    {
     "data": {
      "text/html": [
       "<div>\n",
       "<style scoped>\n",
       "    .dataframe tbody tr th:only-of-type {\n",
       "        vertical-align: middle;\n",
       "    }\n",
       "\n",
       "    .dataframe tbody tr th {\n",
       "        vertical-align: top;\n",
       "    }\n",
       "\n",
       "    .dataframe thead th {\n",
       "        text-align: right;\n",
       "    }\n",
       "</style>\n",
       "<table border=\"1\" class=\"dataframe\">\n",
       "  <thead>\n",
       "    <tr style=\"text-align: right;\">\n",
       "      <th></th>\n",
       "      <th>Intel</th>\n",
       "      <th>GE</th>\n",
       "    </tr>\n",
       "  </thead>\n",
       "  <tbody>\n",
       "    <tr>\n",
       "      <th>count</th>\n",
       "      <td>130.000000</td>\n",
       "      <td>130.000000</td>\n",
       "    </tr>\n",
       "    <tr>\n",
       "      <th>mean</th>\n",
       "      <td>0.032085</td>\n",
       "      <td>0.021175</td>\n",
       "    </tr>\n",
       "    <tr>\n",
       "      <th>std</th>\n",
       "      <td>0.118607</td>\n",
       "      <td>0.063657</td>\n",
       "    </tr>\n",
       "    <tr>\n",
       "      <th>min</th>\n",
       "      <td>-0.444908</td>\n",
       "      <td>-0.136511</td>\n",
       "    </tr>\n",
       "    <tr>\n",
       "      <th>25%</th>\n",
       "      <td>-0.031078</td>\n",
       "      <td>-0.020504</td>\n",
       "    </tr>\n",
       "    <tr>\n",
       "      <th>50%</th>\n",
       "      <td>0.027711</td>\n",
       "      <td>0.012955</td>\n",
       "    </tr>\n",
       "    <tr>\n",
       "      <th>75%</th>\n",
       "      <td>0.118150</td>\n",
       "      <td>0.064851</td>\n",
       "    </tr>\n",
       "    <tr>\n",
       "      <th>max</th>\n",
       "      <td>0.295267</td>\n",
       "      <td>0.192392</td>\n",
       "    </tr>\n",
       "  </tbody>\n",
       "</table>\n",
       "</div>"
      ],
      "text/plain": [
       "            Intel          GE\n",
       "count  130.000000  130.000000\n",
       "mean     0.032085    0.021175\n",
       "std      0.118607    0.063657\n",
       "min     -0.444908   -0.136511\n",
       "25%     -0.031078   -0.020504\n",
       "50%      0.027711    0.012955\n",
       "75%      0.118150    0.064851\n",
       "max      0.295267    0.192392"
      ]
     },
     "execution_count": 4,
     "metadata": {},
     "output_type": "execute_result"
    }
   ],
   "source": [
    "stocks[['Intel', 'GE']].describe()"
   ]
  },
  {
   "cell_type": "markdown",
   "metadata": {},
   "source": [
    "***\n",
    "Компания City Power&Light производит оборудование для регулировки напряжения в Нью-Йорке и отправляет его в Чикаго. Регулятор напряжения считается годным, если он поддерживает напряжение от 25 до 75 вольт. Напряжение, поддерживаемое каждым устройством, измеряется в Нью-Йорке перед отправкой. После доставки оборудования в Чикаго напряжение измеряется снова. Результаты замеров напряжения в каждом городе приведены в файле Citypower.xlsx.\n",
    "- С помощью описательной статистики прокомментируйте то, что вы узнали о поддерживаемом регуляторами напряжении до и после доставки.\n",
    "- Каков процент годных устройств до и после доставки?\n",
    "- Выскажите предложения по повышению качества регуляторов напряжения, производимых компанией City Power&Light.\n",
    "- Какое значение напряжения было превышено десятью процентами регуляторов при измерении в Нью-Йорке?\n",
    "- Какое значение напряжения не было превышено пятью процентами регуляторов при измерении в Нью-Йорке?"
   ]
  },
  {
   "cell_type": "code",
   "execution_count": 5,
   "metadata": {},
   "outputs": [],
   "source": [
    "power = pd.read_excel('~/Study/excel/Ch42/Practice Files/Citypower.xlsx', skiprows=2, usecols=range(1,3))"
   ]
  },
  {
   "cell_type": "code",
   "execution_count": 7,
   "metadata": {},
   "outputs": [
    {
     "data": {
      "text/html": [
       "<div>\n",
       "<style scoped>\n",
       "    .dataframe tbody tr th:only-of-type {\n",
       "        vertical-align: middle;\n",
       "    }\n",
       "\n",
       "    .dataframe tbody tr th {\n",
       "        vertical-align: top;\n",
       "    }\n",
       "\n",
       "    .dataframe thead th {\n",
       "        text-align: right;\n",
       "    }\n",
       "</style>\n",
       "<table border=\"1\" class=\"dataframe\">\n",
       "  <thead>\n",
       "    <tr style=\"text-align: right;\">\n",
       "      <th></th>\n",
       "      <th>NY</th>\n",
       "      <th>CHICAGO</th>\n",
       "    </tr>\n",
       "  </thead>\n",
       "  <tbody>\n",
       "    <tr>\n",
       "      <th>count</th>\n",
       "      <td>217.000000</td>\n",
       "      <td>217.000000</td>\n",
       "    </tr>\n",
       "    <tr>\n",
       "      <th>mean</th>\n",
       "      <td>50.179493</td>\n",
       "      <td>28.826590</td>\n",
       "    </tr>\n",
       "    <tr>\n",
       "      <th>std</th>\n",
       "      <td>8.051620</td>\n",
       "      <td>17.358888</td>\n",
       "    </tr>\n",
       "    <tr>\n",
       "      <th>min</th>\n",
       "      <td>30.050000</td>\n",
       "      <td>0.910000</td>\n",
       "    </tr>\n",
       "    <tr>\n",
       "      <th>25%</th>\n",
       "      <td>45.500000</td>\n",
       "      <td>15.590000</td>\n",
       "    </tr>\n",
       "    <tr>\n",
       "      <th>50%</th>\n",
       "      <td>50.000000</td>\n",
       "      <td>26.490000</td>\n",
       "    </tr>\n",
       "    <tr>\n",
       "      <th>75%</th>\n",
       "      <td>55.500000</td>\n",
       "      <td>37.440000</td>\n",
       "    </tr>\n",
       "    <tr>\n",
       "      <th>max</th>\n",
       "      <td>71.090000</td>\n",
       "      <td>87.800000</td>\n",
       "    </tr>\n",
       "  </tbody>\n",
       "</table>\n",
       "</div>"
      ],
      "text/plain": [
       "               NY     CHICAGO\n",
       "count  217.000000  217.000000\n",
       "mean    50.179493   28.826590\n",
       "std      8.051620   17.358888\n",
       "min     30.050000    0.910000\n",
       "25%     45.500000   15.590000\n",
       "50%     50.000000   26.490000\n",
       "75%     55.500000   37.440000\n",
       "max     71.090000   87.800000"
      ]
     },
     "execution_count": 7,
     "metadata": {},
     "output_type": "execute_result"
    }
   ],
   "source": [
    "power.describe()"
   ]
  },
  {
   "cell_type": "code",
   "execution_count": 11,
   "metadata": {},
   "outputs": [
    {
     "data": {
      "image/png": "[encoded data removed]",
      "text/plain": [
       "<Figure size 432x288 with 1 Axes>"
      ]
     },
     "metadata": {
      "needs_background": "light"
     },
     "output_type": "display_data"
    }
   ],
   "source": [
    "power['CHICAGO'].hist(bins=get_nbins(power['CHICAGO']));"
   ]
  },
  {
   "cell_type": "code",
   "execution_count": 27,
   "metadata": {},
   "outputs": [
    {
     "data": {
      "text/plain": [
       "53.91705069124424"
      ]
     },
     "execution_count": 27,
     "metadata": {},
     "output_type": "execute_result"
    }
   ],
   "source": [
    "power['CHICAGO'].apply(lambda x: 25 <= x <= 75).sum() / len(power) * 100 # % исправных изделий"
   ]
  },
  {
   "cell_type": "code",
   "execution_count": 104,
   "metadata": {},
   "outputs": [
    {
     "data": {
      "text/plain": [
       "(61.02, 35.81)"
      ]
     },
     "execution_count": 104,
     "metadata": {},
     "output_type": "execute_result"
    }
   ],
   "source": [
    "# 90-й и 5-й процентили\n",
    "power['NY'].quantile(.9), power['NY'].quantile(.05)"
   ]
  },
  {
   "cell_type": "markdown",
   "metadata": {},
   "source": [
    "***\n",
    "В файле Decadeincome.xlsx приведены примеры доходов (в тысячах долларов 1980 г.) для нескольких семей в 1980 и 1990 гг. Предположим, что эти семьи являются репрезентативными для США. Республиканцы утверждают, что в 1990 г. страна стала богаче, чем в 1980 г., поскольку средний доход семьи увеличился. Согласны ли вы с этим утверждением?"
   ]
  },
  {
   "cell_type": "code",
   "execution_count": 30,
   "metadata": {},
   "outputs": [],
   "source": [
    "incomes = pd.read_excel('~/Study/excel/Ch42/Practice Files/Decadeincome.xlsx', skiprows=1, usecols=range(1,3))"
   ]
  },
  {
   "cell_type": "code",
   "execution_count": 32,
   "metadata": {},
   "outputs": [
    {
     "data": {
      "text/html": [
       "<div>\n",
       "<style scoped>\n",
       "    .dataframe tbody tr th:only-of-type {\n",
       "        vertical-align: middle;\n",
       "    }\n",
       "\n",
       "    .dataframe tbody tr th {\n",
       "        vertical-align: top;\n",
       "    }\n",
       "\n",
       "    .dataframe thead th {\n",
       "        text-align: right;\n",
       "    }\n",
       "</style>\n",
       "<table border=\"1\" class=\"dataframe\">\n",
       "  <thead>\n",
       "    <tr style=\"text-align: right;\">\n",
       "      <th></th>\n",
       "      <th>Income 1980</th>\n",
       "      <th>Income 1990</th>\n",
       "    </tr>\n",
       "  </thead>\n",
       "  <tbody>\n",
       "    <tr>\n",
       "      <th>count</th>\n",
       "      <td>102.000000</td>\n",
       "      <td>102.000000</td>\n",
       "    </tr>\n",
       "    <tr>\n",
       "      <th>mean</th>\n",
       "      <td>46.666667</td>\n",
       "      <td>48.382353</td>\n",
       "    </tr>\n",
       "    <tr>\n",
       "      <th>std</th>\n",
       "      <td>38.178666</td>\n",
       "      <td>46.113086</td>\n",
       "    </tr>\n",
       "    <tr>\n",
       "      <th>min</th>\n",
       "      <td>1.000000</td>\n",
       "      <td>-3.000000</td>\n",
       "    </tr>\n",
       "    <tr>\n",
       "      <th>25%</th>\n",
       "      <td>17.750000</td>\n",
       "      <td>16.250000</td>\n",
       "    </tr>\n",
       "    <tr>\n",
       "      <th>50%</th>\n",
       "      <td>34.000000</td>\n",
       "      <td>32.500000</td>\n",
       "    </tr>\n",
       "    <tr>\n",
       "      <th>75%</th>\n",
       "      <td>70.750000</td>\n",
       "      <td>68.750000</td>\n",
       "    </tr>\n",
       "    <tr>\n",
       "      <th>max</th>\n",
       "      <td>165.000000</td>\n",
       "      <td>190.000000</td>\n",
       "    </tr>\n",
       "  </tbody>\n",
       "</table>\n",
       "</div>"
      ],
      "text/plain": [
       "       Income 1980  Income 1990\n",
       "count   102.000000   102.000000\n",
       "mean     46.666667    48.382353\n",
       "std      38.178666    46.113086\n",
       "min       1.000000    -3.000000\n",
       "25%      17.750000    16.250000\n",
       "50%      34.000000    32.500000\n",
       "75%      70.750000    68.750000\n",
       "max     165.000000   190.000000"
      ]
     },
     "execution_count": 32,
     "metadata": {},
     "output_type": "execute_result"
    }
   ],
   "source": [
    "incomes.describe() # средний доход увеличился, но медианный уменьшился"
   ]
  },
  {
   "cell_type": "markdown",
   "metadata": {},
   "source": [
    "***\n",
    "С помощью описательной статистики сравните годовые доходы по акциям, казначейским векселям и корпоративным облигациям. Данные см.в файле Historicalinvest.xlsx."
   ]
  },
  {
   "cell_type": "code",
   "execution_count": 42,
   "metadata": {},
   "outputs": [],
   "source": [
    "invest = pd.read_excel('~/Study/excel/Ch42/Practice Files/Historicalinvest.xlsx', skiprows=6, usecols=range(4)) \\\n",
    "           .dropna()"
   ]
  },
  {
   "cell_type": "markdown",
   "metadata": {},
   "source": [
    "**Среднее геометрическое**\n",
    "\n",
    "$$G(x_{1},x_{2},\\ldots ,x_{n})={\\sqrt[ {n}]{x_{1}x_{2}\\cdots x_{n}}}=\\left(\\prod _{{i=1}}^{n}x_{i}\\right)^{{1/n}}$$\n",
    "\n",
    "Для использования среднего геометрического при вычислении среднего годового дохода от инвестиций, необходимо добавить 1 к каждому годовому доходу и взять среднее геометрическое от получившихся в результате чисел. Затем вычесть 1 из результата и получить оценку среднего годового дохода по акции."
   ]
  },
  {
   "cell_type": "code",
   "execution_count": 102,
   "metadata": {},
   "outputs": [
    {
     "data": {
      "text/plain": [
       "Stocks     0.101489\n",
       "T.Bills    0.039142\n",
       "T.Bonds    0.049596\n",
       "dtype: float64"
      ]
     },
     "execution_count": 102,
     "metadata": {},
     "output_type": "execute_result"
    }
   ],
   "source": [
    "# среднее геометрическое доходностей\n",
    "invest.loc[:, ['Stocks', 'T.Bills', 'T.Bonds']].apply(lambda x: (x + 1).prod() ** (1 / len(x)) - 1)"
   ]
  },
  {
   "cell_type": "markdown",
   "metadata": {},
   "source": [
    "***\n",
    "Сравните среднее, медиану и урезанное среднее (с урезанием 10% данных) для акций, казначейских векселей и корпоративных облигаций в файле Historicalinvest.xlsx."
   ]
  },
  {
   "cell_type": "code",
   "execution_count": 105,
   "metadata": {},
   "outputs": [],
   "source": [
    "from scipy import stats"
   ]
  },
  {
   "cell_type": "code",
   "execution_count": 107,
   "metadata": {},
   "outputs": [
    {
     "data": {
      "text/html": [
       "<div>\n",
       "<style scoped>\n",
       "    .dataframe tbody tr th:only-of-type {\n",
       "        vertical-align: middle;\n",
       "    }\n",
       "\n",
       "    .dataframe tbody tr th {\n",
       "        vertical-align: top;\n",
       "    }\n",
       "\n",
       "    .dataframe thead th {\n",
       "        text-align: right;\n",
       "    }\n",
       "</style>\n",
       "<table border=\"1\" class=\"dataframe\">\n",
       "  <thead>\n",
       "    <tr style=\"text-align: right;\">\n",
       "      <th></th>\n",
       "      <th>Stocks</th>\n",
       "      <th>T.Bills</th>\n",
       "      <th>T.Bonds</th>\n",
       "    </tr>\n",
       "  </thead>\n",
       "  <tbody>\n",
       "    <tr>\n",
       "      <th>mean</th>\n",
       "      <td>0.120526</td>\n",
       "      <td>0.039603</td>\n",
       "      <td>0.052149</td>\n",
       "    </tr>\n",
       "    <tr>\n",
       "      <th>median</th>\n",
       "      <td>0.142200</td>\n",
       "      <td>0.038400</td>\n",
       "      <td>0.036100</td>\n",
       "    </tr>\n",
       "    <tr>\n",
       "      <th>trim_mean</th>\n",
       "      <td>0.124928</td>\n",
       "      <td>0.036677</td>\n",
       "      <td>0.043966</td>\n",
       "    </tr>\n",
       "  </tbody>\n",
       "</table>\n",
       "</div>"
      ],
      "text/plain": [
       "             Stocks   T.Bills   T.Bonds\n",
       "mean       0.120526  0.039603  0.052149\n",
       "median     0.142200  0.038400  0.036100\n",
       "trim_mean  0.124928  0.036677  0.043966"
      ]
     },
     "execution_count": 107,
     "metadata": {},
     "output_type": "execute_result"
    }
   ],
   "source": [
    "invest[['Stocks', 'T.Bills', 'T.Bonds']].apply(lambda x: pd.Series([np.mean(x),\n",
    "                                                                    np.median(x),\n",
    "                                                                    stats.trim_mean(x, 0.1)],\n",
    "                                                                    ['mean', 'median', 'trim_mean']\n",
    "                                                                  ))"
   ]
  },
  {
   "cell_type": "markdown",
   "metadata": {},
   "source": [
    "***\n",
    "В файле Dow.xlsx содержатся данные о ежемесячных доходах по 30 акциям крупнейших корпораций США за последние 20 лет. С помощью этих данных определите три акции с наибольшим средним ежемесячным доходом."
   ]
  },
  {
   "cell_type": "code",
   "execution_count": 110,
   "metadata": {},
   "outputs": [],
   "source": [
    "dow = pd.read_excel('~/Study/excel/Ch42/Practice Files/Dow.xlsx', skiprows=2).dropna()"
   ]
  },
  {
   "cell_type": "code",
   "execution_count": 112,
   "metadata": {},
   "outputs": [
    {
     "data": {
      "text/html": [
       "<div>\n",
       "<style scoped>\n",
       "    .dataframe tbody tr th:only-of-type {\n",
       "        vertical-align: middle;\n",
       "    }\n",
       "\n",
       "    .dataframe tbody tr th {\n",
       "        vertical-align: top;\n",
       "    }\n",
       "\n",
       "    .dataframe thead th {\n",
       "        text-align: right;\n",
       "    }\n",
       "</style>\n",
       "<table border=\"1\" class=\"dataframe\">\n",
       "  <thead>\n",
       "    <tr style=\"text-align: right;\">\n",
       "      <th></th>\n",
       "      <th>Date</th>\n",
       "      <th>AA</th>\n",
       "      <th>AIG</th>\n",
       "      <th>AXP</th>\n",
       "      <th>BA</th>\n",
       "      <th>C</th>\n",
       "      <th>CAT</th>\n",
       "      <th>DD</th>\n",
       "      <th>DIS</th>\n",
       "      <th>GE</th>\n",
       "      <th>...</th>\n",
       "      <th>MO</th>\n",
       "      <th>MRK</th>\n",
       "      <th>MSFT</th>\n",
       "      <th>PFE</th>\n",
       "      <th>PG</th>\n",
       "      <th>T</th>\n",
       "      <th>UTX</th>\n",
       "      <th>VZ</th>\n",
       "      <th>WMT</th>\n",
       "      <th>XOM</th>\n",
       "    </tr>\n",
       "  </thead>\n",
       "  <tbody>\n",
       "    <tr>\n",
       "      <th>1</th>\n",
       "      <td>1986-08-01</td>\n",
       "      <td>0.096296</td>\n",
       "      <td>0.050093</td>\n",
       "      <td>0.098028</td>\n",
       "      <td>0.029596</td>\n",
       "      <td>0.096273</td>\n",
       "      <td>0.117634</td>\n",
       "      <td>0.083816</td>\n",
       "      <td>-0.056842</td>\n",
       "      <td>0.076986</td>\n",
       "      <td>...</td>\n",
       "      <td>0.055556</td>\n",
       "      <td>0.085634</td>\n",
       "      <td>0.000000</td>\n",
       "      <td>0.018727</td>\n",
       "      <td>0.033993</td>\n",
       "      <td>0.108804</td>\n",
       "      <td>0.115487</td>\n",
       "      <td>0.027211</td>\n",
       "      <td>0.010753</td>\n",
       "      <td>0.133663</td>\n",
       "    </tr>\n",
       "    <tr>\n",
       "      <th>2</th>\n",
       "      <td>1986-09-02</td>\n",
       "      <td>0.000000</td>\n",
       "      <td>-0.128975</td>\n",
       "      <td>-0.140898</td>\n",
       "      <td>-0.123193</td>\n",
       "      <td>-0.075127</td>\n",
       "      <td>-0.240577</td>\n",
       "      <td>-0.027316</td>\n",
       "      <td>-0.134341</td>\n",
       "      <td>-0.085856</td>\n",
       "      <td>...</td>\n",
       "      <td>-0.128289</td>\n",
       "      <td>-0.148071</td>\n",
       "      <td>-0.008772</td>\n",
       "      <td>-0.147059</td>\n",
       "      <td>-0.153125</td>\n",
       "      <td>-0.085182</td>\n",
       "      <td>-0.079119</td>\n",
       "      <td>-0.147417</td>\n",
       "      <td>-0.106383</td>\n",
       "      <td>-0.023523</td>\n",
       "    </tr>\n",
       "    <tr>\n",
       "      <th>3</th>\n",
       "      <td>1986-10-01</td>\n",
       "      <td>-0.016757</td>\n",
       "      <td>-0.008114</td>\n",
       "      <td>0.042380</td>\n",
       "      <td>-0.009367</td>\n",
       "      <td>0.073511</td>\n",
       "      <td>0.052798</td>\n",
       "      <td>0.073390</td>\n",
       "      <td>0.110886</td>\n",
       "      <td>0.060943</td>\n",
       "      <td>...</td>\n",
       "      <td>0.109434</td>\n",
       "      <td>0.102741</td>\n",
       "      <td>0.371681</td>\n",
       "      <td>0.030172</td>\n",
       "      <td>0.107011</td>\n",
       "      <td>0.011792</td>\n",
       "      <td>0.014911</td>\n",
       "      <td>0.038838</td>\n",
       "      <td>0.068571</td>\n",
       "      <td>0.011152</td>\n",
       "    </tr>\n",
       "    <tr>\n",
       "      <th>4</th>\n",
       "      <td>1986-11-03</td>\n",
       "      <td>-0.048103</td>\n",
       "      <td>-0.509202</td>\n",
       "      <td>-0.019215</td>\n",
       "      <td>-0.035552</td>\n",
       "      <td>-0.031386</td>\n",
       "      <td>-0.006269</td>\n",
       "      <td>0.039186</td>\n",
       "      <td>-0.017092</td>\n",
       "      <td>0.088525</td>\n",
       "      <td>...</td>\n",
       "      <td>0.010204</td>\n",
       "      <td>0.017308</td>\n",
       "      <td>0.283871</td>\n",
       "      <td>0.020921</td>\n",
       "      <td>0.036667</td>\n",
       "      <td>0.043077</td>\n",
       "      <td>0.040812</td>\n",
       "      <td>0.033647</td>\n",
       "      <td>0.061275</td>\n",
       "      <td>0.018382</td>\n",
       "    </tr>\n",
       "    <tr>\n",
       "      <th>5</th>\n",
       "      <td>1986-12-01</td>\n",
       "      <td>-0.021658</td>\n",
       "      <td>0.018833</td>\n",
       "      <td>-0.009370</td>\n",
       "      <td>0.002549</td>\n",
       "      <td>-0.008837</td>\n",
       "      <td>0.012617</td>\n",
       "      <td>-0.060087</td>\n",
       "      <td>0.000000</td>\n",
       "      <td>0.036145</td>\n",
       "      <td>...</td>\n",
       "      <td>-0.032054</td>\n",
       "      <td>0.120995</td>\n",
       "      <td>-0.030151</td>\n",
       "      <td>0.000000</td>\n",
       "      <td>-0.017749</td>\n",
       "      <td>0.003397</td>\n",
       "      <td>0.030697</td>\n",
       "      <td>-0.023438</td>\n",
       "      <td>-0.023725</td>\n",
       "      <td>0.012563</td>\n",
       "    </tr>\n",
       "  </tbody>\n",
       "</table>\n",
       "<p>5 rows × 31 columns</p>\n",
       "</div>"
      ],
      "text/plain": [
       "        Date        AA       AIG       AXP        BA         C       CAT  \\\n",
       "1 1986-08-01  0.096296  0.050093  0.098028  0.029596  0.096273  0.117634   \n",
       "2 1986-09-02  0.000000 -0.128975 -0.140898 -0.123193 -0.075127 -0.240577   \n",
       "3 1986-10-01 -0.016757 -0.008114  0.042380 -0.009367  0.073511  0.052798   \n",
       "4 1986-11-03 -0.048103 -0.509202 -0.019215 -0.035552 -0.031386 -0.006269   \n",
       "5 1986-12-01 -0.021658  0.018833 -0.009370  0.002549 -0.008837  0.012617   \n",
       "\n",
       "         DD       DIS        GE  ...        MO       MRK      MSFT       PFE  \\\n",
       "1  0.083816 -0.056842  0.076986  ...  0.055556  0.085634  0.000000  0.018727   \n",
       "2 -0.027316 -0.134341 -0.085856  ... -0.128289 -0.148071 -0.008772 -0.147059   \n",
       "3  0.073390  0.110886  0.060943  ...  0.109434  0.102741  0.371681  0.030172   \n",
       "4  0.039186 -0.017092  0.088525  ...  0.010204  0.017308  0.283871  0.020921   \n",
       "5 -0.060087  0.000000  0.036145  ... -0.032054  0.120995 -0.030151  0.000000   \n",
       "\n",
       "         PG         T       UTX        VZ       WMT       XOM  \n",
       "1  0.033993  0.108804  0.115487  0.027211  0.010753  0.133663  \n",
       "2 -0.153125 -0.085182 -0.079119 -0.147417 -0.106383 -0.023523  \n",
       "3  0.107011  0.011792  0.014911  0.038838  0.068571  0.011152  \n",
       "4  0.036667  0.043077  0.040812  0.033647  0.061275  0.018382  \n",
       "5 -0.017749  0.003397  0.030697 -0.023438 -0.023725  0.012563  \n",
       "\n",
       "[5 rows x 31 columns]"
      ]
     },
     "execution_count": 112,
     "metadata": {},
     "output_type": "execute_result"
    }
   ],
   "source": [
    "dow.head()"
   ]
  },
  {
   "cell_type": "code",
   "execution_count": 122,
   "metadata": {},
   "outputs": [
    {
     "data": {
      "text/plain": [
       "INTC    1.0\n",
       "MSFT    2.0\n",
       "HD      3.0\n",
       "dtype: float64"
      ]
     },
     "execution_count": 122,
     "metadata": {},
     "output_type": "execute_result"
    }
   ],
   "source": [
    "dow.mean(axis=0).rank(ascending=False).nsmallest(3)"
   ]
  },
  {
   "cell_type": "markdown",
   "metadata": {},
   "source": [
    "***\n",
    "Для данных в файле Dow.xlsx определите три акции с самым высоким риском или изменчивостью."
   ]
  },
  {
   "cell_type": "code",
   "execution_count": 123,
   "metadata": {},
   "outputs": [
    {
     "data": {
      "text/plain": [
       "INTC    1.0\n",
       "MSFT    2.0\n",
       "HPQ     3.0\n",
       "dtype: float64"
      ]
     },
     "execution_count": 123,
     "metadata": {},
     "output_type": "execute_result"
    }
   ],
   "source": [
    "dow.std(axis=0).rank(ascending=False).nsmallest(3)"
   ]
  },
  {
   "cell_type": "markdown",
   "metadata": {},
   "source": [
    "Для данных в файле Dow.xlsx определите три акции с самой большой асимметрией."
   ]
  },
  {
   "cell_type": "code",
   "execution_count": 131,
   "metadata": {},
   "outputs": [
    {
     "data": {
      "text/plain": [
       "IBM    1.0\n",
       "GM     2.0\n",
       "JPM    3.0\n",
       "dtype: float64"
      ]
     },
     "execution_count": 131,
     "metadata": {},
     "output_type": "execute_result"
    }
   ],
   "source": [
    "dow.drop(['Date'], axis=1).apply(stats.skew).abs().rank().nsmallest(3)"
   ]
  },
  {
   "cell_type": "markdown",
   "metadata": {},
   "source": [
    "Для данных в файле Dow.xlsx определите, насколько урезанные средние доходы (с урезанием 10% доходов) отличаются от общих средних доходов?"
   ]
  },
  {
   "cell_type": "code",
   "execution_count": 140,
   "metadata": {},
   "outputs": [
    {
     "data": {
      "text/plain": [
       "AA      0.003507\n",
       "AIG     0.006971\n",
       "AXP     0.008306\n",
       "BA      0.006359\n",
       "C       0.004482\n",
       "CAT     0.005175\n",
       "DD      0.003233\n",
       "DIS     0.005281\n",
       "GE      0.007143\n",
       "GM      0.002151\n",
       "HD      0.007105\n",
       "HON     0.004748\n",
       "HPQ     0.003222\n",
       "IBM     0.000126\n",
       "INTC    0.008890\n",
       "JNJ     0.006722\n",
       "JPM     0.003010\n",
       "KO      0.005964\n",
       "MCD     0.007185\n",
       "MMM     0.005028\n",
       "MO      0.006778\n",
       "MRK     0.006095\n",
       "MSFT    0.004540\n",
       "PFE     0.007099\n",
       "PG      0.008708\n",
       "T       0.004690\n",
       "UTX     0.008691\n",
       "VZ      0.001676\n",
       "WMT     0.006689\n",
       "XOM     0.004050\n",
       "dtype: float64"
      ]
     },
     "execution_count": 140,
     "metadata": {},
     "output_type": "execute_result"
    }
   ],
   "source": [
    "dow.drop(['Date'], axis=1).apply(lambda x: stats.trim_mean(x, 0.1) - np.mean(x))"
   ]
  },
  {
   "cell_type": "markdown",
   "metadata": {},
   "source": [
    "***\n",
    "Компания Contoso, Ltd. производит микрочипы. При производстве было выяв- лено пять типов дефектов (обозначенных 1—5). Чипы производятся двумя операторами (A и B) на четырех станках (1—4). Имеется выборка данных о дефектных чипах, включающая тип дефекта, имя оператора, номер станка и день недели, в который дефект был обнаружен. На основе этих данных определите действия, которые требуется совершить для повышения качества продукции. Для расслоения дефектов с учетом типа дефекта, дня недели, применяемого станка и работавшего оператора следует использовать сводные таблицы. Возможно, потребуется разбивка данных по станкам, операторам и т. д. Предполагается, что каждый оператор и каждый станок произвели одинаковое количество продукции. Исходные данные хранятся в файле Contoso.xlsx."
   ]
  },
  {
   "cell_type": "code",
   "execution_count": 150,
   "metadata": {},
   "outputs": [],
   "source": [
    "contoso = pd.read_excel('~/Study/excel/Ch43/Practice Files/Contoso.xlsx', skiprows=2, usecols=range(2,6))"
   ]
  },
  {
   "cell_type": "code",
   "execution_count": 152,
   "metadata": {},
   "outputs": [
    {
     "data": {
      "text/html": [
       "<div>\n",
       "<style scoped>\n",
       "    .dataframe tbody tr th:only-of-type {\n",
       "        vertical-align: middle;\n",
       "    }\n",
       "\n",
       "    .dataframe tbody tr th {\n",
       "        vertical-align: top;\n",
       "    }\n",
       "\n",
       "    .dataframe thead th {\n",
       "        text-align: right;\n",
       "    }\n",
       "</style>\n",
       "<table border=\"1\" class=\"dataframe\">\n",
       "  <thead>\n",
       "    <tr style=\"text-align: right;\">\n",
       "      <th></th>\n",
       "      <th>Operator</th>\n",
       "      <th>Machine</th>\n",
       "      <th>Day</th>\n",
       "      <th>Defect</th>\n",
       "    </tr>\n",
       "  </thead>\n",
       "  <tbody>\n",
       "    <tr>\n",
       "      <th>0</th>\n",
       "      <td>A</td>\n",
       "      <td>1</td>\n",
       "      <td>Monday</td>\n",
       "      <td>1</td>\n",
       "    </tr>\n",
       "    <tr>\n",
       "      <th>1</th>\n",
       "      <td>A</td>\n",
       "      <td>1</td>\n",
       "      <td>Monday</td>\n",
       "      <td>1</td>\n",
       "    </tr>\n",
       "    <tr>\n",
       "      <th>2</th>\n",
       "      <td>A</td>\n",
       "      <td>1</td>\n",
       "      <td>Monday</td>\n",
       "      <td>1</td>\n",
       "    </tr>\n",
       "    <tr>\n",
       "      <th>3</th>\n",
       "      <td>A</td>\n",
       "      <td>1</td>\n",
       "      <td>Monday</td>\n",
       "      <td>1</td>\n",
       "    </tr>\n",
       "    <tr>\n",
       "      <th>4</th>\n",
       "      <td>A</td>\n",
       "      <td>1</td>\n",
       "      <td>Monday</td>\n",
       "      <td>2</td>\n",
       "    </tr>\n",
       "  </tbody>\n",
       "</table>\n",
       "</div>"
      ],
      "text/plain": [
       "  Operator  Machine     Day  Defect\n",
       "0        A        1  Monday       1\n",
       "1        A        1  Monday       1\n",
       "2        A        1  Monday       1\n",
       "3        A        1  Monday       1\n",
       "4        A        1  Monday       2"
      ]
     },
     "execution_count": 152,
     "metadata": {},
     "output_type": "execute_result"
    }
   ],
   "source": [
    "contoso.head()"
   ]
  },
  {
   "cell_type": "code",
   "execution_count": 173,
   "metadata": {},
   "outputs": [
    {
     "data": {
      "text/plain": [
       "Day\n",
       "Friday       0.200000\n",
       "Monday       0.163636\n",
       "Thursday     0.163636\n",
       "Tuesday      0.181818\n",
       "Wednesday    0.290909\n",
       "Name: Defect, dtype: float64"
      ]
     },
     "execution_count": 173,
     "metadata": {},
     "output_type": "execute_result"
    }
   ],
   "source": [
    "contoso.groupby('Day')['Defect'].count() / len(contoso)"
   ]
  },
  {
   "cell_type": "code",
   "execution_count": 175,
   "metadata": {},
   "outputs": [
    {
     "data": {
      "text/plain": [
       "Defect\n",
       "1    0.393939\n",
       "2    0.260606\n",
       "3    0.193939\n",
       "4    0.127273\n",
       "5    0.024242\n",
       "Name: Day, dtype: float64"
      ]
     },
     "execution_count": 175,
     "metadata": {},
     "output_type": "execute_result"
    }
   ],
   "source": [
    "contoso.groupby('Defect')['Day'].count() / len(contoso)"
   ]
  },
  {
   "cell_type": "code",
   "execution_count": 176,
   "metadata": {},
   "outputs": [
    {
     "data": {
      "text/plain": [
       "Machine\n",
       "1    0.369697\n",
       "2    0.206061\n",
       "3    0.224242\n",
       "4    0.200000\n",
       "Name: Day, dtype: float64"
      ]
     },
     "execution_count": 176,
     "metadata": {},
     "output_type": "execute_result"
    }
   ],
   "source": [
    "contoso.groupby('Machine')['Day'].count() / len(contoso)"
   ]
  },
  {
   "cell_type": "code",
   "execution_count": 177,
   "metadata": {},
   "outputs": [
    {
     "data": {
      "text/plain": [
       "Operator\n",
       "A    0.575758\n",
       "B    0.424242\n",
       "Name: Day, dtype: float64"
      ]
     },
     "execution_count": 177,
     "metadata": {},
     "output_type": "execute_result"
    }
   ],
   "source": [
    "contoso.groupby('Operator')['Day'].count() / len(contoso)"
   ]
  },
  {
   "cell_type": "code",
   "execution_count": 179,
   "metadata": {},
   "outputs": [
    {
     "data": {
      "text/html": [
       "<div>\n",
       "<style scoped>\n",
       "    .dataframe tbody tr th:only-of-type {\n",
       "        vertical-align: middle;\n",
       "    }\n",
       "\n",
       "    .dataframe tbody tr th {\n",
       "        vertical-align: top;\n",
       "    }\n",
       "\n",
       "    .dataframe thead tr th {\n",
       "        text-align: left;\n",
       "    }\n",
       "\n",
       "    .dataframe thead tr:last-of-type th {\n",
       "        text-align: right;\n",
       "    }\n",
       "</style>\n",
       "<table border=\"1\" class=\"dataframe\">\n",
       "  <thead>\n",
       "    <tr>\n",
       "      <th></th>\n",
       "      <th></th>\n",
       "      <th colspan=\"6\" halign=\"left\">Day</th>\n",
       "    </tr>\n",
       "    <tr>\n",
       "      <th></th>\n",
       "      <th>Defect</th>\n",
       "      <th>1</th>\n",
       "      <th>2</th>\n",
       "      <th>3</th>\n",
       "      <th>4</th>\n",
       "      <th>5</th>\n",
       "      <th>All</th>\n",
       "    </tr>\n",
       "    <tr>\n",
       "      <th>Operator</th>\n",
       "      <th>Machine</th>\n",
       "      <th></th>\n",
       "      <th></th>\n",
       "      <th></th>\n",
       "      <th></th>\n",
       "      <th></th>\n",
       "      <th></th>\n",
       "    </tr>\n",
       "  </thead>\n",
       "  <tbody>\n",
       "    <tr>\n",
       "      <th rowspan=\"2\" valign=\"top\">A</th>\n",
       "      <th>1</th>\n",
       "      <td>24</td>\n",
       "      <td>14</td>\n",
       "      <td>12</td>\n",
       "      <td>10</td>\n",
       "      <td>1</td>\n",
       "      <td>61</td>\n",
       "    </tr>\n",
       "    <tr>\n",
       "      <th>2</th>\n",
       "      <td>12</td>\n",
       "      <td>11</td>\n",
       "      <td>7</td>\n",
       "      <td>3</td>\n",
       "      <td>1</td>\n",
       "      <td>34</td>\n",
       "    </tr>\n",
       "    <tr>\n",
       "      <th rowspan=\"2\" valign=\"top\">B</th>\n",
       "      <th>3</th>\n",
       "      <td>16</td>\n",
       "      <td>10</td>\n",
       "      <td>6</td>\n",
       "      <td>4</td>\n",
       "      <td>1</td>\n",
       "      <td>37</td>\n",
       "    </tr>\n",
       "    <tr>\n",
       "      <th>4</th>\n",
       "      <td>13</td>\n",
       "      <td>8</td>\n",
       "      <td>7</td>\n",
       "      <td>4</td>\n",
       "      <td>1</td>\n",
       "      <td>33</td>\n",
       "    </tr>\n",
       "    <tr>\n",
       "      <th>All</th>\n",
       "      <th></th>\n",
       "      <td>65</td>\n",
       "      <td>43</td>\n",
       "      <td>32</td>\n",
       "      <td>21</td>\n",
       "      <td>4</td>\n",
       "      <td>165</td>\n",
       "    </tr>\n",
       "  </tbody>\n",
       "</table>\n",
       "</div>"
      ],
      "text/plain": [
       "                 Day                    \n",
       "Defect             1   2   3   4  5  All\n",
       "Operator Machine                        \n",
       "A        1        24  14  12  10  1   61\n",
       "         2        12  11   7   3  1   34\n",
       "B        3        16  10   6   4  1   37\n",
       "         4        13   8   7   4  1   33\n",
       "All               65  43  32  21  4  165"
      ]
     },
     "execution_count": 179,
     "metadata": {},
     "output_type": "execute_result"
    }
   ],
   "source": [
    "contoso.pivot_table(index=['Operator', 'Machine'], columns=['Defect'], aggfunc='count', margins=True)"
   ]
  },
  {
   "cell_type": "code",
   "execution_count": 215,
   "metadata": {},
   "outputs": [],
   "source": [
    "t = contoso.pivot_table(index=['Day'], columns=['Defect'], values='Machine',\n",
    "                        aggfunc='count', fill_value=0, margins=True)"
   ]
  },
  {
   "cell_type": "code",
   "execution_count": 216,
   "metadata": {},
   "outputs": [
    {
     "data": {
      "text/html": [
       "<style  type=\"text/css\" >\n",
       "</style><table id=\"T_2ab4f6d2_bc99_11eb_8063_8c2937e9c0de\" ><thead>    <tr>        <th class=\"index_name level0\" >Defect</th>        <th class=\"col_heading level0 col0\" >1</th>        <th class=\"col_heading level0 col1\" >2</th>        <th class=\"col_heading level0 col2\" >3</th>        <th class=\"col_heading level0 col3\" >4</th>        <th class=\"col_heading level0 col4\" >5</th>        <th class=\"col_heading level0 col5\" >All</th>    </tr>    <tr>        <th class=\"index_name level0\" >Day</th>        <th class=\"blank\" ></th>        <th class=\"blank\" ></th>        <th class=\"blank\" ></th>        <th class=\"blank\" ></th>        <th class=\"blank\" ></th>        <th class=\"blank\" ></th>    </tr></thead><tbody>\n",
       "                <tr>\n",
       "                        <th id=\"T_2ab4f6d2_bc99_11eb_8063_8c2937e9c0delevel0_row0\" class=\"row_heading level0 row0\" >Friday</th>\n",
       "                        <td id=\"T_2ab4f6d2_bc99_11eb_8063_8c2937e9c0derow0_col0\" class=\"data row0 col0\" >20.00%</td>\n",
       "                        <td id=\"T_2ab4f6d2_bc99_11eb_8063_8c2937e9c0derow0_col1\" class=\"data row0 col1\" >11.63%</td>\n",
       "                        <td id=\"T_2ab4f6d2_bc99_11eb_8063_8c2937e9c0derow0_col2\" class=\"data row0 col2\" >28.12%</td>\n",
       "                        <td id=\"T_2ab4f6d2_bc99_11eb_8063_8c2937e9c0derow0_col3\" class=\"data row0 col3\" >28.57%</td>\n",
       "                        <td id=\"T_2ab4f6d2_bc99_11eb_8063_8c2937e9c0derow0_col4\" class=\"data row0 col4\" >0.00%</td>\n",
       "                        <td id=\"T_2ab4f6d2_bc99_11eb_8063_8c2937e9c0derow0_col5\" class=\"data row0 col5\" >20.00%</td>\n",
       "            </tr>\n",
       "            <tr>\n",
       "                        <th id=\"T_2ab4f6d2_bc99_11eb_8063_8c2937e9c0delevel0_row1\" class=\"row_heading level0 row1\" >Monday</th>\n",
       "                        <td id=\"T_2ab4f6d2_bc99_11eb_8063_8c2937e9c0derow1_col0\" class=\"data row1 col0\" >15.38%</td>\n",
       "                        <td id=\"T_2ab4f6d2_bc99_11eb_8063_8c2937e9c0derow1_col1\" class=\"data row1 col1\" >13.95%</td>\n",
       "                        <td id=\"T_2ab4f6d2_bc99_11eb_8063_8c2937e9c0derow1_col2\" class=\"data row1 col2\" >18.75%</td>\n",
       "                        <td id=\"T_2ab4f6d2_bc99_11eb_8063_8c2937e9c0derow1_col3\" class=\"data row1 col3\" >14.29%</td>\n",
       "                        <td id=\"T_2ab4f6d2_bc99_11eb_8063_8c2937e9c0derow1_col4\" class=\"data row1 col4\" >50.00%</td>\n",
       "                        <td id=\"T_2ab4f6d2_bc99_11eb_8063_8c2937e9c0derow1_col5\" class=\"data row1 col5\" >16.36%</td>\n",
       "            </tr>\n",
       "            <tr>\n",
       "                        <th id=\"T_2ab4f6d2_bc99_11eb_8063_8c2937e9c0delevel0_row2\" class=\"row_heading level0 row2\" >Thursday</th>\n",
       "                        <td id=\"T_2ab4f6d2_bc99_11eb_8063_8c2937e9c0derow2_col0\" class=\"data row2 col0\" >18.46%</td>\n",
       "                        <td id=\"T_2ab4f6d2_bc99_11eb_8063_8c2937e9c0derow2_col1\" class=\"data row2 col1\" >13.95%</td>\n",
       "                        <td id=\"T_2ab4f6d2_bc99_11eb_8063_8c2937e9c0derow2_col2\" class=\"data row2 col2\" >15.62%</td>\n",
       "                        <td id=\"T_2ab4f6d2_bc99_11eb_8063_8c2937e9c0derow2_col3\" class=\"data row2 col3\" >14.29%</td>\n",
       "                        <td id=\"T_2ab4f6d2_bc99_11eb_8063_8c2937e9c0derow2_col4\" class=\"data row2 col4\" >25.00%</td>\n",
       "                        <td id=\"T_2ab4f6d2_bc99_11eb_8063_8c2937e9c0derow2_col5\" class=\"data row2 col5\" >16.36%</td>\n",
       "            </tr>\n",
       "            <tr>\n",
       "                        <th id=\"T_2ab4f6d2_bc99_11eb_8063_8c2937e9c0delevel0_row3\" class=\"row_heading level0 row3\" >Tuesday</th>\n",
       "                        <td id=\"T_2ab4f6d2_bc99_11eb_8063_8c2937e9c0derow3_col0\" class=\"data row3 col0\" >23.08%</td>\n",
       "                        <td id=\"T_2ab4f6d2_bc99_11eb_8063_8c2937e9c0derow3_col1\" class=\"data row3 col1\" >11.63%</td>\n",
       "                        <td id=\"T_2ab4f6d2_bc99_11eb_8063_8c2937e9c0derow3_col2\" class=\"data row3 col2\" >21.88%</td>\n",
       "                        <td id=\"T_2ab4f6d2_bc99_11eb_8063_8c2937e9c0derow3_col3\" class=\"data row3 col3\" >9.52%</td>\n",
       "                        <td id=\"T_2ab4f6d2_bc99_11eb_8063_8c2937e9c0derow3_col4\" class=\"data row3 col4\" >25.00%</td>\n",
       "                        <td id=\"T_2ab4f6d2_bc99_11eb_8063_8c2937e9c0derow3_col5\" class=\"data row3 col5\" >18.18%</td>\n",
       "            </tr>\n",
       "            <tr>\n",
       "                        <th id=\"T_2ab4f6d2_bc99_11eb_8063_8c2937e9c0delevel0_row4\" class=\"row_heading level0 row4\" >Wednesday</th>\n",
       "                        <td id=\"T_2ab4f6d2_bc99_11eb_8063_8c2937e9c0derow4_col0\" class=\"data row4 col0\" >23.08%</td>\n",
       "                        <td id=\"T_2ab4f6d2_bc99_11eb_8063_8c2937e9c0derow4_col1\" class=\"data row4 col1\" >48.84%</td>\n",
       "                        <td id=\"T_2ab4f6d2_bc99_11eb_8063_8c2937e9c0derow4_col2\" class=\"data row4 col2\" >15.62%</td>\n",
       "                        <td id=\"T_2ab4f6d2_bc99_11eb_8063_8c2937e9c0derow4_col3\" class=\"data row4 col3\" >33.33%</td>\n",
       "                        <td id=\"T_2ab4f6d2_bc99_11eb_8063_8c2937e9c0derow4_col4\" class=\"data row4 col4\" >0.00%</td>\n",
       "                        <td id=\"T_2ab4f6d2_bc99_11eb_8063_8c2937e9c0derow4_col5\" class=\"data row4 col5\" >29.09%</td>\n",
       "            </tr>\n",
       "            <tr>\n",
       "                        <th id=\"T_2ab4f6d2_bc99_11eb_8063_8c2937e9c0delevel0_row5\" class=\"row_heading level0 row5\" >All</th>\n",
       "                        <td id=\"T_2ab4f6d2_bc99_11eb_8063_8c2937e9c0derow5_col0\" class=\"data row5 col0\" >100.00%</td>\n",
       "                        <td id=\"T_2ab4f6d2_bc99_11eb_8063_8c2937e9c0derow5_col1\" class=\"data row5 col1\" >100.00%</td>\n",
       "                        <td id=\"T_2ab4f6d2_bc99_11eb_8063_8c2937e9c0derow5_col2\" class=\"data row5 col2\" >100.00%</td>\n",
       "                        <td id=\"T_2ab4f6d2_bc99_11eb_8063_8c2937e9c0derow5_col3\" class=\"data row5 col3\" >100.00%</td>\n",
       "                        <td id=\"T_2ab4f6d2_bc99_11eb_8063_8c2937e9c0derow5_col4\" class=\"data row5 col4\" >100.00%</td>\n",
       "                        <td id=\"T_2ab4f6d2_bc99_11eb_8063_8c2937e9c0derow5_col5\" class=\"data row5 col5\" >100.00%</td>\n",
       "            </tr>\n",
       "    </tbody></table>"
      ],
      "text/plain": [
       "<pandas.io.formats.style.Styler at 0x7f80002c4be0>"
      ]
     },
     "execution_count": 216,
     "metadata": {},
     "output_type": "execute_result"
    }
   ],
   "source": [
    "(\n",
    "    t.div(t.iloc[-1, :], axis=1).mul(100)\n",
    "    .style\n",
    "    .format(\"{:.2f}%\")\n",
    "    # .highlight_max(color='yellow')\n",
    ")"
   ]
  },
  {
   "cell_type": "markdown",
   "metadata": {},
   "source": [
    "***\n",
    "Вы, владелец ресторана быстрого питания, произвели маркетинговое исследование в целях изучения клиентов. В случайной выборке для клиентов указаны доход, пол и сколько дней в неделю они посещают рестораны быстрого питания. На основе этой информации определите, как пол и доход влияют на частоту посещения ресторанов быстрого питания. Данные находятся в файле McDonalds.xlsx."
   ]
  },
  {
   "cell_type": "code",
   "execution_count": 241,
   "metadata": {},
   "outputs": [],
   "source": [
    "#xls = pd.ExcelFile('~/Study/excel/Ch43/Practice Files/McDonalds.xlsx')\n",
    "mac = pd.read_excel('~/Study/excel/Ch43/Practice Files/McDonalds.xlsx',\n",
    "                     skiprows=1, usecols=range(4,7), sheet_name='Sheet1')"
   ]
  },
  {
   "cell_type": "code",
   "execution_count": 243,
   "metadata": {},
   "outputs": [
    {
     "data": {
      "text/html": [
       "<div>\n",
       "<style scoped>\n",
       "    .dataframe tbody tr th:only-of-type {\n",
       "        vertical-align: middle;\n",
       "    }\n",
       "\n",
       "    .dataframe tbody tr th {\n",
       "        vertical-align: top;\n",
       "    }\n",
       "\n",
       "    .dataframe thead th {\n",
       "        text-align: right;\n",
       "    }\n",
       "</style>\n",
       "<table border=\"1\" class=\"dataframe\">\n",
       "  <thead>\n",
       "    <tr style=\"text-align: right;\">\n",
       "      <th></th>\n",
       "      <th>Gender</th>\n",
       "      <th>Frequency</th>\n",
       "      <th>Income</th>\n",
       "    </tr>\n",
       "  </thead>\n",
       "  <tbody>\n",
       "    <tr>\n",
       "      <th>0</th>\n",
       "      <td>Man</td>\n",
       "      <td>4</td>\n",
       "      <td>30</td>\n",
       "    </tr>\n",
       "    <tr>\n",
       "      <th>1</th>\n",
       "      <td>Man</td>\n",
       "      <td>4</td>\n",
       "      <td>58</td>\n",
       "    </tr>\n",
       "    <tr>\n",
       "      <th>2</th>\n",
       "      <td>Man</td>\n",
       "      <td>6</td>\n",
       "      <td>48</td>\n",
       "    </tr>\n",
       "    <tr>\n",
       "      <th>3</th>\n",
       "      <td>Woman</td>\n",
       "      <td>6</td>\n",
       "      <td>58</td>\n",
       "    </tr>\n",
       "    <tr>\n",
       "      <th>4</th>\n",
       "      <td>Woman</td>\n",
       "      <td>5</td>\n",
       "      <td>53</td>\n",
       "    </tr>\n",
       "  </tbody>\n",
       "</table>\n",
       "</div>"
      ],
      "text/plain": [
       "  Gender  Frequency  Income\n",
       "0    Man          4      30\n",
       "1    Man          4      58\n",
       "2    Man          6      48\n",
       "3  Woman          6      58\n",
       "4  Woman          5      53"
      ]
     },
     "execution_count": 243,
     "metadata": {},
     "output_type": "execute_result"
    }
   ],
   "source": [
    "mac.head()"
   ]
  },
  {
   "cell_type": "code",
   "execution_count": 244,
   "metadata": {},
   "outputs": [
    {
     "data": {
      "text/plain": [
       "Gender\n",
       "Man      3.405063\n",
       "Woman    3.507246\n",
       "Name: Frequency, dtype: float64"
      ]
     },
     "execution_count": 244,
     "metadata": {},
     "output_type": "execute_result"
    }
   ],
   "source": [
    "mac.groupby('Gender')['Frequency'].mean()"
   ]
  },
  {
   "cell_type": "code",
   "execution_count": 279,
   "metadata": {},
   "outputs": [],
   "source": [
    "mac['Groups'] = pd.cut(mac.Income, bins=[20, 40, 60, 80, 100],\n",
    "                       labels=['20-39', '40-59', '60-79', '80-99'], right=False)"
   ]
  },
  {
   "cell_type": "code",
   "execution_count": 280,
   "metadata": {},
   "outputs": [
    {
     "data": {
      "text/plain": [
       "Groups\n",
       "20-39    2.740741\n",
       "40-59    4.666667\n",
       "60-79    2.629630\n",
       "80-99    2.142857\n",
       "Name: Frequency, dtype: float64"
      ]
     },
     "execution_count": 280,
     "metadata": {},
     "output_type": "execute_result"
    }
   ],
   "source": [
    "mac.groupby('Groups')['Frequency'].mean()"
   ]
  },
  {
   "cell_type": "code",
   "execution_count": 281,
   "metadata": {},
   "outputs": [
    {
     "data": {
      "text/html": [
       "<div>\n",
       "<style scoped>\n",
       "    .dataframe tbody tr th:only-of-type {\n",
       "        vertical-align: middle;\n",
       "    }\n",
       "\n",
       "    .dataframe tbody tr th {\n",
       "        vertical-align: top;\n",
       "    }\n",
       "\n",
       "    .dataframe thead th {\n",
       "        text-align: right;\n",
       "    }\n",
       "</style>\n",
       "<table border=\"1\" class=\"dataframe\">\n",
       "  <thead>\n",
       "    <tr style=\"text-align: right;\">\n",
       "      <th>Groups</th>\n",
       "      <th>20-39</th>\n",
       "      <th>40-59</th>\n",
       "      <th>60-79</th>\n",
       "      <th>80-99</th>\n",
       "      <th>All</th>\n",
       "    </tr>\n",
       "    <tr>\n",
       "      <th>Gender</th>\n",
       "      <th></th>\n",
       "      <th></th>\n",
       "      <th></th>\n",
       "      <th></th>\n",
       "      <th></th>\n",
       "    </tr>\n",
       "  </thead>\n",
       "  <tbody>\n",
       "    <tr>\n",
       "      <th>Man</th>\n",
       "      <td>2.764706</td>\n",
       "      <td>4.620690</td>\n",
       "      <td>2.733333</td>\n",
       "      <td>2.000000</td>\n",
       "      <td>3.405063</td>\n",
       "    </tr>\n",
       "    <tr>\n",
       "      <th>Woman</th>\n",
       "      <td>2.700000</td>\n",
       "      <td>4.709677</td>\n",
       "      <td>2.500000</td>\n",
       "      <td>2.250000</td>\n",
       "      <td>3.507246</td>\n",
       "    </tr>\n",
       "    <tr>\n",
       "      <th>All</th>\n",
       "      <td>2.740741</td>\n",
       "      <td>4.666667</td>\n",
       "      <td>2.629630</td>\n",
       "      <td>2.142857</td>\n",
       "      <td>3.452703</td>\n",
       "    </tr>\n",
       "  </tbody>\n",
       "</table>\n",
       "</div>"
      ],
      "text/plain": [
       "Groups     20-39     40-59     60-79     80-99       All\n",
       "Gender                                                  \n",
       "Man     2.764706  4.620690  2.733333  2.000000  3.405063\n",
       "Woman   2.700000  4.709677  2.500000  2.250000  3.507246\n",
       "All     2.740741  4.666667  2.629630  2.142857  3.452703"
      ]
     },
     "execution_count": 281,
     "metadata": {},
     "output_type": "execute_result"
    }
   ],
   "source": [
    "mac.pivot_table(index='Gender', columns='Groups', values='Frequency', aggfunc='mean', margins=True)"
   ]
  },
  {
   "cell_type": "markdown",
   "metadata": {},
   "source": [
    "Мы видим, что для каждого уровня дохода мужчины и женщины посещают Макдональдс примерно одинаковое количество раз.\n",
    "Также и у мужчин, и у женщин наиболее частыми посетителями являются люди с доходом от 40 до 60 тысяч долларов."
   ]
  },
  {
   "cell_type": "markdown",
   "metadata": {},
   "source": [
    "***\n",
    "Студенты Школы изящных искусств подали заявления на изучение или английского языка или методов научного исследования. Необходимо определить, проводит ли Школа изящных искусств политику дискриминации в отношении женщин при приеме студентов на обучение с учетом их выбора. О студентах Школы изящных искусств имеются следующие данные:\n",
    "- женщина (Female) или мужчина (Male);\n",
    "- предпочитаемая дисциплина: английский (Eng) или методы научного исследования (Sci);\n",
    "- принят? (Yes или No).\n",
    "\n",
    "При условии, что женщины обладают равной с мужчинами квалификацией в каждой из дисциплин, свидетельствуют ли эти данные о дискриминации женщин? Используйте всю доступную информацию. Данные хранятся в файле Finearts.xlsx."
   ]
  },
  {
   "cell_type": "code",
   "execution_count": 290,
   "metadata": {},
   "outputs": [],
   "source": [
    "finearts = pd.read_excel('~/Study/excel/Ch43/Practice Files/Finearts.xlsx',\n",
    "                     skiprows=2, usecols=range(3,7))"
   ]
  },
  {
   "cell_type": "code",
   "execution_count": 291,
   "metadata": {},
   "outputs": [
    {
     "data": {
      "text/html": [
       "<div>\n",
       "<style scoped>\n",
       "    .dataframe tbody tr th:only-of-type {\n",
       "        vertical-align: middle;\n",
       "    }\n",
       "\n",
       "    .dataframe tbody tr th {\n",
       "        vertical-align: top;\n",
       "    }\n",
       "\n",
       "    .dataframe thead th {\n",
       "        text-align: right;\n",
       "    }\n",
       "</style>\n",
       "<table border=\"1\" class=\"dataframe\">\n",
       "  <thead>\n",
       "    <tr style=\"text-align: right;\">\n",
       "      <th></th>\n",
       "      <th>Gender</th>\n",
       "      <th>Major</th>\n",
       "      <th>Admit?</th>\n",
       "    </tr>\n",
       "  </thead>\n",
       "  <tbody>\n",
       "    <tr>\n",
       "      <th>0</th>\n",
       "      <td>Female</td>\n",
       "      <td>Eng</td>\n",
       "      <td>Yes</td>\n",
       "    </tr>\n",
       "    <tr>\n",
       "      <th>1</th>\n",
       "      <td>Female</td>\n",
       "      <td>Eng</td>\n",
       "      <td>Yes</td>\n",
       "    </tr>\n",
       "    <tr>\n",
       "      <th>2</th>\n",
       "      <td>Female</td>\n",
       "      <td>Eng</td>\n",
       "      <td>Yes</td>\n",
       "    </tr>\n",
       "    <tr>\n",
       "      <th>3</th>\n",
       "      <td>Female</td>\n",
       "      <td>Eng</td>\n",
       "      <td>Yes</td>\n",
       "    </tr>\n",
       "    <tr>\n",
       "      <th>4</th>\n",
       "      <td>Female</td>\n",
       "      <td>Eng</td>\n",
       "      <td>Yes</td>\n",
       "    </tr>\n",
       "  </tbody>\n",
       "</table>\n",
       "</div>"
      ],
      "text/plain": [
       "   Gender Major Admit?\n",
       "0  Female   Eng    Yes\n",
       "1  Female   Eng    Yes\n",
       "2  Female   Eng    Yes\n",
       "3  Female   Eng    Yes\n",
       "4  Female   Eng    Yes"
      ]
     },
     "execution_count": 291,
     "metadata": {},
     "output_type": "execute_result"
    }
   ],
   "source": [
    "finearts.head()"
   ]
  },
  {
   "cell_type": "code",
   "execution_count": 293,
   "metadata": {},
   "outputs": [
    {
     "data": {
      "text/html": [
       "<style  type=\"text/css\" >\n",
       "</style><table id=\"T_a85d776c_bca3_11eb_8063_8c2937e9c0de\" ><thead>    <tr>        <th class=\"blank level0\" ></th>        <th class=\"col_heading level0 col0\" colspan=3>Major</th>    </tr>    <tr>        <th class=\"index_name level1\" >Admit?</th>        <th class=\"col_heading level1 col0\" >No</th>        <th class=\"col_heading level1 col1\" >Yes</th>        <th class=\"col_heading level1 col2\" >All</th>    </tr>    <tr>        <th class=\"index_name level0\" >Gender</th>        <th class=\"blank\" ></th>        <th class=\"blank\" ></th>        <th class=\"blank\" ></th>    </tr></thead><tbody>\n",
       "                <tr>\n",
       "                        <th id=\"T_a85d776c_bca3_11eb_8063_8c2937e9c0delevel0_row0\" class=\"row_heading level0 row0\" >Female</th>\n",
       "                        <td id=\"T_a85d776c_bca3_11eb_8063_8c2937e9c0derow0_col0\" class=\"data row0 col0\" >50.53%</td>\n",
       "                        <td id=\"T_a85d776c_bca3_11eb_8063_8c2937e9c0derow0_col1\" class=\"data row0 col1\" >49.52%</td>\n",
       "                        <td id=\"T_a85d776c_bca3_11eb_8063_8c2937e9c0derow0_col2\" class=\"data row0 col2\" >50.00%</td>\n",
       "            </tr>\n",
       "            <tr>\n",
       "                        <th id=\"T_a85d776c_bca3_11eb_8063_8c2937e9c0delevel0_row1\" class=\"row_heading level0 row1\" >Male</th>\n",
       "                        <td id=\"T_a85d776c_bca3_11eb_8063_8c2937e9c0derow1_col0\" class=\"data row1 col0\" >49.47%</td>\n",
       "                        <td id=\"T_a85d776c_bca3_11eb_8063_8c2937e9c0derow1_col1\" class=\"data row1 col1\" >50.48%</td>\n",
       "                        <td id=\"T_a85d776c_bca3_11eb_8063_8c2937e9c0derow1_col2\" class=\"data row1 col2\" >50.00%</td>\n",
       "            </tr>\n",
       "            <tr>\n",
       "                        <th id=\"T_a85d776c_bca3_11eb_8063_8c2937e9c0delevel0_row2\" class=\"row_heading level0 row2\" >All</th>\n",
       "                        <td id=\"T_a85d776c_bca3_11eb_8063_8c2937e9c0derow2_col0\" class=\"data row2 col0\" >100.00%</td>\n",
       "                        <td id=\"T_a85d776c_bca3_11eb_8063_8c2937e9c0derow2_col1\" class=\"data row2 col1\" >100.00%</td>\n",
       "                        <td id=\"T_a85d776c_bca3_11eb_8063_8c2937e9c0derow2_col2\" class=\"data row2 col2\" >100.00%</td>\n",
       "            </tr>\n",
       "    </tbody></table>"
      ],
      "text/plain": [
       "<pandas.io.formats.style.Styler at 0x7f8001817f10>"
      ]
     },
     "execution_count": 293,
     "metadata": {},
     "output_type": "execute_result"
    }
   ],
   "source": [
    "t = finearts.pivot_table(index='Gender', columns='Admit?', aggfunc='count', margins=True)\n",
    "(\n",
    "    t.div(t.iloc[-1, :], axis=1).mul(100)\n",
    "     .style\n",
    "     .format(\"{:.2f}%\")\n",
    ")"
   ]
  },
  {
   "cell_type": "code",
   "execution_count": 300,
   "metadata": {},
   "outputs": [
    {
     "data": {
      "text/html": [
       "<style  type=\"text/css\" >\n",
       "</style><table id=\"T_baae3f36_bca4_11eb_8063_8c2937e9c0de\" ><thead>    <tr>        <th class=\"blank\" ></th>        <th class=\"blank level0\" ></th>        <th class=\"col_heading level0 col0\" colspan=3>Counts</th>    </tr>    <tr>        <th class=\"blank\" ></th>        <th class=\"index_name level1\" >Admit?</th>        <th class=\"col_heading level1 col0\" >No</th>        <th class=\"col_heading level1 col1\" >Yes</th>        <th class=\"col_heading level1 col2\" >All</th>    </tr>    <tr>        <th class=\"index_name level0\" >Major</th>        <th class=\"index_name level1\" >Gender</th>        <th class=\"blank\" ></th>        <th class=\"blank\" ></th>        <th class=\"blank\" ></th>    </tr></thead><tbody>\n",
       "                <tr>\n",
       "                        <th id=\"T_baae3f36_bca4_11eb_8063_8c2937e9c0delevel0_row0\" class=\"row_heading level0 row0\" rowspan=2>Eng</th>\n",
       "                        <th id=\"T_baae3f36_bca4_11eb_8063_8c2937e9c0delevel1_row0\" class=\"row_heading level1 row0\" >Female</th>\n",
       "                        <td id=\"T_baae3f36_bca4_11eb_8063_8c2937e9c0derow0_col0\" class=\"data row0 col0\" >40.00%</td>\n",
       "                        <td id=\"T_baae3f36_bca4_11eb_8063_8c2937e9c0derow0_col1\" class=\"data row0 col1\" >60.00%</td>\n",
       "                        <td id=\"T_baae3f36_bca4_11eb_8063_8c2937e9c0derow0_col2\" class=\"data row0 col2\" >100.00%</td>\n",
       "            </tr>\n",
       "            <tr>\n",
       "                                <th id=\"T_baae3f36_bca4_11eb_8063_8c2937e9c0delevel1_row1\" class=\"row_heading level1 row1\" >Male</th>\n",
       "                        <td id=\"T_baae3f36_bca4_11eb_8063_8c2937e9c0derow1_col0\" class=\"data row1 col0\" >20.00%</td>\n",
       "                        <td id=\"T_baae3f36_bca4_11eb_8063_8c2937e9c0derow1_col1\" class=\"data row1 col1\" >80.00%</td>\n",
       "                        <td id=\"T_baae3f36_bca4_11eb_8063_8c2937e9c0derow1_col2\" class=\"data row1 col2\" >100.00%</td>\n",
       "            </tr>\n",
       "            <tr>\n",
       "                        <th id=\"T_baae3f36_bca4_11eb_8063_8c2937e9c0delevel0_row2\" class=\"row_heading level0 row2\" rowspan=2>Sci</th>\n",
       "                        <th id=\"T_baae3f36_bca4_11eb_8063_8c2937e9c0delevel1_row2\" class=\"row_heading level1 row2\" >Female</th>\n",
       "                        <td id=\"T_baae3f36_bca4_11eb_8063_8c2937e9c0derow2_col0\" class=\"data row2 col0\" >80.00%</td>\n",
       "                        <td id=\"T_baae3f36_bca4_11eb_8063_8c2937e9c0derow2_col1\" class=\"data row2 col1\" >20.00%</td>\n",
       "                        <td id=\"T_baae3f36_bca4_11eb_8063_8c2937e9c0derow2_col2\" class=\"data row2 col2\" >100.00%</td>\n",
       "            </tr>\n",
       "            <tr>\n",
       "                                <th id=\"T_baae3f36_bca4_11eb_8063_8c2937e9c0delevel1_row3\" class=\"row_heading level1 row3\" >Male</th>\n",
       "                        <td id=\"T_baae3f36_bca4_11eb_8063_8c2937e9c0derow3_col0\" class=\"data row3 col0\" >58.57%</td>\n",
       "                        <td id=\"T_baae3f36_bca4_11eb_8063_8c2937e9c0derow3_col1\" class=\"data row3 col1\" >41.43%</td>\n",
       "                        <td id=\"T_baae3f36_bca4_11eb_8063_8c2937e9c0derow3_col2\" class=\"data row3 col2\" >100.00%</td>\n",
       "            </tr>\n",
       "            <tr>\n",
       "                        <th id=\"T_baae3f36_bca4_11eb_8063_8c2937e9c0delevel0_row4\" class=\"row_heading level0 row4\" >All</th>\n",
       "                        <th id=\"T_baae3f36_bca4_11eb_8063_8c2937e9c0delevel1_row4\" class=\"row_heading level1 row4\" ></th>\n",
       "                        <td id=\"T_baae3f36_bca4_11eb_8063_8c2937e9c0derow4_col0\" class=\"data row4 col0\" >47.50%</td>\n",
       "                        <td id=\"T_baae3f36_bca4_11eb_8063_8c2937e9c0derow4_col1\" class=\"data row4 col1\" >52.50%</td>\n",
       "                        <td id=\"T_baae3f36_bca4_11eb_8063_8c2937e9c0derow4_col2\" class=\"data row4 col2\" >100.00%</td>\n",
       "            </tr>\n",
       "    </tbody></table>"
      ],
      "text/plain": [
       "<pandas.io.formats.style.Styler at 0x7f80005844c0>"
      ]
     },
     "execution_count": 300,
     "metadata": {},
     "output_type": "execute_result"
    }
   ],
   "source": [
    "t = finearts.assign(Counts=1).pivot_table(index=['Major', 'Gender'], columns='Admit?',\n",
    "                                          aggfunc='count', margins=True)\n",
    "\n",
    "(\n",
    "    t.div(t.iloc[:, -1], axis=0).mul(100)\n",
    "     .style\n",
    "     .format(\"{:.2f}%\")\n",
    ")"
   ]
  },
  {
   "cell_type": "code",
   "execution_count": 303,
   "metadata": {},
   "outputs": [
    {
     "data": {
      "text/html": [
       "<style  type=\"text/css\" >\n",
       "</style><table id=\"T_30e14b58_bca5_11eb_8063_8c2937e9c0de\" ><thead>    <tr>        <th class=\"index_name level0\" >Major</th>        <th class=\"col_heading level0 col0\" >Eng</th>        <th class=\"col_heading level0 col1\" >Sci</th>        <th class=\"col_heading level0 col2\" >All</th>    </tr>    <tr>        <th class=\"index_name level0\" >Gender</th>        <th class=\"blank\" ></th>        <th class=\"blank\" ></th>        <th class=\"blank\" ></th>    </tr></thead><tbody>\n",
       "                <tr>\n",
       "                        <th id=\"T_30e14b58_bca5_11eb_8063_8c2937e9c0delevel0_row0\" class=\"row_heading level0 row0\" >Female</th>\n",
       "                        <td id=\"T_30e14b58_bca5_11eb_8063_8c2937e9c0derow0_col0\" class=\"data row0 col0\" >80.00%</td>\n",
       "                        <td id=\"T_30e14b58_bca5_11eb_8063_8c2937e9c0derow0_col1\" class=\"data row0 col1\" >20.00%</td>\n",
       "                        <td id=\"T_30e14b58_bca5_11eb_8063_8c2937e9c0derow0_col2\" class=\"data row0 col2\" >100.00%</td>\n",
       "            </tr>\n",
       "            <tr>\n",
       "                        <th id=\"T_30e14b58_bca5_11eb_8063_8c2937e9c0delevel0_row1\" class=\"row_heading level0 row1\" >Male</th>\n",
       "                        <td id=\"T_30e14b58_bca5_11eb_8063_8c2937e9c0derow1_col0\" class=\"data row1 col0\" >30.00%</td>\n",
       "                        <td id=\"T_30e14b58_bca5_11eb_8063_8c2937e9c0derow1_col1\" class=\"data row1 col1\" >70.00%</td>\n",
       "                        <td id=\"T_30e14b58_bca5_11eb_8063_8c2937e9c0derow1_col2\" class=\"data row1 col2\" >100.00%</td>\n",
       "            </tr>\n",
       "            <tr>\n",
       "                        <th id=\"T_30e14b58_bca5_11eb_8063_8c2937e9c0delevel0_row2\" class=\"row_heading level0 row2\" >All</th>\n",
       "                        <td id=\"T_30e14b58_bca5_11eb_8063_8c2937e9c0derow2_col0\" class=\"data row2 col0\" >55.00%</td>\n",
       "                        <td id=\"T_30e14b58_bca5_11eb_8063_8c2937e9c0derow2_col1\" class=\"data row2 col1\" >45.00%</td>\n",
       "                        <td id=\"T_30e14b58_bca5_11eb_8063_8c2937e9c0derow2_col2\" class=\"data row2 col2\" >100.00%</td>\n",
       "            </tr>\n",
       "    </tbody></table>"
      ],
      "text/plain": [
       "<pandas.io.formats.style.Styler at 0x7f8000a0aaf0>"
      ]
     },
     "execution_count": 303,
     "metadata": {},
     "output_type": "execute_result"
    }
   ],
   "source": [
    "t = finearts.assign(Counts=1).pivot_table(index=['Gender'], columns='Major', values='Admit?',\n",
    "                                          aggfunc='count', margins=True)\n",
    "\n",
    "(\n",
    "    t.div(t.iloc[:, -1], axis=0).mul(100)\n",
    "     .style\n",
    "     .format(\"{:.2f}%\")\n",
    ")"
   ]
  },
  {
   "cell_type": "markdown",
   "metadata": {},
   "source": [
    "Заметно, что в целом примерно одинаковый процент мужчин и женщин допускаются к выбору своей области. Однако по каждой специальности допущено значительно меньшее количество женщин, что указывает на возможную дискриминацию. Причина, по которой общий процент допущенных женщин оказался высоким, заключается в том, что в основном женщины выбирают более легкую специальность (английский язык).\n",
    "***"
   ]
  },
  {
   "cell_type": "markdown",
   "metadata": {},
   "source": [
    "Вам поручено оценить качество медицинской помощи, оказанной пациентам с сердечными приступами в больницах Emergency Room (ER) и Chicago Hope (CH). За последние месяцы получены следующие данные о пациентах:\n",
    "- больница (ER или CH);\n",
    "- категория риска (High или Low). Пациенты с высокой категорией риска выживают с меньшей вероятностью, чем пациенты с низкой категорией риска;\n",
    "- исход для пациента (Live или Die).\n",
    "\n",
    "На основе этих данных определите, в какой из больниц качество оказания медицинской помощи пациентам с сердечными приступами выше. Подсказка: используйте все доступные данные. Данные находятся в файле Hospital.xlsx."
   ]
  },
  {
   "cell_type": "code",
   "execution_count": 306,
   "metadata": {},
   "outputs": [],
   "source": [
    "hospital = pd.read_excel('~/Study/excel/Ch43/Practice Files/Hospital.xlsx',\n",
    "                         skiprows=2, usecols=range(4,8))"
   ]
  },
  {
   "cell_type": "code",
   "execution_count": 308,
   "metadata": {},
   "outputs": [
    {
     "data": {
      "text/html": [
       "<div>\n",
       "<style scoped>\n",
       "    .dataframe tbody tr th:only-of-type {\n",
       "        vertical-align: middle;\n",
       "    }\n",
       "\n",
       "    .dataframe tbody tr th {\n",
       "        vertical-align: top;\n",
       "    }\n",
       "\n",
       "    .dataframe thead th {\n",
       "        text-align: right;\n",
       "    }\n",
       "</style>\n",
       "<table border=\"1\" class=\"dataframe\">\n",
       "  <thead>\n",
       "    <tr style=\"text-align: right;\">\n",
       "      <th></th>\n",
       "      <th>Hospital</th>\n",
       "      <th>Risk Category</th>\n",
       "      <th>Outcome</th>\n",
       "    </tr>\n",
       "  </thead>\n",
       "  <tbody>\n",
       "    <tr>\n",
       "      <th>0</th>\n",
       "      <td>ER</td>\n",
       "      <td>High</td>\n",
       "      <td>Die</td>\n",
       "    </tr>\n",
       "    <tr>\n",
       "      <th>1</th>\n",
       "      <td>ER</td>\n",
       "      <td>High</td>\n",
       "      <td>Die</td>\n",
       "    </tr>\n",
       "    <tr>\n",
       "      <th>2</th>\n",
       "      <td>ER</td>\n",
       "      <td>High</td>\n",
       "      <td>Die</td>\n",
       "    </tr>\n",
       "    <tr>\n",
       "      <th>3</th>\n",
       "      <td>ER</td>\n",
       "      <td>High</td>\n",
       "      <td>Die</td>\n",
       "    </tr>\n",
       "    <tr>\n",
       "      <th>4</th>\n",
       "      <td>ER</td>\n",
       "      <td>High</td>\n",
       "      <td>Die</td>\n",
       "    </tr>\n",
       "  </tbody>\n",
       "</table>\n",
       "</div>"
      ],
      "text/plain": [
       "  Hospital Risk Category Outcome\n",
       "0       ER          High     Die\n",
       "1       ER          High     Die\n",
       "2       ER          High     Die\n",
       "3       ER          High     Die\n",
       "4       ER          High     Die"
      ]
     },
     "execution_count": 308,
     "metadata": {},
     "output_type": "execute_result"
    }
   ],
   "source": [
    "hospital.head()"
   ]
  },
  {
   "cell_type": "code",
   "execution_count": 311,
   "metadata": {},
   "outputs": [
    {
     "data": {
      "text/html": [
       "<style  type=\"text/css\" >\n",
       "</style><table id=\"T_950eef84_bd4c_11eb_8063_8c2937e9c0de\" ><thead>    <tr>        <th class=\"blank level0\" ></th>        <th class=\"col_heading level0 col0\" colspan=3>Risk Category</th>    </tr>    <tr>        <th class=\"index_name level1\" >Outcome</th>        <th class=\"col_heading level1 col0\" >Die</th>        <th class=\"col_heading level1 col1\" >Live</th>        <th class=\"col_heading level1 col2\" >All</th>    </tr>    <tr>        <th class=\"index_name level0\" >Hospital</th>        <th class=\"blank\" ></th>        <th class=\"blank\" ></th>        <th class=\"blank\" ></th>    </tr></thead><tbody>\n",
       "                <tr>\n",
       "                        <th id=\"T_950eef84_bd4c_11eb_8063_8c2937e9c0delevel0_row0\" class=\"row_heading level0 row0\" >CH</th>\n",
       "                        <td id=\"T_950eef84_bd4c_11eb_8063_8c2937e9c0derow0_col0\" class=\"data row0 col0\" >16.75%</td>\n",
       "                        <td id=\"T_950eef84_bd4c_11eb_8063_8c2937e9c0derow0_col1\" class=\"data row0 col1\" >83.25%</td>\n",
       "                        <td id=\"T_950eef84_bd4c_11eb_8063_8c2937e9c0derow0_col2\" class=\"data row0 col2\" >100.00%</td>\n",
       "            </tr>\n",
       "            <tr>\n",
       "                        <th id=\"T_950eef84_bd4c_11eb_8063_8c2937e9c0delevel0_row1\" class=\"row_heading level0 row1\" >ER</th>\n",
       "                        <td id=\"T_950eef84_bd4c_11eb_8063_8c2937e9c0derow1_col0\" class=\"data row1 col0\" >17.50%</td>\n",
       "                        <td id=\"T_950eef84_bd4c_11eb_8063_8c2937e9c0derow1_col1\" class=\"data row1 col1\" >82.50%</td>\n",
       "                        <td id=\"T_950eef84_bd4c_11eb_8063_8c2937e9c0derow1_col2\" class=\"data row1 col2\" >100.00%</td>\n",
       "            </tr>\n",
       "            <tr>\n",
       "                        <th id=\"T_950eef84_bd4c_11eb_8063_8c2937e9c0delevel0_row2\" class=\"row_heading level0 row2\" >All</th>\n",
       "                        <td id=\"T_950eef84_bd4c_11eb_8063_8c2937e9c0derow2_col0\" class=\"data row2 col0\" >17.12%</td>\n",
       "                        <td id=\"T_950eef84_bd4c_11eb_8063_8c2937e9c0derow2_col1\" class=\"data row2 col1\" >82.88%</td>\n",
       "                        <td id=\"T_950eef84_bd4c_11eb_8063_8c2937e9c0derow2_col2\" class=\"data row2 col2\" >100.00%</td>\n",
       "            </tr>\n",
       "    </tbody></table>"
      ],
      "text/plain": [
       "<pandas.io.formats.style.Styler at 0x7f80005944c0>"
      ]
     },
     "execution_count": 311,
     "metadata": {},
     "output_type": "execute_result"
    }
   ],
   "source": [
    "t = hospital.pivot_table(index='Hospital', columns='Outcome', aggfunc='count', margins=True)\n",
    "\n",
    "(\n",
    "     t.div(t.iloc[:, -1], axis=0).mul(100)\n",
    "     .style\n",
    "     .format(\"{:.2f}%\")\n",
    ")"
   ]
  },
  {
   "cell_type": "code",
   "execution_count": 314,
   "metadata": {},
   "outputs": [
    {
     "data": {
      "text/html": [
       "<style  type=\"text/css\" >\n",
       "</style><table id=\"T_d6901d98_bd4c_11eb_8063_8c2937e9c0de\" ><thead>    <tr>        <th class=\"blank\" ></th>        <th class=\"blank level0\" ></th>        <th class=\"col_heading level0 col0\" colspan=3>Counts</th>    </tr>    <tr>        <th class=\"blank\" ></th>        <th class=\"index_name level1\" >Outcome</th>        <th class=\"col_heading level1 col0\" >Die</th>        <th class=\"col_heading level1 col1\" >Live</th>        <th class=\"col_heading level1 col2\" >All</th>    </tr>    <tr>        <th class=\"index_name level0\" >Risk Category</th>        <th class=\"index_name level1\" >Hospital</th>        <th class=\"blank\" ></th>        <th class=\"blank\" ></th>        <th class=\"blank\" ></th>    </tr></thead><tbody>\n",
       "                <tr>\n",
       "                        <th id=\"T_d6901d98_bd4c_11eb_8063_8c2937e9c0delevel0_row0\" class=\"row_heading level0 row0\" rowspan=2>High</th>\n",
       "                        <th id=\"T_d6901d98_bd4c_11eb_8063_8c2937e9c0delevel1_row0\" class=\"row_heading level1 row0\" >CH</th>\n",
       "                        <td id=\"T_d6901d98_bd4c_11eb_8063_8c2937e9c0derow0_col0\" class=\"data row0 col0\" >31.82%</td>\n",
       "                        <td id=\"T_d6901d98_bd4c_11eb_8063_8c2937e9c0derow0_col1\" class=\"data row0 col1\" >68.18%</td>\n",
       "                        <td id=\"T_d6901d98_bd4c_11eb_8063_8c2937e9c0derow0_col2\" class=\"data row0 col2\" >100.00%</td>\n",
       "            </tr>\n",
       "            <tr>\n",
       "                                <th id=\"T_d6901d98_bd4c_11eb_8063_8c2937e9c0delevel1_row1\" class=\"row_heading level1 row1\" >ER</th>\n",
       "                        <td id=\"T_d6901d98_bd4c_11eb_8063_8c2937e9c0derow1_col0\" class=\"data row1 col0\" >20.00%</td>\n",
       "                        <td id=\"T_d6901d98_bd4c_11eb_8063_8c2937e9c0derow1_col1\" class=\"data row1 col1\" >80.00%</td>\n",
       "                        <td id=\"T_d6901d98_bd4c_11eb_8063_8c2937e9c0derow1_col2\" class=\"data row1 col2\" >100.00%</td>\n",
       "            </tr>\n",
       "            <tr>\n",
       "                        <th id=\"T_d6901d98_bd4c_11eb_8063_8c2937e9c0delevel0_row2\" class=\"row_heading level0 row2\" rowspan=2>Low</th>\n",
       "                        <th id=\"T_d6901d98_bd4c_11eb_8063_8c2937e9c0delevel1_row2\" class=\"row_heading level1 row2\" >CH</th>\n",
       "                        <td id=\"T_d6901d98_bd4c_11eb_8063_8c2937e9c0derow2_col0\" class=\"data row2 col0\" >14.92%</td>\n",
       "                        <td id=\"T_d6901d98_bd4c_11eb_8063_8c2937e9c0derow2_col1\" class=\"data row2 col1\" >85.08%</td>\n",
       "                        <td id=\"T_d6901d98_bd4c_11eb_8063_8c2937e9c0derow2_col2\" class=\"data row2 col2\" >100.00%</td>\n",
       "            </tr>\n",
       "            <tr>\n",
       "                                <th id=\"T_d6901d98_bd4c_11eb_8063_8c2937e9c0delevel1_row3\" class=\"row_heading level1 row3\" >ER</th>\n",
       "                        <td id=\"T_d6901d98_bd4c_11eb_8063_8c2937e9c0derow3_col0\" class=\"data row3 col0\" >7.50%</td>\n",
       "                        <td id=\"T_d6901d98_bd4c_11eb_8063_8c2937e9c0derow3_col1\" class=\"data row3 col1\" >92.50%</td>\n",
       "                        <td id=\"T_d6901d98_bd4c_11eb_8063_8c2937e9c0derow3_col2\" class=\"data row3 col2\" >100.00%</td>\n",
       "            </tr>\n",
       "            <tr>\n",
       "                        <th id=\"T_d6901d98_bd4c_11eb_8063_8c2937e9c0delevel0_row4\" class=\"row_heading level0 row4\" >All</th>\n",
       "                        <th id=\"T_d6901d98_bd4c_11eb_8063_8c2937e9c0delevel1_row4\" class=\"row_heading level1 row4\" ></th>\n",
       "                        <td id=\"T_d6901d98_bd4c_11eb_8063_8c2937e9c0derow4_col0\" class=\"data row4 col0\" >17.12%</td>\n",
       "                        <td id=\"T_d6901d98_bd4c_11eb_8063_8c2937e9c0derow4_col1\" class=\"data row4 col1\" >82.88%</td>\n",
       "                        <td id=\"T_d6901d98_bd4c_11eb_8063_8c2937e9c0derow4_col2\" class=\"data row4 col2\" >100.00%</td>\n",
       "            </tr>\n",
       "    </tbody></table>"
      ],
      "text/plain": [
       "<pandas.io.formats.style.Styler at 0x7f80024e8220>"
      ]
     },
     "execution_count": 314,
     "metadata": {},
     "output_type": "execute_result"
    }
   ],
   "source": [
    "t = hospital.assign(Counts=1).pivot_table(index=['Risk Category', 'Hospital'],\n",
    "                                          columns='Outcome', aggfunc='count', margins=True)\n",
    "\n",
    "(\n",
    "     t.div(t.iloc[:, -1], axis=0).mul(100)\n",
    "     .style\n",
    "     .format(\"{:.2f}%\")\n",
    ")"
   ]
  },
  {
   "cell_type": "code",
   "execution_count": 315,
   "metadata": {},
   "outputs": [
    {
     "data": {
      "text/html": [
       "<style  type=\"text/css\" >\n",
       "</style><table id=\"T_62349518_bd4d_11eb_8063_8c2937e9c0de\" ><thead>    <tr>        <th class=\"blank level0\" ></th>        <th class=\"col_heading level0 col0\" colspan=3>Outcome</th>    </tr>    <tr>        <th class=\"index_name level1\" >Risk Category</th>        <th class=\"col_heading level1 col0\" >High</th>        <th class=\"col_heading level1 col1\" >Low</th>        <th class=\"col_heading level1 col2\" >All</th>    </tr>    <tr>        <th class=\"index_name level0\" >Hospital</th>        <th class=\"blank\" ></th>        <th class=\"blank\" ></th>        <th class=\"blank\" ></th>    </tr></thead><tbody>\n",
       "                <tr>\n",
       "                        <th id=\"T_62349518_bd4d_11eb_8063_8c2937e9c0delevel0_row0\" class=\"row_heading level0 row0\" >CH</th>\n",
       "                        <td id=\"T_62349518_bd4d_11eb_8063_8c2937e9c0derow0_col0\" class=\"data row0 col0\" >10.84%</td>\n",
       "                        <td id=\"T_62349518_bd4d_11eb_8063_8c2937e9c0derow0_col1\" class=\"data row0 col1\" >89.16%</td>\n",
       "                        <td id=\"T_62349518_bd4d_11eb_8063_8c2937e9c0derow0_col2\" class=\"data row0 col2\" >100.00%</td>\n",
       "            </tr>\n",
       "            <tr>\n",
       "                        <th id=\"T_62349518_bd4d_11eb_8063_8c2937e9c0delevel0_row1\" class=\"row_heading level0 row1\" >ER</th>\n",
       "                        <td id=\"T_62349518_bd4d_11eb_8063_8c2937e9c0derow1_col0\" class=\"data row1 col0\" >80.00%</td>\n",
       "                        <td id=\"T_62349518_bd4d_11eb_8063_8c2937e9c0derow1_col1\" class=\"data row1 col1\" >20.00%</td>\n",
       "                        <td id=\"T_62349518_bd4d_11eb_8063_8c2937e9c0derow1_col2\" class=\"data row1 col2\" >100.00%</td>\n",
       "            </tr>\n",
       "            <tr>\n",
       "                        <th id=\"T_62349518_bd4d_11eb_8063_8c2937e9c0delevel0_row2\" class=\"row_heading level0 row2\" >All</th>\n",
       "                        <td id=\"T_62349518_bd4d_11eb_8063_8c2937e9c0derow2_col0\" class=\"data row2 col0\" >45.16%</td>\n",
       "                        <td id=\"T_62349518_bd4d_11eb_8063_8c2937e9c0derow2_col1\" class=\"data row2 col1\" >54.84%</td>\n",
       "                        <td id=\"T_62349518_bd4d_11eb_8063_8c2937e9c0derow2_col2\" class=\"data row2 col2\" >100.00%</td>\n",
       "            </tr>\n",
       "    </tbody></table>"
      ],
      "text/plain": [
       "<pandas.io.formats.style.Styler at 0x7f8002f35850>"
      ]
     },
     "execution_count": 315,
     "metadata": {},
     "output_type": "execute_result"
    }
   ],
   "source": [
    "t = hospital.pivot_table(index='Hospital', columns='Risk Category', aggfunc='count', margins=True)\n",
    "\n",
    "(\n",
    "     t.div(t.iloc[:, -1], axis=0).mul(100)\n",
    "     .style\n",
    "     .format(\"{:.2f}%\")\n",
    ")"
   ]
  },
  {
   "cell_type": "markdown",
   "metadata": {},
   "source": [
    "Мы видим, что для каждой категории риска показатели ER лучше. В целом ER имеет более высокий уровень смертности; это связано с тем, что они обслуживают гораздо большую часть пациентов с высоким риском, чем CH. Эта аномалия имеет важное значение для анализа качества медицинской помощи. Вы всегда в плюсе, если лечите только здоровых людей. По этой причине в Нью-Йорке кардиохирурги вывозили пациентов из группы высокого риска за пределы штата."
   ]
  },
  {
   "cell_type": "markdown",
   "metadata": {},
   "source": [
    "***\n",
    "Дан ежемесячный уровень индекса Доу-Джонса для 1947—1992 гг. Отражают ли эти данные какие-либо необычные сезонные закономерности доходности акций? Подсказка: месяц (январь, февраль и т. д.) можно извлечь с помощью формулы =ТЕКСТ(A4,\"МММ\"), скопированной в любой столбец. Данные к заданию находятся в файле Dow.xlsx."
   ]
  },
  {
   "cell_type": "code",
   "execution_count": 322,
   "metadata": {},
   "outputs": [],
   "source": [
    "dow = pd.read_excel('~/Study/excel/Ch43/Practice Files/Dow.xlsx',\n",
    "                    skiprows=2, usecols=range(3,8)).rename(columns={'Unnamed: 6': 'Month Index'})"
   ]
  },
  {
   "cell_type": "code",
   "execution_count": 334,
   "metadata": {},
   "outputs": [
    {
     "data": {
      "text/html": [
       "<div>\n",
       "<style scoped>\n",
       "    .dataframe tbody tr th:only-of-type {\n",
       "        vertical-align: middle;\n",
       "    }\n",
       "\n",
       "    .dataframe tbody tr th {\n",
       "        vertical-align: top;\n",
       "    }\n",
       "\n",
       "    .dataframe thead th {\n",
       "        text-align: right;\n",
       "    }\n",
       "</style>\n",
       "<table border=\"1\" class=\"dataframe\">\n",
       "  <thead>\n",
       "    <tr style=\"text-align: right;\">\n",
       "      <th></th>\n",
       "      <th>Month</th>\n",
       "      <th>Closing DOW</th>\n",
       "      <th>Return</th>\n",
       "      <th>Month Index</th>\n",
       "    </tr>\n",
       "  </thead>\n",
       "  <tbody>\n",
       "    <tr>\n",
       "      <th>0</th>\n",
       "      <td>1947-01-01</td>\n",
       "      <td>176.10</td>\n",
       "      <td>0</td>\n",
       "      <td>Jan</td>\n",
       "    </tr>\n",
       "    <tr>\n",
       "      <th>1</th>\n",
       "      <td>1947-02-01</td>\n",
       "      <td>181.54</td>\n",
       "      <td>0.0308915</td>\n",
       "      <td>Feb</td>\n",
       "    </tr>\n",
       "    <tr>\n",
       "      <th>2</th>\n",
       "      <td>1947-03-01</td>\n",
       "      <td>176.66</td>\n",
       "      <td>-0.0268811</td>\n",
       "      <td>Mar</td>\n",
       "    </tr>\n",
       "    <tr>\n",
       "      <th>3</th>\n",
       "      <td>1947-04-01</td>\n",
       "      <td>171.28</td>\n",
       "      <td>-0.030454</td>\n",
       "      <td>Apr</td>\n",
       "    </tr>\n",
       "    <tr>\n",
       "      <th>4</th>\n",
       "      <td>1947-05-01</td>\n",
       "      <td>168.67</td>\n",
       "      <td>-0.0152382</td>\n",
       "      <td>May</td>\n",
       "    </tr>\n",
       "  </tbody>\n",
       "</table>\n",
       "</div>"
      ],
      "text/plain": [
       "       Month  Closing DOW     Return Month Index\n",
       "0 1947-01-01       176.10          0         Jan\n",
       "1 1947-02-01       181.54  0.0308915         Feb\n",
       "2 1947-03-01       176.66 -0.0268811         Mar\n",
       "3 1947-04-01       171.28  -0.030454         Apr\n",
       "4 1947-05-01       168.67 -0.0152382         May"
      ]
     },
     "execution_count": 334,
     "metadata": {},
     "output_type": "execute_result"
    }
   ],
   "source": [
    "dow.head()"
   ]
  },
  {
   "cell_type": "code",
   "execution_count": 344,
   "metadata": {},
   "outputs": [],
   "source": [
    "dow['Month Index'] = dow['Month'].dt.month"
   ]
  },
  {
   "cell_type": "code",
   "execution_count": 341,
   "metadata": {},
   "outputs": [],
   "source": [
    "dow['Return'] = dow['Return'].astype('float64')"
   ]
  },
  {
   "cell_type": "code",
   "execution_count": 345,
   "metadata": {},
   "outputs": [
    {
     "data": {
      "text/plain": [
       "Month Index\n",
       "1     0.018624\n",
       "2     0.005020\n",
       "3     0.009580\n",
       "4     0.012224\n",
       "5     0.003611\n",
       "6     0.000815\n",
       "7     0.005494\n",
       "8     0.004262\n",
       "9    -0.000152\n",
       "10   -0.003151\n",
       "11    0.003538\n",
       "12    0.010285\n",
       "Name: Return, dtype: float64"
      ]
     },
     "execution_count": 345,
     "metadata": {},
     "output_type": "execute_result"
    }
   ],
   "source": [
    "dow.groupby(['Month Index'])['Return'].mean()"
   ]
  },
  {
   "cell_type": "markdown",
   "metadata": {},
   "source": [
    "Обратите внимание, что январь имеет самую большую среднемесячную доходность. Январская доходность является выбросом, поскольку она более чем на два стандартных отклонения выше, чем среднемесячная доходность в 0,005888. Эта аномалия известна как «эффект января» и еще не получила удовлетворительного объяснения."
   ]
  },
  {
   "cell_type": "markdown",
   "metadata": {},
   "source": [
    "***\n",
    "Файл Makeupdb.xlsx содержит информацию о продажах косметики. Для каждой сделки имеются следующие данные:\n",
    "- имя продавца;\n",
    "- дата продажи;\n",
    "- продукт;\n",
    "- количество;\n",
    "- выручка;\n",
    "- регион.\n",
    "\n",
    "Создайте сводную таблицу, объединяющую следующую информацию:\n",
    "- число сделок для каждого продавца;\n",
    "- общую выручку по продуктам для каждого продавца;\n",
    "- на основе предыдущего создайте функцию, которая всегда возвращает данные о продаже помады для Джен (Jen);\n",
    "- общую выручку для каждого продавца с разбивкой по регионам;\n",
    "- общую выручку по каждому продавцу и году. (Подсказка: необходимо сгруппировать данные по годам.)"
   ]
  },
  {
   "cell_type": "code",
   "execution_count": 395,
   "metadata": {},
   "outputs": [],
   "source": [
    "makeupdb = pd.read_excel('~/Study/excel/Ch43/Practice Files/Makeupdb.xlsx',\n",
    "                         skiprows=2, usecols=range(3,11))"
   ]
  },
  {
   "cell_type": "code",
   "execution_count": 397,
   "metadata": {},
   "outputs": [
    {
     "data": {
      "text/html": [
       "<div>\n",
       "<style scoped>\n",
       "    .dataframe tbody tr th:only-of-type {\n",
       "        vertical-align: middle;\n",
       "    }\n",
       "\n",
       "    .dataframe tbody tr th {\n",
       "        vertical-align: top;\n",
       "    }\n",
       "\n",
       "    .dataframe thead th {\n",
       "        text-align: right;\n",
       "    }\n",
       "</style>\n",
       "<table border=\"1\" class=\"dataframe\">\n",
       "  <thead>\n",
       "    <tr style=\"text-align: right;\">\n",
       "      <th></th>\n",
       "      <th>Trans Number</th>\n",
       "      <th>Name</th>\n",
       "      <th>Date</th>\n",
       "      <th>Product</th>\n",
       "      <th>Units</th>\n",
       "      <th>Dollars</th>\n",
       "      <th>Location</th>\n",
       "    </tr>\n",
       "  </thead>\n",
       "  <tbody>\n",
       "    <tr>\n",
       "      <th>0</th>\n",
       "      <td>1</td>\n",
       "      <td>Betsy</td>\n",
       "      <td>2004-04-01</td>\n",
       "      <td>lip gloss</td>\n",
       "      <td>45</td>\n",
       "      <td>137.204558</td>\n",
       "      <td>south</td>\n",
       "    </tr>\n",
       "    <tr>\n",
       "      <th>1</th>\n",
       "      <td>2</td>\n",
       "      <td>Hallagan</td>\n",
       "      <td>2004-03-10</td>\n",
       "      <td>foundation</td>\n",
       "      <td>50</td>\n",
       "      <td>152.007303</td>\n",
       "      <td>midwest</td>\n",
       "    </tr>\n",
       "    <tr>\n",
       "      <th>2</th>\n",
       "      <td>3</td>\n",
       "      <td>Ashley</td>\n",
       "      <td>2005-02-25</td>\n",
       "      <td>lipstick</td>\n",
       "      <td>9</td>\n",
       "      <td>28.719483</td>\n",
       "      <td>midwest</td>\n",
       "    </tr>\n",
       "    <tr>\n",
       "      <th>3</th>\n",
       "      <td>4</td>\n",
       "      <td>Hallagan</td>\n",
       "      <td>2006-05-22</td>\n",
       "      <td>lip gloss</td>\n",
       "      <td>55</td>\n",
       "      <td>167.075323</td>\n",
       "      <td>west</td>\n",
       "    </tr>\n",
       "    <tr>\n",
       "      <th>4</th>\n",
       "      <td>5</td>\n",
       "      <td>Zaret</td>\n",
       "      <td>2004-06-17</td>\n",
       "      <td>lip gloss</td>\n",
       "      <td>43</td>\n",
       "      <td>130.602872</td>\n",
       "      <td>midwest</td>\n",
       "    </tr>\n",
       "  </tbody>\n",
       "</table>\n",
       "</div>"
      ],
      "text/plain": [
       "   Trans Number      Name       Date     Product  Units     Dollars Location\n",
       "0             1     Betsy 2004-04-01   lip gloss     45  137.204558    south\n",
       "1             2  Hallagan 2004-03-10  foundation     50  152.007303  midwest\n",
       "2             3    Ashley 2005-02-25    lipstick      9   28.719483  midwest\n",
       "3             4  Hallagan 2006-05-22   lip gloss     55  167.075323     west\n",
       "4             5     Zaret 2004-06-17   lip gloss     43  130.602872  midwest"
      ]
     },
     "execution_count": 397,
     "metadata": {},
     "output_type": "execute_result"
    }
   ],
   "source": [
    "makeupdb.head()"
   ]
  },
  {
   "cell_type": "code",
   "execution_count": 398,
   "metadata": {},
   "outputs": [
    {
     "data": {
      "text/plain": [
       "Name\n",
       "Ashley      197\n",
       "Betsy       217\n",
       "Cici        230\n",
       "Colleen     206\n",
       "Cristina    207\n",
       "Emilee      203\n",
       "Hallagan    200\n",
       "Jen         217\n",
       "Zaret       214\n",
       "Name: Trans Number, dtype: int64"
      ]
     },
     "execution_count": 398,
     "metadata": {},
     "output_type": "execute_result"
    }
   ],
   "source": [
    "makeupdb.groupby('Name')['Trans Number'].count()"
   ]
  },
  {
   "cell_type": "code",
   "execution_count": 402,
   "metadata": {},
   "outputs": [
    {
     "data": {
      "text/html": [
       "<div>\n",
       "<style scoped>\n",
       "    .dataframe tbody tr th:only-of-type {\n",
       "        vertical-align: middle;\n",
       "    }\n",
       "\n",
       "    .dataframe tbody tr th {\n",
       "        vertical-align: top;\n",
       "    }\n",
       "\n",
       "    .dataframe thead th {\n",
       "        text-align: right;\n",
       "    }\n",
       "</style>\n",
       "<table border=\"1\" class=\"dataframe\">\n",
       "  <thead>\n",
       "    <tr style=\"text-align: right;\">\n",
       "      <th>Product</th>\n",
       "      <th>eye liner</th>\n",
       "      <th>foundation</th>\n",
       "      <th>lip gloss</th>\n",
       "      <th>lipstick</th>\n",
       "      <th>mascara</th>\n",
       "      <th>All</th>\n",
       "    </tr>\n",
       "    <tr>\n",
       "      <th>Name</th>\n",
       "      <th></th>\n",
       "      <th></th>\n",
       "      <th></th>\n",
       "      <th></th>\n",
       "      <th></th>\n",
       "      <th></th>\n",
       "    </tr>\n",
       "  </thead>\n",
       "  <tbody>\n",
       "    <tr>\n",
       "      <th>Ashley</th>\n",
       "      <td>5844.948744</td>\n",
       "      <td>4186.058628</td>\n",
       "      <td>6053.684565</td>\n",
       "      <td>3245.442978</td>\n",
       "      <td>6617.100349</td>\n",
       "      <td>25947.235264</td>\n",
       "    </tr>\n",
       "    <tr>\n",
       "      <th>Betsy</th>\n",
       "      <td>6046.534282</td>\n",
       "      <td>8043.486462</td>\n",
       "      <td>5675.650045</td>\n",
       "      <td>3968.605496</td>\n",
       "      <td>4827.253996</td>\n",
       "      <td>28561.530281</td>\n",
       "    </tr>\n",
       "    <tr>\n",
       "      <th>Cici</th>\n",
       "      <td>5982.823291</td>\n",
       "      <td>6198.248632</td>\n",
       "      <td>5199.949201</td>\n",
       "      <td>3148.840650</td>\n",
       "      <td>7060.711397</td>\n",
       "      <td>27590.573172</td>\n",
       "    </tr>\n",
       "    <tr>\n",
       "      <th>Colleen</th>\n",
       "      <td>3389.625314</td>\n",
       "      <td>6834.767608</td>\n",
       "      <td>5573.323725</td>\n",
       "      <td>2346.413777</td>\n",
       "      <td>6746.525368</td>\n",
       "      <td>24890.655792</td>\n",
       "    </tr>\n",
       "    <tr>\n",
       "      <th>Cristina</th>\n",
       "      <td>5397.273636</td>\n",
       "      <td>5290.989935</td>\n",
       "      <td>5297.979810</td>\n",
       "      <td>2401.668343</td>\n",
       "      <td>5461.646997</td>\n",
       "      <td>23849.558721</td>\n",
       "    </tr>\n",
       "    <tr>\n",
       "      <th>Emilee</th>\n",
       "      <td>7587.388980</td>\n",
       "      <td>5313.787561</td>\n",
       "      <td>5270.250313</td>\n",
       "      <td>2189.137568</td>\n",
       "      <td>4719.299731</td>\n",
       "      <td>25079.864154</td>\n",
       "    </tr>\n",
       "    <tr>\n",
       "      <th>Hallagan</th>\n",
       "      <td>6964.621074</td>\n",
       "      <td>6985.734333</td>\n",
       "      <td>5603.119378</td>\n",
       "      <td>3177.871325</td>\n",
       "      <td>5703.346670</td>\n",
       "      <td>28434.692781</td>\n",
       "    </tr>\n",
       "    <tr>\n",
       "      <th>Jen</th>\n",
       "      <td>7010.440514</td>\n",
       "      <td>5628.648036</td>\n",
       "      <td>5461.614790</td>\n",
       "      <td>3953.300132</td>\n",
       "      <td>6887.174950</td>\n",
       "      <td>28941.178422</td>\n",
       "    </tr>\n",
       "    <tr>\n",
       "      <th>Zaret</th>\n",
       "      <td>8166.749063</td>\n",
       "      <td>6451.650057</td>\n",
       "      <td>5670.329329</td>\n",
       "      <td>2448.707163</td>\n",
       "      <td>3879.949944</td>\n",
       "      <td>26617.385557</td>\n",
       "    </tr>\n",
       "    <tr>\n",
       "      <th>All</th>\n",
       "      <td>56390.404898</td>\n",
       "      <td>54933.371253</td>\n",
       "      <td>49805.901157</td>\n",
       "      <td>26879.987434</td>\n",
       "      <td>51903.009403</td>\n",
       "      <td>239912.674144</td>\n",
       "    </tr>\n",
       "  </tbody>\n",
       "</table>\n",
       "</div>"
      ],
      "text/plain": [
       "Product      eye liner    foundation     lip gloss      lipstick  \\\n",
       "Name                                                               \n",
       "Ashley     5844.948744   4186.058628   6053.684565   3245.442978   \n",
       "Betsy      6046.534282   8043.486462   5675.650045   3968.605496   \n",
       "Cici       5982.823291   6198.248632   5199.949201   3148.840650   \n",
       "Colleen    3389.625314   6834.767608   5573.323725   2346.413777   \n",
       "Cristina   5397.273636   5290.989935   5297.979810   2401.668343   \n",
       "Emilee     7587.388980   5313.787561   5270.250313   2189.137568   \n",
       "Hallagan   6964.621074   6985.734333   5603.119378   3177.871325   \n",
       "Jen        7010.440514   5628.648036   5461.614790   3953.300132   \n",
       "Zaret      8166.749063   6451.650057   5670.329329   2448.707163   \n",
       "All       56390.404898  54933.371253  49805.901157  26879.987434   \n",
       "\n",
       "Product        mascara            All  \n",
       "Name                                   \n",
       "Ashley     6617.100349   25947.235264  \n",
       "Betsy      4827.253996   28561.530281  \n",
       "Cici       7060.711397   27590.573172  \n",
       "Colleen    6746.525368   24890.655792  \n",
       "Cristina   5461.646997   23849.558721  \n",
       "Emilee     4719.299731   25079.864154  \n",
       "Hallagan   5703.346670   28434.692781  \n",
       "Jen        6887.174950   28941.178422  \n",
       "Zaret      3879.949944   26617.385557  \n",
       "All       51903.009403  239912.674144  "
      ]
     },
     "execution_count": 402,
     "metadata": {},
     "output_type": "execute_result"
    }
   ],
   "source": [
    "products = makeupdb.pivot_table(index='Name', columns='Product', values='Dollars', aggfunc='sum', margins=True)\n",
    "products"
   ]
  },
  {
   "cell_type": "code",
   "execution_count": 405,
   "metadata": {},
   "outputs": [
    {
     "name": "stdout",
     "output_type": "stream",
     "text": [
      "Jen's lipstick sales 3953.300131964638\n"
     ]
    }
   ],
   "source": [
    "print(\"Jen's lipstick sales\",  products.loc['Jen', 'lipstick'])"
   ]
  },
  {
   "cell_type": "code",
   "execution_count": 417,
   "metadata": {},
   "outputs": [
    {
     "data": {
      "text/plain": [
       "Name      Location\n",
       "Ashley    east        7772.704761\n",
       "          midwest     4985.896509\n",
       "          south       7398.565792\n",
       "          west        5790.068203\n",
       "Betsy     east        8767.431725\n",
       "          midwest     4878.085848\n",
       "          south       7732.056980\n",
       "          west        7183.955727\n",
       "Cici      east        5956.320446\n",
       "          midwest     8129.619289\n",
       "          south       7174.448975\n",
       "          west        6330.184462\n",
       "Colleen   east        5713.069445\n",
       "          midwest     6586.142169\n",
       "          south       7785.632708\n",
       "          west        4805.811471\n",
       "Cristina  east        4126.268644\n",
       "          midwest     5870.034488\n",
       "          south       5964.158473\n",
       "          west        7889.097115\n",
       "Emilee    east        6295.472056\n",
       "          midwest     5642.196163\n",
       "          south       6050.594346\n",
       "          west        7091.601589\n",
       "Hallagan  east        4965.615813\n",
       "          midwest     7378.321391\n",
       "          south       8210.814251\n",
       "          west        7879.941325\n",
       "Jen       east        6949.209483\n",
       "          midwest     6381.320681\n",
       "          south       7116.016774\n",
       "          west        8494.631484\n",
       "Zaret     east        6825.995148\n",
       "          midwest     4953.797616\n",
       "          south       6864.065862\n",
       "          west        7973.526930\n",
       "Name: Dollars, dtype: float64"
      ]
     },
     "execution_count": 417,
     "metadata": {},
     "output_type": "execute_result"
    }
   ],
   "source": [
    "makeupdb.groupby(['Name', 'Location'])['Dollars'].sum()"
   ]
  },
  {
   "cell_type": "code",
   "execution_count": 422,
   "metadata": {},
   "outputs": [
    {
     "data": {
      "text/plain": [
       "Date  Name    \n",
       "2004  Ashley       9495.068134\n",
       "      Betsy        9420.270725\n",
       "      Cici         8965.262077\n",
       "      Colleen      9361.385804\n",
       "      Cristina     9132.086152\n",
       "      Emilee       7805.647572\n",
       "      Hallagan    10676.879035\n",
       "      Jen          9049.299912\n",
       "      Zaret        9078.507356\n",
       "2005  Ashley       9547.543701\n",
       "      Betsy        9788.728323\n",
       "      Cici         9024.965709\n",
       "      Colleen      7996.802973\n",
       "      Cristina     7976.353025\n",
       "      Emilee       9326.418545\n",
       "      Hallagan     9102.484269\n",
       "      Jen          8920.272064\n",
       "      Zaret        8639.703793\n",
       "2006  Ashley       6904.623429\n",
       "      Betsy        9352.531233\n",
       "      Cici         9600.345387\n",
       "      Colleen      7532.467015\n",
       "      Cristina     6741.119544\n",
       "      Emilee       7947.798037\n",
       "      Hallagan     8655.329478\n",
       "      Jen         10971.606446\n",
       "      Zaret        8899.174407\n",
       "Name: Dollars, dtype: float64"
      ]
     },
     "execution_count": 422,
     "metadata": {},
     "output_type": "execute_result"
    }
   ],
   "source": [
    "makeupdb.groupby([makeupdb.Date.dt.year, 'Name'])['Dollars'].sum()"
   ]
  },
  {
   "cell_type": "markdown",
   "metadata": {},
   "source": [
    "Для 1985—1992 гг. даны ежемесячные ставки процента по облигациям, по которым деньги выплачиваются через год после покупки. Часто предполагают, что высокие ставки процента являются более подвижными. Соответствуют ли данные в файле Intratevolvolatility.xlsx этому утверждению? (Подсказка: в сводных таблицах можно отобразить стандартные отклонения.)"
   ]
  },
  {
   "cell_type": "code",
   "execution_count": 426,
   "metadata": {},
   "outputs": [],
   "source": [
    "intratevolvo = pd.read_excel('~/Study/excel/Ch43/Practice Files/Intratevol-volatility.xlsx',\n",
    "                             skiprows=3, usecols=range(1,5))"
   ]
  },
  {
   "cell_type": "code",
   "execution_count": 434,
   "metadata": {},
   "outputs": [],
   "source": [
    "intratevolvo.Date = pd.to_datetime((intratevolvo.Date + 190000).astype(str), format=\"%Y%m\")"
   ]
  },
  {
   "cell_type": "code",
   "execution_count": 438,
   "metadata": {},
   "outputs": [
    {
     "data": {
      "text/html": [
       "<div>\n",
       "<style scoped>\n",
       "    .dataframe tbody tr th:only-of-type {\n",
       "        vertical-align: middle;\n",
       "    }\n",
       "\n",
       "    .dataframe tbody tr th {\n",
       "        vertical-align: top;\n",
       "    }\n",
       "\n",
       "    .dataframe thead th {\n",
       "        text-align: right;\n",
       "    }\n",
       "</style>\n",
       "<table border=\"1\" class=\"dataframe\">\n",
       "  <thead>\n",
       "    <tr style=\"text-align: right;\">\n",
       "      <th></th>\n",
       "      <th>Date</th>\n",
       "      <th>FYGT1</th>\n",
       "      <th>Change</th>\n",
       "    </tr>\n",
       "  </thead>\n",
       "  <tbody>\n",
       "    <tr>\n",
       "      <th>0</th>\n",
       "      <td>1985-01-01</td>\n",
       "      <td>9.02</td>\n",
       "      <td>NaN</td>\n",
       "    </tr>\n",
       "    <tr>\n",
       "      <th>1</th>\n",
       "      <td>1985-02-01</td>\n",
       "      <td>9.29</td>\n",
       "      <td>0.27</td>\n",
       "    </tr>\n",
       "    <tr>\n",
       "      <th>2</th>\n",
       "      <td>1985-03-01</td>\n",
       "      <td>9.86</td>\n",
       "      <td>0.57</td>\n",
       "    </tr>\n",
       "    <tr>\n",
       "      <th>3</th>\n",
       "      <td>1985-04-01</td>\n",
       "      <td>9.14</td>\n",
       "      <td>-0.72</td>\n",
       "    </tr>\n",
       "    <tr>\n",
       "      <th>4</th>\n",
       "      <td>1985-05-01</td>\n",
       "      <td>8.46</td>\n",
       "      <td>-0.68</td>\n",
       "    </tr>\n",
       "    <tr>\n",
       "      <th>...</th>\n",
       "      <td>...</td>\n",
       "      <td>...</td>\n",
       "      <td>...</td>\n",
       "    </tr>\n",
       "    <tr>\n",
       "      <th>92</th>\n",
       "      <td>1992-09-01</td>\n",
       "      <td>3.18</td>\n",
       "      <td>-0.29</td>\n",
       "    </tr>\n",
       "    <tr>\n",
       "      <th>93</th>\n",
       "      <td>1992-10-01</td>\n",
       "      <td>3.30</td>\n",
       "      <td>0.12</td>\n",
       "    </tr>\n",
       "    <tr>\n",
       "      <th>94</th>\n",
       "      <td>1992-11-01</td>\n",
       "      <td>3.68</td>\n",
       "      <td>0.38</td>\n",
       "    </tr>\n",
       "    <tr>\n",
       "      <th>95</th>\n",
       "      <td>1992-12-01</td>\n",
       "      <td>3.71</td>\n",
       "      <td>0.03</td>\n",
       "    </tr>\n",
       "    <tr>\n",
       "      <th>96</th>\n",
       "      <td>1993-01-01</td>\n",
       "      <td>3.50</td>\n",
       "      <td>-0.21</td>\n",
       "    </tr>\n",
       "  </tbody>\n",
       "</table>\n",
       "<p>97 rows × 3 columns</p>\n",
       "</div>"
      ],
      "text/plain": [
       "         Date  FYGT1  Change\n",
       "0  1985-01-01   9.02     NaN\n",
       "1  1985-02-01   9.29    0.27\n",
       "2  1985-03-01   9.86    0.57\n",
       "3  1985-04-01   9.14   -0.72\n",
       "4  1985-05-01   8.46   -0.68\n",
       "..        ...    ...     ...\n",
       "92 1992-09-01   3.18   -0.29\n",
       "93 1992-10-01   3.30    0.12\n",
       "94 1992-11-01   3.68    0.38\n",
       "95 1992-12-01   3.71    0.03\n",
       "96 1993-01-01   3.50   -0.21\n",
       "\n",
       "[97 rows x 3 columns]"
      ]
     },
     "execution_count": 438,
     "metadata": {},
     "output_type": "execute_result"
    }
   ],
   "source": [
    "intratevolvo"
   ]
  },
  {
   "cell_type": "code",
   "execution_count": 439,
   "metadata": {},
   "outputs": [
    {
     "data": {
      "text/plain": [
       "Date\n",
       "1    0.278254\n",
       "2    0.362599\n",
       "3    0.314960\n",
       "4    0.274793\n",
       "Name: Change, dtype: float64"
      ]
     },
     "execution_count": 439,
     "metadata": {},
     "output_type": "execute_result"
    }
   ],
   "source": [
    "intratevolvo.groupby(intratevolvo.Date.dt.quarter)['Change'].agg('std')"
   ]
  },
  {
   "cell_type": "markdown",
   "metadata": {},
   "source": [
    "Обратите внимание, что стандартное отклонение изменения процентной ставки практически не меняется при изменении текущей ставки."
   ]
  },
  {
   "cell_type": "markdown",
   "metadata": {},
   "source": [
    "***\n",
    "На основе данных в примере с продовольственными товарами подготовьте диаграмму, отображающую тенденцию продаж по годам для каждого магазина."
   ]
  },
  {
   "cell_type": "code",
   "execution_count": 444,
   "metadata": {},
   "outputs": [],
   "source": [
    "groceries = pd.read_excel('~/Study/excel/Ch43/Practice Files/Groceriespt.xlsx',\n",
    "                             skiprows=1, usecols=range(2,10), sheet_name='Data')"
   ]
  },
  {
   "cell_type": "code",
   "execution_count": 474,
   "metadata": {},
   "outputs": [
    {
     "data": {
      "image/png": "[encoded data removed]",
      "text/plain": [
       "<Figure size 432x288 with 1 Axes>"
      ]
     },
     "metadata": {
      "needs_background": "light"
     },
     "output_type": "display_data"
    }
   ],
   "source": [
    "groceries.groupby(['Store', 'Year']).Revenue.sum().unstack().T.plot(xticks=sorted(groceries.Year.unique()));"
   ]
  },
  {
   "cell_type": "markdown",
   "metadata": {},
   "source": [
    "***\n",
    "Для примера с продовольственными товарами создайте вычисляемое поле для расчета средней цены единицы продукции для каждого продукта."
   ]
  },
  {
   "cell_type": "code",
   "execution_count": 502,
   "metadata": {},
   "outputs": [
    {
     "data": {
      "text/plain": [
       "Group      Product        \n",
       "cereal     Cheerios           2.887607\n",
       "           Raisin Bran        2.928449\n",
       "           Special K          3.043903\n",
       "fruit      apples             3.107909\n",
       "           cherries           2.948987\n",
       "           grapes             2.952156\n",
       "           plums              3.046252\n",
       "ice cream  Ben and Jerry's    3.057451\n",
       "           Breyers            3.023237\n",
       "           Edies              3.029878\n",
       "milk       chocolate          2.969707\n",
       "           low fat            2.961763\n",
       "           skim               2.983331\n",
       "           whole              2.855516\n",
       "dtype: float64"
      ]
     },
     "execution_count": 502,
     "metadata": {},
     "output_type": "execute_result"
    }
   ],
   "source": [
    "groceries.groupby(['Group', 'Product'])[['Units', 'Revenue']].sum().apply(lambda x: x[1] / x[0], axis=1)"
   ]
  },
  {
   "cell_type": "markdown",
   "metadata": {},
   "source": [
    "***\n",
    "Для примера с продовольственными товарами создайте сводную диаграмму, суммирующие продажи каждого продукта в каждом магазине за 2005 и 2006 гг."
   ]
  },
  {
   "cell_type": "code",
   "execution_count": 505,
   "metadata": {},
   "outputs": [
    {
     "data": {
      "text/plain": [
       "Year  Store  Group      Product    \n",
       "2005  east   cereal     Cheerios        5055.80\n",
       "                        Raisin Bran    19500.19\n",
       "                        Special K       5998.21\n",
       "             fruit      apples          3972.44\n",
       "                        cherries        4051.22\n",
       "                                         ...   \n",
       "2006  west   ice cream  Breyers        12852.79\n",
       "                        Edies           6588.16\n",
       "             milk       low fat        19667.95\n",
       "                        skim           11213.49\n",
       "                        whole          15763.65\n",
       "Name: Revenue, Length: 109, dtype: float64"
      ]
     },
     "execution_count": 505,
     "metadata": {},
     "output_type": "execute_result"
    }
   ],
   "source": [
    "groceries[groceries.Year.isin([2005, 2006])] \\\n",
    "         .groupby(['Year', 'Store', 'Group', 'Product']).Revenue.sum()"
   ]
  },
  {
   "cell_type": "markdown",
   "metadata": {},
   "source": [
    "***\n",
    "На основе данных в файле Calcitemdata.xlsx создайте вычисляемые объекты, суммирующие продажи десертов (пирожные + пудинги) и фруктов (яблоки + виноград)."
   ]
  },
  {
   "cell_type": "code",
   "execution_count": 507,
   "metadata": {},
   "outputs": [],
   "source": [
    "calcitem = pd.read_excel('~/Study/excel/Ch43/Practice Files/Calcitemdata.xlsx',\n",
    "                             skiprows=1, usecols=range(4,7))"
   ]
  },
  {
   "cell_type": "code",
   "execution_count": 509,
   "metadata": {},
   "outputs": [],
   "source": [
    "mapper = {\n",
    "    'PUDDINGS': 'DESERTS',\n",
    "    'CAKES': 'DESERTS',\n",
    "    'APPLES': 'FRUITS',\n",
    "    'GRAPES': 'FRUITS'\n",
    "}"
   ]
  },
  {
   "cell_type": "code",
   "execution_count": 508,
   "metadata": {},
   "outputs": [
    {
     "data": {
      "text/html": [
       "<div>\n",
       "<style scoped>\n",
       "    .dataframe tbody tr th:only-of-type {\n",
       "        vertical-align: middle;\n",
       "    }\n",
       "\n",
       "    .dataframe tbody tr th {\n",
       "        vertical-align: top;\n",
       "    }\n",
       "\n",
       "    .dataframe thead th {\n",
       "        text-align: right;\n",
       "    }\n",
       "</style>\n",
       "<table border=\"1\" class=\"dataframe\">\n",
       "  <thead>\n",
       "    <tr style=\"text-align: right;\">\n",
       "      <th></th>\n",
       "      <th>Product</th>\n",
       "      <th>Sales</th>\n",
       "    </tr>\n",
       "  </thead>\n",
       "  <tbody>\n",
       "    <tr>\n",
       "      <th>0</th>\n",
       "      <td>PUDDINGS</td>\n",
       "      <td>22</td>\n",
       "    </tr>\n",
       "    <tr>\n",
       "      <th>1</th>\n",
       "      <td>CAKES</td>\n",
       "      <td>32</td>\n",
       "    </tr>\n",
       "    <tr>\n",
       "      <th>2</th>\n",
       "      <td>APPLES</td>\n",
       "      <td>42</td>\n",
       "    </tr>\n",
       "    <tr>\n",
       "      <th>3</th>\n",
       "      <td>GRAPES</td>\n",
       "      <td>52</td>\n",
       "    </tr>\n",
       "    <tr>\n",
       "      <th>4</th>\n",
       "      <td>PUDDINGS</td>\n",
       "      <td>62</td>\n",
       "    </tr>\n",
       "    <tr>\n",
       "      <th>5</th>\n",
       "      <td>CAKES</td>\n",
       "      <td>72</td>\n",
       "    </tr>\n",
       "    <tr>\n",
       "      <th>6</th>\n",
       "      <td>APPLES</td>\n",
       "      <td>82</td>\n",
       "    </tr>\n",
       "    <tr>\n",
       "      <th>7</th>\n",
       "      <td>GRAPES</td>\n",
       "      <td>92</td>\n",
       "    </tr>\n",
       "    <tr>\n",
       "      <th>8</th>\n",
       "      <td>PUDDINGS</td>\n",
       "      <td>102</td>\n",
       "    </tr>\n",
       "    <tr>\n",
       "      <th>9</th>\n",
       "      <td>CAKES</td>\n",
       "      <td>112</td>\n",
       "    </tr>\n",
       "    <tr>\n",
       "      <th>10</th>\n",
       "      <td>APPLES</td>\n",
       "      <td>122</td>\n",
       "    </tr>\n",
       "    <tr>\n",
       "      <th>11</th>\n",
       "      <td>GRAPES</td>\n",
       "      <td>132</td>\n",
       "    </tr>\n",
       "  </tbody>\n",
       "</table>\n",
       "</div>"
      ],
      "text/plain": [
       "     Product  Sales\n",
       "0   PUDDINGS     22\n",
       "1      CAKES     32\n",
       "2     APPLES     42\n",
       "3     GRAPES     52\n",
       "4   PUDDINGS     62\n",
       "5      CAKES     72\n",
       "6     APPLES     82\n",
       "7     GRAPES     92\n",
       "8   PUDDINGS    102\n",
       "9      CAKES    112\n",
       "10    APPLES    122\n",
       "11    GRAPES    132"
      ]
     },
     "execution_count": 508,
     "metadata": {},
     "output_type": "execute_result"
    }
   ],
   "source": [
    "calcitem"
   ]
  },
  {
   "cell_type": "code",
   "execution_count": 511,
   "metadata": {},
   "outputs": [
    {
     "data": {
      "text/html": [
       "<div>\n",
       "<style scoped>\n",
       "    .dataframe tbody tr th:only-of-type {\n",
       "        vertical-align: middle;\n",
       "    }\n",
       "\n",
       "    .dataframe tbody tr th {\n",
       "        vertical-align: top;\n",
       "    }\n",
       "\n",
       "    .dataframe thead th {\n",
       "        text-align: right;\n",
       "    }\n",
       "</style>\n",
       "<table border=\"1\" class=\"dataframe\">\n",
       "  <thead>\n",
       "    <tr style=\"text-align: right;\">\n",
       "      <th></th>\n",
       "      <th>Sales</th>\n",
       "    </tr>\n",
       "    <tr>\n",
       "      <th>Product</th>\n",
       "      <th></th>\n",
       "    </tr>\n",
       "  </thead>\n",
       "  <tbody>\n",
       "    <tr>\n",
       "      <th>DESERTS</th>\n",
       "      <td>402</td>\n",
       "    </tr>\n",
       "    <tr>\n",
       "      <th>FRUITS</th>\n",
       "      <td>522</td>\n",
       "    </tr>\n",
       "  </tbody>\n",
       "</table>\n",
       "</div>"
      ],
      "text/plain": [
       "         Sales\n",
       "Product       \n",
       "DESERTS    402\n",
       "FRUITS     522"
      ]
     },
     "execution_count": 511,
     "metadata": {},
     "output_type": "execute_result"
    }
   ],
   "source": [
    "calcitem.groupby(calcitem.Product.map(mapper)).sum()"
   ]
  },
  {
   "cell_type": "markdown",
   "metadata": {},
   "source": [
    "***\n",
    "Файл Ptablepartsdata.xlsx содержит данные продаж различных запчастей. Код для каждой запчасти начинается или с Part (для комплектующей) или с Comp (для компьютера). Создайте сводную таблицу, отображающую продажи только для комплектующих. (Подсказка: используйте фильтр по подписи.)"
   ]
  },
  {
   "cell_type": "code",
   "execution_count": 514,
   "metadata": {},
   "outputs": [],
   "source": [
    "parts = pd.read_excel('~/Study/excel/Ch43/Practice Files/Ptablepartsdata.xlsx', names=['part', 'count'])"
   ]
  },
  {
   "cell_type": "code",
   "execution_count": 515,
   "metadata": {},
   "outputs": [
    {
     "data": {
      "text/html": [
       "<div>\n",
       "<style scoped>\n",
       "    .dataframe tbody tr th:only-of-type {\n",
       "        vertical-align: middle;\n",
       "    }\n",
       "\n",
       "    .dataframe tbody tr th {\n",
       "        vertical-align: top;\n",
       "    }\n",
       "\n",
       "    .dataframe thead th {\n",
       "        text-align: right;\n",
       "    }\n",
       "</style>\n",
       "<table border=\"1\" class=\"dataframe\">\n",
       "  <thead>\n",
       "    <tr style=\"text-align: right;\">\n",
       "      <th></th>\n",
       "      <th>part</th>\n",
       "      <th>count</th>\n",
       "    </tr>\n",
       "  </thead>\n",
       "  <tbody>\n",
       "    <tr>\n",
       "      <th>0</th>\n",
       "      <td>Comp915</td>\n",
       "      <td>43</td>\n",
       "    </tr>\n",
       "    <tr>\n",
       "      <th>1</th>\n",
       "      <td>Part353</td>\n",
       "      <td>68</td>\n",
       "    </tr>\n",
       "    <tr>\n",
       "      <th>2</th>\n",
       "      <td>Comp88</td>\n",
       "      <td>61</td>\n",
       "    </tr>\n",
       "    <tr>\n",
       "      <th>3</th>\n",
       "      <td>Part820</td>\n",
       "      <td>59</td>\n",
       "    </tr>\n",
       "    <tr>\n",
       "      <th>4</th>\n",
       "      <td>Part848</td>\n",
       "      <td>67</td>\n",
       "    </tr>\n",
       "  </tbody>\n",
       "</table>\n",
       "</div>"
      ],
      "text/plain": [
       "      part  count\n",
       "0  Comp915     43\n",
       "1  Part353     68\n",
       "2   Comp88     61\n",
       "3  Part820     59\n",
       "4  Part848     67"
      ]
     },
     "execution_count": 515,
     "metadata": {},
     "output_type": "execute_result"
    }
   ],
   "source": [
    "parts.head()"
   ]
  },
  {
   "cell_type": "code",
   "execution_count": 528,
   "metadata": {},
   "outputs": [],
   "source": [
    "parts = pd.concat([parts['count'], parts.part.str.extract(r'(?P<group>[A-Za-z]+)(?P<num>[0-9]+)',\n",
    "                                                                                  expand=True)], axis=1)"
   ]
  },
  {
   "cell_type": "code",
   "execution_count": 530,
   "metadata": {},
   "outputs": [
    {
     "data": {
      "text/html": [
       "<div>\n",
       "<style scoped>\n",
       "    .dataframe tbody tr th:only-of-type {\n",
       "        vertical-align: middle;\n",
       "    }\n",
       "\n",
       "    .dataframe tbody tr th {\n",
       "        vertical-align: top;\n",
       "    }\n",
       "\n",
       "    .dataframe thead th {\n",
       "        text-align: right;\n",
       "    }\n",
       "</style>\n",
       "<table border=\"1\" class=\"dataframe\">\n",
       "  <thead>\n",
       "    <tr style=\"text-align: right;\">\n",
       "      <th></th>\n",
       "      <th>count</th>\n",
       "      <th>group</th>\n",
       "      <th>num</th>\n",
       "    </tr>\n",
       "  </thead>\n",
       "  <tbody>\n",
       "    <tr>\n",
       "      <th>1</th>\n",
       "      <td>68</td>\n",
       "      <td>Part</td>\n",
       "      <td>353</td>\n",
       "    </tr>\n",
       "    <tr>\n",
       "      <th>3</th>\n",
       "      <td>59</td>\n",
       "      <td>Part</td>\n",
       "      <td>820</td>\n",
       "    </tr>\n",
       "    <tr>\n",
       "      <th>4</th>\n",
       "      <td>67</td>\n",
       "      <td>Part</td>\n",
       "      <td>848</td>\n",
       "    </tr>\n",
       "    <tr>\n",
       "      <th>6</th>\n",
       "      <td>50</td>\n",
       "      <td>Part</td>\n",
       "      <td>849</td>\n",
       "    </tr>\n",
       "    <tr>\n",
       "      <th>7</th>\n",
       "      <td>76</td>\n",
       "      <td>Part</td>\n",
       "      <td>734</td>\n",
       "    </tr>\n",
       "    <tr>\n",
       "      <th>...</th>\n",
       "      <td>...</td>\n",
       "      <td>...</td>\n",
       "      <td>...</td>\n",
       "    </tr>\n",
       "    <tr>\n",
       "      <th>346</th>\n",
       "      <td>41</td>\n",
       "      <td>Part</td>\n",
       "      <td>47</td>\n",
       "    </tr>\n",
       "    <tr>\n",
       "      <th>347</th>\n",
       "      <td>75</td>\n",
       "      <td>Part</td>\n",
       "      <td>94</td>\n",
       "    </tr>\n",
       "    <tr>\n",
       "      <th>349</th>\n",
       "      <td>43</td>\n",
       "      <td>Part</td>\n",
       "      <td>763</td>\n",
       "    </tr>\n",
       "    <tr>\n",
       "      <th>352</th>\n",
       "      <td>99</td>\n",
       "      <td>Part</td>\n",
       "      <td>364</td>\n",
       "    </tr>\n",
       "    <tr>\n",
       "      <th>355</th>\n",
       "      <td>40</td>\n",
       "      <td>Part</td>\n",
       "      <td>211</td>\n",
       "    </tr>\n",
       "  </tbody>\n",
       "</table>\n",
       "<p>183 rows × 3 columns</p>\n",
       "</div>"
      ],
      "text/plain": [
       "     count group  num\n",
       "1       68  Part  353\n",
       "3       59  Part  820\n",
       "4       67  Part  848\n",
       "6       50  Part  849\n",
       "7       76  Part  734\n",
       "..     ...   ...  ...\n",
       "346     41  Part   47\n",
       "347     75  Part   94\n",
       "349     43  Part  763\n",
       "352     99  Part  364\n",
       "355     40  Part  211\n",
       "\n",
       "[183 rows x 3 columns]"
      ]
     },
     "execution_count": 530,
     "metadata": {},
     "output_type": "execute_result"
    }
   ],
   "source": [
    "parts.query(\"group == 'Part'\")"
   ]
  },
  {
   "cell_type": "markdown",
   "metadata": {},
   "source": [
    "***\n",
    "На основе данных к заданию 14 просуммируйте общие продажи для комплектующих и компьютеров."
   ]
  },
  {
   "cell_type": "code",
   "execution_count": 531,
   "metadata": {},
   "outputs": [
    {
     "data": {
      "text/plain": [
       "group\n",
       "Comp    11710\n",
       "Part    12456\n",
       "Name: count, dtype: int64"
      ]
     },
     "execution_count": 531,
     "metadata": {},
     "output_type": "execute_result"
    }
   ],
   "source": [
    "parts.groupby('group')['count'].sum()"
   ]
  },
  {
   "cell_type": "markdown",
   "metadata": {},
   "source": [
    "***\n",
    "Файл Cigarettedata.xlsx содержит данные выборки для американцев: возраст, информацию о том, курят ли они и что именно, сигареты или сигары, а также умерли ли они в текущем году. Какие выводы можно сделать на основании этих данных?"
   ]
  },
  {
   "cell_type": "code",
   "execution_count": 532,
   "metadata": {},
   "outputs": [],
   "source": [
    "cigaret = pd.read_excel('~/Study/excel/Ch43/Practice Files/cigarettedata.xlsx', skiprows=5, usecols=range(3,7))"
   ]
  },
  {
   "cell_type": "code",
   "execution_count": 533,
   "metadata": {},
   "outputs": [
    {
     "data": {
      "text/html": [
       "<div>\n",
       "<style scoped>\n",
       "    .dataframe tbody tr th:only-of-type {\n",
       "        vertical-align: middle;\n",
       "    }\n",
       "\n",
       "    .dataframe tbody tr th {\n",
       "        vertical-align: top;\n",
       "    }\n",
       "\n",
       "    .dataframe thead th {\n",
       "        text-align: right;\n",
       "    }\n",
       "</style>\n",
       "<table border=\"1\" class=\"dataframe\">\n",
       "  <thead>\n",
       "    <tr style=\"text-align: right;\">\n",
       "      <th></th>\n",
       "      <th>Smokes?</th>\n",
       "      <th>Age</th>\n",
       "      <th>Live?</th>\n",
       "    </tr>\n",
       "  </thead>\n",
       "  <tbody>\n",
       "    <tr>\n",
       "      <th>0</th>\n",
       "      <td>cigar</td>\n",
       "      <td>70</td>\n",
       "      <td>live</td>\n",
       "    </tr>\n",
       "    <tr>\n",
       "      <th>1</th>\n",
       "      <td>cigar</td>\n",
       "      <td>64</td>\n",
       "      <td>live</td>\n",
       "    </tr>\n",
       "    <tr>\n",
       "      <th>2</th>\n",
       "      <td>cigar</td>\n",
       "      <td>56</td>\n",
       "      <td>live</td>\n",
       "    </tr>\n",
       "    <tr>\n",
       "      <th>3</th>\n",
       "      <td>cigar</td>\n",
       "      <td>51</td>\n",
       "      <td>die</td>\n",
       "    </tr>\n",
       "    <tr>\n",
       "      <th>4</th>\n",
       "      <td>cigar</td>\n",
       "      <td>72</td>\n",
       "      <td>live</td>\n",
       "    </tr>\n",
       "  </tbody>\n",
       "</table>\n",
       "</div>"
      ],
      "text/plain": [
       "  Smokes?  Age Live?\n",
       "0   cigar   70  live\n",
       "1   cigar   64  live\n",
       "2   cigar   56  live\n",
       "3   cigar   51   die\n",
       "4   cigar   72  live"
      ]
     },
     "execution_count": 533,
     "metadata": {},
     "output_type": "execute_result"
    }
   ],
   "source": [
    "cigaret.head()"
   ]
  },
  {
   "cell_type": "code",
   "execution_count": 535,
   "metadata": {},
   "outputs": [
    {
     "data": {
      "text/plain": [
       "max    80\n",
       "min    20\n",
       "Name: Age, dtype: int64"
      ]
     },
     "execution_count": 535,
     "metadata": {},
     "output_type": "execute_result"
    }
   ],
   "source": [
    "cigaret.Age.agg(['max', 'min'])"
   ]
  },
  {
   "cell_type": "code",
   "execution_count": 548,
   "metadata": {},
   "outputs": [],
   "source": [
    "cigaret['Age group'] = pd.cut(cigaret.Age, bins=range(20, 90, 10),\n",
    "                                           labels=['20-29', '30-39', \n",
    "                                                   '40-49', '50-59',\n",
    "                                                   '60-69', '70-80'],\n",
    "                                           right=False)"
   ]
  },
  {
   "cell_type": "code",
   "execution_count": 549,
   "metadata": {},
   "outputs": [
    {
     "data": {
      "text/html": [
       "<style  type=\"text/css\" >\n",
       "</style><table id=\"T_3542de1c_bd9c_11eb_8063_8c2937e9c0de\" ><thead>    <tr>        <th class=\"blank\" ></th>        <th class=\"index_name level0\" >Live?</th>        <th class=\"col_heading level0 col0\" >die</th>        <th class=\"col_heading level0 col1\" >live</th>        <th class=\"col_heading level0 col2\" >All</th>    </tr>    <tr>        <th class=\"index_name level0\" >Smokes?</th>        <th class=\"index_name level1\" >Age group</th>        <th class=\"blank\" ></th>        <th class=\"blank\" ></th>        <th class=\"blank\" ></th>    </tr></thead><tbody>\n",
       "                <tr>\n",
       "                        <th id=\"T_3542de1c_bd9c_11eb_8063_8c2937e9c0delevel0_row0\" class=\"row_heading level0 row0\" rowspan=3>cigar</th>\n",
       "                        <th id=\"T_3542de1c_bd9c_11eb_8063_8c2937e9c0delevel1_row0\" class=\"row_heading level1 row0\" >50-59</th>\n",
       "                        <td id=\"T_3542de1c_bd9c_11eb_8063_8c2937e9c0derow0_col0\" class=\"data row0 col0\" >36.36%</td>\n",
       "                        <td id=\"T_3542de1c_bd9c_11eb_8063_8c2937e9c0derow0_col1\" class=\"data row0 col1\" >63.64%</td>\n",
       "                        <td id=\"T_3542de1c_bd9c_11eb_8063_8c2937e9c0derow0_col2\" class=\"data row0 col2\" >100.00%</td>\n",
       "            </tr>\n",
       "            <tr>\n",
       "                                <th id=\"T_3542de1c_bd9c_11eb_8063_8c2937e9c0delevel1_row1\" class=\"row_heading level1 row1\" >60-69</th>\n",
       "                        <td id=\"T_3542de1c_bd9c_11eb_8063_8c2937e9c0derow1_col0\" class=\"data row1 col0\" >44.00%</td>\n",
       "                        <td id=\"T_3542de1c_bd9c_11eb_8063_8c2937e9c0derow1_col1\" class=\"data row1 col1\" >56.00%</td>\n",
       "                        <td id=\"T_3542de1c_bd9c_11eb_8063_8c2937e9c0derow1_col2\" class=\"data row1 col2\" >100.00%</td>\n",
       "            </tr>\n",
       "            <tr>\n",
       "                                <th id=\"T_3542de1c_bd9c_11eb_8063_8c2937e9c0delevel1_row2\" class=\"row_heading level1 row2\" >70-80</th>\n",
       "                        <td id=\"T_3542de1c_bd9c_11eb_8063_8c2937e9c0derow2_col0\" class=\"data row2 col0\" >53.57%</td>\n",
       "                        <td id=\"T_3542de1c_bd9c_11eb_8063_8c2937e9c0derow2_col1\" class=\"data row2 col1\" >46.43%</td>\n",
       "                        <td id=\"T_3542de1c_bd9c_11eb_8063_8c2937e9c0derow2_col2\" class=\"data row2 col2\" >100.00%</td>\n",
       "            </tr>\n",
       "            <tr>\n",
       "                        <th id=\"T_3542de1c_bd9c_11eb_8063_8c2937e9c0delevel0_row3\" class=\"row_heading level0 row3\" rowspan=2>cigarette</th>\n",
       "                        <th id=\"T_3542de1c_bd9c_11eb_8063_8c2937e9c0delevel1_row3\" class=\"row_heading level1 row3\" >20-29</th>\n",
       "                        <td id=\"T_3542de1c_bd9c_11eb_8063_8c2937e9c0derow3_col0\" class=\"data row3 col0\" >37.84%</td>\n",
       "                        <td id=\"T_3542de1c_bd9c_11eb_8063_8c2937e9c0derow3_col1\" class=\"data row3 col1\" >62.16%</td>\n",
       "                        <td id=\"T_3542de1c_bd9c_11eb_8063_8c2937e9c0derow3_col2\" class=\"data row3 col2\" >100.00%</td>\n",
       "            </tr>\n",
       "            <tr>\n",
       "                                <th id=\"T_3542de1c_bd9c_11eb_8063_8c2937e9c0delevel1_row4\" class=\"row_heading level1 row4\" >30-39</th>\n",
       "                        <td id=\"T_3542de1c_bd9c_11eb_8063_8c2937e9c0derow4_col0\" class=\"data row4 col0\" >35.71%</td>\n",
       "                        <td id=\"T_3542de1c_bd9c_11eb_8063_8c2937e9c0derow4_col1\" class=\"data row4 col1\" >64.29%</td>\n",
       "                        <td id=\"T_3542de1c_bd9c_11eb_8063_8c2937e9c0derow4_col2\" class=\"data row4 col2\" >100.00%</td>\n",
       "            </tr>\n",
       "            <tr>\n",
       "                        <th id=\"T_3542de1c_bd9c_11eb_8063_8c2937e9c0delevel0_row5\" class=\"row_heading level0 row5\" rowspan=4>none</th>\n",
       "                        <th id=\"T_3542de1c_bd9c_11eb_8063_8c2937e9c0delevel1_row5\" class=\"row_heading level1 row5\" >40-49</th>\n",
       "                        <td id=\"T_3542de1c_bd9c_11eb_8063_8c2937e9c0derow5_col0\" class=\"data row5 col0\" >26.74%</td>\n",
       "                        <td id=\"T_3542de1c_bd9c_11eb_8063_8c2937e9c0derow5_col1\" class=\"data row5 col1\" >73.26%</td>\n",
       "                        <td id=\"T_3542de1c_bd9c_11eb_8063_8c2937e9c0derow5_col2\" class=\"data row5 col2\" >100.00%</td>\n",
       "            </tr>\n",
       "            <tr>\n",
       "                                <th id=\"T_3542de1c_bd9c_11eb_8063_8c2937e9c0delevel1_row6\" class=\"row_heading level1 row6\" >50-59</th>\n",
       "                        <td id=\"T_3542de1c_bd9c_11eb_8063_8c2937e9c0derow6_col0\" class=\"data row6 col0\" >29.79%</td>\n",
       "                        <td id=\"T_3542de1c_bd9c_11eb_8063_8c2937e9c0derow6_col1\" class=\"data row6 col1\" >70.21%</td>\n",
       "                        <td id=\"T_3542de1c_bd9c_11eb_8063_8c2937e9c0derow6_col2\" class=\"data row6 col2\" >100.00%</td>\n",
       "            </tr>\n",
       "            <tr>\n",
       "                                <th id=\"T_3542de1c_bd9c_11eb_8063_8c2937e9c0delevel1_row7\" class=\"row_heading level1 row7\" >60-69</th>\n",
       "                        <td id=\"T_3542de1c_bd9c_11eb_8063_8c2937e9c0derow7_col0\" class=\"data row7 col0\" >35.11%</td>\n",
       "                        <td id=\"T_3542de1c_bd9c_11eb_8063_8c2937e9c0derow7_col1\" class=\"data row7 col1\" >64.89%</td>\n",
       "                        <td id=\"T_3542de1c_bd9c_11eb_8063_8c2937e9c0derow7_col2\" class=\"data row7 col2\" >100.00%</td>\n",
       "            </tr>\n",
       "            <tr>\n",
       "                                <th id=\"T_3542de1c_bd9c_11eb_8063_8c2937e9c0delevel1_row8\" class=\"row_heading level1 row8\" >70-80</th>\n",
       "                        <td id=\"T_3542de1c_bd9c_11eb_8063_8c2937e9c0derow8_col0\" class=\"data row8 col0\" >37.14%</td>\n",
       "                        <td id=\"T_3542de1c_bd9c_11eb_8063_8c2937e9c0derow8_col1\" class=\"data row8 col1\" >62.86%</td>\n",
       "                        <td id=\"T_3542de1c_bd9c_11eb_8063_8c2937e9c0derow8_col2\" class=\"data row8 col2\" >100.00%</td>\n",
       "            </tr>\n",
       "            <tr>\n",
       "                        <th id=\"T_3542de1c_bd9c_11eb_8063_8c2937e9c0delevel0_row9\" class=\"row_heading level0 row9\" >All</th>\n",
       "                        <th id=\"T_3542de1c_bd9c_11eb_8063_8c2937e9c0delevel1_row9\" class=\"row_heading level1 row9\" ></th>\n",
       "                        <td id=\"T_3542de1c_bd9c_11eb_8063_8c2937e9c0derow9_col0\" class=\"data row9 col0\" >35.23%</td>\n",
       "                        <td id=\"T_3542de1c_bd9c_11eb_8063_8c2937e9c0derow9_col1\" class=\"data row9 col1\" >64.77%</td>\n",
       "                        <td id=\"T_3542de1c_bd9c_11eb_8063_8c2937e9c0derow9_col2\" class=\"data row9 col2\" >100.00%</td>\n",
       "            </tr>\n",
       "    </tbody></table>"
      ],
      "text/plain": [
       "<pandas.io.formats.style.Styler at 0x7f7ffede68e0>"
      ]
     },
     "execution_count": 549,
     "metadata": {},
     "output_type": "execute_result"
    }
   ],
   "source": [
    "t = cigaret.assign(Count=1).pivot_table(index=['Smokes?', 'Age group'],\n",
    "                                        columns='Live?',\n",
    "                                        values='Count',\n",
    "                                        aggfunc='sum',\n",
    "                                        margins=True).dropna()\n",
    "(\n",
    "     t.div(t.iloc[:, -1], axis=0).mul(100)\n",
    "     .style\n",
    "     .format(\"{:.2f}%\")\n",
    ")"
   ]
  },
  {
   "cell_type": "markdown",
   "metadata": {},
   "source": [
    "***\n",
    "В файле Collegedata.xlsx находится следующая информация о студентах, подавших заявления в аспирантуру университета Kelley University: пол, желательная специализация, было ли заявление принято или отклонено. Созданная должным образом сводная таблица показывает, что женщин было принято меньше, чем мужчин. Существует ли в этом университете дискриминация женщин?"
   ]
  },
  {
   "cell_type": "code",
   "execution_count": 552,
   "metadata": {},
   "outputs": [],
   "source": [
    "college = pd.read_excel('~/Study/excel/Ch43/Practice Files/Collegedata.xlsx', skiprows=4, usecols=range(3,7))"
   ]
  },
  {
   "cell_type": "code",
   "execution_count": 553,
   "metadata": {},
   "outputs": [
    {
     "data": {
      "text/html": [
       "<div>\n",
       "<style scoped>\n",
       "    .dataframe tbody tr th:only-of-type {\n",
       "        vertical-align: middle;\n",
       "    }\n",
       "\n",
       "    .dataframe tbody tr th {\n",
       "        vertical-align: top;\n",
       "    }\n",
       "\n",
       "    .dataframe thead th {\n",
       "        text-align: right;\n",
       "    }\n",
       "</style>\n",
       "<table border=\"1\" class=\"dataframe\">\n",
       "  <thead>\n",
       "    <tr style=\"text-align: right;\">\n",
       "      <th></th>\n",
       "      <th>Major</th>\n",
       "      <th>Male</th>\n",
       "      <th>Accepted?</th>\n",
       "    </tr>\n",
       "  </thead>\n",
       "  <tbody>\n",
       "    <tr>\n",
       "      <th>0</th>\n",
       "      <td>1</td>\n",
       "      <td>M</td>\n",
       "      <td>A</td>\n",
       "    </tr>\n",
       "    <tr>\n",
       "      <th>1</th>\n",
       "      <td>1</td>\n",
       "      <td>M</td>\n",
       "      <td>A</td>\n",
       "    </tr>\n",
       "    <tr>\n",
       "      <th>2</th>\n",
       "      <td>1</td>\n",
       "      <td>M</td>\n",
       "      <td>R</td>\n",
       "    </tr>\n",
       "    <tr>\n",
       "      <th>3</th>\n",
       "      <td>1</td>\n",
       "      <td>M</td>\n",
       "      <td>A</td>\n",
       "    </tr>\n",
       "    <tr>\n",
       "      <th>4</th>\n",
       "      <td>1</td>\n",
       "      <td>F</td>\n",
       "      <td>A</td>\n",
       "    </tr>\n",
       "  </tbody>\n",
       "</table>\n",
       "</div>"
      ],
      "text/plain": [
       "   Major Male Accepted?\n",
       "0      1    M         A\n",
       "1      1    M         A\n",
       "2      1    M         R\n",
       "3      1    M         A\n",
       "4      1    F         A"
      ]
     },
     "execution_count": 553,
     "metadata": {},
     "output_type": "execute_result"
    }
   ],
   "source": [
    "college.head()"
   ]
  },
  {
   "cell_type": "code",
   "execution_count": 554,
   "metadata": {},
   "outputs": [
    {
     "data": {
      "text/html": [
       "<style  type=\"text/css\" >\n",
       "</style><table id=\"T_1e624e7c_bda5_11eb_8063_8c2937e9c0de\" ><thead>    <tr>        <th class=\"blank\" ></th>        <th class=\"index_name level0\" >Accepted?</th>        <th class=\"col_heading level0 col0\" >A</th>        <th class=\"col_heading level0 col1\" >R</th>        <th class=\"col_heading level0 col2\" >All</th>    </tr>    <tr>        <th class=\"index_name level0\" >Major</th>        <th class=\"index_name level1\" >Male</th>        <th class=\"blank\" ></th>        <th class=\"blank\" ></th>        <th class=\"blank\" ></th>    </tr></thead><tbody>\n",
       "                <tr>\n",
       "                        <th id=\"T_1e624e7c_bda5_11eb_8063_8c2937e9c0delevel0_row0\" class=\"row_heading level0 row0\" rowspan=2>1</th>\n",
       "                        <th id=\"T_1e624e7c_bda5_11eb_8063_8c2937e9c0delevel1_row0\" class=\"row_heading level1 row0\" >F</th>\n",
       "                        <td id=\"T_1e624e7c_bda5_11eb_8063_8c2937e9c0derow0_col0\" class=\"data row0 col0\" >83.84%</td>\n",
       "                        <td id=\"T_1e624e7c_bda5_11eb_8063_8c2937e9c0derow0_col1\" class=\"data row0 col1\" >16.16%</td>\n",
       "                        <td id=\"T_1e624e7c_bda5_11eb_8063_8c2937e9c0derow0_col2\" class=\"data row0 col2\" >100.00%</td>\n",
       "            </tr>\n",
       "            <tr>\n",
       "                                <th id=\"T_1e624e7c_bda5_11eb_8063_8c2937e9c0delevel1_row1\" class=\"row_heading level1 row1\" >M</th>\n",
       "                        <td id=\"T_1e624e7c_bda5_11eb_8063_8c2937e9c0derow1_col0\" class=\"data row1 col0\" >61.42%</td>\n",
       "                        <td id=\"T_1e624e7c_bda5_11eb_8063_8c2937e9c0derow1_col1\" class=\"data row1 col1\" >38.58%</td>\n",
       "                        <td id=\"T_1e624e7c_bda5_11eb_8063_8c2937e9c0derow1_col2\" class=\"data row1 col2\" >100.00%</td>\n",
       "            </tr>\n",
       "            <tr>\n",
       "                        <th id=\"T_1e624e7c_bda5_11eb_8063_8c2937e9c0delevel0_row2\" class=\"row_heading level0 row2\" rowspan=2>2</th>\n",
       "                        <th id=\"T_1e624e7c_bda5_11eb_8063_8c2937e9c0delevel1_row2\" class=\"row_heading level1 row2\" >F</th>\n",
       "                        <td id=\"T_1e624e7c_bda5_11eb_8063_8c2937e9c0derow2_col0\" class=\"data row2 col0\" >70.00%</td>\n",
       "                        <td id=\"T_1e624e7c_bda5_11eb_8063_8c2937e9c0derow2_col1\" class=\"data row2 col1\" >30.00%</td>\n",
       "                        <td id=\"T_1e624e7c_bda5_11eb_8063_8c2937e9c0derow2_col2\" class=\"data row2 col2\" >100.00%</td>\n",
       "            </tr>\n",
       "            <tr>\n",
       "                                <th id=\"T_1e624e7c_bda5_11eb_8063_8c2937e9c0delevel1_row3\" class=\"row_heading level1 row3\" >M</th>\n",
       "                        <td id=\"T_1e624e7c_bda5_11eb_8063_8c2937e9c0derow3_col0\" class=\"data row3 col0\" >62.67%</td>\n",
       "                        <td id=\"T_1e624e7c_bda5_11eb_8063_8c2937e9c0derow3_col1\" class=\"data row3 col1\" >37.33%</td>\n",
       "                        <td id=\"T_1e624e7c_bda5_11eb_8063_8c2937e9c0derow3_col2\" class=\"data row3 col2\" >100.00%</td>\n",
       "            </tr>\n",
       "            <tr>\n",
       "                        <th id=\"T_1e624e7c_bda5_11eb_8063_8c2937e9c0delevel0_row4\" class=\"row_heading level0 row4\" rowspan=2>3</th>\n",
       "                        <th id=\"T_1e624e7c_bda5_11eb_8063_8c2937e9c0delevel1_row4\" class=\"row_heading level1 row4\" >F</th>\n",
       "                        <td id=\"T_1e624e7c_bda5_11eb_8063_8c2937e9c0derow4_col0\" class=\"data row4 col0\" >44.55%</td>\n",
       "                        <td id=\"T_1e624e7c_bda5_11eb_8063_8c2937e9c0derow4_col1\" class=\"data row4 col1\" >55.45%</td>\n",
       "                        <td id=\"T_1e624e7c_bda5_11eb_8063_8c2937e9c0derow4_col2\" class=\"data row4 col2\" >100.00%</td>\n",
       "            </tr>\n",
       "            <tr>\n",
       "                                <th id=\"T_1e624e7c_bda5_11eb_8063_8c2937e9c0delevel1_row5\" class=\"row_heading level1 row5\" >M</th>\n",
       "                        <td id=\"T_1e624e7c_bda5_11eb_8063_8c2937e9c0derow5_col0\" class=\"data row5 col0\" >47.62%</td>\n",
       "                        <td id=\"T_1e624e7c_bda5_11eb_8063_8c2937e9c0derow5_col1\" class=\"data row5 col1\" >52.38%</td>\n",
       "                        <td id=\"T_1e624e7c_bda5_11eb_8063_8c2937e9c0derow5_col2\" class=\"data row5 col2\" >100.00%</td>\n",
       "            </tr>\n",
       "            <tr>\n",
       "                        <th id=\"T_1e624e7c_bda5_11eb_8063_8c2937e9c0delevel0_row6\" class=\"row_heading level0 row6\" rowspan=2>4</th>\n",
       "                        <th id=\"T_1e624e7c_bda5_11eb_8063_8c2937e9c0delevel1_row6\" class=\"row_heading level1 row6\" >F</th>\n",
       "                        <td id=\"T_1e624e7c_bda5_11eb_8063_8c2937e9c0derow6_col0\" class=\"data row6 col0\" >33.99%</td>\n",
       "                        <td id=\"T_1e624e7c_bda5_11eb_8063_8c2937e9c0derow6_col1\" class=\"data row6 col1\" >66.01%</td>\n",
       "                        <td id=\"T_1e624e7c_bda5_11eb_8063_8c2937e9c0derow6_col2\" class=\"data row6 col2\" >100.00%</td>\n",
       "            </tr>\n",
       "            <tr>\n",
       "                                <th id=\"T_1e624e7c_bda5_11eb_8063_8c2937e9c0delevel1_row7\" class=\"row_heading level1 row7\" >M</th>\n",
       "                        <td id=\"T_1e624e7c_bda5_11eb_8063_8c2937e9c0derow7_col0\" class=\"data row7 col0\" >32.24%</td>\n",
       "                        <td id=\"T_1e624e7c_bda5_11eb_8063_8c2937e9c0derow7_col1\" class=\"data row7 col1\" >67.76%</td>\n",
       "                        <td id=\"T_1e624e7c_bda5_11eb_8063_8c2937e9c0derow7_col2\" class=\"data row7 col2\" >100.00%</td>\n",
       "            </tr>\n",
       "            <tr>\n",
       "                        <th id=\"T_1e624e7c_bda5_11eb_8063_8c2937e9c0delevel0_row8\" class=\"row_heading level0 row8\" rowspan=2>5</th>\n",
       "                        <th id=\"T_1e624e7c_bda5_11eb_8063_8c2937e9c0delevel1_row8\" class=\"row_heading level1 row8\" >F</th>\n",
       "                        <td id=\"T_1e624e7c_bda5_11eb_8063_8c2937e9c0derow8_col0\" class=\"data row8 col0\" >26.92%</td>\n",
       "                        <td id=\"T_1e624e7c_bda5_11eb_8063_8c2937e9c0derow8_col1\" class=\"data row8 col1\" >73.08%</td>\n",
       "                        <td id=\"T_1e624e7c_bda5_11eb_8063_8c2937e9c0derow8_col2\" class=\"data row8 col2\" >100.00%</td>\n",
       "            </tr>\n",
       "            <tr>\n",
       "                                <th id=\"T_1e624e7c_bda5_11eb_8063_8c2937e9c0delevel1_row9\" class=\"row_heading level1 row9\" >M</th>\n",
       "                        <td id=\"T_1e624e7c_bda5_11eb_8063_8c2937e9c0derow9_col0\" class=\"data row9 col0\" >26.67%</td>\n",
       "                        <td id=\"T_1e624e7c_bda5_11eb_8063_8c2937e9c0derow9_col1\" class=\"data row9 col1\" >73.33%</td>\n",
       "                        <td id=\"T_1e624e7c_bda5_11eb_8063_8c2937e9c0derow9_col2\" class=\"data row9 col2\" >100.00%</td>\n",
       "            </tr>\n",
       "            <tr>\n",
       "                        <th id=\"T_1e624e7c_bda5_11eb_8063_8c2937e9c0delevel0_row10\" class=\"row_heading level0 row10\" >All</th>\n",
       "                        <th id=\"T_1e624e7c_bda5_11eb_8063_8c2937e9c0delevel1_row10\" class=\"row_heading level1 row10\" ></th>\n",
       "                        <td id=\"T_1e624e7c_bda5_11eb_8063_8c2937e9c0derow10_col0\" class=\"data row10 col0\" >52.59%</td>\n",
       "                        <td id=\"T_1e624e7c_bda5_11eb_8063_8c2937e9c0derow10_col1\" class=\"data row10 col1\" >47.41%</td>\n",
       "                        <td id=\"T_1e624e7c_bda5_11eb_8063_8c2937e9c0derow10_col2\" class=\"data row10 col2\" >100.00%</td>\n",
       "            </tr>\n",
       "    </tbody></table>"
      ],
      "text/plain": [
       "<pandas.io.formats.style.Styler at 0x7f800170e4f0>"
      ]
     },
     "execution_count": 554,
     "metadata": {},
     "output_type": "execute_result"
    }
   ],
   "source": [
    "t = college.assign(Count=1).pivot_table(index=['Major', 'Male'],\n",
    "                                        columns='Accepted?',\n",
    "                                        values='Count',\n",
    "                                        aggfunc='sum',\n",
    "                                        margins=True)\n",
    "(\n",
    "     t.div(t.iloc[:, -1], axis=0).mul(100)\n",
    "     .style\n",
    "     .format(\"{:.2f}%\")\n",
    ")"
   ]
  },
  {
   "cell_type": "markdown",
   "metadata": {},
   "source": [
    "Здесь мы видим, что на cпециализацию 1 и 2 женщины принимаются чаще, на другие специальности женщины принимаются почти так же, как и мужчины. Таким образом, нет никаких доказательств того, что существовала дискрименация. Просто женщины сконцентрированы на лучших специальностях."
   ]
  },
  {
   "cell_type": "code",
   "execution_count": 557,
   "metadata": {},
   "outputs": [
    {
     "data": {
      "text/html": [
       "<style  type=\"text/css\" >\n",
       "</style><table id=\"T_f7364b72_bda5_11eb_8063_8c2937e9c0de\" ><thead>    <tr>        <th class=\"blank level0\" ></th>        <th class=\"col_heading level0 col0\" colspan=3>Major</th>    </tr>    <tr>        <th class=\"index_name level1\" >Accepted?</th>        <th class=\"col_heading level1 col0\" >A</th>        <th class=\"col_heading level1 col1\" >R</th>        <th class=\"col_heading level1 col2\" >All</th>    </tr>    <tr>        <th class=\"index_name level0\" >Male</th>        <th class=\"blank\" ></th>        <th class=\"blank\" ></th>        <th class=\"blank\" ></th>    </tr></thead><tbody>\n",
       "                <tr>\n",
       "                        <th id=\"T_f7364b72_bda5_11eb_8063_8c2937e9c0delevel0_row0\" class=\"row_heading level0 row0\" >F</th>\n",
       "                        <td id=\"T_f7364b72_bda5_11eb_8063_8c2937e9c0derow0_col0\" class=\"data row0 col0\" >45.77%</td>\n",
       "                        <td id=\"T_f7364b72_bda5_11eb_8063_8c2937e9c0derow0_col1\" class=\"data row0 col1\" >54.23%</td>\n",
       "                        <td id=\"T_f7364b72_bda5_11eb_8063_8c2937e9c0derow0_col2\" class=\"data row0 col2\" >100.00%</td>\n",
       "            </tr>\n",
       "            <tr>\n",
       "                        <th id=\"T_f7364b72_bda5_11eb_8063_8c2937e9c0delevel0_row1\" class=\"row_heading level0 row1\" >M</th>\n",
       "                        <td id=\"T_f7364b72_bda5_11eb_8063_8c2937e9c0derow1_col0\" class=\"data row1 col0\" >55.39%</td>\n",
       "                        <td id=\"T_f7364b72_bda5_11eb_8063_8c2937e9c0derow1_col1\" class=\"data row1 col1\" >44.61%</td>\n",
       "                        <td id=\"T_f7364b72_bda5_11eb_8063_8c2937e9c0derow1_col2\" class=\"data row1 col2\" >100.00%</td>\n",
       "            </tr>\n",
       "            <tr>\n",
       "                        <th id=\"T_f7364b72_bda5_11eb_8063_8c2937e9c0delevel0_row2\" class=\"row_heading level0 row2\" >All</th>\n",
       "                        <td id=\"T_f7364b72_bda5_11eb_8063_8c2937e9c0derow2_col0\" class=\"data row2 col0\" >52.59%</td>\n",
       "                        <td id=\"T_f7364b72_bda5_11eb_8063_8c2937e9c0derow2_col1\" class=\"data row2 col1\" >47.41%</td>\n",
       "                        <td id=\"T_f7364b72_bda5_11eb_8063_8c2937e9c0derow2_col2\" class=\"data row2 col2\" >100.00%</td>\n",
       "            </tr>\n",
       "    </tbody></table>"
      ],
      "text/plain": [
       "<pandas.io.formats.style.Styler at 0x7f8003a04dc0>"
      ]
     },
     "execution_count": 557,
     "metadata": {},
     "output_type": "execute_result"
    }
   ],
   "source": [
    "t = college.pivot_table(index='Male', columns='Accepted?', aggfunc='count', margins=True)\n",
    "\n",
    "(\n",
    "     t.div(t.iloc[:, -1], axis=0).mul(100)\n",
    "     .style\n",
    "     .format(\"{:.2f}%\")\n",
    ")"
   ]
  },
  {
   "cell_type": "code",
   "execution_count": 561,
   "metadata": {},
   "outputs": [
    {
     "data": {
      "text/html": [
       "<style  type=\"text/css\" >\n",
       "</style><table id=\"T_75196286_bda6_11eb_8063_8c2937e9c0de\" ><thead>    <tr>        <th class=\"blank level0\" ></th>        <th class=\"col_heading level0 col0\" colspan=6>Accepted?</th>    </tr>    <tr>        <th class=\"index_name level1\" >Major</th>        <th class=\"col_heading level1 col0\" >1</th>        <th class=\"col_heading level1 col1\" >2</th>        <th class=\"col_heading level1 col2\" >3</th>        <th class=\"col_heading level1 col3\" >4</th>        <th class=\"col_heading level1 col4\" >5</th>        <th class=\"col_heading level1 col5\" >All</th>    </tr>    <tr>        <th class=\"index_name level0\" >Male</th>        <th class=\"blank\" ></th>        <th class=\"blank\" ></th>        <th class=\"blank\" ></th>        <th class=\"blank\" ></th>        <th class=\"blank\" ></th>        <th class=\"blank\" ></th>    </tr></thead><tbody>\n",
       "                <tr>\n",
       "                        <th id=\"T_75196286_bda6_11eb_8063_8c2937e9c0delevel0_row0\" class=\"row_heading level0 row0\" >F</th>\n",
       "                        <td id=\"T_75196286_bda6_11eb_8063_8c2937e9c0derow0_col0\" class=\"data row0 col0\" >17.43%</td>\n",
       "                        <td id=\"T_75196286_bda6_11eb_8063_8c2937e9c0derow0_col1\" class=\"data row0 col1\" >1.76%</td>\n",
       "                        <td id=\"T_75196286_bda6_11eb_8063_8c2937e9c0derow0_col2\" class=\"data row0 col2\" >35.56%</td>\n",
       "                        <td id=\"T_75196286_bda6_11eb_8063_8c2937e9c0derow0_col3\" class=\"data row0 col3\" >26.94%</td>\n",
       "                        <td id=\"T_75196286_bda6_11eb_8063_8c2937e9c0derow0_col4\" class=\"data row0 col4\" >18.31%</td>\n",
       "                        <td id=\"T_75196286_bda6_11eb_8063_8c2937e9c0derow0_col5\" class=\"data row0 col5\" >100.00%</td>\n",
       "            </tr>\n",
       "            <tr>\n",
       "                        <th id=\"T_75196286_bda6_11eb_8063_8c2937e9c0delevel0_row1\" class=\"row_heading level0 row1\" >M</th>\n",
       "                        <td id=\"T_75196286_bda6_11eb_8063_8c2937e9c0derow1_col0\" class=\"data row1 col0\" >42.80%</td>\n",
       "                        <td id=\"T_75196286_bda6_11eb_8063_8c2937e9c0derow1_col1\" class=\"data row1 col1\" >32.01%</td>\n",
       "                        <td id=\"T_75196286_bda6_11eb_8063_8c2937e9c0derow1_col2\" class=\"data row1 col2\" >7.60%</td>\n",
       "                        <td id=\"T_75196286_bda6_11eb_8063_8c2937e9c0derow1_col3\" class=\"data row1 col3\" >13.25%</td>\n",
       "                        <td id=\"T_75196286_bda6_11eb_8063_8c2937e9c0derow1_col4\" class=\"data row1 col4\" >4.34%</td>\n",
       "                        <td id=\"T_75196286_bda6_11eb_8063_8c2937e9c0derow1_col5\" class=\"data row1 col5\" >100.00%</td>\n",
       "            </tr>\n",
       "            <tr>\n",
       "                        <th id=\"T_75196286_bda6_11eb_8063_8c2937e9c0delevel0_row2\" class=\"row_heading level0 row2\" >All</th>\n",
       "                        <td id=\"T_75196286_bda6_11eb_8063_8c2937e9c0derow2_col0\" class=\"data row2 col0\" >35.40%</td>\n",
       "                        <td id=\"T_75196286_bda6_11eb_8063_8c2937e9c0derow2_col1\" class=\"data row2 col1\" >23.19%</td>\n",
       "                        <td id=\"T_75196286_bda6_11eb_8063_8c2937e9c0derow2_col2\" class=\"data row2 col2\" >15.75%</td>\n",
       "                        <td id=\"T_75196286_bda6_11eb_8063_8c2937e9c0derow2_col3\" class=\"data row2 col3\" >17.24%</td>\n",
       "                        <td id=\"T_75196286_bda6_11eb_8063_8c2937e9c0derow2_col4\" class=\"data row2 col4\" >8.41%</td>\n",
       "                        <td id=\"T_75196286_bda6_11eb_8063_8c2937e9c0derow2_col5\" class=\"data row2 col5\" >100.00%</td>\n",
       "            </tr>\n",
       "    </tbody></table>"
      ],
      "text/plain": [
       "<pandas.io.formats.style.Styler at 0x7f800170ecd0>"
      ]
     },
     "execution_count": 561,
     "metadata": {},
     "output_type": "execute_result"
    }
   ],
   "source": [
    "t = college.pivot_table(index='Male', columns='Major', aggfunc='count', margins=True)\n",
    "\n",
    "(\n",
    "     t.div(t.iloc[:, -1], axis=0).mul(100)\n",
    "     .style\n",
    "     .format(\"{:.2f}%\")\n",
    ")"
   ]
  },
  {
   "cell_type": "markdown",
   "metadata": {},
   "source": [
    "80% женщин сконцентрированы на специальностях 3-5 и только 25% мужчин. Это самые сложные специальности, на которые можно попасть и женщины на них идут неохотно."
   ]
  },
  {
   "cell_type": "markdown",
   "metadata": {},
   "source": [
    "***\n",
    "В файле AnalyzeSurveydata.xlsx содержатся ответы по шкале от 1 до 7 на различные вопросы анкеты о качестве обучения. Создайте сводную диаграмму, отображающую долю каждой оценки (1—7) в ответе на каждый вопрос. Отфильтруйте диаграмму для любого набора из трех вопросов на выбор.\n"
   ]
  },
  {
   "cell_type": "code",
   "execution_count": 562,
   "metadata": {},
   "outputs": [],
   "source": [
    "survey = pd.read_excel('~/Study/excel/Ch43/Practice Files/AnalyzeSurveydata.xlsx', skiprows=6, usecols=range(1,5))"
   ]
  },
  {
   "cell_type": "code",
   "execution_count": 569,
   "metadata": {},
   "outputs": [
    {
     "data": {
      "text/html": [
       "<div>\n",
       "<style scoped>\n",
       "    .dataframe tbody tr th:only-of-type {\n",
       "        vertical-align: middle;\n",
       "    }\n",
       "\n",
       "    .dataframe tbody tr th {\n",
       "        vertical-align: top;\n",
       "    }\n",
       "\n",
       "    .dataframe thead th {\n",
       "        text-align: right;\n",
       "    }\n",
       "</style>\n",
       "<table border=\"1\" class=\"dataframe\">\n",
       "  <thead>\n",
       "    <tr style=\"text-align: right;\">\n",
       "      <th></th>\n",
       "      <th>Student ID</th>\n",
       "      <th>Question</th>\n",
       "      <th>Response</th>\n",
       "    </tr>\n",
       "  </thead>\n",
       "  <tbody>\n",
       "    <tr>\n",
       "      <th>0</th>\n",
       "      <td>28</td>\n",
       "      <td>Outstanding teacher</td>\n",
       "      <td>5</td>\n",
       "    </tr>\n",
       "    <tr>\n",
       "      <th>1</th>\n",
       "      <td>15</td>\n",
       "      <td>Easy to follow</td>\n",
       "      <td>7</td>\n",
       "    </tr>\n",
       "    <tr>\n",
       "      <th>2</th>\n",
       "      <td>31</td>\n",
       "      <td>Prepared for class</td>\n",
       "      <td>4</td>\n",
       "    </tr>\n",
       "    <tr>\n",
       "      <th>3</th>\n",
       "      <td>30</td>\n",
       "      <td>I want to learn more in this area</td>\n",
       "      <td>4</td>\n",
       "    </tr>\n",
       "    <tr>\n",
       "      <th>4</th>\n",
       "      <td>23</td>\n",
       "      <td>I would recommend course to a friend</td>\n",
       "      <td>4</td>\n",
       "    </tr>\n",
       "  </tbody>\n",
       "</table>\n",
       "</div>"
      ],
      "text/plain": [
       "   Student ID                              Question  Response\n",
       "0          28                   Outstanding teacher         5\n",
       "1          15                        Easy to follow         7\n",
       "2          31                    Prepared for class         4\n",
       "3          30     I want to learn more in this area         4\n",
       "4          23  I would recommend course to a friend         4"
      ]
     },
     "execution_count": 569,
     "metadata": {},
     "output_type": "execute_result"
    }
   ],
   "source": [
    "survey.head()"
   ]
  },
  {
   "cell_type": "code",
   "execution_count": 574,
   "metadata": {},
   "outputs": [
    {
     "data": {
      "text/html": [
       "<style  type=\"text/css\" >\n",
       "</style><table id=\"T_dc38bfe2_bda7_11eb_8063_8c2937e9c0de\" ><thead>    <tr>        <th class=\"blank level0\" ></th>        <th class=\"col_heading level0 col0\" colspan=5>Student ID</th>    </tr>    <tr>        <th class=\"index_name level1\" >Response</th>        <th class=\"col_heading level1 col0\" >4</th>        <th class=\"col_heading level1 col1\" >5</th>        <th class=\"col_heading level1 col2\" >6</th>        <th class=\"col_heading level1 col3\" >7</th>        <th class=\"col_heading level1 col4\" >All</th>    </tr>    <tr>        <th class=\"index_name level0\" >Question</th>        <th class=\"blank\" ></th>        <th class=\"blank\" ></th>        <th class=\"blank\" ></th>        <th class=\"blank\" ></th>        <th class=\"blank\" ></th>    </tr></thead><tbody>\n",
       "                <tr>\n",
       "                        <th id=\"T_dc38bfe2_bda7_11eb_8063_8c2937e9c0delevel0_row0\" class=\"row_heading level0 row0\" >Easy to follow</th>\n",
       "                        <td id=\"T_dc38bfe2_bda7_11eb_8063_8c2937e9c0derow0_col0\" class=\"data row0 col0\" >23.68%</td>\n",
       "                        <td id=\"T_dc38bfe2_bda7_11eb_8063_8c2937e9c0derow0_col1\" class=\"data row0 col1\" >28.95%</td>\n",
       "                        <td id=\"T_dc38bfe2_bda7_11eb_8063_8c2937e9c0derow0_col2\" class=\"data row0 col2\" >26.32%</td>\n",
       "                        <td id=\"T_dc38bfe2_bda7_11eb_8063_8c2937e9c0derow0_col3\" class=\"data row0 col3\" >21.05%</td>\n",
       "                        <td id=\"T_dc38bfe2_bda7_11eb_8063_8c2937e9c0derow0_col4\" class=\"data row0 col4\" >100.00%</td>\n",
       "            </tr>\n",
       "            <tr>\n",
       "                        <th id=\"T_dc38bfe2_bda7_11eb_8063_8c2937e9c0delevel0_row1\" class=\"row_heading level0 row1\" >Exams were fair and relevant</th>\n",
       "                        <td id=\"T_dc38bfe2_bda7_11eb_8063_8c2937e9c0derow1_col0\" class=\"data row1 col0\" >20.00%</td>\n",
       "                        <td id=\"T_dc38bfe2_bda7_11eb_8063_8c2937e9c0derow1_col1\" class=\"data row1 col1\" >30.00%</td>\n",
       "                        <td id=\"T_dc38bfe2_bda7_11eb_8063_8c2937e9c0derow1_col2\" class=\"data row1 col2\" >30.00%</td>\n",
       "                        <td id=\"T_dc38bfe2_bda7_11eb_8063_8c2937e9c0derow1_col3\" class=\"data row1 col3\" >20.00%</td>\n",
       "                        <td id=\"T_dc38bfe2_bda7_11eb_8063_8c2937e9c0derow1_col4\" class=\"data row1 col4\" >100.00%</td>\n",
       "            </tr>\n",
       "            <tr>\n",
       "                        <th id=\"T_dc38bfe2_bda7_11eb_8063_8c2937e9c0delevel0_row2\" class=\"row_heading level0 row2\" >I want to learn more in this area</th>\n",
       "                        <td id=\"T_dc38bfe2_bda7_11eb_8063_8c2937e9c0derow2_col0\" class=\"data row2 col0\" >26.83%</td>\n",
       "                        <td id=\"T_dc38bfe2_bda7_11eb_8063_8c2937e9c0derow2_col1\" class=\"data row2 col1\" >26.83%</td>\n",
       "                        <td id=\"T_dc38bfe2_bda7_11eb_8063_8c2937e9c0derow2_col2\" class=\"data row2 col2\" >26.83%</td>\n",
       "                        <td id=\"T_dc38bfe2_bda7_11eb_8063_8c2937e9c0derow2_col3\" class=\"data row2 col3\" >19.51%</td>\n",
       "                        <td id=\"T_dc38bfe2_bda7_11eb_8063_8c2937e9c0derow2_col4\" class=\"data row2 col4\" >100.00%</td>\n",
       "            </tr>\n",
       "            <tr>\n",
       "                        <th id=\"T_dc38bfe2_bda7_11eb_8063_8c2937e9c0delevel0_row3\" class=\"row_heading level0 row3\" >I would recommend course to a friend</th>\n",
       "                        <td id=\"T_dc38bfe2_bda7_11eb_8063_8c2937e9c0derow3_col0\" class=\"data row3 col0\" >20.00%</td>\n",
       "                        <td id=\"T_dc38bfe2_bda7_11eb_8063_8c2937e9c0derow3_col1\" class=\"data row3 col1\" >22.86%</td>\n",
       "                        <td id=\"T_dc38bfe2_bda7_11eb_8063_8c2937e9c0derow3_col2\" class=\"data row3 col2\" >25.71%</td>\n",
       "                        <td id=\"T_dc38bfe2_bda7_11eb_8063_8c2937e9c0derow3_col3\" class=\"data row3 col3\" >31.43%</td>\n",
       "                        <td id=\"T_dc38bfe2_bda7_11eb_8063_8c2937e9c0derow3_col4\" class=\"data row3 col4\" >100.00%</td>\n",
       "            </tr>\n",
       "            <tr>\n",
       "                        <th id=\"T_dc38bfe2_bda7_11eb_8063_8c2937e9c0delevel0_row4\" class=\"row_heading level0 row4\" >Instructor helpful</th>\n",
       "                        <td id=\"T_dc38bfe2_bda7_11eb_8063_8c2937e9c0derow4_col0\" class=\"data row4 col0\" >27.50%</td>\n",
       "                        <td id=\"T_dc38bfe2_bda7_11eb_8063_8c2937e9c0derow4_col1\" class=\"data row4 col1\" >22.50%</td>\n",
       "                        <td id=\"T_dc38bfe2_bda7_11eb_8063_8c2937e9c0derow4_col2\" class=\"data row4 col2\" >22.50%</td>\n",
       "                        <td id=\"T_dc38bfe2_bda7_11eb_8063_8c2937e9c0derow4_col3\" class=\"data row4 col3\" >27.50%</td>\n",
       "                        <td id=\"T_dc38bfe2_bda7_11eb_8063_8c2937e9c0derow4_col4\" class=\"data row4 col4\" >100.00%</td>\n",
       "            </tr>\n",
       "            <tr>\n",
       "                        <th id=\"T_dc38bfe2_bda7_11eb_8063_8c2937e9c0delevel0_row5\" class=\"row_heading level0 row5\" >Instructor was faur</th>\n",
       "                        <td id=\"T_dc38bfe2_bda7_11eb_8063_8c2937e9c0derow5_col0\" class=\"data row5 col0\" >17.14%</td>\n",
       "                        <td id=\"T_dc38bfe2_bda7_11eb_8063_8c2937e9c0derow5_col1\" class=\"data row5 col1\" >22.86%</td>\n",
       "                        <td id=\"T_dc38bfe2_bda7_11eb_8063_8c2937e9c0derow5_col2\" class=\"data row5 col2\" >28.57%</td>\n",
       "                        <td id=\"T_dc38bfe2_bda7_11eb_8063_8c2937e9c0derow5_col3\" class=\"data row5 col3\" >31.43%</td>\n",
       "                        <td id=\"T_dc38bfe2_bda7_11eb_8063_8c2937e9c0derow5_col4\" class=\"data row5 col4\" >100.00%</td>\n",
       "            </tr>\n",
       "            <tr>\n",
       "                        <th id=\"T_dc38bfe2_bda7_11eb_8063_8c2937e9c0delevel0_row6\" class=\"row_heading level0 row6\" >Instructor was interested in students</th>\n",
       "                        <td id=\"T_dc38bfe2_bda7_11eb_8063_8c2937e9c0derow6_col0\" class=\"data row6 col0\" >26.83%</td>\n",
       "                        <td id=\"T_dc38bfe2_bda7_11eb_8063_8c2937e9c0derow6_col1\" class=\"data row6 col1\" >26.83%</td>\n",
       "                        <td id=\"T_dc38bfe2_bda7_11eb_8063_8c2937e9c0derow6_col2\" class=\"data row6 col2\" >21.95%</td>\n",
       "                        <td id=\"T_dc38bfe2_bda7_11eb_8063_8c2937e9c0derow6_col3\" class=\"data row6 col3\" >24.39%</td>\n",
       "                        <td id=\"T_dc38bfe2_bda7_11eb_8063_8c2937e9c0derow6_col4\" class=\"data row6 col4\" >100.00%</td>\n",
       "            </tr>\n",
       "            <tr>\n",
       "                        <th id=\"T_dc38bfe2_bda7_11eb_8063_8c2937e9c0delevel0_row7\" class=\"row_heading level0 row7\" >Outstanding teacher</th>\n",
       "                        <td id=\"T_dc38bfe2_bda7_11eb_8063_8c2937e9c0derow7_col0\" class=\"data row7 col0\" >25.00%</td>\n",
       "                        <td id=\"T_dc38bfe2_bda7_11eb_8063_8c2937e9c0derow7_col1\" class=\"data row7 col1\" >30.00%</td>\n",
       "                        <td id=\"T_dc38bfe2_bda7_11eb_8063_8c2937e9c0derow7_col2\" class=\"data row7 col2\" >20.00%</td>\n",
       "                        <td id=\"T_dc38bfe2_bda7_11eb_8063_8c2937e9c0derow7_col3\" class=\"data row7 col3\" >25.00%</td>\n",
       "                        <td id=\"T_dc38bfe2_bda7_11eb_8063_8c2937e9c0derow7_col4\" class=\"data row7 col4\" >100.00%</td>\n",
       "            </tr>\n",
       "            <tr>\n",
       "                        <th id=\"T_dc38bfe2_bda7_11eb_8063_8c2937e9c0delevel0_row8\" class=\"row_heading level0 row8\" >Prepared for class</th>\n",
       "                        <td id=\"T_dc38bfe2_bda7_11eb_8063_8c2937e9c0derow8_col0\" class=\"data row8 col0\" >28.21%</td>\n",
       "                        <td id=\"T_dc38bfe2_bda7_11eb_8063_8c2937e9c0derow8_col1\" class=\"data row8 col1\" >28.21%</td>\n",
       "                        <td id=\"T_dc38bfe2_bda7_11eb_8063_8c2937e9c0derow8_col2\" class=\"data row8 col2\" >25.64%</td>\n",
       "                        <td id=\"T_dc38bfe2_bda7_11eb_8063_8c2937e9c0derow8_col3\" class=\"data row8 col3\" >17.95%</td>\n",
       "                        <td id=\"T_dc38bfe2_bda7_11eb_8063_8c2937e9c0derow8_col4\" class=\"data row8 col4\" >100.00%</td>\n",
       "            </tr>\n",
       "            <tr>\n",
       "                        <th id=\"T_dc38bfe2_bda7_11eb_8063_8c2937e9c0delevel0_row9\" class=\"row_heading level0 row9\" >Useful Course</th>\n",
       "                        <td id=\"T_dc38bfe2_bda7_11eb_8063_8c2937e9c0derow9_col0\" class=\"data row9 col0\" >42.42%</td>\n",
       "                        <td id=\"T_dc38bfe2_bda7_11eb_8063_8c2937e9c0derow9_col1\" class=\"data row9 col1\" >33.33%</td>\n",
       "                        <td id=\"T_dc38bfe2_bda7_11eb_8063_8c2937e9c0derow9_col2\" class=\"data row9 col2\" >12.12%</td>\n",
       "                        <td id=\"T_dc38bfe2_bda7_11eb_8063_8c2937e9c0derow9_col3\" class=\"data row9 col3\" >12.12%</td>\n",
       "                        <td id=\"T_dc38bfe2_bda7_11eb_8063_8c2937e9c0derow9_col4\" class=\"data row9 col4\" >100.00%</td>\n",
       "            </tr>\n",
       "            <tr>\n",
       "                        <th id=\"T_dc38bfe2_bda7_11eb_8063_8c2937e9c0delevel0_row10\" class=\"row_heading level0 row10\" >Workload high</th>\n",
       "                        <td id=\"T_dc38bfe2_bda7_11eb_8063_8c2937e9c0derow10_col0\" class=\"data row10 col0\" >34.15%</td>\n",
       "                        <td id=\"T_dc38bfe2_bda7_11eb_8063_8c2937e9c0derow10_col1\" class=\"data row10 col1\" >12.20%</td>\n",
       "                        <td id=\"T_dc38bfe2_bda7_11eb_8063_8c2937e9c0derow10_col2\" class=\"data row10 col2\" >31.71%</td>\n",
       "                        <td id=\"T_dc38bfe2_bda7_11eb_8063_8c2937e9c0derow10_col3\" class=\"data row10 col3\" >21.95%</td>\n",
       "                        <td id=\"T_dc38bfe2_bda7_11eb_8063_8c2937e9c0derow10_col4\" class=\"data row10 col4\" >100.00%</td>\n",
       "            </tr>\n",
       "            <tr>\n",
       "                        <th id=\"T_dc38bfe2_bda7_11eb_8063_8c2937e9c0delevel0_row11\" class=\"row_heading level0 row11\" >All</th>\n",
       "                        <td id=\"T_dc38bfe2_bda7_11eb_8063_8c2937e9c0derow11_col0\" class=\"data row11 col0\" >26.48%</td>\n",
       "                        <td id=\"T_dc38bfe2_bda7_11eb_8063_8c2937e9c0derow11_col1\" class=\"data row11 col1\" >25.77%</td>\n",
       "                        <td id=\"T_dc38bfe2_bda7_11eb_8063_8c2937e9c0derow11_col2\" class=\"data row11 col2\" >24.82%</td>\n",
       "                        <td id=\"T_dc38bfe2_bda7_11eb_8063_8c2937e9c0derow11_col3\" class=\"data row11 col3\" >22.93%</td>\n",
       "                        <td id=\"T_dc38bfe2_bda7_11eb_8063_8c2937e9c0derow11_col4\" class=\"data row11 col4\" >100.00%</td>\n",
       "            </tr>\n",
       "    </tbody></table>"
      ],
      "text/plain": [
       "<pandas.io.formats.style.Styler at 0x7f800397f370>"
      ]
     },
     "execution_count": 574,
     "metadata": {},
     "output_type": "execute_result"
    }
   ],
   "source": [
    "t = survey.pivot_table(index='Question', columns='Response', aggfunc='count', margins=True)\n",
    "\n",
    "(\n",
    "     t.div(t.iloc[:, -1], axis=0).mul(100)\n",
    "     .style\n",
    "     .format(\"{:.2f}%\")\n",
    ")"
   ]
  },
  {
   "cell_type": "code",
   "execution_count": 598,
   "metadata": {},
   "outputs": [
    {
     "data": {
      "image/png": "[encoded data removed]",
      "text/plain": [
       "<Figure size 720x576 with 1 Axes>"
      ]
     },
     "metadata": {
      "needs_background": "light"
     },
     "output_type": "display_data"
    }
   ],
   "source": [
    "fig, ax = plt.subplots()\n",
    "t.div(t.iloc[:, -1], axis=0).mul(100).iloc[:-1, :-1].plot(kind='bar',\n",
    "                                                          figsize=(10, 8),\n",
    "                                                          ax=ax);\n",
    "ax.legend(sorted(survey.Response.unique()));"
   ]
  },
  {
   "cell_type": "markdown",
   "metadata": {},
   "source": [
    "***\n",
    "Для данных из файла MonthtoMonth.xlsx создайте сводную таблицу, в которой показано приведенное отличие каждой ежемесячной продажи от продажи за предыдущий месяц для 2010 г."
   ]
  },
  {
   "cell_type": "code",
   "execution_count": 604,
   "metadata": {},
   "outputs": [],
   "source": [
    "mtm = pd.read_excel('~/Study/excel/Ch43/Practice Files/MonthtoMonth.xlsx',\n",
    "                    skiprows=4, usecols=range(5,8), sheet_name='data')"
   ]
  },
  {
   "cell_type": "code",
   "execution_count": 634,
   "metadata": {},
   "outputs": [],
   "source": [
    "idx = pd.date_range(start='2010-01', freq='M', periods=12)\n",
    "months = {name: i for i, name in enumerate(idx.month_name(), 1)}"
   ]
  },
  {
   "cell_type": "code",
   "execution_count": 640,
   "metadata": {},
   "outputs": [],
   "source": [
    "revenue = mtm[mtm.Year == 2010].assign(Month_name=mtm.Month.map(months)).groupby('Month_name')['Revenue'].sum()"
   ]
  },
  {
   "cell_type": "code",
   "execution_count": 647,
   "metadata": {},
   "outputs": [],
   "source": [
    "revenue_pct_change = revenue.pct_change()\n",
    "revenue_pct_change.name = 'Pct change'"
   ]
  },
  {
   "cell_type": "code",
   "execution_count": 648,
   "metadata": {},
   "outputs": [
    {
     "data": {
      "text/html": [
       "<div>\n",
       "<style scoped>\n",
       "    .dataframe tbody tr th:only-of-type {\n",
       "        vertical-align: middle;\n",
       "    }\n",
       "\n",
       "    .dataframe tbody tr th {\n",
       "        vertical-align: top;\n",
       "    }\n",
       "\n",
       "    .dataframe thead th {\n",
       "        text-align: right;\n",
       "    }\n",
       "</style>\n",
       "<table border=\"1\" class=\"dataframe\">\n",
       "  <thead>\n",
       "    <tr style=\"text-align: right;\">\n",
       "      <th></th>\n",
       "      <th>Revenue</th>\n",
       "      <th>Pct change</th>\n",
       "    </tr>\n",
       "    <tr>\n",
       "      <th>Month_name</th>\n",
       "      <th></th>\n",
       "      <th></th>\n",
       "    </tr>\n",
       "  </thead>\n",
       "  <tbody>\n",
       "    <tr>\n",
       "      <th>1</th>\n",
       "      <td>84058</td>\n",
       "      <td>NaN</td>\n",
       "    </tr>\n",
       "    <tr>\n",
       "      <th>2</th>\n",
       "      <td>74896</td>\n",
       "      <td>-0.108996</td>\n",
       "    </tr>\n",
       "    <tr>\n",
       "      <th>3</th>\n",
       "      <td>41689</td>\n",
       "      <td>-0.443375</td>\n",
       "    </tr>\n",
       "    <tr>\n",
       "      <th>4</th>\n",
       "      <td>59910</td>\n",
       "      <td>0.437070</td>\n",
       "    </tr>\n",
       "    <tr>\n",
       "      <th>5</th>\n",
       "      <td>49345</td>\n",
       "      <td>-0.176348</td>\n",
       "    </tr>\n",
       "    <tr>\n",
       "      <th>6</th>\n",
       "      <td>42355</td>\n",
       "      <td>-0.141656</td>\n",
       "    </tr>\n",
       "    <tr>\n",
       "      <th>7</th>\n",
       "      <td>87516</td>\n",
       "      <td>1.066250</td>\n",
       "    </tr>\n",
       "    <tr>\n",
       "      <th>8</th>\n",
       "      <td>33060</td>\n",
       "      <td>-0.622241</td>\n",
       "    </tr>\n",
       "    <tr>\n",
       "      <th>9</th>\n",
       "      <td>48963</td>\n",
       "      <td>0.481034</td>\n",
       "    </tr>\n",
       "    <tr>\n",
       "      <th>10</th>\n",
       "      <td>36243</td>\n",
       "      <td>-0.259788</td>\n",
       "    </tr>\n",
       "    <tr>\n",
       "      <th>11</th>\n",
       "      <td>17010</td>\n",
       "      <td>-0.530668</td>\n",
       "    </tr>\n",
       "    <tr>\n",
       "      <th>12</th>\n",
       "      <td>73381</td>\n",
       "      <td>3.313992</td>\n",
       "    </tr>\n",
       "  </tbody>\n",
       "</table>\n",
       "</div>"
      ],
      "text/plain": [
       "            Revenue  Pct change\n",
       "Month_name                     \n",
       "1             84058         NaN\n",
       "2             74896   -0.108996\n",
       "3             41689   -0.443375\n",
       "4             59910    0.437070\n",
       "5             49345   -0.176348\n",
       "6             42355   -0.141656\n",
       "7             87516    1.066250\n",
       "8             33060   -0.622241\n",
       "9             48963    0.481034\n",
       "10            36243   -0.259788\n",
       "11            17010   -0.530668\n",
       "12            73381    3.313992"
      ]
     },
     "execution_count": 648,
     "metadata": {},
     "output_type": "execute_result"
    }
   ],
   "source": [
    "pd.concat([revenue, revenue_pct_change], axis=1)"
   ]
  }
 ],
 "metadata": {
  "kernelspec": {
   "display_name": "Python 3",
   "language": "python",
   "name": "python3"
  },
  "language_info": {
   "codemirror_mode": {
    "name": "ipython",
    "version": 3
   },
   "file_extension": ".py",
   "mimetype": "text/x-python",
   "name": "python",
   "nbconvert_exporter": "python",
   "pygments_lexer": "ipython3",
   "version": "3.8.3"
  }
 },
 "nbformat": 4,
 "nbformat_minor": 4
}
