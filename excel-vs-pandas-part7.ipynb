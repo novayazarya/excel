{
 "cells": [
  {
   "cell_type": "code",
   "execution_count": 1,
   "id": "e558dec9",
   "metadata": {},
   "outputs": [],
   "source": [
    "import pandas as pd\n",
    "import numpy as np\n",
    "import matplotlib.pyplot as plt\n",
    "import seaborn as sns\n",
    "from tqdm.auto import tqdm\n",
    "\n",
    "from IPython.display import display, HTML\n",
    "\n",
    "import warnings \n",
    "warnings.simplefilter(\"ignore\")"
   ]
  },
  {
   "cell_type": "markdown",
   "id": "cd33487a",
   "metadata": {},
   "source": [
    "# Определение ценности клиента\n",
    "\n",
    "Многие компании недооценивают своих клиентов. При оценке клиентов компания должна учитывать чистую приведенную стоимость (ЧПС) для долгосрочной прибыли, которую принесет клиент. Отказ от учета долгосрочной значимости клиента часто является причиной принятия компанией неправильного решения. Например, компания может сократить штат обслуживания клиентов на 10% для экономии 1 млн долларов, но в результате снижение качества обслуживания может привести к потере более 1 млн долларов в ценности клиента, что в итоге скажется на прибыльности компании. Способы определения ценности клиента рассматриваются на следующих двух примерах.\n",
    "\n",
    "**Компания, работающая с кредитными картами, в настоящее время имеет коэффициент сохранения клиентов 80%. Насколько возрастет прибыльность компании, если коэффициент сохранения клиентов увеличится до 90% и выше?**\n",
    "\n",
    "Этот пример основан на книге Фредерика Райхельда \"Эффект лояльности\" (Frederick Reichheld. The Loyalty Effect. — Harvard Business School Press, 2001). Данные к примеру находятся в файле Loyalty.xlsx. Райхельд оценивает прибыльность клиента-держателя кредитной карты на основе количества лет, в течение которых клиент является держателем карты. Например, в течение первого года держатель карты создает прибыль –40 долларов, что является результатом затрат на привлечение клиента и затрат на создание счета клиента. В течение каждого последующего года прибыль, приносимая клиентом, увеличивается, и клиент, являющийся держателем карты 20 лет и больше, приносит прибыль 161 доллар в год.\n",
    "\n",
    "Компаниям, работающим с кредитными картами, необходимо определить зависимость ценности клиента от коэффициента сохранения клиентов в компании. В настоящее время коэффициент сохранения клиентов составляет 80%. Это означает, что в конце каждого года 20% (1 – 0,80) всех клиентов не возобновляют свои карты. (Эти 20% клиентов могут быть названы годовым коэффициентом \"текучести\" клиентов.) Компании, работающей с кредитными картами, необходимо определить долгосрочную ценность клиента для следующих значений коэффициента сохранения клиентов: 80, 85, 90, 95 и 99%.\n",
    "\n",
    "Для определения долговременной ценности клиента начнем, например, с когорты из 100 клиентов. (*Когорта* — это группа лиц, имеющих общий статистический показатель. Размер группы, 100 человек, здесь выбран произвольно, но круглые числа позволяют не отвлекаться от анализа.) Затем для каждого года определим, сколько клиентов остается клиентами компании, по формуле (клиенты для года $t + 1$) = (коэффициент сохранения клиентов) × (клиенты для года $t$). Будем считать, что клиенты уходят только в конце каждого года. Затем с помощью функции `NPV` определим общую ЧПС (с учетом 15%-ной ставки дисконта), полученную от исходной когорты из 100 клиентов. 15%-ная ставка дисконта означает, что 1 доллар, заработанный через год от текущего момента, стоит так же, как 1,00/1,15 доллар сейчас. Разделив это число на количество клиентов в исходной когорте (100), получим ценность отдельного клиента.\n",
    "\n",
    "ЧПС для денежных потоков на конец года преобразуются в ЧПС для денежных потоков на начало года путем умножения на `(1+процентная_ставка)`. При коэффициенте сохранения клиентов 80% ценность среднего клиента составляет 141,72 долларов. Для определения зависимости изменения ценности отдельного клиента от изменения годового коэффициента сохранения клиентов воспользуйтесь таблицей данных с одним входом. Повышение коэффициента сохранения клиентов с 80 до 90% почти удваивает ценность каждого клиента, что говорит \"за\" вежливое обращение с такими клиентами и \"против\" экономии на обслуживании клиентов. Осознание ценности клиента предоставляет большинству компаний ключ к повышению прибыльности.\n",
    "\n",
    "**Междугородная телефонная компания предоставляет клиентам конкурентов стимул для смены компании. Насколько значительным должен быть стимул?**\n",
    "\n",
    "Междугородная телефонная компания, средний клиент которой тратит 400 долларов в год, получает 10% прибыли с каждого потраченного доллара. В конце каждого года 50% клиентов компании переходят к конкурентам и 30% клиентов конкурентов без всякого стимула переходят в эту компанию. Компания рассматривает вопрос о предоставлении клиентам конкурентов одноразовый стимул для смены компании. Насколько значительным может быть стимул без убытка для компании?\n",
    "\n",
    "Ключом к решению этой проблемы (см. файл Phoneloyalty.xlsx) является внимательное изучение ЧПС для двух ситуаций.\n",
    "- **Ситуация 1.** Стоклиентовподключаютсякконкурентам.\n",
    "- **Ситуация 2.** Компания платит ста клиентам конкурентов определенную сумму за переход.\n",
    "\n",
    "Для отслеживания каждой ситуации в течение определенного времени (например, в течение 20 лет) можно с помощью подбора определить сумму $x$ в долларах (выплачиваемую клиенту за переход в компанию), что позволяет не проявлять беспокойства в следующих двух ситуациях.\n",
    "\n",
    "- **Ситуация 1.** Компания просто платит каждому из ста нелояльных клиентов $x$ долларов за переход.\n",
    "- **Ситуация 2.** Рынок состоит из ста нелояльных клиентов.\n",
    "\n",
    "Ключевым шагом анализа является понимание того, что (клиенты компании в год t + 1) = 0,3 × (клиенты конкурентов в год t) + 0,5 × (клиенты компании в год t). Аналогично (клиенты конкурентов в год t + 1) = 0,7 × (клиенты конкурентов в год t) + 0,5 × (клиенты компании в год t)."
   ]
  },
  {
   "cell_type": "markdown",
   "id": "8685b3f4",
   "metadata": {},
   "source": [
    "***\n",
    "1. Компания Whirlswim Appliance рассматривает возможность предоставить каждому своему клиенту бесплатное техническое обслуживание для каждого проданного DVD-плеера. Компания считает, что это предложение потребует заплатить в среднем 2,50 долларов за каждый проданный сегодня DVD-плеер (стоимость в сегодняшних долларах). В настоящее время рынок состоит из 72 000 потребителей, последняя покупка которых состоялась в компании Whirlswim, и из 86 000 потребителей, которые последний раз покупали у конкурентов компании. В указанном году 40% всех потребителей приобретают DVD-плеер. Если последняя покупка потребителя была в Whirlswim, с вероятностью 60% его следующая покупка также состоится в Whirlswim. Если последняя покупка была не в Whirlswim, с вероятностью 30% следующая покупка состоится в Whirlswim. Покупка в текущем году дает прибыль 20 долларов. Вклад в прибыль от покупателя (и расходы на техническое обслуживание для каждого покупателя) растет на 5% в год. Коэффициент дисконтирования для прибыли (относительно 30-летнего горизонта) составляет 10% в год. Предположим, что компания предоставляет бесплатное техническое обслуживание. Если последняя покупка клиента была в Whirlswim, вероятность того, что следующая покупка клиента будет в Whirlswim, увеличится на неизвестную величину в пределах от 0 до 10%. Аналогично, если компания предоставляет бесплатное техническое обслуживание, и последняя покупка клиента была не в Whirlswim, вероятность того, что следующая покупка будет в Whirlswim, увеличится на неизвестную величину в пределах от 0 до 10%. Следует ли компании Whirlswim принять политику бесплатного технического обслуживания?"
   ]
  },
  {
   "cell_type": "code",
   "execution_count": 25,
   "id": "a9d9e9df",
   "metadata": {},
   "outputs": [],
   "source": [
    "import numpy_financial as npf"
   ]
  },
  {
   "cell_type": "code",
   "execution_count": 69,
   "id": "6d0ffb77",
   "metadata": {},
   "outputs": [],
   "source": [
    "# base case\n",
    "fraction_buying = 0.4\n",
    "stay = 0.6 # stay with us\n",
    "switch = 0.3 # switch to us\n",
    "profit_contribution = 20\n",
    "growth_rate = 1.05\n",
    "discount_rate = 0.1\n",
    "years = 30"
   ]
  },
  {
   "cell_type": "code",
   "execution_count": 46,
   "id": "a6a0c6b4",
   "metadata": {},
   "outputs": [],
   "source": [
    "def get_npv(fraction_buying: float = 0.4, \n",
    "            stay: float = 0.6,\n",
    "            switch: float = 0.3, \n",
    "            profit_contribution: int = 20, \n",
    "            growth_rate: float = 1.05, \n",
    "            discount_rate: float = 0.1,\n",
    "            yers: int = 30,\n",
    "            us: int = 72000,\n",
    "            them: int = 86000\n",
    "           ) -> float:\n",
    "    cash_flow = []\n",
    "    for year in range(years+1):\n",
    "        purchasers = us * fraction_buying * stay + them * fraction_buying * switch\n",
    "        profit = profit_contribution * purchasers * growth_rate ** year\n",
    "        cash_flow.append(profit)\n",
    "        them_1 = them * ((1 - fraction_buying) + fraction_buying * (1 - switch)) \\\n",
    "                                               + us * fraction_buying * (1 - stay)\n",
    "        us_1 = us * ((1 - fraction_buying) + fraction_buying * stay) + them * fraction_buying * switch\n",
    "        them, us = them_1, us_1\n",
    "    return npf.npv(discount_rate, cash_flow) # NPV"
   ]
  },
  {
   "cell_type": "code",
   "execution_count": 47,
   "id": "158d8f9b",
   "metadata": {},
   "outputs": [],
   "source": [
    "base_case = get_npv() # базовая чистая приведенная стоимость 9132948.159"
   ]
  },
  {
   "cell_type": "markdown",
   "id": "f99d6e51",
   "metadata": {},
   "source": [
    "Money back guarantee 5% get $50 product"
   ]
  },
  {
   "cell_type": "code",
   "execution_count": 59,
   "id": "88ceffec",
   "metadata": {},
   "outputs": [],
   "source": [
    "switch_range = np.arange(.3, .4, .01)\n",
    "stay_range = np.arange(.6, .7, .01)\n",
    "df = pd.DataFrame(np.array([[get_npv(switch=switch, stay=stay, profit_contribution=17.5)\n",
    "                for switch in switch_range] for stay in stay_range]) - base_case,\n",
    "                index=stay_range, columns=switch_range)"
   ]
  },
  {
   "cell_type": "code",
   "execution_count": 67,
   "id": "5f48a564",
   "metadata": {},
   "outputs": [
    {
     "data": {
      "text/html": [
       "<div>\n",
       "<style scoped>\n",
       "    .dataframe tbody tr th:only-of-type {\n",
       "        vertical-align: middle;\n",
       "    }\n",
       "\n",
       "    .dataframe tbody tr th {\n",
       "        vertical-align: top;\n",
       "    }\n",
       "\n",
       "    .dataframe thead th {\n",
       "        text-align: right;\n",
       "    }\n",
       "</style>\n",
       "<table border=\"1\" class=\"dataframe\">\n",
       "  <thead>\n",
       "    <tr style=\"text-align: right;\">\n",
       "      <th></th>\n",
       "      <th>0.30</th>\n",
       "      <th>0.31</th>\n",
       "      <th>0.32</th>\n",
       "      <th>0.33</th>\n",
       "      <th>0.34</th>\n",
       "      <th>0.35</th>\n",
       "      <th>0.36</th>\n",
       "      <th>0.37</th>\n",
       "      <th>0.38</th>\n",
       "      <th>0.39</th>\n",
       "      <th>0.40</th>\n",
       "    </tr>\n",
       "  </thead>\n",
       "  <tbody>\n",
       "    <tr>\n",
       "      <th>0.60</th>\n",
       "      <td>-1.141619e+06</td>\n",
       "      <td>-1.001537e+06</td>\n",
       "      <td>-864611.582212</td>\n",
       "      <td>-730738.913411</td>\n",
       "      <td>-599819.055717</td>\n",
       "      <td>-471756.555285</td>\n",
       "      <td>-346459.965576</td>\n",
       "      <td>-223841.643385</td>\n",
       "      <td>-103817.556899</td>\n",
       "      <td>1.369290e+04</td>\n",
       "      <td>1.287671e+05</td>\n",
       "    </tr>\n",
       "    <tr>\n",
       "      <th>0.61</th>\n",
       "      <td>-1.031786e+06</td>\n",
       "      <td>-8.913570e+05</td>\n",
       "      <td>-754127.699655</td>\n",
       "      <td>-619991.584480</td>\n",
       "      <td>-488846.579146</td>\n",
       "      <td>-360594.976706</td>\n",
       "      <td>-235143.212633</td>\n",
       "      <td>-112401.652062</td>\n",
       "      <td>7715.610340</td>\n",
       "      <td>1.252909e+05</td>\n",
       "      <td>2.404033e+05</td>\n",
       "    </tr>\n",
       "    <tr>\n",
       "      <th>0.62</th>\n",
       "      <td>-9.193613e+05</td>\n",
       "      <td>-7.786066e+05</td>\n",
       "      <td>-641095.480805</td>\n",
       "      <td>-506718.659198</td>\n",
       "      <td>-375371.586749</td>\n",
       "      <td>-246954.244882</td>\n",
       "      <td>-121370.897695</td>\n",
       "      <td>1470.130019</td>\n",
       "      <td>121656.661451</td>\n",
       "      <td>2.392729e+05</td>\n",
       "      <td>3.543994e+05</td>\n",
       "    </tr>\n",
       "    <tr>\n",
       "      <th>0.63</th>\n",
       "      <td>-8.042524e+05</td>\n",
       "      <td>-6.631958e+05</td>\n",
       "      <td>-525427.006333</td>\n",
       "      <td>-390833.961268</td>\n",
       "      <td>-259309.618741</td>\n",
       "      <td>-130751.589017</td>\n",
       "      <td>-5061.910617</td>\n",
       "      <td>117853.181317</td>\n",
       "      <td>238083.472670</td>\n",
       "      <td>3.557150e+05</td>\n",
       "      <td>4.708301e+05</td>\n",
       "    </tr>\n",
       "    <tr>\n",
       "      <th>0.64</th>\n",
       "      <td>-6.863638e+05</td>\n",
       "      <td>-5.450309e+05</td>\n",
       "      <td>-407030.345296</td>\n",
       "      <td>-272247.423615</td>\n",
       "      <td>-140572.441731</td>\n",
       "      <td>-11900.578285</td>\n",
       "      <td>113868.408714</td>\n",
       "      <td>236830.423648</td>\n",
       "      <td>357077.260328</td>\n",
       "      <td>4.746968e+05</td>\n",
       "      <td>5.897733e+05</td>\n",
       "    </tr>\n",
       "    <tr>\n",
       "      <th>0.65</th>\n",
       "      <td>-5.655951e+05</td>\n",
       "      <td>-4.240135e+05</td>\n",
       "      <td>-285809.329874</td>\n",
       "      <td>-150864.872027</td>\n",
       "      <td>-19067.840897</td>\n",
       "      <td>109689.077807</td>\n",
       "      <td>235508.462172</td>\n",
       "      <td>358488.406446</td>\n",
       "      <td>478722.757912</td>\n",
       "      <td>5.963013e+05</td>\n",
       "      <td>7.113102e+05</td>\n",
       "    </tr>\n",
       "    <tr>\n",
       "      <th>0.66</th>\n",
       "      <td>-4.418414e+05</td>\n",
       "      <td>-3.000410e+05</td>\n",
       "      <td>-161663.315307</td>\n",
       "      <td>-26587.794703</td>\n",
       "      <td>105300.601242</td>\n",
       "      <td>234111.741821</td>\n",
       "      <td>359950.597344</td>\n",
       "      <td>482917.502629</td>\n",
       "      <td>603108.404177</td>\n",
       "      <td>7.206151e+05</td>\n",
       "      <td>8.355254e+05</td>\n",
       "    </tr>\n",
       "    <tr>\n",
       "      <th>0.67</th>\n",
       "      <td>-3.149926e+05</td>\n",
       "      <td>-1.730056e+05</td>\n",
       "      <td>-34486.923930</td>\n",
       "      <td>100686.903316</td>\n",
       "      <td>232633.740468</td>\n",
       "      <td>361466.074512</td>\n",
       "      <td>487291.324539</td>\n",
       "      <td>610212.116881</td>\n",
       "      <td>730326.543085</td>\n",
       "      <td>8.477284e+05</td>\n",
       "      <td>9.625074e+05</td>\n",
       "    </tr>\n",
       "    <tr>\n",
       "      <th>0.68</th>\n",
       "      <td>-1.849333e+05</td>\n",
       "      <td>-4.279440e+04</td>\n",
       "      <td>95830.227853</td>\n",
       "      <td>231067.161971</td>\n",
       "      <td>363037.121939</td>\n",
       "      <td>491855.275639</td>\n",
       "      <td>617631.547781</td>\n",
       "      <td>740470.907257</td>\n",
       "      <td>860473.636419</td>\n",
       "      <td>9.777356e+05</td>\n",
       "      <td>1.092348e+06</td>\n",
       "    </tr>\n",
       "    <tr>\n",
       "      <th>0.69</th>\n",
       "      <td>-5.154241e+04</td>\n",
       "      <td>9.071092e+04</td>\n",
       "      <td>229403.820959</td>\n",
       "      <td>364666.045443</td>\n",
       "      <td>496621.247872</td>\n",
       "      <td>625387.340562</td>\n",
       "      <td>751076.810810</td>\n",
       "      <td>873797.021050</td>\n",
       "      <td>993650.489975</td>\n",
       "      <td>1.110735e+06</td>\n",
       "      <td>1.225145e+06</td>\n",
       "    </tr>\n",
       "  </tbody>\n",
       "</table>\n",
       "</div>"
      ],
      "text/plain": [
       "              0.30          0.31           0.32           0.33           0.34  \\\n",
       "0.60 -1.141619e+06 -1.001537e+06 -864611.582212 -730738.913411 -599819.055717   \n",
       "0.61 -1.031786e+06 -8.913570e+05 -754127.699655 -619991.584480 -488846.579146   \n",
       "0.62 -9.193613e+05 -7.786066e+05 -641095.480805 -506718.659198 -375371.586749   \n",
       "0.63 -8.042524e+05 -6.631958e+05 -525427.006333 -390833.961268 -259309.618741   \n",
       "0.64 -6.863638e+05 -5.450309e+05 -407030.345296 -272247.423615 -140572.441731   \n",
       "0.65 -5.655951e+05 -4.240135e+05 -285809.329874 -150864.872027  -19067.840897   \n",
       "0.66 -4.418414e+05 -3.000410e+05 -161663.315307  -26587.794703  105300.601242   \n",
       "0.67 -3.149926e+05 -1.730056e+05  -34486.923930  100686.903316  232633.740468   \n",
       "0.68 -1.849333e+05 -4.279440e+04   95830.227853  231067.161971  363037.121939   \n",
       "0.69 -5.154241e+04  9.071092e+04  229403.820959  364666.045443  496621.247872   \n",
       "\n",
       "               0.35           0.36           0.37           0.38  \\\n",
       "0.60 -471756.555285 -346459.965576 -223841.643385 -103817.556899   \n",
       "0.61 -360594.976706 -235143.212633 -112401.652062    7715.610340   \n",
       "0.62 -246954.244882 -121370.897695    1470.130019  121656.661451   \n",
       "0.63 -130751.589017   -5061.910617  117853.181317  238083.472670   \n",
       "0.64  -11900.578285  113868.408714  236830.423648  357077.260328   \n",
       "0.65  109689.077807  235508.462172  358488.406446  478722.757912   \n",
       "0.66  234111.741821  359950.597344  482917.502629  603108.404177   \n",
       "0.67  361466.074512  487291.324539  610212.116881  730326.543085   \n",
       "0.68  491855.275639  617631.547781  740470.907257  860473.636419   \n",
       "0.69  625387.340562  751076.810810  873797.021050  993650.489975   \n",
       "\n",
       "              0.39          0.40  \n",
       "0.60  1.369290e+04  1.287671e+05  \n",
       "0.61  1.252909e+05  2.404033e+05  \n",
       "0.62  2.392729e+05  3.543994e+05  \n",
       "0.63  3.557150e+05  4.708301e+05  \n",
       "0.64  4.746968e+05  5.897733e+05  \n",
       "0.65  5.963013e+05  7.113102e+05  \n",
       "0.66  7.206151e+05  8.355254e+05  \n",
       "0.67  8.477284e+05  9.625074e+05  \n",
       "0.68  9.777356e+05  1.092348e+06  \n",
       "0.69  1.110735e+06  1.225145e+06  "
      ]
     },
     "execution_count": 67,
     "metadata": {},
     "output_type": "execute_result"
    }
   ],
   "source": [
    "df"
   ]
  },
  {
   "cell_type": "code",
   "execution_count": 66,
   "id": "82ca5909",
   "metadata": {},
   "outputs": [
    {
     "data": {
      "text/plain": [
       "1141618.5198800946"
      ]
     },
     "execution_count": 66,
     "metadata": {},
     "output_type": "execute_result"
    }
   ],
   "source": [
    "df.min().abs().max() # this is improvement in NPV"
   ]
  },
  {
   "cell_type": "markdown",
   "id": "0da2792d",
   "metadata": {},
   "source": [
    "Похоже, что нам нужно `stay with us` и `switch to us` увеличить на 10% или больше, чтобы бесплатное техническое обслуживание окупилось."
   ]
  },
  {
   "cell_type": "markdown",
   "id": "76182e0d",
   "metadata": {},
   "source": [
    "***\n",
    "2. Супермаркет \"Mr. D\" пытается определить, следует ли предоставить своим клиентам карту клиента. В настоящее время 30% всех покупателей лояльны к супермаркету \"Mr. D\". Лояльный клиент покупает в \"Mr. D\" в 80% случаев. Нелояльный к \"Mr. D\" клиент покупает в этом супермаркете в 10% случаев. Типичный покупатель тратит 150 долларов в неделю, и супермаркет \"Mr. D\" работает из 4% прибыли. Карта клиента обойдется супермаркету \"Mr. D\" в среднем 0,01 доллара на каждый потраченный доллар. Вы считаете, что доля лояльных к \"Mr. D\" покупателей увеличится на неизвестную величину в пределах от 2 до 10%. Вы также считаете, что доля случаев, когда лояльный клиент покупает в \"Mr. D\", увеличится на неизвестную величину в пределах от 2 до 12%. Следует ли супермаркету \"Mr.D\" предоставлять клиентам карту клиента? Следует ли супермаркету \"Mr. D\" предоставлять карту, если прибыль составляет 8%, а не 4%?"
   ]
  },
  {
   "cell_type": "markdown",
   "id": "33eb968a",
   "metadata": {},
   "source": [
    "**Base Case**"
   ]
  },
  {
   "cell_type": "code",
   "execution_count": 70,
   "id": "7bfb59e8",
   "metadata": {},
   "outputs": [],
   "source": [
    "loyal = .3\n",
    "others = 1 - loyal"
   ]
  },
  {
   "cell_type": "code",
   "execution_count": 71,
   "id": "2cde235f",
   "metadata": {},
   "outputs": [],
   "source": [
    "mrds_loyal = .8\n",
    "mrds_others = .1\n",
    "elsewhere_loyal = 1 - mrds_loyal\n",
    "elsewhere_others = 1 - mrds_others"
   ]
  },
  {
   "cell_type": "code",
   "execution_count": 72,
   "id": "36f6922b",
   "metadata": {},
   "outputs": [],
   "source": [
    "average_spending = 150\n",
    "profit_margin = 0.04"
   ]
  },
  {
   "cell_type": "code",
   "execution_count": 73,
   "id": "a9facab3",
   "metadata": {},
   "outputs": [],
   "source": [
    "go_to_mrds = 100 * loyal * mrds_loyal + 100 * others * mrds_others\n",
    "go_elsewhere = 100 * loyal * elsewhere_loyal + 100 * others * elsewhere_others"
   ]
  },
  {
   "cell_type": "code",
   "execution_count": 76,
   "id": "360f34c2",
   "metadata": {},
   "outputs": [],
   "source": [
    "spending = go_to_mrds * average_spending\n",
    "profit = spending * profit_margin"
   ]
  },
  {
   "cell_type": "markdown",
   "id": "f01f26c0",
   "metadata": {},
   "source": [
    "Data table wasused to compute profit for each margin without the card"
   ]
  },
  {
   "cell_type": "code",
   "execution_count": 84,
   "id": "c6bdcdda",
   "metadata": {},
   "outputs": [
    {
     "data": {
      "text/plain": [
       "[186.0, 232.5, 279.0, 325.50000000000006, 372.00000000000006]"
      ]
     },
     "execution_count": 84,
     "metadata": {},
     "output_type": "execute_result"
    }
   ],
   "source": [
    "profit_margins = np.arange(0.04, 0.09, 0.01)\n",
    "[spending * p for p in profit_margins]"
   ]
  },
  {
   "cell_type": "markdown",
   "id": "8bfe1224",
   "metadata": {},
   "source": [
    "**Customer advantage card**"
   ]
  },
  {
   "cell_type": "code",
   "execution_count": 88,
   "id": "df818a0a",
   "metadata": {},
   "outputs": [],
   "source": [
    "def get_profit(loyal: float,\n",
    "               mrds_loyal: float,\n",
    "               mrds_others: float,\n",
    "               average_spending: int,\n",
    "               profit_margin: float,\n",
    "               cost_of_program: float) -> float:\n",
    "    \n",
    "    others = 1 - loyal\n",
    "    elsewhere_loyal = 1 - mrds_loyal\n",
    "    elsewhere_others = 1 - mrds_others\n",
    "    go_to_mrds = 100 * loyal * mrds_loyal + 100 * others * mrds_others\n",
    "    go_elsewhere = 100 * loyal * elsewhere_loyal + 100 * others * elsewhere_others\n",
    "    spending = go_to_mrds * average_spending\n",
    "    profit = spending * profit_margin - cost_of_program * 100 * average_spending * loyal * mrds_loyal\n",
    "    return profit"
   ]
  },
  {
   "cell_type": "code",
   "execution_count": 91,
   "id": "1dda41a9",
   "metadata": {},
   "outputs": [
    {
     "data": {
      "text/plain": [
       "186.0"
      ]
     },
     "execution_count": 91,
     "metadata": {},
     "output_type": "execute_result"
    }
   ],
   "source": [
    "profit # base case profit"
   ]
  },
  {
   "cell_type": "code",
   "execution_count": 105,
   "id": "c3129974",
   "metadata": {},
   "outputs": [
    {
     "data": {
      "text/plain": [
       "-36.0"
      ]
     },
     "execution_count": 105,
     "metadata": {},
     "output_type": "execute_result"
    }
   ],
   "source": [
    "params = {\n",
    "    'loyal': 0.30,\n",
    "    'mrds_loyal': 0.80,\n",
    "    'mrds_others': 0.1,\n",
    "    'average_spending': 150,\n",
    "    'profit_margin': 0.04,\n",
    "    'cost_of_program': 0.01    \n",
    "}\n",
    "get_profit(**params) - profit"
   ]
  },
  {
   "cell_type": "code",
   "execution_count": 131,
   "id": "1db526f4",
   "metadata": {},
   "outputs": [],
   "source": [
    "time_loyal_range = np.arange(.82, .92, .02)\n",
    "loyal_range = np.arange(.32, .44, .02)\n",
    "df = pd.DataFrame(np.array([[get_profit(**{**params,\n",
    "                                           'loyal': loyal,\n",
    "                                           'mrds_loyal': time_loyal})\n",
    "                for time_loyal in time_loyal_range] for loyal in loyal_range]) - profit,\n",
    "                index=loyal_range, columns=time_loyal_range)"
   ]
  },
  {
   "cell_type": "code",
   "execution_count": 112,
   "id": "3d996ab9",
   "metadata": {},
   "outputs": [],
   "source": [
    "def color_positive(val):\n",
    "    color = 'red' if val > 0 else 'black'\n",
    "    return 'color: %s' % color"
   ]
  },
  {
   "cell_type": "code",
   "execution_count": 132,
   "id": "5ac8bc52",
   "metadata": {},
   "outputs": [
    {
     "data": {
      "text/html": [
       "<style  type=\"text/css\" >\n",
       "#T_d9b0a_row0_col0,#T_d9b0a_row0_col1,#T_d9b0a_row0_col2,#T_d9b0a_row0_col3,#T_d9b0a_row0_col4,#T_d9b0a_row0_col5,#T_d9b0a_row1_col0,#T_d9b0a_row1_col1,#T_d9b0a_row1_col2,#T_d9b0a_row1_col3,#T_d9b0a_row1_col4,#T_d9b0a_row1_col5,#T_d9b0a_row2_col0,#T_d9b0a_row2_col1,#T_d9b0a_row2_col2,#T_d9b0a_row2_col3,#T_d9b0a_row2_col4,#T_d9b0a_row3_col0,#T_d9b0a_row3_col1,#T_d9b0a_row3_col2,#T_d9b0a_row4_col0{\n",
       "            color:  black;\n",
       "        }#T_d9b0a_row2_col5,#T_d9b0a_row3_col3,#T_d9b0a_row3_col4,#T_d9b0a_row3_col5,#T_d9b0a_row4_col1,#T_d9b0a_row4_col2,#T_d9b0a_row4_col3,#T_d9b0a_row4_col4,#T_d9b0a_row4_col5,#T_d9b0a_row5_col0,#T_d9b0a_row5_col1,#T_d9b0a_row5_col2,#T_d9b0a_row5_col3,#T_d9b0a_row5_col4,#T_d9b0a_row5_col5{\n",
       "            color:  red;\n",
       "        }</style><table id=\"T_d9b0a_\" ><thead>    <tr>        <th class=\"blank level0\" ></th>        <th class=\"col_heading level0 col0\" >0.82</th>        <th class=\"col_heading level0 col1\" >0.84</th>        <th class=\"col_heading level0 col2\" >0.86</th>        <th class=\"col_heading level0 col3\" >0.88</th>        <th class=\"col_heading level0 col4\" >0.9</th>        <th class=\"col_heading level0 col5\" >0.92</th>    </tr></thead><tbody>\n",
       "                <tr>\n",
       "                        <th id=\"T_d9b0a_level0_row0\" class=\"row_heading level0 row0\" >0.32</th>\n",
       "                        <td id=\"T_d9b0a_row0_col0\" class=\"data row0 col0\" >-27.12</td>\n",
       "                        <td id=\"T_d9b0a_row0_col1\" class=\"data row0 col1\" >-24.24</td>\n",
       "                        <td id=\"T_d9b0a_row0_col2\" class=\"data row0 col2\" >-21.36</td>\n",
       "                        <td id=\"T_d9b0a_row0_col3\" class=\"data row0 col3\" >-18.48</td>\n",
       "                        <td id=\"T_d9b0a_row0_col4\" class=\"data row0 col4\" >-15.60</td>\n",
       "                        <td id=\"T_d9b0a_row0_col5\" class=\"data row0 col5\" >-12.72</td>\n",
       "            </tr>\n",
       "            <tr>\n",
       "                        <th id=\"T_d9b0a_level0_row1\" class=\"row_heading level0 row1\" >0.34</th>\n",
       "                        <td id=\"T_d9b0a_row1_col0\" class=\"data row1 col0\" >-20.94</td>\n",
       "                        <td id=\"T_d9b0a_row1_col1\" class=\"data row1 col1\" >-17.88</td>\n",
       "                        <td id=\"T_d9b0a_row1_col2\" class=\"data row1 col2\" >-14.82</td>\n",
       "                        <td id=\"T_d9b0a_row1_col3\" class=\"data row1 col3\" >-11.76</td>\n",
       "                        <td id=\"T_d9b0a_row1_col4\" class=\"data row1 col4\" >-8.70</td>\n",
       "                        <td id=\"T_d9b0a_row1_col5\" class=\"data row1 col5\" >-5.64</td>\n",
       "            </tr>\n",
       "            <tr>\n",
       "                        <th id=\"T_d9b0a_level0_row2\" class=\"row_heading level0 row2\" >0.36</th>\n",
       "                        <td id=\"T_d9b0a_row2_col0\" class=\"data row2 col0\" >-14.76</td>\n",
       "                        <td id=\"T_d9b0a_row2_col1\" class=\"data row2 col1\" >-11.52</td>\n",
       "                        <td id=\"T_d9b0a_row2_col2\" class=\"data row2 col2\" >-8.28</td>\n",
       "                        <td id=\"T_d9b0a_row2_col3\" class=\"data row2 col3\" >-5.04</td>\n",
       "                        <td id=\"T_d9b0a_row2_col4\" class=\"data row2 col4\" >-1.80</td>\n",
       "                        <td id=\"T_d9b0a_row2_col5\" class=\"data row2 col5\" >1.44</td>\n",
       "            </tr>\n",
       "            <tr>\n",
       "                        <th id=\"T_d9b0a_level0_row3\" class=\"row_heading level0 row3\" >0.38</th>\n",
       "                        <td id=\"T_d9b0a_row3_col0\" class=\"data row3 col0\" >-8.58</td>\n",
       "                        <td id=\"T_d9b0a_row3_col1\" class=\"data row3 col1\" >-5.16</td>\n",
       "                        <td id=\"T_d9b0a_row3_col2\" class=\"data row3 col2\" >-1.74</td>\n",
       "                        <td id=\"T_d9b0a_row3_col3\" class=\"data row3 col3\" >1.68</td>\n",
       "                        <td id=\"T_d9b0a_row3_col4\" class=\"data row3 col4\" >5.10</td>\n",
       "                        <td id=\"T_d9b0a_row3_col5\" class=\"data row3 col5\" >8.52</td>\n",
       "            </tr>\n",
       "            <tr>\n",
       "                        <th id=\"T_d9b0a_level0_row4\" class=\"row_heading level0 row4\" >0.4</th>\n",
       "                        <td id=\"T_d9b0a_row4_col0\" class=\"data row4 col0\" >-2.40</td>\n",
       "                        <td id=\"T_d9b0a_row4_col1\" class=\"data row4 col1\" >1.20</td>\n",
       "                        <td id=\"T_d9b0a_row4_col2\" class=\"data row4 col2\" >4.80</td>\n",
       "                        <td id=\"T_d9b0a_row4_col3\" class=\"data row4 col3\" >8.40</td>\n",
       "                        <td id=\"T_d9b0a_row4_col4\" class=\"data row4 col4\" >12.00</td>\n",
       "                        <td id=\"T_d9b0a_row4_col5\" class=\"data row4 col5\" >15.60</td>\n",
       "            </tr>\n",
       "            <tr>\n",
       "                        <th id=\"T_d9b0a_level0_row5\" class=\"row_heading level0 row5\" >0.42</th>\n",
       "                        <td id=\"T_d9b0a_row5_col0\" class=\"data row5 col0\" >3.78</td>\n",
       "                        <td id=\"T_d9b0a_row5_col1\" class=\"data row5 col1\" >7.56</td>\n",
       "                        <td id=\"T_d9b0a_row5_col2\" class=\"data row5 col2\" >11.34</td>\n",
       "                        <td id=\"T_d9b0a_row5_col3\" class=\"data row5 col3\" >15.12</td>\n",
       "                        <td id=\"T_d9b0a_row5_col4\" class=\"data row5 col4\" >18.90</td>\n",
       "                        <td id=\"T_d9b0a_row5_col5\" class=\"data row5 col5\" >22.68</td>\n",
       "            </tr>\n",
       "    </tbody></table>"
      ],
      "text/plain": [
       "<pandas.io.formats.style.Styler at 0x7fa02ac97280>"
      ]
     },
     "execution_count": 132,
     "metadata": {},
     "output_type": "execute_result"
    }
   ],
   "source": [
    "df.index = np.round(df.index, 2)\n",
    "df.style.format('{:.2f}').applymap(color_positive) # higlighted outcomes result in increased profits with card"
   ]
  },
  {
   "cell_type": "code",
   "execution_count": 134,
   "id": "12c779c3",
   "metadata": {},
   "outputs": [],
   "source": [
    "params['profit_margin'] *= 2 # CA cards 8% margins\n",
    "\n",
    "df = pd.DataFrame(np.array([[get_profit(**{**params,\n",
    "                                           'loyal': loyal,\n",
    "                                           'mrds_loyal': time_loyal})\n",
    "                for time_loyal in time_loyal_range] for loyal in loyal_range]) - profit,\n",
    "                index=loyal_range, columns=time_loyal_range)"
   ]
  },
  {
   "cell_type": "code",
   "execution_count": 135,
   "id": "274353fc",
   "metadata": {},
   "outputs": [
    {
     "data": {
      "text/html": [
       "<style  type=\"text/css\" >\n",
       "#T_26b0f_row0_col0,#T_26b0f_row0_col1,#T_26b0f_row0_col2,#T_26b0f_row0_col3,#T_26b0f_row0_col4,#T_26b0f_row0_col5,#T_26b0f_row1_col0,#T_26b0f_row1_col1,#T_26b0f_row1_col2,#T_26b0f_row1_col3,#T_26b0f_row1_col4,#T_26b0f_row1_col5,#T_26b0f_row2_col0,#T_26b0f_row2_col1,#T_26b0f_row2_col2,#T_26b0f_row2_col3,#T_26b0f_row2_col4,#T_26b0f_row2_col5,#T_26b0f_row3_col0,#T_26b0f_row3_col1,#T_26b0f_row3_col2,#T_26b0f_row3_col3,#T_26b0f_row3_col4,#T_26b0f_row3_col5,#T_26b0f_row4_col0,#T_26b0f_row4_col1,#T_26b0f_row4_col2,#T_26b0f_row4_col3,#T_26b0f_row4_col4,#T_26b0f_row4_col5,#T_26b0f_row5_col0,#T_26b0f_row5_col1,#T_26b0f_row5_col2,#T_26b0f_row5_col3,#T_26b0f_row5_col4,#T_26b0f_row5_col5{\n",
       "            color:  red;\n",
       "        }</style><table id=\"T_26b0f_\" ><thead>    <tr>        <th class=\"blank level0\" ></th>        <th class=\"col_heading level0 col0\" >0.82</th>        <th class=\"col_heading level0 col1\" >0.84</th>        <th class=\"col_heading level0 col2\" >0.86</th>        <th class=\"col_heading level0 col3\" >0.88</th>        <th class=\"col_heading level0 col4\" >0.9</th>        <th class=\"col_heading level0 col5\" >0.92</th>    </tr></thead><tbody>\n",
       "                <tr>\n",
       "                        <th id=\"T_26b0f_level0_row0\" class=\"row_heading level0 row0\" >0.32</th>\n",
       "                        <td id=\"T_26b0f_row0_col0\" class=\"data row0 col0\" >171.12</td>\n",
       "                        <td id=\"T_26b0f_row0_col1\" class=\"data row0 col1\" >177.84</td>\n",
       "                        <td id=\"T_26b0f_row0_col2\" class=\"data row0 col2\" >184.56</td>\n",
       "                        <td id=\"T_26b0f_row0_col3\" class=\"data row0 col3\" >191.28</td>\n",
       "                        <td id=\"T_26b0f_row0_col4\" class=\"data row0 col4\" >198.00</td>\n",
       "                        <td id=\"T_26b0f_row0_col5\" class=\"data row0 col5\" >204.72</td>\n",
       "            </tr>\n",
       "            <tr>\n",
       "                        <th id=\"T_26b0f_level0_row1\" class=\"row_heading level0 row1\" >0.34</th>\n",
       "                        <td id=\"T_26b0f_row1_col0\" class=\"data row1 col0\" >185.94</td>\n",
       "                        <td id=\"T_26b0f_row1_col1\" class=\"data row1 col1\" >193.08</td>\n",
       "                        <td id=\"T_26b0f_row1_col2\" class=\"data row1 col2\" >200.22</td>\n",
       "                        <td id=\"T_26b0f_row1_col3\" class=\"data row1 col3\" >207.36</td>\n",
       "                        <td id=\"T_26b0f_row1_col4\" class=\"data row1 col4\" >214.50</td>\n",
       "                        <td id=\"T_26b0f_row1_col5\" class=\"data row1 col5\" >221.64</td>\n",
       "            </tr>\n",
       "            <tr>\n",
       "                        <th id=\"T_26b0f_level0_row2\" class=\"row_heading level0 row2\" >0.36</th>\n",
       "                        <td id=\"T_26b0f_row2_col0\" class=\"data row2 col0\" >200.76</td>\n",
       "                        <td id=\"T_26b0f_row2_col1\" class=\"data row2 col1\" >208.32</td>\n",
       "                        <td id=\"T_26b0f_row2_col2\" class=\"data row2 col2\" >215.88</td>\n",
       "                        <td id=\"T_26b0f_row2_col3\" class=\"data row2 col3\" >223.44</td>\n",
       "                        <td id=\"T_26b0f_row2_col4\" class=\"data row2 col4\" >231.00</td>\n",
       "                        <td id=\"T_26b0f_row2_col5\" class=\"data row2 col5\" >238.56</td>\n",
       "            </tr>\n",
       "            <tr>\n",
       "                        <th id=\"T_26b0f_level0_row3\" class=\"row_heading level0 row3\" >0.38</th>\n",
       "                        <td id=\"T_26b0f_row3_col0\" class=\"data row3 col0\" >215.58</td>\n",
       "                        <td id=\"T_26b0f_row3_col1\" class=\"data row3 col1\" >223.56</td>\n",
       "                        <td id=\"T_26b0f_row3_col2\" class=\"data row3 col2\" >231.54</td>\n",
       "                        <td id=\"T_26b0f_row3_col3\" class=\"data row3 col3\" >239.52</td>\n",
       "                        <td id=\"T_26b0f_row3_col4\" class=\"data row3 col4\" >247.50</td>\n",
       "                        <td id=\"T_26b0f_row3_col5\" class=\"data row3 col5\" >255.48</td>\n",
       "            </tr>\n",
       "            <tr>\n",
       "                        <th id=\"T_26b0f_level0_row4\" class=\"row_heading level0 row4\" >0.4</th>\n",
       "                        <td id=\"T_26b0f_row4_col0\" class=\"data row4 col0\" >230.40</td>\n",
       "                        <td id=\"T_26b0f_row4_col1\" class=\"data row4 col1\" >238.80</td>\n",
       "                        <td id=\"T_26b0f_row4_col2\" class=\"data row4 col2\" >247.20</td>\n",
       "                        <td id=\"T_26b0f_row4_col3\" class=\"data row4 col3\" >255.60</td>\n",
       "                        <td id=\"T_26b0f_row4_col4\" class=\"data row4 col4\" >264.00</td>\n",
       "                        <td id=\"T_26b0f_row4_col5\" class=\"data row4 col5\" >272.40</td>\n",
       "            </tr>\n",
       "            <tr>\n",
       "                        <th id=\"T_26b0f_level0_row5\" class=\"row_heading level0 row5\" >0.42</th>\n",
       "                        <td id=\"T_26b0f_row5_col0\" class=\"data row5 col0\" >245.22</td>\n",
       "                        <td id=\"T_26b0f_row5_col1\" class=\"data row5 col1\" >254.04</td>\n",
       "                        <td id=\"T_26b0f_row5_col2\" class=\"data row5 col2\" >262.86</td>\n",
       "                        <td id=\"T_26b0f_row5_col3\" class=\"data row5 col3\" >271.68</td>\n",
       "                        <td id=\"T_26b0f_row5_col4\" class=\"data row5 col4\" >280.50</td>\n",
       "                        <td id=\"T_26b0f_row5_col5\" class=\"data row5 col5\" >289.32</td>\n",
       "            </tr>\n",
       "    </tbody></table>"
      ],
      "text/plain": [
       "<pandas.io.formats.style.Styler at 0x7fa02acac820>"
      ]
     },
     "execution_count": 135,
     "metadata": {},
     "output_type": "execute_result"
    }
   ],
   "source": [
    "df.index = np.round(df.index, 2)\n",
    "df.style.format('{:.2f}').applymap(color_positive)"
   ]
  },
  {
   "cell_type": "markdown",
   "id": "5b3dfcd2",
   "metadata": {},
   "source": [
    "С 8% маржой карта клиента выглядит как хорошая идея. С маржой 4% такой уверенности нет."
   ]
  },
  {
   "cell_type": "markdown",
   "id": "6a1a683a",
   "metadata": {},
   "source": [
    "# Оптимальный размер заказа в модели управления запасами\n",
    "\n",
    "Когда магазин заказывает товар многократно, возникает естественный вопрос: какое количество товара магазин должен заказывать каждый раз? Если магазин закажет слишком много товара, возникнут непомерные запасы и затраты на их хранение. Если магазин закажет слишком мало товара, возникнут чрезмерные затраты на размещение заказов. Где-то должна находиться золотая середина, которая сводит к минимуму сумму годовых затрат на хранение запасов и затрат на размещение заказов.\n",
    "\n",
    "Таким же образом рассмотрим завод, производящий продукцию партиями. Какой размер партии сводит к минимуму сумму годовой стоимости хранения запасов и затрат на организацию производства партии продукции? В данной главе на двух примерах показано, как формула оптимального размера заказа (предложенная в 1913 г. Ф. Харрисом (F. Harris) из Westinghouse Corporation) позволяет ответить на эти вопросы.\n",
    "\n",
    "**Магазин электроники продает 10 000 мобильных телефонов в год. Каждый раз при размещении заказа на поставку мобильных телефонов магазин несет расходы в размере 10 долларов за заказ. Магазин платит 100 долларов за каждый мобильный телефон, и стоимость хранения телефона в запасе в течение года предположительно составляет 20 долларов. Когда магазин заказывает мобильные телефоны, каким должен быть размер заказа?**\n",
    "\n",
    "Размер заказа, сводящий к минимуму сумму годовых затрат на хранение запасов и затрат на организацию производства, может быть определен после того, как станут известны следующие параметры:\n",
    "\n",
    "- `K` — затраты на размещение заказа;\n",
    "- `h` — затраты на хранение единицы продукции в течение года;\n",
    "- 􏰀`D` — годовой спрос на продукт.\n",
    "\n",
    "Пусть $q$ — размер заказа, тогда годовые затраты на его хранение равны $0.5qh$. (Назовем это уравнение уравнением 1.) Уравнение 1 имеет такой вид, потому что средний уровень запасов ($0.5q$) составляет половину от максимального уровня запасов. Для выяснения того, почему средний уровень запасов равен $0.5q$, можно вычислить средний уровень запасов для цикла (период времени между прибытием заказов). В начале цикла заказ прибывает, и уровень запасов равен $q$. В конце цикла все распродано, и уровень запасов равен 0. Поскольку спрос имеет постоянную интенсивность, средний уровень запасов в течение цикла просто равен среднему для 0 и $q$ или $0.5q$. Максимальный уровень запасов равен $q$, т. к. подразумевается, что заказы пребывают в тот момент, когда уровень запасов снижается до 0.\n",
    "\n",
    "Поскольку в год размещается $D/q$ заказов, годовые затраты на размещение заказов равны $(D/q) * K$. (Назовем это уравнение уравнением 2.) Годовая сумма затрат на хранение и размещение заказов минимальна для значения $q$, равного оптимальному размеру заказа $EOQ$, который вычисляется по следующей формуле (уравнение 3):\n",
    "\n",
    "$$EOQ = \\sqrt{\\frac{2KD}h}$$\n",
    "\n",
    "Что показывает эта формула:\n",
    "- увеличение спроса или затрат на размещение заказа увеличивает $EOQ$; 􏰀\n",
    "- увеличение затрат на хранение уменьшает $EOQ$.\n",
    "\n",
    "Безусловно, для определения чувствительности $EOQ$ и затрат к изменению $K$, $h$ и $D$ можно воспользоваться таблицей данных с одним или двумя входами. В данном примере $K = 10$ долларов, $D = 10 000$ мобильных телефонов в год и $h = 20$ долларов за хранение одного телефона. После ввода этих значений получим следующее:\n",
    "- размер каждого заказа должен быть равен 100 мобильным телефонам;\n",
    "- игодовые затраты на хранение, и затраты на размещение заказов составляют по 1000 долларов. Для оптимального размера заказа годовые затраты на хранение всегда равны годовым затратам на размещение заказов;\n",
    "- общие годовые затраты (без учета затрат на приобретение) составляют 2000 долларов.\n",
    "\n",
    "При работе с моделью оптимального размера заказа необходимо учесть следующее.\n",
    "- Наличие оптовых скидок делает недействительным оптимальный размер заказа, поскольку тогда годовые затраты на приобретение зависят от размера заказа.\n",
    "- Оптимальный размер заказа предполагает, что спрос имеет относительно постоянную интенсивность в течение года.\n",
    "- Оптимальный размер заказа не следует использовать для продуктов, на которые существует сезонный спрос.\n",
    "- Предполагается, что годовые затраты на хранение, как правило, составляют 10—40% от затрат на приобретение единицы продукции.\n",
    "\n",
    ">Дополнительную информацию о построении моделей управления запасами см. в книге Уэйна Винстона (Wayne L. Winston. Operations Research: Applications and Algorithms. — Duxbury Press, 2007).\n",
    "\n",
    "**Завод-производитель компьютеров производит 10 000 серверов в год. Себестоимость производства каждого сервера составляет 2000 долларов. Стоимость организации производства партии серверов составляет 200 долларов, а стоимость хранения сервера в запасе в течение года — 500 долларов. При необходимости завод может производить 25 000 серверов в год. Каким должен быть размер партии при производстве серверов?**\n",
    "\n",
    "Модель оптимального размера заказа предполагает, что после размещения заказа заказ прибывает моментально. Когда компания производит продукт, а не заказывает его, заказ должен быть произведен и не может прибыть мгновенно. В таких ситуациях вместо вычисления размера заказа, сводящего затраты к минимуму, необходимо определить размер партии, сводящей затраты к минимуму. Когда компания производит продукцию, а не закупает ее извне, размер партии, сводящей затраты к минимуму, зависит от следующих параметров:\n",
    "\n",
    "- `K` — затраты на организацию производства партии продукта;\n",
    "- `h` — затраты на хранение единицы продукции в запасе в течениегода;\n",
    "- `D` — годовой спрос на продукт;\n",
    "- `R` — годовой показатель производства продукта. Например, IBM может произвести 25 000 серверов в год.\n",
    "\n",
    "Пусть `q` — размер каждой партии продукта, тогда годовые затраты на хранение равны `0,5 × (q/R) × (R – D) × h`. (Назовем это уравнение уравнением 4.) Уравнение 4 имеет такой вид, потому что производство каждой партии продолжается `q/R` лет, и во время производственного цикла запас увеличивается как `R – D`. Максимальный уровень запасов, который имеет место после завершения производства партии, можно вычислить как (`q/R) × (R – D)`. Таким образом, средний уровень запасов равен `0,5 × (q/R) × (R – D)`.\n",
    "\n",
    "Поскольку в год производится `D/q` партий, годовые затраты на организацию производства равны `KD/q` (назовем это уравнением 5). Размер партии, сводящей к минимуму сумму годовых затрат на организацию производства и годовых затрат на хранение, вычисляется по следующему уравнению (уравнение 6). Эта модель называется оптимальным размером партии:\n",
    "\n",
    "$$EOB = \\sqrt{\\frac{2KDR}{h(R−D)}}$$\n",
    "\n",
    "Исходя из этой формулы, можно определить следующее:\n",
    "- увеличение $K$ или $D$ увеличивает оптимальный размер партии; \n",
    "- увеличение $h$ или $R$ уменьшает оптимальный размер партии.\n",
    "\n",
    "Для этого примера $K = 200$ долларов, $h = 500$ долларов, $D = 10 000$ единиц в год и $R = 25 0004 единиц в год. После ввода значений получим следующее:\n",
    "  \n",
    " - Размер партии, сводящей к минимуму затраты, составляет 115,47 шт. Таким образом, компания должна произвести 115 или 116 серверов в каждой партии. \n",
    " - Годовые затраты на хранение и на организацию производства составляют по 17 320,51 долларов. Как и в предыдущем случае, для оптимального размера партии годовые затраты на хранение всегда равны годовым затратам на организацию производства.\n",
    " - Общие годовые затраты (без учета переменных затрат на производство) составляют 34 641,02 долларов.\n",
    " - В год производится 86,6 партии.\n",
    " \n",
    "При работе с моделью оптимального размера партии необходимо учесть следующее.\n",
    "- Если переменные затраты на производство единицы продукции зависят от размера партии, модель оптимального размера партии является недействительной.\n",
    "- Модель оптимального размера партии предполагает, что спрос имеет относительно постоянную интенсивность в течение года. Эту модель не следует использовать для продукции, на которую существует сезонный спрос.\n",
    "- Предполагается, что годовые затраты на хранение, как правило, составляют 10—40% от затрат на производство единицы продукции."
   ]
  },
  {
   "cell_type": "markdown",
   "id": "2d9f1f4e",
   "metadata": {},
   "source": [
    "***\n",
    "1. Магазин бытовой техники продает телевизоры высокой четкости. Годовой спрос оценивается в 1000 единиц. Стоимость хранения одного телевизора в течение года составляет 500 долларов, а стоимость размещения заказа на телевизоры — 400 долларов.\n",
    "- Сколько телевизоров следует заказывать каждый раз при размещении заказа?\n",
    "- Сколько заказов в год должно быть размещено?\n",
    "- Каковы годовые затраты на хранение и размещение заказов?"
   ]
  },
  {
   "cell_type": "code",
   "execution_count": 138,
   "id": "f160a685",
   "metadata": {},
   "outputs": [],
   "source": [
    "K = 400 # cost/order\n",
    "h = 500 # annual holding cost per unit\n",
    "D = 1000 # annual demand\n",
    "\n",
    "EOQ = np.sqrt(2 * K * D / h) # order quantity\n",
    "annorders = D / EOQ # orders per year\n",
    "annhc = 0.5 * h * EOQ # holding cost per year\n",
    "annoc = annorders * K # order cost per year\n",
    "anncost = annhc + annoc # total annual cost (excluding purchasing)"
   ]
  },
  {
   "cell_type": "code",
   "execution_count": 149,
   "id": "803ab905",
   "metadata": {},
   "outputs": [
    {
     "name": "stdout",
     "output_type": "stream",
     "text": [
      "Размер заказа: 40\n",
      "Заказов в год: 25\n",
      "Затраты на хранение: 10000, размещение: 10000\n"
     ]
    }
   ],
   "source": [
    "print(f'Размер заказа: {EOQ:.0f}\\nЗаказов в год: {annorders:.0f}\\n\\\n",
    "Затраты на хранение: {annhc:.0f}, размещение: {annoc:.0f}')"
   ]
  },
  {
   "cell_type": "markdown",
   "id": "a883157f",
   "metadata": {},
   "source": [
    "***\n",
    "Предположим, что компания Waterford Crystal может произвести до 100 кувшинов для чая со льдом в день. Далее предположим, что завод открыт 250 дней в году и годовой спрос составляет 20 000 кувшинов. Стоимость хранения кувшина в течение года может составить 10 долларов, а стоимость организации производства кувшинов для чая со льдом — 40 долларов.\n",
    "- Каков рекомендуемый размер партии для кувшинов?\n",
    "- Сколько партий в год должно быть произведено?\n",
    "- Каковы годовые затраты на организацию производства и хранения кувшинов для чая со льдом?"
   ]
  },
  {
   "cell_type": "code",
   "execution_count": 153,
   "id": "b523c392",
   "metadata": {},
   "outputs": [],
   "source": [
    "K = 200 # cost per batch\n",
    "h = 500 # annual holding cost per unit\n",
    "D = 10_000 # annual demand\n",
    "r = 25_000 # annual production rate\n",
    "\n",
    "EOB = np.sqrt((2 * K * D * r) / (h * (r - D))) # batch size\n",
    "annbatches =  D / EOB # batches per year\n",
    "annhc = (EOB / r) * (r - D) * 0.5 * h # holding cost per year\n",
    "annoc = annbatches * K # order cost per year\n",
    "anncost = annhc + annoc # total annual cost (excluding purchasing)"
   ]
  },
  {
   "cell_type": "code",
   "execution_count": 155,
   "id": "f9f1dc4e",
   "metadata": {},
   "outputs": [
    {
     "name": "stdout",
     "output_type": "stream",
     "text": [
      "- Рекомендуемый размер партии: 115.47\n",
      "- Партий в год: 86.60\n",
      "- Годовые затраты на организацию производства и хранение: 17320.51, 17320.51\n"
     ]
    }
   ],
   "source": [
    "print(f'- Рекомендуемый размер партии: {EOB:.2f}\\n'\n",
    "      f'- Партий в год: {annbatches:.2f}\\n'\n",
    "      f'- Годовые затраты на организацию производства и хранение: {annoc:.2f}, {annhc:.2f}'\n",
    ")"
   ]
  },
  {
   "cell_type": "markdown",
   "id": "76353c61",
   "metadata": {},
   "source": [
    "# Построение моделей управления запасами для неопределенного спроса"
   ]
  },
  {
   "cell_type": "markdown",
   "id": "6911e5f6",
   "metadata": {},
   "source": [
    "Ранее было показано, как определить оптимальный размер заказа и оптимальный размер партии производимого продукта. В примерах предполагалось, что спрос на продукт имел постоянную интенсивность. Таким образом, если годовой спрос составлял, например, 1200 единиц в год, ежемесячный спрос был равен 100 единицам. Пока спрос возникает с относительным постоянством, оптимальный размер заказа является достаточно хорошим приближением для размера заказа, сводящего затраты к минимуму.\n",
    "\n",
    "В действительности спрос в любой период времени точно не известен. Когда спрос не определен, возникает естественный вопрос, насколько можно снизить уровень запасов до того, как разместить заказ. Уровень запасов, при котором заказ должен быть размещен, называется точкой заказа. Очевидно, что высокая точка заказа снизит потери от дефицита и увеличит затраты на хранение. Аналогично, низкая точка заказа увеличит потери от дефицита и снизит затраты на хранение. В некой промежуточной точке заказа сумма потерь от дефицита и затрат на хранения будет минимальной. В первом примере этой главы показано, как определить точку заказа, сводящую к минимуму ожидаемые потери от дефицита и затраты на размещение заказов и хранение запасов, на основе двух следующих предположений.\n",
    "\n",
    "- Каждая недостающая единица продукции является невыполненным заказом клиента, и компания несет потери от дефицита $C_B$. Эти потери в первую очередь являются показателем неудовлетворенности клиента, вызванной несвоевременным получением заказанной продукции.\n",
    "- Каждая недостающая единица продукции приводит к упущенному сбыту, и компания несет потери $C_{LS} > C_B$. Потери упущенного сбыта включают прибыль, не полученную вследствие упущенного сбыта, а также потери от дефицита, входящие в $C_B$.\n",
    "\n",
    "Во втором примере показано, как определить оптимальную точку заказа на основе уровня обслуживания. Например, 95%-ный уровень обслуживания означает, что точка заказа устанавливается на уровне, обеспечивающем в среднем удовлетворение 95% всего спроса в срок. Как правило, стоимость потерь от дефицита и в случае невыполненного заказа, и в случае упущенного сбыта определить трудно. По этой причине большинство компаний подходит к установке точек заказов на основе уровня обслуживания."
   ]
  },
  {
   "cell_type": "markdown",
   "id": "8862d36c",
   "metadata": {},
   "source": [
    "**При каком уровне запасов следует размещать заказ, если необходимо свести к минимуму потери от дефицита и годовые затраты на хранение запасов и размещение заказов?**\n",
    "\n",
    "Оптимальный размер заказа зависит от следующих параметров:\n",
    "- $K$ — затраты на размещение заказа;\n",
    "- $h$ — затраты на хранение одной единицы продукции в запасе в течение года;\n",
    "- $D$ — годовой спрос на продукт. Поскольку теперь спрос точно не известен, пусть $D$ обозначает ожидаемый годовой спрос на продукт.\n",
    "\n",
    "### Невыполненный заказ\n",
    "\n",
    "Сначала предположим, что каждый дефицит приводит к задержке заказа. Другими словами, дефицит не приводит к упущенному сбыту. Также подразумевается, что каждая недостающая единица продукции приводит к потерям от дефицита $C_B$. В этом случае точка заказа зависит от следующих величин:\n",
    "\n",
    "- `EOQ` — оптимальный размер заказа (количество, заказываемое каждый раз при размещении заказа);\n",
    "- `K` — затраты на размещение заказа;\n",
    "- `h` — годовые затраты на хранение единицы продукции;\n",
    "- `D` — среднегодовой спрос;\n",
    "- `SOC` — потери от недостающей единицы продукции;\n",
    "- `annsig` — стандартное отклонение годового спроса;\n",
    "- `meanLT` — среднее время на выполнение нового заказа, т.е. среднее время между размещением и получением заказа;\n",
    "- `sigmaLT` — стандартное отклонение времени на выполнение нового заказа.\n",
    "\n",
    "\n",
    "Предположим, что универмаг старается определить оптимальную политику хранения для заказанных электрических миксеров. Он располагает следующей информацией:\n",
    "- размещение заказа на миксеры стоит 50 долларов;\n",
    "- хранение миксера в запасе в течение года стоит 10 долларов;\n",
    "- в среднем универмаг продает 1000 миксеров в год;\n",
    "- все клиенты, которые пытаются приобрести миксеры, когда они уже распроданы, возвращаются позже и покупают миксеры, когда они есть на складе. Универмаг получает штраф в размере 20 долларов за каждую единицу дефицита;\n",
    "- годовой спрос на миксеры (на основе исторических данных) имеет стандартное отклонение 40,8;\n",
    "- время на выполнение нового заказа всегда составляет две недели (0,038года), со стандартным отклонением 0.\n",
    "\n",
    "После ввода `K`, `h` и `D` вычисляется оптимальный размер заказа (100 миксеров). После ввода значений `SOC`, `annsig`, `meanLT` и `sigmaLT` вычисляется точка заказа, сводящая к минимуму сумму ожидаемых годовых затрат на хранение и потерь от дефицита (51,63 миксера). Таким образом, универмаг должен заказывать по 100 миксеров, как только запасы понизятся до 51,62 (или 52) миксеров.\n",
    "\n",
    "Уровень страхового запаса, связанный с заданной точкой заказа, равен `(точка заказа) – (средний спрос за время выполнения нового заказа)`.\n",
    "\n",
    "Универмаг поддерживает уровень страхового запаса `51,62 – 38,46 = 13,16` миксера. По существу, страховой запас всегда находится на складе, что приводит к дополнительным затратам на хранение. Высокий уровень страхового запаса, безусловно, уменьшает дефицит.\n",
    "\n",
    "### Упущенный сбыт\n",
    "\n",
    "Теперь предположим, что каждый дефицит приводит к упущенному сбыту. Потери, связанные с упущенным сбытом, как правило, оцениваются как штраф за невыполненный заказ плюс прибыль, связанная с проданной единицей продукции. Предположим, что универмаг получает 20 долларов прибыли от продажи каждого миксера. Тогда потери от дефицита для случая упущенного сбыта составляют 40 долларов (20 долларов упущенной прибыли + 20 долларов штрафа за дефицит).\n",
    "\n",
    "После ввода потерь от упущенного сбыта в размере 40 долларов, оказывается, что оптимальная политика хранения требует заказывать по 100 миксеров и размещать заказ, когда запасы снижаются до 54,23 миксера. Уровень страхового запаса составляет 15,77 миксера, и спрос на миксеры не будет удовлетворен на 2,4%. Обратите внимание, что предположение об упущенном сбыте увеличило точку заказа и уменьшило вероятность дефицита. Это произошло потому, что из-за увеличения потерь от дефицита (с 20 до 40 долларов) универмаг прилагает больше усилий, стремясь избежать дефицита.\n",
    "\n",
    "Увеличение неопределенности значительно повышает точку заказа. Например, в случае упущенного сбыта, если стандартное отклонение для времени на выполнение нового заказа составляет одну неделю (0,019 года), а не 0, точка заказа повышается до 79,50 миксера, а страховой запас увеличивается более чем в два раза по сравнению с тем случаем, когда время на выполнение нового заказа было точно известно.\n",
    "\n",
    "### Что означает термин \"95-процентный уровень обслуживания\"?\n",
    "95%-ный уровень обслуживания означает просто удовлетворение 95% спроса в срок. Поскольку оценить штраф из-за дефицита и/или штраф от упущенного сбыта часто достаточно трудно, многие компании устанавливают уровни страхового запаса продукции посредством установки уровня обслуживания.\n",
    "\n",
    "В качестве примера рассмотрим аптеку, для которой требуется определить оптимальную политику хранения запаса лекарственного препарата. Аптека должна удовлетворять 95% спроса на лекарственный препарат в срок. Для расчета необходимы следующие параметры:\n",
    "- размещение заказа на лекарственный препарат стоит 50 долларов;\n",
    "- затраты на хранение единицы препарата в запасе в течение года составляют 10 долларов;\n",
    "- среднегодовой спрос на препарат составляет 1000 единиц;\n",
    "- стандартное отклонение годового спроса составляет 69,28 единицы;\n",
    "- время, затрачиваемое на выполнение нового заказа, всегда равно одному месяцу (0,083 года).\n",
    "\n",
    "В таблице приведены точки заказа и уровни страхового запаса, соответствующие уровням обслуживания от 80 до 99%.\n",
    "\n",
    "|Уровень обслуживания, %|Точка заказа, единицы продукции|Страховой запас, единицы продукции|\n",
    "|--|--|--|\n",
    "|80|65,34|–17,99|\n",
    "|85|71,85|–11,48|\n",
    "|90|79,57|–3,76|\n",
    "|95|90,23|6,90|\n",
    "|99|108,44|25,11|\n",
    "\n",
    "Обратите внимание, что при повышении уровня обслуживания с 80 до 99% точка заказа увеличивается почти на 67%! Также следует отметить, что 90%-ный уровень обслуживания может быть достигнут при точке заказа, меньшей чем средний спрос за время выполнения нового заказа. 90%-ный уровень обслуживания приводит к отрицательному уровню страхового запаса. Это возможно, поскольку дефицит возникает только во время выполнения нового заказа, а время выполнения нового заказа охватывает небольшую часть года."
   ]
  },
  {
   "cell_type": "markdown",
   "id": "1b4a6bc4",
   "metadata": {},
   "source": [
    "***\n",
    "В заданиях 1 и 2 предполагается, что в ресторане подается в среднем 5000 бутылок вина в год. Стандартное отклонение годового спроса на вино составляет 1000 бутылок. Ежегодные затраты на хранение бутылки вина равны одному доллару. Размещение заказа на вино обходится в 10 долларов и доставка вина в среднем занимает три недели (со стандартным отклонением в одну неделю):\n",
    "1. Предположим, что если в ресторане заканчивается вино, он получает штраф в 5 долларов, как результат потери репутации. Кроме того, ресторан получает прибыль в размере двух долларов за каждую бутылку вина. Определите оптимальную политику заказа вина."
   ]
  },
  {
   "cell_type": "code",
   "execution_count": 156,
   "id": "342f3b4a",
   "metadata": {},
   "outputs": [],
   "source": [
    "from scipy.stats import norm"
   ]
  },
  {
   "cell_type": "code",
   "execution_count": 200,
   "id": "c98d5e2b",
   "metadata": {},
   "outputs": [],
   "source": [
    "K = 10 # cost/order\n",
    "h = 1 # annual holding cost per unit\n",
    "D = 5000 # mean annual demand\n",
    "EOQ = np.sqrt(2 * K * D / h) # order quantity\n",
    "annorders = D / EOQ # orders per year\n",
    "LSC = 5 # lost sales cost\n",
    "annsig = 40.8 # annual sigma\n",
    "meanLT = 3 / 52 # mean lead time\n",
    "sigmaLT = 1 / 52 # sigma lead time\n",
    "meanLTD = meanLT * D # mean lead time demand\n",
    "sigmaLTD = np.sqrt(meanLT * annsig**2 + D**2 * sigmaLT**2) # sigma lead time demand\n",
    "probout = min(0.99999, h * EOQ / (D * LSC + h * EOQ)) # probability of stockout \n",
    "RP = norm.isf(probout, meanLTD, sigmaLTD) # reorder point\n",
    "SS = RP - meanLTD # safety stock"
   ]
  },
  {
   "cell_type": "markdown",
   "id": "70402c4f",
   "metadata": {},
   "source": [
    "Здесь упущенные продажи кажутся более разумными."
   ]
  },
  {
   "cell_type": "code",
   "execution_count": 204,
   "id": "3e429f9d",
   "metadata": {},
   "outputs": [
    {
     "data": {
      "text/plain": [
       "'При остатке 316 бутылок следует заказать партию из 505 бутылок.'"
      ]
     },
     "execution_count": 204,
     "metadata": {},
     "output_type": "execute_result"
    }
   ],
   "source": [
    "f'При остатке {EOQ:.0f} бутылок следует заказать партию из {RP:.0f} бутылок.'"
   ]
  },
  {
   "cell_type": "markdown",
   "id": "a83e9889",
   "metadata": {},
   "source": [
    "***\n",
    "2. Определите политику хранения вина, которая дает 99%-ный уровень обслуживания."
   ]
  },
  {
   "cell_type": "code",
   "execution_count": 369,
   "id": "ddbfff81",
   "metadata": {},
   "outputs": [],
   "source": [
    "SL = 0.99 # service level\n",
    "K = 10 # cost/order\n",
    "h = 1 # annual holding cost per unit\n",
    "D = 5000 # mean annual demand\n",
    "EOQ = np.sqrt(2 * K * D / h) # order quantity\n",
    "annorders = D / EOQ # orders per year\n",
    "annsig = 69.28 # annual sigma\n",
    "meanLT = 3 / 52 # mean lead time\n",
    "sigmaLT = 1 / 52 # sigma lead time\n",
    "meanLTD = meanLT * D # mean lead time demand\n",
    "sigmaLTD = np.sqrt(meanLT * annsig**2 + D**2 * sigmaLT**2) # sigma lead time demand"
   ]
  },
  {
   "cell_type": "code",
   "execution_count": 372,
   "id": "8c5f12ce",
   "metadata": {},
   "outputs": [],
   "source": [
    "# solve standardized reorder point\n",
    "SROP = 1\n",
    "NLSTANDROP = (EOQ * (1 - SL) / sigmaLTD)\n",
    "NLSTANDROP_fun = lambda x: norm.pdf(x, 0, 1) - x * norm.sf(x)  # normal loss for stand. ROP\n",
    "while NLSTANDROP_fun(SROP) > NLSTANDROP:\n",
    "    SROP += 0.00001"
   ]
  },
  {
   "cell_type": "code",
   "execution_count": 373,
   "id": "962d5b7e",
   "metadata": {},
   "outputs": [],
   "source": [
    "# solve reorder point\n",
    "ROP = 1\n",
    "while (ROP - meanLTD) / sigmaLTD <= SROP:\n",
    "    ROP += 0.00001"
   ]
  },
  {
   "cell_type": "code",
   "execution_count": 374,
   "id": "49ffcaea",
   "metadata": {},
   "outputs": [
    {
     "data": {
      "text/plain": [
       "'Когда остаток бутылок на складе приблизится к 431, нужно сделать повторный заказ.'"
      ]
     },
     "execution_count": 374,
     "metadata": {},
     "output_type": "execute_result"
    }
   ],
   "source": [
    "f'Когда остаток бутылок на складе приблизится к {ROP:.0f}, нужно сделать повторный заказ.'"
   ]
  },
  {
   "cell_type": "markdown",
   "id": "b7b306ef",
   "metadata": {},
   "source": [
    "***\n",
    "3. Политику определения точки заказа часто называют политикой двух контейнеров. Как может быть реализована политика определения точки заказа, если для хранения запасов используются два контейнера?"
   ]
  },
  {
   "cell_type": "markdown",
   "id": "f331c890",
   "metadata": {},
   "source": [
    "Предположим, точка заказа ROP составляет 400 единиц. Всякий раз, когда получен заказ\n",
    "заполняем контейнер №2 до 400 единиц, а оставшиеся единицы оставим в контейнере №1. Как только контейнер №1 опустеет, пора делать повторный заказ!"
   ]
  },
  {
   "cell_type": "markdown",
   "id": "bac2cc96",
   "metadata": {},
   "source": [
    "# Теория массового обслуживания (теория очередей)\n",
    "\n",
    "Все мы тратим много времени в очередях, и как скоро будет показано, небольшое увеличение пропускной способности в обслуживании часто может значительно сократить очередь. В бизнесе важно удостовериться, что клиенты не тратят слишком много времени на ожидание. Таким образом, деловые люди должны знать теорию очередей, обычно называемую теорией массового обслуживания. В этой главе показано, как определить пропускную способность, необходимую для обеспечения соответствующего обслуживания.\n",
    "\n",
    "### Какие факторы влияют на длину очереди и время, проведенное клиентами в очереди?\n",
    "В этой главе рассматриваются задачи массового обслуживания, в которых все прибывающие клиенты ждут первого доступного специалиста в единой очереди. (Для простоты назовем такого специалиста сервером.) Эта модель дает довольно точное представление о ситуациях, возникающих при ожидании в банке, на почте или при контроле безопасности в аэропорту. Кстати, идею ожидания клиентов в одной очереди выдвинули примерно в 1970 г., когда в банковских и почтовых отделениях осознали, что хотя ожидание в единой очереди не уменьшает среднее время ожидания для клиентов, но оно снижает изменчивость времени, проводимого клиентами в очереди, что создает более справедливую систему.\n",
    "\n",
    "На время, которое клиенты проводят в системе массового обслуживания, влияют три фактора.\n",
    "\n",
    "- **Количество специалистов.** Очевидно, что чем больше специалистов, тем меньше времени в среднем проводят клиенты в очереди и меньше людей в среднем стоит в очереди.\n",
    "- **Среднее значение и стандартное отклонение времени между прибытием клиентов.** Время между прибытиями клиентов называется временным интервалом между прибытиями. Если средний временной интервал между прибытиями увеличивается, количество прибытий уменьшается, что приводит к более короткой очереди и меньшему времени, проведенному клиентом в системе массового обслуживания. Как будет показано вскоре, увеличение стандартного отклонения временного интервала между прибытиями увеличивает среднее время, проведенное клиентом в системе массового обслуживания, и среднее количество присутствующих клиентов.\n",
    "- **Среднее значение и стандартное отклонение времени, необходимого для обслуживания клиента.** Если среднее время обслуживания увеличивается, то повышается среднее время, проведенное клиентом в системе массового обслуживания, и количество присутствующих клиентов. Увеличение стандартного отклонения времени обслуживания увеличивает среднее время, проведенное клиентом в системе массового обслуживания, и среднее количество присутствующих клиентов.\n",
    "\n",
    "### Какие условия должны быть выполнены перед анализом среднего количества присутствующих клиентов или среднего времени, проведенного клиентом в системе массового обслуживания?\n",
    "При анализе времени ожидания клиентов в очередях математики говорят о характеристиках устойчивого состояния системы. По существу, устойчивое состояние означает, что система работает в течение длительного времени. Если же говорить более конкретно, аналитикам необходимо выяснить значения следующих величин в устойчивом состоянии:\n",
    "\n",
    "- $W$ —среднее время, проведенное клиентом в системе;\n",
    "- $W_q$ — среднее время ожидания в очереди до обслуживания;\n",
    "- $L$ — среднее количество клиентов, присутствующих в системе;\n",
    "- $L_q$ — среднее количество клиентов, ожидающих в очереди.\n",
    "\n",
    "Кстати, равенства $L$ = (1/среднее время между прибытиями) × $W$ и $L_q$ = (1/среднее время между прибытиями) × $W_q$ справедливы всегда.\n",
    "Для корректного обсуждения устойчивого состояния системы массового обслуживания должно иметь место следующее.\n",
    "\n",
    "- Среднее значение и стандартное отклонение времени между прибытиями и времени обслуживания мало изменяются с течением времени. С технической точки зрения это означает, что распределение для времени между прибытиями и времени обслуживания является постоянным во времени.\n",
    "\n",
    "- 􏰀(1/среднеевремяобслуживания)×(количествоспециалистов)>(1/(среднеевремя между прибытиями)). Это уравнение 1.\n",
    "\n",
    "По сути, если уравнение 1 выполняется, за час можно обслужить больше клиентов, чем прибудет новых. Например, если среднее время обслуживания равно двум минутам (или 1/30 часа), и среднее время между прибытиями составляет 1 минуту (или 1/60 часа), из уравнения 1 следует, что 30 × (количество специалистов) > 60 или что для устойчивого состояния системы количество специалистов должно быть больше или равно 3. Если клиенты не обслуживаются быстрее, чем прибывают новые, в конце концов, накопится отставание, которое никогда не будет наверстано, что приведет к бесконечной очереди.\n",
    "\n",
    "### Почему изменчивость снижает производительность системы массового обслуживания?\n",
    "Для выяснения того, почему изменчивость снижает производительность системы массового обслуживания, рассмотрим систему с одним сервером, в которой клиенты прибывают каждые две минуты, и время обслуживания всегда равно 2-м минутам. В такой системе никогда не будет больше одного клиента. Теперь предположим, что клиенты прибывают каждые 2 минуты, но половина всех времен обслуживания составляет 0,5 минуты, а другая половина — 3,5 минуты. Даже если прибытия полностью предсказуемы, неопределенность во времени обслуживания означает, что, в конце концов, сервер будет запаздывать, и сформируется очередь. Например, если для обслуживания первых четырех клиентов потребуется по 3,5 минуты, через 12 минут в очереди будут ожидать четыре клиента\n",
    "\n",
    "|Время, минут|Событие|Присутствуют после события, человек|\n",
    "|:--|--|:--:|\n",
    "|0|Прибытие|1|\n",
    "|2|Прибытие|2|\n",
    "|3,5|Обслуживание завершено|1|\n",
    "|4|Прибытие|2|\n",
    "|6|Прибытие|3|\n",
    "|7|Обслуживание завершено|2|\n",
    "|8|Прибытие|3|\n",
    "|10|Прибытие|4|\n",
    "|10,5|Обслуживание завершено|3|\n",
    "|12|Прибытие|4|"
   ]
  },
  {
   "cell_type": "markdown",
   "id": "ca6458d2",
   "metadata": {},
   "source": [
    "***\n",
    "В банке работает шесть операционистов. На основе следующей информации:\n",
    "- среднее время обслуживания равно 1 минуте;\n",
    "- среднее время между прибытиями равно 25 секундам;\n",
    "- стандартное отклонение времени обслуживания равно 1 минуте;\n",
    "- стандартное отклонение времени между прибытиями равно 10 секундам выполните задания 1—4.\n",
    "\n",
    "1. Определите среднее время ожидания клиента в очереди."
   ]
  },
  {
   "cell_type": "code",
   "execution_count": 375,
   "id": "5d2ecfdc",
   "metadata": {},
   "outputs": [],
   "source": [
    "from scipy.stats import poisson"
   ]
  },
  {
   "cell_type": "code",
   "execution_count": 418,
   "id": "56e892b8",
   "metadata": {},
   "outputs": [],
   "source": [
    "# Allen-Cunneen Approximation\n",
    "def queue_sim(s: int = 6) -> float:\n",
    "    mean_interarrival_time = 25 / 60\n",
    "    mean_service_time = 1\n",
    "    std_nterarrival_times = 1 / 6\n",
    "    std_service_times = 1\n",
    "    arrival_rate = 1 / mean_interarrival_time\n",
    "    service_rate = 1 / mean_service_time\n",
    "\n",
    "    CV_arrive = mean_interarrival_time / std_nterarrival_times\n",
    "    CV_service = mean_service_time / std_service_times\n",
    "\n",
    "    mu = arrival_rate / service_rate\n",
    "    ro = arrival_rate / (s * service_rate)\n",
    "\n",
    "    R = 1 - poisson.pmf(s, mu) / poisson.cdf(s, mu) # R(s, mu)\n",
    "    E = (1 - R) / (1 - ro * R) # Ec(s, mu)\n",
    "    Wq = (E / (s * (1 - ro))) * ((CV_arrive + CV_service) / 2) * (1 / service_rate) if ro < 1 else 'no answer'\n",
    "\n",
    "    Lq = arrival_rate * Wq if ro < 1 else 'no answer'\n",
    "    W = Wq + (1 / service_rate) if ro < 1 else 'no answer'\n",
    "    L = arrival_rate * W if ro < 1 else 'no answer'\n",
    "    return L"
   ]
  },
  {
   "cell_type": "code",
   "execution_count": 413,
   "id": "28cee1d6",
   "metadata": {},
   "outputs": [
    {
     "data": {
      "text/plain": [
       "'среднее время ожидания клиента в очереди 1.00 мин.'"
      ]
     },
     "execution_count": 413,
     "metadata": {},
     "output_type": "execute_result"
    }
   ],
   "source": [
    "f'среднее время ожидания клиента в очереди {W:.2f} мин.'"
   ]
  },
  {
   "cell_type": "markdown",
   "id": "f9efe04a",
   "metadata": {},
   "source": [
    "2. Сколько клиентов в среднем присутствует в очереди?"
   ]
  },
  {
   "cell_type": "code",
   "execution_count": 412,
   "id": "d66de0ae",
   "metadata": {},
   "outputs": [
    {
     "data": {
      "text/plain": [
       "'в очереди в среднем 2.41 клиентов'"
      ]
     },
     "execution_count": 412,
     "metadata": {},
     "output_type": "execute_result"
    }
   ],
   "source": [
    "f'в очереди в среднем {L:.2f} клиентов'"
   ]
  },
  {
   "cell_type": "markdown",
   "id": "b3a2a916",
   "metadata": {},
   "source": [
    "3. Рекомендуется ли подключить к работе дополнительных операционистов?"
   ]
  },
  {
   "cell_type": "markdown",
   "id": "d5d2cad7",
   "metadata": {},
   "source": [
    "Нет. Все под контролем"
   ]
  },
  {
   "cell_type": "markdown",
   "id": "7f1e9048",
   "metadata": {},
   "source": [
    "4. Предположим, что работа операциониста стоит 20 долларов в час, а время клиента банк оценивает в 15 долларов в час. Сколько операционистов должно работать в банке?"
   ]
  },
  {
   "cell_type": "code",
   "execution_count": 414,
   "id": "4bac0fe6",
   "metadata": {},
   "outputs": [
    {
     "data": {
      "text/plain": [
       "156.13151591292387"
      ]
     },
     "execution_count": 414,
     "metadata": {},
     "output_type": "execute_result"
    }
   ],
   "source": [
    "cost_per_hour = 20 * s + 15 * L\n",
    "cost_per_hour # an average of L people are present so waiting cost/hour=15L"
   ]
  },
  {
   "cell_type": "code",
   "execution_count": 422,
   "id": "6b81acd5",
   "metadata": {},
   "outputs": [
    {
     "data": {
      "text/plain": [
       "[95.64707198009,\n",
       " 116.49054545523026,\n",
       " 136.31307804968148,\n",
       " 156.13151591292387,\n",
       " 176.04428585477535,\n",
       " 196.01271761268944]"
      ]
     },
     "execution_count": 422,
     "metadata": {},
     "output_type": "execute_result"
    }
   ],
   "source": [
    "[20 * s + 15 * queue_sim(s) for s in range(3, 9)] # 3 tellers is cheapest"
   ]
  },
  {
   "cell_type": "markdown",
   "id": "cce668e6",
   "metadata": {},
   "source": [
    "Дешевле всего иметь в штате 3 специалистов."
   ]
  },
  {
   "cell_type": "markdown",
   "id": "0df386bb",
   "metadata": {},
   "source": [
    "***\n",
    "5. На пятом этаже бизнес-школы работают 30 женщин. Предположим, что каждая женщина посещает туалетную комнату три раза в день (офис открыт с 8 утра до 5 вечера), и каждое такое посещение в среднем продолжается 180 секунд со стандартным отклонением 90 секунд. Предположим, что стандартное отклонение времени между прибытиями в туалетную комнату составляет 5 минут. Сколько кабинок рекомендуется установить в туалетной комнате?"
   ]
  },
  {
   "cell_type": "code",
   "execution_count": 476,
   "id": "dd180d2a",
   "metadata": {},
   "outputs": [],
   "source": [
    "# 90 arrivals in \n",
    "# 9 hours\n",
    "# 10 per hour\n",
    "# 1/6 per minute\n",
    "\n",
    "s = 3\n",
    "arrival_rate = 1 / 6 # per minute\n",
    "service_rate = 1 / 3 # per minute\n",
    "mean_interarrival_time = 12.864\n",
    "mean_service_time = 77.102\n",
    "std_nterarrival_times = 5\n",
    "std_service_times = 1.5\n",
    "\n",
    "CV_arrive = (std_nterarrival_times / mean_interarrival_time) ** 2\n",
    "CV_service = (std_service_times / mean_service_time) ** 2\n",
    "\n",
    "mu = arrival_rate / service_rate\n",
    "ro = arrival_rate / (s * service_rate)\n",
    "\n",
    "R = 1 - poisson.pmf(s, mu) / poisson.cdf(s, mu) # R(s, mu)\n",
    "E = (1 - R) / (1 - ro * R) # Ec(s, mu)\n",
    "Wq = (E / (s * (1 - ro))) * ((CV_arrive + CV_service) / 2) * (1 / service_rate) if ro < 1 else 'no answer'\n",
    "\n",
    "Lq = arrival_rate * Wq if ro < 1 else 'no answer'\n",
    "W = Wq + (1 / service_rate) if ro < 1 else 'no answer'\n",
    "L = arrival_rate * W if ro < 1 else 'no answer'"
   ]
  },
  {
   "cell_type": "markdown",
   "id": "2ac723d3",
   "metadata": {},
   "source": [
    "- With 1 toilet women wait an average of .23 minutes\n",
    "- With 2 toilets women wait  average of .015 minutes\n",
    "- With 3 toilets women wait average of .001 minutes"
   ]
  },
  {
   "cell_type": "markdown",
   "id": "d70ba478",
   "metadata": {},
   "source": [
    "Похоже, что 2 кабинки дают приличную выгоду по сравнению с 1, но 3-я была бы лишней."
   ]
  },
  {
   "cell_type": "markdown",
   "id": "b925a566",
   "metadata": {},
   "source": [
    "# Оценка кривой спроса\n",
    "\n",
    "В любом бизнесе необходимо определить цену для каждого продукта. Оценить продукт должным образом достаточно трудно. Для более полного представления о ценообразовании см. книгу Роберта Долана и Германа Саймона (Robert J. Dolan, Hermann Simon. Power Pricing. — Free Press, 1997).\n",
    "\n",
    "### Что необходимо знать при назначении цены продукта?\n",
    "Рассмотрим такой продукт, как шоколадный батончик. Для определения цены, приносящей максимальную прибыль, необходимо знать две вещи:\n",
    "\n",
    "- переменные затраты на производство каждой единицы продукции (назовем эту величину $UC$);\n",
    "- кривую спроса на продукт. Иными словами, кривая спроса показывает количество единиц продукта, которое потребуется клиенту по каждой цене. Таким образом, если изменить цену единицы продукции на p долларов, то по кривой спроса можно определить число $D(p)$, эквивалентное количеству единиц продукции, которые будут востребованы по цене $p$ долларов. Безусловно, кривая спроса постоянно изменяется и часто зависит от факторов, находящихся вне контроля компании (таких как состояние экономики и цена конкурентов).\n",
    "\n",
    "Если значение $UC$ и кривая спроса известны, прибыль, соответствующая цене в $p$ долларов, просто равна $(p-UC) \\times D(p)$. Если известно уравнение для $D(p)$, вычисляющее количество востребованного продукта для каждой цены, можно найти цену, обеспечивающую максимальную прибыль.\n",
    "\n",
    "### В чем смысл эластичности спроса?\n",
    "В соответствии с кривой спроса ценовая эластичность спроса — это относительное снижение спроса в результате увеличения цены на 1%. Если эластичность выше 1%, спрос является эластичным по цене. Когда спрос эластичен по цене, снижение цены увеличивает выручку. Если эластичность меньше 1%, спрос является неэластичным по цене. Когда спрос неэластичен по цене, снижение цены снижает выручку. Далее приведены наблюдаемые оценки эластичности спроса на некоторые продукты.\n",
    "\n",
    "- Соль — 0,1 (крайне неэластичный).\n",
    "- Кофе — 0,25 (неэластичный).\n",
    "- Гонорары адвокатов — 0,4 (неэластичный).\n",
    "- Телевизоры — 1,2 (незначительно эластичный).\n",
    "- Ресторанная еда — 2,3 (эластичный).\n",
    "- Зарубежные поездки — 4,0 (очень эластичный).\n",
    "\n",
    "Например, снижение стоимости зарубежной поездки на 1% приводит к увеличению спроса на зарубежные поездки на 4%.\n",
    "\n",
    "### Существует ли простой способ оценки кривой спроса?\n",
    "Пусть $q$ — величина спроса на продукт. Для оценки кривой спроса наиболее часто используются две формы.\n",
    "\n",
    "- Линейная кривая спроса. В этом случае спрос соответствует прямолинейному соотношению в виде $q = a – bp$. Например, $q = 10 – p$ — линейная кривая спроса. Если кривая спроса линейна, эластичность постоянно изменяется.\n",
    "- Степенная кривая спроса. В этой ситуации кривая спроса описывается степенной кривой в виде $q = ap^b$, где $b < 0$. Уравнение $q = 100p^{-2}$ является примером степенной кривой спроса. Если спрос соответствует степенной кривой, эластичность равна $-b$ для любой цены. Таким образом, для кривой спроса $q = 100p^{-2}$ ценовая эластичность спроса всегда равна 2.\n",
    "\n",
    "Предположим, что кривая спроса на продукт соответствует линейной или степенной кривой спроса. Если известна текущая цена и спрос на продукт, а также ценовая эластичность спроса для продукта, определить кривую спроса для продукта несложно. Далее приводятся два примера.\n",
    "\n",
    "Пусть в настоящее время продукт продается за 100 долларов, и спрос на него составляет 500 единиц. Ценовая эластичность спроса для продукта равна 2. Предположим, что кривая спроса является линейной. Необходимо определить уравнение кривой спроса. Как известно, если даны две точки, то через них можно провести только одну прямую линию. Для кривой спроса действительно известны две точки. $p = 100$ и $q = 500$ — одна из них. Поскольку эластичность спроса равна 2, однопроцентное повышение цены приводит к уменьшению спроса на 2%. Следовательно, если $p = 101$ (однопроцентное повышение), спрос падает на 2% от 500 (10 единиц) до 490. Таким образом, $p = 101$ и $q = 490$ — это вторая точка кривой спроса. Теперь с помощью линии тренда можно найти прямую линию, проходящую через точки (100,500) и (101,490).\n",
    "\n",
    "Так как $x$ — это цена, а $y$ — спрос, уравнение для кривой спроса имеет вид $q = 1500 - 10p$. Это уравнение означает, что каждое повышение цены на 1 доллар стоит 10 единиц спроса. Безусловно, спрос не может быть линейным для всех значений цены, поскольку для больших значений $p$ линейная кривая спроса приведет к негативному спросу. Однако для цен, близких к текущей цене, линейная кривая спроса является достаточно хорошим приближением к истинной кривой спроса на продукт.\n",
    "\n",
    "### Каким образом кривая спроса показывает готовность клиента платить за продукт?\n",
    "Предположим, что вы пытаетесь продать программный продукт компании из списка Fortune 500. Пусть $q$ — это количество копий программного продукта, которое требуется компании, а $p$ — цена программного продукта. Вы считаете, что кривая спроса на программный продукт описывается уравнением $q = 400 - p$. Очевидно, что клиент хотел бы платить меньше за каждую дополнительную копию программного продукта. В этой кривой спроса заключена информация о том, сколько компания готова платить за каждую копию программного продукта. Эта информация является ключевой для максимального увеличения прибыльности продажи.\n",
    "\n",
    "Перепишем уравнение кривой спроса так: $p = 400 - q$. Таким образом, если $q = 1, p = 399$ долларов и т. д. Теперь попытаемся определить ценность, которую клиент придает каждой из первых двух копий программного продукта. Предположим, что клиент мыслит рационально, т. е. будет покупать копию программного продукта тогда и только тогда, когда ценность этой копии превысит цену. При цене 400 долларов спрос равен 0, так что первая копия не может стоить 400 долларов. Однако при цене 399 долларов образуется спрос на одну копию программного продукта. Следовательно, первая копия программного продукта должна стоить где-то между 399 и 400 долларами. Аналогично, при цене 399 долларов клиент не купит вторую копию программного продукта. Однако при цене 398 долларов клиент покупает две копии, т. е. клиент покупает вторую копию. Следовательно, потребительская ценность второй копии находится где-то между 399 и 398 долларами.\n",
    "\n",
    "Можно показать, что наилучшим приближением стоимости $i$-й единицы продукта, покупаемой клиентом, является цена, при которой спрос равен $i - 0,5$. Например, если установить для $q$ значение 0,5, то стоимость первой копии равна 400 – 0,5 = 399,50 долларов. Аналогично, если установить $q = 1,5$, стоимость второй копии равна 400 – 1,5 = 398,50 долларов."
   ]
  },
  {
   "cell_type": "markdown",
   "id": "eb5619d9",
   "metadata": {},
   "source": [
    "1. Предположим, что вы оценили изобретенную настольную игру в 60 долларов и продали 3000 штук этой игры за последний год. Известно, что ценовая эластичность для настольных игр равна 3. Исходя из этой информации, определите линейную и степенную кривые спроса."
   ]
  },
  {
   "cell_type": "code",
   "execution_count": 507,
   "id": "dd00e723",
   "metadata": {},
   "outputs": [],
   "source": [
    "price = [60, 60.6]\n",
    "demand = [3000, 2910]"
   ]
  },
  {
   "cell_type": "code",
   "execution_count": 508,
   "id": "0775aa5d",
   "metadata": {},
   "outputs": [
    {
     "data": {
      "text/plain": [
       "array([ -150., 12000.])"
      ]
     },
     "execution_count": 508,
     "metadata": {},
     "output_type": "execute_result"
    }
   ],
   "source": [
    "np.polyfit(price, demand, 1) # q = 12000 - 150 * price"
   ]
  },
  {
   "cell_type": "code",
   "execution_count": 509,
   "id": "a9521e48",
   "metadata": {},
   "outputs": [],
   "source": [
    "# q = a * price^-3\n",
    "q = 3000\n",
    "p = 60\n",
    "a = 0\n",
    "while a * p ** -3 < 3000:\n",
    "    a += 10"
   ]
  },
  {
   "cell_type": "markdown",
   "id": "91113c06",
   "metadata": {},
   "source": [
    "или"
   ]
  },
  {
   "cell_type": "code",
   "execution_count": 513,
   "id": "eea3c339",
   "metadata": {},
   "outputs": [
    {
     "data": {
      "text/plain": [
       "648000000.0"
      ]
     },
     "execution_count": 513,
     "metadata": {},
     "output_type": "execute_result"
    }
   ],
   "source": [
    "a = q / p ** -3 # q = 648000000 * 60^-3\n",
    "a"
   ]
  },
  {
   "cell_type": "markdown",
   "id": "95ae4d87",
   "metadata": {},
   "source": [
    "***\n",
    "2. Для каждого ответа из задания 1 определите потребительскую стоимость двухтысячного экземпляра игры."
   ]
  },
  {
   "cell_type": "markdown",
   "id": "1972e4c8",
   "metadata": {},
   "source": [
    "`price = (12000-q)/150`"
   ]
  },
  {
   "cell_type": "code",
   "execution_count": 526,
   "id": "43675090",
   "metadata": {},
   "outputs": [
    {
     "data": {
      "text/plain": [
       "66.66666666666667"
      ]
     },
     "execution_count": 526,
     "metadata": {},
     "output_type": "execute_result"
    }
   ],
   "source": [
    "(12000 - 2000) / 150"
   ]
  },
  {
   "cell_type": "markdown",
   "id": "ec38696f",
   "metadata": {},
   "source": [
    "`price = (a/q)^1/3` or `price^3 = a/q`"
   ]
  },
  {
   "cell_type": "code",
   "execution_count": 527,
   "id": "109da14f",
   "metadata": {},
   "outputs": [
    {
     "data": {
      "text/plain": [
       "68.6828545531999"
      ]
     },
     "execution_count": 527,
     "metadata": {},
     "output_type": "execute_result"
    }
   ],
   "source": [
    "# plugging in q = 2000\n",
    "(a / 2000) ** (1/3)"
   ]
  },
  {
   "cell_type": "markdown",
   "id": "938ce38d",
   "metadata": {},
   "source": [
    "# Ценообразование продуктов с сопутствующими товарами\n",
    "\n",
    "Покупка некоторых потребительских товаров часто приводит к покупке сопутствующих товаров или товаров принудительного ассортимента. В таблице приведено несколько примеров таких покупок.\n",
    "\n",
    "|Первичная покупка|Сопутствующий товар|\n",
    "|--|--|\n",
    "|Бритва|Бритвенные лезвия|\n",
    "|Мужской костюм|Рубашка или галстук|\n",
    "|Персональный компьютер|Учебное пособие по программному обеспечению|\n",
    "|Игровая приставка| Видеоигра|\n",
    "\n",
    "Можно рассчитать цену первичного продукта, максимально увеличивающую сумму прибылей, полученных от исходного и сопутствующего продуктов. Выполнение такого анализа продемонстрировано на следующем примере.\n",
    "\n",
    "### Как покупка клиентами бритвенных лезвий вместе с бритвой влияет на цену бритвы, максимально увеличивающую прибыль?\n",
    "\n",
    "Пусть в настоящее время на бритву назначена цена 5,00 долларов, и продается 6 млн бритв. Предположим, что переменные затраты на производство бритвы составляют 2,00 доллара. Наконец, допустим, что ценовая эластичность спроса на бритвы равна 2. Какую цену следует назначить на бритву?\n",
    "\n",
    "Предположим (ошибочно), что покупатели бритв не покупают лезвия. Кривая спроса (в случае линейной кривой спроса). Двумя точками на кривой спроса являются цена = 5,00 долларов, спрос = 6 млн бритв и цена = 5,05 (увеличенная на 1%), спрос = 5,88 млн (на 2% меньше 6 млн). После создания диаграммы и вставки линейной линии тренда можно найти уравнение кривой спроса: $y=18-2.4x$. Поскольку $x$ — это цена, а $y$ — спрос, уравнение кривой спроса на бритвы можно записать в следующем виде: спрос (в млн) = 18 – 2,4(цена).\n",
    "\n",
    "Определите спрос для этой цены по формуле = 18 - 2,4 * цена. Определите прибыль от бритв по формуле = спрос * (цена-себестоимость_бритвы). Увеличьте до максимума прибыль путем изменения цены. Эта модель нелинейная, поскольку в целевой ячейке перемножаются две величины — спрос и (цена-себестоимость_бритвы), каждая из которых зависит от значения в изменяемой ячейке. Определим цену за бритву, максимально увеличивающую прибыль, а именно 4,75 доллара. (Максимальная прибыль составляет 18,15 млн долларов.)"
   ]
  },
  {
   "cell_type": "markdown",
   "id": "b7d5b2ce",
   "metadata": {},
   "source": [
    "***\n",
    "1. Определите цену игровой приставки, максимально увеличивающую прибыль. В настоящее время на приставку назначена цена 180 долларов, и объем продаж составляет 2 млн приставок в год. Стоимость производства приставки — 150 долларов, и ценовая эластичность спроса на приставку равна 3. Какую цену следует назначить на приставку?"
   ]
  },
  {
   "cell_type": "code",
   "execution_count": 611,
   "id": "c28f5168",
   "metadata": {},
   "outputs": [],
   "source": [
    "price = [180, 181.8]\n",
    "demand = [2, 1.94]"
   ]
  },
  {
   "cell_type": "code",
   "execution_count": 530,
   "id": "3ee1b076",
   "metadata": {},
   "outputs": [],
   "source": [
    "a, b = np.polyfit(price, demand, 1)"
   ]
  },
  {
   "cell_type": "code",
   "execution_count": 629,
   "id": "b4fcf8a8",
   "metadata": {},
   "outputs": [
    {
     "data": {
      "text/plain": [
       "'demand = 8.00 - 0.03 * price'"
      ]
     },
     "execution_count": 629,
     "metadata": {},
     "output_type": "execute_result"
    }
   ],
   "source": [
    "f'demand = {b:.2f} {\"+\" if a > 0 else \"-\"} {abs(a):.2f} * price'"
   ]
  },
  {
   "cell_type": "code",
   "execution_count": 596,
   "id": "1598a022",
   "metadata": {},
   "outputs": [],
   "source": [
    "def profit(x):\n",
    "    demand = (b + a * x)\n",
    "    unit_cost = 150\n",
    "    return demand * (x - unit_cost)"
   ]
  },
  {
   "cell_type": "code",
   "execution_count": 612,
   "id": "b53d96eb",
   "metadata": {},
   "outputs": [
    {
     "data": {
      "text/plain": [
       "      fun: array([-67.5])\n",
       " hess_inv: <1x1 LbfgsInvHessProduct with dtype=float64>\n",
       "      jac: array([1.42108434e-06])\n",
       "  message: 'CONVERGENCE: NORM_OF_PROJECTED_GRADIENT_<=_PGTOL'\n",
       "     nfev: 8\n",
       "      nit: 2\n",
       "     njev: 4\n",
       "   status: 0\n",
       "  success: True\n",
       "        x: array([195.00002132])"
      ]
     },
     "execution_count": 612,
     "metadata": {},
     "output_type": "execute_result"
    }
   ],
   "source": [
    "minimize(lambda x: -profit(x), [price[0]], method='L-BFGS-B') # maximize profit function"
   ]
  },
  {
   "cell_type": "code",
   "execution_count": 614,
   "id": "5378762a",
   "metadata": {},
   "outputs": [
    {
     "data": {
      "text/plain": [
       "'price of $195 maximizes profit at $67.50 million'"
      ]
     },
     "execution_count": 614,
     "metadata": {},
     "output_type": "execute_result"
    }
   ],
   "source": [
    "f'price of $195 maximizes profit at ${profit(195):.2f} million'"
   ]
  },
  {
   "cell_type": "markdown",
   "id": "0d30961a",
   "metadata": {},
   "source": [
    "***\n",
    "2. Теперь предположим, что покупатель игровой приставки покупает в среднем 10 видеоигр, и прибыль от каждой игры составляет 10 долларов. Какова правильная цена на игровую приставку?"
   ]
  },
  {
   "cell_type": "code",
   "execution_count": 615,
   "id": "75bd9656",
   "metadata": {},
   "outputs": [],
   "source": [
    "def profit(x):\n",
    "    demand = (b + a * x)\n",
    "    unit_cost = 150\n",
    "    video_game_profit = 10 * 10 * demand\n",
    "    return demand * (x - unit_cost) + video_game_profit"
   ]
  },
  {
   "cell_type": "code",
   "execution_count": 624,
   "id": "5d33139e",
   "metadata": {},
   "outputs": [
    {
     "data": {
      "text/plain": [
       " final_simplex: (array([[145.00003052],\n",
       "       [144.99996185]]), array([-300.83333333, -300.83333333]))\n",
       "           fun: -300.8333333333015\n",
       "       message: 'Optimization terminated successfully.'\n",
       "          nfev: 42\n",
       "           nit: 21\n",
       "        status: 0\n",
       "       success: True\n",
       "             x: array([145.00003052])"
      ]
     },
     "execution_count": 624,
     "metadata": {},
     "output_type": "execute_result"
    }
   ],
   "source": [
    "minimize(lambda x: -profit(x), [price[0]], method='Nelder-Mead') # maximize profit function"
   ]
  },
  {
   "cell_type": "markdown",
   "id": "e569fff6",
   "metadata": {},
   "source": [
    "price drops to \\$145 (below cost) ."
   ]
  },
  {
   "cell_type": "markdown",
   "id": "724fa072",
   "metadata": {},
   "source": [
    "***\n",
    "3. Предположим, что в примере с бритвами и лезвиями стоимость производства лезвия составляет 0,20 доллара. Если за лезвие назначена цена 0,35 доллара, клиент покупает в среднем 50 лезвий. Пусть ценовая эластичность спроса на лезвия равна 3. Какую цену следует назначить на бритву и на лезвие?"
   ]
  },
  {
   "cell_type": "code",
   "execution_count": 641,
   "id": "27746840",
   "metadata": {},
   "outputs": [],
   "source": [
    "price_blades = [0.35, 0.3535]\n",
    "demand_blades = [50, 48.5]\n",
    "price_razors = [5, 5.05]\n",
    "demand_razors = [6, 5.88]"
   ]
  },
  {
   "cell_type": "code",
   "execution_count": 637,
   "id": "fc872b70",
   "metadata": {},
   "outputs": [],
   "source": [
    "a_blade, b_blade = np.polyfit(price_blades, demand_blades, 1)"
   ]
  },
  {
   "cell_type": "code",
   "execution_count": 644,
   "id": "cec99b9c",
   "metadata": {},
   "outputs": [
    {
     "data": {
      "text/plain": [
       "'blade demand = -428.57 * price + 200.00'"
      ]
     },
     "execution_count": 644,
     "metadata": {},
     "output_type": "execute_result"
    }
   ],
   "source": [
    "f'blade demand = {a_blade:.2f} * price + {b_blade:.2f}'"
   ]
  },
  {
   "cell_type": "code",
   "execution_count": 642,
   "id": "d62cb413",
   "metadata": {},
   "outputs": [],
   "source": [
    "a_razor, b_razor = np.polyfit(price_razors, demand_razors, 1)"
   ]
  },
  {
   "cell_type": "code",
   "execution_count": 645,
   "id": "36eae110",
   "metadata": {},
   "outputs": [
    {
     "data": {
      "text/plain": [
       "'razor demand = -2.40 * price + 18.00'"
      ]
     },
     "execution_count": 645,
     "metadata": {},
     "output_type": "execute_result"
    }
   ],
   "source": [
    "f'razor demand = {a_razor:.2f} * price + {b_razor:.2f}'"
   ]
  },
  {
   "cell_type": "code",
   "execution_count": 658,
   "id": "33aa0be6",
   "metadata": {},
   "outputs": [],
   "source": [
    "def profit(x):\n",
    "    price_razors, price_blades = x\n",
    "    unit_cost_razor = 2\n",
    "    unit_cost_blade = 0.2\n",
    "    \n",
    "    demand = (b_razor + a_razor * price_razors)\n",
    "    blades_per_razor = price_blades * a_blade + b_blade\n",
    "    \n",
    "    profit_per_blade = price_blades - unit_cost_blade\n",
    "    profit_razors = (price_razors - unit_cost_razor) * demand\n",
    "    profit_blades = demand * blades_per_razor * profit_per_blade\n",
    "    \n",
    "    return profit_razors * profit_blades"
   ]
  },
  {
   "cell_type": "code",
   "execution_count": 667,
   "id": "dbf55598",
   "metadata": {},
   "outputs": [
    {
     "data": {
      "text/plain": [
       "      fun: -1081.7015873015916\n",
       " hess_inv: <2x2 LbfgsInvHessProduct with dtype=float64>\n",
       "      jac: array([0., 0.])\n",
       "  message: 'CONVERGENCE: NORM_OF_PROJECTED_GRADIENT_<=_PGTOL'\n",
       "     nfev: 39\n",
       "      nit: 10\n",
       "     njev: 13\n",
       "   status: 0\n",
       "  success: True\n",
       "        x: array([3.83333334, 0.33333333])"
      ]
     },
     "execution_count": 667,
     "metadata": {},
     "output_type": "execute_result"
    }
   ],
   "source": [
    "minimize(lambda x: -profit(x), [price_razors[0], price_blades[0]], method='L-BFGS-B')"
   ]
  },
  {
   "cell_type": "markdown",
   "id": "cbf6da56",
   "metadata": {},
   "source": [
    "charge 3.83 cents per razor (below cost) and 0.33 cents per blade."
   ]
  },
  {
   "cell_type": "markdown",
   "id": "acf6d4d7",
   "metadata": {},
   "source": [
    "***\n",
    "4. Кинотеатр может принять восемь тысяч клиентов в неделю. Спрос, текущая цена и эластичность для продаж билетов, попкорна, лимонада и конфет приведены в таблице. Кинотеатр оставляет себе 45% выручки от билетов. Даны также себестоимость билета, продаж попкорна, продаж конфет и продаж лимонада. Каким образом кинотеатр может получить максимальную прибыль при условии линейной кривой спроса? Спрос на продукты питания — это доля клиентов, покупающих указанные продукты.\n",
    "\n",
    "|product\t| elasticity | current price | demand|\n",
    "|--|--|--|--|\n",
    "|ticket|3|8|3000|\n",
    "|popcorn|1,3|3,5|0,5|\n",
    "|soda|1,5|3|0,6|\n",
    "|candy|2,5|2,5|0,2|"
   ]
  },
  {
   "cell_type": "code",
   "execution_count": 762,
   "id": "9651ba24",
   "metadata": {},
   "outputs": [
    {
     "data": {
      "text/html": [
       "<div>\n",
       "<style scoped>\n",
       "    .dataframe tbody tr th:only-of-type {\n",
       "        vertical-align: middle;\n",
       "    }\n",
       "\n",
       "    .dataframe tbody tr th {\n",
       "        vertical-align: top;\n",
       "    }\n",
       "\n",
       "    .dataframe thead th {\n",
       "        text-align: right;\n",
       "    }\n",
       "</style>\n",
       "<table border=\"1\" class=\"dataframe\">\n",
       "  <thead>\n",
       "    <tr style=\"text-align: right;\">\n",
       "      <th></th>\n",
       "      <th>product</th>\n",
       "      <th>elasticity</th>\n",
       "      <th>current_price</th>\n",
       "      <th>demand</th>\n",
       "      <th>cost</th>\n",
       "    </tr>\n",
       "  </thead>\n",
       "  <tbody>\n",
       "    <tr>\n",
       "      <th>0</th>\n",
       "      <td>ticket</td>\n",
       "      <td>3.0</td>\n",
       "      <td>8.0</td>\n",
       "      <td>3000.0</td>\n",
       "      <td>0.00</td>\n",
       "    </tr>\n",
       "    <tr>\n",
       "      <th>1</th>\n",
       "      <td>popcorn</td>\n",
       "      <td>1.3</td>\n",
       "      <td>3.5</td>\n",
       "      <td>0.5</td>\n",
       "      <td>0.35</td>\n",
       "    </tr>\n",
       "    <tr>\n",
       "      <th>2</th>\n",
       "      <td>soda</td>\n",
       "      <td>1.5</td>\n",
       "      <td>3.0</td>\n",
       "      <td>0.6</td>\n",
       "      <td>0.60</td>\n",
       "    </tr>\n",
       "    <tr>\n",
       "      <th>3</th>\n",
       "      <td>candy</td>\n",
       "      <td>2.5</td>\n",
       "      <td>2.5</td>\n",
       "      <td>0.2</td>\n",
       "      <td>1.00</td>\n",
       "    </tr>\n",
       "  </tbody>\n",
       "</table>\n",
       "</div>"
      ],
      "text/plain": [
       "   product  elasticity  current_price  demand  cost\n",
       "0   ticket         3.0            8.0  3000.0  0.00\n",
       "1  popcorn         1.3            3.5     0.5  0.35\n",
       "2     soda         1.5            3.0     0.6  0.60\n",
       "3    candy         2.5            2.5     0.2  1.00"
      ]
     },
     "execution_count": 762,
     "metadata": {},
     "output_type": "execute_result"
    }
   ],
   "source": [
    "df = pd.DataFrame({'product': ['ticket', 'popcorn', 'soda', 'candy'],\n",
    "                   'elasticity': [3, 1.3, 1.5, 2.5],\n",
    "                   'current_price': [8, 3.5, 3, 2.5],\n",
    "                   'demand': [3000, 0.5, 0.6, 0.2],\n",
    "                   'cost': [0, 0.35, 0.6, 1],\n",
    "                   # 'ticket_percentage': [0.45, 1, 1, 1]\n",
    "                  })\n",
    "df"
   ]
  },
  {
   "cell_type": "code",
   "execution_count": 763,
   "id": "33459019",
   "metadata": {},
   "outputs": [],
   "source": [
    "df['price_1'] = df.current_price * 1.01\n",
    "df['demand_1'] = (1 - df.elasticity / 100) * df.demand"
   ]
  },
  {
   "cell_type": "code",
   "execution_count": 765,
   "id": "50188caa",
   "metadata": {},
   "outputs": [],
   "source": [
    "poly = np.zeros((4, 2))"
   ]
  },
  {
   "cell_type": "code",
   "execution_count": 820,
   "id": "3b5ea9ba",
   "metadata": {},
   "outputs": [
    {
     "data": {
      "text/plain": [
       "0     [-1124.9999999999916, 11999.999999999935]\n",
       "1    [-0.18571428571428614, 1.1500000000000017]\n",
       "2                   [-0.30000000000000004, 1.5]\n",
       "3    [-0.20000000000000334, 0.7000000000000084]\n",
       "dtype: object"
      ]
     },
     "execution_count": 820,
     "metadata": {},
     "output_type": "execute_result"
    }
   ],
   "source": [
    "df.apply(lambda x: np.polyfit(x[[2,5]].to_list(), x[[3,6]].to_list(), 1), axis=1)"
   ]
  },
  {
   "cell_type": "code",
   "execution_count": 769,
   "id": "7e01ecb8",
   "metadata": {},
   "outputs": [],
   "source": [
    "for i, row in enumerate(df.iterrows()):\n",
    "    poly[i] = np.polyfit(row[1][[2,5]].to_list(), row[1][[3,6]].to_list(), 1)"
   ]
  },
  {
   "cell_type": "code",
   "execution_count": 771,
   "id": "772b2574",
   "metadata": {},
   "outputs": [],
   "source": [
    "df['slope'], df['intercept'] = poly[:,0], poly[:,1]"
   ]
  },
  {
   "cell_type": "code",
   "execution_count": 772,
   "id": "c599e904",
   "metadata": {},
   "outputs": [
    {
     "data": {
      "text/html": [
       "<div>\n",
       "<style scoped>\n",
       "    .dataframe tbody tr th:only-of-type {\n",
       "        vertical-align: middle;\n",
       "    }\n",
       "\n",
       "    .dataframe tbody tr th {\n",
       "        vertical-align: top;\n",
       "    }\n",
       "\n",
       "    .dataframe thead th {\n",
       "        text-align: right;\n",
       "    }\n",
       "</style>\n",
       "<table border=\"1\" class=\"dataframe\">\n",
       "  <thead>\n",
       "    <tr style=\"text-align: right;\">\n",
       "      <th></th>\n",
       "      <th>product</th>\n",
       "      <th>elasticity</th>\n",
       "      <th>current_price</th>\n",
       "      <th>demand</th>\n",
       "      <th>cost</th>\n",
       "      <th>price_1</th>\n",
       "      <th>demand_1</th>\n",
       "      <th>slope</th>\n",
       "      <th>intercept</th>\n",
       "    </tr>\n",
       "  </thead>\n",
       "  <tbody>\n",
       "    <tr>\n",
       "      <th>0</th>\n",
       "      <td>ticket</td>\n",
       "      <td>3.0</td>\n",
       "      <td>8.0</td>\n",
       "      <td>3000.0</td>\n",
       "      <td>0.00</td>\n",
       "      <td>8.080</td>\n",
       "      <td>2910.0000</td>\n",
       "      <td>-1125.000000</td>\n",
       "      <td>12000.00</td>\n",
       "    </tr>\n",
       "    <tr>\n",
       "      <th>1</th>\n",
       "      <td>popcorn</td>\n",
       "      <td>1.3</td>\n",
       "      <td>3.5</td>\n",
       "      <td>0.5</td>\n",
       "      <td>0.35</td>\n",
       "      <td>3.535</td>\n",
       "      <td>0.4935</td>\n",
       "      <td>-0.185714</td>\n",
       "      <td>1.15</td>\n",
       "    </tr>\n",
       "    <tr>\n",
       "      <th>2</th>\n",
       "      <td>soda</td>\n",
       "      <td>1.5</td>\n",
       "      <td>3.0</td>\n",
       "      <td>0.6</td>\n",
       "      <td>0.60</td>\n",
       "      <td>3.030</td>\n",
       "      <td>0.5910</td>\n",
       "      <td>-0.300000</td>\n",
       "      <td>1.50</td>\n",
       "    </tr>\n",
       "    <tr>\n",
       "      <th>3</th>\n",
       "      <td>candy</td>\n",
       "      <td>2.5</td>\n",
       "      <td>2.5</td>\n",
       "      <td>0.2</td>\n",
       "      <td>1.00</td>\n",
       "      <td>2.525</td>\n",
       "      <td>0.1950</td>\n",
       "      <td>-0.200000</td>\n",
       "      <td>0.70</td>\n",
       "    </tr>\n",
       "  </tbody>\n",
       "</table>\n",
       "</div>"
      ],
      "text/plain": [
       "   product  elasticity  current_price  demand  cost  price_1   demand_1  \\\n",
       "0   ticket         3.0            8.0  3000.0  0.00    8.080  2910.0000   \n",
       "1  popcorn         1.3            3.5     0.5  0.35    3.535     0.4935   \n",
       "2     soda         1.5            3.0     0.6  0.60    3.030     0.5910   \n",
       "3    candy         2.5            2.5     0.2  1.00    2.525     0.1950   \n",
       "\n",
       "         slope  intercept  \n",
       "0 -1125.000000   12000.00  \n",
       "1    -0.185714       1.15  \n",
       "2    -0.300000       1.50  \n",
       "3    -0.200000       0.70  "
      ]
     },
     "execution_count": 772,
     "metadata": {},
     "output_type": "execute_result"
    }
   ],
   "source": [
    "df"
   ]
  },
  {
   "cell_type": "code",
   "execution_count": 789,
   "id": "3a37d303",
   "metadata": {},
   "outputs": [],
   "source": [
    "def profit(x):\n",
    "    df['ticket_percentage'] = [0.45, 1., 1., 1.]\n",
    "    df_copy = df.copy()\n",
    "    \n",
    "    df_copy['demand_final'] = df_copy['slope'] * x + df_copy['intercept']\n",
    "    df_copy['profit_cont'] = (x - df_copy['cost']) * df_copy['demand_final'] \\\n",
    "                                                   * df_copy['ticket_percentage'] \\\n",
    "                                                   * ((df_copy['cost'] == 0).astype(int) \n",
    "                                                     + (df_copy['demand_final'].iloc[0]\n",
    "                                                     * (df_copy['cost'] > 0).astype(int)))\n",
    "    return df_copy.profit_cont.sum()"
   ]
  },
  {
   "cell_type": "code",
   "execution_count": 823,
   "id": "dd6cc7e4",
   "metadata": {},
   "outputs": [
    {
     "data": {
      "text/plain": [
       "      fun: -41506.17735759859\n",
       " hess_inv: <4x4 LbfgsInvHessProduct with dtype=float64>\n",
       "      jac: array([-0.00509317, -0.00436557,  0.01091394,  0.00945874])\n",
       "  message: 'CONVERGENCE: REL_REDUCTION_OF_F_<=_FACTR*EPSMCH'\n",
       "     nfev: 45\n",
       "      nit: 7\n",
       "     njev: 9\n",
       "   status: 0\n",
       "  success: True\n",
       "        x: array([1.61196674, 3.27115266, 2.80000176, 2.25000243])"
      ]
     },
     "execution_count": 823,
     "metadata": {},
     "output_type": "execute_result"
    }
   ],
   "source": [
    "x = df.current_price.to_list()\n",
    "minimize(lambda x: -profit(x), x, method='L-BFGS-B')"
   ]
  },
  {
   "cell_type": "markdown",
   "id": "5c4e0c6a",
   "metadata": {},
   "source": [
    "Кинотеатр может получить максимальную прибыль при условии линейной кривой спроса, если снизить стоимость билетов в 5 раз, и немного понизив цену сопутствующих товаров."
   ]
  },
  {
   "cell_type": "markdown",
   "id": "3c2b6188",
   "metadata": {},
   "source": [
    "***\n",
    "5. Лекарства, отпускаемые по рецепту, производятся в США и продаются по всему миру. Производство каждой единицы лекарственного препарата стоит 60 долларов. На немецком рынке препарат продается по 150 евро. Текущий обменный курс составляет 0,84 долларов США за евро. Текущий спрос на препарат составляет 100 единиц, а расчетная эластичность равна 2,5. Определите соответствующую продажную цену (в евро) на препарат при условии линейной кривой спроса."
   ]
  },
  {
   "cell_type": "code",
   "execution_count": 851,
   "id": "4a64c1a5",
   "metadata": {},
   "outputs": [],
   "source": [
    "# Price dependence on exchange rate\n",
    "\n",
    "usd_euro_rate = 0.84\n",
    "unit_cost_usd = 60\n",
    "current_price_eur = 150\n",
    "elasticity = 2.5\n",
    "\n",
    "demand = [100, 97.5]\n",
    "price_eur = [150, 151.5]\n",
    "slope = (demand[1] - demand[0]) / (price_eur[1] - price_eur[0])\n",
    "intercept = 100 + slope * -price_eur[0] # demand = 350 - (5/3) * price"
   ]
  },
  {
   "cell_type": "code",
   "execution_count": 837,
   "id": "b63c3e3c",
   "metadata": {},
   "outputs": [],
   "source": [
    "def profit(x):\n",
    "    current_demand = intercept + slope * x\n",
    "    current_profit = current_demand * (x * usd_euro_rate - unit_cost_usd)\n",
    "    return current_profit"
   ]
  },
  {
   "cell_type": "code",
   "execution_count": 852,
   "id": "1f211e7a",
   "metadata": {},
   "outputs": [
    {
     "data": {
      "text/plain": [
       " final_simplex: (array([[140.71426392],\n",
       "       [140.71432114]]), array([-6720.71428571, -6720.71428571]))\n",
       "           fun: -6720.7142857136205\n",
       "       message: 'Optimization terminated successfully.'\n",
       "          nfev: 38\n",
       "           nit: 19\n",
       "        status: 0\n",
       "       success: True\n",
       "             x: array([140.71426392])"
      ]
     },
     "execution_count": 852,
     "metadata": {},
     "output_type": "execute_result"
    }
   ],
   "source": [
    "minimize(lambda x: -profit(x), [current_price_eur], method='Nelder-Mead')"
   ]
  },
  {
   "cell_type": "markdown",
   "id": "0fb6a70b",
   "metadata": {},
   "source": [
    "Продажная цена на препарат при условии линейной кривой спроса: 140.71 евро."
   ]
  },
  {
   "cell_type": "markdown",
   "id": "01a73a14",
   "metadata": {},
   "source": [
    "# Ценообразование продуктов с помощью субъективно определяемого спроса\n",
    "\n",
    "### Иногда ценовая эластичность продукта неизвестна. В других ситуациях невозможно определить, какая из кривых спроса, линейная или степенная, является релевантной. Можно ли в таких случаях оценить кривую спроса и определить цену, максимально увеличивающую прибыль?\n",
    "\n",
    "Если ценовая эластичность для продукта неизвестна или если невозможно выбрать линейную или степенную кривую спроса, эффективным способом определения кривой спроса является выявление самой низкой и самой высокой разумной цены. Затем следует оценить спрос на продукт при высокой, низкой и промежуточной цене. При наличии этих трех точек на кривой спроса на продукт можно с помощью линии тренда и подобрать квадратическую кривую спроса по следующей формуле (уравнение 1): $demand = a(price)^2 + b(price) + c$\n",
    "\n",
    "Для любых трех указанных точек на кривой спроса существуют значения $a$, $b$ и $c$, при которых уравнение (1) точно соответствует трем указанным точкам. Поскольку уравнение (1) соответствует трем точкам на кривой спроса, по-видимому, справедливо полагать, что уравнение даст точное представление о спросе и для других цен. Затем с помощью уравнения (1) можно определить максимальную прибыль по формуле $ = (price - cost) * demand$.\n",
    "\n",
    "### Как небольшая аптека может определить цену на помаду, максимально увеличивающую прибыль?\n",
    "\n",
    "Предположим, что аптека платит 0,90 доллара за каждый заказанный тюбик помады. Для тюбика помады рассматривается цена от 1,50 до 2,50 долларов. В аптеке полагают, что при цене 1,50 доллара будет продано 60 тюбиков помады в неделю. При цене 2,00 доллара в аптеке предполагают продавать 51 тюбик помады в неделю и при цене 2,50 доллара — 20 тюбиков в неделю. Какую цену на помаду должна назначить аптека?\n",
    "\n",
    "Уравнение вычисленной кривой спроса (уравнение 2): $demand = -44 \\times price^2 + 136 \\times price - 45$. \n",
    "По формуле $ = -demand (price - cost)$ вычислите еженедельную прибыль от продаж помады. Затем определите цену, приносящую максимальную прибыль. Обратите внимание, что цена должна находиться между самой низкой и самой высокой указанной ценой (от 1,50 до 2,50 доллара). В противном случае, если при поиске решения цены окажутся вне этого диапазона, квадратическая кривая спроса может пойти вверх, и тогда получится, что более высокая цена приводит к более высокому спросу. Такой результат является бессмысленным, поэтому цену необходимо ограничить.\n",
    "\n",
    "В результате аптека должна назначить на тюбик помады цену 2,04 доллара. Такая цена приведет к продаже 49,4 шт. в неделю и еженедельной прибыли 56,24 доллара.\n",
    "\n",
    "Подход к ценообразованию, изложенный в этой главе, не требует знания концепции эластичности спроса. По существу при поиске цены, максимально увеличивающей прибыль, эластичность рассматривается для каждой цены. Такой подход легко может быть применен в организациях, продающих тысячи других продуктов. Единственные данные, которые требуется указать для каждого продукта, — это себестоимость и три точки на кривой спроса."
   ]
  },
  {
   "cell_type": "markdown",
   "id": "db1c4848",
   "metadata": {},
   "source": [
    "***\n",
    "1. Предположим, что производство одной игровой приставки стоит 250 долларов. Рассматривается цена от 200 до 400 долларов. Расчетный спрос на игровые приставки представлен в таблице\n",
    "\n",
    "|Цена, долларов|Спрос (в млн)|\n",
    "|--|--|\n",
    "|200|2|\n",
    "|250|1.2|\n",
    "|350|0.6|\n",
    "|400|0.2|\n",
    "\n",
    "Какую цену следует назначить на игровую приставку?"
   ]
  },
  {
   "cell_type": "code",
   "execution_count": 853,
   "id": "abab4a39",
   "metadata": {},
   "outputs": [],
   "source": [
    "from scipy.optimize import curve_fit"
   ]
  },
  {
   "cell_type": "code",
   "execution_count": 859,
   "id": "365677ca",
   "metadata": {},
   "outputs": [],
   "source": [
    "unit_cost = 250\n",
    "price = [200, 250, 350, 400]\n",
    "demand = [2e6, 1.2e6, 0.6e6, 0.2e6]"
   ]
  },
  {
   "cell_type": "code",
   "execution_count": 857,
   "id": "d1278a52",
   "metadata": {},
   "outputs": [],
   "source": [
    "# we used a cubic to exactly fit demand curve\n",
    "def func(x, a, b, c, e):\n",
    "    return a * x**3 + b * x**2 + c * x + e"
   ]
  },
  {
   "cell_type": "code",
   "execution_count": 864,
   "id": "548b7f39",
   "metadata": {},
   "outputs": [],
   "source": [
    "opt, _ = curve_fit(func, price, demand)"
   ]
  },
  {
   "cell_type": "code",
   "execution_count": 885,
   "id": "a6241381",
   "metadata": {},
   "outputs": [
    {
     "data": {
      "image/png": "[encoded data removed]",
      "text/plain": [
       "<Figure size 432x288 with 1 Axes>"
      ]
     },
     "metadata": {
      "needs_background": "light"
     },
     "output_type": "display_data"
    }
   ],
   "source": [
    "x = np.linspace(price[0], price[-1])\n",
    "y = np.linspace(demand[0], demand[-1])\n",
    "plt.plot(price, demand, label='data')\n",
    "plt.plot(x, func(x, *opt), label='$y=%.1fx^3+%.2fx^2%.0fx+%.0f$' % tuple(opt))\n",
    "plt.xlabel('price')\n",
    "plt.ylabel('demand')\n",
    "plt.legend(frameon=False);"
   ]
  },
  {
   "cell_type": "markdown",
   "id": "f220145f",
   "metadata": {},
   "source": [
    "Если форма кубической кривой не имеет уклона вниз, то такой подход приведет к плохому результату."
   ]
  },
  {
   "cell_type": "code",
   "execution_count": 886,
   "id": "b39df4e0",
   "metadata": {},
   "outputs": [],
   "source": [
    "def profit(x):\n",
    "    console_demand = func(x, *opt)\n",
    "    console_revenue = console_demand * x\n",
    "    console_cost = unit_cost * console_demand\n",
    "    return console_revenue - console_cost # total profit"
   ]
  },
  {
   "cell_type": "code",
   "execution_count": 888,
   "id": "c299e560",
   "metadata": {},
   "outputs": [
    {
     "data": {
      "text/plain": [
       " final_simplex: (array([[353.670578 ],\n",
       "       [353.6706543]]), array([-60124238.70877141, -60124238.70872346]))\n",
       "           fun: -60124238.70877141\n",
       "       message: 'Optimization terminated successfully.'\n",
       "          nfev: 48\n",
       "           nit: 24\n",
       "        status: 0\n",
       "       success: True\n",
       "             x: array([353.670578])"
      ]
     },
     "execution_count": 888,
     "metadata": {},
     "output_type": "execute_result"
    }
   ],
   "source": [
    "minimize(lambda x: -profit(x), [price[0]], method='Nelder-Mead')"
   ]
  },
  {
   "cell_type": "markdown",
   "id": "83d4c827",
   "metadata": {},
   "source": [
    "Оптимальной ценой на игровую приставку будет 353.67 доллара"
   ]
  },
  {
   "cell_type": "markdown",
   "id": "2a5d14fa",
   "metadata": {},
   "source": [
    "***\n",
    "2. Для выполнения этого задания возьмите данные о спросе из задания 1. Каждый владелец игровой приставки покупает в среднем 10 видеоигр. Прибыль от каждой видеоигры составляет 10 долларов. Какую цену следует назначить на игровую приставку?"
   ]
  },
  {
   "cell_type": "code",
   "execution_count": 889,
   "id": "a147771b",
   "metadata": {},
   "outputs": [],
   "source": [
    "def profit(x):\n",
    "    games_purchased = 10\n",
    "    unit_game_profit = 10\n",
    "    console_demand = func(x, *opt)\n",
    "    console_revenue = console_demand * x\n",
    "    console_cost = unit_cost * console_demand\n",
    "    game_profit = games_purchased * unit_game_profit * console_demand\n",
    "    return console_revenue + game_profit - console_cost # total profit"
   ]
  },
  {
   "cell_type": "code",
   "execution_count": 890,
   "id": "77f676fa",
   "metadata": {},
   "outputs": [
    {
     "data": {
      "text/plain": [
       " final_simplex: (array([[318.76747131],\n",
       "       [318.76754761]]), array([-1.25941774e+08, -1.25941774e+08]))\n",
       "           fun: -125941773.60037506\n",
       "       message: 'Optimization terminated successfully.'\n",
       "          nfev: 46\n",
       "           nit: 23\n",
       "        status: 0\n",
       "       success: True\n",
       "             x: array([318.76747131])"
      ]
     },
     "execution_count": 890,
     "metadata": {},
     "output_type": "execute_result"
    }
   ],
   "source": [
    "minimize(lambda x: -profit(x), [price[0]], method='Nelder-Mead')"
   ]
  },
  {
   "cell_type": "markdown",
   "id": "549ebfe7",
   "metadata": {},
   "source": [
    "Оптимальной ценой на игровую приставку будет 318.76 долларов"
   ]
  },
  {
   "attachments": {},
   "cell_type": "markdown",
   "id": "365c0769",
   "metadata": {},
   "source": [
    "***\n",
    "3. Необходимо определить правильную цену на новый еженедельный журнал. Переменные затраты на печать и распространение экземпляра журнала составляют 0,50 доллара. Рассматривается цена от 0,50 до 1,30 доллара за экземпляр. Расчетные еженедельные продажи журнала представлены в таблице\n",
    "|Цена, долларов|Спрос (в млн)|\n",
    "|--|--|\n",
    "|0,5|2,00|\n",
    "|0,9|1,20|\n",
    "|1,3|0,30|\n",
    "\n",
    "В дополнение к выручке от продаж журнала можно получить по 30 долларов за каждую проданную тысячу экземпляров каждой из 20 страниц рекламы, размещаемой в еженедельнике. Какую цену следует назначить на журнал?"
   ]
  },
  {
   "cell_type": "code",
   "execution_count": 891,
   "id": "df7241a0",
   "metadata": {},
   "outputs": [],
   "source": [
    "price = [0.5, 0.9, 1.3]\n",
    "demand = [2.00, 1.20, 0.30]"
   ]
  },
  {
   "cell_type": "markdown",
   "id": "d7571da0",
   "metadata": {},
   "source": [
    "Для аппроксимации будем использовать квадратичную полиноминальную функцию."
   ]
  },
  {
   "cell_type": "code",
   "execution_count": 892,
   "id": "1b891d23",
   "metadata": {},
   "outputs": [],
   "source": [
    "def func(x, a, b, c):\n",
    "    return a * x**2 + b * x + c"
   ]
  },
  {
   "cell_type": "code",
   "execution_count": 893,
   "id": "ae84a1a9",
   "metadata": {},
   "outputs": [],
   "source": [
    "opt, _ = curve_fit(func, price, demand)"
   ]
  },
  {
   "cell_type": "code",
   "execution_count": 903,
   "id": "29a00362",
   "metadata": {},
   "outputs": [
    {
     "data": {
      "image/png": "[encoded data removed]",
      "text/plain": [
       "<Figure size 432x288 with 1 Axes>"
      ]
     },
     "metadata": {
      "needs_background": "light"
     },
     "output_type": "display_data"
    }
   ],
   "source": [
    "x = np.linspace(price[0], price[-1])\n",
    "y = np.linspace(demand[0], demand[-1])\n",
    "plt.plot(price, demand, label='data', alpha=.5)\n",
    "plt.plot(x, func(x, *opt), label='$y=%.1fx^2+%.2fx+%.0f$' % tuple(opt), alpha=.5, color='r', linestyle='--')\n",
    "plt.xlabel('price')\n",
    "plt.ylabel('demand')\n",
    "plt.legend(frameon=False);"
   ]
  },
  {
   "cell_type": "code",
   "execution_count": 907,
   "id": "26fded3d",
   "metadata": {},
   "outputs": [],
   "source": [
    "def profit(x):\n",
    "    cost = 0.25\n",
    "    adv_pages = 20\n",
    "    price_per_adv_page = 30 / 1000 # 30$ per 1000 copies\n",
    "    mag_demand = func(x, *opt)\n",
    "    adv_revenue = mag_demand * adv_pages * price_per_adv_page\n",
    "    return mag_demand * (x - cost) + adv_revenue # total profit"
   ]
  },
  {
   "cell_type": "code",
   "execution_count": 908,
   "id": "d7e786a5",
   "metadata": {},
   "outputs": [
    {
     "data": {
      "text/plain": [
       " final_simplex: (array([[0.59296875],\n",
       "       [0.59306641]]), array([-1.71901562, -1.71901561]))\n",
       "           fun: -1.7190156210958958\n",
       "       message: 'Optimization terminated successfully.'\n",
       "          nfev: 22\n",
       "           nit: 11\n",
       "        status: 0\n",
       "       success: True\n",
       "             x: array([0.59296875])"
      ]
     },
     "execution_count": 908,
     "metadata": {},
     "output_type": "execute_result"
    }
   ],
   "source": [
    "minimize(lambda x: -profit(x), [price[0]], method='Nelder-Mead')"
   ]
  },
  {
   "cell_type": "markdown",
   "id": "9e5b09d6",
   "metadata": {},
   "source": [
    "Оптимальная стоимоать журнала с учетом рекламы составляет 0.59 доллара"
   ]
  },
  {
   "cell_type": "markdown",
   "id": "724beb38",
   "metadata": {},
   "source": [
    "# Нелинейное ценообразование\n",
    "\n",
    "\n",
    "### Что такое линейное ценообразование?\n",
    "В предыдущих главах показано, как определить цену продукта, максимально увеличивающую прибыль. Однако в примерах к этим главам подразумевается, что независимо от количества единиц приобретаемого товара покупатель платит одну и ту же сумму за каждую единицу. Такая модель известна как *линейное ценообразование*, поскольку стоимость покупки $x$ единиц товара является линейной функцией $x$; а именно, $cost = price \\times x$.\n",
    "В этой главе показано, что нелинейное ценообразование зачастую может значительно увеличить прибыль компании.\n",
    "\n",
    "### Что такое нелинейное ценообразование?\n",
    "Нелинейная схема ценообразования просто означает, что стоимость покупки $x$ единиц товара не является прямолинейной функцией $x$. С нелинейными стратегиями ценообразования сталкивался каждый. Вот несколько примеров.\n",
    "- Скидка с количества. Первые пять единиц товара могут стоить 20 долларов каждая, а остальные единицы — 12 долларов каждая. Скидки с количества, как правило, предоставляются компаниями, продающими программное обеспечение и компьютеры.\n",
    "- Двухчастный тариф. При вступлении в загородный клуб обычно платят фиксированный взнос, а затем взнос за каждый раунд игры в гольф. Предположим, что загородный клуб взимает членский взнос в размере 500 долларов в год и 20 долларов за каждый раунд. Такой тип стратегии ценообразования называется *двухчастным тарифом*.\n",
    "\n",
    "### Что такое объединение в набор и как оно может повысить прибыльность?\n",
    "При объединении в набор клиенту предлагаются продукты по цене меньшей, чем сумма цен отдельных продуктов. Для анализа феномена объединения в набор необходимо понять, как рациональный потребитель принимает решение. Для каждой возможной комбинации продуктов рациональный потребитель определяет для себя ценность того, что продается, и вычитает из нее реальную стоимость покупки. Эта разница называется потребительским излишком. Рациональный потребитель не покупает ничего, если потребительский излишек для каждого доступного варианта является отрицательным. В противном случае потребитель покупает комбинацию продуктов, имеющую самый большой потребительский излишек.\n",
    "\n",
    "Так как же объединение в набор может повысить прибыльность? Предположим, что вы продаете компьютеры и принтеры двум клиентам. Ценность, которую каждый клиент придает компьютеру и принтеру, представлена в таблице\n",
    "\n",
    "|Клиент|Ценность компьютера, долларов|Ценность принтера, долларов|\n",
    "|--|--|--|\n",
    "|1|1000|500|\n",
    "|2|500|1000|\n",
    "\n",
    "Если компьютер и принтер предлагается для продажи только по отдельности, то, назначив цену 1000 долларов на принтер и на компьютер, вы продадите один принтер и один компьютер и получите 2000 долларов выручки. Теперь предположим, что вы предлагаете такой набор: компьютер и принтер за 1500 долларов. Каждый клиент купит и компьютер, и принтер, и вы получите 3000 долларов выручки. При объединении в набор компьютера и принтера можно извлечь больше выгоды из общей потребительской ценности. Объединение в набор действует эффективнее, если корреляция для потребительской ценности продуктов, включенных в набор, является отрицательной. В приведенном примере корреляция между ценностью продуктов отрицательная, поскольку клиент, который высоко оценивает принтер, дает низкую оценку компьютеру, а клиент, для которого принтер малоценен, высоко оценивает компьютер.\n",
    "\n",
    "Когда вы приезжаете в тематический парк, такой как Диснейленд, вы не покупаете билет на каждый аттракцион. Вместо этого вы покупаете билет на вход в парк. Это пример чистого объединения в набор, поскольку потребитель не имеет возможности заплатить за подмножество предлагаемых продуктов. Такой подход уменьшает очереди (представьте очередь на каждый аттракцион) и приводит к дополнительной прибыли.\n",
    "\n",
    "Чтобы понять причину увеличения прибыльности от объединения в набор, предположим, что имеется только один клиент и количество аттракционов, которые клиент собирается посетить, определяется следующей кривой спроса: (количество аттракционов) = 20 – 2 × (цена аттракциона). Исследование кривых спроса показало, что ценность, которую клиент придает $i$-му аттракциону, является ценой, при которой спрос равен $i$ - 0,5. Таким образом, $i$ – 0,5 = 20 – 2 × (ценность аттракциона $i$) или (ценность аттракциона $i$) = 10,25 – ($i$/2). Первый аттракцион стоит 9,75 доллара, второй аттракцион — 9,25 доллара и т. д. до двадцатого аттракциона, который стоит 0,25 доллара.\n",
    "\n",
    "Предположим, что за аттракцион назначена постоянная цена и переменные затраты составляют 2 доллара за аттракцион. Требуется найти схему линейного ценообразования с максимальной прибылью.\n",
    "\n",
    "Введите пробное значение цены в ячейку и вычислите количество приобретенных билетов на аттракционы по формуле =20-(2 * цена). Вычислите прибыль по формуле =спрос * (цена-себестоимость). Теперь найдите максимум значения (прибыль) путем изменения значения цены. Цена в 6 долларов приведет к покупке восьми билетов на аттракционы, что позволит получить максимальную прибыль в 32 доллара."
   ]
  }
 ],
 "metadata": {
  "kernelspec": {
   "display_name": "Python 3",
   "language": "python",
   "name": "python3"
  },
  "language_info": {
   "codemirror_mode": {
    "name": "ipython",
    "version": 3
   },
   "file_extension": ".py",
   "mimetype": "text/x-python",
   "name": "python",
   "nbconvert_exporter": "python",
   "pygments_lexer": "ipython3",
   "version": "3.8.3"
  }
 },
 "nbformat": 4,
 "nbformat_minor": 5
}
