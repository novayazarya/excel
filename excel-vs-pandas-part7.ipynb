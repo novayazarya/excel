{
 "cells": [
  {
   "cell_type": "code",
   "execution_count": 1,
   "id": "105f6d48",
   "metadata": {},
   "outputs": [],
   "source": [
    "import pandas as pd\n",
    "import numpy as np\n",
    "import matplotlib.pyplot as plt\n",
    "import seaborn as sns\n",
    "from tqdm.auto import tqdm\n",
    "\n",
    "from IPython.display import display, HTML\n",
    "\n",
    "import warnings \n",
    "warnings.simplefilter(\"ignore\")"
   ]
  },
  {
   "cell_type": "markdown",
   "id": "0af03f90",
   "metadata": {},
   "source": [
    "# Определение ценности клиента\n",
    "\n",
    "Многие компании недооценивают своих клиентов. При оценке клиентов компания должна учитывать чистую приведенную стоимость (ЧПС) для долгосрочной прибыли, которую принесет клиент. Отказ от учета долгосрочной значимости клиента часто является причиной принятия компанией неправильного решения. Например, компания может сократить штат обслуживания клиентов на 10% для экономии 1 млн долларов, но в результате снижение качества обслуживания может привести к потере более 1 млн долларов в ценности клиента, что в итоге скажется на прибыльности компании. Способы определения ценности клиента рассматриваются на следующих двух примерах.\n",
    "\n",
    "**Компания, работающая с кредитными картами, в настоящее время имеет коэффициент сохранения клиентов 80%. Насколько возрастет прибыльность компании, если коэффициент сохранения клиентов увеличится до 90% и выше?**\n",
    "\n",
    "Этот пример основан на книге Фредерика Райхельда \"Эффект лояльности\" (Frederick Reichheld. The Loyalty Effect. — Harvard Business School Press, 2001). Данные к примеру находятся в файле Loyalty.xlsx. Райхельд оценивает прибыльность клиента-держателя кредитной карты на основе количества лет, в течение которых клиент является держателем карты. Например, в течение первого года держатель карты создает прибыль –40 долларов, что является результатом затрат на привлечение клиента и затрат на создание счета клиента. В течение каждого последующего года прибыль, приносимая клиентом, увеличивается, и клиент, являющийся держателем карты 20 лет и больше, приносит прибыль 161 доллар в год.\n",
    "\n",
    "Компаниям, работающим с кредитными картами, необходимо определить зависимость ценности клиента от коэффициента сохранения клиентов в компании. В настоящее время коэффициент сохранения клиентов составляет 80%. Это означает, что в конце каждого года 20% (1 – 0,80) всех клиентов не возобновляют свои карты. (Эти 20% клиентов могут быть названы годовым коэффициентом \"текучести\" клиентов.) Компании, работающей с кредитными картами, необходимо определить долгосрочную ценность клиента для следующих значений коэффициента сохранения клиентов: 80, 85, 90, 95 и 99%.\n",
    "\n",
    "Для определения долговременной ценности клиента начнем, например, с когорты из 100 клиентов. (*Когорта* — это группа лиц, имеющих общий статистический показатель. Размер группы, 100 человек, здесь выбран произвольно, но круглые числа позволяют не отвлекаться от анализа.) Затем для каждого года определим, сколько клиентов остается клиентами компании, по формуле (клиенты для года $t + 1$) = (коэффициент сохранения клиентов) × (клиенты для года $t$). Будем считать, что клиенты уходят только в конце каждого года. Затем с помощью функции `NPV` определим общую ЧПС (с учетом 15%-ной ставки дисконта), полученную от исходной когорты из 100 клиентов. 15%-ная ставка дисконта означает, что 1 доллар, заработанный через год от текущего момента, стоит так же, как 1,00/1,15 доллар сейчас. Разделив это число на количество клиентов в исходной когорте (100), получим ценность отдельного клиента.\n",
    "\n",
    "ЧПС для денежных потоков на конец года преобразуются в ЧПС для денежных потоков на начало года путем умножения на `(1+процентная_ставка)`. При коэффициенте сохранения клиентов 80% ценность среднего клиента составляет 141,72 долларов. Для определения зависимости изменения ценности отдельного клиента от изменения годового коэффициента сохранения клиентов воспользуйтесь таблицей данных с одним входом. Повышение коэффициента сохранения клиентов с 80 до 90% почти удваивает ценность каждого клиента, что говорит \"за\" вежливое обращение с такими клиентами и \"против\" экономии на обслуживании клиентов. Осознание ценности клиента предоставляет большинству компаний ключ к повышению прибыльности.\n",
    "\n",
    "**Междугородная телефонная компания предоставляет клиентам конкурентов стимул для смены компании. Насколько значительным должен быть стимул?**\n",
    "\n",
    "Междугородная телефонная компания, средний клиент которой тратит 400 долларов в год, получает 10% прибыли с каждого потраченного доллара. В конце каждого года 50% клиентов компании переходят к конкурентам и 30% клиентов конкурентов без всякого стимула переходят в эту компанию. Компания рассматривает вопрос о предоставлении клиентам конкурентов одноразовый стимул для смены компании. Насколько значительным может быть стимул без убытка для компании?\n",
    "\n",
    "Ключом к решению этой проблемы (см. файл Phoneloyalty.xlsx) является внимательное изучение ЧПС для двух ситуаций.\n",
    "- **Ситуация 1.** Стоклиентовподключаютсякконкурентам.\n",
    "- **Ситуация 2.** Компания платит ста клиентам конкурентов определенную сумму за переход.\n",
    "\n",
    "Для отслеживания каждой ситуации в течение определенного времени (например, в течение 20 лет) можно с помощью подбора определить сумму $x$ в долларах (выплачиваемую клиенту за переход в компанию), что позволяет не проявлять беспокойства в следующих двух ситуациях.\n",
    "\n",
    "- **Ситуация 1.** Компания просто платит каждому из ста нелояльных клиентов $x$ долларов за переход.\n",
    "- **Ситуация 2.** Рынок состоит из ста нелояльных клиентов.\n",
    "\n",
    "Ключевым шагом анализа является понимание того, что (клиенты компании в год t + 1) = 0,3 × (клиенты конкурентов в год t) + 0,5 × (клиенты компании в год t). Аналогично (клиенты конкурентов в год t + 1) = 0,7 × (клиенты конкурентов в год t) + 0,5 × (клиенты компании в год t)."
   ]
  },
  {
   "cell_type": "markdown",
   "id": "6dcc3bf2",
   "metadata": {},
   "source": [
    "***\n",
    "1. Компания Whirlswim Appliance рассматривает возможность предоставить каждому своему клиенту бесплатное техническое обслуживание для каждого проданного DVD-плеера. Компания считает, что это предложение потребует заплатить в среднем 2,50 долларов за каждый проданный сегодня DVD-плеер (стоимость в сегодняшних долларах). В настоящее время рынок состоит из 72 000 потребителей, последняя покупка которых состоялась в компании Whirlswim, и из 86 000 потребителей, которые последний раз покупали у конкурентов компании. В указанном году 40% всех потребителей приобретают DVD-плеер. Если последняя покупка потребителя была в Whirlswim, с вероятностью 60% его следующая покупка также состоится в Whirlswim. Если последняя покупка была не в Whirlswim, с вероятностью 30% следующая покупка состоится в Whirlswim. Покупка в текущем году дает прибыль 20 долларов. Вклад в прибыль от покупателя (и расходы на техническое обслуживание для каждого покупателя) растет на 5% в год. Коэффициент дисконтирования для прибыли (относительно 30-летнего горизонта) составляет 10% в год. Предположим, что компания предоставляет бесплатное техническое обслуживание. Если последняя покупка клиента была в Whirlswim, вероятность того, что следующая покупка клиента будет в Whirlswim, увеличится на неизвестную величину в пределах от 0 до 10%. Аналогично, если компания предоставляет бесплатное техническое обслуживание, и последняя покупка клиента была не в Whirlswim, вероятность того, что следующая покупка будет в Whirlswim, увеличится на неизвестную величину в пределах от 0 до 10%. Следует ли компании Whirlswim принять политику бесплатного технического обслуживания?"
   ]
  },
  {
   "cell_type": "code",
   "execution_count": 25,
   "id": "99701fbd",
   "metadata": {},
   "outputs": [],
   "source": [
    "import numpy_financial as npf"
   ]
  },
  {
   "cell_type": "code",
   "execution_count": 69,
   "id": "92f8a71f",
   "metadata": {},
   "outputs": [],
   "source": [
    "# base case\n",
    "fraction_buying = 0.4\n",
    "stay = 0.6 # stay with us\n",
    "switch = 0.3 # switch to us\n",
    "profit_contribution = 20\n",
    "growth_rate = 1.05\n",
    "discount_rate = 0.1\n",
    "years = 30"
   ]
  },
  {
   "cell_type": "code",
   "execution_count": 46,
   "id": "a3753e03",
   "metadata": {},
   "outputs": [],
   "source": [
    "def get_npv(fraction_buying: float = 0.4, \n",
    "            stay: float = 0.6,\n",
    "            switch: float = 0.3, \n",
    "            profit_contribution: int = 20, \n",
    "            growth_rate: float = 1.05, \n",
    "            discount_rate: float = 0.1,\n",
    "            yers: int = 30,\n",
    "            us: int = 72000,\n",
    "            them: int = 86000\n",
    "           ) -> float:\n",
    "    cash_flow = []\n",
    "    for year in range(years+1):\n",
    "        purchasers = us * fraction_buying * stay + them * fraction_buying * switch\n",
    "        profit = profit_contribution * purchasers * growth_rate ** year\n",
    "        cash_flow.append(profit)\n",
    "        them_1 = them * ((1 - fraction_buying) + fraction_buying * (1 - switch)) \\\n",
    "                                               + us * fraction_buying * (1 - stay)\n",
    "        us_1 = us * ((1 - fraction_buying) + fraction_buying * stay) + them * fraction_buying * switch\n",
    "        them, us = them_1, us_1\n",
    "    return npf.npv(discount_rate, cash_flow) # NPV"
   ]
  },
  {
   "cell_type": "code",
   "execution_count": 47,
   "id": "9bc4ba86",
   "metadata": {},
   "outputs": [],
   "source": [
    "base_case = get_npv() # базовая чистая приведенная стоимость 9132948.159"
   ]
  },
  {
   "attachments": {},
   "cell_type": "markdown",
   "id": "9a1a5319",
   "metadata": {},
   "source": [
    "Money back guarantee 5% get $50 product"
   ]
  },
  {
   "cell_type": "code",
   "execution_count": 59,
   "id": "e8a1e324",
   "metadata": {},
   "outputs": [],
   "source": [
    "switch_range = np.arange(.3, .4, .01)\n",
    "stay_range = np.arange(.6, .7, .01)\n",
    "df = pd.DataFrame(np.array([[get_npv(switch=switch, stay=stay, profit_contribution=17.5)\n",
    "                for switch in switch_range] for stay in stay_range]) - base_case,\n",
    "                index=stay_range, columns=switch_range)"
   ]
  },
  {
   "cell_type": "code",
   "execution_count": 67,
   "id": "8dfedd8d",
   "metadata": {},
   "outputs": [
    {
     "data": {
      "text/html": [
       "<div>\n",
       "<style scoped>\n",
       "    .dataframe tbody tr th:only-of-type {\n",
       "        vertical-align: middle;\n",
       "    }\n",
       "\n",
       "    .dataframe tbody tr th {\n",
       "        vertical-align: top;\n",
       "    }\n",
       "\n",
       "    .dataframe thead th {\n",
       "        text-align: right;\n",
       "    }\n",
       "</style>\n",
       "<table border=\"1\" class=\"dataframe\">\n",
       "  <thead>\n",
       "    <tr style=\"text-align: right;\">\n",
       "      <th></th>\n",
       "      <th>0.30</th>\n",
       "      <th>0.31</th>\n",
       "      <th>0.32</th>\n",
       "      <th>0.33</th>\n",
       "      <th>0.34</th>\n",
       "      <th>0.35</th>\n",
       "      <th>0.36</th>\n",
       "      <th>0.37</th>\n",
       "      <th>0.38</th>\n",
       "      <th>0.39</th>\n",
       "      <th>0.40</th>\n",
       "    </tr>\n",
       "  </thead>\n",
       "  <tbody>\n",
       "    <tr>\n",
       "      <th>0.60</th>\n",
       "      <td>-1.141619e+06</td>\n",
       "      <td>-1.001537e+06</td>\n",
       "      <td>-864611.582212</td>\n",
       "      <td>-730738.913411</td>\n",
       "      <td>-599819.055717</td>\n",
       "      <td>-471756.555285</td>\n",
       "      <td>-346459.965576</td>\n",
       "      <td>-223841.643385</td>\n",
       "      <td>-103817.556899</td>\n",
       "      <td>1.369290e+04</td>\n",
       "      <td>1.287671e+05</td>\n",
       "    </tr>\n",
       "    <tr>\n",
       "      <th>0.61</th>\n",
       "      <td>-1.031786e+06</td>\n",
       "      <td>-8.913570e+05</td>\n",
       "      <td>-754127.699655</td>\n",
       "      <td>-619991.584480</td>\n",
       "      <td>-488846.579146</td>\n",
       "      <td>-360594.976706</td>\n",
       "      <td>-235143.212633</td>\n",
       "      <td>-112401.652062</td>\n",
       "      <td>7715.610340</td>\n",
       "      <td>1.252909e+05</td>\n",
       "      <td>2.404033e+05</td>\n",
       "    </tr>\n",
       "    <tr>\n",
       "      <th>0.62</th>\n",
       "      <td>-9.193613e+05</td>\n",
       "      <td>-7.786066e+05</td>\n",
       "      <td>-641095.480805</td>\n",
       "      <td>-506718.659198</td>\n",
       "      <td>-375371.586749</td>\n",
       "      <td>-246954.244882</td>\n",
       "      <td>-121370.897695</td>\n",
       "      <td>1470.130019</td>\n",
       "      <td>121656.661451</td>\n",
       "      <td>2.392729e+05</td>\n",
       "      <td>3.543994e+05</td>\n",
       "    </tr>\n",
       "    <tr>\n",
       "      <th>0.63</th>\n",
       "      <td>-8.042524e+05</td>\n",
       "      <td>-6.631958e+05</td>\n",
       "      <td>-525427.006333</td>\n",
       "      <td>-390833.961268</td>\n",
       "      <td>-259309.618741</td>\n",
       "      <td>-130751.589017</td>\n",
       "      <td>-5061.910617</td>\n",
       "      <td>117853.181317</td>\n",
       "      <td>238083.472670</td>\n",
       "      <td>3.557150e+05</td>\n",
       "      <td>4.708301e+05</td>\n",
       "    </tr>\n",
       "    <tr>\n",
       "      <th>0.64</th>\n",
       "      <td>-6.863638e+05</td>\n",
       "      <td>-5.450309e+05</td>\n",
       "      <td>-407030.345296</td>\n",
       "      <td>-272247.423615</td>\n",
       "      <td>-140572.441731</td>\n",
       "      <td>-11900.578285</td>\n",
       "      <td>113868.408714</td>\n",
       "      <td>236830.423648</td>\n",
       "      <td>357077.260328</td>\n",
       "      <td>4.746968e+05</td>\n",
       "      <td>5.897733e+05</td>\n",
       "    </tr>\n",
       "    <tr>\n",
       "      <th>0.65</th>\n",
       "      <td>-5.655951e+05</td>\n",
       "      <td>-4.240135e+05</td>\n",
       "      <td>-285809.329874</td>\n",
       "      <td>-150864.872027</td>\n",
       "      <td>-19067.840897</td>\n",
       "      <td>109689.077807</td>\n",
       "      <td>235508.462172</td>\n",
       "      <td>358488.406446</td>\n",
       "      <td>478722.757912</td>\n",
       "      <td>5.963013e+05</td>\n",
       "      <td>7.113102e+05</td>\n",
       "    </tr>\n",
       "    <tr>\n",
       "      <th>0.66</th>\n",
       "      <td>-4.418414e+05</td>\n",
       "      <td>-3.000410e+05</td>\n",
       "      <td>-161663.315307</td>\n",
       "      <td>-26587.794703</td>\n",
       "      <td>105300.601242</td>\n",
       "      <td>234111.741821</td>\n",
       "      <td>359950.597344</td>\n",
       "      <td>482917.502629</td>\n",
       "      <td>603108.404177</td>\n",
       "      <td>7.206151e+05</td>\n",
       "      <td>8.355254e+05</td>\n",
       "    </tr>\n",
       "    <tr>\n",
       "      <th>0.67</th>\n",
       "      <td>-3.149926e+05</td>\n",
       "      <td>-1.730056e+05</td>\n",
       "      <td>-34486.923930</td>\n",
       "      <td>100686.903316</td>\n",
       "      <td>232633.740468</td>\n",
       "      <td>361466.074512</td>\n",
       "      <td>487291.324539</td>\n",
       "      <td>610212.116881</td>\n",
       "      <td>730326.543085</td>\n",
       "      <td>8.477284e+05</td>\n",
       "      <td>9.625074e+05</td>\n",
       "    </tr>\n",
       "    <tr>\n",
       "      <th>0.68</th>\n",
       "      <td>-1.849333e+05</td>\n",
       "      <td>-4.279440e+04</td>\n",
       "      <td>95830.227853</td>\n",
       "      <td>231067.161971</td>\n",
       "      <td>363037.121939</td>\n",
       "      <td>491855.275639</td>\n",
       "      <td>617631.547781</td>\n",
       "      <td>740470.907257</td>\n",
       "      <td>860473.636419</td>\n",
       "      <td>9.777356e+05</td>\n",
       "      <td>1.092348e+06</td>\n",
       "    </tr>\n",
       "    <tr>\n",
       "      <th>0.69</th>\n",
       "      <td>-5.154241e+04</td>\n",
       "      <td>9.071092e+04</td>\n",
       "      <td>229403.820959</td>\n",
       "      <td>364666.045443</td>\n",
       "      <td>496621.247872</td>\n",
       "      <td>625387.340562</td>\n",
       "      <td>751076.810810</td>\n",
       "      <td>873797.021050</td>\n",
       "      <td>993650.489975</td>\n",
       "      <td>1.110735e+06</td>\n",
       "      <td>1.225145e+06</td>\n",
       "    </tr>\n",
       "  </tbody>\n",
       "</table>\n",
       "</div>"
      ],
      "text/plain": [
       "              0.30          0.31           0.32           0.33           0.34  \\\n",
       "0.60 -1.141619e+06 -1.001537e+06 -864611.582212 -730738.913411 -599819.055717   \n",
       "0.61 -1.031786e+06 -8.913570e+05 -754127.699655 -619991.584480 -488846.579146   \n",
       "0.62 -9.193613e+05 -7.786066e+05 -641095.480805 -506718.659198 -375371.586749   \n",
       "0.63 -8.042524e+05 -6.631958e+05 -525427.006333 -390833.961268 -259309.618741   \n",
       "0.64 -6.863638e+05 -5.450309e+05 -407030.345296 -272247.423615 -140572.441731   \n",
       "0.65 -5.655951e+05 -4.240135e+05 -285809.329874 -150864.872027  -19067.840897   \n",
       "0.66 -4.418414e+05 -3.000410e+05 -161663.315307  -26587.794703  105300.601242   \n",
       "0.67 -3.149926e+05 -1.730056e+05  -34486.923930  100686.903316  232633.740468   \n",
       "0.68 -1.849333e+05 -4.279440e+04   95830.227853  231067.161971  363037.121939   \n",
       "0.69 -5.154241e+04  9.071092e+04  229403.820959  364666.045443  496621.247872   \n",
       "\n",
       "               0.35           0.36           0.37           0.38  \\\n",
       "0.60 -471756.555285 -346459.965576 -223841.643385 -103817.556899   \n",
       "0.61 -360594.976706 -235143.212633 -112401.652062    7715.610340   \n",
       "0.62 -246954.244882 -121370.897695    1470.130019  121656.661451   \n",
       "0.63 -130751.589017   -5061.910617  117853.181317  238083.472670   \n",
       "0.64  -11900.578285  113868.408714  236830.423648  357077.260328   \n",
       "0.65  109689.077807  235508.462172  358488.406446  478722.757912   \n",
       "0.66  234111.741821  359950.597344  482917.502629  603108.404177   \n",
       "0.67  361466.074512  487291.324539  610212.116881  730326.543085   \n",
       "0.68  491855.275639  617631.547781  740470.907257  860473.636419   \n",
       "0.69  625387.340562  751076.810810  873797.021050  993650.489975   \n",
       "\n",
       "              0.39          0.40  \n",
       "0.60  1.369290e+04  1.287671e+05  \n",
       "0.61  1.252909e+05  2.404033e+05  \n",
       "0.62  2.392729e+05  3.543994e+05  \n",
       "0.63  3.557150e+05  4.708301e+05  \n",
       "0.64  4.746968e+05  5.897733e+05  \n",
       "0.65  5.963013e+05  7.113102e+05  \n",
       "0.66  7.206151e+05  8.355254e+05  \n",
       "0.67  8.477284e+05  9.625074e+05  \n",
       "0.68  9.777356e+05  1.092348e+06  \n",
       "0.69  1.110735e+06  1.225145e+06  "
      ]
     },
     "execution_count": 67,
     "metadata": {},
     "output_type": "execute_result"
    }
   ],
   "source": [
    "df"
   ]
  },
  {
   "cell_type": "code",
   "execution_count": 66,
   "id": "ebacb1de",
   "metadata": {},
   "outputs": [
    {
     "data": {
      "text/plain": [
       "1141618.5198800946"
      ]
     },
     "execution_count": 66,
     "metadata": {},
     "output_type": "execute_result"
    }
   ],
   "source": [
    "df.min().abs().max() # this is improvement in NPV"
   ]
  },
  {
   "cell_type": "markdown",
   "id": "5166dda4",
   "metadata": {},
   "source": [
    "Похоже, что нам нужно `stay with us` и `switch to us` увеличить на 10% или больше, чтобы бесплатное техническое обслуживание окупилось."
   ]
  },
  {
   "cell_type": "markdown",
   "id": "38cd19c6",
   "metadata": {},
   "source": [
    "***\n",
    "2. Супермаркет \"Mr. D\" пытается определить, следует ли предоставить своим клиентам карту клиента. В настоящее время 30% всех покупателей лояльны к супермаркету \"Mr. D\". Лояльный клиент покупает в \"Mr. D\" в 80% случаев. Нелояльный к \"Mr. D\" клиент покупает в этом супермаркете в 10% случаев. Типичный покупатель тратит 150 долларов в неделю, и супермаркет \"Mr. D\" работает из 4% прибыли. Карта клиента обойдется супермаркету \"Mr. D\" в среднем 0,01 доллара на каждый потраченный доллар. Вы считаете, что доля лояльных к \"Mr. D\" покупателей увеличится на неизвестную величину в пределах от 2 до 10%. Вы также считаете, что доля случаев, когда лояльный клиент покупает в \"Mr. D\", увеличится на неизвестную величину в пределах от 2 до 12%. Следует ли супермаркету \"Mr.D\" предоставлять клиентам карту клиента? Следует ли супермаркету \"Mr. D\" предоставлять карту, если прибыль составляет 8%, а не 4%?"
   ]
  },
  {
   "cell_type": "markdown",
   "id": "65cd1978",
   "metadata": {},
   "source": [
    "**Base Case**"
   ]
  },
  {
   "cell_type": "code",
   "execution_count": 70,
   "id": "368c2a06",
   "metadata": {},
   "outputs": [],
   "source": [
    "loyal = .3\n",
    "others = 1 - loyal"
   ]
  },
  {
   "cell_type": "code",
   "execution_count": 71,
   "id": "8866bb5e",
   "metadata": {},
   "outputs": [],
   "source": [
    "mrds_loyal = .8\n",
    "mrds_others = .1\n",
    "elsewhere_loyal = 1 - mrds_loyal\n",
    "elsewhere_others = 1 - mrds_others"
   ]
  },
  {
   "cell_type": "code",
   "execution_count": 72,
   "id": "2754cbb9",
   "metadata": {},
   "outputs": [],
   "source": [
    "average_spending = 150\n",
    "profit_margin = 0.04"
   ]
  },
  {
   "cell_type": "code",
   "execution_count": 73,
   "id": "1b7a13c9",
   "metadata": {},
   "outputs": [],
   "source": [
    "go_to_mrds = 100 * loyal * mrds_loyal + 100 * others * mrds_others\n",
    "go_elsewhere = 100 * loyal * elsewhere_loyal + 100 * others * elsewhere_others"
   ]
  },
  {
   "cell_type": "code",
   "execution_count": 76,
   "id": "7d3ce67f",
   "metadata": {},
   "outputs": [],
   "source": [
    "spending = go_to_mrds * average_spending\n",
    "profit = spending * profit_margin"
   ]
  },
  {
   "cell_type": "markdown",
   "id": "9b115267",
   "metadata": {},
   "source": [
    "Data table wasused to compute profit for each margin without the card"
   ]
  },
  {
   "cell_type": "code",
   "execution_count": 84,
   "id": "925e1c40",
   "metadata": {},
   "outputs": [
    {
     "data": {
      "text/plain": [
       "[186.0, 232.5, 279.0, 325.50000000000006, 372.00000000000006]"
      ]
     },
     "execution_count": 84,
     "metadata": {},
     "output_type": "execute_result"
    }
   ],
   "source": [
    "profit_margins = np.arange(0.04, 0.09, 0.01)\n",
    "[spending * p for p in profit_margins]"
   ]
  },
  {
   "attachments": {},
   "cell_type": "markdown",
   "id": "118938b7",
   "metadata": {},
   "source": [
    "**Customer advantage card**"
   ]
  },
  {
   "cell_type": "code",
   "execution_count": 88,
   "id": "201cc8f1",
   "metadata": {},
   "outputs": [],
   "source": [
    "def get_profit(loyal: float,\n",
    "               mrds_loyal: float,\n",
    "               mrds_others: float,\n",
    "               average_spending: int,\n",
    "               profit_margin: float,\n",
    "               cost_of_program: float) -> float:\n",
    "    \n",
    "    others = 1 - loyal\n",
    "    elsewhere_loyal = 1 - mrds_loyal\n",
    "    elsewhere_others = 1 - mrds_others\n",
    "    go_to_mrds = 100 * loyal * mrds_loyal + 100 * others * mrds_others\n",
    "    go_elsewhere = 100 * loyal * elsewhere_loyal + 100 * others * elsewhere_others\n",
    "    spending = go_to_mrds * average_spending\n",
    "    profit = spending * profit_margin - cost_of_program * 100 * average_spending * loyal * mrds_loyal\n",
    "    return profit"
   ]
  },
  {
   "cell_type": "code",
   "execution_count": 91,
   "id": "ae8cc1b4",
   "metadata": {},
   "outputs": [
    {
     "data": {
      "text/plain": [
       "186.0"
      ]
     },
     "execution_count": 91,
     "metadata": {},
     "output_type": "execute_result"
    }
   ],
   "source": [
    "profit # base case profit"
   ]
  },
  {
   "cell_type": "code",
   "execution_count": 105,
   "id": "6a59ac81",
   "metadata": {},
   "outputs": [
    {
     "data": {
      "text/plain": [
       "-36.0"
      ]
     },
     "execution_count": 105,
     "metadata": {},
     "output_type": "execute_result"
    }
   ],
   "source": [
    "params = {\n",
    "    'loyal': 0.30,\n",
    "    'mrds_loyal': 0.80,\n",
    "    'mrds_others': 0.1,\n",
    "    'average_spending': 150,\n",
    "    'profit_margin': 0.04,\n",
    "    'cost_of_program': 0.01    \n",
    "}\n",
    "get_profit(**params) - profit"
   ]
  },
  {
   "cell_type": "code",
   "execution_count": 131,
   "id": "42ed332b",
   "metadata": {},
   "outputs": [],
   "source": [
    "time_loyal_range = np.arange(.82, .92, .02)\n",
    "loyal_range = np.arange(.32, .44, .02)\n",
    "df = pd.DataFrame(np.array([[get_profit(**{**params,\n",
    "                                           'loyal': loyal,\n",
    "                                           'mrds_loyal': time_loyal})\n",
    "                for time_loyal in time_loyal_range] for loyal in loyal_range]) - profit,\n",
    "                index=loyal_range, columns=time_loyal_range)"
   ]
  },
  {
   "cell_type": "code",
   "execution_count": 112,
   "id": "bd841236",
   "metadata": {},
   "outputs": [],
   "source": [
    "def color_positive(val):\n",
    "    color = 'red' if val > 0 else 'black'\n",
    "    return 'color: %s' % color"
   ]
  },
  {
   "cell_type": "code",
   "execution_count": 132,
   "id": "a9f57a10",
   "metadata": {},
   "outputs": [
    {
     "data": {
      "text/html": [
       "<style  type=\"text/css\" >\n",
       "#T_d9b0a_row0_col0,#T_d9b0a_row0_col1,#T_d9b0a_row0_col2,#T_d9b0a_row0_col3,#T_d9b0a_row0_col4,#T_d9b0a_row0_col5,#T_d9b0a_row1_col0,#T_d9b0a_row1_col1,#T_d9b0a_row1_col2,#T_d9b0a_row1_col3,#T_d9b0a_row1_col4,#T_d9b0a_row1_col5,#T_d9b0a_row2_col0,#T_d9b0a_row2_col1,#T_d9b0a_row2_col2,#T_d9b0a_row2_col3,#T_d9b0a_row2_col4,#T_d9b0a_row3_col0,#T_d9b0a_row3_col1,#T_d9b0a_row3_col2,#T_d9b0a_row4_col0{\n",
       "            color:  black;\n",
       "        }#T_d9b0a_row2_col5,#T_d9b0a_row3_col3,#T_d9b0a_row3_col4,#T_d9b0a_row3_col5,#T_d9b0a_row4_col1,#T_d9b0a_row4_col2,#T_d9b0a_row4_col3,#T_d9b0a_row4_col4,#T_d9b0a_row4_col5,#T_d9b0a_row5_col0,#T_d9b0a_row5_col1,#T_d9b0a_row5_col2,#T_d9b0a_row5_col3,#T_d9b0a_row5_col4,#T_d9b0a_row5_col5{\n",
       "            color:  red;\n",
       "        }</style><table id=\"T_d9b0a_\" ><thead>    <tr>        <th class=\"blank level0\" ></th>        <th class=\"col_heading level0 col0\" >0.82</th>        <th class=\"col_heading level0 col1\" >0.84</th>        <th class=\"col_heading level0 col2\" >0.86</th>        <th class=\"col_heading level0 col3\" >0.88</th>        <th class=\"col_heading level0 col4\" >0.9</th>        <th class=\"col_heading level0 col5\" >0.92</th>    </tr></thead><tbody>\n",
       "                <tr>\n",
       "                        <th id=\"T_d9b0a_level0_row0\" class=\"row_heading level0 row0\" >0.32</th>\n",
       "                        <td id=\"T_d9b0a_row0_col0\" class=\"data row0 col0\" >-27.12</td>\n",
       "                        <td id=\"T_d9b0a_row0_col1\" class=\"data row0 col1\" >-24.24</td>\n",
       "                        <td id=\"T_d9b0a_row0_col2\" class=\"data row0 col2\" >-21.36</td>\n",
       "                        <td id=\"T_d9b0a_row0_col3\" class=\"data row0 col3\" >-18.48</td>\n",
       "                        <td id=\"T_d9b0a_row0_col4\" class=\"data row0 col4\" >-15.60</td>\n",
       "                        <td id=\"T_d9b0a_row0_col5\" class=\"data row0 col5\" >-12.72</td>\n",
       "            </tr>\n",
       "            <tr>\n",
       "                        <th id=\"T_d9b0a_level0_row1\" class=\"row_heading level0 row1\" >0.34</th>\n",
       "                        <td id=\"T_d9b0a_row1_col0\" class=\"data row1 col0\" >-20.94</td>\n",
       "                        <td id=\"T_d9b0a_row1_col1\" class=\"data row1 col1\" >-17.88</td>\n",
       "                        <td id=\"T_d9b0a_row1_col2\" class=\"data row1 col2\" >-14.82</td>\n",
       "                        <td id=\"T_d9b0a_row1_col3\" class=\"data row1 col3\" >-11.76</td>\n",
       "                        <td id=\"T_d9b0a_row1_col4\" class=\"data row1 col4\" >-8.70</td>\n",
       "                        <td id=\"T_d9b0a_row1_col5\" class=\"data row1 col5\" >-5.64</td>\n",
       "            </tr>\n",
       "            <tr>\n",
       "                        <th id=\"T_d9b0a_level0_row2\" class=\"row_heading level0 row2\" >0.36</th>\n",
       "                        <td id=\"T_d9b0a_row2_col0\" class=\"data row2 col0\" >-14.76</td>\n",
       "                        <td id=\"T_d9b0a_row2_col1\" class=\"data row2 col1\" >-11.52</td>\n",
       "                        <td id=\"T_d9b0a_row2_col2\" class=\"data row2 col2\" >-8.28</td>\n",
       "                        <td id=\"T_d9b0a_row2_col3\" class=\"data row2 col3\" >-5.04</td>\n",
       "                        <td id=\"T_d9b0a_row2_col4\" class=\"data row2 col4\" >-1.80</td>\n",
       "                        <td id=\"T_d9b0a_row2_col5\" class=\"data row2 col5\" >1.44</td>\n",
       "            </tr>\n",
       "            <tr>\n",
       "                        <th id=\"T_d9b0a_level0_row3\" class=\"row_heading level0 row3\" >0.38</th>\n",
       "                        <td id=\"T_d9b0a_row3_col0\" class=\"data row3 col0\" >-8.58</td>\n",
       "                        <td id=\"T_d9b0a_row3_col1\" class=\"data row3 col1\" >-5.16</td>\n",
       "                        <td id=\"T_d9b0a_row3_col2\" class=\"data row3 col2\" >-1.74</td>\n",
       "                        <td id=\"T_d9b0a_row3_col3\" class=\"data row3 col3\" >1.68</td>\n",
       "                        <td id=\"T_d9b0a_row3_col4\" class=\"data row3 col4\" >5.10</td>\n",
       "                        <td id=\"T_d9b0a_row3_col5\" class=\"data row3 col5\" >8.52</td>\n",
       "            </tr>\n",
       "            <tr>\n",
       "                        <th id=\"T_d9b0a_level0_row4\" class=\"row_heading level0 row4\" >0.4</th>\n",
       "                        <td id=\"T_d9b0a_row4_col0\" class=\"data row4 col0\" >-2.40</td>\n",
       "                        <td id=\"T_d9b0a_row4_col1\" class=\"data row4 col1\" >1.20</td>\n",
       "                        <td id=\"T_d9b0a_row4_col2\" class=\"data row4 col2\" >4.80</td>\n",
       "                        <td id=\"T_d9b0a_row4_col3\" class=\"data row4 col3\" >8.40</td>\n",
       "                        <td id=\"T_d9b0a_row4_col4\" class=\"data row4 col4\" >12.00</td>\n",
       "                        <td id=\"T_d9b0a_row4_col5\" class=\"data row4 col5\" >15.60</td>\n",
       "            </tr>\n",
       "            <tr>\n",
       "                        <th id=\"T_d9b0a_level0_row5\" class=\"row_heading level0 row5\" >0.42</th>\n",
       "                        <td id=\"T_d9b0a_row5_col0\" class=\"data row5 col0\" >3.78</td>\n",
       "                        <td id=\"T_d9b0a_row5_col1\" class=\"data row5 col1\" >7.56</td>\n",
       "                        <td id=\"T_d9b0a_row5_col2\" class=\"data row5 col2\" >11.34</td>\n",
       "                        <td id=\"T_d9b0a_row5_col3\" class=\"data row5 col3\" >15.12</td>\n",
       "                        <td id=\"T_d9b0a_row5_col4\" class=\"data row5 col4\" >18.90</td>\n",
       "                        <td id=\"T_d9b0a_row5_col5\" class=\"data row5 col5\" >22.68</td>\n",
       "            </tr>\n",
       "    </tbody></table>"
      ],
      "text/plain": [
       "<pandas.io.formats.style.Styler at 0x7fa02ac97280>"
      ]
     },
     "execution_count": 132,
     "metadata": {},
     "output_type": "execute_result"
    }
   ],
   "source": [
    "df.index = np.round(df.index, 2)\n",
    "df.style.format('{:.2f}').applymap(color_positive) # higlighted outcomes result in increased profits with card"
   ]
  },
  {
   "cell_type": "code",
   "execution_count": 134,
   "id": "29a2a1aa",
   "metadata": {},
   "outputs": [],
   "source": [
    "params['profit_margin'] *= 2 # CA cards 8% margins\n",
    "\n",
    "df = pd.DataFrame(np.array([[get_profit(**{**params,\n",
    "                                           'loyal': loyal,\n",
    "                                           'mrds_loyal': time_loyal})\n",
    "                for time_loyal in time_loyal_range] for loyal in loyal_range]) - profit,\n",
    "                index=loyal_range, columns=time_loyal_range)"
   ]
  },
  {
   "cell_type": "code",
   "execution_count": 135,
   "id": "b9786521",
   "metadata": {},
   "outputs": [
    {
     "data": {
      "text/html": [
       "<style  type=\"text/css\" >\n",
       "#T_26b0f_row0_col0,#T_26b0f_row0_col1,#T_26b0f_row0_col2,#T_26b0f_row0_col3,#T_26b0f_row0_col4,#T_26b0f_row0_col5,#T_26b0f_row1_col0,#T_26b0f_row1_col1,#T_26b0f_row1_col2,#T_26b0f_row1_col3,#T_26b0f_row1_col4,#T_26b0f_row1_col5,#T_26b0f_row2_col0,#T_26b0f_row2_col1,#T_26b0f_row2_col2,#T_26b0f_row2_col3,#T_26b0f_row2_col4,#T_26b0f_row2_col5,#T_26b0f_row3_col0,#T_26b0f_row3_col1,#T_26b0f_row3_col2,#T_26b0f_row3_col3,#T_26b0f_row3_col4,#T_26b0f_row3_col5,#T_26b0f_row4_col0,#T_26b0f_row4_col1,#T_26b0f_row4_col2,#T_26b0f_row4_col3,#T_26b0f_row4_col4,#T_26b0f_row4_col5,#T_26b0f_row5_col0,#T_26b0f_row5_col1,#T_26b0f_row5_col2,#T_26b0f_row5_col3,#T_26b0f_row5_col4,#T_26b0f_row5_col5{\n",
       "            color:  red;\n",
       "        }</style><table id=\"T_26b0f_\" ><thead>    <tr>        <th class=\"blank level0\" ></th>        <th class=\"col_heading level0 col0\" >0.82</th>        <th class=\"col_heading level0 col1\" >0.84</th>        <th class=\"col_heading level0 col2\" >0.86</th>        <th class=\"col_heading level0 col3\" >0.88</th>        <th class=\"col_heading level0 col4\" >0.9</th>        <th class=\"col_heading level0 col5\" >0.92</th>    </tr></thead><tbody>\n",
       "                <tr>\n",
       "                        <th id=\"T_26b0f_level0_row0\" class=\"row_heading level0 row0\" >0.32</th>\n",
       "                        <td id=\"T_26b0f_row0_col0\" class=\"data row0 col0\" >171.12</td>\n",
       "                        <td id=\"T_26b0f_row0_col1\" class=\"data row0 col1\" >177.84</td>\n",
       "                        <td id=\"T_26b0f_row0_col2\" class=\"data row0 col2\" >184.56</td>\n",
       "                        <td id=\"T_26b0f_row0_col3\" class=\"data row0 col3\" >191.28</td>\n",
       "                        <td id=\"T_26b0f_row0_col4\" class=\"data row0 col4\" >198.00</td>\n",
       "                        <td id=\"T_26b0f_row0_col5\" class=\"data row0 col5\" >204.72</td>\n",
       "            </tr>\n",
       "            <tr>\n",
       "                        <th id=\"T_26b0f_level0_row1\" class=\"row_heading level0 row1\" >0.34</th>\n",
       "                        <td id=\"T_26b0f_row1_col0\" class=\"data row1 col0\" >185.94</td>\n",
       "                        <td id=\"T_26b0f_row1_col1\" class=\"data row1 col1\" >193.08</td>\n",
       "                        <td id=\"T_26b0f_row1_col2\" class=\"data row1 col2\" >200.22</td>\n",
       "                        <td id=\"T_26b0f_row1_col3\" class=\"data row1 col3\" >207.36</td>\n",
       "                        <td id=\"T_26b0f_row1_col4\" class=\"data row1 col4\" >214.50</td>\n",
       "                        <td id=\"T_26b0f_row1_col5\" class=\"data row1 col5\" >221.64</td>\n",
       "            </tr>\n",
       "            <tr>\n",
       "                        <th id=\"T_26b0f_level0_row2\" class=\"row_heading level0 row2\" >0.36</th>\n",
       "                        <td id=\"T_26b0f_row2_col0\" class=\"data row2 col0\" >200.76</td>\n",
       "                        <td id=\"T_26b0f_row2_col1\" class=\"data row2 col1\" >208.32</td>\n",
       "                        <td id=\"T_26b0f_row2_col2\" class=\"data row2 col2\" >215.88</td>\n",
       "                        <td id=\"T_26b0f_row2_col3\" class=\"data row2 col3\" >223.44</td>\n",
       "                        <td id=\"T_26b0f_row2_col4\" class=\"data row2 col4\" >231.00</td>\n",
       "                        <td id=\"T_26b0f_row2_col5\" class=\"data row2 col5\" >238.56</td>\n",
       "            </tr>\n",
       "            <tr>\n",
       "                        <th id=\"T_26b0f_level0_row3\" class=\"row_heading level0 row3\" >0.38</th>\n",
       "                        <td id=\"T_26b0f_row3_col0\" class=\"data row3 col0\" >215.58</td>\n",
       "                        <td id=\"T_26b0f_row3_col1\" class=\"data row3 col1\" >223.56</td>\n",
       "                        <td id=\"T_26b0f_row3_col2\" class=\"data row3 col2\" >231.54</td>\n",
       "                        <td id=\"T_26b0f_row3_col3\" class=\"data row3 col3\" >239.52</td>\n",
       "                        <td id=\"T_26b0f_row3_col4\" class=\"data row3 col4\" >247.50</td>\n",
       "                        <td id=\"T_26b0f_row3_col5\" class=\"data row3 col5\" >255.48</td>\n",
       "            </tr>\n",
       "            <tr>\n",
       "                        <th id=\"T_26b0f_level0_row4\" class=\"row_heading level0 row4\" >0.4</th>\n",
       "                        <td id=\"T_26b0f_row4_col0\" class=\"data row4 col0\" >230.40</td>\n",
       "                        <td id=\"T_26b0f_row4_col1\" class=\"data row4 col1\" >238.80</td>\n",
       "                        <td id=\"T_26b0f_row4_col2\" class=\"data row4 col2\" >247.20</td>\n",
       "                        <td id=\"T_26b0f_row4_col3\" class=\"data row4 col3\" >255.60</td>\n",
       "                        <td id=\"T_26b0f_row4_col4\" class=\"data row4 col4\" >264.00</td>\n",
       "                        <td id=\"T_26b0f_row4_col5\" class=\"data row4 col5\" >272.40</td>\n",
       "            </tr>\n",
       "            <tr>\n",
       "                        <th id=\"T_26b0f_level0_row5\" class=\"row_heading level0 row5\" >0.42</th>\n",
       "                        <td id=\"T_26b0f_row5_col0\" class=\"data row5 col0\" >245.22</td>\n",
       "                        <td id=\"T_26b0f_row5_col1\" class=\"data row5 col1\" >254.04</td>\n",
       "                        <td id=\"T_26b0f_row5_col2\" class=\"data row5 col2\" >262.86</td>\n",
       "                        <td id=\"T_26b0f_row5_col3\" class=\"data row5 col3\" >271.68</td>\n",
       "                        <td id=\"T_26b0f_row5_col4\" class=\"data row5 col4\" >280.50</td>\n",
       "                        <td id=\"T_26b0f_row5_col5\" class=\"data row5 col5\" >289.32</td>\n",
       "            </tr>\n",
       "    </tbody></table>"
      ],
      "text/plain": [
       "<pandas.io.formats.style.Styler at 0x7fa02acac820>"
      ]
     },
     "execution_count": 135,
     "metadata": {},
     "output_type": "execute_result"
    }
   ],
   "source": [
    "df.index = np.round(df.index, 2)\n",
    "df.style.format('{:.2f}').applymap(color_positive)"
   ]
  },
  {
   "cell_type": "markdown",
   "id": "12d8005a",
   "metadata": {},
   "source": [
    "С 8% маржой карта клиента выглядит как хорошая идея. С маржой 4% такой уверенности нет."
   ]
  }
 ],
 "metadata": {
  "kernelspec": {
   "display_name": "Python 3",
   "language": "python",
   "name": "python3"
  },
  "language_info": {
   "codemirror_mode": {
    "name": "ipython",
    "version": 3
   },
   "file_extension": ".py",
   "mimetype": "text/x-python",
   "name": "python",
   "nbconvert_exporter": "python",
   "pygments_lexer": "ipython3",
   "version": "3.8.3"
  }
 },
 "nbformat": 4,
 "nbformat_minor": 5
}
