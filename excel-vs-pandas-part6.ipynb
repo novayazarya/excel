{
 "cells": [
  {
   "cell_type": "code",
   "execution_count": 1,
   "id": "e8f03d07",
   "metadata": {},
   "outputs": [],
   "source": [
    "import pandas as pd\n",
    "import numpy as np\n",
    "import matplotlib.pyplot as plt\n",
    "import seaborn as sns\n",
    "\n",
    "from IPython.display import display, HTML\n",
    "\n",
    "import warnings \n",
    "warnings.simplefilter(\"ignore\")"
   ]
  },
  {
   "cell_type": "markdown",
   "id": "034d52df",
   "metadata": {},
   "source": [
    "# Введение в моделирование по методу Монте-Карло\n",
    "\n",
    "Аналитикам данных часто требуется точно оценить вероятность неопределенных событий. Например, какова вероятность того, что денежные потоки для нового продукта будут демонстрировать положительную чистую приведенную стоимость (ЧПС)? Каков фактор риска инвестиционного портфеля? Метод Монте-Карло позволяет моделировать ситуации, проявляющие неопределенность, и затем воспроизводить их на компьютере тысячи раз.\n",
    "\n",
    ">Термин \"моделирование по методу Монте-Карло\" пришел из моделирования на вычислительных машинах, выполнявшегося в 1930-х и 1940-х годах для оценки вероятности успешной цепной реакции, необходимой для взрыва атомной бомбы. Физики, принимавшие участие в этих работах, были большими поклонниками азартных игр, поэтому метод моделирования получил кодовое название Монте-Карло.\n",
    "\n",
    "### Где применяется моделирование по методу Монте-Карло?\n",
    "Во многих компаниях моделирование по методу Монте-Карло является важной частью процесса принятия решений. \n",
    "\n",
    "- Компания General Motors, например, моделирует для корпорации прогноз по чистой прибыли, по структурным затратам и затратам на приобретение, а также по чувствительности к различным видам риска (таким как изменения процентных ставок и колебания обменного курса).\n",
    "- Компания Lilly с помощью моделирования определяет оптимальную производственную мощность для каждого лекарственного препарата.\n",
    "- Компания Proctor&Gamble с помощью метода Монте-Карло моделирует и оптимально хеджирует валютные риски.\n",
    "- Компания Sears с помощью моделирования определяет, сколько единиц продукции из каждой товарной линии необходимо заказать у поставщиков, например, количество брюк Dockers на этот год.\n",
    "- Нефтяные и фармацевтические компании моделируют оценку реальных возможностей, например, оценку возможности расширения, заключения сделки или отсрочки проекта.\n",
    "- Специалисты по финансовому планированию с помощью моделирования по методу Монте-Карло определяют оптимальные инвестиционные стратегии для выхода на пенсию своих клиентов."
   ]
  },
  {
   "cell_type": "markdown",
   "id": "a40b4b57",
   "metadata": {},
   "source": [
    "***\n",
    "Автодилер считает, что спрос на модели 2015 г. распределяется по нормальному закону со средним значением 200 и стандартным отклонением 30. Он получает Envoy за 25 000 долларов и продает за 40 000 долларов. Половину автомобилей, не проданных по полной цене, можно продать по 30 000 долларов. Дилер рассматривает варианты заказа на 200, 220, 240, 269, 280 или 300 штук. Сколько автомобилей он должен заказать?"
   ]
  },
  {
   "cell_type": "code",
   "execution_count": 3,
   "id": "ee98afce",
   "metadata": {},
   "outputs": [],
   "source": [
    "from scipy.stats import norm"
   ]
  },
  {
   "cell_type": "code",
   "execution_count": 39,
   "id": "152b666c",
   "metadata": {},
   "outputs": [
    {
     "data": {
      "text/plain": [
       "226.93754957603227"
      ]
     },
     "execution_count": 39,
     "metadata": {},
     "output_type": "execute_result"
    }
   ],
   "source": [
    "np.random.seed(223)\n",
    "mean, sigma = 200, 30\n",
    "demand = norm.ppf(np.random.rand(), mean, sigma)"
   ]
  },
  {
   "cell_type": "code",
   "execution_count": 22,
   "id": "f28552ca",
   "metadata": {},
   "outputs": [],
   "source": [
    "unit_cost = 25000\n",
    "selling_price = 40000\n",
    "order_quantity = 240\n",
    "salvage_value = 30000"
   ]
  },
  {
   "cell_type": "code",
   "execution_count": 129,
   "id": "4c7215b1",
   "metadata": {},
   "outputs": [],
   "source": [
    "def dealer_profit(unit_cost, selling_price, order_quantity, salvage_value, demand):\n",
    "\n",
    "    order_cost = unit_cost * order_quantity\n",
    "    sales_revenue = min(order_quantity, demand) * selling_price\n",
    "    salvage_revenue = 0.5 * max(0, order_quantity - demand) * salvage_value\n",
    "    profit = sales_revenue + salvage_revenue - order_cost\n",
    "    return profit"
   ]
  },
  {
   "cell_type": "code",
   "execution_count": 130,
   "id": "be3f8880",
   "metadata": {},
   "outputs": [
    {
     "data": {
      "text/plain": [
       "975000.0"
      ]
     },
     "execution_count": 130,
     "metadata": {},
     "output_type": "execute_result"
    }
   ],
   "source": [
    "dealer_profit(unit_cost, selling_price, order_quantity, salvage_value, demand)"
   ]
  },
  {
   "cell_type": "code",
   "execution_count": 124,
   "id": "a7822d82",
   "metadata": {},
   "outputs": [],
   "source": [
    "demand_simulations = norm.rvs(mean, sigma, size=1000) #np.around(np.random.normal(mean, sigma, 1000))"
   ]
  },
  {
   "cell_type": "code",
   "execution_count": 50,
   "id": "1048c609",
   "metadata": {},
   "outputs": [],
   "source": [
    "order_values = range(200, 320, 20)"
   ]
  },
  {
   "cell_type": "code",
   "execution_count": 131,
   "id": "3f97d313",
   "metadata": {},
   "outputs": [],
   "source": [
    "simulations = []\n",
    "for order_quantity in order_values:\n",
    "        simulation = pd.Series([dealer_profit(unit_cost, selling_price, order_quantity, salvage_value, demand)\n",
    "                                          for demand in demand_simulations])\n",
    "        simulations.append(simulation)"
   ]
  },
  {
   "cell_type": "code",
   "execution_count": 132,
   "id": "38b9f576",
   "metadata": {},
   "outputs": [],
   "source": [
    "profit_sim = pd.concat(simulations, axis=1)\n",
    "profit_sim.columns = list(order_values)"
   ]
  },
  {
   "cell_type": "code",
   "execution_count": 133,
   "id": "dd54a86c",
   "metadata": {},
   "outputs": [
    {
     "data": {
      "text/html": [
       "<div>\n",
       "<style scoped>\n",
       "    .dataframe tbody tr th:only-of-type {\n",
       "        vertical-align: middle;\n",
       "    }\n",
       "\n",
       "    .dataframe tbody tr th {\n",
       "        vertical-align: top;\n",
       "    }\n",
       "\n",
       "    .dataframe thead th {\n",
       "        text-align: right;\n",
       "    }\n",
       "</style>\n",
       "<table border=\"1\" class=\"dataframe\">\n",
       "  <thead>\n",
       "    <tr style=\"text-align: right;\">\n",
       "      <th></th>\n",
       "      <th>200</th>\n",
       "      <th>220</th>\n",
       "      <th>240</th>\n",
       "      <th>260</th>\n",
       "      <th>280</th>\n",
       "      <th>300</th>\n",
       "    </tr>\n",
       "  </thead>\n",
       "  <tbody>\n",
       "    <tr>\n",
       "      <th>count</th>\n",
       "      <td>1.000000e+03</td>\n",
       "      <td>1.000000e+03</td>\n",
       "      <td>1.000000e+03</td>\n",
       "      <td>1.000000e+03</td>\n",
       "      <td>1.000000e+03</td>\n",
       "      <td>1.000000e+03</td>\n",
       "    </tr>\n",
       "    <tr>\n",
       "      <th>mean</th>\n",
       "      <td>2.679017e+06</td>\n",
       "      <td>2.659704e+06</td>\n",
       "      <td>2.539652e+06</td>\n",
       "      <td>2.365853e+06</td>\n",
       "      <td>2.171671e+06</td>\n",
       "      <td>1.972288e+06</td>\n",
       "    </tr>\n",
       "    <tr>\n",
       "      <th>std</th>\n",
       "      <td>4.658315e+05</td>\n",
       "      <td>6.170832e+05</td>\n",
       "      <td>7.144858e+05</td>\n",
       "      <td>7.585764e+05</td>\n",
       "      <td>7.715531e+05</td>\n",
       "      <td>7.732465e+05</td>\n",
       "    </tr>\n",
       "    <tr>\n",
       "      <th>min</th>\n",
       "      <td>7.016339e+05</td>\n",
       "      <td>5.016339e+05</td>\n",
       "      <td>3.016339e+05</td>\n",
       "      <td>1.016339e+05</td>\n",
       "      <td>-9.836610e+04</td>\n",
       "      <td>-2.983661e+05</td>\n",
       "    </tr>\n",
       "    <tr>\n",
       "      <th>25%</th>\n",
       "      <td>2.478169e+06</td>\n",
       "      <td>2.278169e+06</td>\n",
       "      <td>2.078169e+06</td>\n",
       "      <td>1.878169e+06</td>\n",
       "      <td>1.678169e+06</td>\n",
       "      <td>1.478169e+06</td>\n",
       "    </tr>\n",
       "    <tr>\n",
       "      <th>50%</th>\n",
       "      <td>2.973209e+06</td>\n",
       "      <td>2.773209e+06</td>\n",
       "      <td>2.573209e+06</td>\n",
       "      <td>2.373209e+06</td>\n",
       "      <td>2.173209e+06</td>\n",
       "      <td>1.973209e+06</td>\n",
       "    </tr>\n",
       "    <tr>\n",
       "      <th>75%</th>\n",
       "      <td>3.000000e+06</td>\n",
       "      <td>3.293332e+06</td>\n",
       "      <td>3.093332e+06</td>\n",
       "      <td>2.893332e+06</td>\n",
       "      <td>2.693332e+06</td>\n",
       "      <td>2.493332e+06</td>\n",
       "    </tr>\n",
       "    <tr>\n",
       "      <th>max</th>\n",
       "      <td>3.000000e+06</td>\n",
       "      <td>3.300000e+06</td>\n",
       "      <td>3.600000e+06</td>\n",
       "      <td>3.900000e+06</td>\n",
       "      <td>4.200000e+06</td>\n",
       "      <td>4.250365e+06</td>\n",
       "    </tr>\n",
       "  </tbody>\n",
       "</table>\n",
       "</div>"
      ],
      "text/plain": [
       "                200           220           240           260           280  \\\n",
       "count  1.000000e+03  1.000000e+03  1.000000e+03  1.000000e+03  1.000000e+03   \n",
       "mean   2.679017e+06  2.659704e+06  2.539652e+06  2.365853e+06  2.171671e+06   \n",
       "std    4.658315e+05  6.170832e+05  7.144858e+05  7.585764e+05  7.715531e+05   \n",
       "min    7.016339e+05  5.016339e+05  3.016339e+05  1.016339e+05 -9.836610e+04   \n",
       "25%    2.478169e+06  2.278169e+06  2.078169e+06  1.878169e+06  1.678169e+06   \n",
       "50%    2.973209e+06  2.773209e+06  2.573209e+06  2.373209e+06  2.173209e+06   \n",
       "75%    3.000000e+06  3.293332e+06  3.093332e+06  2.893332e+06  2.693332e+06   \n",
       "max    3.000000e+06  3.300000e+06  3.600000e+06  3.900000e+06  4.200000e+06   \n",
       "\n",
       "                300  \n",
       "count  1.000000e+03  \n",
       "mean   1.972288e+06  \n",
       "std    7.732465e+05  \n",
       "min   -2.983661e+05  \n",
       "25%    1.478169e+06  \n",
       "50%    1.973209e+06  \n",
       "75%    2.493332e+06  \n",
       "max    4.250365e+06  "
      ]
     },
     "execution_count": 133,
     "metadata": {},
     "output_type": "execute_result"
    }
   ],
   "source": [
    "profit_sim.describe()"
   ]
  },
  {
   "cell_type": "markdown",
   "id": "19d58451",
   "metadata": {},
   "source": [
    "У 200 меньше риска (меньше стандартное отклонение), поэтому лучше заказать 200 машин. Похоже, 200 или 220 — два лучших варианта"
   ]
  },
  {
   "cell_type": "markdown",
   "id": "a4e8ba04",
   "metadata": {},
   "source": [
    "***\n",
    "Небольшой супермаркет пытается определить, сколько экземпляров журнала \"People\" необходимо заказывать каждую неделю. Владелец считает, что спрос на журнал соответствует дискретной случайной величине\n",
    "\n",
    "|Спрос|Вероятность|\n",
    "|--|--|\n",
    "|15|0.10|\n",
    "|20|0.20|\n",
    "|25|0.30|\n",
    "|30|0.25|\n",
    "|35|0.15|\n",
    "\n",
    "Супермаркет платит за каждый экземпляр журнала 1,00 доллар и продает его за 1,95. Каждый непроданный экземпляр может быть возвращен за 0,50 доллара. Сколько экземпляров журнала еженедельно должен заказывать магазин?"
   ]
  }
 ],
 "metadata": {
  "kernelspec": {
   "display_name": "Python 3",
   "language": "python",
   "name": "python3"
  },
  "language_info": {
   "codemirror_mode": {
    "name": "ipython",
    "version": 3
   },
   "file_extension": ".py",
   "mimetype": "text/x-python",
   "name": "python",
   "nbconvert_exporter": "python",
   "pygments_lexer": "ipython3",
   "version": "3.8.3"
  }
 },
 "nbformat": 4,
 "nbformat_minor": 5
}
