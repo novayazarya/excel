{
 "cells": [
  {
   "cell_type": "code",
   "execution_count": 1,
   "id": "904b4fda",
   "metadata": {},
   "outputs": [],
   "source": [
    "import pandas as pd\n",
    "import numpy as np\n",
    "import matplotlib.pyplot as plt\n",
    "import seaborn as sns\n",
    "\n",
    "from IPython.display import display, HTML\n",
    "\n",
    "import warnings \n",
    "warnings.simplefilter(\"ignore\")"
   ]
  },
  {
   "cell_type": "markdown",
   "id": "7d627861",
   "metadata": {},
   "source": [
    "# Введение в моделирование по методу Монте-Карло\n",
    "\n",
    "Аналитикам данных часто требуется точно оценить вероятность неопределенных событий. Например, какова вероятность того, что денежные потоки для нового продукта будут демонстрировать положительную чистую приведенную стоимость (ЧПС)? Каков фактор риска инвестиционного портфеля? Метод Монте-Карло позволяет моделировать ситуации, проявляющие неопределенность, и затем воспроизводить их на компьютере тысячи раз.\n",
    "\n",
    ">Термин \"моделирование по методу Монте-Карло\" пришел из моделирования на вычислительных машинах, выполнявшегося в 1930-х и 1940-х годах для оценки вероятности успешной цепной реакции, необходимой для взрыва атомной бомбы. Физики, принимавшие участие в этих работах, были большими поклонниками азартных игр, поэтому метод моделирования получил кодовое название Монте-Карло.\n",
    "\n",
    "### Где применяется моделирование по методу Монте-Карло?\n",
    "Во многих компаниях моделирование по методу Монте-Карло является важной частью процесса принятия решений. \n",
    "\n",
    "- Компания General Motors, например, моделирует для корпорации прогноз по чистой прибыли, по структурным затратам и затратам на приобретение, а также по чувствительности к различным видам риска (таким как изменения процентных ставок и колебания обменного курса).\n",
    "- Компания Lilly с помощью моделирования определяет оптимальную производственную мощность для каждого лекарственного препарата.\n",
    "- Компания Proctor&Gamble с помощью метода Монте-Карло моделирует и оптимально хеджирует валютные риски.\n",
    "- Компания Sears с помощью моделирования определяет, сколько единиц продукции из каждой товарной линии необходимо заказать у поставщиков, например, количество брюк Dockers на этот год.\n",
    "- Нефтяные и фармацевтические компании моделируют оценку реальных возможностей, например, оценку возможности расширения, заключения сделки или отсрочки проекта.\n",
    "- Специалисты по финансовому планированию с помощью моделирования по методу Монте-Карло определяют оптимальные инвестиционные стратегии для выхода на пенсию своих клиентов."
   ]
  },
  {
   "cell_type": "markdown",
   "id": "500b428f",
   "metadata": {},
   "source": [
    "***\n",
    "Автодилер считает, что спрос на модели 2015 г. распределяется по нормальному закону со средним значением 200 и стандартным отклонением 30. Он получает Envoy за 25 000 долларов и продает за 40 000 долларов. Половину автомобилей, не проданных по полной цене, можно продать по 30 000 долларов. Дилер рассматривает варианты заказа на 200, 220, 240, 269, 280 или 300 штук. Сколько автомобилей он должен заказать?"
   ]
  },
  {
   "cell_type": "code",
   "execution_count": 3,
   "id": "15e1d49e",
   "metadata": {},
   "outputs": [],
   "source": [
    "from scipy.stats import norm"
   ]
  },
  {
   "cell_type": "code",
   "execution_count": 39,
   "id": "e0ebcbd2",
   "metadata": {},
   "outputs": [
    {
     "data": {
      "text/plain": [
       "226.93754957603227"
      ]
     },
     "execution_count": 39,
     "metadata": {},
     "output_type": "execute_result"
    }
   ],
   "source": [
    "np.random.seed(223)\n",
    "mean, sigma = 200, 30\n",
    "demand = norm.ppf(np.random.rand(), mean, sigma)"
   ]
  },
  {
   "cell_type": "code",
   "execution_count": 22,
   "id": "446d45f5",
   "metadata": {},
   "outputs": [],
   "source": [
    "unit_cost = 25000\n",
    "selling_price = 40000\n",
    "order_quantity = 240\n",
    "salvage_value = 30000"
   ]
  },
  {
   "cell_type": "code",
   "execution_count": 129,
   "id": "27584d13",
   "metadata": {},
   "outputs": [],
   "source": [
    "def dealer_profit(unit_cost, selling_price, order_quantity, salvage_value, demand):\n",
    "\n",
    "    order_cost = unit_cost * order_quantity\n",
    "    sales_revenue = min(order_quantity, demand) * selling_price\n",
    "    salvage_revenue = 0.5 * max(0, order_quantity - demand) * salvage_value\n",
    "    profit = sales_revenue + salvage_revenue - order_cost\n",
    "    return profit"
   ]
  },
  {
   "cell_type": "code",
   "execution_count": 130,
   "id": "81d10601",
   "metadata": {},
   "outputs": [
    {
     "data": {
      "text/plain": [
       "975000.0"
      ]
     },
     "execution_count": 130,
     "metadata": {},
     "output_type": "execute_result"
    }
   ],
   "source": [
    "dealer_profit(unit_cost, selling_price, order_quantity, salvage_value, demand)"
   ]
  },
  {
   "cell_type": "code",
   "execution_count": 124,
   "id": "4d73afc9",
   "metadata": {},
   "outputs": [],
   "source": [
    "demand_simulations = norm.rvs(mean, sigma, size=1000) #np.around(np.random.normal(mean, sigma, 1000))"
   ]
  },
  {
   "cell_type": "code",
   "execution_count": 50,
   "id": "4ec2fc8c",
   "metadata": {},
   "outputs": [],
   "source": [
    "order_values = range(200, 320, 20)"
   ]
  },
  {
   "cell_type": "code",
   "execution_count": 131,
   "id": "5717366a",
   "metadata": {},
   "outputs": [],
   "source": [
    "simulations = []\n",
    "for order_quantity in order_values:\n",
    "        simulation = pd.Series([dealer_profit(unit_cost, selling_price, order_quantity, salvage_value, demand)\n",
    "                                          for demand in demand_simulations])\n",
    "        simulations.append(simulation)"
   ]
  },
  {
   "cell_type": "code",
   "execution_count": 132,
   "id": "e5b42036",
   "metadata": {},
   "outputs": [],
   "source": [
    "profit_sim = pd.concat(simulations, axis=1)\n",
    "profit_sim.columns = list(order_values)"
   ]
  },
  {
   "cell_type": "code",
   "execution_count": 133,
   "id": "3773ac6f",
   "metadata": {},
   "outputs": [
    {
     "data": {
      "text/html": [
       "<div>\n",
       "<style scoped>\n",
       "    .dataframe tbody tr th:only-of-type {\n",
       "        vertical-align: middle;\n",
       "    }\n",
       "\n",
       "    .dataframe tbody tr th {\n",
       "        vertical-align: top;\n",
       "    }\n",
       "\n",
       "    .dataframe thead th {\n",
       "        text-align: right;\n",
       "    }\n",
       "</style>\n",
       "<table border=\"1\" class=\"dataframe\">\n",
       "  <thead>\n",
       "    <tr style=\"text-align: right;\">\n",
       "      <th></th>\n",
       "      <th>200</th>\n",
       "      <th>220</th>\n",
       "      <th>240</th>\n",
       "      <th>260</th>\n",
       "      <th>280</th>\n",
       "      <th>300</th>\n",
       "    </tr>\n",
       "  </thead>\n",
       "  <tbody>\n",
       "    <tr>\n",
       "      <th>count</th>\n",
       "      <td>1.000000e+03</td>\n",
       "      <td>1.000000e+03</td>\n",
       "      <td>1.000000e+03</td>\n",
       "      <td>1.000000e+03</td>\n",
       "      <td>1.000000e+03</td>\n",
       "      <td>1.000000e+03</td>\n",
       "    </tr>\n",
       "    <tr>\n",
       "      <th>mean</th>\n",
       "      <td>2.679017e+06</td>\n",
       "      <td>2.659704e+06</td>\n",
       "      <td>2.539652e+06</td>\n",
       "      <td>2.365853e+06</td>\n",
       "      <td>2.171671e+06</td>\n",
       "      <td>1.972288e+06</td>\n",
       "    </tr>\n",
       "    <tr>\n",
       "      <th>std</th>\n",
       "      <td>4.658315e+05</td>\n",
       "      <td>6.170832e+05</td>\n",
       "      <td>7.144858e+05</td>\n",
       "      <td>7.585764e+05</td>\n",
       "      <td>7.715531e+05</td>\n",
       "      <td>7.732465e+05</td>\n",
       "    </tr>\n",
       "    <tr>\n",
       "      <th>min</th>\n",
       "      <td>7.016339e+05</td>\n",
       "      <td>5.016339e+05</td>\n",
       "      <td>3.016339e+05</td>\n",
       "      <td>1.016339e+05</td>\n",
       "      <td>-9.836610e+04</td>\n",
       "      <td>-2.983661e+05</td>\n",
       "    </tr>\n",
       "    <tr>\n",
       "      <th>25%</th>\n",
       "      <td>2.478169e+06</td>\n",
       "      <td>2.278169e+06</td>\n",
       "      <td>2.078169e+06</td>\n",
       "      <td>1.878169e+06</td>\n",
       "      <td>1.678169e+06</td>\n",
       "      <td>1.478169e+06</td>\n",
       "    </tr>\n",
       "    <tr>\n",
       "      <th>50%</th>\n",
       "      <td>2.973209e+06</td>\n",
       "      <td>2.773209e+06</td>\n",
       "      <td>2.573209e+06</td>\n",
       "      <td>2.373209e+06</td>\n",
       "      <td>2.173209e+06</td>\n",
       "      <td>1.973209e+06</td>\n",
       "    </tr>\n",
       "    <tr>\n",
       "      <th>75%</th>\n",
       "      <td>3.000000e+06</td>\n",
       "      <td>3.293332e+06</td>\n",
       "      <td>3.093332e+06</td>\n",
       "      <td>2.893332e+06</td>\n",
       "      <td>2.693332e+06</td>\n",
       "      <td>2.493332e+06</td>\n",
       "    </tr>\n",
       "    <tr>\n",
       "      <th>max</th>\n",
       "      <td>3.000000e+06</td>\n",
       "      <td>3.300000e+06</td>\n",
       "      <td>3.600000e+06</td>\n",
       "      <td>3.900000e+06</td>\n",
       "      <td>4.200000e+06</td>\n",
       "      <td>4.250365e+06</td>\n",
       "    </tr>\n",
       "  </tbody>\n",
       "</table>\n",
       "</div>"
      ],
      "text/plain": [
       "                200           220           240           260           280  \\\n",
       "count  1.000000e+03  1.000000e+03  1.000000e+03  1.000000e+03  1.000000e+03   \n",
       "mean   2.679017e+06  2.659704e+06  2.539652e+06  2.365853e+06  2.171671e+06   \n",
       "std    4.658315e+05  6.170832e+05  7.144858e+05  7.585764e+05  7.715531e+05   \n",
       "min    7.016339e+05  5.016339e+05  3.016339e+05  1.016339e+05 -9.836610e+04   \n",
       "25%    2.478169e+06  2.278169e+06  2.078169e+06  1.878169e+06  1.678169e+06   \n",
       "50%    2.973209e+06  2.773209e+06  2.573209e+06  2.373209e+06  2.173209e+06   \n",
       "75%    3.000000e+06  3.293332e+06  3.093332e+06  2.893332e+06  2.693332e+06   \n",
       "max    3.000000e+06  3.300000e+06  3.600000e+06  3.900000e+06  4.200000e+06   \n",
       "\n",
       "                300  \n",
       "count  1.000000e+03  \n",
       "mean   1.972288e+06  \n",
       "std    7.732465e+05  \n",
       "min   -2.983661e+05  \n",
       "25%    1.478169e+06  \n",
       "50%    1.973209e+06  \n",
       "75%    2.493332e+06  \n",
       "max    4.250365e+06  "
      ]
     },
     "execution_count": 133,
     "metadata": {},
     "output_type": "execute_result"
    }
   ],
   "source": [
    "profit_sim.describe()"
   ]
  },
  {
   "cell_type": "markdown",
   "id": "784e6276",
   "metadata": {},
   "source": [
    "У 200 меньше риска (меньше стандартное отклонение), поэтому лучше заказать 200 машин. Похоже, 200 или 220 — два лучших варианта"
   ]
  },
  {
   "cell_type": "markdown",
   "id": "a40c150d",
   "metadata": {},
   "source": [
    "***\n",
    "Небольшой супермаркет пытается определить, сколько экземпляров журнала \"People\" необходимо заказывать каждую неделю. Владелец считает, что спрос на журнал соответствует дискретной случайной величине\n",
    "\n",
    "|Спрос|Вероятность|\n",
    "|--|--|\n",
    "|15|0.10|\n",
    "|20|0.20|\n",
    "|25|0.30|\n",
    "|30|0.25|\n",
    "|35|0.15|\n",
    "\n",
    "Супермаркет платит за каждый экземпляр журнала 1,00 доллар и продает его за 1,95. Каждый непроданный экземпляр может быть возвращен за 0,50 доллара. Сколько экземпляров журнала еженедельно должен заказывать магазин?"
   ]
  },
  {
   "cell_type": "code",
   "execution_count": 160,
   "id": "871c7b78",
   "metadata": {},
   "outputs": [
    {
     "data": {
      "text/html": [
       "<div>\n",
       "<style scoped>\n",
       "    .dataframe tbody tr th:only-of-type {\n",
       "        vertical-align: middle;\n",
       "    }\n",
       "\n",
       "    .dataframe tbody tr th {\n",
       "        vertical-align: top;\n",
       "    }\n",
       "\n",
       "    .dataframe thead th {\n",
       "        text-align: right;\n",
       "    }\n",
       "</style>\n",
       "<table border=\"1\" class=\"dataframe\">\n",
       "  <thead>\n",
       "    <tr style=\"text-align: right;\">\n",
       "      <th></th>\n",
       "      <th>prob</th>\n",
       "      <th>cum prob</th>\n",
       "      <th>demand</th>\n",
       "    </tr>\n",
       "  </thead>\n",
       "  <tbody>\n",
       "    <tr>\n",
       "      <th>0</th>\n",
       "      <td>0.10</td>\n",
       "      <td>0.00</td>\n",
       "      <td>15</td>\n",
       "    </tr>\n",
       "    <tr>\n",
       "      <th>1</th>\n",
       "      <td>0.20</td>\n",
       "      <td>0.10</td>\n",
       "      <td>20</td>\n",
       "    </tr>\n",
       "    <tr>\n",
       "      <th>2</th>\n",
       "      <td>0.30</td>\n",
       "      <td>0.30</td>\n",
       "      <td>25</td>\n",
       "    </tr>\n",
       "    <tr>\n",
       "      <th>3</th>\n",
       "      <td>0.25</td>\n",
       "      <td>0.60</td>\n",
       "      <td>30</td>\n",
       "    </tr>\n",
       "    <tr>\n",
       "      <th>4</th>\n",
       "      <td>0.15</td>\n",
       "      <td>0.85</td>\n",
       "      <td>35</td>\n",
       "    </tr>\n",
       "  </tbody>\n",
       "</table>\n",
       "</div>"
      ],
      "text/plain": [
       "   prob  cum prob  demand\n",
       "0  0.10      0.00      15\n",
       "1  0.20      0.10      20\n",
       "2  0.30      0.30      25\n",
       "3  0.25      0.60      30\n",
       "4  0.15      0.85      35"
      ]
     },
     "execution_count": 160,
     "metadata": {},
     "output_type": "execute_result"
    }
   ],
   "source": [
    "demands = pd.DataFrame({\n",
    "    'prob': (prob:= [.0, .1, .2, .3, .25, .15])[1:],\n",
    "    'cum prob': np.cumsum(prob)[:-1],\n",
    "    'demand': range(15, 40, 5)\n",
    "})\n",
    "demands"
   ]
  },
  {
   "cell_type": "code",
   "execution_count": 205,
   "id": "4b2cbf02",
   "metadata": {},
   "outputs": [],
   "source": [
    "order_quantity = 30\n",
    "unit_cost = 1\n",
    "selling_price = 1.95\n",
    "salvage_value = 0.5"
   ]
  },
  {
   "cell_type": "code",
   "execution_count": 299,
   "id": "f52643b1",
   "metadata": {},
   "outputs": [
    {
     "data": {
      "text/plain": [
       "0.6276289056415354"
      ]
     },
     "execution_count": 299,
     "metadata": {},
     "output_type": "execute_result"
    }
   ],
   "source": [
    "np.random.random()"
   ]
  },
  {
   "cell_type": "code",
   "execution_count": 365,
   "id": "008da308",
   "metadata": {},
   "outputs": [
    {
     "data": {
      "text/plain": [
       "30"
      ]
     },
     "execution_count": 365,
     "metadata": {},
     "output_type": "execute_result"
    }
   ],
   "source": [
    "demands[demands['cum prob'] >= min(np.random.random(), 0.85)]['demand'].iloc[0]"
   ]
  },
  {
   "cell_type": "code",
   "execution_count": 213,
   "id": "a4b8bc56",
   "metadata": {},
   "outputs": [
    {
     "data": {
      "text/plain": [
       "21.25"
      ]
     },
     "execution_count": 213,
     "metadata": {},
     "output_type": "execute_result"
    }
   ],
   "source": [
    "shop_profit(unit_cost, selling_price, order_quantity, salvage_value, 25)"
   ]
  },
  {
   "cell_type": "code",
   "execution_count": 169,
   "id": "0b68c914",
   "metadata": {},
   "outputs": [],
   "source": [
    "def shop_profit(unit_cost, selling_price, order_quantity, salvage_value, demand):\n",
    "\n",
    "    order_cost = unit_cost * order_quantity\n",
    "    sales_revenue = min(order_quantity, demand) * selling_price\n",
    "    salvage_revenue = max(0, order_quantity - demand) * salvage_value\n",
    "    profit = sales_revenue + salvage_revenue - order_cost\n",
    "    return profit"
   ]
  },
  {
   "cell_type": "code",
   "execution_count": 383,
   "id": "2ba5563a",
   "metadata": {},
   "outputs": [],
   "source": [
    "profit_sim = []\n",
    "\n",
    "for order_quantity in demands.demand:\n",
    "    simulations = []\n",
    "    \n",
    "    for _ in range(1000): \n",
    "        demand = demands[demands['cum prob'] >= min(np.random.random(), 0.85)]['demand'].iloc[0]\n",
    "        profit = shop_profit(unit_cost, selling_price, order_quantity, salvage_value, demand)\n",
    "        simulations.append(profit)\n",
    "    \n",
    "    profit_sim.append(simulations)                                                     "
   ]
  },
  {
   "cell_type": "code",
   "execution_count": 411,
   "id": "0300a7e8",
   "metadata": {},
   "outputs": [],
   "source": [
    "profit = pd.DataFrame(profit_sim).T\n",
    "profit.columns = demands.demand.to_list()"
   ]
  },
  {
   "cell_type": "code",
   "execution_count": 415,
   "id": "7fd44824",
   "metadata": {},
   "outputs": [
    {
     "data": {
      "text/html": [
       "<div>\n",
       "<style scoped>\n",
       "    .dataframe tbody tr th:only-of-type {\n",
       "        vertical-align: middle;\n",
       "    }\n",
       "\n",
       "    .dataframe tbody tr th {\n",
       "        vertical-align: top;\n",
       "    }\n",
       "\n",
       "    .dataframe thead th {\n",
       "        text-align: right;\n",
       "    }\n",
       "</style>\n",
       "<table border=\"1\" class=\"dataframe\">\n",
       "  <thead>\n",
       "    <tr style=\"text-align: right;\">\n",
       "      <th></th>\n",
       "      <th>15</th>\n",
       "      <th>20</th>\n",
       "      <th>25</th>\n",
       "      <th>30</th>\n",
       "      <th>35</th>\n",
       "    </tr>\n",
       "  </thead>\n",
       "  <tbody>\n",
       "    <tr>\n",
       "      <th>mean</th>\n",
       "      <td>14.25</td>\n",
       "      <td>19.0</td>\n",
       "      <td>23.075750</td>\n",
       "      <td>25.476750</td>\n",
       "      <td>25.942000</td>\n",
       "    </tr>\n",
       "    <tr>\n",
       "      <th>std</th>\n",
       "      <td>0.00</td>\n",
       "      <td>0.0</td>\n",
       "      <td>2.106689</td>\n",
       "      <td>4.989267</td>\n",
       "      <td>7.296789</td>\n",
       "    </tr>\n",
       "  </tbody>\n",
       "</table>\n",
       "</div>"
      ],
      "text/plain": [
       "         15    20         25         30         35\n",
       "mean  14.25  19.0  23.075750  25.476750  25.942000\n",
       "std    0.00   0.0   2.106689   4.989267   7.296789"
      ]
     },
     "execution_count": 415,
     "metadata": {},
     "output_type": "execute_result"
    }
   ],
   "source": [
    "profit.agg(['mean', 'std'])"
   ]
  },
  {
   "cell_type": "code",
   "execution_count": 423,
   "id": "bc1df7fa",
   "metadata": {},
   "outputs": [
    {
     "data": {
      "image/png": "[encoded data removed]",
      "text/plain": [
       "<Figure size 432x288 with 1 Axes>"
      ]
     },
     "metadata": {
      "needs_background": "light"
     },
     "output_type": "display_data"
    }
   ],
   "source": [
    "sns.boxplot(x=\"order quantity\", y=\"profit\",\n",
    "             data=pd.melt(profit, var_name='order quantity', value_name='profit'));"
   ]
  },
  {
   "cell_type": "markdown",
   "id": "a04a56d5",
   "metadata": {},
   "source": [
    "Ожидаемая максимальная выгода при заказе 30 журналов, так как выгода сопоставима с максимально большим заказом — 35 шт. при меньшем риске (стандартное отклонение ниже)."
   ]
  }
 ],
 "metadata": {
  "kernelspec": {
   "display_name": "Python 3",
   "language": "python",
   "name": "python3"
  },
  "language_info": {
   "codemirror_mode": {
    "name": "ipython",
    "version": 3
   },
   "file_extension": ".py",
   "mimetype": "text/x-python",
   "name": "python",
   "nbconvert_exporter": "python",
   "pygments_lexer": "ipython3",
   "version": "3.8.3"
  }
 },
 "nbformat": 4,
 "nbformat_minor": 5
}
