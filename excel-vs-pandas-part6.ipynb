{
 "cells": [
  {
   "cell_type": "code",
   "execution_count": 518,
   "id": "10d16ce2",
   "metadata": {},
   "outputs": [],
   "source": [
    "import pandas as pd\n",
    "import numpy as np\n",
    "import matplotlib.pyplot as plt\n",
    "import seaborn as sns\n",
    "from tqdm.auto import tqdm\n",
    "\n",
    "from IPython.display import display, HTML\n",
    "\n",
    "import warnings \n",
    "warnings.simplefilter(\"ignore\")"
   ]
  },
  {
   "cell_type": "markdown",
   "id": "78a887b0",
   "metadata": {},
   "source": [
    "# Введение в моделирование по методу Монте-Карло\n",
    "\n",
    "Аналитикам данных часто требуется точно оценить вероятность неопределенных событий. Например, какова вероятность того, что денежные потоки для нового продукта будут демонстрировать положительную чистую приведенную стоимость (ЧПС)? Каков фактор риска инвестиционного портфеля? Метод Монте-Карло позволяет моделировать ситуации, проявляющие неопределенность, и затем воспроизводить их на компьютере тысячи раз.\n",
    "\n",
    ">Термин \"моделирование по методу Монте-Карло\" пришел из моделирования на вычислительных машинах, выполнявшегося в 1930-х и 1940-х годах для оценки вероятности успешной цепной реакции, необходимой для взрыва атомной бомбы. Физики, принимавшие участие в этих работах, были большими поклонниками азартных игр, поэтому метод моделирования получил кодовое название Монте-Карло.\n",
    "\n",
    "### Где применяется моделирование по методу Монте-Карло?\n",
    "Во многих компаниях моделирование по методу Монте-Карло является важной частью процесса принятия решений. \n",
    "\n",
    "- Компания General Motors, например, моделирует для корпорации прогноз по чистой прибыли, по структурным затратам и затратам на приобретение, а также по чувствительности к различным видам риска (таким как изменения процентных ставок и колебания обменного курса).\n",
    "- Компания Lilly с помощью моделирования определяет оптимальную производственную мощность для каждого лекарственного препарата.\n",
    "- Компания Proctor&Gamble с помощью метода Монте-Карло моделирует и оптимально хеджирует валютные риски.\n",
    "- Компания Sears с помощью моделирования определяет, сколько единиц продукции из каждой товарной линии необходимо заказать у поставщиков, например, количество брюк Dockers на этот год.\n",
    "- Нефтяные и фармацевтические компании моделируют оценку реальных возможностей, например, оценку возможности расширения, заключения сделки или отсрочки проекта.\n",
    "- Специалисты по финансовому планированию с помощью моделирования по методу Монте-Карло определяют оптимальные инвестиционные стратегии для выхода на пенсию своих клиентов."
   ]
  },
  {
   "cell_type": "markdown",
   "id": "b0aec770",
   "metadata": {},
   "source": [
    "***\n",
    "Автодилер считает, что спрос на модели 2015 г. распределяется по нормальному закону со средним значением 200 и стандартным отклонением 30. Он получает Envoy за 25 000 долларов и продает за 40 000 долларов. Половину автомобилей, не проданных по полной цене, можно продать по 30 000 долларов. Дилер рассматривает варианты заказа на 200, 220, 240, 269, 280 или 300 штук. Сколько автомобилей он должен заказать?"
   ]
  },
  {
   "cell_type": "code",
   "execution_count": 3,
   "id": "f3c7483a",
   "metadata": {},
   "outputs": [],
   "source": [
    "from scipy.stats import norm"
   ]
  },
  {
   "cell_type": "code",
   "execution_count": 39,
   "id": "91e5db24",
   "metadata": {},
   "outputs": [
    {
     "data": {
      "text/plain": [
       "226.93754957603227"
      ]
     },
     "execution_count": 39,
     "metadata": {},
     "output_type": "execute_result"
    }
   ],
   "source": [
    "np.random.seed(223)\n",
    "mean, sigma = 200, 30\n",
    "demand = norm.ppf(np.random.rand(), mean, sigma)"
   ]
  },
  {
   "cell_type": "code",
   "execution_count": 22,
   "id": "8c565d14",
   "metadata": {},
   "outputs": [],
   "source": [
    "unit_cost = 25000\n",
    "selling_price = 40000\n",
    "order_quantity = 240\n",
    "salvage_value = 30000"
   ]
  },
  {
   "cell_type": "code",
   "execution_count": 129,
   "id": "4e516ba4",
   "metadata": {},
   "outputs": [],
   "source": [
    "def dealer_profit(unit_cost, selling_price, order_quantity, salvage_value, demand):\n",
    "\n",
    "    order_cost = unit_cost * order_quantity\n",
    "    sales_revenue = min(order_quantity, demand) * selling_price\n",
    "    salvage_revenue = 0.5 * max(0, order_quantity - demand) * salvage_value\n",
    "    profit = sales_revenue + salvage_revenue - order_cost\n",
    "    return profit"
   ]
  },
  {
   "cell_type": "code",
   "execution_count": 130,
   "id": "d88e40f1",
   "metadata": {},
   "outputs": [
    {
     "data": {
      "text/plain": [
       "975000.0"
      ]
     },
     "execution_count": 130,
     "metadata": {},
     "output_type": "execute_result"
    }
   ],
   "source": [
    "dealer_profit(unit_cost, selling_price, order_quantity, salvage_value, demand)"
   ]
  },
  {
   "cell_type": "code",
   "execution_count": 124,
   "id": "9e21115c",
   "metadata": {},
   "outputs": [],
   "source": [
    "demand_simulations = norm.rvs(mean, sigma, size=1000) #np.around(np.random.normal(mean, sigma, 1000))"
   ]
  },
  {
   "cell_type": "code",
   "execution_count": 50,
   "id": "711b74c5",
   "metadata": {},
   "outputs": [],
   "source": [
    "order_values = range(200, 320, 20)"
   ]
  },
  {
   "cell_type": "code",
   "execution_count": 131,
   "id": "4021e88d",
   "metadata": {},
   "outputs": [],
   "source": [
    "simulations = []\n",
    "for order_quantity in order_values:\n",
    "        simulation = pd.Series([dealer_profit(unit_cost, selling_price, order_quantity, salvage_value, demand)\n",
    "                                          for demand in demand_simulations])\n",
    "        simulations.append(simulation)"
   ]
  },
  {
   "cell_type": "code",
   "execution_count": 132,
   "id": "e8e13432",
   "metadata": {},
   "outputs": [],
   "source": [
    "profit_sim = pd.concat(simulations, axis=1)\n",
    "profit_sim.columns = list(order_values)"
   ]
  },
  {
   "cell_type": "code",
   "execution_count": 133,
   "id": "ca4e5357",
   "metadata": {},
   "outputs": [
    {
     "data": {
      "text/html": [
       "<div>\n",
       "<style scoped>\n",
       "    .dataframe tbody tr th:only-of-type {\n",
       "        vertical-align: middle;\n",
       "    }\n",
       "\n",
       "    .dataframe tbody tr th {\n",
       "        vertical-align: top;\n",
       "    }\n",
       "\n",
       "    .dataframe thead th {\n",
       "        text-align: right;\n",
       "    }\n",
       "</style>\n",
       "<table border=\"1\" class=\"dataframe\">\n",
       "  <thead>\n",
       "    <tr style=\"text-align: right;\">\n",
       "      <th></th>\n",
       "      <th>200</th>\n",
       "      <th>220</th>\n",
       "      <th>240</th>\n",
       "      <th>260</th>\n",
       "      <th>280</th>\n",
       "      <th>300</th>\n",
       "    </tr>\n",
       "  </thead>\n",
       "  <tbody>\n",
       "    <tr>\n",
       "      <th>count</th>\n",
       "      <td>1.000000e+03</td>\n",
       "      <td>1.000000e+03</td>\n",
       "      <td>1.000000e+03</td>\n",
       "      <td>1.000000e+03</td>\n",
       "      <td>1.000000e+03</td>\n",
       "      <td>1.000000e+03</td>\n",
       "    </tr>\n",
       "    <tr>\n",
       "      <th>mean</th>\n",
       "      <td>2.679017e+06</td>\n",
       "      <td>2.659704e+06</td>\n",
       "      <td>2.539652e+06</td>\n",
       "      <td>2.365853e+06</td>\n",
       "      <td>2.171671e+06</td>\n",
       "      <td>1.972288e+06</td>\n",
       "    </tr>\n",
       "    <tr>\n",
       "      <th>std</th>\n",
       "      <td>4.658315e+05</td>\n",
       "      <td>6.170832e+05</td>\n",
       "      <td>7.144858e+05</td>\n",
       "      <td>7.585764e+05</td>\n",
       "      <td>7.715531e+05</td>\n",
       "      <td>7.732465e+05</td>\n",
       "    </tr>\n",
       "    <tr>\n",
       "      <th>min</th>\n",
       "      <td>7.016339e+05</td>\n",
       "      <td>5.016339e+05</td>\n",
       "      <td>3.016339e+05</td>\n",
       "      <td>1.016339e+05</td>\n",
       "      <td>-9.836610e+04</td>\n",
       "      <td>-2.983661e+05</td>\n",
       "    </tr>\n",
       "    <tr>\n",
       "      <th>25%</th>\n",
       "      <td>2.478169e+06</td>\n",
       "      <td>2.278169e+06</td>\n",
       "      <td>2.078169e+06</td>\n",
       "      <td>1.878169e+06</td>\n",
       "      <td>1.678169e+06</td>\n",
       "      <td>1.478169e+06</td>\n",
       "    </tr>\n",
       "    <tr>\n",
       "      <th>50%</th>\n",
       "      <td>2.973209e+06</td>\n",
       "      <td>2.773209e+06</td>\n",
       "      <td>2.573209e+06</td>\n",
       "      <td>2.373209e+06</td>\n",
       "      <td>2.173209e+06</td>\n",
       "      <td>1.973209e+06</td>\n",
       "    </tr>\n",
       "    <tr>\n",
       "      <th>75%</th>\n",
       "      <td>3.000000e+06</td>\n",
       "      <td>3.293332e+06</td>\n",
       "      <td>3.093332e+06</td>\n",
       "      <td>2.893332e+06</td>\n",
       "      <td>2.693332e+06</td>\n",
       "      <td>2.493332e+06</td>\n",
       "    </tr>\n",
       "    <tr>\n",
       "      <th>max</th>\n",
       "      <td>3.000000e+06</td>\n",
       "      <td>3.300000e+06</td>\n",
       "      <td>3.600000e+06</td>\n",
       "      <td>3.900000e+06</td>\n",
       "      <td>4.200000e+06</td>\n",
       "      <td>4.250365e+06</td>\n",
       "    </tr>\n",
       "  </tbody>\n",
       "</table>\n",
       "</div>"
      ],
      "text/plain": [
       "                200           220           240           260           280  \\\n",
       "count  1.000000e+03  1.000000e+03  1.000000e+03  1.000000e+03  1.000000e+03   \n",
       "mean   2.679017e+06  2.659704e+06  2.539652e+06  2.365853e+06  2.171671e+06   \n",
       "std    4.658315e+05  6.170832e+05  7.144858e+05  7.585764e+05  7.715531e+05   \n",
       "min    7.016339e+05  5.016339e+05  3.016339e+05  1.016339e+05 -9.836610e+04   \n",
       "25%    2.478169e+06  2.278169e+06  2.078169e+06  1.878169e+06  1.678169e+06   \n",
       "50%    2.973209e+06  2.773209e+06  2.573209e+06  2.373209e+06  2.173209e+06   \n",
       "75%    3.000000e+06  3.293332e+06  3.093332e+06  2.893332e+06  2.693332e+06   \n",
       "max    3.000000e+06  3.300000e+06  3.600000e+06  3.900000e+06  4.200000e+06   \n",
       "\n",
       "                300  \n",
       "count  1.000000e+03  \n",
       "mean   1.972288e+06  \n",
       "std    7.732465e+05  \n",
       "min   -2.983661e+05  \n",
       "25%    1.478169e+06  \n",
       "50%    1.973209e+06  \n",
       "75%    2.493332e+06  \n",
       "max    4.250365e+06  "
      ]
     },
     "execution_count": 133,
     "metadata": {},
     "output_type": "execute_result"
    }
   ],
   "source": [
    "profit_sim.describe()"
   ]
  },
  {
   "cell_type": "markdown",
   "id": "bf1972c4",
   "metadata": {},
   "source": [
    "У 200 меньше риска (меньше стандартное отклонение), поэтому лучше заказать 200 машин. Похоже, 200 или 220 — два лучших варианта"
   ]
  },
  {
   "cell_type": "markdown",
   "id": "3e667434",
   "metadata": {},
   "source": [
    "***\n",
    "Небольшой супермаркет пытается определить, сколько экземпляров журнала \"People\" необходимо заказывать каждую неделю. Владелец считает, что спрос на журнал соответствует дискретной случайной величине\n",
    "\n",
    "|Спрос|Вероятность|\n",
    "|--|--|\n",
    "|15|0.10|\n",
    "|20|0.20|\n",
    "|25|0.30|\n",
    "|30|0.25|\n",
    "|35|0.15|\n",
    "\n",
    "Супермаркет платит за каждый экземпляр журнала 1,00 доллар и продает его за 1,95. Каждый непроданный экземпляр может быть возвращен за 0,50 доллара. Сколько экземпляров журнала еженедельно должен заказывать магазин?"
   ]
  },
  {
   "cell_type": "code",
   "execution_count": 160,
   "id": "e0fe82c5",
   "metadata": {},
   "outputs": [
    {
     "data": {
      "text/html": [
       "<div>\n",
       "<style scoped>\n",
       "    .dataframe tbody tr th:only-of-type {\n",
       "        vertical-align: middle;\n",
       "    }\n",
       "\n",
       "    .dataframe tbody tr th {\n",
       "        vertical-align: top;\n",
       "    }\n",
       "\n",
       "    .dataframe thead th {\n",
       "        text-align: right;\n",
       "    }\n",
       "</style>\n",
       "<table border=\"1\" class=\"dataframe\">\n",
       "  <thead>\n",
       "    <tr style=\"text-align: right;\">\n",
       "      <th></th>\n",
       "      <th>prob</th>\n",
       "      <th>cum prob</th>\n",
       "      <th>demand</th>\n",
       "    </tr>\n",
       "  </thead>\n",
       "  <tbody>\n",
       "    <tr>\n",
       "      <th>0</th>\n",
       "      <td>0.10</td>\n",
       "      <td>0.00</td>\n",
       "      <td>15</td>\n",
       "    </tr>\n",
       "    <tr>\n",
       "      <th>1</th>\n",
       "      <td>0.20</td>\n",
       "      <td>0.10</td>\n",
       "      <td>20</td>\n",
       "    </tr>\n",
       "    <tr>\n",
       "      <th>2</th>\n",
       "      <td>0.30</td>\n",
       "      <td>0.30</td>\n",
       "      <td>25</td>\n",
       "    </tr>\n",
       "    <tr>\n",
       "      <th>3</th>\n",
       "      <td>0.25</td>\n",
       "      <td>0.60</td>\n",
       "      <td>30</td>\n",
       "    </tr>\n",
       "    <tr>\n",
       "      <th>4</th>\n",
       "      <td>0.15</td>\n",
       "      <td>0.85</td>\n",
       "      <td>35</td>\n",
       "    </tr>\n",
       "  </tbody>\n",
       "</table>\n",
       "</div>"
      ],
      "text/plain": [
       "   prob  cum prob  demand\n",
       "0  0.10      0.00      15\n",
       "1  0.20      0.10      20\n",
       "2  0.30      0.30      25\n",
       "3  0.25      0.60      30\n",
       "4  0.15      0.85      35"
      ]
     },
     "execution_count": 160,
     "metadata": {},
     "output_type": "execute_result"
    }
   ],
   "source": [
    "demands = pd.DataFrame({\n",
    "    'prob': (prob:= [.0, .1, .2, .3, .25, .15])[1:],\n",
    "    'cum prob': np.cumsum(prob)[:-1],\n",
    "    'demand': range(15, 40, 5)\n",
    "})\n",
    "demands"
   ]
  },
  {
   "cell_type": "code",
   "execution_count": 205,
   "id": "3d6c3f98",
   "metadata": {},
   "outputs": [],
   "source": [
    "order_quantity = 30\n",
    "unit_cost = 1\n",
    "selling_price = 1.95\n",
    "salvage_value = 0.5"
   ]
  },
  {
   "cell_type": "code",
   "execution_count": 365,
   "id": "6578cd8a",
   "metadata": {},
   "outputs": [
    {
     "data": {
      "text/plain": [
       "30"
      ]
     },
     "execution_count": 365,
     "metadata": {},
     "output_type": "execute_result"
    }
   ],
   "source": [
    "demands[demands['cum prob'] >= min(np.random.random(), 0.85)]['demand'].iloc[0]"
   ]
  },
  {
   "cell_type": "code",
   "execution_count": 169,
   "id": "a146d1c2",
   "metadata": {},
   "outputs": [],
   "source": [
    "def shop_profit(unit_cost, selling_price, order_quantity, salvage_value, demand):\n",
    "\n",
    "    order_cost = unit_cost * order_quantity\n",
    "    sales_revenue = min(order_quantity, demand) * selling_price\n",
    "    salvage_revenue = max(0, order_quantity - demand) * salvage_value\n",
    "    profit = sales_revenue + salvage_revenue - order_cost\n",
    "    return profit"
   ]
  },
  {
   "cell_type": "code",
   "execution_count": 383,
   "id": "7fdb0fbc",
   "metadata": {},
   "outputs": [],
   "source": [
    "profit_sim = []\n",
    "\n",
    "for order_quantity in demands.demand:\n",
    "    simulations = []\n",
    "    \n",
    "    for _ in range(1000): \n",
    "        demand = demands[demands['cum prob'] >= min(np.random.random(), 0.85)]['demand'].iloc[0]\n",
    "        profit = shop_profit(unit_cost, selling_price, order_quantity, salvage_value, demand)\n",
    "        simulations.append(profit)\n",
    "    \n",
    "    profit_sim.append(simulations)                                                     "
   ]
  },
  {
   "cell_type": "code",
   "execution_count": 432,
   "id": "5e68de06",
   "metadata": {},
   "outputs": [
    {
     "data": {
      "text/plain": [
       "array([25, 15, 20, 25, 25, 30, 35, 15, 25, 25, 30, 15, 35, 15, 30, 20, 20,\n",
       "       30, 15, 15, 35, 30, 30, 35, 30, 20, 30, 25, 20, 35, 30, 30, 15, 30,\n",
       "       25, 25, 25, 35, 25, 25, 30, 20, 35, 25, 15, 15, 15, 30, 25, 35, 20,\n",
       "       25, 25, 25, 20, 35, 30, 30, 15, 30, 20, 35, 25, 25, 15, 25, 25, 30,\n",
       "       15, 20, 25, 20, 30, 30, 35, 25, 20, 30, 25, 30, 25, 35, 35, 20, 30,\n",
       "       25, 25, 25, 25, 30, 25, 35, 25, 15, 20, 25, 30, 20, 30, 15, 30, 35,\n",
       "       35, 20, 25, 25, 25, 35, 30, 30, 35, 20, 25, 25, 25, 30, 25, 15, 15,\n",
       "       25, 25, 20, 25, 25, 30, 20, 15, 30, 25, 25, 25, 30, 35, 20, 30, 30,\n",
       "       20, 35, 35, 30, 35, 20, 35, 20, 15, 15, 25, 25, 35, 35, 30, 15, 30,\n",
       "       30, 35, 30, 35, 25, 35, 25, 30, 25, 20, 25, 25, 30, 25, 35, 20, 25,\n",
       "       20, 30, 35, 25, 35, 15, 35, 30, 25, 20, 35, 30, 20, 20, 30, 30, 20,\n",
       "       25, 30, 15, 30, 35, 20, 25, 25, 25, 25, 30, 30, 25, 20, 30, 30, 15,\n",
       "       30, 25, 30, 35, 30, 30, 25, 15, 30, 15, 30, 20, 25, 35, 20, 25, 35,\n",
       "       35, 20, 35, 20, 30, 25, 35, 30, 25, 30, 30, 30, 20, 20, 35, 25, 30,\n",
       "       35, 25, 20, 35, 30, 25, 15, 25, 35, 30, 25, 35, 20, 15, 30, 20, 15,\n",
       "       25, 35, 30, 30, 25, 30, 20, 25, 35, 20, 25, 25, 25, 30, 30, 15, 30,\n",
       "       30, 25, 15, 15, 20, 35, 25, 25, 35, 35, 30, 35, 25, 15, 30, 25, 25,\n",
       "       30, 35, 25, 25, 35, 30, 15, 30, 15, 25, 30, 15, 25, 25, 25, 25, 20,\n",
       "       25, 30, 20, 35, 15, 25, 20, 25, 15, 20, 20, 30, 25, 25, 20, 25, 30,\n",
       "       30, 30, 15, 30, 25, 35, 30, 25, 25, 35, 25, 15, 15, 15, 35, 25, 35,\n",
       "       20, 30, 15, 25, 25, 25, 25, 30, 20, 25, 25, 30, 25, 25, 30, 30, 15,\n",
       "       20, 15, 30, 25, 35, 25, 30, 15, 25, 30, 35, 20, 25, 35, 35, 35, 30,\n",
       "       25, 20, 25, 20, 25, 25, 25, 30, 30, 30, 35, 20, 35, 25, 15, 30, 20,\n",
       "       20, 30, 25, 20, 25, 25, 15, 30, 25, 25, 20, 30, 35, 25, 20, 25, 15,\n",
       "       35, 35, 15, 20, 25, 25, 25, 30, 30, 15, 20, 15, 20, 25, 25, 30, 25,\n",
       "       20, 20, 30, 30, 25, 35, 35, 30, 35, 35, 20, 30, 25, 25, 35, 30, 25,\n",
       "       20, 20, 15, 20, 25, 30, 25, 25, 15, 25, 25, 35, 25, 35, 25, 15, 25,\n",
       "       30, 25, 25, 35, 30, 30, 30, 20, 25, 25, 20, 15, 35, 30, 25, 35, 30,\n",
       "       20, 20, 25, 25, 30, 30, 25, 25, 25, 30, 25, 15, 25, 30, 30, 25, 20,\n",
       "       35, 25, 35, 35, 15, 25, 35, 20, 30, 25, 20, 25, 20, 25, 35, 25, 25,\n",
       "       25, 35, 20, 35, 20, 25, 35, 25, 30, 25, 30, 25, 35, 20, 15, 20, 30,\n",
       "       25, 25, 15, 35, 15, 20, 20, 15, 30, 25, 15, 30, 15, 30, 30, 15, 30,\n",
       "       20, 35, 35, 25, 35, 20, 25, 20, 15, 15, 20, 20, 20, 15, 25, 30, 35,\n",
       "       30, 25, 15, 35, 20, 20, 30, 25, 20, 15, 25, 30, 30, 25, 25, 25, 15,\n",
       "       30, 30, 25, 25, 25, 30, 35, 20, 20, 20, 25, 25, 35, 25, 20, 25, 25,\n",
       "       15, 25, 20, 30, 30, 15, 35, 30, 30, 15, 25, 30, 35, 20, 20, 25, 30,\n",
       "       20, 30, 15, 35, 35, 15, 30, 25, 20, 25, 30, 35, 30, 15, 30, 30, 25,\n",
       "       20, 30, 15, 20, 35, 25, 35, 25, 35, 25, 35, 20, 30, 25, 20, 25, 35,\n",
       "       25, 20, 30, 30, 15, 30, 25, 25, 30, 30, 35, 15, 35, 25, 25, 15, 25,\n",
       "       35, 30, 30, 15, 25, 15, 25, 15, 35, 25, 30, 25, 25, 25, 30, 20, 25,\n",
       "       20, 25, 25, 30, 20, 15, 20, 25, 15, 30, 30, 15, 25, 25, 20, 35, 30,\n",
       "       15, 30, 20, 20, 30, 20, 30, 25, 30, 35, 25, 25, 25, 25, 30, 35, 35,\n",
       "       25, 35, 30, 35, 25, 35, 20, 35, 15, 15, 15, 20, 30, 25, 15, 15, 20,\n",
       "       30, 30, 25, 20, 25, 30, 35, 35, 15, 20, 35, 25, 15, 35, 25, 15, 15,\n",
       "       30, 35, 35, 15, 20, 25, 15, 25, 30, 25, 25, 25, 20, 30, 25, 35, 15,\n",
       "       30, 30, 30, 25, 15, 30, 25, 30, 35, 30, 25, 25, 30, 30, 30, 30, 20,\n",
       "       15, 30, 25, 25, 15, 25, 25, 25, 25, 20, 35, 25, 20, 25, 25, 20, 25,\n",
       "       30, 35, 30, 30, 20, 25, 20, 35, 35, 20, 25, 25, 15, 20, 25, 15, 30,\n",
       "       30, 25, 35, 15, 20, 25, 30, 30, 35, 35, 25, 35, 15, 25, 15, 15, 25,\n",
       "       30, 30, 30, 30, 35, 25, 25, 15, 20, 30, 30, 25, 30, 35, 25, 25, 25,\n",
       "       20, 35, 30, 30, 35, 30, 30, 25, 15, 30, 25, 25, 25, 25, 25, 25, 25,\n",
       "       25, 25, 20, 20, 30, 25, 20, 25, 25, 35, 25, 20, 25, 20, 30, 35, 25,\n",
       "       30, 25, 20, 25, 20, 25, 20, 20, 35, 25, 25, 30, 25, 25, 20, 20, 35,\n",
       "       25, 15, 15, 20, 20, 15, 25, 25, 30, 25, 30, 25, 35, 25, 25, 35, 30,\n",
       "       25, 30, 30, 30, 35, 30, 30, 20, 30, 30, 30, 30, 25, 25, 25, 25, 20,\n",
       "       35, 30, 25, 30, 30, 25, 35, 30, 20, 15, 20, 30, 30, 20, 20, 35, 25,\n",
       "       25, 25, 30, 25, 25, 20, 30, 20, 15, 25, 20, 20, 30, 25, 30, 30, 30,\n",
       "       25, 30, 15, 30, 20, 25, 30, 30, 25, 25, 25, 20, 35, 25, 35, 15, 15,\n",
       "       35, 25, 35, 25, 25, 25, 30, 20, 25, 30, 35, 30, 25, 25])"
      ]
     },
     "execution_count": 432,
     "metadata": {},
     "output_type": "execute_result"
    }
   ],
   "source": [
    "# получить сразу 1000 значений demand согласно установленному распределению\n",
    "np.random.choice(demands.demand, size=1000, p=demands.prob)"
   ]
  },
  {
   "cell_type": "code",
   "execution_count": 411,
   "id": "b8cbc48a",
   "metadata": {},
   "outputs": [],
   "source": [
    "profit = pd.DataFrame(profit_sim).T\n",
    "profit.columns = demands.demand.to_list()"
   ]
  },
  {
   "cell_type": "code",
   "execution_count": 415,
   "id": "4c4f9ddd",
   "metadata": {},
   "outputs": [
    {
     "data": {
      "text/html": [
       "<div>\n",
       "<style scoped>\n",
       "    .dataframe tbody tr th:only-of-type {\n",
       "        vertical-align: middle;\n",
       "    }\n",
       "\n",
       "    .dataframe tbody tr th {\n",
       "        vertical-align: top;\n",
       "    }\n",
       "\n",
       "    .dataframe thead th {\n",
       "        text-align: right;\n",
       "    }\n",
       "</style>\n",
       "<table border=\"1\" class=\"dataframe\">\n",
       "  <thead>\n",
       "    <tr style=\"text-align: right;\">\n",
       "      <th></th>\n",
       "      <th>15</th>\n",
       "      <th>20</th>\n",
       "      <th>25</th>\n",
       "      <th>30</th>\n",
       "      <th>35</th>\n",
       "    </tr>\n",
       "  </thead>\n",
       "  <tbody>\n",
       "    <tr>\n",
       "      <th>mean</th>\n",
       "      <td>14.25</td>\n",
       "      <td>19.0</td>\n",
       "      <td>23.075750</td>\n",
       "      <td>25.476750</td>\n",
       "      <td>25.942000</td>\n",
       "    </tr>\n",
       "    <tr>\n",
       "      <th>std</th>\n",
       "      <td>0.00</td>\n",
       "      <td>0.0</td>\n",
       "      <td>2.106689</td>\n",
       "      <td>4.989267</td>\n",
       "      <td>7.296789</td>\n",
       "    </tr>\n",
       "  </tbody>\n",
       "</table>\n",
       "</div>"
      ],
      "text/plain": [
       "         15    20         25         30         35\n",
       "mean  14.25  19.0  23.075750  25.476750  25.942000\n",
       "std    0.00   0.0   2.106689   4.989267   7.296789"
      ]
     },
     "execution_count": 415,
     "metadata": {},
     "output_type": "execute_result"
    }
   ],
   "source": [
    "profit.agg(['mean', 'std'])"
   ]
  },
  {
   "cell_type": "code",
   "execution_count": 423,
   "id": "e2775741",
   "metadata": {},
   "outputs": [
    {
     "data": {
      "image/png": "[encoded data removed]",
      "text/plain": [
       "<Figure size 432x288 with 1 Axes>"
      ]
     },
     "metadata": {
      "needs_background": "light"
     },
     "output_type": "display_data"
    }
   ],
   "source": [
    "sns.boxplot(x='order quantity', y='profit',\n",
    "             data=pd.melt(profit, var_name='order quantity', value_name='profit'));"
   ]
  },
  {
   "cell_type": "markdown",
   "id": "7962150b",
   "metadata": {},
   "source": [
    "Ожидаемая максимальная выгода при заказе 30 журналов, так как выгода сопоставима с максимально большим заказом — 35 шт. при меньшем риске (стандартное отклонение ниже)."
   ]
  },
  {
   "cell_type": "markdown",
   "id": "020c33bc",
   "metadata": {},
   "source": [
    "# Вычисление оптимальной цены предложения\n",
    "\n",
    "При определении цены в борьбе с конкурентами за проект двумя основными источниками неопределенности являются количество конкурентов и цены, предлагаемые каждым конкурентом. При высокой цене предложения можно заработать на проекте много денег, но самих проектов будет мало. При низкой цене предложения проектов будет немало, но денег каждый из них принесет немного. Оптимальная цена предложения находится где-то посередине. Удобным инструментом для определения цены предложения, максимально увеличивающей ожидаемую прибыль, является моделирование по методу Монте-Карло.\n",
    "\n",
    "### Как определить, должна ли непрерывная случайная величина моделироваться как нормальная случайная величина?\n",
    "\n",
    "Предположим, что наиболее вероятная цена предложения конкурента составляет 50 000 долларов. Напомним, что кривая плотности нормального распределения вероятностей является симметричной относительно среднего значения. Следовательно, для определения возможности применения нормальной случайной величины в моделировании цены предложения конкурента необходимо проверить симметрию относительно среднего значения цены предложения. Если цена предложения конкурента проявляет симметрию относительно среднего значения 50 000 долларов, цены предложения 40 000 и 60 000, 45 000 и 55 000, и т. д., должны быть приблизительно одинаково вероятны. Если предположение о симметрии кажется логичным, то цену предложения каждого конкурента можно смоделировать как нормальную случайную величину со средним значением 50 000 долларов.\n",
    "\n",
    "### Как оценить стандартное отклонение цены предложения каждого конкурента? \n",
    "\n",
    "Напомним, что согласно эмпирическому правилу, наборы данных с симметричными гистограммами имеют примерно 95% данных в пределах двух стандартных отклонений от среднего значения. Аналогично, нормальная случайная величина с вероятностью 95% находится в пределах двух стандартных отклонений от своего среднего значения. Предположим, что с вероятностью 95% цена предложения конкурента составляет от 30000 до 70000 долларов. Это означает, что 2 × (стандартное отклонение цены предложения конкурента) равно 20 000 долларов или стандартное отклонение цены предложения конкурента равно 10 000 долларов.\n",
    "\n",
    "### Как с помощью моделирования определить оптимальную цену предложения для проекта строительства?\n",
    "Предположим, что вы участвуете в тендере на проект строительства, который будет стоить вам 25 000 долларов. Подготовка предложения на получение подряда стоит 1000 долларов. У вас имеется шесть потенциальных конкурентов, и вы подсчитали, что с вероятностью 50% каждый конкурент примет участие в тендере на проект.\n",
    "\n",
    "Если конкурент подает предложение, то цена его предложения следует закону нормального распределения со средним значением 50 000 долларов и стандартным отклонением 10 000 долларов. Предположим также, что вы подготавливаете предложения только с ценой, кратной 5000 долларов. Какова должна быть цена вашего предложения для получения максимальной ожидаемой прибыли? Напомним, что выигрывает самая низкая цена предложения!\n",
    "\n",
    "**Ваша стратегия должна быть следующей**\n",
    "- Сгенерируйте количество конкурентов.\n",
    "- Для каждого потенциального конкурента, который действительно подает предложение, смоделируйте предложение с помощью нормальной случайной величины. Если потенциальный конкурент не подает предложение, назначьте для него большую цену предложения (например, 100 000 долларов), которая обеспечит ему поражение.\n",
    "- Определите, является ли цена вашего предложения самой низкой.\n",
    "- Если вы предлагаете самую низкую цену, то получите прибыль, равную предложению минус стоимость проекта минус 1000 долларов (стоимость подачи предложения). Если цена вашего предложения не самая низкая, то вы теряете 1000 долларов — стоимость подачи предложения.\n",
    "- Для моделирования каждой возможной цены предложения (например, 30 000, 35 000, ..., 60 000 долларов) тысячу раз используйте таблицу данных с двумя входами и затем выберите цену предложения с наибольшей ожидаемой прибылью."
   ]
  },
  {
   "cell_type": "markdown",
   "id": "9514fbe3",
   "metadata": {},
   "source": [
    "***\n",
    "Как изменится оптимальная цена предложения при наличии 12 потенциальных конкурентов?"
   ]
  },
  {
   "cell_type": "code",
   "execution_count": 492,
   "id": "8cd7bc40",
   "metadata": {},
   "outputs": [],
   "source": [
    "from scipy.stats import binom"
   ]
  },
  {
   "cell_type": "code",
   "execution_count": 480,
   "id": "3d1c0ca6",
   "metadata": {},
   "outputs": [],
   "source": [
    "n = 12 # bidders count\n",
    "mu, sigma = 50000, 10000\n",
    "cost_project = 25000\n",
    "cost_bid = 1000\n",
    "my_bid = 40000\n",
    "n_bidders = binom.rvs(12, 0.5, np.random.rand()) # critbinom"
   ]
  },
  {
   "cell_type": "markdown",
   "id": "34f032d8",
   "metadata": {},
   "source": [
    "Если предположение о нормальном распределении логично, цену предложения конкурента можно теперь моделировать с помощью формулы `norm.isf(np.random.rand(), mu, sigma)`"
   ]
  },
  {
   "cell_type": "code",
   "execution_count": 484,
   "id": "4742546e",
   "metadata": {},
   "outputs": [
    {
     "data": {
      "text/plain": [
       "47453.92086756208"
      ]
     },
     "execution_count": 484,
     "metadata": {},
     "output_type": "execute_result"
    }
   ],
   "source": [
    "norm.isf(np.random.rand(), mu, sigma) # norminv"
   ]
  },
  {
   "cell_type": "code",
   "execution_count": 487,
   "id": "ac46ca1d",
   "metadata": {},
   "outputs": [],
   "source": [
    "bids = pd.DataFrame({'bidder': range(1, n+1),\n",
    "                     'bid': [norm.isf(np.random.rand(), mu, sigma)\n",
    "                                     if i < n_bidders else 100000 for i in range(n)]}) # 100000 is maxbid"
   ]
  },
  {
   "cell_type": "code",
   "execution_count": 488,
   "id": "7bf60829",
   "metadata": {},
   "outputs": [
    {
     "data": {
      "text/html": [
       "<div>\n",
       "<style scoped>\n",
       "    .dataframe tbody tr th:only-of-type {\n",
       "        vertical-align: middle;\n",
       "    }\n",
       "\n",
       "    .dataframe tbody tr th {\n",
       "        vertical-align: top;\n",
       "    }\n",
       "\n",
       "    .dataframe thead th {\n",
       "        text-align: right;\n",
       "    }\n",
       "</style>\n",
       "<table border=\"1\" class=\"dataframe\">\n",
       "  <thead>\n",
       "    <tr style=\"text-align: right;\">\n",
       "      <th></th>\n",
       "      <th>bidder</th>\n",
       "      <th>bid</th>\n",
       "    </tr>\n",
       "  </thead>\n",
       "  <tbody>\n",
       "    <tr>\n",
       "      <th>0</th>\n",
       "      <td>1</td>\n",
       "      <td>42601.183790</td>\n",
       "    </tr>\n",
       "    <tr>\n",
       "      <th>1</th>\n",
       "      <td>2</td>\n",
       "      <td>46322.940611</td>\n",
       "    </tr>\n",
       "    <tr>\n",
       "      <th>2</th>\n",
       "      <td>3</td>\n",
       "      <td>36425.433603</td>\n",
       "    </tr>\n",
       "    <tr>\n",
       "      <th>3</th>\n",
       "      <td>4</td>\n",
       "      <td>47525.321005</td>\n",
       "    </tr>\n",
       "    <tr>\n",
       "      <th>4</th>\n",
       "      <td>5</td>\n",
       "      <td>76002.316353</td>\n",
       "    </tr>\n",
       "    <tr>\n",
       "      <th>5</th>\n",
       "      <td>6</td>\n",
       "      <td>50702.914443</td>\n",
       "    </tr>\n",
       "    <tr>\n",
       "      <th>6</th>\n",
       "      <td>7</td>\n",
       "      <td>18914.495408</td>\n",
       "    </tr>\n",
       "    <tr>\n",
       "      <th>7</th>\n",
       "      <td>8</td>\n",
       "      <td>61614.608805</td>\n",
       "    </tr>\n",
       "    <tr>\n",
       "      <th>8</th>\n",
       "      <td>9</td>\n",
       "      <td>35087.582454</td>\n",
       "    </tr>\n",
       "    <tr>\n",
       "      <th>9</th>\n",
       "      <td>10</td>\n",
       "      <td>40507.245407</td>\n",
       "    </tr>\n",
       "    <tr>\n",
       "      <th>10</th>\n",
       "      <td>11</td>\n",
       "      <td>10000.000000</td>\n",
       "    </tr>\n",
       "    <tr>\n",
       "      <th>11</th>\n",
       "      <td>12</td>\n",
       "      <td>10000.000000</td>\n",
       "    </tr>\n",
       "  </tbody>\n",
       "</table>\n",
       "</div>"
      ],
      "text/plain": [
       "    bidder           bid\n",
       "0        1  42601.183790\n",
       "1        2  46322.940611\n",
       "2        3  36425.433603\n",
       "3        4  47525.321005\n",
       "4        5  76002.316353\n",
       "5        6  50702.914443\n",
       "6        7  18914.495408\n",
       "7        8  61614.608805\n",
       "8        9  35087.582454\n",
       "9       10  40507.245407\n",
       "10      11  10000.000000\n",
       "11      12  10000.000000"
      ]
     },
     "execution_count": 488,
     "metadata": {},
     "output_type": "execute_result"
    }
   ],
   "source": [
    "bids"
   ]
  },
  {
   "cell_type": "code",
   "execution_count": 490,
   "id": "39dea7de",
   "metadata": {},
   "outputs": [
    {
     "data": {
      "text/plain": [
       "-1000"
      ]
     },
     "execution_count": 490,
     "metadata": {},
     "output_type": "execute_result"
    }
   ],
   "source": [
    "my_bid - cost_project - cost_bid if my_bid <= bids.bid.min() else -cost_bid # get profit"
   ]
  },
  {
   "cell_type": "markdown",
   "id": "f2612fe2",
   "metadata": {},
   "source": [
    "Cимулировние результата участия в тендере методом Монте-Карло"
   ]
  },
  {
   "cell_type": "code",
   "execution_count": 550,
   "id": "47096906",
   "metadata": {},
   "outputs": [],
   "source": [
    "def tender_profit(cost_project, cost_bid, my_bid, bidders_count, bids_range):\n",
    "    result = dict()\n",
    "    \n",
    "    def profit(bid, cost_project, cost_bid, bidders_count):\n",
    "        min_bid = norm.isf(np.random.random(size=bidders_count), mu, sigma).min()\n",
    "        return bid - cost_project - cost_bid if bid <= min_bid else -cost_bid\n",
    "        \n",
    "    for bid in tqdm(bids_range):\n",
    "        result[bid] = [profit(bid,\n",
    "                              cost_project,\n",
    "                              cost_bid,\n",
    "                              ) for _ in range(1000)]\n",
    "    return pd.DataFrame(result)"
   ]
  },
  {
   "cell_type": "code",
   "execution_count": 559,
   "id": "4d2aa29f",
   "metadata": {},
   "outputs": [
    {
     "data": {
      "application/vnd.jupyter.widget-view+json": {
       "model_id": "eb43741782f14fdc952a9bb89f00ca3a",
       "version_major": 2,
       "version_minor": 0
      },
      "text/plain": [
       "  0%|          | 0/7 [00:00<?, ?it/s]"
      ]
     },
     "metadata": {},
     "output_type": "display_data"
    }
   ],
   "source": [
    "bids_range = range(30_000, 65_000, 5000) # my bids from 30K to 60K\n",
    "df = tender_profit(cost_project, cost_bid, my_bid, n_bidders, bids_range)"
   ]
  },
  {
   "cell_type": "code",
   "execution_count": 560,
   "id": "27d8e7f9",
   "metadata": {},
   "outputs": [
    {
     "data": {
      "text/html": [
       "<div>\n",
       "<style scoped>\n",
       "    .dataframe tbody tr th:only-of-type {\n",
       "        vertical-align: middle;\n",
       "    }\n",
       "\n",
       "    .dataframe tbody tr th {\n",
       "        vertical-align: top;\n",
       "    }\n",
       "\n",
       "    .dataframe thead th {\n",
       "        text-align: right;\n",
       "    }\n",
       "</style>\n",
       "<table border=\"1\" class=\"dataframe\">\n",
       "  <thead>\n",
       "    <tr style=\"text-align: right;\">\n",
       "      <th></th>\n",
       "      <th>30000</th>\n",
       "      <th>35000</th>\n",
       "      <th>40000</th>\n",
       "      <th>45000</th>\n",
       "      <th>50000</th>\n",
       "      <th>55000</th>\n",
       "      <th>60000</th>\n",
       "    </tr>\n",
       "  </thead>\n",
       "  <tbody>\n",
       "    <tr>\n",
       "      <th>0</th>\n",
       "      <td>4000</td>\n",
       "      <td>-1000</td>\n",
       "      <td>-1000</td>\n",
       "      <td>-1000</td>\n",
       "      <td>-1000</td>\n",
       "      <td>-1000</td>\n",
       "      <td>-1000</td>\n",
       "    </tr>\n",
       "    <tr>\n",
       "      <th>1</th>\n",
       "      <td>4000</td>\n",
       "      <td>9000</td>\n",
       "      <td>-1000</td>\n",
       "      <td>-1000</td>\n",
       "      <td>-1000</td>\n",
       "      <td>-1000</td>\n",
       "      <td>-1000</td>\n",
       "    </tr>\n",
       "    <tr>\n",
       "      <th>2</th>\n",
       "      <td>4000</td>\n",
       "      <td>-1000</td>\n",
       "      <td>-1000</td>\n",
       "      <td>-1000</td>\n",
       "      <td>-1000</td>\n",
       "      <td>-1000</td>\n",
       "      <td>-1000</td>\n",
       "    </tr>\n",
       "    <tr>\n",
       "      <th>3</th>\n",
       "      <td>-1000</td>\n",
       "      <td>-1000</td>\n",
       "      <td>14000</td>\n",
       "      <td>-1000</td>\n",
       "      <td>-1000</td>\n",
       "      <td>-1000</td>\n",
       "      <td>-1000</td>\n",
       "    </tr>\n",
       "    <tr>\n",
       "      <th>4</th>\n",
       "      <td>4000</td>\n",
       "      <td>-1000</td>\n",
       "      <td>-1000</td>\n",
       "      <td>-1000</td>\n",
       "      <td>-1000</td>\n",
       "      <td>-1000</td>\n",
       "      <td>-1000</td>\n",
       "    </tr>\n",
       "    <tr>\n",
       "      <th>...</th>\n",
       "      <td>...</td>\n",
       "      <td>...</td>\n",
       "      <td>...</td>\n",
       "      <td>...</td>\n",
       "      <td>...</td>\n",
       "      <td>...</td>\n",
       "      <td>...</td>\n",
       "    </tr>\n",
       "    <tr>\n",
       "      <th>995</th>\n",
       "      <td>4000</td>\n",
       "      <td>-1000</td>\n",
       "      <td>-1000</td>\n",
       "      <td>-1000</td>\n",
       "      <td>-1000</td>\n",
       "      <td>-1000</td>\n",
       "      <td>-1000</td>\n",
       "    </tr>\n",
       "    <tr>\n",
       "      <th>996</th>\n",
       "      <td>4000</td>\n",
       "      <td>-1000</td>\n",
       "      <td>14000</td>\n",
       "      <td>19000</td>\n",
       "      <td>-1000</td>\n",
       "      <td>-1000</td>\n",
       "      <td>-1000</td>\n",
       "    </tr>\n",
       "    <tr>\n",
       "      <th>997</th>\n",
       "      <td>4000</td>\n",
       "      <td>-1000</td>\n",
       "      <td>-1000</td>\n",
       "      <td>-1000</td>\n",
       "      <td>-1000</td>\n",
       "      <td>-1000</td>\n",
       "      <td>-1000</td>\n",
       "    </tr>\n",
       "    <tr>\n",
       "      <th>998</th>\n",
       "      <td>4000</td>\n",
       "      <td>9000</td>\n",
       "      <td>-1000</td>\n",
       "      <td>-1000</td>\n",
       "      <td>-1000</td>\n",
       "      <td>-1000</td>\n",
       "      <td>-1000</td>\n",
       "    </tr>\n",
       "    <tr>\n",
       "      <th>999</th>\n",
       "      <td>4000</td>\n",
       "      <td>9000</td>\n",
       "      <td>-1000</td>\n",
       "      <td>-1000</td>\n",
       "      <td>-1000</td>\n",
       "      <td>-1000</td>\n",
       "      <td>-1000</td>\n",
       "    </tr>\n",
       "  </tbody>\n",
       "</table>\n",
       "<p>1000 rows × 7 columns</p>\n",
       "</div>"
      ],
      "text/plain": [
       "     30000  35000  40000  45000  50000  55000  60000\n",
       "0     4000  -1000  -1000  -1000  -1000  -1000  -1000\n",
       "1     4000   9000  -1000  -1000  -1000  -1000  -1000\n",
       "2     4000  -1000  -1000  -1000  -1000  -1000  -1000\n",
       "3    -1000  -1000  14000  -1000  -1000  -1000  -1000\n",
       "4     4000  -1000  -1000  -1000  -1000  -1000  -1000\n",
       "..     ...    ...    ...    ...    ...    ...    ...\n",
       "995   4000  -1000  -1000  -1000  -1000  -1000  -1000\n",
       "996   4000  -1000  14000  19000  -1000  -1000  -1000\n",
       "997   4000  -1000  -1000  -1000  -1000  -1000  -1000\n",
       "998   4000   9000  -1000  -1000  -1000  -1000  -1000\n",
       "999   4000   9000  -1000  -1000  -1000  -1000  -1000\n",
       "\n",
       "[1000 rows x 7 columns]"
      ]
     },
     "execution_count": 560,
     "metadata": {},
     "output_type": "execute_result"
    }
   ],
   "source": [
    "df"
   ]
  },
  {
   "cell_type": "code",
   "execution_count": 561,
   "id": "edb6cb84",
   "metadata": {},
   "outputs": [
    {
     "data": {
      "text/plain": [
       "30000    2945.0\n",
       "35000    3960.0\n",
       "40000    1580.0\n",
       "45000    -540.0\n",
       "50000   -1000.0\n",
       "55000   -1000.0\n",
       "60000   -1000.0\n",
       "Name: mean, dtype: float64"
      ]
     },
     "execution_count": 561,
     "metadata": {},
     "output_type": "execute_result"
    }
   ],
   "source": [
    "df.describe().loc['mean', :] # $35,000 bid maximizes mean profit $3960"
   ]
  },
  {
   "cell_type": "code",
   "execution_count": 555,
   "id": "a724c342",
   "metadata": {},
   "outputs": [
    {
     "data": {
      "image/png": "[encoded data removed]",
      "text/plain": [
       "<Figure size 432x288 with 1 Axes>"
      ]
     },
     "metadata": {
      "needs_background": "light"
     },
     "output_type": "display_data"
    }
   ],
   "source": [
    "sns.boxplot(data=df);"
   ]
  },
  {
   "cell_type": "markdown",
   "id": "67d99705",
   "metadata": {},
   "source": [
    "Ставка в размере 35 000 долларов США максимизирует среднюю прибыль."
   ]
  },
  {
   "cell_type": "markdown",
   "id": "4b34d7a6",
   "metadata": {},
   "source": [
    "***\n",
    "Предположим, что вы предлагаете цену за нефтяную скважину, которая, по вашей оценке, должна принести 40 млн долларов (включая стоимость разработки и добычи нефти). В торгах участвуют еще три конкурента, и предложение каждого конкурента предположительно соответствует закону нормального распределения со средним значением 30 млн долларов и стандартным отклонением 4 млн долларов. Какое предложение вы должны сделать (с точностью до 1 млн долларов)?"
   ]
  },
  {
   "cell_type": "code",
   "execution_count": 575,
   "id": "a26d5b63",
   "metadata": {},
   "outputs": [],
   "source": [
    "n_bidders = 3\n",
    "profit = 40\n",
    "mu, sigma = 30, 4\n",
    "my_bid = 36\n",
    "concur_bids = norm.isf(np.random.random(size=n_bidders), mu, sigma)"
   ]
  },
  {
   "cell_type": "code",
   "execution_count": 595,
   "id": "c9cd8905",
   "metadata": {},
   "outputs": [
    {
     "name": "stdout",
     "output_type": "stream",
     "text": [
      "do I win?: no\n",
      "Profit: False\n"
     ]
    }
   ],
   "source": [
    "print(f'do I win?: {[\"no\", \"yes\"][(win := my_bid >= concur_bids.max())]}')\n",
    "print(f'Profit: {profit - my_bid and win}')"
   ]
  },
  {
   "cell_type": "markdown",
   "id": "dcc7964c",
   "metadata": {},
   "source": [
    "Cимулировние результата участия в тендере методом Монте-Карло"
   ]
  },
  {
   "cell_type": "code",
   "execution_count": 598,
   "id": "eaaaff11",
   "metadata": {},
   "outputs": [],
   "source": [
    "def tender_profit(cost_project, my_bid, bidders_count, bids_range):\n",
    "    result = dict()\n",
    "    \n",
    "    def profit(bid, cost_project, bidders_count):\n",
    "        max_bid = norm.isf(np.random.random(size=bidders_count), mu, sigma).max()\n",
    "        return cost_project - bid if bid >= max_bid else 0\n",
    "        \n",
    "    for bid in tqdm(bids_range):\n",
    "        result[bid] = [profit(bid,\n",
    "                              cost_project,\n",
    "                              bidders_count) for _ in range(1000)]\n",
    "    return pd.DataFrame(result)"
   ]
  },
  {
   "cell_type": "code",
   "execution_count": 603,
   "id": "f04a3903",
   "metadata": {},
   "outputs": [
    {
     "data": {
      "application/vnd.jupyter.widget-view+json": {
       "model_id": "b3a6744aa1924233855b417b27d51279",
       "version_major": 2,
       "version_minor": 0
      },
      "text/plain": [
       "  0%|          | 0/11 [00:00<?, ?it/s]"
      ]
     },
     "metadata": {},
     "output_type": "display_data"
    }
   ],
   "source": [
    "bids_range = range(26, 37)\n",
    "df = tender_profit(profit, my_bid, n_bidders, bids_range)"
   ]
  },
  {
   "cell_type": "code",
   "execution_count": 604,
   "id": "9944eaf7",
   "metadata": {},
   "outputs": [
    {
     "data": {
      "text/html": [
       "<div>\n",
       "<style scoped>\n",
       "    .dataframe tbody tr th:only-of-type {\n",
       "        vertical-align: middle;\n",
       "    }\n",
       "\n",
       "    .dataframe tbody tr th {\n",
       "        vertical-align: top;\n",
       "    }\n",
       "\n",
       "    .dataframe thead th {\n",
       "        text-align: right;\n",
       "    }\n",
       "</style>\n",
       "<table border=\"1\" class=\"dataframe\">\n",
       "  <thead>\n",
       "    <tr style=\"text-align: right;\">\n",
       "      <th></th>\n",
       "      <th>26</th>\n",
       "      <th>27</th>\n",
       "      <th>28</th>\n",
       "      <th>29</th>\n",
       "      <th>30</th>\n",
       "      <th>31</th>\n",
       "      <th>32</th>\n",
       "      <th>33</th>\n",
       "      <th>34</th>\n",
       "      <th>35</th>\n",
       "      <th>36</th>\n",
       "    </tr>\n",
       "  </thead>\n",
       "  <tbody>\n",
       "    <tr>\n",
       "      <th>0</th>\n",
       "      <td>0</td>\n",
       "      <td>0</td>\n",
       "      <td>0</td>\n",
       "      <td>0</td>\n",
       "      <td>0</td>\n",
       "      <td>0</td>\n",
       "      <td>8</td>\n",
       "      <td>7</td>\n",
       "      <td>0</td>\n",
       "      <td>5</td>\n",
       "      <td>4</td>\n",
       "    </tr>\n",
       "    <tr>\n",
       "      <th>1</th>\n",
       "      <td>0</td>\n",
       "      <td>0</td>\n",
       "      <td>0</td>\n",
       "      <td>0</td>\n",
       "      <td>0</td>\n",
       "      <td>9</td>\n",
       "      <td>8</td>\n",
       "      <td>0</td>\n",
       "      <td>6</td>\n",
       "      <td>5</td>\n",
       "      <td>4</td>\n",
       "    </tr>\n",
       "    <tr>\n",
       "      <th>2</th>\n",
       "      <td>0</td>\n",
       "      <td>0</td>\n",
       "      <td>0</td>\n",
       "      <td>0</td>\n",
       "      <td>0</td>\n",
       "      <td>0</td>\n",
       "      <td>8</td>\n",
       "      <td>0</td>\n",
       "      <td>6</td>\n",
       "      <td>5</td>\n",
       "      <td>0</td>\n",
       "    </tr>\n",
       "    <tr>\n",
       "      <th>3</th>\n",
       "      <td>0</td>\n",
       "      <td>0</td>\n",
       "      <td>0</td>\n",
       "      <td>11</td>\n",
       "      <td>0</td>\n",
       "      <td>9</td>\n",
       "      <td>0</td>\n",
       "      <td>0</td>\n",
       "      <td>6</td>\n",
       "      <td>5</td>\n",
       "      <td>4</td>\n",
       "    </tr>\n",
       "    <tr>\n",
       "      <th>4</th>\n",
       "      <td>0</td>\n",
       "      <td>0</td>\n",
       "      <td>0</td>\n",
       "      <td>0</td>\n",
       "      <td>0</td>\n",
       "      <td>0</td>\n",
       "      <td>8</td>\n",
       "      <td>7</td>\n",
       "      <td>6</td>\n",
       "      <td>5</td>\n",
       "      <td>4</td>\n",
       "    </tr>\n",
       "    <tr>\n",
       "      <th>...</th>\n",
       "      <td>...</td>\n",
       "      <td>...</td>\n",
       "      <td>...</td>\n",
       "      <td>...</td>\n",
       "      <td>...</td>\n",
       "      <td>...</td>\n",
       "      <td>...</td>\n",
       "      <td>...</td>\n",
       "      <td>...</td>\n",
       "      <td>...</td>\n",
       "      <td>...</td>\n",
       "    </tr>\n",
       "    <tr>\n",
       "      <th>995</th>\n",
       "      <td>0</td>\n",
       "      <td>0</td>\n",
       "      <td>0</td>\n",
       "      <td>0</td>\n",
       "      <td>10</td>\n",
       "      <td>0</td>\n",
       "      <td>8</td>\n",
       "      <td>0</td>\n",
       "      <td>0</td>\n",
       "      <td>0</td>\n",
       "      <td>4</td>\n",
       "    </tr>\n",
       "    <tr>\n",
       "      <th>996</th>\n",
       "      <td>0</td>\n",
       "      <td>0</td>\n",
       "      <td>0</td>\n",
       "      <td>0</td>\n",
       "      <td>0</td>\n",
       "      <td>0</td>\n",
       "      <td>0</td>\n",
       "      <td>0</td>\n",
       "      <td>6</td>\n",
       "      <td>5</td>\n",
       "      <td>4</td>\n",
       "    </tr>\n",
       "    <tr>\n",
       "      <th>997</th>\n",
       "      <td>0</td>\n",
       "      <td>0</td>\n",
       "      <td>0</td>\n",
       "      <td>0</td>\n",
       "      <td>0</td>\n",
       "      <td>0</td>\n",
       "      <td>0</td>\n",
       "      <td>0</td>\n",
       "      <td>0</td>\n",
       "      <td>0</td>\n",
       "      <td>4</td>\n",
       "    </tr>\n",
       "    <tr>\n",
       "      <th>998</th>\n",
       "      <td>0</td>\n",
       "      <td>0</td>\n",
       "      <td>0</td>\n",
       "      <td>0</td>\n",
       "      <td>0</td>\n",
       "      <td>9</td>\n",
       "      <td>8</td>\n",
       "      <td>0</td>\n",
       "      <td>0</td>\n",
       "      <td>5</td>\n",
       "      <td>4</td>\n",
       "    </tr>\n",
       "    <tr>\n",
       "      <th>999</th>\n",
       "      <td>0</td>\n",
       "      <td>0</td>\n",
       "      <td>0</td>\n",
       "      <td>0</td>\n",
       "      <td>0</td>\n",
       "      <td>9</td>\n",
       "      <td>0</td>\n",
       "      <td>0</td>\n",
       "      <td>0</td>\n",
       "      <td>5</td>\n",
       "      <td>0</td>\n",
       "    </tr>\n",
       "  </tbody>\n",
       "</table>\n",
       "<p>1000 rows × 11 columns</p>\n",
       "</div>"
      ],
      "text/plain": [
       "     26  27  28  29  30  31  32  33  34  35  36\n",
       "0     0   0   0   0   0   0   8   7   0   5   4\n",
       "1     0   0   0   0   0   9   8   0   6   5   4\n",
       "2     0   0   0   0   0   0   8   0   6   5   0\n",
       "3     0   0   0  11   0   9   0   0   6   5   4\n",
       "4     0   0   0   0   0   0   8   7   6   5   4\n",
       "..   ..  ..  ..  ..  ..  ..  ..  ..  ..  ..  ..\n",
       "995   0   0   0   0  10   0   8   0   0   0   4\n",
       "996   0   0   0   0   0   0   0   0   6   5   4\n",
       "997   0   0   0   0   0   0   0   0   0   0   4\n",
       "998   0   0   0   0   0   9   8   0   0   5   4\n",
       "999   0   0   0   0   0   9   0   0   0   5   0\n",
       "\n",
       "[1000 rows x 11 columns]"
      ]
     },
     "execution_count": 604,
     "metadata": {},
     "output_type": "execute_result"
    }
   ],
   "source": [
    "df"
   ]
  },
  {
   "cell_type": "code",
   "execution_count": 605,
   "id": "ef5a181f",
   "metadata": {},
   "outputs": [
    {
     "data": {
      "text/plain": [
       "26    0.028\n",
       "27    0.143\n",
       "28    0.408\n",
       "29    0.583\n",
       "30    1.320\n",
       "31    1.782\n",
       "32    2.432\n",
       "33    3.213\n",
       "34    3.564\n",
       "35    3.670\n",
       "36    3.232\n",
       "Name: mean, dtype: float64"
      ]
     },
     "execution_count": 605,
     "metadata": {},
     "output_type": "execute_result"
    }
   ],
   "source": [
    "df.describe().loc['mean', :] # looks like $35 million bid maximizes"
   ]
  },
  {
   "cell_type": "code",
   "execution_count": 617,
   "id": "ab5d63a4",
   "metadata": {},
   "outputs": [
    {
     "data": {
      "image/png": "[encoded data removed]",
      "text/plain": [
       "<Figure size 720x576 with 1 Axes>"
      ]
     },
     "metadata": {
      "needs_background": "light"
     },
     "output_type": "display_data"
    }
   ],
   "source": [
    "plt.subplots(figsize=(10,8))\n",
    "sns.boxplot(data=df, palette=\"Set2\");"
   ]
  },
  {
   "cell_type": "markdown",
   "id": "c66c347c",
   "metadata": {},
   "source": [
    "***\n",
    "Широко применяемая непрерывная случайная величина является случайной величиной, имеющей равномерное распределение. Случайная величина с равномерным распределением — записываемая как $U(a, b)$ — с равной вероятностью может принимать любое значение между двумя заданными числами: $a$ и $b$. Объясните, почему формулу `=a+(b-a)*СЛЧИС()` можно применять для моделирования $U(a, b)$."
   ]
  },
  {
   "cell_type": "code",
   "execution_count": 618,
   "id": "a5391de4",
   "metadata": {},
   "outputs": [],
   "source": [
    "a = 2\n",
    "b = 10\n",
    "rand = np.random.rand()"
   ]
  },
  {
   "cell_type": "code",
   "execution_count": 621,
   "id": "4149a828",
   "metadata": {},
   "outputs": [
    {
     "data": {
      "text/plain": [
       "6.355975860749496"
      ]
     },
     "execution_count": 621,
     "metadata": {},
     "output_type": "execute_result"
    }
   ],
   "source": [
    "U = a + (b - a) * rand\n",
    "U"
   ]
  },
  {
   "cell_type": "markdown",
   "id": "82defd8c",
   "metadata": {},
   "source": [
    "Когда `rand()=0`, мы получаем, $a$ когда `rand()=1`, получаем $b$. Поскольку `rand()` одинаково вероятно\n",
    "в промежутке в 0-1,  $U$ в равной степени будет где-то между $a$ и $b$."
   ]
  },
  {
   "cell_type": "markdown",
   "id": "f96e46e5",
   "metadata": {},
   "source": [
    "***\n",
    "Инвестор Питер Фишер предлагает цену за биотехническую компанию. Компания с равной вероятностью может стоить от 0 до 200 долларов за акцию. Только сама компания знает свою истинную стоимость. Питер настолько известный инвестор, что рынок немедленно оценит стоимость компании на 50% больше ее истинной стоимости. Какую цену должен предложить Питер за акцию компании?"
   ]
  },
  {
   "cell_type": "code",
   "execution_count": 622,
   "id": "f067d97f",
   "metadata": {},
   "outputs": [],
   "source": [
    "min_cost, max_cost = 0, 200\n",
    "rand = np.random.rand()\n",
    "worth_cost = min_cost + rand * max_cost\n",
    "value_after_buy = 1.5 * worth_cost\n",
    "bid = 50"
   ]
  },
  {
   "cell_type": "code",
   "execution_count": 628,
   "id": "7e41a827",
   "metadata": {},
   "outputs": [
    {
     "name": "stdout",
     "output_type": "stream",
     "text": [
      "bid accepted?: no\n",
      "profit: 0\n"
     ]
    }
   ],
   "source": [
    "print(f'bid accepted?: {[\"no\", \"yes\"][bid >= worth_cost]}')\n",
    "print(f'profit: {(profit := value_after_buy - bid) if profit > 0 else 0}')"
   ]
  },
  {
   "cell_type": "markdown",
   "id": "cb2ef5a3",
   "metadata": {},
   "source": [
    "Cимулировние размера ставки Питера с помощью метода Монте-Карло"
   ]
  },
  {
   "cell_type": "code",
   "execution_count": 672,
   "id": "067a51c1",
   "metadata": {},
   "outputs": [],
   "source": [
    "def buy_profit(bids_range):\n",
    "    result = dict()\n",
    "        \n",
    "    for bid in tqdm(bids_range):\n",
    "        worth_costs = (min_cost + np.random.random(size=1000) * max_cost)\n",
    "        profit = np.where(bid >= worth_costs, worth_costs * 1.5 - bid, 0)\n",
    "        result[bid] = profit\n",
    "    return pd.DataFrame(result)"
   ]
  },
  {
   "cell_type": "code",
   "execution_count": 673,
   "id": "4236c66e",
   "metadata": {},
   "outputs": [
    {
     "data": {
      "application/vnd.jupyter.widget-view+json": {
       "model_id": "7892cff0c6b54f389e4f8f7e74c1c905",
       "version_major": 2,
       "version_minor": 0
      },
      "text/plain": [
       "  0%|          | 0/9 [00:00<?, ?it/s]"
      ]
     },
     "metadata": {},
     "output_type": "display_data"
    }
   ],
   "source": [
    "df = buy_profit(np.linspace(0, 200, 9).astype(int))"
   ]
  },
  {
   "cell_type": "code",
   "execution_count": 674,
   "id": "0736f816",
   "metadata": {},
   "outputs": [
    {
     "data": {
      "text/plain": [
       "0       0.000000\n",
       "25     -0.619897\n",
       "50     -3.570396\n",
       "75     -6.503730\n",
       "100   -13.241682\n",
       "125   -20.185984\n",
       "150   -26.235828\n",
       "175   -36.187742\n",
       "200   -52.820119\n",
       "Name: mean, dtype: float64"
      ]
     },
     "execution_count": 674,
     "metadata": {},
     "output_type": "execute_result"
    }
   ],
   "source": [
    "df.describe().loc['mean', :] # The more you bid the more you lose so bid nothing"
   ]
  },
  {
   "cell_type": "markdown",
   "id": "132ab871",
   "metadata": {},
   "source": [
    "Чем больше предложение, тем больше потери, таким образом лучше ничего не покупать."
   ]
  },
  {
   "cell_type": "markdown",
   "id": "748dbec1",
   "metadata": {},
   "source": [
    "***\n",
    "Ичиро Сузуки (Ichiro Suzuki), игрок бейсбольной команды Seattle Mariners, приглашен на арбитраж по повышению своей зарплаты. Процедура арбитража в Высшей бейсбольной лиге проходит следующим образом: игрок представляет на рассмотрение размер зарплаты, которую, по его мнению, ему должны платить, то же самое делает команда. Арбитр (не видя размера зарплат, представленных игроком или командой) оценивает истинную зарплату. Игрок получает ту из предложенных зарплат, которая ближе к оценке арбитра. Например, предположим, что Ичиро представил на рассмотрение зарплату в 12 млн долларов, а команда Seattle Mariners — 7 млн долларов. Если арбитр скажет, что истинная зарплата равно 10 млн долларов, Ичиро получит свои 12 миллионов, тогда как, если арбитр скажет, что истинная зарплата равна 9 млн долларов, Ичиро получит только 7 миллионов. Предположим, что оценка арбитра с равной вероятностью находится где-то между 8 и 11 млн долларов, а предложение команды с равной вероятностью составляет от 6 до 9 млн долларов. Какую зарплату должен предложить Ичиро с точностью до 1 млн долларов?"
   ]
  },
  {
   "cell_type": "code",
   "execution_count": 698,
   "id": "f82f79c8",
   "metadata": {},
   "outputs": [
    {
     "name": "stdout",
     "output_type": "stream",
     "text": [
      "winner: team\n",
      "ichiro gets: 6.5439241018968755\n"
     ]
    }
   ],
   "source": [
    "ichiro_asks_for = 12\n",
    "arbiter_offer = 8 + 3 * np.random.rand()\n",
    "team_offer = 6 + 3 * np.random.rand()\n",
    "team_minus_arbiter = abs(team_offer - arbiter_offer)\n",
    "ichiro_minus_arbiter = abs(ichiro_asks_for - arbiter_offer)\n",
    "\n",
    "print(f'winner: {[\"ichiro\", \"team\"][(win := ichiro_minus_arbiter < team_minus_arbiter)]}\\n'\n",
    "      f'ichiro gets: {team_offer if win else ichiro_asks_for}'\n",
    "     )"
   ]
  },
  {
   "cell_type": "markdown",
   "id": "b5fcac32",
   "metadata": {},
   "source": [
    "Cимулировние размера зарплатных ожиданий Ичиро с помощью метода Монте-Карло"
   ]
  },
  {
   "cell_type": "code",
   "execution_count": 721,
   "id": "75087234",
   "metadata": {},
   "outputs": [],
   "source": [
    "def sim_offer(ask_range):\n",
    "    result = dict()\n",
    "        \n",
    "    for ask in tqdm(ask_range):\n",
    "        arbiter_offer = 8 + 3 * np.random.random(size=1000)\n",
    "        team_offer = 6 + 3 * np.random.random(size=1000)\n",
    "        team_minus_arbiter = np.abs(team_offer - arbiter_offer)\n",
    "        ichiro_minus_arbiter = abs(ask - arbiter_offer)\n",
    "        winner = np.where(ichiro_minus_arbiter < team_minus_arbiter, ask, team_offer)\n",
    "        result[ask] = winner\n",
    "    return pd.DataFrame(result)"
   ]
  },
  {
   "cell_type": "code",
   "execution_count": 722,
   "id": "d07a3185",
   "metadata": {},
   "outputs": [
    {
     "data": {
      "application/vnd.jupyter.widget-view+json": {
       "model_id": "e1a1671f26784bec9ba63c72fd41dade",
       "version_major": 2,
       "version_minor": 0
      },
      "text/plain": [
       "  0%|          | 0/5 [00:00<?, ?it/s]"
      ]
     },
     "metadata": {},
     "output_type": "display_data"
    }
   ],
   "source": [
    "df = sim_offer(np.linspace(10, 12, 5))"
   ]
  },
  {
   "cell_type": "code",
   "execution_count": 723,
   "id": "b2b182fb",
   "metadata": {},
   "outputs": [
    {
     "data": {
      "text/html": [
       "<div>\n",
       "<style scoped>\n",
       "    .dataframe tbody tr th:only-of-type {\n",
       "        vertical-align: middle;\n",
       "    }\n",
       "\n",
       "    .dataframe tbody tr th {\n",
       "        vertical-align: top;\n",
       "    }\n",
       "\n",
       "    .dataframe thead th {\n",
       "        text-align: right;\n",
       "    }\n",
       "</style>\n",
       "<table border=\"1\" class=\"dataframe\">\n",
       "  <thead>\n",
       "    <tr style=\"text-align: right;\">\n",
       "      <th></th>\n",
       "      <th>10.0</th>\n",
       "      <th>10.5</th>\n",
       "      <th>11.0</th>\n",
       "      <th>11.5</th>\n",
       "      <th>12.0</th>\n",
       "    </tr>\n",
       "  </thead>\n",
       "  <tbody>\n",
       "    <tr>\n",
       "      <th>0</th>\n",
       "      <td>8.436847</td>\n",
       "      <td>10.500000</td>\n",
       "      <td>11.000000</td>\n",
       "      <td>11.500000</td>\n",
       "      <td>12.000000</td>\n",
       "    </tr>\n",
       "    <tr>\n",
       "      <th>1</th>\n",
       "      <td>8.702740</td>\n",
       "      <td>10.500000</td>\n",
       "      <td>11.000000</td>\n",
       "      <td>11.500000</td>\n",
       "      <td>6.819606</td>\n",
       "    </tr>\n",
       "    <tr>\n",
       "      <th>2</th>\n",
       "      <td>7.964411</td>\n",
       "      <td>10.500000</td>\n",
       "      <td>11.000000</td>\n",
       "      <td>6.736300</td>\n",
       "      <td>6.221083</td>\n",
       "    </tr>\n",
       "    <tr>\n",
       "      <th>3</th>\n",
       "      <td>10.000000</td>\n",
       "      <td>10.500000</td>\n",
       "      <td>11.000000</td>\n",
       "      <td>11.500000</td>\n",
       "      <td>12.000000</td>\n",
       "    </tr>\n",
       "    <tr>\n",
       "      <th>4</th>\n",
       "      <td>10.000000</td>\n",
       "      <td>8.192437</td>\n",
       "      <td>11.000000</td>\n",
       "      <td>6.892511</td>\n",
       "      <td>12.000000</td>\n",
       "    </tr>\n",
       "    <tr>\n",
       "      <th>...</th>\n",
       "      <td>...</td>\n",
       "      <td>...</td>\n",
       "      <td>...</td>\n",
       "      <td>...</td>\n",
       "      <td>...</td>\n",
       "    </tr>\n",
       "    <tr>\n",
       "      <th>995</th>\n",
       "      <td>10.000000</td>\n",
       "      <td>6.657196</td>\n",
       "      <td>11.000000</td>\n",
       "      <td>8.405787</td>\n",
       "      <td>12.000000</td>\n",
       "    </tr>\n",
       "    <tr>\n",
       "      <th>996</th>\n",
       "      <td>10.000000</td>\n",
       "      <td>7.800096</td>\n",
       "      <td>11.000000</td>\n",
       "      <td>7.798985</td>\n",
       "      <td>8.603676</td>\n",
       "    </tr>\n",
       "    <tr>\n",
       "      <th>997</th>\n",
       "      <td>8.252665</td>\n",
       "      <td>10.500000</td>\n",
       "      <td>11.000000</td>\n",
       "      <td>11.500000</td>\n",
       "      <td>12.000000</td>\n",
       "    </tr>\n",
       "    <tr>\n",
       "      <th>998</th>\n",
       "      <td>10.000000</td>\n",
       "      <td>10.500000</td>\n",
       "      <td>8.759085</td>\n",
       "      <td>6.469745</td>\n",
       "      <td>8.352171</td>\n",
       "    </tr>\n",
       "    <tr>\n",
       "      <th>999</th>\n",
       "      <td>8.462861</td>\n",
       "      <td>7.043095</td>\n",
       "      <td>11.000000</td>\n",
       "      <td>7.873135</td>\n",
       "      <td>8.594293</td>\n",
       "    </tr>\n",
       "  </tbody>\n",
       "</table>\n",
       "<p>1000 rows × 5 columns</p>\n",
       "</div>"
      ],
      "text/plain": [
       "          10.0       10.5       11.0       11.5       12.0\n",
       "0     8.436847  10.500000  11.000000  11.500000  12.000000\n",
       "1     8.702740  10.500000  11.000000  11.500000   6.819606\n",
       "2     7.964411  10.500000  11.000000   6.736300   6.221083\n",
       "3    10.000000  10.500000  11.000000  11.500000  12.000000\n",
       "4    10.000000   8.192437  11.000000   6.892511  12.000000\n",
       "..         ...        ...        ...        ...        ...\n",
       "995  10.000000   6.657196  11.000000   8.405787  12.000000\n",
       "996  10.000000   7.800096  11.000000   7.798985   8.603676\n",
       "997   8.252665  10.500000  11.000000  11.500000  12.000000\n",
       "998  10.000000  10.500000   8.759085   6.469745   8.352171\n",
       "999   8.462861   7.043095  11.000000   7.873135   8.594293\n",
       "\n",
       "[1000 rows x 5 columns]"
      ]
     },
     "execution_count": 723,
     "metadata": {},
     "output_type": "execute_result"
    }
   ],
   "source": [
    "df"
   ]
  },
  {
   "cell_type": "code",
   "execution_count": 724,
   "id": "3d95f2fa",
   "metadata": {},
   "outputs": [
    {
     "data": {
      "text/plain": [
       "10.0    9.483127\n",
       "10.5    9.576317\n",
       "11.0    9.738827\n",
       "11.5    9.606588\n",
       "12.0    9.536293\n",
       "Name: mean, dtype: float64"
      ]
     },
     "execution_count": 724,
     "metadata": {},
     "output_type": "execute_result"
    }
   ],
   "source": [
    "df.describe().loc['mean', :] # looks like 11 million maximizes mean profit "
   ]
  },
  {
   "cell_type": "code",
   "execution_count": 725,
   "id": "5dbd19af",
   "metadata": {},
   "outputs": [
    {
     "data": {
      "image/png": "[encoded data removed]",
      "text/plain": [
       "<Figure size 720x576 with 1 Axes>"
      ]
     },
     "metadata": {
      "needs_background": "light"
     },
     "output_type": "display_data"
    }
   ],
   "source": [
    "plt.subplots(figsize=(10,8))\n",
    "sns.boxplot(data=df, palette=\"Set3\");"
   ]
  },
  {
   "cell_type": "markdown",
   "id": "cd0bd86f",
   "metadata": {},
   "source": [
    "Похоже, что предложение зарплаты в 11 миллионов максимизирует вероятность получить максимальный оффер."
   ]
  },
  {
   "cell_type": "markdown",
   "id": "786d4f54",
   "metadata": {},
   "source": [
    "# Моделирование цен на акции и распределения средств между активами\n",
    "\n",
    "Последние несколько лет показали, что будущие доходы от инвестиций являются весьма неопределенными. Многие финансовые эксперты критикуют использование логарифмически нормальной случайной величины для моделирования цен на акции, поскольку логарифмически нормальное распределение недооценивает вероятность экстремальных событий (которые часто называют \"черными лебедями\"). В этой главе рассматривается относительно простой подход к оценке неопределенности будущих доходов от инвестиций. Этот подход основан на идее бутстреппинга. По существу, идея бутстреппинга при моделировании будущих доходов от инвестиций состоит в предположении, что будущее подобно прошлому. Например, если необходимо смоделировать цену акции GE через год, можно предположить, что ежемесячное относительное изменение цены — это с равной вероятностью относительное изменение цены в один из предыдущих 60 месяцев. Этот метод позволяет быстро сгенерировать тысячи сценариев для будущей стоимости инвестиций. Кроме того, в сценариях, предполагающих, что будущие изменчивость и среднее значение доходов подобны прошлым, можно легко отразить мнение о том, что будущие доходы от инвестиций будут меньше или больше, чем в недавнем прошлом.\n",
    "\n",
    "**Я недавно купил 100 акций компании GE. Какова вероятность того, что в течение следующего года эта инвестиция принесет доход более 10%?**\n",
    "\n",
    "Предположим, что акции GE в настоящее время продаются по 28,50 долларов за акцию. Данные о ежемесячных доходах по акции GE (а также по акции Microsoft и Intel) для периода времени с августа 1997 г. по июль 2002 г. находятся в файле Gesim.xlsx. Например, в месяце, заканчивающемся 2 августа 2002 г. (по существу, это июль 2002 г.), акция GE потеряла в цене 12,1%. Эти доходы включают дивиденды (если таковые имеются), выплачиваемые каждой компанией.\n",
    "\n",
    "Цена на акцию GE через год не определена. Так каким образом можно получить представление о диапазоне изменения цены на акцию GE в течение года, начиная с текущего момента? Бутстреппинг позволяет оценить доход по акции GE для каждого из следующих 12 месяцев на основе предположения о том, что доход в каждом месяце с одинаковой вероятностью может быть равен доходу в любом из перечисленных 60 месяцев.\n",
    "\n",
    "**Я пытаюсь распределить мой инвестиционный портфель между акциями, казначейскими векселями и облигациями. Какое распределение средств между активами в рамках пятилетнего горизонта планирования принесет ожидаемый доход не менее 10% и минимизирует риск?** \n",
    "\n",
    "Ключевым решением, принимаемым отдельными лицами, менеджерами открытых фондов и другими инвесторами, является распределение средств между различными классами активов с учетом будущей неопределенности доходов для этих классов активов. Разумный подход к распределению средств между активами состоит в применении бутстреппинга при генерации одной тысячи смоделированных значений для будущих стоимостей каждого класса активов.\n",
    "\n",
    "***\n",
    "Данные к заданиям 1—3 находятся в файле Gesim.xlsx.\n",
    "1. Пусть текущая цена акции Microsoft составляет 28 долларов. Какова вероятность того, что через два года акция Microsoft будет стоить не менее 35 долларов?"
   ]
  },
  {
   "cell_type": "code",
   "execution_count": 732,
   "id": "405d1ba4",
   "metadata": {},
   "outputs": [],
   "source": [
    "gesim = pd.read_excel('~/Study/excel/Ch75/Practice Files/Gesim.xlsx',\n",
    "                      skiprows=3, usecols=range(2,6), names=['Date', 'MSFT', 'INTC', 'GE']).dropna()"
   ]
  },
  {
   "cell_type": "code",
   "execution_count": 734,
   "id": "9ef78f6a",
   "metadata": {},
   "outputs": [
    {
     "data": {
      "text/html": [
       "<div>\n",
       "<style scoped>\n",
       "    .dataframe tbody tr th:only-of-type {\n",
       "        vertical-align: middle;\n",
       "    }\n",
       "\n",
       "    .dataframe tbody tr th {\n",
       "        vertical-align: top;\n",
       "    }\n",
       "\n",
       "    .dataframe thead th {\n",
       "        text-align: right;\n",
       "    }\n",
       "</style>\n",
       "<table border=\"1\" class=\"dataframe\">\n",
       "  <thead>\n",
       "    <tr style=\"text-align: right;\">\n",
       "      <th></th>\n",
       "      <th>Date</th>\n",
       "      <th>MSFT</th>\n",
       "      <th>INTC</th>\n",
       "      <th>GE</th>\n",
       "    </tr>\n",
       "  </thead>\n",
       "  <tbody>\n",
       "    <tr>\n",
       "      <th>0</th>\n",
       "      <td>2002-08-02</td>\n",
       "      <td>-0.083160</td>\n",
       "      <td>-0.153969</td>\n",
       "      <td>-0.121118</td>\n",
       "    </tr>\n",
       "    <tr>\n",
       "      <th>1</th>\n",
       "      <td>2002-07-02</td>\n",
       "      <td>-0.122852</td>\n",
       "      <td>0.028493</td>\n",
       "      <td>0.108434</td>\n",
       "    </tr>\n",
       "    <tr>\n",
       "      <th>2</th>\n",
       "      <td>2002-06-02</td>\n",
       "      <td>0.074445</td>\n",
       "      <td>-0.338528</td>\n",
       "      <td>-0.061389</td>\n",
       "    </tr>\n",
       "    <tr>\n",
       "      <th>3</th>\n",
       "      <td>2002-05-02</td>\n",
       "      <td>-0.025832</td>\n",
       "      <td>-0.034640</td>\n",
       "      <td>-0.012759</td>\n",
       "    </tr>\n",
       "    <tr>\n",
       "      <th>4</th>\n",
       "      <td>2002-04-02</td>\n",
       "      <td>-0.133477</td>\n",
       "      <td>-0.058940</td>\n",
       "      <td>-0.156578</td>\n",
       "    </tr>\n",
       "  </tbody>\n",
       "</table>\n",
       "</div>"
      ],
      "text/plain": [
       "        Date      MSFT      INTC        GE\n",
       "0 2002-08-02 -0.083160 -0.153969 -0.121118\n",
       "1 2002-07-02 -0.122852  0.028493  0.108434\n",
       "2 2002-06-02  0.074445 -0.338528 -0.061389\n",
       "3 2002-05-02 -0.025832 -0.034640 -0.012759\n",
       "4 2002-04-02 -0.133477 -0.058940 -0.156578"
      ]
     },
     "execution_count": 734,
     "metadata": {},
     "output_type": "execute_result"
    }
   ],
   "source": [
    "gesim.head()"
   ]
  },
  {
   "cell_type": "code",
   "execution_count": 735,
   "id": "9e9c18d9",
   "metadata": {},
   "outputs": [],
   "source": [
    "start_price = 28\n",
    "return_sample = gesim.MSFT.sample(12, replace=True)"
   ]
  },
  {
   "cell_type": "code",
   "execution_count": 750,
   "id": "03d5e356",
   "metadata": {},
   "outputs": [
    {
     "data": {
      "text/plain": [
       "24    0.000000\n",
       "42   -0.142057\n",
       "18   -0.033737\n",
       "26    0.278772\n",
       "7    -0.038340\n",
       "41    0.193819\n",
       "54    0.136193\n",
       "11   -0.103067\n",
       "8     0.031771\n",
       "43    0.261716\n",
       "22    0.141933\n",
       "11   -0.103067\n",
       "Name: MSFT, dtype: float64"
      ]
     },
     "execution_count": 750,
     "metadata": {},
     "output_type": "execute_result"
    }
   ],
   "source": [
    "return_sample"
   ]
  },
  {
   "cell_type": "code",
   "execution_count": 779,
   "id": "27f8f264",
   "metadata": {},
   "outputs": [],
   "source": [
    "sim = []\n",
    "for _ in range(1000):\n",
    "    start_price = 28\n",
    "    return_sample = gesim.MSFT.sample(12, replace=True)\n",
    "    end_price = [(start_price := (1 + x) * start_price) for x in return_sample][-1]\n",
    "    sim.append(end_price)"
   ]
  },
  {
   "cell_type": "code",
   "execution_count": 782,
   "id": "41d4000a",
   "metadata": {},
   "outputs": [
    {
     "data": {
      "text/plain": [
       "0.366"
      ]
     },
     "execution_count": 782,
     "metadata": {},
     "output_type": "execute_result"
    }
   ],
   "source": [
    "sum(x >= 35 for x in sim) / 1000 # Prob >= $35"
   ]
  },
  {
   "cell_type": "markdown",
   "id": "f68bef65",
   "metadata": {},
   "source": [
    "Вероятность того, что через два года акция Microsoft будет стоить не менее 35 долларов около 37%"
   ]
  },
  {
   "cell_type": "markdown",
   "id": "9a115305",
   "metadata": {},
   "source": [
    "2. Выполните задание 1 с предположением, что в течение следующих двух лет доход по акциям Microsoft в среднем будет на 6% в год выше, чем в период с 1997 по 2002 гг., для которого имеются исторические данные."
   ]
  },
  {
   "cell_type": "code",
   "execution_count": 789,
   "id": "154ecfe6",
   "metadata": {},
   "outputs": [],
   "source": [
    "sim = []\n",
    "for _ in range(1000):\n",
    "    start_price = 28\n",
    "    return_sample = gesim.MSFT.sample(12, replace=True)\n",
    "    end_price = [(start_price := (1 + x) * start_price) for x in return_sample][-1]\n",
    "    sim.append(end_price - 0.06 * 28) # took off 6% of initial price here"
   ]
  },
  {
   "cell_type": "code",
   "execution_count": 791,
   "id": "2334e920",
   "metadata": {},
   "outputs": [
    {
     "data": {
      "text/plain": [
       "0.315"
      ]
     },
     "execution_count": 791,
     "metadata": {},
     "output_type": "execute_result"
    }
   ],
   "source": [
    "sum(x >= 35 for x in sim) / 1000 # Prob >= $35"
   ]
  },
  {
   "cell_type": "markdown",
   "id": "ed6bdc86",
   "metadata": {},
   "source": [
    "Если применить предположение о том, что доход по акциям в среднем будет на 6% в год выше, чем в период с 1997 по 2002 гг, вероятность составила 31%."
   ]
  },
  {
   "cell_type": "markdown",
   "id": "8f6494df",
   "metadata": {},
   "source": [
    "3. Предположим, что текущая цена акции Intel составляет 20 долларов. Какова вероятность того, что в течение следующих трех лет доход от приобретения акции Intel составит не менее 30% (для трехлетнего периода)?"
   ]
  },
  {
   "cell_type": "markdown",
   "id": "9e7f74d1",
   "metadata": {},
   "source": [
    "Определение годового дохода за трехлетний моделируемый период для каждого созданного сценария. Обратите внимание, что (1 + годовой доход)^3 = (окончательная стоимость портфеля)/(начальная стоимость\n",
    "портфеля). Так как начальная стоимость портфеля равна 1 доллару, то годовой доход равен (окончательная стоимость портфеля)^1/3 – 1."
   ]
  },
  {
   "cell_type": "code",
   "execution_count": 792,
   "id": "040f5d18",
   "metadata": {},
   "outputs": [],
   "source": [
    "sim = []\n",
    "years = 3\n",
    "months = 12 * years\n",
    "for _ in range(1000):\n",
    "    start_price = 20\n",
    "    return_sample = gesim.INTC.sample(months, replace=True)\n",
    "    end_price = [(start_price:=(1 + x) * start_price) for x in return_sample][-1]\n",
    "    sim.append((end_price / 20) ** (1/years) - 1) # annual return"
   ]
  },
  {
   "cell_type": "code",
   "execution_count": 793,
   "id": "0cda3b2a",
   "metadata": {},
   "outputs": [
    {
     "data": {
      "text/plain": [
       "0.151"
      ]
     },
     "execution_count": 793,
     "metadata": {},
     "output_type": "execute_result"
    }
   ],
   "source": [
    "sum(x >= .3 for x in sim) / 1000 # Prob > 30% annual return"
   ]
  },
  {
   "cell_type": "markdown",
   "id": "a126d45b",
   "metadata": {},
   "source": [
    "Вероятность около 15%, что годовая прибыль будет больше 30%."
   ]
  },
  {
   "cell_type": "markdown",
   "id": "9bc6d0ad",
   "metadata": {},
   "source": [
    "***\n",
    "Определите взаимосвязь (на основе данных за 1973—2009 гг.) между годовыми доходами по акциям, векселям и облигациям. Затем определите взаимосвязь (на основе тысячи сценариев, созданных с помощью бутстреппинга) между окончательной стоимостью акций, векселей и облигаций. Не кажется ли вам, что подход с использованием бутстреппинга позволяет быстро определить взаимозависимость между доходами по акциям, векселям и облигациям?"
   ]
  },
  {
   "cell_type": "code",
   "execution_count": 1056,
   "id": "248b4e1a",
   "metadata": {},
   "outputs": [],
   "source": [
    "assetallsim = pd.read_excel('~/Study/excel/Ch75/Practice Files/Assetallsim.xlsx',\n",
    "                      skiprows=6, usecols=range(4)).dropna()"
   ]
  },
  {
   "cell_type": "code",
   "execution_count": 1058,
   "id": "7bb3153e",
   "metadata": {},
   "outputs": [
    {
     "data": {
      "text/html": [
       "<div>\n",
       "<style scoped>\n",
       "    .dataframe tbody tr th:only-of-type {\n",
       "        vertical-align: middle;\n",
       "    }\n",
       "\n",
       "    .dataframe tbody tr th {\n",
       "        vertical-align: top;\n",
       "    }\n",
       "\n",
       "    .dataframe thead th {\n",
       "        text-align: right;\n",
       "    }\n",
       "</style>\n",
       "<table border=\"1\" class=\"dataframe\">\n",
       "  <thead>\n",
       "    <tr style=\"text-align: right;\">\n",
       "      <th></th>\n",
       "      <th>Year</th>\n",
       "      <th>Stocks</th>\n",
       "      <th>T.Bills</th>\n",
       "      <th>T.Bonds</th>\n",
       "    </tr>\n",
       "  </thead>\n",
       "  <tbody>\n",
       "    <tr>\n",
       "      <th>0</th>\n",
       "      <td>1973.0</td>\n",
       "      <td>-0.1431</td>\n",
       "      <td>0.0507</td>\n",
       "      <td>0.0366</td>\n",
       "    </tr>\n",
       "    <tr>\n",
       "      <th>1</th>\n",
       "      <td>1974.0</td>\n",
       "      <td>-0.2590</td>\n",
       "      <td>0.0745</td>\n",
       "      <td>0.0199</td>\n",
       "    </tr>\n",
       "    <tr>\n",
       "      <th>2</th>\n",
       "      <td>1975.0</td>\n",
       "      <td>0.3700</td>\n",
       "      <td>0.0715</td>\n",
       "      <td>0.0361</td>\n",
       "    </tr>\n",
       "    <tr>\n",
       "      <th>3</th>\n",
       "      <td>1976.0</td>\n",
       "      <td>0.2383</td>\n",
       "      <td>0.0544</td>\n",
       "      <td>0.1598</td>\n",
       "    </tr>\n",
       "    <tr>\n",
       "      <th>4</th>\n",
       "      <td>1977.0</td>\n",
       "      <td>-0.0698</td>\n",
       "      <td>0.0435</td>\n",
       "      <td>0.0129</td>\n",
       "    </tr>\n",
       "  </tbody>\n",
       "</table>\n",
       "</div>"
      ],
      "text/plain": [
       "     Year  Stocks  T.Bills  T.Bonds\n",
       "0  1973.0 -0.1431   0.0507   0.0366\n",
       "1  1974.0 -0.2590   0.0745   0.0199\n",
       "2  1975.0  0.3700   0.0715   0.0361\n",
       "3  1976.0  0.2383   0.0544   0.1598\n",
       "4  1977.0 -0.0698   0.0435   0.0129"
      ]
     },
     "execution_count": 1058,
     "metadata": {},
     "output_type": "execute_result"
    }
   ],
   "source": [
    "assetallsim.head()"
   ]
  },
  {
   "cell_type": "code",
   "execution_count": 1059,
   "id": "52a17eda",
   "metadata": {},
   "outputs": [],
   "source": [
    "years = 5\n",
    "start_price = 1\n",
    "return_sample = assetallsim.sample(years, replace=True)"
   ]
  },
  {
   "cell_type": "code",
   "execution_count": 1103,
   "id": "efcc3715",
   "metadata": {},
   "outputs": [],
   "source": [
    "sim = dict()\n",
    "columns = ['Stocks', 'T.Bills', 'T.Bonds']\n",
    "\n",
    "for column in columns:\n",
    "    prices = []\n",
    "    \n",
    "    for _ in range(1000):\n",
    "        start_price = 1\n",
    "        return_sample = assetallsim[column].sample(years, replace=True)\n",
    "        # values = return_sample[column]\n",
    "        end_price = [(start_price:=(1 + x) * start_price) for x in return_sample][-1]\n",
    "        prices.append(end_price ** (1/years) - 1)\n",
    "    sim[column] = prices\n",
    "\n",
    "simulated = pd.DataFrame(sim)"
   ]
  },
  {
   "cell_type": "code",
   "execution_count": 1105,
   "id": "02025e13",
   "metadata": {},
   "outputs": [
    {
     "data": {
      "text/html": [
       "<div>\n",
       "<style scoped>\n",
       "    .dataframe tbody tr th:only-of-type {\n",
       "        vertical-align: middle;\n",
       "    }\n",
       "\n",
       "    .dataframe tbody tr th {\n",
       "        vertical-align: top;\n",
       "    }\n",
       "\n",
       "    .dataframe thead th {\n",
       "        text-align: right;\n",
       "    }\n",
       "</style>\n",
       "<table border=\"1\" class=\"dataframe\">\n",
       "  <thead>\n",
       "    <tr style=\"text-align: right;\">\n",
       "      <th></th>\n",
       "      <th>Stocks</th>\n",
       "      <th>T.Bills</th>\n",
       "      <th>T.Bonds</th>\n",
       "    </tr>\n",
       "  </thead>\n",
       "  <tbody>\n",
       "    <tr>\n",
       "      <th>0</th>\n",
       "      <td>0.117465</td>\n",
       "      <td>0.029587</td>\n",
       "      <td>0.102367</td>\n",
       "    </tr>\n",
       "    <tr>\n",
       "      <th>1</th>\n",
       "      <td>0.072599</td>\n",
       "      <td>0.140185</td>\n",
       "      <td>0.035539</td>\n",
       "    </tr>\n",
       "    <tr>\n",
       "      <th>2</th>\n",
       "      <td>0.094647</td>\n",
       "      <td>0.053246</td>\n",
       "      <td>0.019545</td>\n",
       "    </tr>\n",
       "    <tr>\n",
       "      <th>3</th>\n",
       "      <td>0.094746</td>\n",
       "      <td>0.067326</td>\n",
       "      <td>0.065628</td>\n",
       "    </tr>\n",
       "    <tr>\n",
       "      <th>4</th>\n",
       "      <td>0.027027</td>\n",
       "      <td>0.058715</td>\n",
       "      <td>0.034469</td>\n",
       "    </tr>\n",
       "    <tr>\n",
       "      <th>...</th>\n",
       "      <td>...</td>\n",
       "      <td>...</td>\n",
       "      <td>...</td>\n",
       "    </tr>\n",
       "    <tr>\n",
       "      <th>995</th>\n",
       "      <td>0.089222</td>\n",
       "      <td>0.045030</td>\n",
       "      <td>0.054787</td>\n",
       "    </tr>\n",
       "    <tr>\n",
       "      <th>996</th>\n",
       "      <td>0.123532</td>\n",
       "      <td>0.053937</td>\n",
       "      <td>0.086833</td>\n",
       "    </tr>\n",
       "    <tr>\n",
       "      <th>997</th>\n",
       "      <td>0.267552</td>\n",
       "      <td>0.067559</td>\n",
       "      <td>0.067888</td>\n",
       "    </tr>\n",
       "    <tr>\n",
       "      <th>998</th>\n",
       "      <td>0.112910</td>\n",
       "      <td>0.066206</td>\n",
       "      <td>0.094675</td>\n",
       "    </tr>\n",
       "    <tr>\n",
       "      <th>999</th>\n",
       "      <td>0.025084</td>\n",
       "      <td>0.032012</td>\n",
       "      <td>0.097338</td>\n",
       "    </tr>\n",
       "  </tbody>\n",
       "</table>\n",
       "<p>1000 rows × 3 columns</p>\n",
       "</div>"
      ],
      "text/plain": [
       "       Stocks   T.Bills   T.Bonds\n",
       "0    0.117465  0.029587  0.102367\n",
       "1    0.072599  0.140185  0.035539\n",
       "2    0.094647  0.053246  0.019545\n",
       "3    0.094746  0.067326  0.065628\n",
       "4    0.027027  0.058715  0.034469\n",
       "..        ...       ...       ...\n",
       "995  0.089222  0.045030  0.054787\n",
       "996  0.123532  0.053937  0.086833\n",
       "997  0.267552  0.067559  0.067888\n",
       "998  0.112910  0.066206  0.094675\n",
       "999  0.025084  0.032012  0.097338\n",
       "\n",
       "[1000 rows x 3 columns]"
      ]
     },
     "execution_count": 1105,
     "metadata": {},
     "output_type": "execute_result"
    }
   ],
   "source": [
    "simulated"
   ]
  },
  {
   "cell_type": "code",
   "execution_count": 1075,
   "id": "fe1dad79",
   "metadata": {},
   "outputs": [
    {
     "data": {
      "text/html": [
       "<div>\n",
       "<style scoped>\n",
       "    .dataframe tbody tr th:only-of-type {\n",
       "        vertical-align: middle;\n",
       "    }\n",
       "\n",
       "    .dataframe tbody tr th {\n",
       "        vertical-align: top;\n",
       "    }\n",
       "\n",
       "    .dataframe thead th {\n",
       "        text-align: right;\n",
       "    }\n",
       "</style>\n",
       "<table border=\"1\" class=\"dataframe\">\n",
       "  <thead>\n",
       "    <tr style=\"text-align: right;\">\n",
       "      <th></th>\n",
       "      <th>Stocks</th>\n",
       "      <th>T.Bills</th>\n",
       "      <th>T.Bonds</th>\n",
       "    </tr>\n",
       "  </thead>\n",
       "  <tbody>\n",
       "    <tr>\n",
       "      <th>Stocks</th>\n",
       "      <td>1.000000</td>\n",
       "      <td>-0.403120</td>\n",
       "      <td>0.271472</td>\n",
       "    </tr>\n",
       "    <tr>\n",
       "      <th>T.Bills</th>\n",
       "      <td>-0.403120</td>\n",
       "      <td>1.000000</td>\n",
       "      <td>0.068434</td>\n",
       "    </tr>\n",
       "    <tr>\n",
       "      <th>T.Bonds</th>\n",
       "      <td>0.271472</td>\n",
       "      <td>0.068434</td>\n",
       "      <td>1.000000</td>\n",
       "    </tr>\n",
       "  </tbody>\n",
       "</table>\n",
       "</div>"
      ],
      "text/plain": [
       "           Stocks   T.Bills   T.Bonds\n",
       "Stocks   1.000000 -0.403120  0.271472\n",
       "T.Bills -0.403120  1.000000  0.068434\n",
       "T.Bonds  0.271472  0.068434  1.000000"
      ]
     },
     "execution_count": 1075,
     "metadata": {},
     "output_type": "execute_result"
    }
   ],
   "source": [
    "assetallsim[columns].corr() # Correlations of actual annual returns"
   ]
  },
  {
   "cell_type": "code",
   "execution_count": 1104,
   "id": "de0d690e",
   "metadata": {},
   "outputs": [
    {
     "data": {
      "text/html": [
       "<div>\n",
       "<style scoped>\n",
       "    .dataframe tbody tr th:only-of-type {\n",
       "        vertical-align: middle;\n",
       "    }\n",
       "\n",
       "    .dataframe tbody tr th {\n",
       "        vertical-align: top;\n",
       "    }\n",
       "\n",
       "    .dataframe thead th {\n",
       "        text-align: right;\n",
       "    }\n",
       "</style>\n",
       "<table border=\"1\" class=\"dataframe\">\n",
       "  <thead>\n",
       "    <tr style=\"text-align: right;\">\n",
       "      <th></th>\n",
       "      <th>Stocks</th>\n",
       "      <th>T.Bills</th>\n",
       "      <th>T.Bonds</th>\n",
       "    </tr>\n",
       "  </thead>\n",
       "  <tbody>\n",
       "    <tr>\n",
       "      <th>Stocks</th>\n",
       "      <td>1.000000</td>\n",
       "      <td>0.029969</td>\n",
       "      <td>-0.025698</td>\n",
       "    </tr>\n",
       "    <tr>\n",
       "      <th>T.Bills</th>\n",
       "      <td>0.029969</td>\n",
       "      <td>1.000000</td>\n",
       "      <td>0.011678</td>\n",
       "    </tr>\n",
       "    <tr>\n",
       "      <th>T.Bonds</th>\n",
       "      <td>-0.025698</td>\n",
       "      <td>0.011678</td>\n",
       "      <td>1.000000</td>\n",
       "    </tr>\n",
       "  </tbody>\n",
       "</table>\n",
       "</div>"
      ],
      "text/plain": [
       "           Stocks   T.Bills   T.Bonds\n",
       "Stocks   1.000000  0.029969 -0.025698\n",
       "T.Bills  0.029969  1.000000  0.011678\n",
       "T.Bonds -0.025698  0.011678  1.000000"
      ]
     },
     "execution_count": 1104,
     "metadata": {},
     "output_type": "execute_result"
    }
   ],
   "source": [
    "simulated[columns].corr() # Correlations of simulated 5 year returns"
   ]
  },
  {
   "cell_type": "markdown",
   "id": "f5ef386f",
   "metadata": {},
   "source": [
    "Мы видим, что корреляции очень похожи между реальным и смоделированным годовыми доходностями."
   ]
  },
  {
   "cell_type": "markdown",
   "id": "b3e3ad3e",
   "metadata": {},
   "source": [
    "# Моделирование вероятностей для азартных игр и спортивных соревнований\n",
    "Азартные игры и просмотр спортивных соревнований являются популярным времяпрепровождением. Я полагаю, азартные игры и спорт захватывают, поскольку никогда неизвестно, что произойдет дальше. Для аппроксимирования вероятностей наступления событий в азартных играх и спортивных соревнованиях подходит такой мощный инструмент, как моделирование по методу Монте-Карло. По существу, он оценивает вероятность путем многократного повторения игровой или соревновательной ситуации. Если, например, сыграть в кости 10 000 раз, выиграв 4900 раз, то вероятность выигрыша можно будет оценить как 4900/10 000 или 49%. Если сымитировать баскетбольный мужской Финал Четырех Национальной студенческой спортивной ассоциации 2003 г. тысячу раз и при этом команда Сиракьюсского университета выиграет 300 раз, то вероятность победы в чемпионате составит 300/1000 или 30%.\n",
    "\n",
    "### Какова вероятность выигрыша в кости?\n",
    "В игре в кости игрок бросает два кубика. Если выпадает 2, 3 или 12, игрок проигрывает. Если выпадает 7 или 11, игрок выигрывает. Если выпадает другая комбинация, игрок продолжает бросать кубики до тех пор, пока не выпадет число очков, выпавшее при первом броске (называемое \"пойнт\"), или 7. Если \"пойнт\" выпало раньше 7, игрок выигрывает. Если 7 выпало раньше, игрок проигрывает. Путем сложных вычислений можно показать, что вероятность выигрыша при игре в кости составляет 0,493. Для аппроксимирования этой вероятности можно сымитировать игру в кости множество раз (2000 раз в данном примере).\n",
    "\n",
    "Важно помнить, что в этой игре заранее неизвестно, сколько бросков потребуется для ее завершения. Пример показывает, что игра с числом бросков более 50 крайне маловероятна, поэтому, предположим, что игра состоит из 50 бросков. После каждого броска состояние игры определяется следующим образом:\n",
    "- 0 — игра проиграна;\n",
    "- 1 — игра выиграна;\n",
    "- 2 — игра продолжается.\n",
    "\n",
    "Для 2000 итераций выигрыш составил 49,15%. При большем числе испытаний (например, в случае 10 000 итераций) процент выигрыша приблизится к истинной вероятности выигрыша в игре в кости (49,3%).\n",
    "\n",
    "### Какова вероятность получения \"тройки\" в пятикарточном покере?\n",
    "\n",
    "Обычная колода карт содержит по четыре карты каждого ранга: четыре туза, четыре двойки и т. д. до четырех королей. Для вычисления вероятности получения конкретной покерной комбинации можно присвоить тузу значение 1, двойке значение 2 и т. д. до валета, которому присваивается значение 11, даме присваивается значение 12 и королю — значение 13.\n",
    "\n",
    "В пятикарточном покере необходимо собрать комбинацию из пяти карт. Здесь многие вероятности представляют интерес, но ограничимся оценкой вероятности получения \"тройки\", для чего требуются три карты одного ранга и отсутствие пары. (Если у вас есть пара карт одного ранга и три карты другого ранга, то вы держите в руках \"фулл хауз\".) Для имитации игры в пятикарточный покер необходимо выполнить приведенные далее шаги.\n",
    "\n",
    "1. Свяжите с каждой картой в колоде случайное число.\n",
    "2. Пять выбранных карт будут пятью картами, связанными с самыми маленькими случайными числами, благодаря чему каждая карта может быть выбрана с равной вероятностью.\n",
    "3. Подсчитайте, сколько карт каждого ранга (от туза до короля) выбрано.\n",
    "\n",
    "Вероятность появления \"тройки\" карт составляет 1,9%. (С помощью теории вероятности можно доказать, что истинное значение вероятности получения \"тройки\" карт равно 2,1%.)\n",
    "\n",
    "### Какова вероятность выигрыша для каждой команды в баскетбольном Финале Четырех Национальной студенческой спортивной ассоциации?\n",
    "\n",
    "Уважаемый рейтинг Сагарина (см. сайт sagarin.com) всегда предоставляет актуальные рейтинги для всех студенческих баскетбольных команд. Накануне Финала Четырех 2003 года рейтинги Сагарина были следующими: 91,03 для Сиракьюсского университета (во главе с Кармело Энтони); 92,76 для Канзасского университета; 89,01 для Маркетского университета (во главе с Дуэйном Уэйдом) и 90,66 для Техасского университета. На основе этой информации для оценки шансов каждой команды на выигрыш можно сыграть Финал Четырех несколько тысяч раз.\n",
    "\n",
    "Средний прогноз для количества очков, которое выигрывает команда хозяев, равен рейтинг фаворита – рейтинг аутсайдера. В Финале Четырех нет команды хозяев, но если бы она была, к рейтингу команды хозяев следовало бы добавить пять очков. (В профессиональном баскетболе хозяевам добавляют четыре очка, а в студенческом и профессиональном футболе — три очка.) Затем можно смоделировать результат каждой игры.\n",
    "\n",
    "Для вычисления прогнозируемой вероятности победы каждой команды: 37% для \"Канзаса\", 27% для \"Сиракуз\", 22% для \"Техаса\" и 14% для \"Маркетта\". Эти вероятности могут быть переведены в букмекерский коэффициент по следующей формуле: перевес = вероятность_поражения_команды / вероятность_победы_команды. Например, коэффициент на победу \"Канзаса\" составляет 1,63 к 1: (1 – 0,37) : 0,37 = 1,63\n",
    "\n",
    "Это означает, что если поставить на победу \"Канзаса\" 1 доллар, и букмекер заплатит 1,63 доллара, то ставка будет справедливой. Безусловно, букмекер слегка снизит шансы для обеспечения собственных интересов."
   ]
  }
 ],
 "metadata": {
  "kernelspec": {
   "display_name": "Python 3",
   "language": "python",
   "name": "python3"
  },
  "language_info": {
   "codemirror_mode": {
    "name": "ipython",
    "version": 3
   },
   "file_extension": ".py",
   "mimetype": "text/x-python",
   "name": "python",
   "nbconvert_exporter": "python",
   "pygments_lexer": "ipython3",
   "version": "3.8.3"
  }
 },
 "nbformat": 4,
 "nbformat_minor": 5
}
