{
 "cells": [
  {
   "cell_type": "code",
   "execution_count": 518,
   "id": "10d16ce2",
   "metadata": {},
   "outputs": [],
   "source": [
    "import pandas as pd\n",
    "import numpy as np\n",
    "import matplotlib.pyplot as plt\n",
    "import seaborn as sns\n",
    "from tqdm.auto import tqdm\n",
    "\n",
    "from IPython.display import display, HTML\n",
    "\n",
    "import warnings \n",
    "warnings.simplefilter(\"ignore\")"
   ]
  },
  {
   "cell_type": "markdown",
   "id": "78a887b0",
   "metadata": {},
   "source": [
    "# Введение в моделирование по методу Монте-Карло\n",
    "\n",
    "Аналитикам данных часто требуется точно оценить вероятность неопределенных событий. Например, какова вероятность того, что денежные потоки для нового продукта будут демонстрировать положительную чистую приведенную стоимость (ЧПС)? Каков фактор риска инвестиционного портфеля? Метод Монте-Карло позволяет моделировать ситуации, проявляющие неопределенность, и затем воспроизводить их на компьютере тысячи раз.\n",
    "\n",
    ">Термин \"моделирование по методу Монте-Карло\" пришел из моделирования на вычислительных машинах, выполнявшегося в 1930-х и 1940-х годах для оценки вероятности успешной цепной реакции, необходимой для взрыва атомной бомбы. Физики, принимавшие участие в этих работах, были большими поклонниками азартных игр, поэтому метод моделирования получил кодовое название Монте-Карло.\n",
    "\n",
    "### Где применяется моделирование по методу Монте-Карло?\n",
    "Во многих компаниях моделирование по методу Монте-Карло является важной частью процесса принятия решений. \n",
    "\n",
    "- Компания General Motors, например, моделирует для корпорации прогноз по чистой прибыли, по структурным затратам и затратам на приобретение, а также по чувствительности к различным видам риска (таким как изменения процентных ставок и колебания обменного курса).\n",
    "- Компания Lilly с помощью моделирования определяет оптимальную производственную мощность для каждого лекарственного препарата.\n",
    "- Компания Proctor&Gamble с помощью метода Монте-Карло моделирует и оптимально хеджирует валютные риски.\n",
    "- Компания Sears с помощью моделирования определяет, сколько единиц продукции из каждой товарной линии необходимо заказать у поставщиков, например, количество брюк Dockers на этот год.\n",
    "- Нефтяные и фармацевтические компании моделируют оценку реальных возможностей, например, оценку возможности расширения, заключения сделки или отсрочки проекта.\n",
    "- Специалисты по финансовому планированию с помощью моделирования по методу Монте-Карло определяют оптимальные инвестиционные стратегии для выхода на пенсию своих клиентов."
   ]
  },
  {
   "cell_type": "markdown",
   "id": "b0aec770",
   "metadata": {},
   "source": [
    "***\n",
    "Автодилер считает, что спрос на модели 2015 г. распределяется по нормальному закону со средним значением 200 и стандартным отклонением 30. Он получает Envoy за 25 000 долларов и продает за 40 000 долларов. Половину автомобилей, не проданных по полной цене, можно продать по 30 000 долларов. Дилер рассматривает варианты заказа на 200, 220, 240, 269, 280 или 300 штук. Сколько автомобилей он должен заказать?"
   ]
  },
  {
   "cell_type": "code",
   "execution_count": 3,
   "id": "f3c7483a",
   "metadata": {},
   "outputs": [],
   "source": [
    "from scipy.stats import norm"
   ]
  },
  {
   "cell_type": "code",
   "execution_count": 39,
   "id": "91e5db24",
   "metadata": {},
   "outputs": [
    {
     "data": {
      "text/plain": [
       "226.93754957603227"
      ]
     },
     "execution_count": 39,
     "metadata": {},
     "output_type": "execute_result"
    }
   ],
   "source": [
    "np.random.seed(223)\n",
    "mean, sigma = 200, 30\n",
    "demand = norm.ppf(np.random.rand(), mean, sigma)"
   ]
  },
  {
   "cell_type": "code",
   "execution_count": 22,
   "id": "8c565d14",
   "metadata": {},
   "outputs": [],
   "source": [
    "unit_cost = 25000\n",
    "selling_price = 40000\n",
    "order_quantity = 240\n",
    "salvage_value = 30000"
   ]
  },
  {
   "cell_type": "code",
   "execution_count": 129,
   "id": "4e516ba4",
   "metadata": {},
   "outputs": [],
   "source": [
    "def dealer_profit(unit_cost, selling_price, order_quantity, salvage_value, demand):\n",
    "\n",
    "    order_cost = unit_cost * order_quantity\n",
    "    sales_revenue = min(order_quantity, demand) * selling_price\n",
    "    salvage_revenue = 0.5 * max(0, order_quantity - demand) * salvage_value\n",
    "    profit = sales_revenue + salvage_revenue - order_cost\n",
    "    return profit"
   ]
  },
  {
   "cell_type": "code",
   "execution_count": 130,
   "id": "d88e40f1",
   "metadata": {},
   "outputs": [
    {
     "data": {
      "text/plain": [
       "975000.0"
      ]
     },
     "execution_count": 130,
     "metadata": {},
     "output_type": "execute_result"
    }
   ],
   "source": [
    "dealer_profit(unit_cost, selling_price, order_quantity, salvage_value, demand)"
   ]
  },
  {
   "cell_type": "code",
   "execution_count": 124,
   "id": "9e21115c",
   "metadata": {},
   "outputs": [],
   "source": [
    "demand_simulations = norm.rvs(mean, sigma, size=1000) #np.around(np.random.normal(mean, sigma, 1000))"
   ]
  },
  {
   "cell_type": "code",
   "execution_count": 50,
   "id": "711b74c5",
   "metadata": {},
   "outputs": [],
   "source": [
    "order_values = range(200, 320, 20)"
   ]
  },
  {
   "cell_type": "code",
   "execution_count": 131,
   "id": "4021e88d",
   "metadata": {},
   "outputs": [],
   "source": [
    "simulations = []\n",
    "for order_quantity in order_values:\n",
    "        simulation = pd.Series([dealer_profit(unit_cost, selling_price, order_quantity, salvage_value, demand)\n",
    "                                          for demand in demand_simulations])\n",
    "        simulations.append(simulation)"
   ]
  },
  {
   "cell_type": "code",
   "execution_count": 132,
   "id": "e8e13432",
   "metadata": {},
   "outputs": [],
   "source": [
    "profit_sim = pd.concat(simulations, axis=1)\n",
    "profit_sim.columns = list(order_values)"
   ]
  },
  {
   "cell_type": "code",
   "execution_count": 133,
   "id": "ca4e5357",
   "metadata": {},
   "outputs": [
    {
     "data": {
      "text/html": [
       "<div>\n",
       "<style scoped>\n",
       "    .dataframe tbody tr th:only-of-type {\n",
       "        vertical-align: middle;\n",
       "    }\n",
       "\n",
       "    .dataframe tbody tr th {\n",
       "        vertical-align: top;\n",
       "    }\n",
       "\n",
       "    .dataframe thead th {\n",
       "        text-align: right;\n",
       "    }\n",
       "</style>\n",
       "<table border=\"1\" class=\"dataframe\">\n",
       "  <thead>\n",
       "    <tr style=\"text-align: right;\">\n",
       "      <th></th>\n",
       "      <th>200</th>\n",
       "      <th>220</th>\n",
       "      <th>240</th>\n",
       "      <th>260</th>\n",
       "      <th>280</th>\n",
       "      <th>300</th>\n",
       "    </tr>\n",
       "  </thead>\n",
       "  <tbody>\n",
       "    <tr>\n",
       "      <th>count</th>\n",
       "      <td>1.000000e+03</td>\n",
       "      <td>1.000000e+03</td>\n",
       "      <td>1.000000e+03</td>\n",
       "      <td>1.000000e+03</td>\n",
       "      <td>1.000000e+03</td>\n",
       "      <td>1.000000e+03</td>\n",
       "    </tr>\n",
       "    <tr>\n",
       "      <th>mean</th>\n",
       "      <td>2.679017e+06</td>\n",
       "      <td>2.659704e+06</td>\n",
       "      <td>2.539652e+06</td>\n",
       "      <td>2.365853e+06</td>\n",
       "      <td>2.171671e+06</td>\n",
       "      <td>1.972288e+06</td>\n",
       "    </tr>\n",
       "    <tr>\n",
       "      <th>std</th>\n",
       "      <td>4.658315e+05</td>\n",
       "      <td>6.170832e+05</td>\n",
       "      <td>7.144858e+05</td>\n",
       "      <td>7.585764e+05</td>\n",
       "      <td>7.715531e+05</td>\n",
       "      <td>7.732465e+05</td>\n",
       "    </tr>\n",
       "    <tr>\n",
       "      <th>min</th>\n",
       "      <td>7.016339e+05</td>\n",
       "      <td>5.016339e+05</td>\n",
       "      <td>3.016339e+05</td>\n",
       "      <td>1.016339e+05</td>\n",
       "      <td>-9.836610e+04</td>\n",
       "      <td>-2.983661e+05</td>\n",
       "    </tr>\n",
       "    <tr>\n",
       "      <th>25%</th>\n",
       "      <td>2.478169e+06</td>\n",
       "      <td>2.278169e+06</td>\n",
       "      <td>2.078169e+06</td>\n",
       "      <td>1.878169e+06</td>\n",
       "      <td>1.678169e+06</td>\n",
       "      <td>1.478169e+06</td>\n",
       "    </tr>\n",
       "    <tr>\n",
       "      <th>50%</th>\n",
       "      <td>2.973209e+06</td>\n",
       "      <td>2.773209e+06</td>\n",
       "      <td>2.573209e+06</td>\n",
       "      <td>2.373209e+06</td>\n",
       "      <td>2.173209e+06</td>\n",
       "      <td>1.973209e+06</td>\n",
       "    </tr>\n",
       "    <tr>\n",
       "      <th>75%</th>\n",
       "      <td>3.000000e+06</td>\n",
       "      <td>3.293332e+06</td>\n",
       "      <td>3.093332e+06</td>\n",
       "      <td>2.893332e+06</td>\n",
       "      <td>2.693332e+06</td>\n",
       "      <td>2.493332e+06</td>\n",
       "    </tr>\n",
       "    <tr>\n",
       "      <th>max</th>\n",
       "      <td>3.000000e+06</td>\n",
       "      <td>3.300000e+06</td>\n",
       "      <td>3.600000e+06</td>\n",
       "      <td>3.900000e+06</td>\n",
       "      <td>4.200000e+06</td>\n",
       "      <td>4.250365e+06</td>\n",
       "    </tr>\n",
       "  </tbody>\n",
       "</table>\n",
       "</div>"
      ],
      "text/plain": [
       "                200           220           240           260           280  \\\n",
       "count  1.000000e+03  1.000000e+03  1.000000e+03  1.000000e+03  1.000000e+03   \n",
       "mean   2.679017e+06  2.659704e+06  2.539652e+06  2.365853e+06  2.171671e+06   \n",
       "std    4.658315e+05  6.170832e+05  7.144858e+05  7.585764e+05  7.715531e+05   \n",
       "min    7.016339e+05  5.016339e+05  3.016339e+05  1.016339e+05 -9.836610e+04   \n",
       "25%    2.478169e+06  2.278169e+06  2.078169e+06  1.878169e+06  1.678169e+06   \n",
       "50%    2.973209e+06  2.773209e+06  2.573209e+06  2.373209e+06  2.173209e+06   \n",
       "75%    3.000000e+06  3.293332e+06  3.093332e+06  2.893332e+06  2.693332e+06   \n",
       "max    3.000000e+06  3.300000e+06  3.600000e+06  3.900000e+06  4.200000e+06   \n",
       "\n",
       "                300  \n",
       "count  1.000000e+03  \n",
       "mean   1.972288e+06  \n",
       "std    7.732465e+05  \n",
       "min   -2.983661e+05  \n",
       "25%    1.478169e+06  \n",
       "50%    1.973209e+06  \n",
       "75%    2.493332e+06  \n",
       "max    4.250365e+06  "
      ]
     },
     "execution_count": 133,
     "metadata": {},
     "output_type": "execute_result"
    }
   ],
   "source": [
    "profit_sim.describe()"
   ]
  },
  {
   "cell_type": "markdown",
   "id": "bf1972c4",
   "metadata": {},
   "source": [
    "У 200 меньше риска (меньше стандартное отклонение), поэтому лучше заказать 200 машин. Похоже, 200 или 220 — два лучших варианта"
   ]
  },
  {
   "cell_type": "markdown",
   "id": "3e667434",
   "metadata": {},
   "source": [
    "***\n",
    "Небольшой супермаркет пытается определить, сколько экземпляров журнала \"People\" необходимо заказывать каждую неделю. Владелец считает, что спрос на журнал соответствует дискретной случайной величине\n",
    "\n",
    "|Спрос|Вероятность|\n",
    "|--|--|\n",
    "|15|0.10|\n",
    "|20|0.20|\n",
    "|25|0.30|\n",
    "|30|0.25|\n",
    "|35|0.15|\n",
    "\n",
    "Супермаркет платит за каждый экземпляр журнала 1,00 доллар и продает его за 1,95. Каждый непроданный экземпляр может быть возвращен за 0,50 доллара. Сколько экземпляров журнала еженедельно должен заказывать магазин?"
   ]
  },
  {
   "cell_type": "code",
   "execution_count": 160,
   "id": "e0fe82c5",
   "metadata": {},
   "outputs": [
    {
     "data": {
      "text/html": [
       "<div>\n",
       "<style scoped>\n",
       "    .dataframe tbody tr th:only-of-type {\n",
       "        vertical-align: middle;\n",
       "    }\n",
       "\n",
       "    .dataframe tbody tr th {\n",
       "        vertical-align: top;\n",
       "    }\n",
       "\n",
       "    .dataframe thead th {\n",
       "        text-align: right;\n",
       "    }\n",
       "</style>\n",
       "<table border=\"1\" class=\"dataframe\">\n",
       "  <thead>\n",
       "    <tr style=\"text-align: right;\">\n",
       "      <th></th>\n",
       "      <th>prob</th>\n",
       "      <th>cum prob</th>\n",
       "      <th>demand</th>\n",
       "    </tr>\n",
       "  </thead>\n",
       "  <tbody>\n",
       "    <tr>\n",
       "      <th>0</th>\n",
       "      <td>0.10</td>\n",
       "      <td>0.00</td>\n",
       "      <td>15</td>\n",
       "    </tr>\n",
       "    <tr>\n",
       "      <th>1</th>\n",
       "      <td>0.20</td>\n",
       "      <td>0.10</td>\n",
       "      <td>20</td>\n",
       "    </tr>\n",
       "    <tr>\n",
       "      <th>2</th>\n",
       "      <td>0.30</td>\n",
       "      <td>0.30</td>\n",
       "      <td>25</td>\n",
       "    </tr>\n",
       "    <tr>\n",
       "      <th>3</th>\n",
       "      <td>0.25</td>\n",
       "      <td>0.60</td>\n",
       "      <td>30</td>\n",
       "    </tr>\n",
       "    <tr>\n",
       "      <th>4</th>\n",
       "      <td>0.15</td>\n",
       "      <td>0.85</td>\n",
       "      <td>35</td>\n",
       "    </tr>\n",
       "  </tbody>\n",
       "</table>\n",
       "</div>"
      ],
      "text/plain": [
       "   prob  cum prob  demand\n",
       "0  0.10      0.00      15\n",
       "1  0.20      0.10      20\n",
       "2  0.30      0.30      25\n",
       "3  0.25      0.60      30\n",
       "4  0.15      0.85      35"
      ]
     },
     "execution_count": 160,
     "metadata": {},
     "output_type": "execute_result"
    }
   ],
   "source": [
    "demands = pd.DataFrame({\n",
    "    'prob': (prob:= [.0, .1, .2, .3, .25, .15])[1:],\n",
    "    'cum prob': np.cumsum(prob)[:-1],\n",
    "    'demand': range(15, 40, 5)\n",
    "})\n",
    "demands"
   ]
  },
  {
   "cell_type": "code",
   "execution_count": 205,
   "id": "3d6c3f98",
   "metadata": {},
   "outputs": [],
   "source": [
    "order_quantity = 30\n",
    "unit_cost = 1\n",
    "selling_price = 1.95\n",
    "salvage_value = 0.5"
   ]
  },
  {
   "cell_type": "code",
   "execution_count": 365,
   "id": "6578cd8a",
   "metadata": {},
   "outputs": [
    {
     "data": {
      "text/plain": [
       "30"
      ]
     },
     "execution_count": 365,
     "metadata": {},
     "output_type": "execute_result"
    }
   ],
   "source": [
    "demands[demands['cum prob'] >= min(np.random.random(), 0.85)]['demand'].iloc[0]"
   ]
  },
  {
   "cell_type": "code",
   "execution_count": 169,
   "id": "a146d1c2",
   "metadata": {},
   "outputs": [],
   "source": [
    "def shop_profit(unit_cost, selling_price, order_quantity, salvage_value, demand):\n",
    "\n",
    "    order_cost = unit_cost * order_quantity\n",
    "    sales_revenue = min(order_quantity, demand) * selling_price\n",
    "    salvage_revenue = max(0, order_quantity - demand) * salvage_value\n",
    "    profit = sales_revenue + salvage_revenue - order_cost\n",
    "    return profit"
   ]
  },
  {
   "cell_type": "code",
   "execution_count": 383,
   "id": "7fdb0fbc",
   "metadata": {},
   "outputs": [],
   "source": [
    "profit_sim = []\n",
    "\n",
    "for order_quantity in demands.demand:\n",
    "    simulations = []\n",
    "    \n",
    "    for _ in range(1000): \n",
    "        demand = demands[demands['cum prob'] >= min(np.random.random(), 0.85)]['demand'].iloc[0]\n",
    "        profit = shop_profit(unit_cost, selling_price, order_quantity, salvage_value, demand)\n",
    "        simulations.append(profit)\n",
    "    \n",
    "    profit_sim.append(simulations)                                                     "
   ]
  },
  {
   "cell_type": "code",
   "execution_count": 432,
   "id": "5e68de06",
   "metadata": {},
   "outputs": [
    {
     "data": {
      "text/plain": [
       "array([25, 15, 20, 25, 25, 30, 35, 15, 25, 25, 30, 15, 35, 15, 30, 20, 20,\n",
       "       30, 15, 15, 35, 30, 30, 35, 30, 20, 30, 25, 20, 35, 30, 30, 15, 30,\n",
       "       25, 25, 25, 35, 25, 25, 30, 20, 35, 25, 15, 15, 15, 30, 25, 35, 20,\n",
       "       25, 25, 25, 20, 35, 30, 30, 15, 30, 20, 35, 25, 25, 15, 25, 25, 30,\n",
       "       15, 20, 25, 20, 30, 30, 35, 25, 20, 30, 25, 30, 25, 35, 35, 20, 30,\n",
       "       25, 25, 25, 25, 30, 25, 35, 25, 15, 20, 25, 30, 20, 30, 15, 30, 35,\n",
       "       35, 20, 25, 25, 25, 35, 30, 30, 35, 20, 25, 25, 25, 30, 25, 15, 15,\n",
       "       25, 25, 20, 25, 25, 30, 20, 15, 30, 25, 25, 25, 30, 35, 20, 30, 30,\n",
       "       20, 35, 35, 30, 35, 20, 35, 20, 15, 15, 25, 25, 35, 35, 30, 15, 30,\n",
       "       30, 35, 30, 35, 25, 35, 25, 30, 25, 20, 25, 25, 30, 25, 35, 20, 25,\n",
       "       20, 30, 35, 25, 35, 15, 35, 30, 25, 20, 35, 30, 20, 20, 30, 30, 20,\n",
       "       25, 30, 15, 30, 35, 20, 25, 25, 25, 25, 30, 30, 25, 20, 30, 30, 15,\n",
       "       30, 25, 30, 35, 30, 30, 25, 15, 30, 15, 30, 20, 25, 35, 20, 25, 35,\n",
       "       35, 20, 35, 20, 30, 25, 35, 30, 25, 30, 30, 30, 20, 20, 35, 25, 30,\n",
       "       35, 25, 20, 35, 30, 25, 15, 25, 35, 30, 25, 35, 20, 15, 30, 20, 15,\n",
       "       25, 35, 30, 30, 25, 30, 20, 25, 35, 20, 25, 25, 25, 30, 30, 15, 30,\n",
       "       30, 25, 15, 15, 20, 35, 25, 25, 35, 35, 30, 35, 25, 15, 30, 25, 25,\n",
       "       30, 35, 25, 25, 35, 30, 15, 30, 15, 25, 30, 15, 25, 25, 25, 25, 20,\n",
       "       25, 30, 20, 35, 15, 25, 20, 25, 15, 20, 20, 30, 25, 25, 20, 25, 30,\n",
       "       30, 30, 15, 30, 25, 35, 30, 25, 25, 35, 25, 15, 15, 15, 35, 25, 35,\n",
       "       20, 30, 15, 25, 25, 25, 25, 30, 20, 25, 25, 30, 25, 25, 30, 30, 15,\n",
       "       20, 15, 30, 25, 35, 25, 30, 15, 25, 30, 35, 20, 25, 35, 35, 35, 30,\n",
       "       25, 20, 25, 20, 25, 25, 25, 30, 30, 30, 35, 20, 35, 25, 15, 30, 20,\n",
       "       20, 30, 25, 20, 25, 25, 15, 30, 25, 25, 20, 30, 35, 25, 20, 25, 15,\n",
       "       35, 35, 15, 20, 25, 25, 25, 30, 30, 15, 20, 15, 20, 25, 25, 30, 25,\n",
       "       20, 20, 30, 30, 25, 35, 35, 30, 35, 35, 20, 30, 25, 25, 35, 30, 25,\n",
       "       20, 20, 15, 20, 25, 30, 25, 25, 15, 25, 25, 35, 25, 35, 25, 15, 25,\n",
       "       30, 25, 25, 35, 30, 30, 30, 20, 25, 25, 20, 15, 35, 30, 25, 35, 30,\n",
       "       20, 20, 25, 25, 30, 30, 25, 25, 25, 30, 25, 15, 25, 30, 30, 25, 20,\n",
       "       35, 25, 35, 35, 15, 25, 35, 20, 30, 25, 20, 25, 20, 25, 35, 25, 25,\n",
       "       25, 35, 20, 35, 20, 25, 35, 25, 30, 25, 30, 25, 35, 20, 15, 20, 30,\n",
       "       25, 25, 15, 35, 15, 20, 20, 15, 30, 25, 15, 30, 15, 30, 30, 15, 30,\n",
       "       20, 35, 35, 25, 35, 20, 25, 20, 15, 15, 20, 20, 20, 15, 25, 30, 35,\n",
       "       30, 25, 15, 35, 20, 20, 30, 25, 20, 15, 25, 30, 30, 25, 25, 25, 15,\n",
       "       30, 30, 25, 25, 25, 30, 35, 20, 20, 20, 25, 25, 35, 25, 20, 25, 25,\n",
       "       15, 25, 20, 30, 30, 15, 35, 30, 30, 15, 25, 30, 35, 20, 20, 25, 30,\n",
       "       20, 30, 15, 35, 35, 15, 30, 25, 20, 25, 30, 35, 30, 15, 30, 30, 25,\n",
       "       20, 30, 15, 20, 35, 25, 35, 25, 35, 25, 35, 20, 30, 25, 20, 25, 35,\n",
       "       25, 20, 30, 30, 15, 30, 25, 25, 30, 30, 35, 15, 35, 25, 25, 15, 25,\n",
       "       35, 30, 30, 15, 25, 15, 25, 15, 35, 25, 30, 25, 25, 25, 30, 20, 25,\n",
       "       20, 25, 25, 30, 20, 15, 20, 25, 15, 30, 30, 15, 25, 25, 20, 35, 30,\n",
       "       15, 30, 20, 20, 30, 20, 30, 25, 30, 35, 25, 25, 25, 25, 30, 35, 35,\n",
       "       25, 35, 30, 35, 25, 35, 20, 35, 15, 15, 15, 20, 30, 25, 15, 15, 20,\n",
       "       30, 30, 25, 20, 25, 30, 35, 35, 15, 20, 35, 25, 15, 35, 25, 15, 15,\n",
       "       30, 35, 35, 15, 20, 25, 15, 25, 30, 25, 25, 25, 20, 30, 25, 35, 15,\n",
       "       30, 30, 30, 25, 15, 30, 25, 30, 35, 30, 25, 25, 30, 30, 30, 30, 20,\n",
       "       15, 30, 25, 25, 15, 25, 25, 25, 25, 20, 35, 25, 20, 25, 25, 20, 25,\n",
       "       30, 35, 30, 30, 20, 25, 20, 35, 35, 20, 25, 25, 15, 20, 25, 15, 30,\n",
       "       30, 25, 35, 15, 20, 25, 30, 30, 35, 35, 25, 35, 15, 25, 15, 15, 25,\n",
       "       30, 30, 30, 30, 35, 25, 25, 15, 20, 30, 30, 25, 30, 35, 25, 25, 25,\n",
       "       20, 35, 30, 30, 35, 30, 30, 25, 15, 30, 25, 25, 25, 25, 25, 25, 25,\n",
       "       25, 25, 20, 20, 30, 25, 20, 25, 25, 35, 25, 20, 25, 20, 30, 35, 25,\n",
       "       30, 25, 20, 25, 20, 25, 20, 20, 35, 25, 25, 30, 25, 25, 20, 20, 35,\n",
       "       25, 15, 15, 20, 20, 15, 25, 25, 30, 25, 30, 25, 35, 25, 25, 35, 30,\n",
       "       25, 30, 30, 30, 35, 30, 30, 20, 30, 30, 30, 30, 25, 25, 25, 25, 20,\n",
       "       35, 30, 25, 30, 30, 25, 35, 30, 20, 15, 20, 30, 30, 20, 20, 35, 25,\n",
       "       25, 25, 30, 25, 25, 20, 30, 20, 15, 25, 20, 20, 30, 25, 30, 30, 30,\n",
       "       25, 30, 15, 30, 20, 25, 30, 30, 25, 25, 25, 20, 35, 25, 35, 15, 15,\n",
       "       35, 25, 35, 25, 25, 25, 30, 20, 25, 30, 35, 30, 25, 25])"
      ]
     },
     "execution_count": 432,
     "metadata": {},
     "output_type": "execute_result"
    }
   ],
   "source": [
    "# получить сразу 1000 значений demand согласно установленному распределению\n",
    "np.random.choice(demands.demand, size=1000, p=demands.prob)"
   ]
  },
  {
   "cell_type": "code",
   "execution_count": 411,
   "id": "b8cbc48a",
   "metadata": {},
   "outputs": [],
   "source": [
    "profit = pd.DataFrame(profit_sim).T\n",
    "profit.columns = demands.demand.to_list()"
   ]
  },
  {
   "cell_type": "code",
   "execution_count": 415,
   "id": "4c4f9ddd",
   "metadata": {},
   "outputs": [
    {
     "data": {
      "text/html": [
       "<div>\n",
       "<style scoped>\n",
       "    .dataframe tbody tr th:only-of-type {\n",
       "        vertical-align: middle;\n",
       "    }\n",
       "\n",
       "    .dataframe tbody tr th {\n",
       "        vertical-align: top;\n",
       "    }\n",
       "\n",
       "    .dataframe thead th {\n",
       "        text-align: right;\n",
       "    }\n",
       "</style>\n",
       "<table border=\"1\" class=\"dataframe\">\n",
       "  <thead>\n",
       "    <tr style=\"text-align: right;\">\n",
       "      <th></th>\n",
       "      <th>15</th>\n",
       "      <th>20</th>\n",
       "      <th>25</th>\n",
       "      <th>30</th>\n",
       "      <th>35</th>\n",
       "    </tr>\n",
       "  </thead>\n",
       "  <tbody>\n",
       "    <tr>\n",
       "      <th>mean</th>\n",
       "      <td>14.25</td>\n",
       "      <td>19.0</td>\n",
       "      <td>23.075750</td>\n",
       "      <td>25.476750</td>\n",
       "      <td>25.942000</td>\n",
       "    </tr>\n",
       "    <tr>\n",
       "      <th>std</th>\n",
       "      <td>0.00</td>\n",
       "      <td>0.0</td>\n",
       "      <td>2.106689</td>\n",
       "      <td>4.989267</td>\n",
       "      <td>7.296789</td>\n",
       "    </tr>\n",
       "  </tbody>\n",
       "</table>\n",
       "</div>"
      ],
      "text/plain": [
       "         15    20         25         30         35\n",
       "mean  14.25  19.0  23.075750  25.476750  25.942000\n",
       "std    0.00   0.0   2.106689   4.989267   7.296789"
      ]
     },
     "execution_count": 415,
     "metadata": {},
     "output_type": "execute_result"
    }
   ],
   "source": [
    "profit.agg(['mean', 'std'])"
   ]
  },
  {
   "cell_type": "code",
   "execution_count": 423,
   "id": "e2775741",
   "metadata": {},
   "outputs": [
    {
     "data": {
      "image/png": "[encoded data removed]",
      "text/plain": [
       "<Figure size 432x288 with 1 Axes>"
      ]
     },
     "metadata": {
      "needs_background": "light"
     },
     "output_type": "display_data"
    }
   ],
   "source": [
    "sns.boxplot(x='order quantity', y='profit',\n",
    "             data=pd.melt(profit, var_name='order quantity', value_name='profit'));"
   ]
  },
  {
   "cell_type": "markdown",
   "id": "7962150b",
   "metadata": {},
   "source": [
    "Ожидаемая максимальная выгода при заказе 30 журналов, так как выгода сопоставима с максимально большим заказом — 35 шт. при меньшем риске (стандартное отклонение ниже)."
   ]
  },
  {
   "cell_type": "markdown",
   "id": "5e14d174",
   "metadata": {},
   "source": [
    "# Вычисление оптимальной цены предложения\n",
    "\n",
    "При определении цены в борьбе с конкурентами за проект двумя основными источниками неопределенности являются количество конкурентов и цены, предлагаемые каждым конкурентом. При высокой цене предложения можно заработать на проекте много денег, но самих проектов будет мало. При низкой цене предложения проектов будет немало, но денег каждый из них принесет немного. Оптимальная цена предложения находится где-то посередине. Удобным инструментом для определения цены предложения, максимально увеличивающей ожидаемую прибыль, является моделирование по методу Монте-Карло.\n",
    "\n",
    "### Как определить, должна ли непрерывная случайная величина моделироваться как нормальная случайная величина?\n",
    "\n",
    "Предположим, что наиболее вероятная цена предложения конкурента составляет 50 000 долларов. Напомним, что кривая плотности нормального распределения вероятностей является симметричной относительно среднего значения. Следовательно, для определения возможности применения нормальной случайной величины в моделировании цены предложения конкурента необходимо проверить симметрию относительно среднего значения цены предложения. Если цена предложения конкурента проявляет симметрию относительно среднего значения 50 000 долларов, цены предложения 40 000 и 60 000, 45 000 и 55 000, и т. д., должны быть приблизительно одинаково вероятны. Если предположение о симметрии кажется логичным, то цену предложения каждого конкурента можно смоделировать как нормальную случайную величину со средним значением 50 000 долларов.\n",
    "\n",
    "### Как оценить стандартное отклонение цены предложения каждого конкурента? \n",
    "\n",
    "Напомним, что согласно эмпирическому правилу, наборы данных с симметричными гистограммами имеют примерно 95% данных в пределах двух стандартных отклонений от среднего значения. Аналогично, нормальная случайная величина с вероятностью 95% находится в пределах двух стандартных отклонений от своего среднего значения. Предположим, что с вероятностью 95% цена предложения конкурента составляет от 30000 до 70000 долларов. Это означает, что 2 × (стандартное отклонение цены предложения конкурента) равно 20 000 долларов или стандартное отклонение цены предложения конкурента равно 10 000 долларов.\n",
    "\n",
    "### Как с помощью моделирования определить оптимальную цену предложения для проекта строительства?\n",
    "Предположим, что вы участвуете в тендере на проект строительства, который будет стоить вам 25 000 долларов. Подготовка предложения на получение подряда стоит 1000 долларов. У вас имеется шесть потенциальных конкурентов, и вы подсчитали, что с вероятностью 50% каждый конкурент примет участие в тендере на проект.\n",
    "\n",
    "Если конкурент подает предложение, то цена его предложения следует закону нормального распределения со средним значением 50 000 долларов и стандартным отклонением 10 000 долларов. Предположим также, что вы подготавливаете предложения только с ценой, кратной 5000 долларов. Какова должна быть цена вашего предложения для получения максимальной ожидаемой прибыли? Напомним, что выигрывает самая низкая цена предложения!\n",
    "\n",
    "**Ваша стратегия должна быть следующей**\n",
    "- Сгенерируйте количество конкурентов.\n",
    "- Для каждого потенциального конкурента, который действительно подает предложение, смоделируйте предложение с помощью нормальной случайной величины. Если потенциальный конкурент не подает предложение, назначьте для него большую цену предложения (например, 100 000 долларов), которая обеспечит ему поражение.\n",
    "- Определите, является ли цена вашего предложения самой низкой.\n",
    "- Если вы предлагаете самую низкую цену, то получите прибыль, равную предложению минус стоимость проекта минус 1000 долларов (стоимость подачи предложения). Если цена вашего предложения не самая низкая, то вы теряете 1000 долларов — стоимость подачи предложения.\n",
    "- Для моделирования каждой возможной цены предложения (например, 30 000, 35 000, ..., 60 000 долларов) тысячу раз используйте таблицу данных с двумя входами и затем выберите цену предложения с наибольшей ожидаемой прибылью."
   ]
  },
  {
   "cell_type": "markdown",
   "id": "5024bed0",
   "metadata": {},
   "source": [
    "***\n",
    "Как изменится оптимальная цена предложения при наличии 12 потенциальных конкурентов?"
   ]
  },
  {
   "cell_type": "code",
   "execution_count": 492,
   "id": "c6910a4a",
   "metadata": {},
   "outputs": [],
   "source": [
    "from scipy.stats import binom"
   ]
  },
  {
   "cell_type": "code",
   "execution_count": 480,
   "id": "f3724660",
   "metadata": {},
   "outputs": [],
   "source": [
    "n = 12 # bidders count\n",
    "mu, sigma = 50000, 10000\n",
    "cost_project = 25000\n",
    "cost_bid = 1000\n",
    "my_bid = 40000\n",
    "n_bidders = binom.rvs(12, 0.5, np.random.random()) # critbinom"
   ]
  },
  {
   "cell_type": "markdown",
   "id": "46a32f80",
   "metadata": {},
   "source": [
    "Если предположение о нормальном распределении логично, цену предложения конкурента можно теперь моделировать с помощью формулы `norm.isf(np.random.random(), mu, sigma)`"
   ]
  },
  {
   "cell_type": "code",
   "execution_count": 484,
   "id": "6b61d452",
   "metadata": {},
   "outputs": [
    {
     "data": {
      "text/plain": [
       "47453.92086756208"
      ]
     },
     "execution_count": 484,
     "metadata": {},
     "output_type": "execute_result"
    }
   ],
   "source": [
    "norm.isf(np.random.random(), mu, sigma) # norminv"
   ]
  },
  {
   "cell_type": "code",
   "execution_count": 487,
   "id": "001bf165",
   "metadata": {},
   "outputs": [],
   "source": [
    "bids = pd.DataFrame({'bidder': range(1, n+1),\n",
    "                     'bid': [norm.isf(np.random.random(), mu, sigma)\n",
    "                                     if i < n_bidders else 100000 for i in range(n)]}) # 100000 is maxbid"
   ]
  },
  {
   "cell_type": "code",
   "execution_count": 488,
   "id": "ba9f429f",
   "metadata": {},
   "outputs": [
    {
     "data": {
      "text/html": [
       "<div>\n",
       "<style scoped>\n",
       "    .dataframe tbody tr th:only-of-type {\n",
       "        vertical-align: middle;\n",
       "    }\n",
       "\n",
       "    .dataframe tbody tr th {\n",
       "        vertical-align: top;\n",
       "    }\n",
       "\n",
       "    .dataframe thead th {\n",
       "        text-align: right;\n",
       "    }\n",
       "</style>\n",
       "<table border=\"1\" class=\"dataframe\">\n",
       "  <thead>\n",
       "    <tr style=\"text-align: right;\">\n",
       "      <th></th>\n",
       "      <th>bidder</th>\n",
       "      <th>bid</th>\n",
       "    </tr>\n",
       "  </thead>\n",
       "  <tbody>\n",
       "    <tr>\n",
       "      <th>0</th>\n",
       "      <td>1</td>\n",
       "      <td>42601.183790</td>\n",
       "    </tr>\n",
       "    <tr>\n",
       "      <th>1</th>\n",
       "      <td>2</td>\n",
       "      <td>46322.940611</td>\n",
       "    </tr>\n",
       "    <tr>\n",
       "      <th>2</th>\n",
       "      <td>3</td>\n",
       "      <td>36425.433603</td>\n",
       "    </tr>\n",
       "    <tr>\n",
       "      <th>3</th>\n",
       "      <td>4</td>\n",
       "      <td>47525.321005</td>\n",
       "    </tr>\n",
       "    <tr>\n",
       "      <th>4</th>\n",
       "      <td>5</td>\n",
       "      <td>76002.316353</td>\n",
       "    </tr>\n",
       "    <tr>\n",
       "      <th>5</th>\n",
       "      <td>6</td>\n",
       "      <td>50702.914443</td>\n",
       "    </tr>\n",
       "    <tr>\n",
       "      <th>6</th>\n",
       "      <td>7</td>\n",
       "      <td>18914.495408</td>\n",
       "    </tr>\n",
       "    <tr>\n",
       "      <th>7</th>\n",
       "      <td>8</td>\n",
       "      <td>61614.608805</td>\n",
       "    </tr>\n",
       "    <tr>\n",
       "      <th>8</th>\n",
       "      <td>9</td>\n",
       "      <td>35087.582454</td>\n",
       "    </tr>\n",
       "    <tr>\n",
       "      <th>9</th>\n",
       "      <td>10</td>\n",
       "      <td>40507.245407</td>\n",
       "    </tr>\n",
       "    <tr>\n",
       "      <th>10</th>\n",
       "      <td>11</td>\n",
       "      <td>10000.000000</td>\n",
       "    </tr>\n",
       "    <tr>\n",
       "      <th>11</th>\n",
       "      <td>12</td>\n",
       "      <td>10000.000000</td>\n",
       "    </tr>\n",
       "  </tbody>\n",
       "</table>\n",
       "</div>"
      ],
      "text/plain": [
       "    bidder           bid\n",
       "0        1  42601.183790\n",
       "1        2  46322.940611\n",
       "2        3  36425.433603\n",
       "3        4  47525.321005\n",
       "4        5  76002.316353\n",
       "5        6  50702.914443\n",
       "6        7  18914.495408\n",
       "7        8  61614.608805\n",
       "8        9  35087.582454\n",
       "9       10  40507.245407\n",
       "10      11  10000.000000\n",
       "11      12  10000.000000"
      ]
     },
     "execution_count": 488,
     "metadata": {},
     "output_type": "execute_result"
    }
   ],
   "source": [
    "bids"
   ]
  },
  {
   "cell_type": "code",
   "execution_count": 490,
   "id": "6c06246b",
   "metadata": {},
   "outputs": [
    {
     "data": {
      "text/plain": [
       "-1000"
      ]
     },
     "execution_count": 490,
     "metadata": {},
     "output_type": "execute_result"
    }
   ],
   "source": [
    "my_bid - cost_project - cost_bid if my_bid <= bids.bid.min() else -cost_bid # get profit"
   ]
  },
  {
   "cell_type": "markdown",
   "id": "efe5fb32",
   "metadata": {},
   "source": [
    "Cимулировние результата участия в тендере методом Монте-Карло"
   ]
  },
  {
   "cell_type": "code",
   "execution_count": 550,
   "id": "911ccee4",
   "metadata": {},
   "outputs": [],
   "source": [
    "def tender_profit(cost_project, cost_bid, my_bid, bidders_count, bids_range):\n",
    "    result = dict()\n",
    "    \n",
    "    def profit(bid, cost_project, cost_bid, bidders_count):\n",
    "        min_bid = norm.isf(np.random.random(size=bidders_count), mu, sigma).min()\n",
    "        return bid - cost_project - cost_bid if bid <= min_bid else -cost_bid\n",
    "        \n",
    "    for bid in tqdm(bids_range):\n",
    "        result[bid] = [profit(bid,\n",
    "                              cost_project,\n",
    "                              cost_bid,\n",
    "                              ) for _ in range(1000)]\n",
    "    return pd.DataFrame(result)"
   ]
  },
  {
   "cell_type": "code",
   "execution_count": 559,
   "id": "249dcf54",
   "metadata": {},
   "outputs": [
    {
     "data": {
      "application/vnd.jupyter.widget-view+json": {
       "model_id": "eb43741782f14fdc952a9bb89f00ca3a",
       "version_major": 2,
       "version_minor": 0
      },
      "text/plain": [
       "  0%|          | 0/7 [00:00<?, ?it/s]"
      ]
     },
     "metadata": {},
     "output_type": "display_data"
    }
   ],
   "source": [
    "bids_range = range(30_000, 65_000, 5000) # my bids from 30K to 60K\n",
    "df = tender_profit(cost_project, cost_bid, my_bid, n_bidders, bids_range)"
   ]
  },
  {
   "cell_type": "code",
   "execution_count": 560,
   "id": "98b95038",
   "metadata": {},
   "outputs": [
    {
     "data": {
      "text/html": [
       "<div>\n",
       "<style scoped>\n",
       "    .dataframe tbody tr th:only-of-type {\n",
       "        vertical-align: middle;\n",
       "    }\n",
       "\n",
       "    .dataframe tbody tr th {\n",
       "        vertical-align: top;\n",
       "    }\n",
       "\n",
       "    .dataframe thead th {\n",
       "        text-align: right;\n",
       "    }\n",
       "</style>\n",
       "<table border=\"1\" class=\"dataframe\">\n",
       "  <thead>\n",
       "    <tr style=\"text-align: right;\">\n",
       "      <th></th>\n",
       "      <th>30000</th>\n",
       "      <th>35000</th>\n",
       "      <th>40000</th>\n",
       "      <th>45000</th>\n",
       "      <th>50000</th>\n",
       "      <th>55000</th>\n",
       "      <th>60000</th>\n",
       "    </tr>\n",
       "  </thead>\n",
       "  <tbody>\n",
       "    <tr>\n",
       "      <th>0</th>\n",
       "      <td>4000</td>\n",
       "      <td>-1000</td>\n",
       "      <td>-1000</td>\n",
       "      <td>-1000</td>\n",
       "      <td>-1000</td>\n",
       "      <td>-1000</td>\n",
       "      <td>-1000</td>\n",
       "    </tr>\n",
       "    <tr>\n",
       "      <th>1</th>\n",
       "      <td>4000</td>\n",
       "      <td>9000</td>\n",
       "      <td>-1000</td>\n",
       "      <td>-1000</td>\n",
       "      <td>-1000</td>\n",
       "      <td>-1000</td>\n",
       "      <td>-1000</td>\n",
       "    </tr>\n",
       "    <tr>\n",
       "      <th>2</th>\n",
       "      <td>4000</td>\n",
       "      <td>-1000</td>\n",
       "      <td>-1000</td>\n",
       "      <td>-1000</td>\n",
       "      <td>-1000</td>\n",
       "      <td>-1000</td>\n",
       "      <td>-1000</td>\n",
       "    </tr>\n",
       "    <tr>\n",
       "      <th>3</th>\n",
       "      <td>-1000</td>\n",
       "      <td>-1000</td>\n",
       "      <td>14000</td>\n",
       "      <td>-1000</td>\n",
       "      <td>-1000</td>\n",
       "      <td>-1000</td>\n",
       "      <td>-1000</td>\n",
       "    </tr>\n",
       "    <tr>\n",
       "      <th>4</th>\n",
       "      <td>4000</td>\n",
       "      <td>-1000</td>\n",
       "      <td>-1000</td>\n",
       "      <td>-1000</td>\n",
       "      <td>-1000</td>\n",
       "      <td>-1000</td>\n",
       "      <td>-1000</td>\n",
       "    </tr>\n",
       "    <tr>\n",
       "      <th>...</th>\n",
       "      <td>...</td>\n",
       "      <td>...</td>\n",
       "      <td>...</td>\n",
       "      <td>...</td>\n",
       "      <td>...</td>\n",
       "      <td>...</td>\n",
       "      <td>...</td>\n",
       "    </tr>\n",
       "    <tr>\n",
       "      <th>995</th>\n",
       "      <td>4000</td>\n",
       "      <td>-1000</td>\n",
       "      <td>-1000</td>\n",
       "      <td>-1000</td>\n",
       "      <td>-1000</td>\n",
       "      <td>-1000</td>\n",
       "      <td>-1000</td>\n",
       "    </tr>\n",
       "    <tr>\n",
       "      <th>996</th>\n",
       "      <td>4000</td>\n",
       "      <td>-1000</td>\n",
       "      <td>14000</td>\n",
       "      <td>19000</td>\n",
       "      <td>-1000</td>\n",
       "      <td>-1000</td>\n",
       "      <td>-1000</td>\n",
       "    </tr>\n",
       "    <tr>\n",
       "      <th>997</th>\n",
       "      <td>4000</td>\n",
       "      <td>-1000</td>\n",
       "      <td>-1000</td>\n",
       "      <td>-1000</td>\n",
       "      <td>-1000</td>\n",
       "      <td>-1000</td>\n",
       "      <td>-1000</td>\n",
       "    </tr>\n",
       "    <tr>\n",
       "      <th>998</th>\n",
       "      <td>4000</td>\n",
       "      <td>9000</td>\n",
       "      <td>-1000</td>\n",
       "      <td>-1000</td>\n",
       "      <td>-1000</td>\n",
       "      <td>-1000</td>\n",
       "      <td>-1000</td>\n",
       "    </tr>\n",
       "    <tr>\n",
       "      <th>999</th>\n",
       "      <td>4000</td>\n",
       "      <td>9000</td>\n",
       "      <td>-1000</td>\n",
       "      <td>-1000</td>\n",
       "      <td>-1000</td>\n",
       "      <td>-1000</td>\n",
       "      <td>-1000</td>\n",
       "    </tr>\n",
       "  </tbody>\n",
       "</table>\n",
       "<p>1000 rows × 7 columns</p>\n",
       "</div>"
      ],
      "text/plain": [
       "     30000  35000  40000  45000  50000  55000  60000\n",
       "0     4000  -1000  -1000  -1000  -1000  -1000  -1000\n",
       "1     4000   9000  -1000  -1000  -1000  -1000  -1000\n",
       "2     4000  -1000  -1000  -1000  -1000  -1000  -1000\n",
       "3    -1000  -1000  14000  -1000  -1000  -1000  -1000\n",
       "4     4000  -1000  -1000  -1000  -1000  -1000  -1000\n",
       "..     ...    ...    ...    ...    ...    ...    ...\n",
       "995   4000  -1000  -1000  -1000  -1000  -1000  -1000\n",
       "996   4000  -1000  14000  19000  -1000  -1000  -1000\n",
       "997   4000  -1000  -1000  -1000  -1000  -1000  -1000\n",
       "998   4000   9000  -1000  -1000  -1000  -1000  -1000\n",
       "999   4000   9000  -1000  -1000  -1000  -1000  -1000\n",
       "\n",
       "[1000 rows x 7 columns]"
      ]
     },
     "execution_count": 560,
     "metadata": {},
     "output_type": "execute_result"
    }
   ],
   "source": [
    "df"
   ]
  },
  {
   "cell_type": "code",
   "execution_count": 561,
   "id": "6d8374fa",
   "metadata": {},
   "outputs": [
    {
     "data": {
      "text/plain": [
       "30000    2945.0\n",
       "35000    3960.0\n",
       "40000    1580.0\n",
       "45000    -540.0\n",
       "50000   -1000.0\n",
       "55000   -1000.0\n",
       "60000   -1000.0\n",
       "Name: mean, dtype: float64"
      ]
     },
     "execution_count": 561,
     "metadata": {},
     "output_type": "execute_result"
    }
   ],
   "source": [
    "df.describe().loc['mean', :] # $35,000 bid maximizes mean profit $3960"
   ]
  },
  {
   "cell_type": "code",
   "execution_count": 555,
   "id": "e9a1d250",
   "metadata": {},
   "outputs": [
    {
     "data": {
      "image/png": "[encoded data removed]",
      "text/plain": [
       "<Figure size 432x288 with 1 Axes>"
      ]
     },
     "metadata": {
      "needs_background": "light"
     },
     "output_type": "display_data"
    }
   ],
   "source": [
    "sns.boxplot(data=df);"
   ]
  },
  {
   "cell_type": "markdown",
   "id": "441aabbf",
   "metadata": {},
   "source": [
    "Ставка в размере 35 000 долларов США максимизирует среднюю прибыль."
   ]
  },
  {
   "cell_type": "markdown",
   "id": "0458c4fa",
   "metadata": {},
   "source": [
    "***\n",
    "Предположим, что вы предлагаете цену за нефтяную скважину, которая, по вашей оценке, должна принести 40 млн долларов (включая стоимость разработки и добычи нефти). В торгах участвуют еще три конкурента, и предложение каждого конкурента предположительно соответствует закону нормального распределения со средним значением 30 млн долларов и стандартным отклонением 4 млн долларов. Какое предложение вы должны сделать (с точностью до 1 млн долларов)?"
   ]
  }
 ],
 "metadata": {
  "kernelspec": {
   "display_name": "Python 3",
   "language": "python",
   "name": "python3"
  },
  "language_info": {
   "codemirror_mode": {
    "name": "ipython",
    "version": 3
   },
   "file_extension": ".py",
   "mimetype": "text/x-python",
   "name": "python",
   "nbconvert_exporter": "python",
   "pygments_lexer": "ipython3",
   "version": "3.8.3"
  }
 },
 "nbformat": 4,
 "nbformat_minor": 5
}
